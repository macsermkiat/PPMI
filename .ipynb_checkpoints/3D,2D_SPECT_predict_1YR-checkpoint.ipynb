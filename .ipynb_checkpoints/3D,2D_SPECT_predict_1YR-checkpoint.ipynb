{
 "cells": [
  {
   "cell_type": "code",
   "execution_count": 1,
   "metadata": {},
   "outputs": [],
   "source": [
    "# Put these at the top of every notebook, to get automatic reloading and inline plotting\n",
    "%reload_ext autoreload\n",
    "%autoreload 2\n",
    "%matplotlib inline"
   ]
  },
  {
   "cell_type": "code",
   "execution_count": 2,
   "metadata": {},
   "outputs": [],
   "source": [
    "# This file contains all the main external libs we'll use\n",
    "from fastai.imports import *\n",
    "#from fastai.transforms import *\n",
    "from fastai.conv_learner import *\n",
    "#from fastai.model import *\n",
    "#from fastai.dataset import *\n",
    "#from fastai.sgdr import *\n",
    "#from fastai.plots import *"
   ]
  },
  {
   "cell_type": "code",
   "execution_count": 3,
   "metadata": {},
   "outputs": [
    {
     "name": "stdout",
     "output_type": "stream",
     "text": [
      "0.4.0\n"
     ]
    }
   ],
   "source": [
    "print(torch.__version__)"
   ]
  },
  {
   "cell_type": "code",
   "execution_count": 4,
   "metadata": {},
   "outputs": [],
   "source": [
    "PATH = \"./\"\n",
    "SPECTPATH = Path(\"../data/PPMISPECT/\")"
   ]
  },
  {
   "cell_type": "code",
   "execution_count": 5,
   "metadata": {},
   "outputs": [],
   "source": [
    "import pydicom\n",
    "import glob\n",
    "import os\n",
    "import numpy\n",
    "import seaborn as sns\n",
    "from itertools import chain"
   ]
  },
  {
   "cell_type": "code",
   "execution_count": 6,
   "metadata": {
    "scrolled": true
   },
   "outputs": [
    {
     "data": {
      "text/plain": [
       "'for dirName, subdirList, fileList in os.walk(PathDicom):\\n    for filename in fileList:\\n        if \".dcm\" in filename.lower():  # check whether the file\\'s DICOM\\n            lstFilesDCM.append(os.path.join(dirName,filename))'"
      ]
     },
     "execution_count": 6,
     "metadata": {},
     "output_type": "execute_result"
    }
   ],
   "source": [
    "lstFilesDCM = []  # create an empty list\n",
    "'''for dirName, subdirList, fileList in os.walk(PathDicom):\n",
    "    for filename in fileList:\n",
    "        if \".dcm\" in filename.lower():  # check whether the file's DICOM\n",
    "            lstFilesDCM.append(os.path.join(dirName,filename))'''"
   ]
  },
  {
   "cell_type": "code",
   "execution_count": 7,
   "metadata": {},
   "outputs": [],
   "source": [
    "df1to4 = pd.read_csv('comandfile.csv')"
   ]
  },
  {
   "cell_type": "code",
   "execution_count": 8,
   "metadata": {},
   "outputs": [],
   "source": [
    "df1to4 = df1to4[~df1to4.Group.str.contains('Control')]"
   ]
  },
  {
   "cell_type": "code",
   "execution_count": 9,
   "metadata": {},
   "outputs": [],
   "source": [
    "df1to4 = df1to4[~df1to4.TOTAL3.isnull()]"
   ]
  },
  {
   "cell_type": "code",
   "execution_count": 10,
   "metadata": {},
   "outputs": [
    {
     "data": {
      "text/plain": [
       "Unnamed: 0       False\n",
       "Image Data ID    False\n",
       "Group            False\n",
       "Subject          False\n",
       "Age              False\n",
       "Sex              False\n",
       "Filenames        False\n",
       "TOTAL3           False\n",
       "1YR              False\n",
       "2YR              False\n",
       "3YR              False\n",
       "TOTAL3.1         False\n",
       "dtype: bool"
      ]
     },
     "execution_count": 10,
     "metadata": {},
     "output_type": "execute_result"
    }
   ],
   "source": [
    "df1to4.any().isnull()"
   ]
  },
  {
   "cell_type": "code",
   "execution_count": 11,
   "metadata": {},
   "outputs": [],
   "source": [
    "df1to4.loc[df1to4['Sex']=='F', 'is_M']=0\n",
    "df1to4.loc[df1to4['Sex']=='M', 'is_M']=1\n",
    "df1to4.loc[df1to4['Sex']=='F', 'is_F']=1\n",
    "df1to4.loc[df1to4['Sex']=='M', 'is_F']=0"
   ]
  },
  {
   "cell_type": "code",
   "execution_count": 12,
   "metadata": {},
   "outputs": [],
   "source": [
    "from sklearn.preprocessing import MinMaxScaler"
   ]
  },
  {
   "cell_type": "code",
   "execution_count": 13,
   "metadata": {},
   "outputs": [],
   "source": [
    "scale3 = MinMaxScaler()"
   ]
  },
  {
   "cell_type": "code",
   "execution_count": 14,
   "metadata": {},
   "outputs": [
    {
     "name": "stdout",
     "output_type": "stream",
     "text": [
      "MinMaxScaler(copy=True, feature_range=(0, 1))\n"
     ]
    }
   ],
   "source": [
    "print(scale3.fit(df1to4['TOTAL3'].values.reshape(-1,1)))"
   ]
  },
  {
   "cell_type": "code",
   "execution_count": 15,
   "metadata": {},
   "outputs": [],
   "source": [
    "df1to4['3scale'] = scale3.transform(df1to4['TOTAL3'].values.reshape(-1,1))"
   ]
  },
  {
   "cell_type": "code",
   "execution_count": 16,
   "metadata": {},
   "outputs": [],
   "source": [
    "from sklearn.model_selection import train_test_split\n",
    "X_train_tmp, X_test_tmp, param_train_tmp, param_test_tmp, y_train_tmp, y_test_tmp = train_test_split(df1to4, df1to4[['is_M','is_F','Age','TOTAL3']], df1to4['1YR'], test_size=0.2)\n",
    "\n",
    "from sklearn.model_selection import train_test_split\n",
    "X_train_tmp, X_val_tmp, param_train_tmp, param_val_tmp, y_train_tmp, y_val_tmp = train_test_split(X_train_tmp, param_train_tmp, y_train_tmp, test_size=0.3)"
   ]
  },
  {
   "cell_type": "code",
   "execution_count": 17,
   "metadata": {},
   "outputs": [],
   "source": [
    "lstFilesDCM_train = []  # create an empty list\n",
    "lstFilesDCM_test = []\n",
    "lstFilesDCM_val = []\n",
    "lstFilesDCM_train = X_train_tmp['Filenames'].values\n",
    "lstFilesDCM_train = lstFilesDCM_train.tolist()\n",
    "lstFilesDCM_test = X_test_tmp['Filenames'].values\n",
    "lstFilesDCM_test = lstFilesDCM_test.tolist()\n",
    "lstFilesDCM_val = X_val_tmp['Filenames'].values\n",
    "lstFilesDCM_val = lstFilesDCM_val.tolist()"
   ]
  },
  {
   "cell_type": "markdown",
   "metadata": {},
   "source": [
    "For NORMAL Image"
   ]
  },
  {
   "cell_type": "code",
   "execution_count": 18,
   "metadata": {},
   "outputs": [],
   "source": [
    "#Training Set"
   ]
  },
  {
   "cell_type": "code",
   "execution_count": 19,
   "metadata": {},
   "outputs": [],
   "source": [
    "ds = pydicom.read_file(str(SPECTPATH / lstFilesDCM_train[0]))"
   ]
  },
  {
   "cell_type": "code",
   "execution_count": 20,
   "metadata": {},
   "outputs": [
    {
     "data": {
      "text/plain": [
       "<matplotlib.image.AxesImage at 0x7fea25993a90>"
      ]
     },
     "execution_count": 20,
     "metadata": {},
     "output_type": "execute_result"
    },
    {
     "data": {
      "image/png": "[encoded data removed]",
      "text/plain": [
       "<Figure size 432x288 with 1 Axes>"
      ]
     },
     "metadata": {},
     "output_type": "display_data"
    }
   ],
   "source": [
    "plt.imshow(ds.pixel_array[50,:,:])"
   ]
  },
  {
   "cell_type": "code",
   "execution_count": null,
   "metadata": {},
   "outputs": [],
   "source": []
  },
  {
   "cell_type": "code",
   "execution_count": null,
   "metadata": {},
   "outputs": [],
   "source": []
  },
  {
   "cell_type": "code",
   "execution_count": 21,
   "metadata": {},
   "outputs": [
    {
     "data": {
      "text/plain": [
       "(1370, 91, 91, 109)"
      ]
     },
     "execution_count": 21,
     "metadata": {},
     "output_type": "execute_result"
    }
   ],
   "source": [
    "# loop through all the DICOM files\n",
    "image_array_train =[]\n",
    "image_array_train_flip = []\n",
    "\n",
    "for filenameDCM in lstFilesDCM_train:\n",
    "    ds = pydicom.read_file(str(SPECTPATH / filenameDCM))\n",
    "    #ds_3d = ds.pixel_array[30]\n",
    "    #for i in range(31,51):\n",
    "    #    ds_3d = np.dstack((ds_3d,ds.pixel_array[i]))\n",
    "\n",
    "    image_array_train.append(ds.pixel_array[:,:,:])\n",
    "    image_array_train_flip.append(ds.pixel_array[:,:,::-1])\n",
    "\n",
    "#image_array_train.append(image_array_train_flip)\n",
    "image_array_train = np.asarray(image_array_train)\n",
    "image_array_train_flip = np.asarray(image_array_train_flip)\n",
    "image_array_train = np.concatenate([image_array_train,image_array_train_flip])\n",
    "image_array_train = image_array_train.transpose(0,3,1,2)\n",
    "image_array_train.shape"
   ]
  },
  {
   "cell_type": "code",
   "execution_count": 22,
   "metadata": {},
   "outputs": [],
   "source": [
    "image_array_train= image_array_train.astype('float64')"
   ]
  },
  {
   "cell_type": "code",
   "execution_count": 23,
   "metadata": {},
   "outputs": [],
   "source": [
    "immin = image_array_train.min()\n",
    "ptp = image_array_train.ptp()"
   ]
  },
  {
   "cell_type": "code",
   "execution_count": 24,
   "metadata": {},
   "outputs": [],
   "source": [
    "image_array_train -= immin\n",
    "image_array_train /= ptp"
   ]
  },
  {
   "cell_type": "code",
   "execution_count": 25,
   "metadata": {},
   "outputs": [],
   "source": [
    "#Validation set"
   ]
  },
  {
   "cell_type": "code",
   "execution_count": 26,
   "metadata": {},
   "outputs": [
    {
     "data": {
      "text/plain": [
       "(294, 91, 91, 109)"
      ]
     },
     "execution_count": 26,
     "metadata": {},
     "output_type": "execute_result"
    }
   ],
   "source": [
    "# loop through all the DICOM files\n",
    "image_array_val =[]\n",
    "\n",
    "for filenameDCM in lstFilesDCM_val:\n",
    "    ds = pydicom.read_file(str(SPECTPATH / filenameDCM))\n",
    "    #ds_3d = ds.pixel_array[30]\n",
    "    #for i in range(31,51):\n",
    "    #    ds_3d = np.dstack((ds_3d,ds.pixel_array[i]))\n",
    "\n",
    "    image_array_val.append(ds.pixel_array[:,:,:])\n",
    "\n",
    "image_array_val = np.asarray(image_array_val, dtype='float64')\n",
    "image_array_val = image_array_val.transpose(0,3,1,2)\n",
    "image_array_val -= immin\n",
    "image_array_val /= ptp\n",
    "image_array_val.shape"
   ]
  },
  {
   "cell_type": "code",
   "execution_count": null,
   "metadata": {},
   "outputs": [],
   "source": []
  },
  {
   "cell_type": "code",
   "execution_count": 27,
   "metadata": {},
   "outputs": [],
   "source": [
    "#Test set"
   ]
  },
  {
   "cell_type": "code",
   "execution_count": 28,
   "metadata": {},
   "outputs": [
    {
     "data": {
      "text/plain": [
       "(245, 91, 91, 109)"
      ]
     },
     "execution_count": 28,
     "metadata": {},
     "output_type": "execute_result"
    }
   ],
   "source": [
    "# loop through all the DICOM files\n",
    "image_array_test =[]\n",
    "\n",
    "for filenameDCM in lstFilesDCM_test:\n",
    "    ds = pydicom.read_file(str(SPECTPATH / filenameDCM))\n",
    "    #ds_3d = ds.pixel_array[30]\n",
    "    #for i in range(31,51):\n",
    "    #    ds_3d = np.dstack((ds_3d,ds.pixel_array[i]))\n",
    "\n",
    "    image_array_test.append(ds.pixel_array[:,:,:])\n",
    "\n",
    "image_array_test = np.asarray(image_array_test, dtype='float64')\n",
    "image_array_test = image_array_test.transpose(0,3,1,2)\n",
    "image_array_test -= immin\n",
    "image_array_test /= ptp\n",
    "image_array_test.shape "
   ]
  },
  {
   "cell_type": "code",
   "execution_count": null,
   "metadata": {},
   "outputs": [],
   "source": []
  },
  {
   "cell_type": "code",
   "execution_count": 29,
   "metadata": {
    "scrolled": true
   },
   "outputs": [],
   "source": [
    "y_train = y_train_tmp.values\n",
    "#y_train = np.hstack((y_train,y_train,y_train))\n",
    "y_train = np.hstack((y_train,y_train))\n",
    "y_val = y_val_tmp.values\n",
    "#y_val= np.hstack((y_val,y_val,y_val))\n",
    "y_test = y_test_tmp.values\n",
    "#y_val= np.hstack((y_val,y_val,y_val))"
   ]
  },
  {
   "cell_type": "code",
   "execution_count": 30,
   "metadata": {},
   "outputs": [
    {
     "data": {
      "text/plain": [
       "((1370,), (294,), (245,))"
      ]
     },
     "execution_count": 30,
     "metadata": {},
     "output_type": "execute_result"
    }
   ],
   "source": [
    "y_train.shape,y_val.shape,y_test.shape"
   ]
  },
  {
   "cell_type": "code",
   "execution_count": 31,
   "metadata": {},
   "outputs": [],
   "source": [
    "param_train = param_train_tmp.values\n",
    "params = []\n",
    "for i in param_train:\n",
    "    #stack = []\n",
    "    #stack.append(i)\n",
    "    #stack = stack*10\n",
    "    params.append(i)\n",
    "param_train = np.asarray(params)\n",
    "del(params)"
   ]
  },
  {
   "cell_type": "code",
   "execution_count": 32,
   "metadata": {},
   "outputs": [],
   "source": [
    "param_val = param_val_tmp.values\n",
    "params = []\n",
    "for i in param_val:\n",
    "    #stack = []\n",
    "    #stack.append(i)\n",
    "    #stack = stack*10\n",
    "    params.append(i)\n",
    "param_val = np.asarray(params)\n",
    "del(params)\n",
    "\n",
    "param_test = param_test_tmp.values\n",
    "params = []\n",
    "for i in param_test:\n",
    "    #stack = []\n",
    "    #stack.append(i)\n",
    "    #stack = stack*10\n",
    "    params.append(i)\n",
    "param_test = np.asarray(params)\n",
    "del(params)"
   ]
  },
  {
   "cell_type": "code",
   "execution_count": 33,
   "metadata": {},
   "outputs": [],
   "source": [
    "#x6 Param match training Image\n",
    "#param_train = np.vstack((param_train,param_train,param_train))\n",
    "param_train = np.vstack((param_train,param_train))"
   ]
  },
  {
   "cell_type": "code",
   "execution_count": 34,
   "metadata": {},
   "outputs": [
    {
     "data": {
      "text/plain": [
       "(1370, 4)"
      ]
     },
     "execution_count": 34,
     "metadata": {},
     "output_type": "execute_result"
    }
   ],
   "source": [
    "param_train.shape"
   ]
  },
  {
   "cell_type": "markdown",
   "metadata": {},
   "source": [
    "## 3d"
   ]
  },
  {
   "cell_type": "markdown",
   "metadata": {},
   "source": [
    "### Load dataset"
   ]
  },
  {
   "cell_type": "code",
   "execution_count": 36,
   "metadata": {},
   "outputs": [],
   "source": [
    "X_train = torch.utils.data.DataLoader(image_array_train, batch_size=2)\n",
    "param_train = torch.utils.data.DataLoader(param_train, batch_size=2)\n",
    "y_train = torch.utils.data.DataLoader(y_train, batch_size=2)\n",
    "X_val = torch.utils.data.DataLoader(image_array_val, batch_size=2)\n",
    "param_val = torch.utils.data.DataLoader(param_val, batch_size=2)\n",
    "y_val = torch.utils.data.DataLoader(y_val, batch_size=2)\n",
    "X_test = torch.utils.data.DataLoader(image_array_test, batch_size=4)\n",
    "param_test = torch.utils.data.DataLoader(param_test, batch_size=4)\n",
    "y_test = torch.utils.data.DataLoader(y_test, batch_size=4)\n",
    "\n",
    "del(image_array_train,image_array_val,image_array_test)\n",
    "del(X_train_tmp,X_val_tmp,X_test_tmp,y_train_tmp,y_val_tmp,y_test_tmp,param_train_tmp,param_val_tmp,param_test_tmp)"
   ]
  },
  {
   "cell_type": "code",
   "execution_count": null,
   "metadata": {},
   "outputs": [],
   "source": []
  },
  {
   "cell_type": "markdown",
   "metadata": {},
   "source": [
    "### Darknet"
   ]
  },
  {
   "cell_type": "code",
   "execution_count": 37,
   "metadata": {},
   "outputs": [],
   "source": [
    "def conv_layer(ni, nf, ks=3, stride=1):\n",
    "    return nn.Sequential(\n",
    "        nn.Conv3d(ni, nf, kernel_size=ks, bias=False, stride=stride, padding=ks//2),\n",
    "        nn.BatchNorm3d(nf, momentum=0.01),\n",
    "        nn.LeakyReLU(negative_slope=0.1, inplace=False))\n",
    "\n",
    "class ResLayer(nn.Module):\n",
    "    def __init__(self, ni):\n",
    "        super().__init__()\n",
    "        self.conv1=conv_layer(ni, ni//2, ks=1)\n",
    "        self.conv2=conv_layer(ni//2, ni, ks=3)\n",
    "        \n",
    "    def forward(self, x): return x.add_(self.conv2(self.conv1(x.clone())))\n",
    "\n",
    "class Darknet(nn.Module):\n",
    "    def make_group_layer(self, ch_in, num_blocks, stride=1):\n",
    "        return [conv_layer(ch_in, ch_in*2,stride=stride)\n",
    "               ] + [(ResLayer(ch_in*2)) for i in range(num_blocks)]\n",
    "\n",
    "    def __init__(self, num_blocks, num_classes, nf=32):\n",
    "        super().__init__()\n",
    "        #Weight init Kaiming's\n",
    "        for m in self.modules():\n",
    "            if isinstance(m, nn.Conv3d):\n",
    "                m.weight = nn.init.kaiming_normal(m.weight, mode='fan_out')\n",
    "            elif isinstance(m, nn.BatchNorm3d):\n",
    "                m.weight.data.fill_(1)\n",
    "                m.bias.data.zero_()\n",
    "            elif isinstance(m, nn.Linear):\n",
    "                m.weight = nn.init.kaiming_normal(m.weight, mode='fan_out')\n",
    "                \n",
    "                \n",
    "        features = [conv_layer(1, nf, ks=3, stride=1)]\n",
    "        for i,nb in enumerate(num_blocks):\n",
    "            features += self.make_group_layer(nf, nb, stride=2-(i==1))\n",
    "            nf *= 2                        \n",
    "        features += [nn.AdaptiveAvgPool3d(1), Flatten()]        \n",
    "        self.features = nn.Sequential(*features)\n",
    "        fc1 = [nn.Linear(512, 128), nn.LeakyReLU(negative_slope=0.1, inplace=False), nn.Dropout(0.5)]\n",
    "        self.fc1 = nn.Sequential(*fc1)\n",
    "        fc2 = [nn.Linear(132, 64), nn.LeakyReLU(negative_slope=0.1, inplace=False),nn.Dropout(0.5)]\n",
    "        self.fc2 = nn.Sequential(*fc2)\n",
    "        self.layers = nn.Sequential(nn.Linear(64,1))\n",
    "        \n",
    "    def forward(self, x, y):\n",
    "        x = x.unsqueeze(1)\n",
    "        x = self.features(x)\n",
    "        x = self.fc1(x)\n",
    "        y = y.view(-1,1,4)\n",
    "        x = torch.cat((x,y[:,:,0],y[:,:,1],y[:,:,2],y[:,:,3]),1)\n",
    "        x = self.fc2(x)       \n",
    "        return self.layers(x)\n"
   ]
  },
  {
   "cell_type": "code",
   "execution_count": null,
   "metadata": {},
   "outputs": [],
   "source": []
  },
  {
   "cell_type": "code",
   "execution_count": 38,
   "metadata": {},
   "outputs": [
    {
     "data": {
      "text/plain": [
       "Darknet(\n",
       "  (features): Sequential(\n",
       "    (0): Sequential(\n",
       "      (0): Conv3d(1, 32, kernel_size=(3, 3, 3), stride=(1, 1, 1), padding=(1, 1, 1), bias=False)\n",
       "      (1): BatchNorm3d(32, eps=1e-05, momentum=0.01, affine=True, track_running_stats=True)\n",
       "      (2): LeakyReLU(negative_slope=0.1)\n",
       "    )\n",
       "    (1): Sequential(\n",
       "      (0): Conv3d(32, 64, kernel_size=(3, 3, 3), stride=(2, 2, 2), padding=(1, 1, 1), bias=False)\n",
       "      (1): BatchNorm3d(64, eps=1e-05, momentum=0.01, affine=True, track_running_stats=True)\n",
       "      (2): LeakyReLU(negative_slope=0.1)\n",
       "    )\n",
       "    (2): ResLayer(\n",
       "      (conv1): Sequential(\n",
       "        (0): Conv3d(64, 32, kernel_size=(1, 1, 1), stride=(1, 1, 1), bias=False)\n",
       "        (1): BatchNorm3d(32, eps=1e-05, momentum=0.01, affine=True, track_running_stats=True)\n",
       "        (2): LeakyReLU(negative_slope=0.1)\n",
       "      )\n",
       "      (conv2): Sequential(\n",
       "        (0): Conv3d(32, 64, kernel_size=(3, 3, 3), stride=(1, 1, 1), padding=(1, 1, 1), bias=False)\n",
       "        (1): BatchNorm3d(64, eps=1e-05, momentum=0.01, affine=True, track_running_stats=True)\n",
       "        (2): LeakyReLU(negative_slope=0.1)\n",
       "      )\n",
       "    )\n",
       "    (3): Sequential(\n",
       "      (0): Conv3d(64, 128, kernel_size=(3, 3, 3), stride=(1, 1, 1), padding=(1, 1, 1), bias=False)\n",
       "      (1): BatchNorm3d(128, eps=1e-05, momentum=0.01, affine=True, track_running_stats=True)\n",
       "      (2): LeakyReLU(negative_slope=0.1)\n",
       "    )\n",
       "    (4): ResLayer(\n",
       "      (conv1): Sequential(\n",
       "        (0): Conv3d(128, 64, kernel_size=(1, 1, 1), stride=(1, 1, 1), bias=False)\n",
       "        (1): BatchNorm3d(64, eps=1e-05, momentum=0.01, affine=True, track_running_stats=True)\n",
       "        (2): LeakyReLU(negative_slope=0.1)\n",
       "      )\n",
       "      (conv2): Sequential(\n",
       "        (0): Conv3d(64, 128, kernel_size=(3, 3, 3), stride=(1, 1, 1), padding=(1, 1, 1), bias=False)\n",
       "        (1): BatchNorm3d(128, eps=1e-05, momentum=0.01, affine=True, track_running_stats=True)\n",
       "        (2): LeakyReLU(negative_slope=0.1)\n",
       "      )\n",
       "    )\n",
       "    (5): ResLayer(\n",
       "      (conv1): Sequential(\n",
       "        (0): Conv3d(128, 64, kernel_size=(1, 1, 1), stride=(1, 1, 1), bias=False)\n",
       "        (1): BatchNorm3d(64, eps=1e-05, momentum=0.01, affine=True, track_running_stats=True)\n",
       "        (2): LeakyReLU(negative_slope=0.1)\n",
       "      )\n",
       "      (conv2): Sequential(\n",
       "        (0): Conv3d(64, 128, kernel_size=(3, 3, 3), stride=(1, 1, 1), padding=(1, 1, 1), bias=False)\n",
       "        (1): BatchNorm3d(128, eps=1e-05, momentum=0.01, affine=True, track_running_stats=True)\n",
       "        (2): LeakyReLU(negative_slope=0.1)\n",
       "      )\n",
       "    )\n",
       "    (6): Sequential(\n",
       "      (0): Conv3d(128, 256, kernel_size=(3, 3, 3), stride=(2, 2, 2), padding=(1, 1, 1), bias=False)\n",
       "      (1): BatchNorm3d(256, eps=1e-05, momentum=0.01, affine=True, track_running_stats=True)\n",
       "      (2): LeakyReLU(negative_slope=0.1)\n",
       "    )\n",
       "    (7): ResLayer(\n",
       "      (conv1): Sequential(\n",
       "        (0): Conv3d(256, 128, kernel_size=(1, 1, 1), stride=(1, 1, 1), bias=False)\n",
       "        (1): BatchNorm3d(128, eps=1e-05, momentum=0.01, affine=True, track_running_stats=True)\n",
       "        (2): LeakyReLU(negative_slope=0.1)\n",
       "      )\n",
       "      (conv2): Sequential(\n",
       "        (0): Conv3d(128, 256, kernel_size=(3, 3, 3), stride=(1, 1, 1), padding=(1, 1, 1), bias=False)\n",
       "        (1): BatchNorm3d(256, eps=1e-05, momentum=0.01, affine=True, track_running_stats=True)\n",
       "        (2): LeakyReLU(negative_slope=0.1)\n",
       "      )\n",
       "    )\n",
       "    (8): ResLayer(\n",
       "      (conv1): Sequential(\n",
       "        (0): Conv3d(256, 128, kernel_size=(1, 1, 1), stride=(1, 1, 1), bias=False)\n",
       "        (1): BatchNorm3d(128, eps=1e-05, momentum=0.01, affine=True, track_running_stats=True)\n",
       "        (2): LeakyReLU(negative_slope=0.1)\n",
       "      )\n",
       "      (conv2): Sequential(\n",
       "        (0): Conv3d(128, 256, kernel_size=(3, 3, 3), stride=(1, 1, 1), padding=(1, 1, 1), bias=False)\n",
       "        (1): BatchNorm3d(256, eps=1e-05, momentum=0.01, affine=True, track_running_stats=True)\n",
       "        (2): LeakyReLU(negative_slope=0.1)\n",
       "      )\n",
       "    )\n",
       "    (9): ResLayer(\n",
       "      (conv1): Sequential(\n",
       "        (0): Conv3d(256, 128, kernel_size=(1, 1, 1), stride=(1, 1, 1), bias=False)\n",
       "        (1): BatchNorm3d(128, eps=1e-05, momentum=0.01, affine=True, track_running_stats=True)\n",
       "        (2): LeakyReLU(negative_slope=0.1)\n",
       "      )\n",
       "      (conv2): Sequential(\n",
       "        (0): Conv3d(128, 256, kernel_size=(3, 3, 3), stride=(1, 1, 1), padding=(1, 1, 1), bias=False)\n",
       "        (1): BatchNorm3d(256, eps=1e-05, momentum=0.01, affine=True, track_running_stats=True)\n",
       "        (2): LeakyReLU(negative_slope=0.1)\n",
       "      )\n",
       "    )\n",
       "    (10): ResLayer(\n",
       "      (conv1): Sequential(\n",
       "        (0): Conv3d(256, 128, kernel_size=(1, 1, 1), stride=(1, 1, 1), bias=False)\n",
       "        (1): BatchNorm3d(128, eps=1e-05, momentum=0.01, affine=True, track_running_stats=True)\n",
       "        (2): LeakyReLU(negative_slope=0.1)\n",
       "      )\n",
       "      (conv2): Sequential(\n",
       "        (0): Conv3d(128, 256, kernel_size=(3, 3, 3), stride=(1, 1, 1), padding=(1, 1, 1), bias=False)\n",
       "        (1): BatchNorm3d(256, eps=1e-05, momentum=0.01, affine=True, track_running_stats=True)\n",
       "        (2): LeakyReLU(negative_slope=0.1)\n",
       "      )\n",
       "    )\n",
       "    (11): Sequential(\n",
       "      (0): Conv3d(256, 512, kernel_size=(3, 3, 3), stride=(2, 2, 2), padding=(1, 1, 1), bias=False)\n",
       "      (1): BatchNorm3d(512, eps=1e-05, momentum=0.01, affine=True, track_running_stats=True)\n",
       "      (2): LeakyReLU(negative_slope=0.1)\n",
       "    )\n",
       "    (12): ResLayer(\n",
       "      (conv1): Sequential(\n",
       "        (0): Conv3d(512, 256, kernel_size=(1, 1, 1), stride=(1, 1, 1), bias=False)\n",
       "        (1): BatchNorm3d(256, eps=1e-05, momentum=0.01, affine=True, track_running_stats=True)\n",
       "        (2): LeakyReLU(negative_slope=0.1)\n",
       "      )\n",
       "      (conv2): Sequential(\n",
       "        (0): Conv3d(256, 512, kernel_size=(3, 3, 3), stride=(1, 1, 1), padding=(1, 1, 1), bias=False)\n",
       "        (1): BatchNorm3d(512, eps=1e-05, momentum=0.01, affine=True, track_running_stats=True)\n",
       "        (2): LeakyReLU(negative_slope=0.1)\n",
       "      )\n",
       "    )\n",
       "    (13): ResLayer(\n",
       "      (conv1): Sequential(\n",
       "        (0): Conv3d(512, 256, kernel_size=(1, 1, 1), stride=(1, 1, 1), bias=False)\n",
       "        (1): BatchNorm3d(256, eps=1e-05, momentum=0.01, affine=True, track_running_stats=True)\n",
       "        (2): LeakyReLU(negative_slope=0.1)\n",
       "      )\n",
       "      (conv2): Sequential(\n",
       "        (0): Conv3d(256, 512, kernel_size=(3, 3, 3), stride=(1, 1, 1), padding=(1, 1, 1), bias=False)\n",
       "        (1): BatchNorm3d(512, eps=1e-05, momentum=0.01, affine=True, track_running_stats=True)\n",
       "        (2): LeakyReLU(negative_slope=0.1)\n",
       "      )\n",
       "    )\n",
       "    (14): ResLayer(\n",
       "      (conv1): Sequential(\n",
       "        (0): Conv3d(512, 256, kernel_size=(1, 1, 1), stride=(1, 1, 1), bias=False)\n",
       "        (1): BatchNorm3d(256, eps=1e-05, momentum=0.01, affine=True, track_running_stats=True)\n",
       "        (2): LeakyReLU(negative_slope=0.1)\n",
       "      )\n",
       "      (conv2): Sequential(\n",
       "        (0): Conv3d(256, 512, kernel_size=(3, 3, 3), stride=(1, 1, 1), padding=(1, 1, 1), bias=False)\n",
       "        (1): BatchNorm3d(512, eps=1e-05, momentum=0.01, affine=True, track_running_stats=True)\n",
       "        (2): LeakyReLU(negative_slope=0.1)\n",
       "      )\n",
       "    )\n",
       "    (15): AdaptiveAvgPool3d(output_size=1)\n",
       "    (16): Flatten()\n",
       "  )\n",
       "  (fc1): Sequential(\n",
       "    (0): Linear(in_features=512, out_features=128, bias=True)\n",
       "    (1): LeakyReLU(negative_slope=0.1)\n",
       "    (2): Dropout(p=0.5)\n",
       "  )\n",
       "  (fc2): Sequential(\n",
       "    (0): Linear(in_features=132, out_features=64, bias=True)\n",
       "    (1): LeakyReLU(negative_slope=0.1)\n",
       "    (2): Dropout(p=0.5)\n",
       "  )\n",
       "  (layers): Sequential(\n",
       "    (0): Linear(in_features=64, out_features=1, bias=True)\n",
       "  )\n",
       ")"
      ]
     },
     "execution_count": 38,
     "metadata": {},
     "output_type": "execute_result"
    }
   ],
   "source": [
    "m = Darknet([1,2,4,3], num_classes=1, nf=32)\n",
    "m.double()\n",
    "#m = nn.DataParallel(m, [1,2,3])"
   ]
  },
  {
   "cell_type": "code",
   "execution_count": 40,
   "metadata": {},
   "outputs": [],
   "source": [
    "m.load_state_dict(torch.load('3D_SPECT_predict_1YR.pth'))"
   ]
  },
  {
   "cell_type": "code",
   "execution_count": 41,
   "metadata": {
    "scrolled": false
   },
   "outputs": [
    {
     "name": "stdout",
     "output_type": "stream",
     "text": [
      "cuda:0\n"
     ]
    }
   ],
   "source": [
    "device = torch.device(\"cuda:0\" if torch.cuda.is_available() else \"cpu\")\n",
    "#device = \"cpu\"\n",
    "m.to(device)\n",
    "print(device)"
   ]
  },
  {
   "cell_type": "code",
   "execution_count": 42,
   "metadata": {},
   "outputs": [],
   "source": [
    "optimizer = optim.Adam(m.parameters(),lr=1e-3)\n",
    "criterion = nn.MSELoss().cuda()\n",
    "scheduler = optim.lr_scheduler.ExponentialLR(optimizer, gamma = 0.95)"
   ]
  },
  {
   "cell_type": "markdown",
   "metadata": {},
   "source": [
    "### Train"
   ]
  },
  {
   "cell_type": "code",
   "execution_count": 57,
   "metadata": {},
   "outputs": [],
   "source": [
    "losslog=[]\n",
    "vallog=[]"
   ]
  },
  {
   "cell_type": "code",
   "execution_count": 58,
   "metadata": {},
   "outputs": [],
   "source": [
    "def train(niter):\n",
    "    for epoch in trange(niter):  # loop over the dataset multiple times\n",
    "        running_loss = 0.0        \n",
    "\n",
    "        m.train(True)\n",
    "        scheduler.step()\n",
    "        with tqdm(total=len(X_train)) as pbar:\n",
    "            for i, (x, p, y) in enumerate(zip(X_train,param_train,y_train)):\n",
    "                x,p,y = x.to(device), p.to(device),y.to(device)\n",
    "\n",
    "                i += 1\n",
    "                # zero the parameter gradients\n",
    "                optimizer.zero_grad()\n",
    "\n",
    "                # forward + backward + optimize\n",
    "                outputs = m(x,p)\n",
    "                loss = criterion(outputs,y.unsqueeze(1))\n",
    "                loss.backward()\n",
    "                for param in optimizer.param_groups[0]['params']:\n",
    "                    param.data = param.data.add(-0.0001 * optimizer.param_groups[0]['lr'], param.data)\n",
    "                optimizer.step()\n",
    "\n",
    "                pbar.update()\n",
    "\n",
    "                # print statistics\n",
    "                running_loss += loss.item()\n",
    "                if i % 20 == 19:    # print every 20 mini-batches\n",
    "                    print('[%d, %5d]  Train MSE loss: %.3f' %\n",
    "                          (epoch + 1, i + 1, running_loss / 20))\n",
    "                    losslog.append(running_loss/20)\n",
    "                    running_loss = 0.0\n",
    "                    \n",
    "            #Eval\n",
    "        with tqdm(total=len(X_val)) as pbar:\n",
    "            with torch.no_grad():\n",
    "                predicted =[]\n",
    "                for i, ( x, p, y) in enumerate(zip(X_val,param_val,y_val)):\n",
    "                    x,p,y = x.to(device), p.to(device),y.to(device)\n",
    "\n",
    "                    # forward + backward + optimize\n",
    "                    outputs = m(x,p)\n",
    "                    pred = outputs.squeeze(1).cpu().numpy().tolist()\n",
    "                    predicted.append(pred)\n",
    "                    pbar.update()\n",
    "\n",
    "                predicted = list(chain.from_iterable(predicted))\n",
    "                valloss = ((predicted-y_val.dataset) **2).mean()\n",
    "                #valloss = abs(predicted-y_val.dataset).sum()/len(y_val.dataset)\n",
    "                vallog.append(valloss)\n",
    "                print(f'Val MSE loss: {valloss}')\n",
    "            \n",
    "    print('Finished Training')\n",
    "    return losslog,vallog"
   ]
  },
  {
   "cell_type": "markdown",
   "metadata": {},
   "source": [
    "#### Train"
   ]
  },
  {
   "cell_type": "code",
   "execution_count": 43,
   "metadata": {
    "scrolled": true
   },
   "outputs": [
    {
     "name": "stdout",
     "output_type": "stream",
     "text": [
      "  3%|▎         | 19/685 [01:35<58:59,  5.31s/it][1,    20]  Train MSE loss: 788.151\n",
      "  6%|▌         | 39/685 [03:22<57:25,  5.33s/it][1,    40]  Train MSE loss: 237.248\n",
      "  9%|▊         | 59/685 [05:09<55:50,  5.35s/it][1,    60]  Train MSE loss: 198.418\n",
      " 12%|█▏        | 79/685 [06:56<54:06,  5.36s/it][1,    80]  Train MSE loss: 107.579\n",
      " 14%|█▍        | 99/685 [08:43<52:11,  5.34s/it][1,   100]  Train MSE loss: 137.781\n",
      " 17%|█▋        | 119/685 [10:30<50:25,  5.35s/it][1,   120]  Train MSE loss: 165.994\n",
      " 20%|██        | 139/685 [12:16<48:35,  5.34s/it][1,   140]  Train MSE loss: 153.458\n",
      " 23%|██▎       | 159/685 [14:03<46:56,  5.36s/it][1,   160]  Train MSE loss: 115.911\n",
      " 26%|██▌       | 179/685 [15:50<45:05,  5.35s/it][1,   180]  Train MSE loss: 135.548\n",
      " 29%|██▉       | 199/685 [17:37<43:14,  5.34s/it][1,   200]  Train MSE loss: 159.451\n",
      " 32%|███▏      | 219/685 [19:24<41:30,  5.34s/it][1,   220]  Train MSE loss: 106.774\n",
      " 35%|███▍      | 239/685 [21:11<39:41,  5.34s/it][1,   240]  Train MSE loss: 129.179\n",
      " 38%|███▊      | 259/685 [22:58<37:57,  5.35s/it][1,   260]  Train MSE loss: 139.484\n",
      " 41%|████      | 279/685 [24:45<36:10,  5.35s/it][1,   280]  Train MSE loss: 158.624\n",
      " 44%|████▎     | 299/685 [26:32<34:28,  5.36s/it][1,   300]  Train MSE loss: 129.234\n",
      " 47%|████▋     | 319/685 [28:19<32:37,  5.35s/it][1,   320]  Train MSE loss: 171.781\n",
      " 49%|████▉     | 339/685 [30:06<30:54,  5.36s/it][1,   340]  Train MSE loss: 121.159\n",
      " 52%|█████▏    | 359/685 [31:53<28:58,  5.33s/it][1,   360]  Train MSE loss: 194.412\n",
      " 55%|█████▌    | 379/685 [33:40<27:14,  5.34s/it][1,   380]  Train MSE loss: 119.227\n",
      " 58%|█████▊    | 399/685 [35:27<25:29,  5.35s/it][1,   400]  Train MSE loss: 64.584\n",
      " 61%|██████    | 419/685 [37:14<23:39,  5.34s/it][1,   420]  Train MSE loss: 137.254\n",
      " 64%|██████▍   | 439/685 [39:00<21:53,  5.34s/it][1,   440]  Train MSE loss: 89.430\n",
      " 67%|██████▋   | 459/685 [40:47<20:04,  5.33s/it][1,   460]  Train MSE loss: 119.137\n",
      " 70%|██████▉   | 479/685 [42:34<18:20,  5.34s/it][1,   480]  Train MSE loss: 116.555\n",
      " 73%|███████▎  | 499/685 [44:21<16:36,  5.36s/it][1,   500]  Train MSE loss: 73.103\n",
      " 76%|███████▌  | 519/685 [46:08<14:47,  5.34s/it][1,   520]  Train MSE loss: 101.737\n",
      " 79%|███████▊  | 539/685 [47:55<12:59,  5.34s/it][1,   540]  Train MSE loss: 94.996\n",
      " 82%|████████▏ | 559/685 [49:42<11:14,  5.36s/it][1,   560]  Train MSE loss: 115.237\n",
      " 85%|████████▍ | 579/685 [51:28<09:23,  5.32s/it][1,   580]  Train MSE loss: 130.385\n",
      " 87%|████████▋ | 599/685 [53:15<07:38,  5.33s/it][1,   600]  Train MSE loss: 90.834\n",
      " 90%|█████████ | 619/685 [55:02<05:52,  5.34s/it][1,   620]  Train MSE loss: 119.715\n",
      " 93%|█████████▎| 639/685 [56:49<04:05,  5.34s/it][1,   640]  Train MSE loss: 104.539\n",
      " 96%|█████████▌| 659/685 [58:35<02:18,  5.32s/it][1,   660]  Train MSE loss: 115.272\n",
      " 99%|█████████▉| 679/685 [1:00:22<00:32,  5.37s/it][1,   680]  Train MSE loss: 91.870\n",
      "100%|██████████| 685/685 [1:00:55<00:00,  5.36s/it]\n",
      "100%|██████████| 147/147 [03:26<00:00,  1.41s/it]Val MSE loss: 116.06931749108179\n",
      "\n",
      "100%|██████████| 1/1 [1:04:25<00:00, 3865.83s/it]Finished Training\n"
     ]
    }
   ],
   "source": [
    "TT = train(1)"
   ]
  },
  {
   "cell_type": "code",
   "execution_count": 59,
   "metadata": {},
   "outputs": [
    {
     "name": "stdout",
     "output_type": "stream",
     "text": [
      "  3%|▎         | 19/685 [01:36<59:08,  5.33s/it][1,    20]  Train MSE loss: 60.215\n",
      "  6%|▌         | 39/685 [03:23<57:35,  5.35s/it][1,    40]  Train MSE loss: 71.356\n",
      "  9%|▊         | 59/685 [05:10<55:47,  5.35s/it][1,    60]  Train MSE loss: 67.776\n",
      " 12%|█▏        | 79/685 [06:57<54:00,  5.35s/it][1,    80]  Train MSE loss: 61.361\n",
      " 14%|█▍        | 99/685 [08:44<52:07,  5.34s/it][1,   100]  Train MSE loss: 76.340\n",
      " 17%|█▋        | 119/685 [10:31<50:32,  5.36s/it][1,   120]  Train MSE loss: 61.984\n",
      " 20%|██        | 139/685 [12:18<48:36,  5.34s/it][1,   140]  Train MSE loss: 81.029\n",
      " 23%|██▎       | 159/685 [14:04<46:51,  5.35s/it][1,   160]  Train MSE loss: 67.930\n",
      " 26%|██▌       | 179/685 [15:51<44:57,  5.33s/it][1,   180]  Train MSE loss: 41.841\n",
      " 29%|██▉       | 199/685 [17:38<43:16,  5.34s/it][1,   200]  Train MSE loss: 55.716\n",
      " 32%|███▏      | 219/685 [19:25<41:34,  5.35s/it][1,   220]  Train MSE loss: 44.811\n",
      " 35%|███▍      | 239/685 [21:12<39:35,  5.33s/it][1,   240]  Train MSE loss: 56.931\n",
      " 38%|███▊      | 259/685 [22:58<37:55,  5.34s/it][1,   260]  Train MSE loss: 44.885\n",
      " 41%|████      | 279/685 [24:45<36:10,  5.35s/it][1,   280]  Train MSE loss: 45.037\n",
      " 44%|████▎     | 299/685 [26:32<34:25,  5.35s/it][1,   300]  Train MSE loss: 63.808\n",
      " 47%|████▋     | 319/685 [28:19<32:29,  5.33s/it][1,   320]  Train MSE loss: 45.475\n",
      " 49%|████▉     | 339/685 [30:06<30:50,  5.35s/it][1,   340]  Train MSE loss: 40.386\n",
      " 52%|█████▏    | 359/685 [31:53<28:56,  5.33s/it][1,   360]  Train MSE loss: 79.118\n",
      " 55%|█████▌    | 379/685 [33:39<27:14,  5.34s/it][1,   380]  Train MSE loss: 57.717\n",
      " 58%|█████▊    | 399/685 [35:26<25:23,  5.33s/it][1,   400]  Train MSE loss: 57.873\n",
      " 61%|██████    | 419/685 [37:13<23:37,  5.33s/it][1,   420]  Train MSE loss: 71.086\n",
      " 64%|██████▍   | 439/685 [38:59<21:51,  5.33s/it][1,   440]  Train MSE loss: 78.656\n",
      " 67%|██████▋   | 459/685 [40:46<20:11,  5.36s/it][1,   460]  Train MSE loss: 53.238\n",
      " 70%|██████▉   | 479/685 [42:33<18:20,  5.34s/it][1,   480]  Train MSE loss: 63.754\n",
      " 73%|███████▎  | 499/685 [44:20<16:36,  5.36s/it][1,   500]  Train MSE loss: 53.169\n",
      " 76%|███████▌  | 519/685 [46:07<14:49,  5.36s/it][1,   520]  Train MSE loss: 38.514\n",
      " 79%|███████▊  | 539/685 [47:54<12:56,  5.32s/it][1,   540]  Train MSE loss: 65.988\n",
      " 82%|████████▏ | 559/685 [49:40<11:14,  5.35s/it][1,   560]  Train MSE loss: 54.796\n",
      " 85%|████████▍ | 579/685 [51:27<09:27,  5.35s/it][1,   580]  Train MSE loss: 44.225\n",
      " 87%|████████▋ | 599/685 [53:14<07:38,  5.33s/it][1,   600]  Train MSE loss: 45.376\n",
      " 90%|█████████ | 619/685 [55:01<05:51,  5.33s/it][1,   620]  Train MSE loss: 59.627\n",
      " 93%|█████████▎| 639/685 [56:48<04:05,  5.35s/it][1,   640]  Train MSE loss: 84.162\n",
      " 96%|█████████▌| 659/685 [58:34<02:18,  5.34s/it][1,   660]  Train MSE loss: 43.321\n",
      " 99%|█████████▉| 679/685 [1:00:21<00:32,  5.35s/it][1,   680]  Train MSE loss: 65.768\n",
      "100%|██████████| 685/685 [1:00:53<00:00,  5.33s/it]\n",
      "100%|██████████| 147/147 [03:26<00:00,  1.41s/it]Val MSE loss: 70.41748840830513\n",
      "\n",
      "  3%|▎         | 19/685 [01:37<59:02,  5.32s/it]it][2,    20]  Train MSE loss: 37.712\n",
      "  6%|▌         | 39/685 [03:24<57:28,  5.34s/it][2,    40]  Train MSE loss: 96.834\n",
      "  9%|▊         | 59/685 [05:10<55:33,  5.32s/it][2,    60]  Train MSE loss: 51.959\n",
      " 12%|█▏        | 79/685 [06:57<53:57,  5.34s/it][2,    80]  Train MSE loss: 61.291\n",
      " 14%|█▍        | 99/685 [08:44<52:09,  5.34s/it][2,   100]  Train MSE loss: 68.551\n",
      " 17%|█▋        | 119/685 [10:31<50:26,  5.35s/it][2,   120]  Train MSE loss: 50.133\n",
      " 20%|██        | 139/685 [12:18<48:30,  5.33s/it][2,   140]  Train MSE loss: 61.405\n",
      " 23%|██▎       | 159/685 [14:05<46:50,  5.34s/it][2,   160]  Train MSE loss: 44.873\n",
      " 26%|██▌       | 179/685 [15:51<44:55,  5.33s/it][2,   180]  Train MSE loss: 41.909\n",
      " 29%|██▉       | 199/685 [17:38<43:11,  5.33s/it][2,   200]  Train MSE loss: 52.260\n",
      " 32%|███▏      | 219/685 [19:25<41:34,  5.35s/it][2,   220]  Train MSE loss: 43.466\n",
      " 35%|███▍      | 239/685 [21:12<39:42,  5.34s/it][2,   240]  Train MSE loss: 60.044\n",
      " 38%|███▊      | 259/685 [22:59<37:47,  5.32s/it][2,   260]  Train MSE loss: 37.949\n",
      " 41%|████      | 279/685 [24:46<36:08,  5.34s/it][2,   280]  Train MSE loss: 63.717\n",
      " 44%|████▎     | 299/685 [26:33<34:27,  5.36s/it][2,   300]  Train MSE loss: 66.653\n",
      " 47%|████▋     | 319/685 [28:19<32:35,  5.34s/it][2,   320]  Train MSE loss: 43.611\n",
      " 49%|████▉     | 339/685 [30:06<30:49,  5.34s/it][2,   340]  Train MSE loss: 57.248\n",
      " 52%|█████▏    | 359/685 [31:53<29:02,  5.35s/it][2,   360]  Train MSE loss: 76.929\n",
      " 55%|█████▌    | 379/685 [33:40<27:16,  5.35s/it][2,   380]  Train MSE loss: 64.336\n",
      " 58%|█████▊    | 399/685 [35:27<25:25,  5.33s/it][2,   400]  Train MSE loss: 55.968\n",
      " 61%|██████    | 419/685 [37:14<23:42,  5.35s/it][2,   420]  Train MSE loss: 78.293\n",
      " 64%|██████▍   | 439/685 [39:01<21:54,  5.34s/it][2,   440]  Train MSE loss: 73.741\n",
      " 67%|██████▋   | 459/685 [40:47<20:07,  5.34s/it][2,   460]  Train MSE loss: 53.662\n",
      " 70%|██████▉   | 479/685 [42:34<18:16,  5.32s/it][2,   480]  Train MSE loss: 77.963\n",
      " 73%|███████▎  | 499/685 [44:21<16:32,  5.33s/it][2,   500]  Train MSE loss: 43.622\n",
      " 76%|███████▌  | 519/685 [46:08<14:47,  5.34s/it][2,   520]  Train MSE loss: 48.830\n",
      " 79%|███████▊  | 539/685 [47:55<12:59,  5.34s/it][2,   540]  Train MSE loss: 65.435\n",
      " 82%|████████▏ | 559/685 [49:41<11:11,  5.33s/it][2,   560]  Train MSE loss: 60.602\n",
      " 85%|████████▍ | 579/685 [51:28<09:24,  5.32s/it][2,   580]  Train MSE loss: 59.028\n",
      " 87%|████████▋ | 599/685 [53:15<07:37,  5.32s/it][2,   600]  Train MSE loss: 41.686\n",
      " 90%|█████████ | 619/685 [55:02<05:52,  5.35s/it][2,   620]  Train MSE loss: 70.659\n",
      " 93%|█████████▎| 639/685 [56:48<04:05,  5.33s/it][2,   640]  Train MSE loss: 95.742\n",
      " 96%|█████████▌| 659/685 [58:35<02:18,  5.33s/it][2,   660]  Train MSE loss: 43.654\n",
      " 99%|█████████▉| 679/685 [1:00:22<00:32,  5.35s/it][2,   680]  Train MSE loss: 54.492\n",
      "100%|██████████| 685/685 [1:00:54<00:00,  5.34s/it]\n",
      "100%|██████████| 147/147 [03:26<00:00,  1.40s/it]Val MSE loss: 66.9455716326212\n",
      "\n",
      "  3%|▎         | 19/685 [01:37<59:13,  5.34s/it]it][3,    20]  Train MSE loss: 40.340\n",
      "  6%|▌         | 39/685 [03:24<57:20,  5.33s/it][3,    40]  Train MSE loss: 114.884\n",
      "  9%|▊         | 59/685 [05:10<55:44,  5.34s/it][3,    60]  Train MSE loss: 48.705\n",
      " 12%|█▏        | 79/685 [06:57<53:58,  5.34s/it][3,    80]  Train MSE loss: 65.175\n",
      " 14%|█▍        | 99/685 [08:44<52:10,  5.34s/it][3,   100]  Train MSE loss: 81.538\n",
      " 17%|█▋        | 119/685 [10:31<50:16,  5.33s/it][3,   120]  Train MSE loss: 55.674\n",
      " 20%|██        | 139/685 [12:17<48:45,  5.36s/it][3,   140]  Train MSE loss: 76.305\n",
      " 23%|██▎       | 159/685 [14:04<46:49,  5.34s/it][3,   160]  Train MSE loss: 62.451\n",
      " 26%|██▌       | 179/685 [15:51<44:58,  5.33s/it][3,   180]  Train MSE loss: 52.556\n",
      " 29%|██▉       | 199/685 [17:38<43:11,  5.33s/it][3,   200]  Train MSE loss: 66.892\n",
      " 32%|███▏      | 219/685 [19:25<41:22,  5.33s/it][3,   220]  Train MSE loss: 48.429\n",
      " 35%|███▍      | 239/685 [21:11<39:43,  5.34s/it][3,   240]  Train MSE loss: 48.781\n",
      " 38%|███▊      | 259/685 [22:58<37:54,  5.34s/it][3,   260]  Train MSE loss: 34.582\n",
      " 41%|████      | 279/685 [24:45<36:10,  5.35s/it][3,   280]  Train MSE loss: 58.455\n",
      " 44%|████▎     | 299/685 [26:32<34:19,  5.34s/it][3,   300]  Train MSE loss: 73.708\n",
      " 47%|████▋     | 319/685 [28:18<32:38,  5.35s/it][3,   320]  Train MSE loss: 59.151\n",
      " 49%|████▉     | 339/685 [30:05<30:45,  5.33s/it][3,   340]  Train MSE loss: 51.717\n",
      " 52%|█████▏    | 359/685 [31:52<29:04,  5.35s/it][3,   360]  Train MSE loss: 49.660\n",
      " 55%|█████▌    | 379/685 [33:39<27:15,  5.35s/it][3,   380]  Train MSE loss: 74.947\n",
      " 58%|█████▊    | 399/685 [35:26<25:24,  5.33s/it][3,   400]  Train MSE loss: 68.054\n",
      " 61%|██████    | 419/685 [37:12<23:45,  5.36s/it][3,   420]  Train MSE loss: 73.953\n",
      " 64%|██████▍   | 439/685 [38:59<21:53,  5.34s/it][3,   440]  Train MSE loss: 70.183\n",
      " 67%|██████▋   | 459/685 [40:46<20:07,  5.34s/it][3,   460]  Train MSE loss: 51.574\n",
      " 70%|██████▉   | 479/685 [42:32<18:20,  5.34s/it][3,   480]  Train MSE loss: 72.712\n",
      " 73%|███████▎  | 499/685 [44:19<16:30,  5.33s/it][3,   500]  Train MSE loss: 38.761\n",
      " 76%|███████▌  | 519/685 [46:06<14:43,  5.32s/it][3,   520]  Train MSE loss: 43.725\n",
      " 79%|███████▊  | 539/685 [47:53<12:59,  5.34s/it][3,   540]  Train MSE loss: 59.807\n",
      " 82%|████████▏ | 559/685 [49:39<11:14,  5.36s/it][3,   560]  Train MSE loss: 58.697\n",
      " 85%|████████▍ | 579/685 [51:26<09:23,  5.31s/it][3,   580]  Train MSE loss: 54.809\n",
      " 87%|████████▋ | 599/685 [53:13<07:37,  5.32s/it][3,   600]  Train MSE loss: 45.763\n",
      " 90%|█████████ | 619/685 [54:59<05:52,  5.34s/it][3,   620]  Train MSE loss: 77.012\n",
      " 93%|█████████▎| 639/685 [56:46<04:06,  5.36s/it][3,   640]  Train MSE loss: 83.669\n",
      " 96%|█████████▌| 659/685 [58:33<02:18,  5.31s/it][3,   660]  Train MSE loss: 29.738\n",
      " 99%|█████████▉| 679/685 [1:00:20<00:32,  5.35s/it][3,   680]  Train MSE loss: 49.432\n",
      "100%|██████████| 685/685 [1:00:52<00:00,  5.32s/it]\n",
      "100%|██████████| 147/147 [03:26<00:00,  1.40s/it]Val MSE loss: 66.77068208695125\n",
      "\n",
      "100%|██████████| 3/3 [3:13:12<00:00, 3864.10s/it]  Finished Training\n"
     ]
    }
   ],
   "source": [
    "TT = train(3)"
   ]
  },
  {
   "cell_type": "code",
   "execution_count": 60,
   "metadata": {},
   "outputs": [],
   "source": [
    "torch.save(m.state_dict(),'3D_SPECT_predict_1YR.pth')"
   ]
  },
  {
   "cell_type": "code",
   "execution_count": null,
   "metadata": {},
   "outputs": [],
   "source": []
  },
  {
   "cell_type": "code",
   "execution_count": 46,
   "metadata": {},
   "outputs": [
    {
     "data": {
      "text/plain": [
       "[116.06931749108179, 77.726060608822, 81.28855750720253, 82.30304762785248]"
      ]
     },
     "execution_count": 46,
     "metadata": {},
     "output_type": "execute_result"
    }
   ],
   "source": [
    "vallog"
   ]
  },
  {
   "cell_type": "markdown",
   "metadata": {},
   "source": [
    "## Validate"
   ]
  },
  {
   "cell_type": "code",
   "execution_count": null,
   "metadata": {},
   "outputs": [],
   "source": []
  },
  {
   "cell_type": "code",
   "execution_count": 43,
   "metadata": {},
   "outputs": [],
   "source": [
    "def test():\n",
    "    with torch.no_grad():\n",
    "        n = len(X_test)\n",
    "        m.eval()\n",
    "        predicted = []\n",
    "        with tqdm(total=n) as pbar:\n",
    "            for i, ( x, p, y) in enumerate(zip(X_test,param_test,y_test)):\n",
    "                x,p,y = x.to(device), p.to(device),y.to(device)\n",
    "\n",
    "\n",
    "                # forward + backward + optimize\n",
    "                outputs = m(x,p)\n",
    "                pred = outputs.squeeze(1).cpu().numpy().tolist()\n",
    "                predicted.append(pred)\n",
    "                pbar.update()\n",
    "                \n",
    "        predicted = list(chain.from_iterable(predicted))\n",
    "        loss = ((predicted - y_test.dataset)**2).mean()\n",
    "        #loss = abs(predicted-y_test.dataset).sum()/len(y_test.dataset)\n",
    "        print(f'MSE loss: {loss}')\n",
    "        df_y = pd.DataFrame(y_test.dataset,columns=['actual'])\n",
    "        df_pred = pd.DataFrame(predicted,columns=['predicted'])\n",
    "        df_pred = df_pred.join(df_y)\n",
    "        sns.jointplot(x=df_pred['actual'], y=df_pred['predicted'])\n",
    "        sns.distplot(y_test.dataset)\n",
    "        sns.distplot(df_pred['predicted'])\n",
    "    return df_pred, loss"
   ]
  },
  {
   "cell_type": "code",
   "execution_count": 44,
   "metadata": {},
   "outputs": [
    {
     "name": "stdout",
     "output_type": "stream",
     "text": [
      "100%|██████████| 62/62 [02:41<00:00,  2.07s/it]\n",
      "MSE loss: 49.74118972520018\n"
     ]
    },
    {
     "name": "stderr",
     "output_type": "stream",
     "text": [
      "/home/brainvistec4/miniconda3/envs/fastai/lib/python3.6/site-packages/matplotlib/axes/_axes.py:6462: UserWarning: The 'normed' kwarg is deprecated, and has been replaced by the 'density' kwarg.\n",
      "  warnings.warn(\"The 'normed' kwarg is deprecated, and has been \"\n",
      "/home/brainvistec4/miniconda3/envs/fastai/lib/python3.6/site-packages/matplotlib/axes/_axes.py:6462: UserWarning: The 'normed' kwarg is deprecated, and has been replaced by the 'density' kwarg.\n",
      "  warnings.warn(\"The 'normed' kwarg is deprecated, and has been \"\n",
      "/home/brainvistec4/miniconda3/envs/fastai/lib/python3.6/site-packages/matplotlib/axes/_axes.py:6462: UserWarning: The 'normed' kwarg is deprecated, and has been replaced by the 'density' kwarg.\n",
      "  warnings.warn(\"The 'normed' kwarg is deprecated, and has been \"\n",
      "/home/brainvistec4/miniconda3/envs/fastai/lib/python3.6/site-packages/matplotlib/axes/_axes.py:6462: UserWarning: The 'normed' kwarg is deprecated, and has been replaced by the 'density' kwarg.\n",
      "  warnings.warn(\"The 'normed' kwarg is deprecated, and has been \"\n"
     ]
    },
    {
     "data": {
      "image/png": "[encoded data removed]",
      "text/plain": [
       "<Figure size 432x432 with 3 Axes>"
      ]
     },
     "metadata": {},
     "output_type": "display_data"
    }
   ],
   "source": [
    "TEST = test()"
   ]
  },
  {
   "cell_type": "code",
   "execution_count": 46,
   "metadata": {
    "scrolled": true
   },
   "outputs": [
    {
     "data": {
      "text/plain": [
       "(     predicted     actual\n",
       " 0    13.692508   9.000000\n",
       " 1    26.377153  29.666667\n",
       " 2    26.260513  24.500000\n",
       " 3    25.234605  15.500000\n",
       " 4    15.161242  19.000000\n",
       " 5    34.375978  49.000000\n",
       " 6    13.853734  11.000000\n",
       " 7    22.244695  24.250000\n",
       " 8    31.786314  28.500000\n",
       " 9    39.650186  44.000000\n",
       " 10   34.627926  40.000000\n",
       " 11   29.475802  35.500000\n",
       " 12   21.866821  29.000000\n",
       " 13   25.929582  27.000000\n",
       " 14   28.035690  31.000000\n",
       " 15   16.990959   8.000000\n",
       " 16   17.621107  30.000000\n",
       " 17   16.601113  20.500000\n",
       " 18   42.630252  37.000000\n",
       " 19   27.998175  35.500000\n",
       " 20   44.015723  41.500000\n",
       " 21   13.300505  11.000000\n",
       " 22   15.924430  14.500000\n",
       " 23   32.231932  38.666667\n",
       " 24   19.563621  23.666667\n",
       " 25   22.751984  19.333333\n",
       " 26   27.897448  35.500000\n",
       " 27   26.605415  26.500000\n",
       " 28   28.570291  38.500000\n",
       " 29   30.006295  25.500000\n",
       " ..         ...        ...\n",
       " 215  27.346794  40.000000\n",
       " 216  40.865513  56.000000\n",
       " 217  18.354861   6.000000\n",
       " 218  16.653285  15.500000\n",
       " 219  43.413075  48.000000\n",
       " 220  24.903455  31.500000\n",
       " 221  22.873264  22.500000\n",
       " 222  30.015393  27.000000\n",
       " 223  30.902959  19.000000\n",
       " 224  23.663927  22.500000\n",
       " 225  24.049398  25.500000\n",
       " 226  42.150627  45.500000\n",
       " 227  16.697220  14.750000\n",
       " 228  19.639742  13.000000\n",
       " 229  14.711537  11.000000\n",
       " 230  29.224642  26.000000\n",
       " 231  40.797964  54.000000\n",
       " 232  19.226368  21.800000\n",
       " 233  23.799435  14.000000\n",
       " 234  19.315273  22.250000\n",
       " 235  22.145526  36.000000\n",
       " 236  22.693034  26.500000\n",
       " 237  18.540003  11.000000\n",
       " 238  35.479070  37.000000\n",
       " 239  32.890583  30.000000\n",
       " 240  30.193663  36.500000\n",
       " 241  29.046614  25.000000\n",
       " 242  39.754343  28.500000\n",
       " 243  20.721994  19.000000\n",
       " 244  14.431399  11.000000\n",
       " \n",
       " [245 rows x 2 columns], 49.74118972520018)"
      ]
     },
     "execution_count": 46,
     "metadata": {},
     "output_type": "execute_result"
    }
   ],
   "source": [
    "TEST"
   ]
  },
  {
   "cell_type": "code",
   "execution_count": 53,
   "metadata": {
    "scrolled": true
   },
   "outputs": [
    {
     "data": {
      "text/plain": [
       "<matplotlib.axes._subplots.AxesSubplot at 0x7f842a3b21d0>"
      ]
     },
     "execution_count": 53,
     "metadata": {},
     "output_type": "execute_result"
    },
    {
     "data": {
      "image/png": "[encoded data removed]",
      "text/plain": [
       "<Figure size 432x288 with 1 Axes>"
      ]
     },
     "metadata": {},
     "output_type": "display_data"
    }
   ],
   "source": [
    "sns.regplot(x=TEST[0]['actual'], y=TEST[0]['predicted'])"
   ]
  },
  {
   "cell_type": "code",
   "execution_count": 55,
   "metadata": {},
   "outputs": [
    {
     "data": {
      "text/plain": [
       "(0.8137740333121645, 3.3499011173245215e-59)"
      ]
     },
     "execution_count": 55,
     "metadata": {},
     "output_type": "execute_result"
    }
   ],
   "source": [
    "scipy.stats.pearsonr(TEST[0]['actual'],TEST[0]['predicted'])"
   ]
  },
  {
   "cell_type": "code",
   "execution_count": 54,
   "metadata": {},
   "outputs": [
    {
     "data": {
      "text/plain": [
       "SpearmanrResult(correlation=0.8146682403550319, pvalue=1.9796425194356086e-59)"
      ]
     },
     "execution_count": 54,
     "metadata": {},
     "output_type": "execute_result"
    }
   ],
   "source": [
    "scipy.stats.spearmanr(TEST[0]['actual'],TEST[0]['predicted'])"
   ]
  },
  {
   "cell_type": "code",
   "execution_count": null,
   "metadata": {},
   "outputs": [],
   "source": []
  },
  {
   "cell_type": "code",
   "execution_count": null,
   "metadata": {},
   "outputs": [],
   "source": []
  },
  {
   "cell_type": "code",
   "execution_count": 117,
   "metadata": {},
   "outputs": [
    {
     "data": {
      "text/plain": [
       "<matplotlib.axes._subplots.AxesSubplot at 0x7fa8c73f8828>"
      ]
     },
     "execution_count": 117,
     "metadata": {},
     "output_type": "execute_result"
    },
    {
     "data": {
      "image/png": "[encoded data removed]",
      "text/plain": [
       "<matplotlib.figure.Figure at 0x7fa8c6ba44a8>"
      ]
     },
     "metadata": {},
     "output_type": "display_data"
    }
   ],
   "source": [
    "sns.distplot(y_pred)"
   ]
  },
  {
   "cell_type": "code",
   "execution_count": 118,
   "metadata": {
    "scrolled": true
   },
   "outputs": [
    {
     "data": {
      "text/plain": [
       "<matplotlib.axes._subplots.AxesSubplot at 0x7fa8c73284a8>"
      ]
     },
     "execution_count": 118,
     "metadata": {},
     "output_type": "execute_result"
    },
    {
     "data": {
      "image/png": "[encoded data removed]",
      "text/plain": [
       "<matplotlib.figure.Figure at 0x7fa8c7375978>"
      ]
     },
     "metadata": {},
     "output_type": "display_data"
    }
   ],
   "source": [
    "sns.distplot(y_test)"
   ]
  },
  {
   "cell_type": "markdown",
   "metadata": {},
   "source": [
    "## 2D"
   ]
  },
  {
   "cell_type": "code",
   "execution_count": 35,
   "metadata": {},
   "outputs": [],
   "source": [
    "class  ConvWithMeta(nn.Module):\n",
    "    def __init__(self):\n",
    "        super(ConvWithMeta, self).__init__()\n",
    "        head_layer = [nn.Conv2d(1, 3, kernel_size=1, bias=False, stride=1, padding=0)]\n",
    "        self.head_layer = nn.Sequential(*head_layer)\n",
    "        resnet_layers = list(resnet34(True).children())[:8]\n",
    "        self.features = nn.Sequential(*resnet_layers,nn.Dropout2d(0.5))\n",
    "        for param in self.features.parameters():\n",
    "            param.requires_grad = False\n",
    "        self.bns = nn.ModuleList([nn.BatchNorm1d(46592), nn.BatchNorm1d(1028), nn.BatchNorm1d(256)])\n",
    "        self.lins = nn.ModuleList([nn.Linear(46592,1024), nn.Linear(1028,256), nn.Linear(256, 1)])\n",
    "        for o in self.lins: kaiming_normal(o.weight.data)\n",
    "        self.fc_model1 = nn.Sequential(*self.fc_layers1()).cuda()\n",
    "        self.fc_model2 = nn.Sequential(*self.fc_layers2()).cuda()\n",
    "        \n",
    "    def fc_layers1(self):\n",
    "        return [self.bns[0], nn.Dropout(0.4), self.lins[0], nn.LeakyReLU()]\n",
    "    \n",
    "    def fc_layers2(self):\n",
    "        return [self.bns[1], nn.Dropout(0.5), self.lins[1], nn.LeakyReLU(), \n",
    "                self.bns[2], nn.Dropout(0.5), self.lins[2]] \n",
    "        \n",
    "    def forward(self, x1, x2):\n",
    "        for i in range(91):\n",
    "            x_clone = x1[:,i,:,:].clone()\n",
    "            x_clone = x_clone.unsqueeze(1)\n",
    "            x_clone = self.head_layer(x_clone)           \n",
    "            x_clone = self.features(x_clone)\n",
    "            x_clone = nn.AdaptiveAvgPool2d(1)(x_clone)\n",
    "            if i == 0:\n",
    "                out = x_clone\n",
    "            else:\n",
    "                out = torch.cat((out,x_clone),1)\n",
    "        out=out.squeeze()\n",
    "        out = out.view(-1,46592)\n",
    "        out = self.fc_model1(out)\n",
    "        x2 = x2.view(-1,1,4)\n",
    "        out = torch.cat((out,x2[:,:,0],x2[:,:,1],x2[:,:,2],x2[:,:,3]),1)\n",
    "        out = self.fc_model2(out)\n",
    "        return out.view(-1)\n",
    "        '''\n",
    "        x1 = x1.unsqueeze(1)\n",
    "        x1 = self.head_layer(x1)\n",
    "        x1 = self.features(x1)\n",
    "        x1 = nn.AdaptiveMaxPool2d((1,1))(x1)\n",
    "        x1 = x1.view(x1.size(0), -1)\n",
    "        x = torch.cat([x1, x2], 1)\n",
    "        x = self.fc_model(x)\n",
    "        x = x.squeeze()\n",
    "        return x'''"
   ]
  },
  {
   "cell_type": "code",
   "execution_count": 36,
   "metadata": {},
   "outputs": [],
   "source": [
    "class MetaModel(BasicModel):\n",
    "    def get_layer_groups(self):\n",
    "        m=self.model\n",
    "        return m"
   ]
  },
  {
   "cell_type": "code",
   "execution_count": 37,
   "metadata": {},
   "outputs": [],
   "source": [
    "class  MetaLearner(Learner):\n",
    "    def __init__(self, data, models, **kwargs):\n",
    "        super().__init__(data, models, **kwargs)\n",
    "        self.crit = F.mse_loss"
   ]
  },
  {
   "cell_type": "code",
   "execution_count": 38,
   "metadata": {},
   "outputs": [],
   "source": [
    "class MetaDataset(BaseDataset):\n",
    "    \"\"\" Dataset where x=(x1,x2) where x1 is an image.\n",
    "    \"\"\"\n",
    "    def __init__(self, fnames, x2, y, transform, path):\n",
    "        self.path,self.fnames,self.y,self.x2 = path,fnames,y,x2\n",
    "        assert(len(fnames)==len(y))\n",
    "        super().__init__(transform)\n",
    "\n",
    "    def __getitem__(self, idx):\n",
    "        \"\"\" This function should return a list.\n",
    "        \"\"\"\n",
    "        x1, x2 = self.get_x(idx)\n",
    "        y = self.get_y(idx)\n",
    "        return self.get(self.transform, (x1, x2), y)\n",
    "    \n",
    "    def __len__(self): return len(self.y)\n",
    "    \n",
    "    def get_x(self, i):\n",
    "        im = x1\n",
    "        x2 = np.expand_dims(self.x2[i], axis=1)\n",
    "        return np.array(im, dtype=np.float32)/255., x2\n",
    "    \n",
    "    def get_n(self): return len(self.y)\n",
    "    def get_y(self, i): return self.y[i]\n",
    "    \n",
    "    def get(self, tfm, x, y):\n",
    "        x1, x2 = x\n",
    "        if tfm is None:\n",
    "            return [x1, x2, y] \n",
    "        x1,y = tfm(x1,y)\n",
    "        return [x1, x2, y]\n",
    "    \n",
    "    def get_c(self): return 1\n",
    "    \n",
    "    def get_sz(self): return self.transform.sz"
   ]
  },
  {
   "cell_type": "code",
   "execution_count": 39,
   "metadata": {},
   "outputs": [],
   "source": [
    "class MetaArraysDataset(BaseDataset):\n",
    "    def __init__(self, x, param, y, transform, path):\n",
    "        self.path = path\n",
    "        self.x,self.y, self.param = x, y , param\n",
    "        assert(len(x)==len(y))\n",
    "        super().__init__(transform)\n",
    "        \n",
    "    def __getitem__(self, idx):\n",
    "        \"\"\" This function should return a list.\n",
    "        \"\"\"\n",
    "        x = self.get_x(idx)\n",
    "        param = self.get_param(idx)\n",
    "        y = self.get_y(idx)\n",
    "        return self.get(self.transform, (x, param), y)\n",
    "   \n",
    "    def get(self, tfm, x, y):\n",
    "        x1, x2 = x\n",
    "        if tfm is None:\n",
    "            return [x1, x2, y] \n",
    "        x1,y = tfm(x1,y)\n",
    "        return [x1, x2, y]\n",
    "    def get_c(self): return int(self.y.max())+1\n",
    "    def get_x(self, i): return self.x[i]\n",
    "    def get_param(self,i): return self.param[i]\n",
    "    def get_y(self, i): return self.y[i]\n",
    "    def get_n(self): return len(self.y)\n",
    "    def get_sz(self): return self.x.shape[1]"
   ]
  },
  {
   "cell_type": "code",
   "execution_count": 40,
   "metadata": {},
   "outputs": [],
   "source": [
    "bs=4; sz=101\n",
    "#f_model = resnet34"
   ]
  },
  {
   "cell_type": "code",
   "execution_count": 41,
   "metadata": {},
   "outputs": [],
   "source": [
    "USE_GPU=True"
   ]
  },
  {
   "cell_type": "code",
   "execution_count": 42,
   "metadata": {},
   "outputs": [],
   "source": [
    "class ModelMetaData(ImageClassifierData):\n",
    "    \n",
    "    @classmethod\n",
    "    def get_ds(self, fn, trn, val, tfms, path, test=None):\n",
    "        res = [\n",
    "            fn(trn[0], trn[1], trn[2], tfms[0], path), # train\n",
    "            fn(val[0], val[1], val[2], tfms[1], path), # val\n",
    "            fn(trn[0], trn[1], trn[2], tfms[1], path), # fix\n",
    "            fn(val[0], val[1], val[2], tfms[0], path)  # aug\n",
    "        ]\n",
    "        if test:\n",
    "            test_lbls = np.zeros((len(test),1))\n",
    "            res += [\n",
    "                fn(test[0], test[1], test[2] , tfms[1], path), # test\n",
    "                fn(test[0], test[1] , test[2], tfms[0], path)  # test_aug\n",
    "            ]\n",
    "        else: res += [None,None]\n",
    "        return res\n",
    "    \n",
    "    @classmethod\n",
    "    def from_csv(self, path, folder, csv_fname, bs=bs, tfms=(None,None),val_idxs=None, \n",
    "                 suffix='', test_name=None, skip_header=True, num_workers=4):\n",
    "        fnames,x2,y = csv_source2(folder, csv_fname, skip_header, suffix)\n",
    "        ((val_fnames, trn_fnames), (val_x2, trn_x2), (val_y,trn_y)) = split_by_idx(val_idxs, np.array(fnames), x2, y)\n",
    "\n",
    "        test_fnames = read_dir(path, test_name) if test_name else None\n",
    "        datasets = self.get_ds(MetaDataset, (trn_fnames,trn_x2,trn_y), (val_fnames,val_x2,val_y),tfms=tfms, path=path)\n",
    "        return self(path, datasets, bs, num_workers, classes=1)\n",
    "    \n",
    "    @classmethod\n",
    "    def from_arrays(self, path, trn, val, test, bs=bs, tfms=(None,None), classes=None, num_workers=4):\n",
    "        trn_x1 , val_x1 = trn[0],val[0]\n",
    "        trn_x2 , val_x2 = trn[1],val[1]\n",
    "        trn_y , val_y = trn[2],val[2]\n",
    "        test_x1, test_x2 , test_y= test[0],test[1],test[2]\n",
    "        datasets = self.get_ds(MetaArraysDataset, (trn_x1,trn_x2,trn_y), (val_x1,val_x2,val_y) ,test=(test_x1, test_x2, test_y) ,tfms=tfms,path=path)\n",
    "        return self(path, datasets, bs, num_workers, classes=classes)\n",
    "    \n",
    "        \n",
    "    def get_learner(self):\n",
    "        model = ConvWithMeta()\n",
    "        #model = Darknet([1,2,4,6,3], num_classes=1, nf=32)\n",
    "        device = torch.device(\"cuda:0\" if torch.cuda.is_available() else \"cpu\")\n",
    "        #m = nn.DataParallel(m, [1,2,3])\n",
    "        return MetaLearner(self, MetaModel(model.to(device)), opt_fn=optim.Adam)"
   ]
  },
  {
   "cell_type": "code",
   "execution_count": 43,
   "metadata": {},
   "outputs": [],
   "source": [
    "data = ModelMetaData.from_arrays('.', trn=(image_array_train,param_train,y_train)\n",
    "                                 ,val=(image_array_val,param_val,y_val)\n",
    "                                ,test=(image_array_test,param_test,y_test))"
   ]
  },
  {
   "cell_type": "code",
   "execution_count": 44,
   "metadata": {
    "scrolled": true
   },
   "outputs": [],
   "source": [
    "learner = data.get_learner()\n"
   ]
  },
  {
   "cell_type": "code",
   "execution_count": 45,
   "metadata": {
    "scrolled": true
   },
   "outputs": [
    {
     "data": {
      "application/vnd.jupyter.widget-view+json": {
       "model_id": "64757ea4dee14745a5a3fcbaf972ec36",
       "version_major": 2,
       "version_minor": 0
      },
      "text/plain": [
       "HBox(children=(IntProgress(value=0, description='Epoch', max=1), HTML(value='')))"
      ]
     },
     "metadata": {},
     "output_type": "display_data"
    },
    {
     "name": "stdout",
     "output_type": "stream",
     "text": [
      " 52%|█████▏    | 353/685 [12:08<11:24,  2.06s/it, loss=609]"
     ]
    }
   ],
   "source": [
    "learner.lr_find()"
   ]
  },
  {
   "cell_type": "code",
   "execution_count": 46,
   "metadata": {},
   "outputs": [
    {
     "data": {
      "image/png": "[encoded data removed]",
      "text/plain": [
       "<Figure size 432x288 with 1 Axes>"
      ]
     },
     "metadata": {},
     "output_type": "display_data"
    }
   ],
   "source": [
    "learner.sched.plot()"
   ]
  },
  {
   "cell_type": "code",
   "execution_count": null,
   "metadata": {
    "scrolled": true
   },
   "outputs": [
    {
     "data": {
      "application/vnd.jupyter.widget-view+json": {
       "model_id": "1835638aa3b54b5a8a33ea4f52e2ff0a",
       "version_major": 2,
       "version_minor": 0
      },
      "text/plain": [
       "HBox(children=(IntProgress(value=0, description='Epoch', max=3), HTML(value='')))"
      ]
     },
     "metadata": {},
     "output_type": "display_data"
    },
    {
     "name": "stdout",
     "output_type": "stream",
     "text": [
      "  2%|▏         | 6/343 [00:16<15:42,  2.80s/it, loss=104] "
     ]
    }
   ],
   "source": [
    "learner.fit(1e-3,3)"
   ]
  },
  {
   "cell_type": "code",
   "execution_count": null,
   "metadata": {},
   "outputs": [],
   "source": [
    "learner.save('2D_SPECT_Predcit_1YR_all_slide')"
   ]
  },
  {
   "cell_type": "code",
   "execution_count": null,
   "metadata": {},
   "outputs": [],
   "source": [
    "pred=learner.predict()"
   ]
  },
  {
   "cell_type": "code",
   "execution_count": null,
   "metadata": {},
   "outputs": [],
   "source": [
    "sns.jointplot(x=pred, y=y_val)"
   ]
  },
  {
   "cell_type": "code",
   "execution_count": null,
   "metadata": {},
   "outputs": [],
   "source": []
  },
  {
   "cell_type": "code",
   "execution_count": null,
   "metadata": {},
   "outputs": [],
   "source": []
  },
  {
   "cell_type": "code",
   "execution_count": null,
   "metadata": {},
   "outputs": [],
   "source": []
  },
  {
   "cell_type": "code",
   "execution_count": null,
   "metadata": {},
   "outputs": [],
   "source": []
  }
 ],
 "metadata": {
  "kernelspec": {
   "display_name": "Python 3",
   "language": "python",
   "name": "python3"
  },
  "language_info": {
   "codemirror_mode": {
    "name": "ipython",
    "version": 3
   },
   "file_extension": ".py",
   "mimetype": "text/x-python",
   "name": "python",
   "nbconvert_exporter": "python",
   "pygments_lexer": "ipython3",
   "version": "3.6.5"
  }
 },
 "nbformat": 4,
 "nbformat_minor": 2
}
