{
 "cells": [
  {
   "cell_type": "code",
   "execution_count": 1,
   "metadata": {},
   "outputs": [],
   "source": [
    "# Put these at the top of every notebook, to get automatic reloading and inline plotting\n",
    "%reload_ext autoreload\n",
    "%autoreload 2\n",
    "%matplotlib inline"
   ]
  },
  {
   "cell_type": "code",
   "execution_count": 2,
   "metadata": {},
   "outputs": [],
   "source": [
    "# This file contains all the main external libs we'll use\n",
    "from fastai.imports import *\n",
    "#from fastai.transforms import *\n",
    "from fastai.conv_learner import *\n",
    "#from fastai.model import *\n",
    "#from fastai.dataset import *\n",
    "#from fastai.sgdr import *\n",
    "#from fastai.plots import *"
   ]
  },
  {
   "cell_type": "code",
   "execution_count": 3,
   "metadata": {},
   "outputs": [
    {
     "name": "stdout",
     "output_type": "stream",
     "text": [
      "0.4.0\n"
     ]
    }
   ],
   "source": [
    "print(torch.__version__)"
   ]
  },
  {
   "cell_type": "code",
   "execution_count": 4,
   "metadata": {},
   "outputs": [],
   "source": [
    "import pydicom\n",
    "import glob\n",
    "import os\n",
    "import numpy\n",
    "import seaborn as sns\n",
    "from itertools import chain\n",
    "from pathlib import Path"
   ]
  },
  {
   "cell_type": "code",
   "execution_count": 5,
   "metadata": {},
   "outputs": [],
   "source": [
    "PATH = \"./\"\n",
    "SPECTPATH = Path(\"../data/PPMISPECT/\")"
   ]
  },
  {
   "cell_type": "code",
   "execution_count": 6,
   "metadata": {
    "scrolled": true
   },
   "outputs": [
    {
     "data": {
      "text/plain": [
       "'for dirName, subdirList, fileList in os.walk(PathDicom):\\n    for filename in fileList:\\n        if \".dcm\" in filename.lower():  # check whether the file\\'s DICOM\\n            lstFilesDCM.append(os.path.join(dirName,filename))'"
      ]
     },
     "execution_count": 6,
     "metadata": {},
     "output_type": "execute_result"
    }
   ],
   "source": [
    "lstFilesDCM = []  # create an empty list\n",
    "'''for dirName, subdirList, fileList in os.walk(PathDicom):\n",
    "    for filename in fileList:\n",
    "        if \".dcm\" in filename.lower():  # check whether the file's DICOM\n",
    "            lstFilesDCM.append(os.path.join(dirName,filename))'''"
   ]
  },
  {
   "cell_type": "code",
   "execution_count": 7,
   "metadata": {},
   "outputs": [],
   "source": [
    "metadata = pd.read_csv(f'{PATH}PPMI.csv')"
   ]
  },
  {
   "cell_type": "code",
   "execution_count": 8,
   "metadata": {},
   "outputs": [
    {
     "data": {
      "text/html": [
       "<div>\n",
       "<style scoped>\n",
       "    .dataframe tbody tr th:only-of-type {\n",
       "        vertical-align: middle;\n",
       "    }\n",
       "\n",
       "    .dataframe tbody tr th {\n",
       "        vertical-align: top;\n",
       "    }\n",
       "\n",
       "    .dataframe thead th {\n",
       "        text-align: right;\n",
       "    }\n",
       "</style>\n",
       "<table border=\"1\" class=\"dataframe\">\n",
       "  <thead>\n",
       "    <tr style=\"text-align: right;\">\n",
       "      <th></th>\n",
       "      <th>Image Data ID</th>\n",
       "      <th>Subject</th>\n",
       "      <th>Group</th>\n",
       "      <th>Sex</th>\n",
       "      <th>Age</th>\n",
       "      <th>Visit</th>\n",
       "      <th>Modality</th>\n",
       "      <th>Description</th>\n",
       "      <th>Type</th>\n",
       "      <th>Acq Date</th>\n",
       "      <th>Format</th>\n",
       "      <th>Downloaded</th>\n",
       "    </tr>\n",
       "  </thead>\n",
       "  <tbody>\n",
       "    <tr>\n",
       "      <th>0</th>\n",
       "      <td>388628</td>\n",
       "      <td>4140</td>\n",
       "      <td>Control</td>\n",
       "      <td>M</td>\n",
       "      <td>76</td>\n",
       "      <td>0</td>\n",
       "      <td>SPECT</td>\n",
       "      <td>Reconstructed DaTSCAN</td>\n",
       "      <td>Processed</td>\n",
       "      <td>4/09/2013</td>\n",
       "      <td>DCM</td>\n",
       "      <td>5/27/2018</td>\n",
       "    </tr>\n",
       "    <tr>\n",
       "      <th>1</th>\n",
       "      <td>388627</td>\n",
       "      <td>4139</td>\n",
       "      <td>Control</td>\n",
       "      <td>M</td>\n",
       "      <td>81</td>\n",
       "      <td>0</td>\n",
       "      <td>SPECT</td>\n",
       "      <td>Reconstructed DaTSCAN</td>\n",
       "      <td>Processed</td>\n",
       "      <td>3/19/2013</td>\n",
       "      <td>DCM</td>\n",
       "      <td>5/27/2018</td>\n",
       "    </tr>\n",
       "    <tr>\n",
       "      <th>2</th>\n",
       "      <td>388626</td>\n",
       "      <td>4137</td>\n",
       "      <td>PD</td>\n",
       "      <td>M</td>\n",
       "      <td>70</td>\n",
       "      <td>0</td>\n",
       "      <td>SPECT</td>\n",
       "      <td>Reconstructed DaTSCAN</td>\n",
       "      <td>Processed</td>\n",
       "      <td>4/02/2013</td>\n",
       "      <td>DCM</td>\n",
       "      <td>5/27/2018</td>\n",
       "    </tr>\n",
       "    <tr>\n",
       "      <th>3</th>\n",
       "      <td>388625</td>\n",
       "      <td>4136</td>\n",
       "      <td>PD</td>\n",
       "      <td>M</td>\n",
       "      <td>56</td>\n",
       "      <td>0</td>\n",
       "      <td>SPECT</td>\n",
       "      <td>Reconstructed DaTSCAN</td>\n",
       "      <td>Processed</td>\n",
       "      <td>2/13/2013</td>\n",
       "      <td>DCM</td>\n",
       "      <td>5/27/2018</td>\n",
       "    </tr>\n",
       "    <tr>\n",
       "      <th>4</th>\n",
       "      <td>451290</td>\n",
       "      <td>4135</td>\n",
       "      <td>PD</td>\n",
       "      <td>M</td>\n",
       "      <td>68</td>\n",
       "      <td>5</td>\n",
       "      <td>SPECT</td>\n",
       "      <td>Reconstructed DaTSCAN</td>\n",
       "      <td>Processed</td>\n",
       "      <td>2/18/2014</td>\n",
       "      <td>DCM</td>\n",
       "      <td>5/27/2018</td>\n",
       "    </tr>\n",
       "  </tbody>\n",
       "</table>\n",
       "</div>"
      ],
      "text/plain": [
       "   Image Data ID  Subject    Group Sex  Age  Visit Modality  \\\n",
       "0         388628     4140  Control   M   76      0    SPECT   \n",
       "1         388627     4139  Control   M   81      0    SPECT   \n",
       "2         388626     4137       PD   M   70      0    SPECT   \n",
       "3         388625     4136       PD   M   56      0    SPECT   \n",
       "4         451290     4135       PD   M   68      5    SPECT   \n",
       "\n",
       "             Description       Type   Acq Date Format Downloaded  \n",
       "0  Reconstructed DaTSCAN  Processed  4/09/2013    DCM  5/27/2018  \n",
       "1  Reconstructed DaTSCAN  Processed  3/19/2013    DCM  5/27/2018  \n",
       "2  Reconstructed DaTSCAN  Processed  4/02/2013    DCM  5/27/2018  \n",
       "3  Reconstructed DaTSCAN  Processed  2/13/2013    DCM  5/27/2018  \n",
       "4  Reconstructed DaTSCAN  Processed  2/18/2014    DCM  5/27/2018  "
      ]
     },
     "execution_count": 8,
     "metadata": {},
     "output_type": "execute_result"
    }
   ],
   "source": [
    "metadata[0:5]"
   ]
  },
  {
   "cell_type": "code",
   "execution_count": 9,
   "metadata": {},
   "outputs": [],
   "source": [
    "#Shuffle data\n",
    "metadata = metadata.sample(frac=1).reset_index(drop=True)"
   ]
  },
  {
   "cell_type": "code",
   "execution_count": 10,
   "metadata": {
    "scrolled": true
   },
   "outputs": [
    {
     "data": {
      "text/html": [
       "<div>\n",
       "<style scoped>\n",
       "    .dataframe tbody tr th:only-of-type {\n",
       "        vertical-align: middle;\n",
       "    }\n",
       "\n",
       "    .dataframe tbody tr th {\n",
       "        vertical-align: top;\n",
       "    }\n",
       "\n",
       "    .dataframe thead th {\n",
       "        text-align: right;\n",
       "    }\n",
       "</style>\n",
       "<table border=\"1\" class=\"dataframe\">\n",
       "  <thead>\n",
       "    <tr style=\"text-align: right;\">\n",
       "      <th></th>\n",
       "      <th>Image Data ID</th>\n",
       "      <th>Subject</th>\n",
       "      <th>Group</th>\n",
       "      <th>Sex</th>\n",
       "      <th>Age</th>\n",
       "      <th>Visit</th>\n",
       "      <th>Modality</th>\n",
       "      <th>Description</th>\n",
       "      <th>Type</th>\n",
       "      <th>Acq Date</th>\n",
       "      <th>Format</th>\n",
       "      <th>Downloaded</th>\n",
       "    </tr>\n",
       "  </thead>\n",
       "  <tbody>\n",
       "    <tr>\n",
       "      <th>0</th>\n",
       "      <td>360618</td>\n",
       "      <td>3769</td>\n",
       "      <td>Control</td>\n",
       "      <td>M</td>\n",
       "      <td>71</td>\n",
       "      <td>0</td>\n",
       "      <td>SPECT</td>\n",
       "      <td>Reconstructed DaTSCAN</td>\n",
       "      <td>Processed</td>\n",
       "      <td>10/25/2012</td>\n",
       "      <td>DCM</td>\n",
       "      <td>5/27/2018</td>\n",
       "    </tr>\n",
       "    <tr>\n",
       "      <th>1</th>\n",
       "      <td>388617</td>\n",
       "      <td>4122</td>\n",
       "      <td>PD</td>\n",
       "      <td>M</td>\n",
       "      <td>64</td>\n",
       "      <td>0</td>\n",
       "      <td>SPECT</td>\n",
       "      <td>Reconstructed DaTSCAN</td>\n",
       "      <td>Processed</td>\n",
       "      <td>2/06/2013</td>\n",
       "      <td>DCM</td>\n",
       "      <td>5/27/2018</td>\n",
       "    </tr>\n",
       "    <tr>\n",
       "      <th>2</th>\n",
       "      <td>363956</td>\n",
       "      <td>3870</td>\n",
       "      <td>PD</td>\n",
       "      <td>F</td>\n",
       "      <td>41</td>\n",
       "      <td>0</td>\n",
       "      <td>SPECT</td>\n",
       "      <td>Reconstructed DaTSCAN</td>\n",
       "      <td>Processed</td>\n",
       "      <td>11/29/2012</td>\n",
       "      <td>DCM</td>\n",
       "      <td>5/27/2018</td>\n",
       "    </tr>\n",
       "    <tr>\n",
       "      <th>3</th>\n",
       "      <td>388601</td>\n",
       "      <td>4107</td>\n",
       "      <td>PD</td>\n",
       "      <td>M</td>\n",
       "      <td>71</td>\n",
       "      <td>0</td>\n",
       "      <td>SPECT</td>\n",
       "      <td>Reconstructed DaTSCAN</td>\n",
       "      <td>Processed</td>\n",
       "      <td>12/21/2012</td>\n",
       "      <td>DCM</td>\n",
       "      <td>5/27/2018</td>\n",
       "    </tr>\n",
       "    <tr>\n",
       "      <th>4</th>\n",
       "      <td>419581</td>\n",
       "      <td>3829</td>\n",
       "      <td>PD</td>\n",
       "      <td>F</td>\n",
       "      <td>68</td>\n",
       "      <td>5</td>\n",
       "      <td>SPECT</td>\n",
       "      <td>Reconstructed DaTSCAN</td>\n",
       "      <td>Processed</td>\n",
       "      <td>10/01/2013</td>\n",
       "      <td>DCM</td>\n",
       "      <td>5/27/2018</td>\n",
       "    </tr>\n",
       "  </tbody>\n",
       "</table>\n",
       "</div>"
      ],
      "text/plain": [
       "   Image Data ID  Subject    Group Sex  Age  Visit Modality  \\\n",
       "0         360618     3769  Control   M   71      0    SPECT   \n",
       "1         388617     4122       PD   M   64      0    SPECT   \n",
       "2         363956     3870       PD   F   41      0    SPECT   \n",
       "3         388601     4107       PD   M   71      0    SPECT   \n",
       "4         419581     3829       PD   F   68      5    SPECT   \n",
       "\n",
       "             Description       Type    Acq Date Format Downloaded  \n",
       "0  Reconstructed DaTSCAN  Processed  10/25/2012    DCM  5/27/2018  \n",
       "1  Reconstructed DaTSCAN  Processed   2/06/2013    DCM  5/27/2018  \n",
       "2  Reconstructed DaTSCAN  Processed  11/29/2012    DCM  5/27/2018  \n",
       "3  Reconstructed DaTSCAN  Processed  12/21/2012    DCM  5/27/2018  \n",
       "4  Reconstructed DaTSCAN  Processed  10/01/2013    DCM  5/27/2018  "
      ]
     },
     "execution_count": 10,
     "metadata": {},
     "output_type": "execute_result"
    }
   ],
   "source": [
    "metadata[0:5]"
   ]
  },
  {
   "cell_type": "code",
   "execution_count": 11,
   "metadata": {},
   "outputs": [],
   "source": [
    "for file in glob.glob(f'{PATH}PPMI*/**/Reconstructed_DaTSCAN/**/**/*.dcm'):\n",
    "    lstFilesDCM.append(file)"
   ]
  },
  {
   "cell_type": "code",
   "execution_count": 12,
   "metadata": {},
   "outputs": [
    {
     "data": {
      "text/plain": [
       "1569"
      ]
     },
     "execution_count": 12,
     "metadata": {},
     "output_type": "execute_result"
    }
   ],
   "source": [
    "len(lstFilesDCM)"
   ]
  },
  {
   "cell_type": "code",
   "execution_count": 13,
   "metadata": {},
   "outputs": [
    {
     "data": {
      "text/plain": [
       "1569"
      ]
     },
     "execution_count": 13,
     "metadata": {},
     "output_type": "execute_result"
    }
   ],
   "source": [
    "ptID = []\n",
    "for i in lstFilesDCM:\n",
    "    j = i.split(\"_\")[13].strip()\n",
    "    j = int(j[1:7])\n",
    "    ptID.append(j)\n",
    "len(ptID)"
   ]
  },
  {
   "cell_type": "code",
   "execution_count": 14,
   "metadata": {
    "scrolled": false
   },
   "outputs": [
    {
     "data": {
      "text/plain": [
       "1569"
      ]
     },
     "execution_count": 14,
     "metadata": {},
     "output_type": "execute_result"
    }
   ],
   "source": [
    "p ={}\n",
    "for o in ptID:\n",
    "    for k in metadata.iloc[:,0]:\n",
    "        if o == k:\n",
    "            p[o] = metadata.loc[metadata['Image Data ID'] == k, 'Group'].tolist()[0]\n",
    "len(p)"
   ]
  },
  {
   "cell_type": "code",
   "execution_count": 15,
   "metadata": {
    "scrolled": false
   },
   "outputs": [],
   "source": [
    "df = metadata[['Image Data ID','Group','Subject','Age','Sex']].set_index('Image Data ID')\n",
    "for index, rows in df.iterrows():\n",
    "    for i in lstFilesDCM:\n",
    "        j = i.split(\"_\")[13].strip()\n",
    "        j = int(j[1:7])\n",
    "        if index == j:\n",
    "            df.loc[df.index == j, \"Filenames\"] = i\n"
   ]
  },
  {
   "cell_type": "code",
   "execution_count": 163,
   "metadata": {},
   "outputs": [],
   "source": [
    "#Check duplicate item\n",
    "bg = []\n",
    "for i in lstFilesDCM:\n",
    "    for index, rows in df.iterrows():\n",
    "        j = i.split(\"_\")[13].strip()\n",
    "        j = int(j[1:7])\n",
    "        if j == index:\n",
    "            bg.append(index)\n",
    "print( [item for item, count in collections.Counter(bg).items() if count > 1] )\n",
    "            "
   ]
  },
  {
   "cell_type": "code",
   "execution_count": 16,
   "metadata": {},
   "outputs": [],
   "source": [
    "lstFilesDCM = df['Filenames'].values"
   ]
  },
  {
   "cell_type": "code",
   "execution_count": 17,
   "metadata": {},
   "outputs": [],
   "source": [
    "lstFilesDCM = lstFilesDCM.tolist()"
   ]
  },
  {
   "cell_type": "code",
   "execution_count": 18,
   "metadata": {
    "scrolled": false
   },
   "outputs": [
    {
     "data": {
      "text/html": [
       "<div>\n",
       "<style scoped>\n",
       "    .dataframe tbody tr th:only-of-type {\n",
       "        vertical-align: middle;\n",
       "    }\n",
       "\n",
       "    .dataframe tbody tr th {\n",
       "        vertical-align: top;\n",
       "    }\n",
       "\n",
       "    .dataframe thead th {\n",
       "        text-align: right;\n",
       "    }\n",
       "</style>\n",
       "<table border=\"1\" class=\"dataframe\">\n",
       "  <thead>\n",
       "    <tr style=\"text-align: right;\">\n",
       "      <th></th>\n",
       "      <th>Group</th>\n",
       "      <th>Subject</th>\n",
       "      <th>Age</th>\n",
       "      <th>Sex</th>\n",
       "      <th>Filenames</th>\n",
       "    </tr>\n",
       "    <tr>\n",
       "      <th>Image Data ID</th>\n",
       "      <th></th>\n",
       "      <th></th>\n",
       "      <th></th>\n",
       "      <th></th>\n",
       "      <th></th>\n",
       "    </tr>\n",
       "  </thead>\n",
       "  <tbody>\n",
       "    <tr>\n",
       "      <th>388578</th>\n",
       "      <td>Control</td>\n",
       "      <td>3969</td>\n",
       "      <td>80</td>\n",
       "      <td>F</td>\n",
       "      <td>./PPMI 9/3969/Reconstructed_DaTSCAN/2013-02-20...</td>\n",
       "    </tr>\n",
       "    <tr>\n",
       "      <th>767696</th>\n",
       "      <td>PD</td>\n",
       "      <td>3307</td>\n",
       "      <td>70</td>\n",
       "      <td>M</td>\n",
       "      <td>./PPMI 4/3307/Reconstructed_DaTSCAN/2015-11-05...</td>\n",
       "    </tr>\n",
       "    <tr>\n",
       "      <th>913228</th>\n",
       "      <td>PD</td>\n",
       "      <td>4109</td>\n",
       "      <td>71</td>\n",
       "      <td>M</td>\n",
       "      <td>./PPMI 4/4109/Reconstructed_DaTSCAN/2017-02-24...</td>\n",
       "    </tr>\n",
       "    <tr>\n",
       "      <th>418920</th>\n",
       "      <td>PD</td>\n",
       "      <td>3504</td>\n",
       "      <td>63</td>\n",
       "      <td>M</td>\n",
       "      <td>./PPMI 9/3504/Reconstructed_DaTSCAN/2013-01-23...</td>\n",
       "    </tr>\n",
       "    <tr>\n",
       "      <th>418669</th>\n",
       "      <td>PD</td>\n",
       "      <td>3307</td>\n",
       "      <td>67</td>\n",
       "      <td>M</td>\n",
       "      <td>./PPMI 2/3307/Reconstructed_DaTSCAN/2012-11-07...</td>\n",
       "    </tr>\n",
       "    <tr>\n",
       "      <th>360624</th>\n",
       "      <td>PD</td>\n",
       "      <td>4101</td>\n",
       "      <td>67</td>\n",
       "      <td>F</td>\n",
       "      <td>./PPMI 2/4101/Reconstructed_DaTSCAN/2012-11-14...</td>\n",
       "    </tr>\n",
       "    <tr>\n",
       "      <th>360615</th>\n",
       "      <td>PD</td>\n",
       "      <td>3633</td>\n",
       "      <td>69</td>\n",
       "      <td>F</td>\n",
       "      <td>./PPMI 3/3633/Reconstructed_DaTSCAN/2012-11-01...</td>\n",
       "    </tr>\n",
       "    <tr>\n",
       "      <th>342171</th>\n",
       "      <td>PD</td>\n",
       "      <td>3020</td>\n",
       "      <td>74</td>\n",
       "      <td>F</td>\n",
       "      <td>./PPMI 5/3020/Reconstructed_DaTSCAN/2012-03-27...</td>\n",
       "    </tr>\n",
       "    <tr>\n",
       "      <th>355210</th>\n",
       "      <td>PD</td>\n",
       "      <td>3473</td>\n",
       "      <td>55</td>\n",
       "      <td>F</td>\n",
       "      <td>./PPMI 3/3473/Reconstructed_DaTSCAN/2012-08-15...</td>\n",
       "    </tr>\n",
       "    <tr>\n",
       "      <th>342174</th>\n",
       "      <td>PD</td>\n",
       "      <td>3023</td>\n",
       "      <td>71</td>\n",
       "      <td>F</td>\n",
       "      <td>./PPMI 8/3023/Reconstructed_DaTSCAN/2012-05-01...</td>\n",
       "    </tr>\n",
       "    <tr>\n",
       "      <th>358148</th>\n",
       "      <td>PD</td>\n",
       "      <td>3559</td>\n",
       "      <td>39</td>\n",
       "      <td>M</td>\n",
       "      <td>./PPMI 9/3559/Reconstructed_DaTSCAN/2012-03-15...</td>\n",
       "    </tr>\n",
       "    <tr>\n",
       "      <th>419553</th>\n",
       "      <td>PD</td>\n",
       "      <td>3128</td>\n",
       "      <td>61</td>\n",
       "      <td>F</td>\n",
       "      <td>./PPMI 2/3128/Reconstructed_DaTSCAN/2013-09-18...</td>\n",
       "    </tr>\n",
       "    <tr>\n",
       "      <th>419858</th>\n",
       "      <td>PD</td>\n",
       "      <td>3209</td>\n",
       "      <td>70</td>\n",
       "      <td>M</td>\n",
       "      <td>./PPMI 9/3209/Reconstructed_DaTSCAN/2013-07-31...</td>\n",
       "    </tr>\n",
       "    <tr>\n",
       "      <th>504846</th>\n",
       "      <td>PD</td>\n",
       "      <td>3455</td>\n",
       "      <td>71</td>\n",
       "      <td>M</td>\n",
       "      <td>./PPMI 2/3455/Reconstructed_DaTSCAN/2015-03-19...</td>\n",
       "    </tr>\n",
       "    <tr>\n",
       "      <th>339896</th>\n",
       "      <td>Control</td>\n",
       "      <td>3310</td>\n",
       "      <td>65</td>\n",
       "      <td>M</td>\n",
       "      <td>./PPMI 4/3310/Reconstructed_DaTSCAN/2011-12-08...</td>\n",
       "    </tr>\n",
       "    <tr>\n",
       "      <th>418684</th>\n",
       "      <td>PD</td>\n",
       "      <td>3444</td>\n",
       "      <td>70</td>\n",
       "      <td>M</td>\n",
       "      <td>./PPMI/3444/Reconstructed_DaTSCAN/2013-03-14_1...</td>\n",
       "    </tr>\n",
       "    <tr>\n",
       "      <th>340347</th>\n",
       "      <td>Control</td>\n",
       "      <td>3405</td>\n",
       "      <td>63</td>\n",
       "      <td>F</td>\n",
       "      <td>./PPMI 3/3405/Reconstructed_DaTSCAN/2010-07-08...</td>\n",
       "    </tr>\n",
       "    <tr>\n",
       "      <th>355941</th>\n",
       "      <td>PD</td>\n",
       "      <td>3252</td>\n",
       "      <td>48</td>\n",
       "      <td>F</td>\n",
       "      <td>./PPMI 9/3252/Reconstructed_DaTSCAN/2011-12-21...</td>\n",
       "    </tr>\n",
       "    <tr>\n",
       "      <th>419855</th>\n",
       "      <td>PD</td>\n",
       "      <td>3162</td>\n",
       "      <td>63</td>\n",
       "      <td>M</td>\n",
       "      <td>./PPMI 6/3162/Reconstructed_DaTSCAN/2013-09-24...</td>\n",
       "    </tr>\n",
       "    <tr>\n",
       "      <th>419878</th>\n",
       "      <td>PD</td>\n",
       "      <td>3752</td>\n",
       "      <td>54</td>\n",
       "      <td>M</td>\n",
       "      <td>./PPMI 2/3752/Reconstructed_DaTSCAN/2013-08-28...</td>\n",
       "    </tr>\n",
       "    <tr>\n",
       "      <th>846856</th>\n",
       "      <td>PD</td>\n",
       "      <td>3128</td>\n",
       "      <td>64</td>\n",
       "      <td>F</td>\n",
       "      <td>./PPMI/3128/Reconstructed_DaTSCAN/2016-10-13_1...</td>\n",
       "    </tr>\n",
       "    <tr>\n",
       "      <th>389239</th>\n",
       "      <td>PD</td>\n",
       "      <td>3459</td>\n",
       "      <td>52</td>\n",
       "      <td>M</td>\n",
       "      <td>./PPMI 4/3459/Reconstructed_DaTSCAN/2011-08-18...</td>\n",
       "    </tr>\n",
       "    <tr>\n",
       "      <th>388627</th>\n",
       "      <td>Control</td>\n",
       "      <td>4139</td>\n",
       "      <td>81</td>\n",
       "      <td>M</td>\n",
       "      <td>./PPMI 3/4139/Reconstructed_DaTSCAN/2013-03-19...</td>\n",
       "    </tr>\n",
       "    <tr>\n",
       "      <th>767649</th>\n",
       "      <td>PD</td>\n",
       "      <td>3443</td>\n",
       "      <td>58</td>\n",
       "      <td>M</td>\n",
       "      <td>./PPMI 9/3443/Reconstructed_DaTSCAN/2016-02-24...</td>\n",
       "    </tr>\n",
       "    <tr>\n",
       "      <th>418654</th>\n",
       "      <td>PD</td>\n",
       "      <td>3125</td>\n",
       "      <td>47</td>\n",
       "      <td>M</td>\n",
       "      <td>./PPMI 4/3125/Reconstructed_DaTSCAN/2013-07-02...</td>\n",
       "    </tr>\n",
       "    <tr>\n",
       "      <th>504458</th>\n",
       "      <td>PD</td>\n",
       "      <td>3905</td>\n",
       "      <td>74</td>\n",
       "      <td>F</td>\n",
       "      <td>./PPMI 6/3905/Reconstructed_DaTSCAN/2014-10-22...</td>\n",
       "    </tr>\n",
       "    <tr>\n",
       "      <th>913182</th>\n",
       "      <td>PD</td>\n",
       "      <td>3664</td>\n",
       "      <td>66</td>\n",
       "      <td>F</td>\n",
       "      <td>./PPMI 5/3664/Reconstructed_DaTSCAN/2017-04-18...</td>\n",
       "    </tr>\n",
       "    <tr>\n",
       "      <th>495007</th>\n",
       "      <td>PD</td>\n",
       "      <td>3832</td>\n",
       "      <td>67</td>\n",
       "      <td>M</td>\n",
       "      <td>./PPMI 5/3832/Reconstructed_DaTSCAN/2014-11-25...</td>\n",
       "    </tr>\n",
       "    <tr>\n",
       "      <th>355943</th>\n",
       "      <td>PD</td>\n",
       "      <td>3352</td>\n",
       "      <td>53</td>\n",
       "      <td>M</td>\n",
       "      <td>./PPMI 3/3352/Reconstructed_DaTSCAN/2012-02-15...</td>\n",
       "    </tr>\n",
       "    <tr>\n",
       "      <th>913194</th>\n",
       "      <td>PD</td>\n",
       "      <td>3186</td>\n",
       "      <td>66</td>\n",
       "      <td>F</td>\n",
       "      <td>./PPMI 7/3186/Reconstructed_DaTSCAN/2017-05-11...</td>\n",
       "    </tr>\n",
       "    <tr>\n",
       "      <th>...</th>\n",
       "      <td>...</td>\n",
       "      <td>...</td>\n",
       "      <td>...</td>\n",
       "      <td>...</td>\n",
       "      <td>...</td>\n",
       "    </tr>\n",
       "    <tr>\n",
       "      <th>337839</th>\n",
       "      <td>Control</td>\n",
       "      <td>3859</td>\n",
       "      <td>60</td>\n",
       "      <td>M</td>\n",
       "      <td>./PPMI 3.5/3859/Reconstructed_DaTSCAN/2011-08-...</td>\n",
       "    </tr>\n",
       "    <tr>\n",
       "      <th>355243</th>\n",
       "      <td>PD</td>\n",
       "      <td>4027</td>\n",
       "      <td>66</td>\n",
       "      <td>M</td>\n",
       "      <td>./PPMI 7/4027/Reconstructed_DaTSCAN/2012-08-29...</td>\n",
       "    </tr>\n",
       "    <tr>\n",
       "      <th>419657</th>\n",
       "      <td>PD</td>\n",
       "      <td>3061</td>\n",
       "      <td>55</td>\n",
       "      <td>F</td>\n",
       "      <td>./PPMI 5/3061/Reconstructed_DaTSCAN/2013-04-19...</td>\n",
       "    </tr>\n",
       "    <tr>\n",
       "      <th>355246</th>\n",
       "      <td>Control</td>\n",
       "      <td>4063</td>\n",
       "      <td>65</td>\n",
       "      <td>M</td>\n",
       "      <td>./PPMI 6/4063/Reconstructed_DaTSCAN/2012-08-30...</td>\n",
       "    </tr>\n",
       "    <tr>\n",
       "      <th>446108</th>\n",
       "      <td>PD</td>\n",
       "      <td>3119</td>\n",
       "      <td>66</td>\n",
       "      <td>M</td>\n",
       "      <td>./PPMI/3119/Reconstructed_DaTSCAN/2014-02-27_1...</td>\n",
       "    </tr>\n",
       "    <tr>\n",
       "      <th>388535</th>\n",
       "      <td>Control</td>\n",
       "      <td>3750</td>\n",
       "      <td>53</td>\n",
       "      <td>M</td>\n",
       "      <td>./PPMI 5/3750/Reconstructed_DaTSCAN/2011-05-18...</td>\n",
       "    </tr>\n",
       "    <tr>\n",
       "      <th>339900</th>\n",
       "      <td>PD</td>\n",
       "      <td>3314</td>\n",
       "      <td>77</td>\n",
       "      <td>F</td>\n",
       "      <td>./PPMI 7/3314/Reconstructed_DaTSCAN/2012-01-11...</td>\n",
       "    </tr>\n",
       "    <tr>\n",
       "      <th>418485</th>\n",
       "      <td>PD</td>\n",
       "      <td>3434</td>\n",
       "      <td>55</td>\n",
       "      <td>M</td>\n",
       "      <td>./PPMI/3434/Reconstructed_DaTSCAN/2012-10-12_1...</td>\n",
       "    </tr>\n",
       "    <tr>\n",
       "      <th>418496</th>\n",
       "      <td>PD</td>\n",
       "      <td>3608</td>\n",
       "      <td>47</td>\n",
       "      <td>M</td>\n",
       "      <td>./PPMI/3608/Reconstructed_DaTSCAN/2012-06-05_1...</td>\n",
       "    </tr>\n",
       "    <tr>\n",
       "      <th>389241</th>\n",
       "      <td>PD</td>\n",
       "      <td>3471</td>\n",
       "      <td>74</td>\n",
       "      <td>M</td>\n",
       "      <td>./PPMI 3.5/3471/Reconstructed_DaTSCAN/2012-02-...</td>\n",
       "    </tr>\n",
       "    <tr>\n",
       "      <th>343882</th>\n",
       "      <td>PD</td>\n",
       "      <td>4056</td>\n",
       "      <td>64</td>\n",
       "      <td>M</td>\n",
       "      <td>./PPMI 5/4056/Reconstructed_DaTSCAN/2012-06-21...</td>\n",
       "    </tr>\n",
       "    <tr>\n",
       "      <th>355938</th>\n",
       "      <td>PD</td>\n",
       "      <td>3150</td>\n",
       "      <td>58</td>\n",
       "      <td>F</td>\n",
       "      <td>./PPMI/3150/Reconstructed_DaTSCAN/2011-11-30_1...</td>\n",
       "    </tr>\n",
       "    <tr>\n",
       "      <th>419280</th>\n",
       "      <td>PD</td>\n",
       "      <td>4026</td>\n",
       "      <td>76</td>\n",
       "      <td>M</td>\n",
       "      <td>./PPMI 4/4026/Reconstructed_DaTSCAN/2013-09-18...</td>\n",
       "    </tr>\n",
       "    <tr>\n",
       "      <th>419607</th>\n",
       "      <td>PD</td>\n",
       "      <td>4103</td>\n",
       "      <td>60</td>\n",
       "      <td>M</td>\n",
       "      <td>./PPMI 5/4103/Reconstructed_DaTSCAN/2014-01-10...</td>\n",
       "    </tr>\n",
       "    <tr>\n",
       "      <th>358124</th>\n",
       "      <td>PD</td>\n",
       "      <td>3415</td>\n",
       "      <td>63</td>\n",
       "      <td>M</td>\n",
       "      <td>./PPMI 2/3415/Reconstructed_DaTSCAN/2012-04-13...</td>\n",
       "    </tr>\n",
       "    <tr>\n",
       "      <th>847069</th>\n",
       "      <td>PD</td>\n",
       "      <td>3823</td>\n",
       "      <td>61</td>\n",
       "      <td>M</td>\n",
       "      <td>./PPMI 9/3823/Reconstructed_DaTSCAN/2016-06-07...</td>\n",
       "    </tr>\n",
       "    <tr>\n",
       "      <th>418705</th>\n",
       "      <td>PD</td>\n",
       "      <td>3815</td>\n",
       "      <td>63</td>\n",
       "      <td>M</td>\n",
       "      <td>./PPMI 3.5/3815/Reconstructed_DaTSCAN/2012-11-...</td>\n",
       "    </tr>\n",
       "    <tr>\n",
       "      <th>339040</th>\n",
       "      <td>PD</td>\n",
       "      <td>4012</td>\n",
       "      <td>51</td>\n",
       "      <td>F</td>\n",
       "      <td>./PPMI 7/4012/Reconstructed_DaTSCAN/2011-11-10...</td>\n",
       "    </tr>\n",
       "    <tr>\n",
       "      <th>446133</th>\n",
       "      <td>PD</td>\n",
       "      <td>3622</td>\n",
       "      <td>64</td>\n",
       "      <td>M</td>\n",
       "      <td>./PPMI 8/3622/Reconstructed_DaTSCAN/2014-03-28...</td>\n",
       "    </tr>\n",
       "    <tr>\n",
       "      <th>418665</th>\n",
       "      <td>PD</td>\n",
       "      <td>3230</td>\n",
       "      <td>71</td>\n",
       "      <td>M</td>\n",
       "      <td>./PPMI 3/3230/Reconstructed_DaTSCAN/2013-07-25...</td>\n",
       "    </tr>\n",
       "    <tr>\n",
       "      <th>341055</th>\n",
       "      <td>Control</td>\n",
       "      <td>3219</td>\n",
       "      <td>70</td>\n",
       "      <td>M</td>\n",
       "      <td>./PPMI 4/3219/Reconstructed_DaTSCAN/2011-10-12...</td>\n",
       "    </tr>\n",
       "    <tr>\n",
       "      <th>449029</th>\n",
       "      <td>PD</td>\n",
       "      <td>3701</td>\n",
       "      <td>49</td>\n",
       "      <td>M</td>\n",
       "      <td>./PPMI 3/3701/Reconstructed_DaTSCAN/2014-07-16...</td>\n",
       "    </tr>\n",
       "    <tr>\n",
       "      <th>436079</th>\n",
       "      <td>PD</td>\n",
       "      <td>3914</td>\n",
       "      <td>59</td>\n",
       "      <td>M</td>\n",
       "      <td>./PPMI 8/3914/Reconstructed_DaTSCAN/2014-04-03...</td>\n",
       "    </tr>\n",
       "    <tr>\n",
       "      <th>337831</th>\n",
       "      <td>PD</td>\n",
       "      <td>3815</td>\n",
       "      <td>62</td>\n",
       "      <td>M</td>\n",
       "      <td>./PPMI 6/3815/Reconstructed_DaTSCAN/2011-11-08...</td>\n",
       "    </tr>\n",
       "    <tr>\n",
       "      <th>363964</th>\n",
       "      <td>PD</td>\n",
       "      <td>4106</td>\n",
       "      <td>72</td>\n",
       "      <td>M</td>\n",
       "      <td>./PPMI 2/4106/Reconstructed_DaTSCAN/2012-12-21...</td>\n",
       "    </tr>\n",
       "    <tr>\n",
       "      <th>341020</th>\n",
       "      <td>PD</td>\n",
       "      <td>3154</td>\n",
       "      <td>73</td>\n",
       "      <td>F</td>\n",
       "      <td>./PPMI 4/3154/Reconstructed_DaTSCAN/2011-01-27...</td>\n",
       "    </tr>\n",
       "    <tr>\n",
       "      <th>340403</th>\n",
       "      <td>PD</td>\n",
       "      <td>3506</td>\n",
       "      <td>67</td>\n",
       "      <td>F</td>\n",
       "      <td>./PPMI/3506/Reconstructed_DaTSCAN/2011-01-13_1...</td>\n",
       "    </tr>\n",
       "    <tr>\n",
       "      <th>449033</th>\n",
       "      <td>PD</td>\n",
       "      <td>3780</td>\n",
       "      <td>72</td>\n",
       "      <td>F</td>\n",
       "      <td>./PPMI 3.5/3780/Reconstructed_DaTSCAN/2014-06-...</td>\n",
       "    </tr>\n",
       "    <tr>\n",
       "      <th>504434</th>\n",
       "      <td>PD</td>\n",
       "      <td>3589</td>\n",
       "      <td>77</td>\n",
       "      <td>F</td>\n",
       "      <td>./PPMI 8/3589/Reconstructed_DaTSCAN/2015-02-18...</td>\n",
       "    </tr>\n",
       "    <tr>\n",
       "      <th>419853</th>\n",
       "      <td>PD</td>\n",
       "      <td>3113</td>\n",
       "      <td>61</td>\n",
       "      <td>F</td>\n",
       "      <td>./PPMI 8/3113/Reconstructed_DaTSCAN/2013-07-12...</td>\n",
       "    </tr>\n",
       "  </tbody>\n",
       "</table>\n",
       "<p>314 rows × 5 columns</p>\n",
       "</div>"
      ],
      "text/plain": [
       "                 Group  Subject  Age Sex  \\\n",
       "Image Data ID                              \n",
       "388578         Control     3969   80   F   \n",
       "767696              PD     3307   70   M   \n",
       "913228              PD     4109   71   M   \n",
       "418920              PD     3504   63   M   \n",
       "418669              PD     3307   67   M   \n",
       "360624              PD     4101   67   F   \n",
       "360615              PD     3633   69   F   \n",
       "342171              PD     3020   74   F   \n",
       "355210              PD     3473   55   F   \n",
       "342174              PD     3023   71   F   \n",
       "358148              PD     3559   39   M   \n",
       "419553              PD     3128   61   F   \n",
       "419858              PD     3209   70   M   \n",
       "504846              PD     3455   71   M   \n",
       "339896         Control     3310   65   M   \n",
       "418684              PD     3444   70   M   \n",
       "340347         Control     3405   63   F   \n",
       "355941              PD     3252   48   F   \n",
       "419855              PD     3162   63   M   \n",
       "419878              PD     3752   54   M   \n",
       "846856              PD     3128   64   F   \n",
       "389239              PD     3459   52   M   \n",
       "388627         Control     4139   81   M   \n",
       "767649              PD     3443   58   M   \n",
       "418654              PD     3125   47   M   \n",
       "504458              PD     3905   74   F   \n",
       "913182              PD     3664   66   F   \n",
       "495007              PD     3832   67   M   \n",
       "355943              PD     3352   53   M   \n",
       "913194              PD     3186   66   F   \n",
       "...                ...      ...  ...  ..   \n",
       "337839         Control     3859   60   M   \n",
       "355243              PD     4027   66   M   \n",
       "419657              PD     3061   55   F   \n",
       "355246         Control     4063   65   M   \n",
       "446108              PD     3119   66   M   \n",
       "388535         Control     3750   53   M   \n",
       "339900              PD     3314   77   F   \n",
       "418485              PD     3434   55   M   \n",
       "418496              PD     3608   47   M   \n",
       "389241              PD     3471   74   M   \n",
       "343882              PD     4056   64   M   \n",
       "355938              PD     3150   58   F   \n",
       "419280              PD     4026   76   M   \n",
       "419607              PD     4103   60   M   \n",
       "358124              PD     3415   63   M   \n",
       "847069              PD     3823   61   M   \n",
       "418705              PD     3815   63   M   \n",
       "339040              PD     4012   51   F   \n",
       "446133              PD     3622   64   M   \n",
       "418665              PD     3230   71   M   \n",
       "341055         Control     3219   70   M   \n",
       "449029              PD     3701   49   M   \n",
       "436079              PD     3914   59   M   \n",
       "337831              PD     3815   62   M   \n",
       "363964              PD     4106   72   M   \n",
       "341020              PD     3154   73   F   \n",
       "340403              PD     3506   67   F   \n",
       "449033              PD     3780   72   F   \n",
       "504434              PD     3589   77   F   \n",
       "419853              PD     3113   61   F   \n",
       "\n",
       "                                                       Filenames  \n",
       "Image Data ID                                                     \n",
       "388578         ./PPMI 9/3969/Reconstructed_DaTSCAN/2013-02-20...  \n",
       "767696         ./PPMI 4/3307/Reconstructed_DaTSCAN/2015-11-05...  \n",
       "913228         ./PPMI 4/4109/Reconstructed_DaTSCAN/2017-02-24...  \n",
       "418920         ./PPMI 9/3504/Reconstructed_DaTSCAN/2013-01-23...  \n",
       "418669         ./PPMI 2/3307/Reconstructed_DaTSCAN/2012-11-07...  \n",
       "360624         ./PPMI 2/4101/Reconstructed_DaTSCAN/2012-11-14...  \n",
       "360615         ./PPMI 3/3633/Reconstructed_DaTSCAN/2012-11-01...  \n",
       "342171         ./PPMI 5/3020/Reconstructed_DaTSCAN/2012-03-27...  \n",
       "355210         ./PPMI 3/3473/Reconstructed_DaTSCAN/2012-08-15...  \n",
       "342174         ./PPMI 8/3023/Reconstructed_DaTSCAN/2012-05-01...  \n",
       "358148         ./PPMI 9/3559/Reconstructed_DaTSCAN/2012-03-15...  \n",
       "419553         ./PPMI 2/3128/Reconstructed_DaTSCAN/2013-09-18...  \n",
       "419858         ./PPMI 9/3209/Reconstructed_DaTSCAN/2013-07-31...  \n",
       "504846         ./PPMI 2/3455/Reconstructed_DaTSCAN/2015-03-19...  \n",
       "339896         ./PPMI 4/3310/Reconstructed_DaTSCAN/2011-12-08...  \n",
       "418684         ./PPMI/3444/Reconstructed_DaTSCAN/2013-03-14_1...  \n",
       "340347         ./PPMI 3/3405/Reconstructed_DaTSCAN/2010-07-08...  \n",
       "355941         ./PPMI 9/3252/Reconstructed_DaTSCAN/2011-12-21...  \n",
       "419855         ./PPMI 6/3162/Reconstructed_DaTSCAN/2013-09-24...  \n",
       "419878         ./PPMI 2/3752/Reconstructed_DaTSCAN/2013-08-28...  \n",
       "846856         ./PPMI/3128/Reconstructed_DaTSCAN/2016-10-13_1...  \n",
       "389239         ./PPMI 4/3459/Reconstructed_DaTSCAN/2011-08-18...  \n",
       "388627         ./PPMI 3/4139/Reconstructed_DaTSCAN/2013-03-19...  \n",
       "767649         ./PPMI 9/3443/Reconstructed_DaTSCAN/2016-02-24...  \n",
       "418654         ./PPMI 4/3125/Reconstructed_DaTSCAN/2013-07-02...  \n",
       "504458         ./PPMI 6/3905/Reconstructed_DaTSCAN/2014-10-22...  \n",
       "913182         ./PPMI 5/3664/Reconstructed_DaTSCAN/2017-04-18...  \n",
       "495007         ./PPMI 5/3832/Reconstructed_DaTSCAN/2014-11-25...  \n",
       "355943         ./PPMI 3/3352/Reconstructed_DaTSCAN/2012-02-15...  \n",
       "913194         ./PPMI 7/3186/Reconstructed_DaTSCAN/2017-05-11...  \n",
       "...                                                          ...  \n",
       "337839         ./PPMI 3.5/3859/Reconstructed_DaTSCAN/2011-08-...  \n",
       "355243         ./PPMI 7/4027/Reconstructed_DaTSCAN/2012-08-29...  \n",
       "419657         ./PPMI 5/3061/Reconstructed_DaTSCAN/2013-04-19...  \n",
       "355246         ./PPMI 6/4063/Reconstructed_DaTSCAN/2012-08-30...  \n",
       "446108         ./PPMI/3119/Reconstructed_DaTSCAN/2014-02-27_1...  \n",
       "388535         ./PPMI 5/3750/Reconstructed_DaTSCAN/2011-05-18...  \n",
       "339900         ./PPMI 7/3314/Reconstructed_DaTSCAN/2012-01-11...  \n",
       "418485         ./PPMI/3434/Reconstructed_DaTSCAN/2012-10-12_1...  \n",
       "418496         ./PPMI/3608/Reconstructed_DaTSCAN/2012-06-05_1...  \n",
       "389241         ./PPMI 3.5/3471/Reconstructed_DaTSCAN/2012-02-...  \n",
       "343882         ./PPMI 5/4056/Reconstructed_DaTSCAN/2012-06-21...  \n",
       "355938         ./PPMI/3150/Reconstructed_DaTSCAN/2011-11-30_1...  \n",
       "419280         ./PPMI 4/4026/Reconstructed_DaTSCAN/2013-09-18...  \n",
       "419607         ./PPMI 5/4103/Reconstructed_DaTSCAN/2014-01-10...  \n",
       "358124         ./PPMI 2/3415/Reconstructed_DaTSCAN/2012-04-13...  \n",
       "847069         ./PPMI 9/3823/Reconstructed_DaTSCAN/2016-06-07...  \n",
       "418705         ./PPMI 3.5/3815/Reconstructed_DaTSCAN/2012-11-...  \n",
       "339040         ./PPMI 7/4012/Reconstructed_DaTSCAN/2011-11-10...  \n",
       "446133         ./PPMI 8/3622/Reconstructed_DaTSCAN/2014-03-28...  \n",
       "418665         ./PPMI 3/3230/Reconstructed_DaTSCAN/2013-07-25...  \n",
       "341055         ./PPMI 4/3219/Reconstructed_DaTSCAN/2011-10-12...  \n",
       "449029         ./PPMI 3/3701/Reconstructed_DaTSCAN/2014-07-16...  \n",
       "436079         ./PPMI 8/3914/Reconstructed_DaTSCAN/2014-04-03...  \n",
       "337831         ./PPMI 6/3815/Reconstructed_DaTSCAN/2011-11-08...  \n",
       "363964         ./PPMI 2/4106/Reconstructed_DaTSCAN/2012-12-21...  \n",
       "341020         ./PPMI 4/3154/Reconstructed_DaTSCAN/2011-01-27...  \n",
       "340403         ./PPMI/3506/Reconstructed_DaTSCAN/2011-01-13_1...  \n",
       "449033         ./PPMI 3.5/3780/Reconstructed_DaTSCAN/2014-06-...  \n",
       "504434         ./PPMI 8/3589/Reconstructed_DaTSCAN/2015-02-18...  \n",
       "419853         ./PPMI 8/3113/Reconstructed_DaTSCAN/2013-07-12...  \n",
       "\n",
       "[314 rows x 5 columns]"
      ]
     },
     "execution_count": 18,
     "metadata": {},
     "output_type": "execute_result"
    }
   ],
   "source": [
    "df.sample(frac=0.2, axis=0)"
   ]
  },
  {
   "cell_type": "code",
   "execution_count": 19,
   "metadata": {},
   "outputs": [],
   "source": [
    "up = pd.read_csv('comandfile.csv')"
   ]
  },
  {
   "cell_type": "code",
   "execution_count": 20,
   "metadata": {},
   "outputs": [
    {
     "data": {
      "text/html": [
       "<div>\n",
       "<style scoped>\n",
       "    .dataframe tbody tr th:only-of-type {\n",
       "        vertical-align: middle;\n",
       "    }\n",
       "\n",
       "    .dataframe tbody tr th {\n",
       "        vertical-align: top;\n",
       "    }\n",
       "\n",
       "    .dataframe thead th {\n",
       "        text-align: right;\n",
       "    }\n",
       "</style>\n",
       "<table border=\"1\" class=\"dataframe\">\n",
       "  <thead>\n",
       "    <tr style=\"text-align: right;\">\n",
       "      <th></th>\n",
       "      <th>Image Data ID</th>\n",
       "      <th>Group</th>\n",
       "      <th>Filenames</th>\n",
       "      <th>TOTAL3</th>\n",
       "      <th>1YR</th>\n",
       "      <th>2YR</th>\n",
       "      <th>3YR</th>\n",
       "      <th>TOTAL3.1</th>\n",
       "    </tr>\n",
       "  </thead>\n",
       "  <tbody>\n",
       "    <tr>\n",
       "      <th>0</th>\n",
       "      <td>688484</td>\n",
       "      <td>PD</td>\n",
       "      <td>./PPMI 5/3108/Reconstructed_DaTSCAN/2015-05-07...</td>\n",
       "      <td>10.500000</td>\n",
       "      <td>18.00</td>\n",
       "      <td>25.0</td>\n",
       "      <td>NaN</td>\n",
       "      <td>10.500000</td>\n",
       "    </tr>\n",
       "    <tr>\n",
       "      <th>1</th>\n",
       "      <td>446117</td>\n",
       "      <td>PD</td>\n",
       "      <td>./PPMI/3308/Reconstructed_DaTSCAN/2014-02-12_1...</td>\n",
       "      <td>19.666667</td>\n",
       "      <td>25.00</td>\n",
       "      <td>20.5</td>\n",
       "      <td>27.0</td>\n",
       "      <td>19.666667</td>\n",
       "    </tr>\n",
       "    <tr>\n",
       "      <th>2</th>\n",
       "      <td>446109</td>\n",
       "      <td>PD</td>\n",
       "      <td>./PPMI 9/3173/Reconstructed_DaTSCAN/2014-03-19...</td>\n",
       "      <td>24.500000</td>\n",
       "      <td>30.50</td>\n",
       "      <td>38.0</td>\n",
       "      <td>49.0</td>\n",
       "      <td>24.500000</td>\n",
       "    </tr>\n",
       "    <tr>\n",
       "      <th>3</th>\n",
       "      <td>341084</td>\n",
       "      <td>PD</td>\n",
       "      <td>./PPMI 8/3951/Reconstructed_DaTSCAN/2011-09-28...</td>\n",
       "      <td>14.000000</td>\n",
       "      <td>17.75</td>\n",
       "      <td>18.0</td>\n",
       "      <td>10.5</td>\n",
       "      <td>14.000000</td>\n",
       "    </tr>\n",
       "    <tr>\n",
       "      <th>4</th>\n",
       "      <td>363942</td>\n",
       "      <td>PD</td>\n",
       "      <td>./PPMI/3027/Reconstructed_DaTSCAN/2012-11-28_1...</td>\n",
       "      <td>26.000000</td>\n",
       "      <td>22.25</td>\n",
       "      <td>22.0</td>\n",
       "      <td>17.5</td>\n",
       "      <td>26.000000</td>\n",
       "    </tr>\n",
       "  </tbody>\n",
       "</table>\n",
       "</div>"
      ],
      "text/plain": [
       "   Image Data ID Group                                          Filenames  \\\n",
       "0         688484    PD  ./PPMI 5/3108/Reconstructed_DaTSCAN/2015-05-07...   \n",
       "1         446117    PD  ./PPMI/3308/Reconstructed_DaTSCAN/2014-02-12_1...   \n",
       "2         446109    PD  ./PPMI 9/3173/Reconstructed_DaTSCAN/2014-03-19...   \n",
       "3         341084    PD  ./PPMI 8/3951/Reconstructed_DaTSCAN/2011-09-28...   \n",
       "4         363942    PD  ./PPMI/3027/Reconstructed_DaTSCAN/2012-11-28_1...   \n",
       "\n",
       "      TOTAL3    1YR   2YR   3YR   TOTAL3.1  \n",
       "0  10.500000  18.00  25.0   NaN  10.500000  \n",
       "1  19.666667  25.00  20.5  27.0  19.666667  \n",
       "2  24.500000  30.50  38.0  49.0  24.500000  \n",
       "3  14.000000  17.75  18.0  10.5  14.000000  \n",
       "4  26.000000  22.25  22.0  17.5  26.000000  "
      ]
     },
     "execution_count": 20,
     "metadata": {},
     "output_type": "execute_result"
    }
   ],
   "source": [
    "up.head()"
   ]
  },
  {
   "cell_type": "code",
   "execution_count": 21,
   "metadata": {},
   "outputs": [],
   "source": [
    "up_df = up[['Image Data ID','TOTAL3','1YR','2YR','3YR','TOTAL3']].set_index('Image Data ID')"
   ]
  },
  {
   "cell_type": "code",
   "execution_count": 22,
   "metadata": {},
   "outputs": [],
   "source": [
    "df1to4 = df.join(up_df)"
   ]
  },
  {
   "cell_type": "code",
   "execution_count": 23,
   "metadata": {},
   "outputs": [],
   "source": [
    "df1to4 = df1to4.dropna(axis=0,subset=(['1YR']))"
   ]
  },
  {
   "cell_type": "code",
   "execution_count": 222,
   "metadata": {},
   "outputs": [],
   "source": [
    "df1to4.to_csv('comandfile.csv')"
   ]
  },
  {
   "cell_type": "code",
   "execution_count": 6,
   "metadata": {},
   "outputs": [],
   "source": [
    "df1to4 = pd.read_csv('comandfile.csv')"
   ]
  },
  {
   "cell_type": "code",
   "execution_count": 7,
   "metadata": {},
   "outputs": [],
   "source": [
    "df1to4 = df1to4[~df1to4.Group.str.contains('Control')]"
   ]
  },
  {
   "cell_type": "code",
   "execution_count": 8,
   "metadata": {},
   "outputs": [],
   "source": [
    "df1to4 = df1to4[~df1to4.TOTAL3.isnull()]"
   ]
  },
  {
   "cell_type": "code",
   "execution_count": 9,
   "metadata": {
    "scrolled": false
   },
   "outputs": [
    {
     "data": {
      "text/plain": [
       "Unnamed: 0       False\n",
       "Image Data ID    False\n",
       "Group            False\n",
       "Subject          False\n",
       "Age              False\n",
       "Sex              False\n",
       "Filenames        False\n",
       "TOTAL3           False\n",
       "1YR              False\n",
       "2YR              False\n",
       "3YR              False\n",
       "TOTAL3.1         False\n",
       "dtype: bool"
      ]
     },
     "execution_count": 9,
     "metadata": {},
     "output_type": "execute_result"
    }
   ],
   "source": [
    "df1to4.any().isnull()"
   ]
  },
  {
   "cell_type": "code",
   "execution_count": 10,
   "metadata": {},
   "outputs": [],
   "source": [
    "df1to4.loc[df1to4['Sex']=='F', 'is_M']=0\n",
    "df1to4.loc[df1to4['Sex']=='M', 'is_M']=1\n",
    "df1to4.loc[df1to4['Sex']=='F', 'is_F']=1\n",
    "df1to4.loc[df1to4['Sex']=='M', 'is_F']=0"
   ]
  },
  {
   "cell_type": "code",
   "execution_count": 11,
   "metadata": {},
   "outputs": [],
   "source": [
    "pro = (df1to4['1YR'].values - df1to4['TOTAL3'].values)\n",
    "progress = []\n",
    "\n",
    "for i in pro:\n",
    "    if i > 2 : progress.append('1')\n",
    "    #elif i < (-2) : progress.append('0')\n",
    "    else : progress.append('0')\n",
    "df1to4['Progress'] = progress\n",
    "df1to4['pro'] = pro\n",
    "del(pro,progress)"
   ]
  },
  {
   "cell_type": "code",
   "execution_count": null,
   "metadata": {},
   "outputs": [],
   "source": []
  },
  {
   "cell_type": "code",
   "execution_count": 12,
   "metadata": {},
   "outputs": [],
   "source": [
    "from sklearn.preprocessing import MinMaxScaler"
   ]
  },
  {
   "cell_type": "code",
   "execution_count": 13,
   "metadata": {},
   "outputs": [],
   "source": [
    "scale3 = MinMaxScaler()"
   ]
  },
  {
   "cell_type": "code",
   "execution_count": 14,
   "metadata": {},
   "outputs": [
    {
     "name": "stdout",
     "output_type": "stream",
     "text": [
      "MinMaxScaler(copy=True, feature_range=(0, 1))\n"
     ]
    }
   ],
   "source": [
    "print(scale3.fit(df1to4['TOTAL3'].values.reshape(-1,1)))"
   ]
  },
  {
   "cell_type": "code",
   "execution_count": 15,
   "metadata": {},
   "outputs": [],
   "source": [
    "df1to4['3scale'] = scale3.transform(df1to4['TOTAL3'].values.reshape(-1,1))"
   ]
  },
  {
   "cell_type": "code",
   "execution_count": 16,
   "metadata": {},
   "outputs": [],
   "source": [
    "del(scale3)"
   ]
  },
  {
   "cell_type": "code",
   "execution_count": 17,
   "metadata": {},
   "outputs": [],
   "source": [
    "from sklearn.model_selection import train_test_split\n",
    "X_train_tmp, X_test_tmp, param_train_tmp, param_test_tmp, y_train_tmp, y_test_tmp = train_test_split(df1to4, df1to4[['is_F','is_M','Age','3scale']], df1to4['Progress'], test_size=0.2)\n",
    "\n",
    "from sklearn.model_selection import train_test_split\n",
    "X_train_tmp, X_val_tmp, param_train_tmp, param_val_tmp, y_train_tmp, y_val_tmp = train_test_split(X_train_tmp, param_train_tmp, y_train_tmp, test_size=0.3)"
   ]
  },
  {
   "cell_type": "code",
   "execution_count": 18,
   "metadata": {},
   "outputs": [],
   "source": [
    "lstFilesDCM_train = []  # create an empty list\n",
    "lstFilesDCM_test = []\n",
    "lstFilesDCM_val = []\n",
    "lstFilesDCM_train = X_train_tmp['Filenames'].values\n",
    "lstFilesDCM_train = lstFilesDCM_train.tolist()\n",
    "lstFilesDCM_test = X_test_tmp['Filenames'].values\n",
    "lstFilesDCM_test = lstFilesDCM_test.tolist()\n",
    "lstFilesDCM_val = X_val_tmp['Filenames'].values\n",
    "lstFilesDCM_val = lstFilesDCM_val.tolist()"
   ]
  },
  {
   "cell_type": "markdown",
   "metadata": {},
   "source": [
    "For NORMAL Image"
   ]
  },
  {
   "cell_type": "code",
   "execution_count": 19,
   "metadata": {},
   "outputs": [],
   "source": [
    "#Training Set"
   ]
  },
  {
   "cell_type": "code",
   "execution_count": 20,
   "metadata": {},
   "outputs": [
    {
     "data": {
      "text/plain": [
       "(685, 91, 91, 109)"
      ]
     },
     "execution_count": 20,
     "metadata": {},
     "output_type": "execute_result"
    }
   ],
   "source": [
    "# loop through all the DICOM files\n",
    "image_array_train =[]\n",
    "\n",
    "for filenameDCM in lstFilesDCM_train:\n",
    "    ds = pydicom.read_file(str(SPECTPATH / filenameDCM))\n",
    "    #ds_3d = ds.pixel_array[30]\n",
    "    #for i in range(31,51):\n",
    "    #    ds_3d = np.dstack((ds_3d,ds.pixel_array[i]))\n",
    "    \n",
    "    image_array_train.append(ds.pixel_array[:])\n",
    "\n",
    "image_array_train = np.asarray(image_array_train)\n",
    "image_array_train = image_array_train.transpose(0,3,1,2)\n",
    "image_array_train.shape"
   ]
  },
  {
   "cell_type": "code",
   "execution_count": 21,
   "metadata": {},
   "outputs": [],
   "source": [
    "image_array_train= image_array_train.astype('float64')"
   ]
  },
  {
   "cell_type": "code",
   "execution_count": 22,
   "metadata": {},
   "outputs": [],
   "source": [
    "image_array_train -= image_array_train.min()\n",
    "image_array_train /= (image_array_train.max()-image_array_train.min())"
   ]
  },
  {
   "cell_type": "code",
   "execution_count": 23,
   "metadata": {},
   "outputs": [
    {
     "data": {
      "text/plain": [
       "(685, 91, 91, 109)"
      ]
     },
     "execution_count": 23,
     "metadata": {},
     "output_type": "execute_result"
    }
   ],
   "source": [
    "image_array_train.shape"
   ]
  },
  {
   "cell_type": "code",
   "execution_count": 24,
   "metadata": {},
   "outputs": [],
   "source": [
    "#Validation set"
   ]
  },
  {
   "cell_type": "code",
   "execution_count": 25,
   "metadata": {},
   "outputs": [
    {
     "data": {
      "text/plain": [
       "(294, 91, 91, 109)"
      ]
     },
     "execution_count": 25,
     "metadata": {},
     "output_type": "execute_result"
    }
   ],
   "source": [
    "# loop through all the DICOM files\n",
    "image_array_val =[]\n",
    "\n",
    "for filenameDCM in lstFilesDCM_val:\n",
    "    ds = pydicom.read_file(str(SPECTPATH / filenameDCM))\n",
    "    #ds_3d = ds.pixel_array[30]\n",
    "    #for i in range(31,51):\n",
    "    #    ds_3d = np.dstack((ds_3d,ds.pixel_array[i]))\n",
    "\n",
    "    image_array_val.append(ds.pixel_array)\n",
    "\n",
    "image_array_val = np.asarray(image_array_val)\n",
    "image_array_val = image_array_val.astype('float64')\n",
    "image_array_val = image_array_val.transpose(0,3,1,2)\n",
    "image_array_val -= image_array_val.min()\n",
    "image_array_val /= (image_array_val.max()-image_array_val.min())\n",
    "image_array_val.shape"
   ]
  },
  {
   "cell_type": "code",
   "execution_count": 26,
   "metadata": {},
   "outputs": [],
   "source": [
    "#Test set"
   ]
  },
  {
   "cell_type": "code",
   "execution_count": 27,
   "metadata": {},
   "outputs": [
    {
     "data": {
      "text/plain": [
       "(245, 91, 109, 91)"
      ]
     },
     "execution_count": 27,
     "metadata": {},
     "output_type": "execute_result"
    }
   ],
   "source": [
    "# loop through all the DICOM files\n",
    "image_array_test =[]\n",
    "\n",
    "for filenameDCM in lstFilesDCM_test:\n",
    "    ds = pydicom.read_file(str(SPECTPATH / filenameDCM))\n",
    "    #ds_3d = ds.pixel_array[30]\n",
    "    #for i in range(31,51):\n",
    "    #    ds_3d = np.dstack((ds_3d,ds.pixel_array[i]))\n",
    "\n",
    "    image_array_test.append(ds.pixel_array)\n",
    "\n",
    "image_array_test = np.asarray(image_array_test, dtype='float64')\n",
    "image_array_val = image_array_val.transpose(0,3,1,2)\n",
    "image_array_test -= image_array_test.min()\n",
    "image_array_test /= (image_array_test.max()-image_array_test.min())\n",
    "image_array_test.shape "
   ]
  },
  {
   "cell_type": "code",
   "execution_count": null,
   "metadata": {},
   "outputs": [],
   "source": []
  },
  {
   "cell_type": "code",
   "execution_count": 28,
   "metadata": {
    "scrolled": true
   },
   "outputs": [
    {
     "data": {
      "text/plain": [
       "['./PPMI5/3459/Reconstructed_DaTSCAN/2012-05-22_15_56_28.0/S160269/PPMI_3459_NM_Reconstructed_DaTSCAN_Br_20140401163110115_1_S160269_I418358.dcm',\n",
       " './PPMI5/4110/Reconstructed_DaTSCAN/2013-01-04_12_45_53.0/S182320/PPMI_4110_NM_Reconstructed_DaTSCAN_Br_20130909141041986_1_S182320_I388605.dcm',\n",
       " './PPMI3/3591/Reconstructed_DaTSCAN/2014-03-11_10_39_02.0/S225364/PPMI_3591_NM_Reconstructed_DaTSCAN_Br_20140725131211151_1_S225364_I436869.dcm',\n",
       " './PPMI2/3824/Reconstructed_DaTSCAN/2013-09-03_14_33_53.0/S215539/PPMI_3824_NM_Reconstructed_DaTSCAN_Br_20140409150651498_1_S215539_I419579.dcm',\n",
       " './PPMI5/3601/Reconstructed_DaTSCAN/2011-07-19_15_47_05.0/S120194/PPMI_3601_NM_Reconstructed_DaTSCAN_Br_20121008153907447_1_S120194_I338789.dcm']"
      ]
     },
     "execution_count": 28,
     "metadata": {},
     "output_type": "execute_result"
    }
   ],
   "source": [
    "#Check matched data-result by Image ID number\n",
    "lstFilesDCM_test[0:5]"
   ]
  },
  {
   "cell_type": "code",
   "execution_count": 29,
   "metadata": {
    "scrolled": false
   },
   "outputs": [
    {
     "data": {
      "text/html": [
       "<div>\n",
       "<style scoped>\n",
       "    .dataframe tbody tr th:only-of-type {\n",
       "        vertical-align: middle;\n",
       "    }\n",
       "\n",
       "    .dataframe tbody tr th {\n",
       "        vertical-align: top;\n",
       "    }\n",
       "\n",
       "    .dataframe thead th {\n",
       "        text-align: right;\n",
       "    }\n",
       "</style>\n",
       "<table border=\"1\" class=\"dataframe\">\n",
       "  <thead>\n",
       "    <tr style=\"text-align: right;\">\n",
       "      <th></th>\n",
       "      <th>Unnamed: 0</th>\n",
       "      <th>Image Data ID</th>\n",
       "      <th>Group</th>\n",
       "      <th>Subject</th>\n",
       "      <th>Age</th>\n",
       "      <th>Sex</th>\n",
       "      <th>Filenames</th>\n",
       "      <th>TOTAL3</th>\n",
       "      <th>1YR</th>\n",
       "      <th>2YR</th>\n",
       "      <th>3YR</th>\n",
       "      <th>TOTAL3.1</th>\n",
       "      <th>is_M</th>\n",
       "      <th>is_F</th>\n",
       "      <th>Progress</th>\n",
       "      <th>pro</th>\n",
       "      <th>3scale</th>\n",
       "    </tr>\n",
       "  </thead>\n",
       "  <tbody>\n",
       "    <tr>\n",
       "      <th>921</th>\n",
       "      <td>921</td>\n",
       "      <td>418358</td>\n",
       "      <td>PD</td>\n",
       "      <td>3459</td>\n",
       "      <td>53</td>\n",
       "      <td>M</td>\n",
       "      <td>./PPMI5/3459/Reconstructed_DaTSCAN/2012-05-22_...</td>\n",
       "      <td>21.666667</td>\n",
       "      <td>36.5</td>\n",
       "      <td>45.5</td>\n",
       "      <td>51.0</td>\n",
       "      <td>21.666667</td>\n",
       "      <td>1.0</td>\n",
       "      <td>0.0</td>\n",
       "      <td>1</td>\n",
       "      <td>14.833333</td>\n",
       "      <td>0.260486</td>\n",
       "    </tr>\n",
       "    <tr>\n",
       "      <th>1212</th>\n",
       "      <td>1212</td>\n",
       "      <td>388605</td>\n",
       "      <td>PD</td>\n",
       "      <td>4110</td>\n",
       "      <td>71</td>\n",
       "      <td>M</td>\n",
       "      <td>./PPMI5/4110/Reconstructed_DaTSCAN/2013-01-04_...</td>\n",
       "      <td>26.400000</td>\n",
       "      <td>37.0</td>\n",
       "      <td>30.0</td>\n",
       "      <td>39.0</td>\n",
       "      <td>26.400000</td>\n",
       "      <td>1.0</td>\n",
       "      <td>0.0</td>\n",
       "      <td>1</td>\n",
       "      <td>10.600000</td>\n",
       "      <td>0.323179</td>\n",
       "    </tr>\n",
       "    <tr>\n",
       "      <th>217</th>\n",
       "      <td>217</td>\n",
       "      <td>436869</td>\n",
       "      <td>PD</td>\n",
       "      <td>3591</td>\n",
       "      <td>64</td>\n",
       "      <td>M</td>\n",
       "      <td>./PPMI3/3591/Reconstructed_DaTSCAN/2014-03-11_...</td>\n",
       "      <td>19.000000</td>\n",
       "      <td>19.0</td>\n",
       "      <td>21.5</td>\n",
       "      <td>19.0</td>\n",
       "      <td>19.000000</td>\n",
       "      <td>1.0</td>\n",
       "      <td>0.0</td>\n",
       "      <td>0</td>\n",
       "      <td>0.000000</td>\n",
       "      <td>0.225166</td>\n",
       "    </tr>\n",
       "    <tr>\n",
       "      <th>65</th>\n",
       "      <td>65</td>\n",
       "      <td>419579</td>\n",
       "      <td>PD</td>\n",
       "      <td>3824</td>\n",
       "      <td>56</td>\n",
       "      <td>F</td>\n",
       "      <td>./PPMI2/3824/Reconstructed_DaTSCAN/2013-09-03_...</td>\n",
       "      <td>28.333333</td>\n",
       "      <td>22.0</td>\n",
       "      <td>15.5</td>\n",
       "      <td>19.0</td>\n",
       "      <td>28.333333</td>\n",
       "      <td>0.0</td>\n",
       "      <td>1.0</td>\n",
       "      <td>0</td>\n",
       "      <td>-6.333333</td>\n",
       "      <td>0.348786</td>\n",
       "    </tr>\n",
       "    <tr>\n",
       "      <th>822</th>\n",
       "      <td>822</td>\n",
       "      <td>338789</td>\n",
       "      <td>PD</td>\n",
       "      <td>3601</td>\n",
       "      <td>64</td>\n",
       "      <td>F</td>\n",
       "      <td>./PPMI5/3601/Reconstructed_DaTSCAN/2011-07-19_...</td>\n",
       "      <td>34.000000</td>\n",
       "      <td>33.0</td>\n",
       "      <td>37.0</td>\n",
       "      <td>NaN</td>\n",
       "      <td>34.000000</td>\n",
       "      <td>0.0</td>\n",
       "      <td>1.0</td>\n",
       "      <td>0</td>\n",
       "      <td>-1.000000</td>\n",
       "      <td>0.423841</td>\n",
       "    </tr>\n",
       "  </tbody>\n",
       "</table>\n",
       "</div>"
      ],
      "text/plain": [
       "      Unnamed: 0  Image Data ID Group  Subject  Age Sex  \\\n",
       "921          921         418358    PD     3459   53   M   \n",
       "1212        1212         388605    PD     4110   71   M   \n",
       "217          217         436869    PD     3591   64   M   \n",
       "65            65         419579    PD     3824   56   F   \n",
       "822          822         338789    PD     3601   64   F   \n",
       "\n",
       "                                              Filenames     TOTAL3   1YR  \\\n",
       "921   ./PPMI5/3459/Reconstructed_DaTSCAN/2012-05-22_...  21.666667  36.5   \n",
       "1212  ./PPMI5/4110/Reconstructed_DaTSCAN/2013-01-04_...  26.400000  37.0   \n",
       "217   ./PPMI3/3591/Reconstructed_DaTSCAN/2014-03-11_...  19.000000  19.0   \n",
       "65    ./PPMI2/3824/Reconstructed_DaTSCAN/2013-09-03_...  28.333333  22.0   \n",
       "822   ./PPMI5/3601/Reconstructed_DaTSCAN/2011-07-19_...  34.000000  33.0   \n",
       "\n",
       "       2YR   3YR   TOTAL3.1  is_M  is_F Progress        pro    3scale  \n",
       "921   45.5  51.0  21.666667   1.0   0.0        1  14.833333  0.260486  \n",
       "1212  30.0  39.0  26.400000   1.0   0.0        1  10.600000  0.323179  \n",
       "217   21.5  19.0  19.000000   1.0   0.0        0   0.000000  0.225166  \n",
       "65    15.5  19.0  28.333333   0.0   1.0        0  -6.333333  0.348786  \n",
       "822   37.0   NaN  34.000000   0.0   1.0        0  -1.000000  0.423841  "
      ]
     },
     "execution_count": 29,
     "metadata": {},
     "output_type": "execute_result"
    }
   ],
   "source": [
    "X_test_tmp[0:5]"
   ]
  },
  {
   "cell_type": "code",
   "execution_count": 30,
   "metadata": {
    "scrolled": true
   },
   "outputs": [],
   "source": [
    "y_train = np.asarray(y_train_tmp.values)\n",
    "y_train = y_train.astype('float64')\n",
    "y_val = np.asarray(y_val_tmp.values)\n",
    "y_val = y_val.astype('float64')\n",
    "y_test = np.asarray(y_test_tmp.values)\n",
    "y_test = y_test.astype('float64')"
   ]
  },
  {
   "cell_type": "code",
   "execution_count": 31,
   "metadata": {},
   "outputs": [
    {
     "data": {
      "text/plain": [
       "((685,), (294,), (245,))"
      ]
     },
     "execution_count": 31,
     "metadata": {},
     "output_type": "execute_result"
    }
   ],
   "source": [
    "y_train.shape,y_val.shape,y_test.shape"
   ]
  },
  {
   "cell_type": "code",
   "execution_count": 102,
   "metadata": {},
   "outputs": [],
   "source": [
    "y_train = y_train.reshape(len(y_train),1)"
   ]
  },
  {
   "cell_type": "code",
   "execution_count": 104,
   "metadata": {},
   "outputs": [],
   "source": [
    "y_val = y_val.reshape(len(y_val),1)"
   ]
  },
  {
   "cell_type": "code",
   "execution_count": 105,
   "metadata": {},
   "outputs": [],
   "source": [
    "y_test = y_test.reshape(len(y_test),1)"
   ]
  },
  {
   "cell_type": "code",
   "execution_count": 32,
   "metadata": {},
   "outputs": [],
   "source": [
    "param_train = param_train_tmp.values\n",
    "params = []\n",
    "for i in param_train:\n",
    "    #stack = []\n",
    "    #stack.append(i)\n",
    "    #stack = stack*10\n",
    "    params.append(i)\n",
    "param_train = np.asarray(params)\n",
    "del(params)"
   ]
  },
  {
   "cell_type": "code",
   "execution_count": 33,
   "metadata": {},
   "outputs": [],
   "source": [
    "param_val = param_val_tmp.values\n",
    "params = []\n",
    "for i in param_val:\n",
    "    #stack = []\n",
    "    #stack.append(i)\n",
    "    #stack = stack*10\n",
    "    params.append(i)\n",
    "param_val = np.asarray(params)\n",
    "del(params)\n",
    "\n",
    "param_test = param_test_tmp.values\n",
    "params = []\n",
    "for i in param_test:\n",
    "    #stack = []\n",
    "    #stack.append(i)\n",
    "    #stack = stack*10\n",
    "    params.append(i)\n",
    "param_test = np.asarray(params)\n",
    "del(params)"
   ]
  },
  {
   "cell_type": "code",
   "execution_count": null,
   "metadata": {},
   "outputs": [],
   "source": []
  },
  {
   "cell_type": "code",
   "execution_count": 34,
   "metadata": {},
   "outputs": [
    {
     "data": {
      "text/plain": [
       "(685, 4)"
      ]
     },
     "execution_count": 34,
     "metadata": {},
     "output_type": "execute_result"
    }
   ],
   "source": [
    "param_train.shape"
   ]
  },
  {
   "cell_type": "markdown",
   "metadata": {},
   "source": [
    "### Fastai library"
   ]
  },
  {
   "cell_type": "markdown",
   "metadata": {},
   "source": [
    "#### Pretrained Resnet"
   ]
  },
  {
   "cell_type": "code",
   "execution_count": 68,
   "metadata": {},
   "outputs": [],
   "source": [
    "class  ConvWithMeta(nn.Module):\n",
    "    def __init__(self):\n",
    "        super(ConvWithMeta, self).__init__()\n",
    "        head_layer = [nn.Conv2d(1, 3, kernel_size=1, bias=False, stride=1, padding=0)]\n",
    "        self.head_layer = nn.Sequential(*head_layer)\n",
    "        resnet_layers = list(resnet34(True).children())[:8]\n",
    "        self.features = nn.Sequential(*resnet_layers,nn.Dropout2d(0.45))\n",
    "        for param in self.features.parameters():\n",
    "            param.requires_grad = False\n",
    "        self.bns = nn.ModuleList([nn.BatchNorm1d(46596), nn.BatchNorm1d(1024)])\n",
    "        self.lins = nn.ModuleList([nn.Linear(46596,1024), nn.Linear(1024, 1)])\n",
    "        for o in self.lins: kaiming_normal(o.weight.data)\n",
    "        self.fc_model = nn.Sequential(*self.fc_layers()).cuda()\n",
    "        \n",
    "    def fc_layers(self):\n",
    "        return [self.bns[0], nn.Dropout(0.4), self.lins[0], nn.ReLU(), \n",
    "                self.bns[1], nn.Dropout(0.4), self.lins[1]] \n",
    "        \n",
    "    def forward(self, x1, x2):\n",
    "        for i in range(91):\n",
    "            x_clone = x1[:,i,:,:].clone()\n",
    "            x_clone = x_clone.unsqueeze(1)\n",
    "            x_clone = self.head_layer(x_clone)           \n",
    "            x_clone = self.features(x_clone)\n",
    "            x_clone = nn.AdaptiveMaxPool2d((1,1))(x_clone)\n",
    "            if i == 0:\n",
    "                out = x_clone\n",
    "            else:\n",
    "                out = torch.cat((out,x_clone),1)\n",
    "        out=out.squeeze()\n",
    "        #x2=x2.unsqueeze(1)\n",
    "        out = torch.cat((out,x2[:,0:4]),1)\n",
    "        out = self.fc_model(out)\n",
    "        return F.sigmoid(out)\n",
    "        '''\n",
    "        x1 = x1.unsqueeze(1)\n",
    "        x1 = self.head_layer(x1)\n",
    "        x1 = self.features(x1)\n",
    "        x1 = nn.AdaptiveMaxPool2d((1,1))(x1)\n",
    "        x1 = x1.view(x1.size(0), -1)\n",
    "        x = torch.cat([x1, x2], 1)\n",
    "        x = self.fc_model(x)\n",
    "        x = x.squeeze()\n",
    "        return x'''"
   ]
  },
  {
   "cell_type": "code",
   "execution_count": 69,
   "metadata": {},
   "outputs": [],
   "source": [
    "class MetaModel(BasicModel):\n",
    "    def get_layer_groups(self):\n",
    "        m=self.model\n",
    "        return m"
   ]
  },
  {
   "cell_type": "code",
   "execution_count": 70,
   "metadata": {},
   "outputs": [],
   "source": [
    "class  MetaLearner(Learner):\n",
    "    def __init__(self, data, models, **kwargs):\n",
    "        super().__init__(data, models, **kwargs)\n",
    "        self.crit = F.binary_cross_entropy"
   ]
  },
  {
   "cell_type": "code",
   "execution_count": 87,
   "metadata": {},
   "outputs": [],
   "source": [
    "class MetaDataset(BaseDataset):\n",
    "    \"\"\" Dataset where x=(x1,x2) where x1 is an image.\n",
    "    \"\"\"\n",
    "    def __init__(self, fnames, x2, y, transform, path):\n",
    "        self.path,self.fnames,self.y,self.x2 = path,fnames,y,x2\n",
    "        assert(len(fnames)==len(y))\n",
    "        super().__init__(transform)\n",
    "\n",
    "    def __getitem__(self, idx):\n",
    "        \"\"\" This function should return a list.\n",
    "        \"\"\"\n",
    "        x1, x2 = self.get_x(idx)\n",
    "        y = self.get_y(idx)\n",
    "        return self.get(self.transform, (x1, x2), y)\n",
    "    \n",
    "    def __len__(self): return len(self.y)\n",
    "    \n",
    "    def get_x(self, i):\n",
    "        im = x1\n",
    "        x2 = np.expand_dims(self.x2[i], axis=1)\n",
    "        return x1, x2\n",
    "    \n",
    "    def get_n(self): return len(self.y)\n",
    "    def get_y(self, i): return self.y[i]\n",
    "    \n",
    "    def get(self, tfm, x, y):\n",
    "        x1, x2 = x\n",
    "        if tfm is None:\n",
    "            return [x1, x2, y] \n",
    "        x1,y = tfm(x1,y)\n",
    "        return [x1, x2, y]\n",
    "    \n",
    "    def get_c(self): return 1\n",
    "    \n",
    "    def get_sz(self): return self.transform.sz"
   ]
  },
  {
   "cell_type": "code",
   "execution_count": 106,
   "metadata": {},
   "outputs": [],
   "source": [
    "class MetaArraysDataset(BaseDataset):\n",
    "    def __init__(self, x, param, y, transform, path):\n",
    "        self.path = path\n",
    "        self.x,self.y, self.param = x, y , param\n",
    "        assert(len(x)==len(y))\n",
    "        super().__init__(transform)\n",
    "        \n",
    "    def __getitem__(self, idx):\n",
    "        \"\"\" This function should return a list.\n",
    "        \"\"\"\n",
    "        x = self.get_x(idx)\n",
    "        param = self.get_param(idx)\n",
    "        y = self.get_y(idx)\n",
    "        return self.get(self.transform, (x, param), y)\n",
    "   \n",
    "    def get(self, tfm, x, y):\n",
    "        x1, x2 = x\n",
    "        if tfm is None:\n",
    "            return [x1, x2, y] \n",
    "        x1,y = tfm(x1,y)\n",
    "        return [x1, x2, y]\n",
    "    def get_c(self): return int(self.y.max())+1\n",
    "    def get_x(self, i): return self.x[i]\n",
    "    def get_param(self,i): return self.param[i]\n",
    "    def get_y(self, i): return self.y[i]\n",
    "    def get_n(self): return len(self.y)\n",
    "    def get_sz(self): return self.x.shape[1]"
   ]
  },
  {
   "cell_type": "code",
   "execution_count": 107,
   "metadata": {},
   "outputs": [],
   "source": [
    "bs=4; sz=128\n",
    "#f_model = resnet34"
   ]
  },
  {
   "cell_type": "code",
   "execution_count": 108,
   "metadata": {},
   "outputs": [],
   "source": [
    "USE_GPU=True"
   ]
  },
  {
   "cell_type": "code",
   "execution_count": 109,
   "metadata": {},
   "outputs": [],
   "source": [
    "class ModelMetaData(ImageClassifierData):\n",
    "    \n",
    "    @classmethod\n",
    "    def get_ds(self, fn, trn, val, tfms, path, test=None):\n",
    "        res = [\n",
    "            fn(trn[0], trn[1], trn[2], tfms[0], path), # train\n",
    "            fn(val[0], val[1], val[2], tfms[1], path), # val\n",
    "            fn(trn[0], trn[1], trn[2], tfms[1], path), # fix\n",
    "            fn(val[0], val[1], val[2], tfms[0], path)  # aug\n",
    "        ]\n",
    "        if test:\n",
    "            test_lbls = np.zeros((len(test),1))\n",
    "            res += [\n",
    "                fn(test, test_lbls, tfms[1], path), # test\n",
    "                fn(test, test_lbls, tfms[0], path)  # test_aug\n",
    "            ]\n",
    "        else: res += [None,None]\n",
    "        return res\n",
    "    \n",
    "    @classmethod\n",
    "    def from_csv(self, path, folder, csv_fname, bs=bs, tfms=(None,None),val_idxs=None, \n",
    "                 suffix='', test_name=None, skip_header=True, num_workers=4):\n",
    "        fnames,x2,y = csv_source2(folder, csv_fname, skip_header, suffix)\n",
    "        ((val_fnames, trn_fnames), (val_x2, trn_x2), (val_y,trn_y)) = split_by_idx(val_idxs, np.array(fnames), x2, y)\n",
    "\n",
    "        test_fnames = read_dir(path, test_name) if test_name else None\n",
    "        datasets = self.get_ds(MetaDataset, (trn_fnames,trn_x2,trn_y), (val_fnames,val_x2,val_y),tfms=tfms, path=path)\n",
    "        return self(path, datasets, bs, num_workers, classes=1)\n",
    "    \n",
    "    @classmethod\n",
    "    def from_arrays(self, path, trn, val, bs=bs, tfms=(None,None), classes=None, num_workers=4, test=None):\n",
    "        trn_x1 , val_x1 = trn[0],val[0]\n",
    "        trn_x2 , val_x2 = trn[1],val[1]\n",
    "        trn_y , val_y = trn[2],val[2]\n",
    "        test_x1, test_x2 = test[0],test[1]\n",
    "        datasets = self.get_ds(MetaArraysDataset, (trn_x1,trn_x2,trn_y), (val_x1,val_x2,val_y) ,test=test, tfms=tfms,path=path)\n",
    "        return self(path, datasets, bs, num_workers, classes=classes)\n",
    "    \n",
    "        \n",
    "    def get_learner(self):\n",
    "        model = ConvWithMeta()\n",
    "        #model = Darknet([1,2,4,6,3], num_classes=1, nf=32)\n",
    "        device = torch.device(\"cuda:0\" if torch.cuda.is_available() else \"cpu\")\n",
    "        #m = nn.DataParallel(m, [1,2,3])\n",
    "        return MetaLearner(self, MetaModel(model.to(device)), opt_fn=optim.Adam)"
   ]
  },
  {
   "cell_type": "code",
   "execution_count": 110,
   "metadata": {},
   "outputs": [],
   "source": [
    "data = ModelMetaData.from_arrays('.', trn=(image_array_train,param_train,y_train),val=(image_array_val,param_val,y_val))"
   ]
  },
  {
   "cell_type": "code",
   "execution_count": 111,
   "metadata": {
    "scrolled": true
   },
   "outputs": [],
   "source": [
    "learner = data.get_learner()\n"
   ]
  },
  {
   "cell_type": "code",
   "execution_count": 67,
   "metadata": {
    "scrolled": true
   },
   "outputs": [
    {
     "data": {
      "application/vnd.jupyter.widget-view+json": {
       "model_id": "123c4701d24a487a889ecb00ede987cf",
       "version_major": 2,
       "version_minor": 0
      },
      "text/plain": [
       "HBox(children=(IntProgress(value=0, description='Epoch', max=1), HTML(value='')))"
      ]
     },
     "metadata": {},
     "output_type": "display_data"
    },
    {
     "name": "stdout",
     "output_type": "stream",
     "text": [
      " 44%|████▍     | 76/172 [03:27<04:22,  2.73s/it, loss=4]   "
     ]
    }
   ],
   "source": [
    "learner.lr_find()"
   ]
  },
  {
   "cell_type": "code",
   "execution_count": 68,
   "metadata": {
    "scrolled": true
   },
   "outputs": [
    {
     "data": {
      "image/png": "[encoded data removed]",
      "text/plain": [
       "<Figure size 432x288 with 1 Axes>"
      ]
     },
     "metadata": {},
     "output_type": "display_data"
    }
   ],
   "source": [
    "learner.sched.plot()"
   ]
  },
  {
   "cell_type": "code",
   "execution_count": 69,
   "metadata": {
    "scrolled": true
   },
   "outputs": [
    {
     "data": {
      "image/png": "[encoded data removed]",
      "text/plain": [
       "<Figure size 432x288 with 1 Axes>"
      ]
     },
     "metadata": {},
     "output_type": "display_data"
    }
   ],
   "source": [
    "learner.sched.plot(n_skip=5, n_skip_end=1)"
   ]
  },
  {
   "cell_type": "code",
   "execution_count": 112,
   "metadata": {},
   "outputs": [
    {
     "data": {
      "application/vnd.jupyter.widget-view+json": {
       "model_id": "84be80bbbbcf4b2bb0941b072a609cd3",
       "version_major": 2,
       "version_minor": 0
      },
      "text/plain": [
       "HBox(children=(IntProgress(value=0, description='Epoch', max=3), HTML(value='')))"
      ]
     },
     "metadata": {},
     "output_type": "display_data"
    },
    {
     "name": "stdout",
     "output_type": "stream",
     "text": [
      " 99%|█████████▉| 171/172 [07:47<00:02,  2.73s/it, loss=1.37]"
     ]
    },
    {
     "ename": "RuntimeError",
     "evalue": "dimension out of range (expected to be in range of [-1, 0], but got 1)",
     "output_type": "error",
     "traceback": [
      "\u001b[0;31m---------------------------------------------------------------------------\u001b[0m",
      "\u001b[0;31mRuntimeError\u001b[0m                              Traceback (most recent call last)",
      "\u001b[0;32m<ipython-input-112-5d86d51ce559>\u001b[0m in \u001b[0;36m<module>\u001b[0;34m()\u001b[0m\n\u001b[0;32m----> 1\u001b[0;31m \u001b[0mlearner\u001b[0m\u001b[0;34m.\u001b[0m\u001b[0mfit\u001b[0m\u001b[0;34m(\u001b[0m\u001b[0;36m2e-4\u001b[0m\u001b[0;34m,\u001b[0m\u001b[0;36m3\u001b[0m\u001b[0;34m)\u001b[0m\u001b[0;34m\u001b[0m\u001b[0m\n\u001b[0m",
      "\u001b[0;32m~/PPMI/fastai/learner.py\u001b[0m in \u001b[0;36mfit\u001b[0;34m(self, lrs, n_cycle, wds, **kwargs)\u001b[0m\n\u001b[1;32m    285\u001b[0m         \u001b[0mself\u001b[0m\u001b[0;34m.\u001b[0m\u001b[0msched\u001b[0m \u001b[0;34m=\u001b[0m \u001b[0;32mNone\u001b[0m\u001b[0;34m\u001b[0m\u001b[0m\n\u001b[1;32m    286\u001b[0m         \u001b[0mlayer_opt\u001b[0m \u001b[0;34m=\u001b[0m \u001b[0mself\u001b[0m\u001b[0;34m.\u001b[0m\u001b[0mget_layer_opt\u001b[0m\u001b[0;34m(\u001b[0m\u001b[0mlrs\u001b[0m\u001b[0;34m,\u001b[0m \u001b[0mwds\u001b[0m\u001b[0;34m)\u001b[0m\u001b[0;34m\u001b[0m\u001b[0m\n\u001b[0;32m--> 287\u001b[0;31m         \u001b[0;32mreturn\u001b[0m \u001b[0mself\u001b[0m\u001b[0;34m.\u001b[0m\u001b[0mfit_gen\u001b[0m\u001b[0;34m(\u001b[0m\u001b[0mself\u001b[0m\u001b[0;34m.\u001b[0m\u001b[0mmodel\u001b[0m\u001b[0;34m,\u001b[0m \u001b[0mself\u001b[0m\u001b[0;34m.\u001b[0m\u001b[0mdata\u001b[0m\u001b[0;34m,\u001b[0m \u001b[0mlayer_opt\u001b[0m\u001b[0;34m,\u001b[0m \u001b[0mn_cycle\u001b[0m\u001b[0;34m,\u001b[0m \u001b[0;34m**\u001b[0m\u001b[0mkwargs\u001b[0m\u001b[0;34m)\u001b[0m\u001b[0;34m\u001b[0m\u001b[0m\n\u001b[0m\u001b[1;32m    288\u001b[0m \u001b[0;34m\u001b[0m\u001b[0m\n\u001b[1;32m    289\u001b[0m     \u001b[0;32mdef\u001b[0m \u001b[0mwarm_up\u001b[0m\u001b[0;34m(\u001b[0m\u001b[0mself\u001b[0m\u001b[0;34m,\u001b[0m \u001b[0mlr\u001b[0m\u001b[0;34m,\u001b[0m \u001b[0mwds\u001b[0m\u001b[0;34m=\u001b[0m\u001b[0;32mNone\u001b[0m\u001b[0;34m)\u001b[0m\u001b[0;34m:\u001b[0m\u001b[0;34m\u001b[0m\u001b[0m\n",
      "\u001b[0;32m~/PPMI/fastai/learner.py\u001b[0m in \u001b[0;36mfit_gen\u001b[0;34m(self, model, data, layer_opt, n_cycle, cycle_len, cycle_mult, cycle_save_name, best_save_name, use_clr, use_clr_beta, metrics, callbacks, use_wd_sched, norm_wds, wds_sched_mult, use_swa, swa_start, swa_eval_freq, **kwargs)\u001b[0m\n\u001b[1;32m    232\u001b[0m             \u001b[0mmetrics\u001b[0m\u001b[0;34m=\u001b[0m\u001b[0mmetrics\u001b[0m\u001b[0;34m,\u001b[0m \u001b[0mcallbacks\u001b[0m\u001b[0;34m=\u001b[0m\u001b[0mcallbacks\u001b[0m\u001b[0;34m,\u001b[0m \u001b[0mreg_fn\u001b[0m\u001b[0;34m=\u001b[0m\u001b[0mself\u001b[0m\u001b[0;34m.\u001b[0m\u001b[0mreg_fn\u001b[0m\u001b[0;34m,\u001b[0m \u001b[0mclip\u001b[0m\u001b[0;34m=\u001b[0m\u001b[0mself\u001b[0m\u001b[0;34m.\u001b[0m\u001b[0mclip\u001b[0m\u001b[0;34m,\u001b[0m \u001b[0mfp16\u001b[0m\u001b[0;34m=\u001b[0m\u001b[0mself\u001b[0m\u001b[0;34m.\u001b[0m\u001b[0mfp16\u001b[0m\u001b[0;34m,\u001b[0m\u001b[0;34m\u001b[0m\u001b[0m\n\u001b[1;32m    233\u001b[0m             \u001b[0mswa_model\u001b[0m\u001b[0;34m=\u001b[0m\u001b[0mself\u001b[0m\u001b[0;34m.\u001b[0m\u001b[0mswa_model\u001b[0m \u001b[0;32mif\u001b[0m \u001b[0muse_swa\u001b[0m \u001b[0;32melse\u001b[0m \u001b[0;32mNone\u001b[0m\u001b[0;34m,\u001b[0m \u001b[0mswa_start\u001b[0m\u001b[0;34m=\u001b[0m\u001b[0mswa_start\u001b[0m\u001b[0;34m,\u001b[0m\u001b[0;34m\u001b[0m\u001b[0m\n\u001b[0;32m--> 234\u001b[0;31m             swa_eval_freq=swa_eval_freq, **kwargs)\n\u001b[0m\u001b[1;32m    235\u001b[0m \u001b[0;34m\u001b[0m\u001b[0m\n\u001b[1;32m    236\u001b[0m     \u001b[0;32mdef\u001b[0m \u001b[0mget_layer_groups\u001b[0m\u001b[0;34m(\u001b[0m\u001b[0mself\u001b[0m\u001b[0;34m)\u001b[0m\u001b[0;34m:\u001b[0m \u001b[0;32mreturn\u001b[0m \u001b[0mself\u001b[0m\u001b[0;34m.\u001b[0m\u001b[0mmodels\u001b[0m\u001b[0;34m.\u001b[0m\u001b[0mget_layer_groups\u001b[0m\u001b[0;34m(\u001b[0m\u001b[0;34m)\u001b[0m\u001b[0;34m\u001b[0m\u001b[0m\n",
      "\u001b[0;32m~/PPMI/fastai/model.py\u001b[0m in \u001b[0;36mfit\u001b[0;34m(model, data, n_epochs, opt, crit, metrics, callbacks, stepper, swa_model, swa_start, swa_eval_freq, **kwargs)\u001b[0m\n\u001b[1;32m    138\u001b[0m             \u001b[0mbatch_num\u001b[0m \u001b[0;34m+=\u001b[0m \u001b[0;36m1\u001b[0m\u001b[0;34m\u001b[0m\u001b[0m\n\u001b[1;32m    139\u001b[0m             \u001b[0;32mfor\u001b[0m \u001b[0mcb\u001b[0m \u001b[0;32min\u001b[0m \u001b[0mcallbacks\u001b[0m\u001b[0;34m:\u001b[0m \u001b[0mcb\u001b[0m\u001b[0;34m.\u001b[0m\u001b[0mon_batch_begin\u001b[0m\u001b[0;34m(\u001b[0m\u001b[0;34m)\u001b[0m\u001b[0;34m\u001b[0m\u001b[0m\n\u001b[0;32m--> 140\u001b[0;31m             \u001b[0mloss\u001b[0m \u001b[0;34m=\u001b[0m \u001b[0mmodel_stepper\u001b[0m\u001b[0;34m.\u001b[0m\u001b[0mstep\u001b[0m\u001b[0;34m(\u001b[0m\u001b[0mV\u001b[0m\u001b[0;34m(\u001b[0m\u001b[0mx\u001b[0m\u001b[0;34m)\u001b[0m\u001b[0;34m,\u001b[0m\u001b[0mV\u001b[0m\u001b[0;34m(\u001b[0m\u001b[0my\u001b[0m\u001b[0;34m)\u001b[0m\u001b[0;34m,\u001b[0m \u001b[0mepoch\u001b[0m\u001b[0;34m)\u001b[0m\u001b[0;34m\u001b[0m\u001b[0m\n\u001b[0m\u001b[1;32m    141\u001b[0m             \u001b[0mavg_loss\u001b[0m \u001b[0;34m=\u001b[0m \u001b[0mavg_loss\u001b[0m \u001b[0;34m*\u001b[0m \u001b[0mavg_mom\u001b[0m \u001b[0;34m+\u001b[0m \u001b[0mloss\u001b[0m \u001b[0;34m*\u001b[0m \u001b[0;34m(\u001b[0m\u001b[0;36m1\u001b[0m\u001b[0;34m-\u001b[0m\u001b[0mavg_mom\u001b[0m\u001b[0;34m)\u001b[0m\u001b[0;34m\u001b[0m\u001b[0m\n\u001b[1;32m    142\u001b[0m             \u001b[0mdebias_loss\u001b[0m \u001b[0;34m=\u001b[0m \u001b[0mavg_loss\u001b[0m \u001b[0;34m/\u001b[0m \u001b[0;34m(\u001b[0m\u001b[0;36m1\u001b[0m \u001b[0;34m-\u001b[0m \u001b[0mavg_mom\u001b[0m\u001b[0;34m**\u001b[0m\u001b[0mbatch_num\u001b[0m\u001b[0;34m)\u001b[0m\u001b[0;34m\u001b[0m\u001b[0m\n",
      "\u001b[0;32m~/PPMI/fastai/model.py\u001b[0m in \u001b[0;36mstep\u001b[0;34m(self, xs, y, epoch)\u001b[0m\n\u001b[1;32m     48\u001b[0m     \u001b[0;32mdef\u001b[0m \u001b[0mstep\u001b[0m\u001b[0;34m(\u001b[0m\u001b[0mself\u001b[0m\u001b[0;34m,\u001b[0m \u001b[0mxs\u001b[0m\u001b[0;34m,\u001b[0m \u001b[0my\u001b[0m\u001b[0;34m,\u001b[0m \u001b[0mepoch\u001b[0m\u001b[0;34m)\u001b[0m\u001b[0;34m:\u001b[0m\u001b[0;34m\u001b[0m\u001b[0m\n\u001b[1;32m     49\u001b[0m         \u001b[0mxtra\u001b[0m \u001b[0;34m=\u001b[0m \u001b[0;34m[\u001b[0m\u001b[0;34m]\u001b[0m\u001b[0;34m\u001b[0m\u001b[0m\n\u001b[0;32m---> 50\u001b[0;31m         \u001b[0moutput\u001b[0m \u001b[0;34m=\u001b[0m \u001b[0mself\u001b[0m\u001b[0;34m.\u001b[0m\u001b[0mm\u001b[0m\u001b[0;34m(\u001b[0m\u001b[0;34m*\u001b[0m\u001b[0mxs\u001b[0m\u001b[0;34m)\u001b[0m\u001b[0;34m\u001b[0m\u001b[0m\n\u001b[0m\u001b[1;32m     51\u001b[0m         \u001b[0;32mif\u001b[0m \u001b[0misinstance\u001b[0m\u001b[0;34m(\u001b[0m\u001b[0moutput\u001b[0m\u001b[0;34m,\u001b[0m\u001b[0mtuple\u001b[0m\u001b[0;34m)\u001b[0m\u001b[0;34m:\u001b[0m \u001b[0moutput\u001b[0m\u001b[0;34m,\u001b[0m\u001b[0;34m*\u001b[0m\u001b[0mxtra\u001b[0m \u001b[0;34m=\u001b[0m \u001b[0moutput\u001b[0m\u001b[0;34m\u001b[0m\u001b[0m\n\u001b[1;32m     52\u001b[0m         \u001b[0;32mif\u001b[0m \u001b[0mself\u001b[0m\u001b[0;34m.\u001b[0m\u001b[0mfp16\u001b[0m\u001b[0;34m:\u001b[0m \u001b[0mself\u001b[0m\u001b[0;34m.\u001b[0m\u001b[0mm\u001b[0m\u001b[0;34m.\u001b[0m\u001b[0mzero_grad\u001b[0m\u001b[0;34m(\u001b[0m\u001b[0;34m)\u001b[0m\u001b[0;34m\u001b[0m\u001b[0m\n",
      "\u001b[0;32m~/miniconda3/envs/fastai/lib/python3.6/site-packages/torch/nn/modules/module.py\u001b[0m in \u001b[0;36m__call__\u001b[0;34m(self, *input, **kwargs)\u001b[0m\n\u001b[1;32m    489\u001b[0m             \u001b[0mresult\u001b[0m \u001b[0;34m=\u001b[0m \u001b[0mself\u001b[0m\u001b[0;34m.\u001b[0m\u001b[0m_slow_forward\u001b[0m\u001b[0;34m(\u001b[0m\u001b[0;34m*\u001b[0m\u001b[0minput\u001b[0m\u001b[0;34m,\u001b[0m \u001b[0;34m**\u001b[0m\u001b[0mkwargs\u001b[0m\u001b[0;34m)\u001b[0m\u001b[0;34m\u001b[0m\u001b[0m\n\u001b[1;32m    490\u001b[0m         \u001b[0;32melse\u001b[0m\u001b[0;34m:\u001b[0m\u001b[0;34m\u001b[0m\u001b[0m\n\u001b[0;32m--> 491\u001b[0;31m             \u001b[0mresult\u001b[0m \u001b[0;34m=\u001b[0m \u001b[0mself\u001b[0m\u001b[0;34m.\u001b[0m\u001b[0mforward\u001b[0m\u001b[0;34m(\u001b[0m\u001b[0;34m*\u001b[0m\u001b[0minput\u001b[0m\u001b[0;34m,\u001b[0m \u001b[0;34m**\u001b[0m\u001b[0mkwargs\u001b[0m\u001b[0;34m)\u001b[0m\u001b[0;34m\u001b[0m\u001b[0m\n\u001b[0m\u001b[1;32m    492\u001b[0m         \u001b[0;32mfor\u001b[0m \u001b[0mhook\u001b[0m \u001b[0;32min\u001b[0m \u001b[0mself\u001b[0m\u001b[0;34m.\u001b[0m\u001b[0m_forward_hooks\u001b[0m\u001b[0;34m.\u001b[0m\u001b[0mvalues\u001b[0m\u001b[0;34m(\u001b[0m\u001b[0;34m)\u001b[0m\u001b[0;34m:\u001b[0m\u001b[0;34m\u001b[0m\u001b[0m\n\u001b[1;32m    493\u001b[0m             \u001b[0mhook_result\u001b[0m \u001b[0;34m=\u001b[0m \u001b[0mhook\u001b[0m\u001b[0;34m(\u001b[0m\u001b[0mself\u001b[0m\u001b[0;34m,\u001b[0m \u001b[0minput\u001b[0m\u001b[0;34m,\u001b[0m \u001b[0mresult\u001b[0m\u001b[0;34m)\u001b[0m\u001b[0;34m\u001b[0m\u001b[0m\n",
      "\u001b[0;32m<ipython-input-68-0caacb0d9cc6>\u001b[0m in \u001b[0;36mforward\u001b[0;34m(self, x1, x2)\u001b[0m\n\u001b[1;32m     30\u001b[0m         \u001b[0mout\u001b[0m\u001b[0;34m=\u001b[0m\u001b[0mout\u001b[0m\u001b[0;34m.\u001b[0m\u001b[0msqueeze\u001b[0m\u001b[0;34m(\u001b[0m\u001b[0;34m)\u001b[0m\u001b[0;34m\u001b[0m\u001b[0m\n\u001b[1;32m     31\u001b[0m         \u001b[0;31m#x2=x2.unsqueeze(1)\u001b[0m\u001b[0;34m\u001b[0m\u001b[0;34m\u001b[0m\u001b[0m\n\u001b[0;32m---> 32\u001b[0;31m         \u001b[0mout\u001b[0m \u001b[0;34m=\u001b[0m \u001b[0mtorch\u001b[0m\u001b[0;34m.\u001b[0m\u001b[0mcat\u001b[0m\u001b[0;34m(\u001b[0m\u001b[0;34m(\u001b[0m\u001b[0mout\u001b[0m\u001b[0;34m,\u001b[0m\u001b[0mx2\u001b[0m\u001b[0;34m[\u001b[0m\u001b[0;34m:\u001b[0m\u001b[0;34m,\u001b[0m\u001b[0;36m0\u001b[0m\u001b[0;34m:\u001b[0m\u001b[0;36m4\u001b[0m\u001b[0;34m]\u001b[0m\u001b[0;34m)\u001b[0m\u001b[0;34m,\u001b[0m\u001b[0;36m1\u001b[0m\u001b[0;34m)\u001b[0m\u001b[0;34m\u001b[0m\u001b[0m\n\u001b[0m\u001b[1;32m     33\u001b[0m         \u001b[0mout\u001b[0m \u001b[0;34m=\u001b[0m \u001b[0mself\u001b[0m\u001b[0;34m.\u001b[0m\u001b[0mfc_model\u001b[0m\u001b[0;34m(\u001b[0m\u001b[0mout\u001b[0m\u001b[0;34m)\u001b[0m\u001b[0;34m\u001b[0m\u001b[0m\n\u001b[1;32m     34\u001b[0m         \u001b[0;32mreturn\u001b[0m \u001b[0mF\u001b[0m\u001b[0;34m.\u001b[0m\u001b[0msigmoid\u001b[0m\u001b[0;34m(\u001b[0m\u001b[0mout\u001b[0m\u001b[0;34m)\u001b[0m\u001b[0;34m\u001b[0m\u001b[0m\n",
      "\u001b[0;31mRuntimeError\u001b[0m: dimension out of range (expected to be in range of [-1, 0], but got 1)"
     ]
    }
   ],
   "source": [
    "learner.fit(2e-4,3)"
   ]
  },
  {
   "cell_type": "code",
   "execution_count": 68,
   "metadata": {},
   "outputs": [],
   "source": [
    "lrs=[2e-5,6e-5,2e-4]"
   ]
  },
  {
   "cell_type": "code",
   "execution_count": 69,
   "metadata": {},
   "outputs": [
    {
     "ename": "AssertionError",
     "evalue": "",
     "output_type": "error",
     "traceback": [
      "\u001b[0;31m---------------------------------------------------------------------------\u001b[0m",
      "\u001b[0;31mAssertionError\u001b[0m                            Traceback (most recent call last)",
      "\u001b[0;32m<ipython-input-69-6e4d7ac60074>\u001b[0m in \u001b[0;36m<module>\u001b[0;34m()\u001b[0m\n\u001b[0;32m----> 1\u001b[0;31m \u001b[0mlearner\u001b[0m\u001b[0;34m.\u001b[0m\u001b[0mfit\u001b[0m\u001b[0;34m(\u001b[0m\u001b[0mlrs\u001b[0m\u001b[0;34m,\u001b[0m\u001b[0;36m3\u001b[0m\u001b[0;34m,\u001b[0m\u001b[0mcycle_len\u001b[0m\u001b[0;34m=\u001b[0m\u001b[0;36m1\u001b[0m\u001b[0;34m,\u001b[0m\u001b[0mcycle_mult\u001b[0m\u001b[0;34m=\u001b[0m\u001b[0;36m2\u001b[0m\u001b[0;34m)\u001b[0m\u001b[0;34m\u001b[0m\u001b[0m\n\u001b[0m",
      "\u001b[0;32m~/PPMI/fastai/learner.py\u001b[0m in \u001b[0;36mfit\u001b[0;34m(self, lrs, n_cycle, wds, **kwargs)\u001b[0m\n\u001b[1;32m    284\u001b[0m         \"\"\"\n\u001b[1;32m    285\u001b[0m         \u001b[0mself\u001b[0m\u001b[0;34m.\u001b[0m\u001b[0msched\u001b[0m \u001b[0;34m=\u001b[0m \u001b[0;32mNone\u001b[0m\u001b[0;34m\u001b[0m\u001b[0m\n\u001b[0;32m--> 286\u001b[0;31m         \u001b[0mlayer_opt\u001b[0m \u001b[0;34m=\u001b[0m \u001b[0mself\u001b[0m\u001b[0;34m.\u001b[0m\u001b[0mget_layer_opt\u001b[0m\u001b[0;34m(\u001b[0m\u001b[0mlrs\u001b[0m\u001b[0;34m,\u001b[0m \u001b[0mwds\u001b[0m\u001b[0;34m)\u001b[0m\u001b[0;34m\u001b[0m\u001b[0m\n\u001b[0m\u001b[1;32m    287\u001b[0m         \u001b[0;32mreturn\u001b[0m \u001b[0mself\u001b[0m\u001b[0;34m.\u001b[0m\u001b[0mfit_gen\u001b[0m\u001b[0;34m(\u001b[0m\u001b[0mself\u001b[0m\u001b[0;34m.\u001b[0m\u001b[0mmodel\u001b[0m\u001b[0;34m,\u001b[0m \u001b[0mself\u001b[0m\u001b[0;34m.\u001b[0m\u001b[0mdata\u001b[0m\u001b[0;34m,\u001b[0m \u001b[0mlayer_opt\u001b[0m\u001b[0;34m,\u001b[0m \u001b[0mn_cycle\u001b[0m\u001b[0;34m,\u001b[0m \u001b[0;34m**\u001b[0m\u001b[0mkwargs\u001b[0m\u001b[0;34m)\u001b[0m\u001b[0;34m\u001b[0m\u001b[0m\n\u001b[1;32m    288\u001b[0m \u001b[0;34m\u001b[0m\u001b[0m\n",
      "\u001b[0;32m~/PPMI/fastai/learner.py\u001b[0m in \u001b[0;36mget_layer_opt\u001b[0;34m(self, lrs, wds)\u001b[0m\n\u001b[1;32m    256\u001b[0m             \u001b[0mAn\u001b[0m \u001b[0minstance\u001b[0m \u001b[0mof\u001b[0m \u001b[0ma\u001b[0m \u001b[0mLayerOptimizer\u001b[0m\u001b[0;34m\u001b[0m\u001b[0m\n\u001b[1;32m    257\u001b[0m         \"\"\"\n\u001b[0;32m--> 258\u001b[0;31m         \u001b[0;32mreturn\u001b[0m \u001b[0mLayerOptimizer\u001b[0m\u001b[0;34m(\u001b[0m\u001b[0mself\u001b[0m\u001b[0;34m.\u001b[0m\u001b[0mopt_fn\u001b[0m\u001b[0;34m,\u001b[0m \u001b[0mself\u001b[0m\u001b[0;34m.\u001b[0m\u001b[0mget_layer_groups\u001b[0m\u001b[0;34m(\u001b[0m\u001b[0;34m)\u001b[0m\u001b[0;34m,\u001b[0m \u001b[0mlrs\u001b[0m\u001b[0;34m,\u001b[0m \u001b[0mwds\u001b[0m\u001b[0;34m)\u001b[0m\u001b[0;34m\u001b[0m\u001b[0m\n\u001b[0m\u001b[1;32m    259\u001b[0m \u001b[0;34m\u001b[0m\u001b[0m\n\u001b[1;32m    260\u001b[0m     \u001b[0;32mdef\u001b[0m \u001b[0mfit\u001b[0m\u001b[0;34m(\u001b[0m\u001b[0mself\u001b[0m\u001b[0;34m,\u001b[0m \u001b[0mlrs\u001b[0m\u001b[0;34m,\u001b[0m \u001b[0mn_cycle\u001b[0m\u001b[0;34m,\u001b[0m \u001b[0mwds\u001b[0m\u001b[0;34m=\u001b[0m\u001b[0;32mNone\u001b[0m\u001b[0;34m,\u001b[0m \u001b[0;34m**\u001b[0m\u001b[0mkwargs\u001b[0m\u001b[0;34m)\u001b[0m\u001b[0;34m:\u001b[0m\u001b[0;34m\u001b[0m\u001b[0m\n",
      "\u001b[0;32m~/PPMI/fastai/layer_optimizer.py\u001b[0m in \u001b[0;36m__init__\u001b[0;34m(self, opt_fn, layer_groups, lrs, wds)\u001b[0m\n\u001b[1;32m     13\u001b[0m         \u001b[0mwds\u001b[0m \u001b[0;34m=\u001b[0m \u001b[0mlistify\u001b[0m\u001b[0;34m(\u001b[0m\u001b[0mwds\u001b[0m\u001b[0;34m,\u001b[0m \u001b[0mlayer_groups\u001b[0m\u001b[0;34m)\u001b[0m\u001b[0;34m\u001b[0m\u001b[0m\n\u001b[1;32m     14\u001b[0m         \u001b[0mself\u001b[0m\u001b[0;34m.\u001b[0m\u001b[0mlayer_groups\u001b[0m\u001b[0;34m,\u001b[0m\u001b[0mself\u001b[0m\u001b[0;34m.\u001b[0m\u001b[0mlrs\u001b[0m\u001b[0;34m,\u001b[0m\u001b[0mself\u001b[0m\u001b[0;34m.\u001b[0m\u001b[0mwds\u001b[0m \u001b[0;34m=\u001b[0m \u001b[0mlayer_groups\u001b[0m\u001b[0;34m,\u001b[0m\u001b[0mlrs\u001b[0m\u001b[0;34m,\u001b[0m\u001b[0mwds\u001b[0m\u001b[0;34m\u001b[0m\u001b[0m\n\u001b[0;32m---> 15\u001b[0;31m         \u001b[0mself\u001b[0m\u001b[0;34m.\u001b[0m\u001b[0mopt\u001b[0m \u001b[0;34m=\u001b[0m \u001b[0mopt_fn\u001b[0m\u001b[0;34m(\u001b[0m\u001b[0mself\u001b[0m\u001b[0;34m.\u001b[0m\u001b[0mopt_params\u001b[0m\u001b[0;34m(\u001b[0m\u001b[0;34m)\u001b[0m\u001b[0;34m)\u001b[0m\u001b[0;34m\u001b[0m\u001b[0m\n\u001b[0m\u001b[1;32m     16\u001b[0m \u001b[0;34m\u001b[0m\u001b[0m\n\u001b[1;32m     17\u001b[0m     \u001b[0;32mdef\u001b[0m \u001b[0mopt_params\u001b[0m\u001b[0;34m(\u001b[0m\u001b[0mself\u001b[0m\u001b[0;34m)\u001b[0m\u001b[0;34m:\u001b[0m\u001b[0;34m\u001b[0m\u001b[0m\n",
      "\u001b[0;32m~/PPMI/fastai/layer_optimizer.py\u001b[0m in \u001b[0;36mopt_params\u001b[0;34m(self)\u001b[0m\n\u001b[1;32m     16\u001b[0m \u001b[0;34m\u001b[0m\u001b[0m\n\u001b[1;32m     17\u001b[0m     \u001b[0;32mdef\u001b[0m \u001b[0mopt_params\u001b[0m\u001b[0;34m(\u001b[0m\u001b[0mself\u001b[0m\u001b[0;34m)\u001b[0m\u001b[0;34m:\u001b[0m\u001b[0;34m\u001b[0m\u001b[0m\n\u001b[0;32m---> 18\u001b[0;31m         \u001b[0;32massert\u001b[0m\u001b[0;34m(\u001b[0m\u001b[0mlen\u001b[0m\u001b[0;34m(\u001b[0m\u001b[0mself\u001b[0m\u001b[0;34m.\u001b[0m\u001b[0mlayer_groups\u001b[0m\u001b[0;34m)\u001b[0m \u001b[0;34m==\u001b[0m \u001b[0mlen\u001b[0m\u001b[0;34m(\u001b[0m\u001b[0mself\u001b[0m\u001b[0;34m.\u001b[0m\u001b[0mlrs\u001b[0m\u001b[0;34m)\u001b[0m\u001b[0;34m)\u001b[0m\u001b[0;34m\u001b[0m\u001b[0m\n\u001b[0m\u001b[1;32m     19\u001b[0m         \u001b[0;32massert\u001b[0m\u001b[0;34m(\u001b[0m\u001b[0mlen\u001b[0m\u001b[0;34m(\u001b[0m\u001b[0mself\u001b[0m\u001b[0;34m.\u001b[0m\u001b[0mlayer_groups\u001b[0m\u001b[0;34m)\u001b[0m \u001b[0;34m==\u001b[0m \u001b[0mlen\u001b[0m\u001b[0;34m(\u001b[0m\u001b[0mself\u001b[0m\u001b[0;34m.\u001b[0m\u001b[0mwds\u001b[0m\u001b[0;34m)\u001b[0m\u001b[0;34m)\u001b[0m\u001b[0;34m\u001b[0m\u001b[0m\n\u001b[1;32m     20\u001b[0m         \u001b[0mparams\u001b[0m \u001b[0;34m=\u001b[0m \u001b[0mlist\u001b[0m\u001b[0;34m(\u001b[0m\u001b[0mzip\u001b[0m\u001b[0;34m(\u001b[0m\u001b[0mself\u001b[0m\u001b[0;34m.\u001b[0m\u001b[0mlayer_groups\u001b[0m\u001b[0;34m,\u001b[0m\u001b[0mself\u001b[0m\u001b[0;34m.\u001b[0m\u001b[0mlrs\u001b[0m\u001b[0;34m,\u001b[0m\u001b[0mself\u001b[0m\u001b[0;34m.\u001b[0m\u001b[0mwds\u001b[0m\u001b[0;34m)\u001b[0m\u001b[0;34m)\u001b[0m\u001b[0;34m\u001b[0m\u001b[0m\n",
      "\u001b[0;31mAssertionError\u001b[0m: "
     ]
    }
   ],
   "source": [
    "learner.fit(lrs,3,cycle_len=1,cycle_mult=2)"
   ]
  },
  {
   "cell_type": "code",
   "execution_count": null,
   "metadata": {},
   "outputs": [],
   "source": [
    "learner.save('3D_SPECT_resnet34_predict_progress')"
   ]
  },
  {
   "cell_type": "code",
   "execution_count": null,
   "metadata": {},
   "outputs": [],
   "source": []
  },
  {
   "cell_type": "code",
   "execution_count": null,
   "metadata": {},
   "outputs": [],
   "source": []
  },
  {
   "cell_type": "code",
   "execution_count": null,
   "metadata": {},
   "outputs": [],
   "source": []
  },
  {
   "cell_type": "markdown",
   "metadata": {},
   "source": [
    "### Load dataset"
   ]
  },
  {
   "cell_type": "code",
   "execution_count": 35,
   "metadata": {},
   "outputs": [
    {
     "data": {
      "text/plain": [
       "'param_train = torch.from_numpy(param_train)\\nparam_test = torch.from_numpy(param_test)\\nparam_val = torch.from_numpy(param_val)\\nimage_array_train = torch.from_numpy(image_array_train)\\nimage_array_test = torch.from_numpy(image_array_test)\\nimage_array_val = torch.from_numpy(image_array_val)\\ny_train = torch.from_numpy(y_train)\\ny_val = torch.from_numpy(y_val)\\ny_test = torch.from_numpy(y_test)'"
      ]
     },
     "execution_count": 35,
     "metadata": {},
     "output_type": "execute_result"
    }
   ],
   "source": [
    "'''param_train = torch.from_numpy(param_train)\n",
    "param_test = torch.from_numpy(param_test)\n",
    "param_val = torch.from_numpy(param_val)\n",
    "image_array_train = torch.from_numpy(image_array_train)\n",
    "image_array_test = torch.from_numpy(image_array_test)\n",
    "image_array_val = torch.from_numpy(image_array_val)\n",
    "y_train = torch.from_numpy(y_train)\n",
    "y_val = torch.from_numpy(y_val)\n",
    "y_test = torch.from_numpy(y_test)'''"
   ]
  },
  {
   "cell_type": "code",
   "execution_count": 36,
   "metadata": {},
   "outputs": [],
   "source": [
    "X_train = torch.utils.data.DataLoader(image_array_train, batch_size=2)\n",
    "param_train = torch.utils.data.DataLoader(param_train, batch_size=2)\n",
    "y_train = torch.utils.data.DataLoader(y_train, batch_size=2)\n",
    "X_val = torch.utils.data.DataLoader(image_array_val, batch_size=2)\n",
    "param_val = torch.utils.data.DataLoader(param_val, batch_size=2)\n",
    "y_val = torch.utils.data.DataLoader(y_val, batch_size=2)\n",
    "X_test = torch.utils.data.DataLoader(image_array_test, batch_size=2)\n",
    "param_test = torch.utils.data.DataLoader(param_test, batch_size=2)\n",
    "y_test = torch.utils.data.DataLoader(y_test, batch_size=2)\n",
    "\n",
    "del(image_array_train,image_array_val,image_array_test)\n",
    "del(X_train_tmp,X_val_tmp,X_test_tmp,y_train_tmp,y_val_tmp,y_test_tmp,param_train_tmp,param_val_tmp,param_test_tmp)"
   ]
  },
  {
   "cell_type": "markdown",
   "metadata": {},
   "source": [
    "### Darknet"
   ]
  },
  {
   "cell_type": "code",
   "execution_count": null,
   "metadata": {},
   "outputs": [],
   "source": []
  },
  {
   "cell_type": "code",
   "execution_count": 37,
   "metadata": {},
   "outputs": [],
   "source": [
    "def conv_layer(ni, nf, ks=3, stride=1):\n",
    "    return nn.Sequential(\n",
    "        nn.Conv3d(ni, nf, kernel_size=ks, bias=False, stride=stride, padding=ks//2),\n",
    "        nn.BatchNorm3d(nf, momentum=0.01),\n",
    "        nn.LeakyReLU(negative_slope=0.1, inplace=False))\n",
    "\n",
    "class ResLayer(nn.Module):\n",
    "    def __init__(self, ni):\n",
    "        super().__init__()\n",
    "        self.conv1=conv_layer(ni, ni//2, ks=1)\n",
    "        self.conv2=conv_layer(ni//2, ni, ks=3)\n",
    "        \n",
    "    def forward(self, x): return x.add_(self.conv2(self.conv1(x.clone())))\n",
    "\n",
    "class Darknet(nn.Module):\n",
    "    def make_group_layer(self, ch_in, num_blocks, stride=1):\n",
    "        return [conv_layer(ch_in, ch_in*2,stride=stride)\n",
    "               ] + [(ResLayer(ch_in*2)) for i in range(num_blocks)]\n",
    "\n",
    "    def __init__(self, num_blocks, num_classes, nf=32):\n",
    "        super().__init__()\n",
    "        features = [conv_layer(1, nf, ks=3, stride=1)]\n",
    "        for i,nb in enumerate(num_blocks):\n",
    "            features += self.make_group_layer(nf, nb, stride=2-(i==1))\n",
    "            nf *= 2                        \n",
    "        features += [nn.AdaptiveAvgPool3d(1), Flatten()]        \n",
    "        self.features = nn.Sequential(*features)\n",
    "        fc1 = [nn.Linear(260, 96), nn.LeakyReLU(negative_slope=0.1, inplace=False),nn.Dropout(0.5)]\n",
    "        self.fc1 = nn.Sequential(*fc1)\n",
    "        self.layers = nn.Sequential(nn.Linear(96,1))\n",
    "        \n",
    "    def forward(self, x, y):\n",
    "        x = x.unsqueeze(1)\n",
    "        x = self.features(x)\n",
    "        y = y.unsqueeze(1)\n",
    "        x = torch.cat((x,y[:,:,0],y[:,:,1],y[:,:,2],y[:,:,3]),1)\n",
    "        x = self.fc1(x)\n",
    "        #x = F.relu(x)\n",
    "        #x = F.dropout(x, p=0.2, training=self.training)\n",
    "        #return F.log_softmax(self.layers(x), dim=-1)\n",
    "        return self.layers(x)\n"
   ]
  },
  {
   "cell_type": "code",
   "execution_count": 38,
   "metadata": {
    "scrolled": false
   },
   "outputs": [
    {
     "data": {
      "text/plain": [
       "Darknet(\n",
       "  (features): Sequential(\n",
       "    (0): Sequential(\n",
       "      (0): Conv3d(1, 32, kernel_size=(3, 3, 3), stride=(1, 1, 1), padding=(1, 1, 1), bias=False)\n",
       "      (1): BatchNorm3d(32, eps=1e-05, momentum=0.01, affine=True, track_running_stats=True)\n",
       "      (2): LeakyReLU(negative_slope=0.1)\n",
       "    )\n",
       "    (1): Sequential(\n",
       "      (0): Conv3d(32, 64, kernel_size=(3, 3, 3), stride=(2, 2, 2), padding=(1, 1, 1), bias=False)\n",
       "      (1): BatchNorm3d(64, eps=1e-05, momentum=0.01, affine=True, track_running_stats=True)\n",
       "      (2): LeakyReLU(negative_slope=0.1)\n",
       "    )\n",
       "    (2): ResLayer(\n",
       "      (conv1): Sequential(\n",
       "        (0): Conv3d(64, 32, kernel_size=(1, 1, 1), stride=(1, 1, 1), bias=False)\n",
       "        (1): BatchNorm3d(32, eps=1e-05, momentum=0.01, affine=True, track_running_stats=True)\n",
       "        (2): LeakyReLU(negative_slope=0.1)\n",
       "      )\n",
       "      (conv2): Sequential(\n",
       "        (0): Conv3d(32, 64, kernel_size=(3, 3, 3), stride=(1, 1, 1), padding=(1, 1, 1), bias=False)\n",
       "        (1): BatchNorm3d(64, eps=1e-05, momentum=0.01, affine=True, track_running_stats=True)\n",
       "        (2): LeakyReLU(negative_slope=0.1)\n",
       "      )\n",
       "    )\n",
       "    (3): Sequential(\n",
       "      (0): Conv3d(64, 128, kernel_size=(3, 3, 3), stride=(1, 1, 1), padding=(1, 1, 1), bias=False)\n",
       "      (1): BatchNorm3d(128, eps=1e-05, momentum=0.01, affine=True, track_running_stats=True)\n",
       "      (2): LeakyReLU(negative_slope=0.1)\n",
       "    )\n",
       "    (4): ResLayer(\n",
       "      (conv1): Sequential(\n",
       "        (0): Conv3d(128, 64, kernel_size=(1, 1, 1), stride=(1, 1, 1), bias=False)\n",
       "        (1): BatchNorm3d(64, eps=1e-05, momentum=0.01, affine=True, track_running_stats=True)\n",
       "        (2): LeakyReLU(negative_slope=0.1)\n",
       "      )\n",
       "      (conv2): Sequential(\n",
       "        (0): Conv3d(64, 128, kernel_size=(3, 3, 3), stride=(1, 1, 1), padding=(1, 1, 1), bias=False)\n",
       "        (1): BatchNorm3d(128, eps=1e-05, momentum=0.01, affine=True, track_running_stats=True)\n",
       "        (2): LeakyReLU(negative_slope=0.1)\n",
       "      )\n",
       "    )\n",
       "    (5): ResLayer(\n",
       "      (conv1): Sequential(\n",
       "        (0): Conv3d(128, 64, kernel_size=(1, 1, 1), stride=(1, 1, 1), bias=False)\n",
       "        (1): BatchNorm3d(64, eps=1e-05, momentum=0.01, affine=True, track_running_stats=True)\n",
       "        (2): LeakyReLU(negative_slope=0.1)\n",
       "      )\n",
       "      (conv2): Sequential(\n",
       "        (0): Conv3d(64, 128, kernel_size=(3, 3, 3), stride=(1, 1, 1), padding=(1, 1, 1), bias=False)\n",
       "        (1): BatchNorm3d(128, eps=1e-05, momentum=0.01, affine=True, track_running_stats=True)\n",
       "        (2): LeakyReLU(negative_slope=0.1)\n",
       "      )\n",
       "    )\n",
       "    (6): Sequential(\n",
       "      (0): Conv3d(128, 256, kernel_size=(3, 3, 3), stride=(2, 2, 2), padding=(1, 1, 1), bias=False)\n",
       "      (1): BatchNorm3d(256, eps=1e-05, momentum=0.01, affine=True, track_running_stats=True)\n",
       "      (2): LeakyReLU(negative_slope=0.1)\n",
       "    )\n",
       "    (7): ResLayer(\n",
       "      (conv1): Sequential(\n",
       "        (0): Conv3d(256, 128, kernel_size=(1, 1, 1), stride=(1, 1, 1), bias=False)\n",
       "        (1): BatchNorm3d(128, eps=1e-05, momentum=0.01, affine=True, track_running_stats=True)\n",
       "        (2): LeakyReLU(negative_slope=0.1)\n",
       "      )\n",
       "      (conv2): Sequential(\n",
       "        (0): Conv3d(128, 256, kernel_size=(3, 3, 3), stride=(1, 1, 1), padding=(1, 1, 1), bias=False)\n",
       "        (1): BatchNorm3d(256, eps=1e-05, momentum=0.01, affine=True, track_running_stats=True)\n",
       "        (2): LeakyReLU(negative_slope=0.1)\n",
       "      )\n",
       "    )\n",
       "    (8): ResLayer(\n",
       "      (conv1): Sequential(\n",
       "        (0): Conv3d(256, 128, kernel_size=(1, 1, 1), stride=(1, 1, 1), bias=False)\n",
       "        (1): BatchNorm3d(128, eps=1e-05, momentum=0.01, affine=True, track_running_stats=True)\n",
       "        (2): LeakyReLU(negative_slope=0.1)\n",
       "      )\n",
       "      (conv2): Sequential(\n",
       "        (0): Conv3d(128, 256, kernel_size=(3, 3, 3), stride=(1, 1, 1), padding=(1, 1, 1), bias=False)\n",
       "        (1): BatchNorm3d(256, eps=1e-05, momentum=0.01, affine=True, track_running_stats=True)\n",
       "        (2): LeakyReLU(negative_slope=0.1)\n",
       "      )\n",
       "    )\n",
       "    (9): ResLayer(\n",
       "      (conv1): Sequential(\n",
       "        (0): Conv3d(256, 128, kernel_size=(1, 1, 1), stride=(1, 1, 1), bias=False)\n",
       "        (1): BatchNorm3d(128, eps=1e-05, momentum=0.01, affine=True, track_running_stats=True)\n",
       "        (2): LeakyReLU(negative_slope=0.1)\n",
       "      )\n",
       "      (conv2): Sequential(\n",
       "        (0): Conv3d(128, 256, kernel_size=(3, 3, 3), stride=(1, 1, 1), padding=(1, 1, 1), bias=False)\n",
       "        (1): BatchNorm3d(256, eps=1e-05, momentum=0.01, affine=True, track_running_stats=True)\n",
       "        (2): LeakyReLU(negative_slope=0.1)\n",
       "      )\n",
       "    )\n",
       "    (10): ResLayer(\n",
       "      (conv1): Sequential(\n",
       "        (0): Conv3d(256, 128, kernel_size=(1, 1, 1), stride=(1, 1, 1), bias=False)\n",
       "        (1): BatchNorm3d(128, eps=1e-05, momentum=0.01, affine=True, track_running_stats=True)\n",
       "        (2): LeakyReLU(negative_slope=0.1)\n",
       "      )\n",
       "      (conv2): Sequential(\n",
       "        (0): Conv3d(128, 256, kernel_size=(3, 3, 3), stride=(1, 1, 1), padding=(1, 1, 1), bias=False)\n",
       "        (1): BatchNorm3d(256, eps=1e-05, momentum=0.01, affine=True, track_running_stats=True)\n",
       "        (2): LeakyReLU(negative_slope=0.1)\n",
       "      )\n",
       "    )\n",
       "    (11): AdaptiveAvgPool3d(output_size=1)\n",
       "    (12): Flatten()\n",
       "  )\n",
       "  (fc1): Sequential(\n",
       "    (0): Linear(in_features=260, out_features=96, bias=True)\n",
       "    (1): LeakyReLU(negative_slope=0.1)\n",
       "    (2): Dropout(p=0.5)\n",
       "  )\n",
       "  (layers): Sequential(\n",
       "    (0): Linear(in_features=96, out_features=1, bias=True)\n",
       "  )\n",
       ")"
      ]
     },
     "execution_count": 38,
     "metadata": {},
     "output_type": "execute_result"
    }
   ],
   "source": [
    "m = Darknet([1,2,4], num_classes=1, nf=32)\n",
    "m.double()\n",
    "#m = nn.DataParallel(m, [1,2,3])"
   ]
  },
  {
   "cell_type": "code",
   "execution_count": 39,
   "metadata": {},
   "outputs": [
    {
     "name": "stdout",
     "output_type": "stream",
     "text": [
      "cuda:0\n"
     ]
    }
   ],
   "source": [
    "device = torch.device(\"cuda:0\" if torch.cuda.is_available() else \"cpu\")\n",
    "#device = \"cpu\"\n",
    "m.to(device)\n",
    "print(device)"
   ]
  },
  {
   "cell_type": "code",
   "execution_count": 40,
   "metadata": {},
   "outputs": [],
   "source": [
    "optimizer = optim.Adam(m.parameters(), lr = 1e-4)\n",
    "criterion = nn.BCEWithLogitsLoss().cuda()\n",
    "scheduler = optim.lr_scheduler.ExponentialLR(optimizer, gamma = 0.5)"
   ]
  },
  {
   "cell_type": "code",
   "execution_count": 41,
   "metadata": {},
   "outputs": [],
   "source": [
    "losslog=[]\n",
    "vallog=[]"
   ]
  },
  {
   "cell_type": "code",
   "execution_count": 42,
   "metadata": {},
   "outputs": [],
   "source": [
    "torch.backends.cudnn.benchmark=True"
   ]
  },
  {
   "cell_type": "code",
   "execution_count": 43,
   "metadata": {},
   "outputs": [],
   "source": [
    "def train(niter):\n",
    "    for epoch in trange(niter):  # loop over the dataset multiple times\n",
    "        running_loss = 0.0        \n",
    "\n",
    "        m.train(True)\n",
    "        scheduler.step()\n",
    "        with tqdm(total=len(X_train)) as pbar:\n",
    "            for i, (x, p, y) in enumerate(zip(X_train,param_train,y_train)):\n",
    "                x,p,y = x.to(device), p.to(device),y.to(device)\n",
    "                #i += 1\n",
    "                # zero the parameter gradients\n",
    "                optimizer.zero_grad()\n",
    "\n",
    "                # forward + backward + optimize\n",
    "                outputs = m(x,p)\n",
    "                loss = criterion(outputs,y.double().unsqueeze(1))\n",
    "                \n",
    "                loss.backward()\n",
    "                for param in optimizer.param_groups[0]['params']:\n",
    "                    param.data = param.data.add(-0.0001 * optimizer.param_groups[0]['lr'], param.data)\n",
    "                optimizer.step()\n",
    "                pbar.update()\n",
    "\n",
    "                # print statistics\n",
    "                running_loss += loss.item()\n",
    "                if i % 20 == 19:    # print every 0 mini-batches\n",
    "                    print('[%d, %5d]  Train BCELogitsLoss: %.3f' %\n",
    "                          (epoch + 1, i + 1, running_loss / 20))\n",
    "                    losslog.append(running_loss/20)\n",
    "                    running_loss = 0.0\n",
    "                    \n",
    "            #Eval\n",
    "        m.eval()\n",
    "        with tqdm(total=len(X_val)) as pbar:\n",
    "            with torch.no_grad():\n",
    "                truth = []\n",
    "                predicted =[]\n",
    "                correct = 0\n",
    "                total = 0\n",
    "                for i, ( x, p, y) in enumerate(zip(X_val,param_val,y_val)):\n",
    "                    x,p,y = x.to(device), p.to(device),y.to(device)\n",
    "\n",
    "                    # forward + backward + optimize\n",
    "                    outputs = m(x,p)\n",
    "                    pred = (F.sigmoid(outputs))\n",
    "                    corr=[]\n",
    "                    for i in pred:\n",
    "                        if i >= 0.5: corr.append(1)\n",
    "                        else: corr.append(0)\n",
    "                    total += y.size(0)\n",
    "                    correct += (corr == y.cpu().numpy()).sum()\n",
    "                    predicted.append(pred)\n",
    "                    truth.append(y)\n",
    "                    pbar.update()\n",
    "\n",
    "                valloss = loss.item()\n",
    "                vallog.append(valloss)\n",
    "                print(f'BCELogitsLoss: {valloss}')\n",
    "                print('Accuracy of the network on the val images: %d %%' % (100 * correct / total))\n",
    "            \n",
    "    print('Finished Training')\n",
    "    return losslog,vallog,truth,predicted\n",
    "                "
   ]
  },
  {
   "cell_type": "code",
   "execution_count": 44,
   "metadata": {
    "scrolled": false
   },
   "outputs": [
    {
     "name": "stdout",
     "output_type": "stream",
     "text": [
      "  6%|▌         | 20/343 [01:36<24:34,  4.56s/it] [1,    20]  Train BCELogitsLoss: 0.676\n",
      " 12%|█▏        | 40/343 [03:07<23:05,  4.57s/it][1,    40]  Train BCELogitsLoss: 0.677\n",
      " 17%|█▋        | 60/343 [04:38<21:34,  4.57s/it][1,    60]  Train BCELogitsLoss: 0.761\n",
      " 23%|██▎       | 80/343 [06:10<20:01,  4.57s/it][1,    80]  Train BCELogitsLoss: 0.828\n",
      " 29%|██▉       | 100/343 [07:41<18:30,  4.57s/it][1,   100]  Train BCELogitsLoss: 0.837\n",
      " 35%|███▍      | 120/343 [09:13<16:57,  4.56s/it][1,   120]  Train BCELogitsLoss: 0.707\n",
      " 41%|████      | 140/343 [10:44<15:28,  4.57s/it][1,   140]  Train BCELogitsLoss: 0.829\n",
      " 47%|████▋     | 160/343 [12:16<13:57,  4.58s/it][1,   160]  Train BCELogitsLoss: 0.672\n",
      " 52%|█████▏    | 180/343 [13:47<12:24,  4.57s/it][1,   180]  Train BCELogitsLoss: 0.811\n",
      " 58%|█████▊    | 200/343 [15:18<10:53,  4.57s/it][1,   200]  Train BCELogitsLoss: 0.859\n",
      " 64%|██████▍   | 220/343 [16:50<09:21,  4.57s/it][1,   220]  Train BCELogitsLoss: 0.864\n",
      " 70%|██████▉   | 240/343 [18:21<07:49,  4.56s/it][1,   240]  Train BCELogitsLoss: 0.825\n",
      " 76%|███████▌  | 260/343 [19:52<06:18,  4.56s/it][1,   260]  Train BCELogitsLoss: 0.689\n",
      " 82%|████████▏ | 280/343 [21:24<04:47,  4.57s/it][1,   280]  Train BCELogitsLoss: 0.798\n",
      " 87%|████████▋ | 300/343 [22:55<03:16,  4.58s/it][1,   300]  Train BCELogitsLoss: 0.797\n",
      " 93%|█████████▎| 320/343 [24:27<01:45,  4.59s/it][1,   320]  Train BCELogitsLoss: 0.735\n",
      " 99%|█████████▉| 340/343 [25:58<00:13,  4.58s/it][1,   340]  Train BCELogitsLoss: 0.809\n",
      "100%|██████████| 343/343 [26:19<00:00,  6.85s/it]\n",
      "100%|██████████| 147/147 [02:44<00:00,  1.10s/it]BCELogitsLoss: 0.45892330768918865\n",
      "Accuracy of the network on the val images: 50 %\n",
      "\n",
      "  6%|▌         | 20/343 [01:27<24:35,  4.57s/it][2,    20]  Train BCELogitsLoss: 0.868\n",
      " 12%|█▏        | 40/343 [02:59<23:02,  4.56s/it][2,    40]  Train BCELogitsLoss: 0.733\n",
      " 17%|█▋        | 60/343 [04:30<21:30,  4.56s/it][2,    60]  Train BCELogitsLoss: 0.698\n",
      " 23%|██▎       | 80/343 [06:02<20:05,  4.59s/it][2,    80]  Train BCELogitsLoss: 0.706\n",
      " 29%|██▉       | 100/343 [07:33<18:30,  4.57s/it][2,   100]  Train BCELogitsLoss: 0.780\n",
      " 35%|███▍      | 120/343 [09:04<16:57,  4.56s/it][2,   120]  Train BCELogitsLoss: 0.836\n",
      " 41%|████      | 140/343 [10:35<15:25,  4.56s/it][2,   140]  Train BCELogitsLoss: 0.745\n",
      " 47%|████▋     | 160/343 [12:07<13:56,  4.57s/it][2,   160]  Train BCELogitsLoss: 0.827\n",
      " 52%|█████▏    | 180/343 [13:38<12:26,  4.58s/it][2,   180]  Train BCELogitsLoss: 0.804\n",
      " 58%|█████▊    | 200/343 [15:09<10:53,  4.57s/it][2,   200]  Train BCELogitsLoss: 0.738\n",
      " 64%|██████▍   | 220/343 [16:41<09:20,  4.56s/it][2,   220]  Train BCELogitsLoss: 0.634\n",
      " 70%|██████▉   | 240/343 [18:12<07:50,  4.57s/it][2,   240]  Train BCELogitsLoss: 0.816\n",
      " 76%|███████▌  | 260/343 [19:44<06:18,  4.56s/it][2,   260]  Train BCELogitsLoss: 0.715\n",
      " 82%|████████▏ | 280/343 [21:15<04:48,  4.58s/it][2,   280]  Train BCELogitsLoss: 0.681\n",
      " 87%|████████▋ | 300/343 [22:47<03:16,  4.56s/it][2,   300]  Train BCELogitsLoss: 0.741\n",
      " 93%|█████████▎| 320/343 [24:18<01:45,  4.57s/it][2,   320]  Train BCELogitsLoss: 0.628\n",
      " 99%|█████████▉| 340/343 [25:49<00:13,  4.58s/it][2,   340]  Train BCELogitsLoss: 0.758\n",
      "100%|██████████| 343/343 [26:03<00:00,  4.40s/it]\n",
      "100%|██████████| 147/147 [02:41<00:00,  1.10s/it]BCELogitsLoss: 0.5041697501457804\n",
      "Accuracy of the network on the val images: 50 %\n",
      "\n",
      "100%|██████████| 2/2 [57:51<00:00, 1735.68s/it]Finished Training\n"
     ]
    }
   ],
   "source": [
    "MUL = train(2)"
   ]
  },
  {
   "cell_type": "code",
   "execution_count": 45,
   "metadata": {},
   "outputs": [
    {
     "data": {
      "text/plain": [
       "[0.45892330768918865, 0.5041697501457804]"
      ]
     },
     "execution_count": 45,
     "metadata": {},
     "output_type": "execute_result"
    }
   ],
   "source": [
    "vallog"
   ]
  },
  {
   "cell_type": "code",
   "execution_count": 46,
   "metadata": {},
   "outputs": [
    {
     "data": {
      "text/plain": [
       "([0.6758563192796873,\n",
       "  0.6768641825168036,\n",
       "  0.7612295664465554,\n",
       "  0.8282216620430234,\n",
       "  0.8373667234828004,\n",
       "  0.7073654430088295,\n",
       "  0.8290102307171745,\n",
       "  0.6715178461421891,\n",
       "  0.810838339100658,\n",
       "  0.8591687993892865,\n",
       "  0.8644539807355123,\n",
       "  0.8249982584901593,\n",
       "  0.6887023183062418,\n",
       "  0.797849635125192,\n",
       "  0.7968279567234975,\n",
       "  0.7350025463080717,\n",
       "  0.8089197239431899,\n",
       "  0.8679078130842329,\n",
       "  0.7333880132437152,\n",
       "  0.6977729955398759,\n",
       "  0.7057998951082931,\n",
       "  0.7801083346979397,\n",
       "  0.8357593003791376,\n",
       "  0.7453812262870543,\n",
       "  0.827363903327847,\n",
       "  0.8042251774845152,\n",
       "  0.7377710287427977,\n",
       "  0.6339333617262461,\n",
       "  0.8157220605870654,\n",
       "  0.7149431049037781,\n",
       "  0.6811870144258424,\n",
       "  0.7413153247370532,\n",
       "  0.6276226501116849,\n",
       "  0.7575819194855445],\n",
       " [0.45892330768918865, 0.5041697501457804],\n",
       " [tensor([ 1,  0], device='cuda:0'),\n",
       "  tensor([ 0,  1], device='cuda:0'),\n",
       "  tensor([ 0,  0], device='cuda:0'),\n",
       "  tensor([ 0,  0], device='cuda:0'),\n",
       "  tensor([ 0,  1], device='cuda:0'),\n",
       "  tensor([ 1,  1], device='cuda:0'),\n",
       "  tensor([ 1,  0], device='cuda:0'),\n",
       "  tensor([ 1,  1], device='cuda:0'),\n",
       "  tensor([ 0,  0], device='cuda:0'),\n",
       "  tensor([ 0,  0], device='cuda:0'),\n",
       "  tensor([ 0,  1], device='cuda:0'),\n",
       "  tensor([ 1,  1], device='cuda:0'),\n",
       "  tensor([ 0,  1], device='cuda:0'),\n",
       "  tensor([ 0,  1], device='cuda:0'),\n",
       "  tensor([ 0,  1], device='cuda:0'),\n",
       "  tensor([ 1,  0], device='cuda:0'),\n",
       "  tensor([ 0,  0], device='cuda:0'),\n",
       "  tensor([ 1,  1], device='cuda:0'),\n",
       "  tensor([ 1,  0], device='cuda:0'),\n",
       "  tensor([ 1,  0], device='cuda:0'),\n",
       "  tensor([ 0,  1], device='cuda:0'),\n",
       "  tensor([ 0,  1], device='cuda:0'),\n",
       "  tensor([ 1,  0], device='cuda:0'),\n",
       "  tensor([ 0,  1], device='cuda:0'),\n",
       "  tensor([ 0,  1], device='cuda:0'),\n",
       "  tensor([ 1,  1], device='cuda:0'),\n",
       "  tensor([ 1,  1], device='cuda:0'),\n",
       "  tensor([ 0,  0], device='cuda:0'),\n",
       "  tensor([ 0,  1], device='cuda:0'),\n",
       "  tensor([ 0,  1], device='cuda:0'),\n",
       "  tensor([ 0,  1], device='cuda:0'),\n",
       "  tensor([ 0,  0], device='cuda:0'),\n",
       "  tensor([ 1,  0], device='cuda:0'),\n",
       "  tensor([ 1,  0], device='cuda:0'),\n",
       "  tensor([ 1,  0], device='cuda:0'),\n",
       "  tensor([ 1,  0], device='cuda:0'),\n",
       "  tensor([ 0,  0], device='cuda:0'),\n",
       "  tensor([ 0,  1], device='cuda:0'),\n",
       "  tensor([ 0,  0], device='cuda:0'),\n",
       "  tensor([ 0,  1], device='cuda:0'),\n",
       "  tensor([ 1,  1], device='cuda:0'),\n",
       "  tensor([ 0,  1], device='cuda:0'),\n",
       "  tensor([ 0,  1], device='cuda:0'),\n",
       "  tensor([ 1,  1], device='cuda:0'),\n",
       "  tensor([ 0,  1], device='cuda:0'),\n",
       "  tensor([ 0,  0], device='cuda:0'),\n",
       "  tensor([ 0,  1], device='cuda:0'),\n",
       "  tensor([ 1,  1], device='cuda:0'),\n",
       "  tensor([ 0,  0], device='cuda:0'),\n",
       "  tensor([ 1,  0], device='cuda:0'),\n",
       "  tensor([ 1,  0], device='cuda:0'),\n",
       "  tensor([ 1,  0], device='cuda:0'),\n",
       "  tensor([ 0,  1], device='cuda:0'),\n",
       "  tensor([ 1,  0], device='cuda:0'),\n",
       "  tensor([ 0,  1], device='cuda:0'),\n",
       "  tensor([ 0,  1], device='cuda:0'),\n",
       "  tensor([ 1,  0], device='cuda:0'),\n",
       "  tensor([ 0,  1], device='cuda:0'),\n",
       "  tensor([ 1,  1], device='cuda:0'),\n",
       "  tensor([ 0,  1], device='cuda:0'),\n",
       "  tensor([ 1,  0], device='cuda:0'),\n",
       "  tensor([ 0,  1], device='cuda:0'),\n",
       "  tensor([ 0,  0], device='cuda:0'),\n",
       "  tensor([ 1,  1], device='cuda:0'),\n",
       "  tensor([ 0,  1], device='cuda:0'),\n",
       "  tensor([ 1,  1], device='cuda:0'),\n",
       "  tensor([ 1,  1], device='cuda:0'),\n",
       "  tensor([ 1,  1], device='cuda:0'),\n",
       "  tensor([ 1,  1], device='cuda:0'),\n",
       "  tensor([ 1,  0], device='cuda:0'),\n",
       "  tensor([ 1,  0], device='cuda:0'),\n",
       "  tensor([ 1,  1], device='cuda:0'),\n",
       "  tensor([ 0,  0], device='cuda:0'),\n",
       "  tensor([ 1,  1], device='cuda:0'),\n",
       "  tensor([ 1,  0], device='cuda:0'),\n",
       "  tensor([ 1,  1], device='cuda:0'),\n",
       "  tensor([ 0,  0], device='cuda:0'),\n",
       "  tensor([ 0,  0], device='cuda:0'),\n",
       "  tensor([ 0,  0], device='cuda:0'),\n",
       "  tensor([ 0,  1], device='cuda:0'),\n",
       "  tensor([ 1,  1], device='cuda:0'),\n",
       "  tensor([ 0,  1], device='cuda:0'),\n",
       "  tensor([ 1,  1], device='cuda:0'),\n",
       "  tensor([ 1,  0], device='cuda:0'),\n",
       "  tensor([ 0,  1], device='cuda:0'),\n",
       "  tensor([ 0,  1], device='cuda:0'),\n",
       "  tensor([ 0,  1], device='cuda:0'),\n",
       "  tensor([ 0,  0], device='cuda:0'),\n",
       "  tensor([ 1,  0], device='cuda:0'),\n",
       "  tensor([ 1,  1], device='cuda:0'),\n",
       "  tensor([ 1,  0], device='cuda:0'),\n",
       "  tensor([ 0,  0], device='cuda:0'),\n",
       "  tensor([ 1,  1], device='cuda:0'),\n",
       "  tensor([ 0,  0], device='cuda:0'),\n",
       "  tensor([ 1,  0], device='cuda:0'),\n",
       "  tensor([ 1,  0], device='cuda:0'),\n",
       "  tensor([ 0,  1], device='cuda:0'),\n",
       "  tensor([ 1,  1], device='cuda:0'),\n",
       "  tensor([ 1,  0], device='cuda:0'),\n",
       "  tensor([ 1,  1], device='cuda:0'),\n",
       "  tensor([ 0,  1], device='cuda:0'),\n",
       "  tensor([ 1,  1], device='cuda:0'),\n",
       "  tensor([ 0,  0], device='cuda:0'),\n",
       "  tensor([ 0,  1], device='cuda:0'),\n",
       "  tensor([ 0,  0], device='cuda:0'),\n",
       "  tensor([ 1,  0], device='cuda:0'),\n",
       "  tensor([ 0,  0], device='cuda:0'),\n",
       "  tensor([ 0,  1], device='cuda:0'),\n",
       "  tensor([ 0,  0], device='cuda:0'),\n",
       "  tensor([ 0,  0], device='cuda:0'),\n",
       "  tensor([ 1,  0], device='cuda:0'),\n",
       "  tensor([ 0,  0], device='cuda:0'),\n",
       "  tensor([ 1,  0], device='cuda:0'),\n",
       "  tensor([ 0,  0], device='cuda:0'),\n",
       "  tensor([ 1,  0], device='cuda:0'),\n",
       "  tensor([ 1,  1], device='cuda:0'),\n",
       "  tensor([ 0,  0], device='cuda:0'),\n",
       "  tensor([ 1,  1], device='cuda:0'),\n",
       "  tensor([ 0,  1], device='cuda:0'),\n",
       "  tensor([ 1,  0], device='cuda:0'),\n",
       "  tensor([ 0,  1], device='cuda:0'),\n",
       "  tensor([ 0,  0], device='cuda:0'),\n",
       "  tensor([ 0,  1], device='cuda:0'),\n",
       "  tensor([ 0,  0], device='cuda:0'),\n",
       "  tensor([ 0,  1], device='cuda:0'),\n",
       "  tensor([ 0,  0], device='cuda:0'),\n",
       "  tensor([ 1,  1], device='cuda:0'),\n",
       "  tensor([ 1,  0], device='cuda:0'),\n",
       "  tensor([ 0,  1], device='cuda:0'),\n",
       "  tensor([ 0,  1], device='cuda:0'),\n",
       "  tensor([ 1,  0], device='cuda:0'),\n",
       "  tensor([ 0,  1], device='cuda:0'),\n",
       "  tensor([ 0,  1], device='cuda:0'),\n",
       "  tensor([ 1,  1], device='cuda:0'),\n",
       "  tensor([ 1,  0], device='cuda:0'),\n",
       "  tensor([ 1,  1], device='cuda:0'),\n",
       "  tensor([ 1,  0], device='cuda:0'),\n",
       "  tensor([ 0,  0], device='cuda:0'),\n",
       "  tensor([ 1,  0], device='cuda:0'),\n",
       "  tensor([ 1,  0], device='cuda:0'),\n",
       "  tensor([ 1,  1], device='cuda:0'),\n",
       "  tensor([ 1,  0], device='cuda:0'),\n",
       "  tensor([ 0,  1], device='cuda:0'),\n",
       "  tensor([ 1,  0], device='cuda:0'),\n",
       "  tensor([ 1,  1], device='cuda:0'),\n",
       "  tensor([ 0,  0], device='cuda:0'),\n",
       "  tensor([ 0,  1], device='cuda:0')],\n",
       " [tensor([[ 0.3689],\n",
       "          [ 0.4413]], dtype=torch.float64, device='cuda:0'), tensor([[ 0.4934],\n",
       "          [ 0.4731]], dtype=torch.float64, device='cuda:0'), tensor([[ 0.4970],\n",
       "          [ 0.4233]], dtype=torch.float64, device='cuda:0'), tensor([[ 0.4778],\n",
       "          [ 0.4732]], dtype=torch.float64, device='cuda:0'), tensor([[ 0.4883],\n",
       "          [ 0.4963]], dtype=torch.float64, device='cuda:0'), tensor([[ 0.4768],\n",
       "          [ 0.4997]], dtype=torch.float64, device='cuda:0'), tensor([[ 0.4834],\n",
       "          [ 0.3930]], dtype=torch.float64, device='cuda:0'), tensor([[ 0.4563],\n",
       "          [ 0.4797]], dtype=torch.float64, device='cuda:0'), tensor([[ 0.4809],\n",
       "          [ 0.3213]], dtype=torch.float64, device='cuda:0'), tensor([[ 0.4809],\n",
       "          [ 0.5028]], dtype=torch.float64, device='cuda:0'), tensor([[ 0.9717],\n",
       "          [ 0.4926]], dtype=torch.float64, device='cuda:0'), tensor([[ 0.4872],\n",
       "          [ 0.2567]], dtype=torch.float64, device='cuda:0'), tensor([[ 0.9654],\n",
       "          [ 0.5007]], dtype=torch.float64, device='cuda:0'), tensor([[ 0.5019],\n",
       "          [ 0.4803]], dtype=torch.float64, device='cuda:0'), tensor([[ 0.4885],\n",
       "          [ 0.9769]], dtype=torch.float64, device='cuda:0'), tensor([[ 0.4971],\n",
       "          [ 0.4815]], dtype=torch.float64, device='cuda:0'), tensor([[ 0.4880],\n",
       "          [ 0.4584]], dtype=torch.float64, device='cuda:0'), tensor([[ 0.4899],\n",
       "          [ 0.4968]], dtype=torch.float64, device='cuda:0'), tensor([[ 0.4888],\n",
       "          [ 0.4943]], dtype=torch.float64, device='cuda:0'), tensor([[ 0.4770],\n",
       "          [ 0.4857]], dtype=torch.float64, device='cuda:0'), tensor([[ 0.4800],\n",
       "          [ 0.4922]], dtype=torch.float64, device='cuda:0'), tensor([[ 0.4796],\n",
       "          [ 0.4941]], dtype=torch.float64, device='cuda:0'), tensor([[ 0.4528],\n",
       "          [ 0.4821]], dtype=torch.float64, device='cuda:0'), tensor([[ 0.4794],\n",
       "          [ 0.4862]], dtype=torch.float64, device='cuda:0'), tensor([[ 0.4755],\n",
       "          [ 0.4452]], dtype=torch.float64, device='cuda:0'), tensor([[ 0.4980],\n",
       "          [ 0.4911]], dtype=torch.float64, device='cuda:0'), tensor([[ 0.4885],\n",
       "          [ 0.4840]], dtype=torch.float64, device='cuda:0'), tensor([[ 0.3994],\n",
       "          [ 0.4836]], dtype=torch.float64, device='cuda:0'), tensor([[ 0.4998],\n",
       "          [ 0.4796]], dtype=torch.float64, device='cuda:0'), tensor([[ 0.4741],\n",
       "          [ 0.4979]], dtype=torch.float64, device='cuda:0'), tensor([[ 0.4335],\n",
       "          [ 0.4875]], dtype=torch.float64, device='cuda:0'), tensor([[ 0.4926],\n",
       "          [ 0.4880]], dtype=torch.float64, device='cuda:0'), tensor([[ 0.4842],\n",
       "          [ 0.4908]], dtype=torch.float64, device='cuda:0'), tensor([[ 0.3829],\n",
       "          [ 0.4523]], dtype=torch.float64, device='cuda:0'), tensor([[ 0.4154],\n",
       "          [ 0.4869]], dtype=torch.float64, device='cuda:0'), tensor([[ 0.3879],\n",
       "          [ 0.4665]], dtype=torch.float64, device='cuda:0'), tensor([[ 0.9769],\n",
       "          [ 0.4845]], dtype=torch.float64, device='cuda:0'), tensor([[ 0.4269],\n",
       "          [ 0.4882]], dtype=torch.float64, device='cuda:0'), tensor([[ 0.4826],\n",
       "          [ 0.4573]], dtype=torch.float64, device='cuda:0'), tensor([[ 0.4708],\n",
       "          [ 0.9335]], dtype=torch.float64, device='cuda:0'), tensor([[ 0.4816],\n",
       "          [ 0.9622]], dtype=torch.float64, device='cuda:0'), tensor([[ 0.9669],\n",
       "          [ 0.4822]], dtype=torch.float64, device='cuda:0'), tensor([[ 0.4894],\n",
       "          [ 0.4591]], dtype=torch.float64, device='cuda:0'), tensor([[ 0.4502],\n",
       "          [ 0.4927]], dtype=torch.float64, device='cuda:0'), tensor([[ 0.2908],\n",
       "          [ 0.4912]], dtype=torch.float64, device='cuda:0'), tensor([[ 0.4677],\n",
       "          [ 0.4837]], dtype=torch.float64, device='cuda:0'), tensor([[ 0.4759],\n",
       "          [ 0.4664]], dtype=torch.float64, device='cuda:0'), tensor([[ 0.4920],\n",
       "          [ 0.4844]], dtype=torch.float64, device='cuda:0'), tensor([[ 0.4775],\n",
       "          [ 0.4515]], dtype=torch.float64, device='cuda:0'), tensor([[ 0.4500],\n",
       "          [ 0.4759]], dtype=torch.float64, device='cuda:0'), tensor([[ 0.4730],\n",
       "          [ 0.4594]], dtype=torch.float64, device='cuda:0'), tensor([[ 0.4277],\n",
       "          [ 0.4880]], dtype=torch.float64, device='cuda:0'), tensor([[ 0.4366],\n",
       "          [ 0.4987]], dtype=torch.float64, device='cuda:0'), tensor([[ 0.8888],\n",
       "          [ 0.4846]], dtype=torch.float64, device='cuda:0'), tensor([[ 0.4848],\n",
       "          [ 0.4545]], dtype=torch.float64, device='cuda:0'), tensor([[ 0.4616],\n",
       "          [ 0.4444]], dtype=torch.float64, device='cuda:0'), tensor([[ 0.4575],\n",
       "          [ 0.3812]], dtype=torch.float64, device='cuda:0'), tensor([[ 0.4908],\n",
       "          [ 0.4942]], dtype=torch.float64, device='cuda:0'), tensor([[ 0.9643],\n",
       "          [ 0.4940]], dtype=torch.float64, device='cuda:0'), tensor([[ 0.4835],\n",
       "          [ 0.4525]], dtype=torch.float64, device='cuda:0'), tensor([[ 0.4144],\n",
       "          [ 0.4993]], dtype=torch.float64, device='cuda:0'), tensor([[ 0.4897],\n",
       "          [ 0.4984]], dtype=torch.float64, device='cuda:0'), tensor([[ 0.4883],\n",
       "          [ 0.9746]], dtype=torch.float64, device='cuda:0'), tensor([[ 0.9529],\n",
       "          [ 0.4062]], dtype=torch.float64, device='cuda:0'), tensor([[ 0.9826],\n",
       "          [ 0.4926]], dtype=torch.float64, device='cuda:0'), tensor([[ 0.3766],\n",
       "          [ 0.9686]], dtype=torch.float64, device='cuda:0'), tensor([[ 0.5049],\n",
       "          [ 0.4847]], dtype=torch.float64, device='cuda:0'), tensor([[ 0.4905],\n",
       "          [ 0.4722]], dtype=torch.float64, device='cuda:0'), tensor([[ 0.4952],\n",
       "          [ 0.4857]], dtype=torch.float64, device='cuda:0'), tensor([[ 0.2758],\n",
       "          [ 0.9690]], dtype=torch.float64, device='cuda:0'), tensor([[ 0.4894],\n",
       "          [ 0.4850]], dtype=torch.float64, device='cuda:0'), tensor([[ 0.4903],\n",
       "          [ 0.4801]], dtype=torch.float64, device='cuda:0'), tensor([[ 0.4307],\n",
       "          [ 0.4875]], dtype=torch.float64, device='cuda:0'), tensor([[ 0.4949],\n",
       "          [ 0.4918]], dtype=torch.float64, device='cuda:0'), tensor([[ 0.4121],\n",
       "          [ 0.4929]], dtype=torch.float64, device='cuda:0'), tensor([[ 0.4847],\n",
       "          [ 0.4855]], dtype=torch.float64, device='cuda:0'), tensor([[ 0.4923],\n",
       "          [ 0.9336]], dtype=torch.float64, device='cuda:0'), tensor([[ 0.9724],\n",
       "          [ 0.4914]], dtype=torch.float64, device='cuda:0'), tensor([[ 0.4688],\n",
       "          [ 0.4887]], dtype=torch.float64, device='cuda:0'), tensor([[ 0.4979],\n",
       "          [ 0.4899]], dtype=torch.float64, device='cuda:0'), tensor([[ 0.5020],\n",
       "          [ 0.4816]], dtype=torch.float64, device='cuda:0'), tensor([[ 0.4946],\n",
       "          [ 0.4203]], dtype=torch.float64, device='cuda:0'), tensor([[ 0.4308],\n",
       "          [ 0.4178]], dtype=torch.float64, device='cuda:0'), tensor([[ 0.4783],\n",
       "          [ 0.4809]], dtype=torch.float64, device='cuda:0'), tensor([[ 0.4733],\n",
       "          [ 0.9688]], dtype=torch.float64, device='cuda:0'), tensor([[ 0.3903],\n",
       "          [ 0.9820]], dtype=torch.float64, device='cuda:0'), tensor([[ 0.4905],\n",
       "          [ 0.4947]], dtype=torch.float64, device='cuda:0'), tensor([[ 0.4866],\n",
       "          [ 0.4895]], dtype=torch.float64, device='cuda:0'), tensor([[ 0.9687],\n",
       "          [ 0.4229]], dtype=torch.float64, device='cuda:0'), tensor([[ 0.4838],\n",
       "          [ 0.4574]], dtype=torch.float64, device='cuda:0'), tensor([[ 0.4884],\n",
       "          [ 0.4836]], dtype=torch.float64, device='cuda:0'), tensor([[ 0.4841],\n",
       "          [ 0.4442]], dtype=torch.float64, device='cuda:0'), tensor([[ 0.4765],\n",
       "          [ 0.3011]], dtype=torch.float64, device='cuda:0'), tensor([[ 0.4682],\n",
       "          [ 0.9744]], dtype=torch.float64, device='cuda:0'), tensor([[ 0.4901],\n",
       "          [ 0.4716]], dtype=torch.float64, device='cuda:0'), tensor([[ 0.4963],\n",
       "          [ 0.9809]], dtype=torch.float64, device='cuda:0'), tensor([[ 0.9642],\n",
       "          [ 0.9749]], dtype=torch.float64, device='cuda:0'), tensor([[ 0.4817],\n",
       "          [ 0.4972]], dtype=torch.float64, device='cuda:0'), tensor([[ 0.4696],\n",
       "          [ 0.3482]], dtype=torch.float64, device='cuda:0'), tensor([[ 0.4743],\n",
       "          [ 0.9775]], dtype=torch.float64, device='cuda:0'), tensor([[ 0.4799],\n",
       "          [ 0.4863]], dtype=torch.float64, device='cuda:0'), tensor([[ 0.4889],\n",
       "          [ 0.4739]], dtype=torch.float64, device='cuda:0'), tensor([[ 0.4857],\n",
       "          [ 0.4961]], dtype=torch.float64, device='cuda:0'), tensor([[ 0.3053],\n",
       "          [ 0.4884]], dtype=torch.float64, device='cuda:0'), tensor([[ 0.9749],\n",
       "          [ 0.4957]], dtype=torch.float64, device='cuda:0'), tensor([[ 0.9668],\n",
       "          [ 0.3955]], dtype=torch.float64, device='cuda:0'), tensor([[ 0.4893],\n",
       "          [ 0.4773]], dtype=torch.float64, device='cuda:0'), tensor([[ 0.4738],\n",
       "          [ 0.4917]], dtype=torch.float64, device='cuda:0'), tensor([[ 0.4475],\n",
       "          [ 0.4946]], dtype=torch.float64, device='cuda:0'), tensor([[ 0.9724],\n",
       "          [ 0.4921]], dtype=torch.float64, device='cuda:0'), tensor([[ 0.4335],\n",
       "          [ 0.4476]], dtype=torch.float64, device='cuda:0'), tensor([[ 0.4947],\n",
       "          [ 0.5022]], dtype=torch.float64, device='cuda:0'), tensor([[ 0.3697],\n",
       "          [ 0.4765]], dtype=torch.float64, device='cuda:0'), tensor([[ 0.9583],\n",
       "          [ 0.4891]], dtype=torch.float64, device='cuda:0'), tensor([[ 0.9663],\n",
       "          [ 0.4934]], dtype=torch.float64, device='cuda:0'), tensor([[ 0.3766],\n",
       "          [ 0.4997]], dtype=torch.float64, device='cuda:0'), tensor([[ 0.4067],\n",
       "          [ 0.4836]], dtype=torch.float64, device='cuda:0'), tensor([[ 0.4696],\n",
       "          [ 0.2754]], dtype=torch.float64, device='cuda:0'), tensor([[ 0.4912],\n",
       "          [ 0.4689]], dtype=torch.float64, device='cuda:0'), tensor([[ 0.4986],\n",
       "          [ 0.4871]], dtype=torch.float64, device='cuda:0'), tensor([[ 0.4839],\n",
       "          [ 0.9766]], dtype=torch.float64, device='cuda:0'), tensor([[ 0.4994],\n",
       "          [ 0.4963]], dtype=torch.float64, device='cuda:0'), tensor([[ 0.4592],\n",
       "          [ 0.4879]], dtype=torch.float64, device='cuda:0'), tensor([[ 0.4619],\n",
       "          [ 0.4882]], dtype=torch.float64, device='cuda:0'), tensor([[ 0.4942],\n",
       "          [ 0.4647]], dtype=torch.float64, device='cuda:0'), tensor([[ 0.4832],\n",
       "          [ 0.5028]], dtype=torch.float64, device='cuda:0'), tensor([[ 0.4771],\n",
       "          [ 0.4970]], dtype=torch.float64, device='cuda:0'), tensor([[ 0.4512],\n",
       "          [ 0.4901]], dtype=torch.float64, device='cuda:0'), tensor([[ 0.4704],\n",
       "          [ 0.3299]], dtype=torch.float64, device='cuda:0'), tensor([[ 0.4952],\n",
       "          [ 0.4139]], dtype=torch.float64, device='cuda:0'), tensor([[ 0.3394],\n",
       "          [ 0.4844]], dtype=torch.float64, device='cuda:0'), tensor([[ 0.9692],\n",
       "          [ 0.4667]], dtype=torch.float64, device='cuda:0'), tensor([[ 0.4939],\n",
       "          [ 0.4849]], dtype=torch.float64, device='cuda:0'), tensor([[ 0.4931],\n",
       "          [ 0.9791]], dtype=torch.float64, device='cuda:0'), tensor([[ 0.9784],\n",
       "          [ 0.4733]], dtype=torch.float64, device='cuda:0'), tensor([[ 0.4823],\n",
       "          [ 0.4848]], dtype=torch.float64, device='cuda:0'), tensor([[ 0.4869],\n",
       "          [ 0.3807]], dtype=torch.float64, device='cuda:0'), tensor([[ 0.4234],\n",
       "          [ 0.4898]], dtype=torch.float64, device='cuda:0'), tensor([[ 0.5034],\n",
       "          [ 0.4963]], dtype=torch.float64, device='cuda:0'), tensor([[ 0.4705],\n",
       "          [ 0.4866]], dtype=torch.float64, device='cuda:0'), tensor([[ 0.4902],\n",
       "          [ 0.4946]], dtype=torch.float64, device='cuda:0'), tensor([[ 0.4831],\n",
       "          [ 0.4720]], dtype=torch.float64, device='cuda:0'), tensor([[ 0.4797],\n",
       "          [ 0.4930]], dtype=torch.float64, device='cuda:0'), tensor([[ 0.4722],\n",
       "          [ 0.4830]], dtype=torch.float64, device='cuda:0'), tensor([[ 0.4929],\n",
       "          [ 0.9799]], dtype=torch.float64, device='cuda:0'), tensor([[ 0.4791],\n",
       "          [ 0.4940]], dtype=torch.float64, device='cuda:0'), tensor([[ 0.4765],\n",
       "          [ 0.2279]], dtype=torch.float64, device='cuda:0')])"
      ]
     },
     "execution_count": 46,
     "metadata": {},
     "output_type": "execute_result"
    }
   ],
   "source": [
    "MUL"
   ]
  },
  {
   "cell_type": "code",
   "execution_count": 71,
   "metadata": {},
   "outputs": [],
   "source": [
    "def eva():    \n",
    "    m.eval()\n",
    "    with tqdm(total=len(X_val)) as pbar:\n",
    "        with torch.no_grad():\n",
    "            truth = []\n",
    "            predicted =[]\n",
    "            correct = 0\n",
    "            total = 0\n",
    "            for i, ( x, p, y) in enumerate(zip(X_val,param_val,y_val)):\n",
    "                x,p,y = x.to(device), p.to(device),y.to(device)\n",
    "\n",
    "                # forward + backward + optimize\n",
    "                outputs = m(x,p)\n",
    "                pred = (F.sigmoid(outputs))\n",
    "                corr=[]\n",
    "                for i in pred:\n",
    "                    if i >= 0.52: corr.append(1)\n",
    "                    else: corr.append(0)\n",
    "                total += y.size(0)\n",
    "                correct += (corr == y.cpu().numpy()).sum()\n",
    "                predicted.append(pred)\n",
    "                truth.append(y)\n",
    "                pbar.update()\n",
    "\n",
    "\n",
    "            print('Accuracy of the network on the val images: %d %%' % (100 * correct / total))\n",
    "            \n",
    "    print('Finished Training')\n",
    "    return losslog,vallog,truth,predicted    \n",
    "            "
   ]
  },
  {
   "cell_type": "code",
   "execution_count": 72,
   "metadata": {},
   "outputs": [
    {
     "name": "stdout",
     "output_type": "stream",
     "text": [
      "100%|██████████| 74/74 [00:50<00:00,  1.72it/s]Accuracy of the network on the val images: 56 %\n",
      "\n",
      "Finished Training\n"
     ]
    }
   ],
   "source": [
    "M = eva()"
   ]
  },
  {
   "cell_type": "code",
   "execution_count": 74,
   "metadata": {},
   "outputs": [
    {
     "name": "stdout",
     "output_type": "stream",
     "text": [
      "20\n",
      "22\n",
      "24\n",
      "26\n",
      "28\n",
      "30\n",
      "32\n",
      "34\n",
      "36\n",
      "38\n",
      "40\n",
      "42\n",
      "44\n",
      "46\n",
      "48\n"
     ]
    }
   ],
   "source": [
    "for i in range(20,50,2):\n",
    "    print(i)"
   ]
  },
  {
   "cell_type": "code",
   "execution_count": null,
   "metadata": {},
   "outputs": [],
   "source": [
    "\n",
    "\n",
    "## Validate"
   ]
  },
  {
   "cell_type": "code",
   "execution_count": 47,
   "metadata": {},
   "outputs": [],
   "source": [
    "def test():\n",
    "    with torch.no_grad():\n",
    "        n = len(X_test)\n",
    "        ml.eval()\n",
    "        predicted = []\n",
    "        correct = 0\n",
    "        total = 0\n",
    "        with tqdm(total=n) as pbar:\n",
    "            for i, ( x, p, y) in enumerate(zip(X_test,param_test,y_test)):\n",
    "                x,p,y = x.to(device), p.to(device),y.to(device)\n",
    "\n",
    "                # forward + backward + optimize\n",
    "                outputs = ml(x,p)\n",
    "                _, pred = torch.max(outputs.data, 1)\n",
    "                total += y.size(0)\n",
    "                correct += (pred == y).sum()\n",
    "    \n",
    "    print('Accuracy of the network on the test images: %d %%' % (\n",
    "    100 * correct / total))\n",
    "    return pred"
   ]
  },
  {
   "cell_type": "code",
   "execution_count": 48,
   "metadata": {
    "scrolled": true
   },
   "outputs": [
    {
     "ename": "NameError",
     "evalue": "name 'ml' is not defined",
     "output_type": "error",
     "traceback": [
      "\u001b[0;31m---------------------------------------------------------------------------\u001b[0m",
      "\u001b[0;31mNameError\u001b[0m                                 Traceback (most recent call last)",
      "\u001b[0;32m<ipython-input-48-f356ba516ccf>\u001b[0m in \u001b[0;36m<module>\u001b[0;34m()\u001b[0m\n\u001b[0;32m----> 1\u001b[0;31m \u001b[0mTEST\u001b[0m \u001b[0;34m=\u001b[0m \u001b[0mtest\u001b[0m\u001b[0;34m(\u001b[0m\u001b[0;34m)\u001b[0m\u001b[0;34m\u001b[0m\u001b[0m\n\u001b[0m",
      "\u001b[0;32m<ipython-input-47-9c92a32643f7>\u001b[0m in \u001b[0;36mtest\u001b[0;34m()\u001b[0m\n\u001b[1;32m      2\u001b[0m     \u001b[0;32mwith\u001b[0m \u001b[0mtorch\u001b[0m\u001b[0;34m.\u001b[0m\u001b[0mno_grad\u001b[0m\u001b[0;34m(\u001b[0m\u001b[0;34m)\u001b[0m\u001b[0;34m:\u001b[0m\u001b[0;34m\u001b[0m\u001b[0m\n\u001b[1;32m      3\u001b[0m         \u001b[0mn\u001b[0m \u001b[0;34m=\u001b[0m \u001b[0mlen\u001b[0m\u001b[0;34m(\u001b[0m\u001b[0mX_test\u001b[0m\u001b[0;34m)\u001b[0m\u001b[0;34m\u001b[0m\u001b[0m\n\u001b[0;32m----> 4\u001b[0;31m         \u001b[0mml\u001b[0m\u001b[0;34m.\u001b[0m\u001b[0meval\u001b[0m\u001b[0;34m(\u001b[0m\u001b[0;34m)\u001b[0m\u001b[0;34m\u001b[0m\u001b[0m\n\u001b[0m\u001b[1;32m      5\u001b[0m         \u001b[0mpredicted\u001b[0m \u001b[0;34m=\u001b[0m \u001b[0;34m[\u001b[0m\u001b[0;34m]\u001b[0m\u001b[0;34m\u001b[0m\u001b[0m\n\u001b[1;32m      6\u001b[0m         \u001b[0mcorrect\u001b[0m \u001b[0;34m=\u001b[0m \u001b[0;36m0\u001b[0m\u001b[0;34m\u001b[0m\u001b[0m\n",
      "\u001b[0;31mNameError\u001b[0m: name 'ml' is not defined"
     ]
    }
   ],
   "source": [
    "TEST = test()"
   ]
  },
  {
   "cell_type": "code",
   "execution_count": 52,
   "metadata": {
    "scrolled": false
   },
   "outputs": [
    {
     "data": {
      "text/plain": [
       "tensor([ 1], device='cuda:0')"
      ]
     },
     "execution_count": 52,
     "metadata": {},
     "output_type": "execute_result"
    }
   ],
   "source": [
    "TEST"
   ]
  },
  {
   "cell_type": "code",
   "execution_count": null,
   "metadata": {},
   "outputs": [],
   "source": []
  },
  {
   "cell_type": "code",
   "execution_count": null,
   "metadata": {},
   "outputs": [],
   "source": []
  },
  {
   "cell_type": "code",
   "execution_count": 50,
   "metadata": {},
   "outputs": [],
   "source": [
    "model_save_path = './weights/'"
   ]
  },
  {
   "cell_type": "code",
   "execution_count": 51,
   "metadata": {},
   "outputs": [],
   "source": [
    "torch.save(ml.state_dict(),f'{model_save_path}Predict_progress_3D.pth')"
   ]
  },
  {
   "cell_type": "code",
   "execution_count": 46,
   "metadata": {},
   "outputs": [],
   "source": [
    "ml = Darknet([1,2,4,6,3], num_classes=1, nf=32)\n",
    "ml.double()\n",
    "ml.load_state_dict(torch.load('Predict_pregress_.pth'))"
   ]
  },
  {
   "cell_type": "code",
   "execution_count": 47,
   "metadata": {},
   "outputs": [
    {
     "name": "stdout",
     "output_type": "stream",
     "text": [
      "cuda:0\n"
     ]
    }
   ],
   "source": [
    "device = torch.device(\"cuda:0\" if torch.cuda.is_available() else \"cpu\")\n",
    "ml.to(device)\n",
    "print(device)"
   ]
  },
  {
   "cell_type": "code",
   "execution_count": null,
   "metadata": {},
   "outputs": [],
   "source": []
  }
 ],
 "metadata": {
  "kernelspec": {
   "display_name": "Python 3",
   "language": "python",
   "name": "python3"
  },
  "language_info": {
   "codemirror_mode": {
    "name": "ipython",
    "version": 3
   },
   "file_extension": ".py",
   "mimetype": "text/x-python",
   "name": "python",
   "nbconvert_exporter": "python",
   "pygments_lexer": "ipython3",
   "version": "3.6.5"
  }
 },
 "nbformat": 4,
 "nbformat_minor": 2
}
