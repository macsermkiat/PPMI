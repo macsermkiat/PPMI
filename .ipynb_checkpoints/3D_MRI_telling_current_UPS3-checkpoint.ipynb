{
 "cells": [
  {
   "cell_type": "code",
   "execution_count": 1,
   "metadata": {},
   "outputs": [],
   "source": [
    "# Put these at the top of every notebook, to get automatic reloading and inline plotting\n",
    "%reload_ext autoreload\n",
    "%autoreload 2\n",
    "%matplotlib inline"
   ]
  },
  {
   "cell_type": "code",
   "execution_count": 2,
   "metadata": {},
   "outputs": [],
   "source": [
    "# This file contains all the main external libs we'll use\n",
    "from fastai.imports import *\n",
    "#from fastai.transforms import *\n",
    "from fastai.conv_learner import *\n",
    "#from fastai.model import *\n",
    "#from fastai.dataset import *\n",
    "#from fastai.sgdr import *\n",
    "#from fastai.plots import *"
   ]
  },
  {
   "cell_type": "code",
   "execution_count": 3,
   "metadata": {},
   "outputs": [],
   "source": [
    "PATH = \"./\"\n",
    "IMG_PATH = Path('../data/PPMI_MRI/')"
   ]
  },
  {
   "cell_type": "code",
   "execution_count": 4,
   "metadata": {},
   "outputs": [],
   "source": [
    "import nibabel as nib\n",
    "#import pydicom\n",
    "import glob\n",
    "import os\n",
    "import numpy\n",
    "import seaborn as sns\n",
    "from itertools import chain\n",
    "#from skimage.transform import resize\n",
    "#from tensorboardX import SummaryWriter\n",
    "import gc"
   ]
  },
  {
   "cell_type": "code",
   "execution_count": 5,
   "metadata": {
    "scrolled": true
   },
   "outputs": [
    {
     "data": {
      "text/plain": [
       "'for dirName, subdirList, fileList in os.walk(PathDicom):\\n    for filename in fileList:\\n        if \".dcm\" in filename.lower():  # check whether the file\\'s DICOM\\n            lstFilesDCM.append(os.path.join(dirName,filename))'"
      ]
     },
     "execution_count": 5,
     "metadata": {},
     "output_type": "execute_result"
    }
   ],
   "source": [
    "\n",
    "lstFilesDCM = []  # create an empty list\n",
    "'''for dirName, subdirList, fileList in os.walk(PathDicom):\n",
    "    for filename in fileList:\n",
    "        if \".dcm\" in filename.lower():  # check whether the file's DICOM\n",
    "            lstFilesDCM.append(os.path.join(dirName,filename))'''"
   ]
  },
  {
   "cell_type": "code",
   "execution_count": null,
   "metadata": {},
   "outputs": [],
   "source": []
  },
  {
   "cell_type": "code",
   "execution_count": null,
   "metadata": {},
   "outputs": [],
   "source": []
  },
  {
   "cell_type": "code",
   "execution_count": 6,
   "metadata": {},
   "outputs": [],
   "source": [
    "metadata = pd.read_csv(IMG_PATH / 'mri_T1.csv')"
   ]
  },
  {
   "cell_type": "code",
   "execution_count": 7,
   "metadata": {},
   "outputs": [],
   "source": [
    "#Shuffle data\n",
    "metadata = metadata.sample(frac=1).reset_index(drop=True)"
   ]
  },
  {
   "cell_type": "code",
   "execution_count": 8,
   "metadata": {
    "scrolled": false
   },
   "outputs": [
    {
     "data": {
      "text/html": [
       "<div>\n",
       "<style scoped>\n",
       "    .dataframe tbody tr th:only-of-type {\n",
       "        vertical-align: middle;\n",
       "    }\n",
       "\n",
       "    .dataframe tbody tr th {\n",
       "        vertical-align: top;\n",
       "    }\n",
       "\n",
       "    .dataframe thead th {\n",
       "        text-align: right;\n",
       "    }\n",
       "</style>\n",
       "<table border=\"1\" class=\"dataframe\">\n",
       "  <thead>\n",
       "    <tr style=\"text-align: right;\">\n",
       "      <th></th>\n",
       "      <th>Image Data ID</th>\n",
       "      <th>Subject</th>\n",
       "      <th>Group</th>\n",
       "      <th>Sex</th>\n",
       "      <th>Age</th>\n",
       "      <th>Visit</th>\n",
       "      <th>MDP_UPDRS III</th>\n",
       "      <th>NHY</th>\n",
       "      <th>Acq Date</th>\n",
       "      <th>MRI File Path</th>\n",
       "    </tr>\n",
       "  </thead>\n",
       "  <tbody>\n",
       "    <tr>\n",
       "      <th>0</th>\n",
       "      <td>526191</td>\n",
       "      <td>3188</td>\n",
       "      <td>Control</td>\n",
       "      <td>M</td>\n",
       "      <td>72</td>\n",
       "      <td>5</td>\n",
       "      <td>0</td>\n",
       "      <td>0</td>\n",
       "      <td>2014-12-04</td>\n",
       "      <td>../dat_mri_T1_gz/PPMI_3188_MR_T1-anatomical_Br...</td>\n",
       "    </tr>\n",
       "    <tr>\n",
       "      <th>1</th>\n",
       "      <td>410235</td>\n",
       "      <td>3762</td>\n",
       "      <td>PD</td>\n",
       "      <td>F</td>\n",
       "      <td>72</td>\n",
       "      <td>5</td>\n",
       "      <td>17</td>\n",
       "      <td>2</td>\n",
       "      <td>2013-01-09</td>\n",
       "      <td>../dat_mri_T1_gz/PPMI_3762_MR_T1-anatomical_Br...</td>\n",
       "    </tr>\n",
       "    <tr>\n",
       "      <th>2</th>\n",
       "      <td>408882</td>\n",
       "      <td>3559</td>\n",
       "      <td>PD</td>\n",
       "      <td>M</td>\n",
       "      <td>40</td>\n",
       "      <td>7</td>\n",
       "      <td>28</td>\n",
       "      <td>2</td>\n",
       "      <td>2013-03-11</td>\n",
       "      <td>../dat_mri_T1_gz/PPMI_3559_MR_T1-anatomical_Br...</td>\n",
       "    </tr>\n",
       "    <tr>\n",
       "      <th>3</th>\n",
       "      <td>526157</td>\n",
       "      <td>4031</td>\n",
       "      <td>SWEDD</td>\n",
       "      <td>F</td>\n",
       "      <td>64</td>\n",
       "      <td>7</td>\n",
       "      <td>3</td>\n",
       "      <td>0</td>\n",
       "      <td>2015-01-21</td>\n",
       "      <td>../dat_mri_T1_gz/PPMI_4031_MR_T1-anatomical_Br...</td>\n",
       "    </tr>\n",
       "    <tr>\n",
       "      <th>4</th>\n",
       "      <td>454356</td>\n",
       "      <td>4001</td>\n",
       "      <td>PD</td>\n",
       "      <td>M</td>\n",
       "      <td>52</td>\n",
       "      <td>7</td>\n",
       "      <td>36</td>\n",
       "      <td>2</td>\n",
       "      <td>2013-06-26</td>\n",
       "      <td>../dat_mri_T1_gz/PPMI_4001_MR_T1-anatomical_Br...</td>\n",
       "    </tr>\n",
       "  </tbody>\n",
       "</table>\n",
       "</div>"
      ],
      "text/plain": [
       "   Image Data ID  Subject    Group Sex  Age  Visit  MDP_UPDRS III  NHY  \\\n",
       "0         526191     3188  Control   M   72      5              0    0   \n",
       "1         410235     3762       PD   F   72      5             17    2   \n",
       "2         408882     3559       PD   M   40      7             28    2   \n",
       "3         526157     4031    SWEDD   F   64      7              3    0   \n",
       "4         454356     4001       PD   M   52      7             36    2   \n",
       "\n",
       "     Acq Date                                      MRI File Path  \n",
       "0  2014-12-04  ../dat_mri_T1_gz/PPMI_3188_MR_T1-anatomical_Br...  \n",
       "1  2013-01-09  ../dat_mri_T1_gz/PPMI_3762_MR_T1-anatomical_Br...  \n",
       "2  2013-03-11  ../dat_mri_T1_gz/PPMI_3559_MR_T1-anatomical_Br...  \n",
       "3  2015-01-21  ../dat_mri_T1_gz/PPMI_4031_MR_T1-anatomical_Br...  \n",
       "4  2013-06-26  ../dat_mri_T1_gz/PPMI_4001_MR_T1-anatomical_Br...  "
      ]
     },
     "execution_count": 8,
     "metadata": {},
     "output_type": "execute_result"
    }
   ],
   "source": [
    "metadata[0:5]"
   ]
  },
  {
   "cell_type": "code",
   "execution_count": 9,
   "metadata": {},
   "outputs": [],
   "source": [
    "for file in glob.glob(f'{PATH}../data/PPMI_MRI/**/*.nii'):\n",
    "    lstFilesDCM.append(file)"
   ]
  },
  {
   "cell_type": "code",
   "execution_count": 10,
   "metadata": {},
   "outputs": [
    {
     "data": {
      "text/plain": [
       "643"
      ]
     },
     "execution_count": 10,
     "metadata": {},
     "output_type": "execute_result"
    }
   ],
   "source": [
    "len(lstFilesDCM)"
   ]
  },
  {
   "cell_type": "code",
   "execution_count": 11,
   "metadata": {},
   "outputs": [
    {
     "data": {
      "text/plain": [
       "643"
      ]
     },
     "execution_count": 11,
     "metadata": {},
     "output_type": "execute_result"
    }
   ],
   "source": [
    "ptID = []\n",
    "for i in lstFilesDCM:\n",
    "    j = i.split(\"_\")[11].strip()\n",
    "    j = int(j[1:7])\n",
    "    ptID.append(j)\n",
    "len(ptID)"
   ]
  },
  {
   "cell_type": "code",
   "execution_count": 12,
   "metadata": {},
   "outputs": [],
   "source": [
    "df = metadata[['Image Data ID','Group','Sex','Age','Subject','MDP_UPDRS III','NHY','Acq Date']].set_index('Image Data ID')\n",
    "for index, rows in df.iterrows():\n",
    "    for i in lstFilesDCM:\n",
    "        j = i.split(\"_\")[11].strip()\n",
    "        j = int(j[1:7])\n",
    "        if index == j:\n",
    "            df.loc[df.index == j, \"Filenames\"] = i\n"
   ]
  },
  {
   "cell_type": "code",
   "execution_count": 13,
   "metadata": {},
   "outputs": [],
   "source": [
    "df = df[df.Group.isin(['Control','PD'])]"
   ]
  },
  {
   "cell_type": "code",
   "execution_count": 14,
   "metadata": {
    "scrolled": true
   },
   "outputs": [
    {
     "data": {
      "text/plain": [
       "Group            False\n",
       "Sex              False\n",
       "Age              False\n",
       "Subject          False\n",
       "MDP_UPDRS III    False\n",
       "NHY              False\n",
       "Acq Date         False\n",
       "Filenames        False\n",
       "dtype: bool"
      ]
     },
     "execution_count": 14,
     "metadata": {},
     "output_type": "execute_result"
    }
   ],
   "source": [
    "df.any().isnull()"
   ]
  },
  {
   "cell_type": "code",
   "execution_count": 15,
   "metadata": {},
   "outputs": [],
   "source": [
    "df.loc[df['Sex']=='F', 'is_F']=1\n",
    "df.loc[df['Sex']=='F', 'is_M']=0\n",
    "df.loc[df['Sex']=='M', 'is_F']=0\n",
    "df.loc[df['Sex']=='M', 'is_M']=1"
   ]
  },
  {
   "cell_type": "code",
   "execution_count": 16,
   "metadata": {},
   "outputs": [],
   "source": [
    "df.loc[df['Group']=='Control', 'Group']=0\n",
    "df.loc[df['Group']=='PD', 'Group']=1"
   ]
  },
  {
   "cell_type": "code",
   "execution_count": 59,
   "metadata": {},
   "outputs": [],
   "source": [
    "df.to_csv(IMG_PATH / 'df_mri.csv')"
   ]
  },
  {
   "cell_type": "code",
   "execution_count": 17,
   "metadata": {},
   "outputs": [],
   "source": [
    "df = pd.read_csv(IMG_PATH / 'df_mri.csv')"
   ]
  },
  {
   "cell_type": "code",
   "execution_count": 17,
   "metadata": {},
   "outputs": [],
   "source": [
    "up = pd.read_csv('comandfile.csv')"
   ]
  },
  {
   "cell_type": "code",
   "execution_count": 18,
   "metadata": {},
   "outputs": [
    {
     "data": {
      "text/html": [
       "<div>\n",
       "<style scoped>\n",
       "    .dataframe tbody tr th:only-of-type {\n",
       "        vertical-align: middle;\n",
       "    }\n",
       "\n",
       "    .dataframe tbody tr th {\n",
       "        vertical-align: top;\n",
       "    }\n",
       "\n",
       "    .dataframe thead th {\n",
       "        text-align: right;\n",
       "    }\n",
       "</style>\n",
       "<table border=\"1\" class=\"dataframe\">\n",
       "  <thead>\n",
       "    <tr style=\"text-align: right;\">\n",
       "      <th></th>\n",
       "      <th>Unnamed: 0</th>\n",
       "      <th>Image Data ID</th>\n",
       "      <th>Group</th>\n",
       "      <th>Subject</th>\n",
       "      <th>Age</th>\n",
       "      <th>Sex</th>\n",
       "      <th>Filenames</th>\n",
       "      <th>TOTAL3</th>\n",
       "      <th>1YR</th>\n",
       "      <th>2YR</th>\n",
       "      <th>3YR</th>\n",
       "      <th>TOTAL3.1</th>\n",
       "    </tr>\n",
       "  </thead>\n",
       "  <tbody>\n",
       "    <tr>\n",
       "      <th>0</th>\n",
       "      <td>0</td>\n",
       "      <td>360618</td>\n",
       "      <td>Control</td>\n",
       "      <td>3769</td>\n",
       "      <td>71</td>\n",
       "      <td>M</td>\n",
       "      <td>./PPMI6/3769/Reconstructed_DaTSCAN/2012-10-25_...</td>\n",
       "      <td>2.00</td>\n",
       "      <td>0.000000</td>\n",
       "      <td>0.0</td>\n",
       "      <td>0.0</td>\n",
       "      <td>2.00</td>\n",
       "    </tr>\n",
       "    <tr>\n",
       "      <th>1</th>\n",
       "      <td>1</td>\n",
       "      <td>388617</td>\n",
       "      <td>PD</td>\n",
       "      <td>4122</td>\n",
       "      <td>64</td>\n",
       "      <td>M</td>\n",
       "      <td>./PPMI6/4122/Reconstructed_DaTSCAN/2013-02-06_...</td>\n",
       "      <td>26.00</td>\n",
       "      <td>18.333333</td>\n",
       "      <td>17.0</td>\n",
       "      <td>NaN</td>\n",
       "      <td>26.00</td>\n",
       "    </tr>\n",
       "    <tr>\n",
       "      <th>2</th>\n",
       "      <td>2</td>\n",
       "      <td>363956</td>\n",
       "      <td>PD</td>\n",
       "      <td>3870</td>\n",
       "      <td>41</td>\n",
       "      <td>F</td>\n",
       "      <td>./PPMI4/3870/Reconstructed_DaTSCAN/2012-11-29_...</td>\n",
       "      <td>5.50</td>\n",
       "      <td>9.333333</td>\n",
       "      <td>19.0</td>\n",
       "      <td>44.5</td>\n",
       "      <td>5.50</td>\n",
       "    </tr>\n",
       "    <tr>\n",
       "      <th>3</th>\n",
       "      <td>3</td>\n",
       "      <td>419581</td>\n",
       "      <td>PD</td>\n",
       "      <td>3829</td>\n",
       "      <td>68</td>\n",
       "      <td>F</td>\n",
       "      <td>./PPMI/3829/Reconstructed_DaTSCAN/2013-10-01_1...</td>\n",
       "      <td>19.25</td>\n",
       "      <td>15.500000</td>\n",
       "      <td>11.0</td>\n",
       "      <td>25.5</td>\n",
       "      <td>19.25</td>\n",
       "    </tr>\n",
       "    <tr>\n",
       "      <th>4</th>\n",
       "      <td>4</td>\n",
       "      <td>341075</td>\n",
       "      <td>Control</td>\n",
       "      <td>3271</td>\n",
       "      <td>58</td>\n",
       "      <td>M</td>\n",
       "      <td>./PPMI6/3271/Reconstructed_DaTSCAN/2011-09-13_...</td>\n",
       "      <td>2.00</td>\n",
       "      <td>7.000000</td>\n",
       "      <td>NaN</td>\n",
       "      <td>NaN</td>\n",
       "      <td>2.00</td>\n",
       "    </tr>\n",
       "  </tbody>\n",
       "</table>\n",
       "</div>"
      ],
      "text/plain": [
       "   Unnamed: 0  Image Data ID    Group  Subject  Age Sex  \\\n",
       "0           0         360618  Control     3769   71   M   \n",
       "1           1         388617       PD     4122   64   M   \n",
       "2           2         363956       PD     3870   41   F   \n",
       "3           3         419581       PD     3829   68   F   \n",
       "4           4         341075  Control     3271   58   M   \n",
       "\n",
       "                                           Filenames  TOTAL3        1YR   2YR  \\\n",
       "0  ./PPMI6/3769/Reconstructed_DaTSCAN/2012-10-25_...    2.00   0.000000   0.0   \n",
       "1  ./PPMI6/4122/Reconstructed_DaTSCAN/2013-02-06_...   26.00  18.333333  17.0   \n",
       "2  ./PPMI4/3870/Reconstructed_DaTSCAN/2012-11-29_...    5.50   9.333333  19.0   \n",
       "3  ./PPMI/3829/Reconstructed_DaTSCAN/2013-10-01_1...   19.25  15.500000  11.0   \n",
       "4  ./PPMI6/3271/Reconstructed_DaTSCAN/2011-09-13_...    2.00   7.000000   NaN   \n",
       "\n",
       "    3YR  TOTAL3.1  \n",
       "0   0.0      2.00  \n",
       "1   NaN     26.00  \n",
       "2  44.5      5.50  \n",
       "3  25.5     19.25  \n",
       "4   NaN      2.00  "
      ]
     },
     "execution_count": 18,
     "metadata": {},
     "output_type": "execute_result"
    }
   ],
   "source": [
    "up.head()"
   ]
  },
  {
   "cell_type": "code",
   "execution_count": 19,
   "metadata": {},
   "outputs": [
    {
     "data": {
      "text/html": [
       "<div>\n",
       "<style scoped>\n",
       "    .dataframe tbody tr th:only-of-type {\n",
       "        vertical-align: middle;\n",
       "    }\n",
       "\n",
       "    .dataframe tbody tr th {\n",
       "        vertical-align: top;\n",
       "    }\n",
       "\n",
       "    .dataframe thead th {\n",
       "        text-align: right;\n",
       "    }\n",
       "</style>\n",
       "<table border=\"1\" class=\"dataframe\">\n",
       "  <thead>\n",
       "    <tr style=\"text-align: right;\">\n",
       "      <th></th>\n",
       "      <th>Group</th>\n",
       "      <th>Sex</th>\n",
       "      <th>Age</th>\n",
       "      <th>Subject</th>\n",
       "      <th>MDP_UPDRS III</th>\n",
       "      <th>NHY</th>\n",
       "      <th>Acq Date</th>\n",
       "      <th>Filenames</th>\n",
       "      <th>is_F</th>\n",
       "      <th>is_M</th>\n",
       "    </tr>\n",
       "    <tr>\n",
       "      <th>Image Data ID</th>\n",
       "      <th></th>\n",
       "      <th></th>\n",
       "      <th></th>\n",
       "      <th></th>\n",
       "      <th></th>\n",
       "      <th></th>\n",
       "      <th></th>\n",
       "      <th></th>\n",
       "      <th></th>\n",
       "      <th></th>\n",
       "    </tr>\n",
       "  </thead>\n",
       "  <tbody>\n",
       "    <tr>\n",
       "      <th>526191</th>\n",
       "      <td>0</td>\n",
       "      <td>M</td>\n",
       "      <td>72</td>\n",
       "      <td>3188</td>\n",
       "      <td>0</td>\n",
       "      <td>0</td>\n",
       "      <td>2014-12-04</td>\n",
       "      <td>./../data/PPMI_MRI/dat_mri_T1_gz 2/PPMI_3188_M...</td>\n",
       "      <td>0.0</td>\n",
       "      <td>1.0</td>\n",
       "    </tr>\n",
       "    <tr>\n",
       "      <th>410235</th>\n",
       "      <td>1</td>\n",
       "      <td>F</td>\n",
       "      <td>72</td>\n",
       "      <td>3762</td>\n",
       "      <td>17</td>\n",
       "      <td>2</td>\n",
       "      <td>2013-01-09</td>\n",
       "      <td>./../data/PPMI_MRI/dat_mri_T1_gz/PPMI_3762_MR_...</td>\n",
       "      <td>1.0</td>\n",
       "      <td>0.0</td>\n",
       "    </tr>\n",
       "    <tr>\n",
       "      <th>408882</th>\n",
       "      <td>1</td>\n",
       "      <td>M</td>\n",
       "      <td>40</td>\n",
       "      <td>3559</td>\n",
       "      <td>28</td>\n",
       "      <td>2</td>\n",
       "      <td>2013-03-11</td>\n",
       "      <td>./../data/PPMI_MRI/dat_mri_T1_gz 2/PPMI_3559_M...</td>\n",
       "      <td>0.0</td>\n",
       "      <td>1.0</td>\n",
       "    </tr>\n",
       "    <tr>\n",
       "      <th>454356</th>\n",
       "      <td>1</td>\n",
       "      <td>M</td>\n",
       "      <td>52</td>\n",
       "      <td>4001</td>\n",
       "      <td>36</td>\n",
       "      <td>2</td>\n",
       "      <td>2013-06-26</td>\n",
       "      <td>./../data/PPMI_MRI/dat_mri_T1_gz 2/PPMI_4001_M...</td>\n",
       "      <td>0.0</td>\n",
       "      <td>1.0</td>\n",
       "    </tr>\n",
       "    <tr>\n",
       "      <th>452452</th>\n",
       "      <td>1</td>\n",
       "      <td>F</td>\n",
       "      <td>56</td>\n",
       "      <td>4034</td>\n",
       "      <td>25</td>\n",
       "      <td>2</td>\n",
       "      <td>2014-03-24</td>\n",
       "      <td>./../data/PPMI_MRI/dat_mri_T1_gz 2/PPMI_4034_M...</td>\n",
       "      <td>1.0</td>\n",
       "      <td>0.0</td>\n",
       "    </tr>\n",
       "  </tbody>\n",
       "</table>\n",
       "</div>"
      ],
      "text/plain": [
       "               Group Sex  Age  Subject  MDP_UPDRS III  NHY    Acq Date  \\\n",
       "Image Data ID                                                            \n",
       "526191             0   M   72     3188              0    0  2014-12-04   \n",
       "410235             1   F   72     3762             17    2  2013-01-09   \n",
       "408882             1   M   40     3559             28    2  2013-03-11   \n",
       "454356             1   M   52     4001             36    2  2013-06-26   \n",
       "452452             1   F   56     4034             25    2  2014-03-24   \n",
       "\n",
       "                                                       Filenames  is_F  is_M  \n",
       "Image Data ID                                                                 \n",
       "526191         ./../data/PPMI_MRI/dat_mri_T1_gz 2/PPMI_3188_M...   0.0   1.0  \n",
       "410235         ./../data/PPMI_MRI/dat_mri_T1_gz/PPMI_3762_MR_...   1.0   0.0  \n",
       "408882         ./../data/PPMI_MRI/dat_mri_T1_gz 2/PPMI_3559_M...   0.0   1.0  \n",
       "454356         ./../data/PPMI_MRI/dat_mri_T1_gz 2/PPMI_4001_M...   0.0   1.0  \n",
       "452452         ./../data/PPMI_MRI/dat_mri_T1_gz 2/PPMI_4034_M...   1.0   0.0  "
      ]
     },
     "execution_count": 19,
     "metadata": {},
     "output_type": "execute_result"
    }
   ],
   "source": [
    "df.head()"
   ]
  },
  {
   "cell_type": "code",
   "execution_count": 20,
   "metadata": {},
   "outputs": [
    {
     "name": "stdout",
     "output_type": "stream",
     "text": [
      "MinMaxScaler(copy=True, feature_range=(0, 1))\n"
     ]
    },
    {
     "name": "stderr",
     "output_type": "stream",
     "text": [
      "/home/brainvistec4/miniconda3/envs/fastai/lib/python3.6/site-packages/sklearn/utils/validation.py:475: DataConversionWarning: Data with input dtype int64 was converted to float64 by MinMaxScaler.\n",
      "  warnings.warn(msg, DataConversionWarning)\n"
     ]
    }
   ],
   "source": [
    "from sklearn.preprocessing import MinMaxScaler\n",
    "\n",
    "scalea = MinMaxScaler()\n",
    "\n",
    "print(scalea.fit(df['Age'].values.reshape(-1,1)))\n",
    "\n",
    "df['age_scale'] = scalea.transform(df['Age'].values.reshape(-1,1))"
   ]
  },
  {
   "cell_type": "code",
   "execution_count": 46,
   "metadata": {},
   "outputs": [],
   "source": [
    "df = df[df.Group==1]"
   ]
  },
  {
   "cell_type": "code",
   "execution_count": 47,
   "metadata": {},
   "outputs": [],
   "source": [
    "from sklearn.model_selection import train_test_split\n",
    "X_train_tmp, X_test_tmp, param_train_tmp, param_test_tmp, y_train_tmp, y_test_tmp = train_test_split(df, df[['is_F','is_M','age_scale']], df['MDP_UPDRS III'], test_size=0.2)\n",
    "\n",
    "from sklearn.model_selection import train_test_split\n",
    "X_train_tmp, X_val_tmp, param_train_tmp, param_val_tmp, y_train_tmp, y_val_tmp = train_test_split(X_train_tmp, param_train_tmp, y_train_tmp, test_size=0.3)"
   ]
  },
  {
   "cell_type": "code",
   "execution_count": null,
   "metadata": {},
   "outputs": [],
   "source": []
  },
  {
   "cell_type": "code",
   "execution_count": 48,
   "metadata": {},
   "outputs": [],
   "source": [
    "lstFilesDCM_train = []  # create an empty list\n",
    "lstFilesDCM_test = []\n",
    "lstFilesDCM_val = []\n",
    "lstFilesDCM_train = X_train_tmp['Filenames'].values\n",
    "lstFilesDCM_train = lstFilesDCM_train.tolist()\n",
    "lstFilesDCM_test = X_test_tmp['Filenames'].values\n",
    "lstFilesDCM_test = lstFilesDCM_test.tolist()\n",
    "lstFilesDCM_val = X_val_tmp['Filenames'].values\n",
    "lstFilesDCM_val = lstFilesDCM_val.tolist()"
   ]
  },
  {
   "cell_type": "markdown",
   "metadata": {},
   "source": [
    "For NORMAL Image"
   ]
  },
  {
   "cell_type": "code",
   "execution_count": 26,
   "metadata": {},
   "outputs": [],
   "source": [
    "#Training Set"
   ]
  },
  {
   "cell_type": "code",
   "execution_count": 24,
   "metadata": {},
   "outputs": [],
   "source": [
    "img = nib.load(lstFilesDCM_train[68])\n",
    "im = []"
   ]
  },
  {
   "cell_type": "code",
   "execution_count": 25,
   "metadata": {},
   "outputs": [],
   "source": [
    "ds = img.get_fdata()[15]\n",
    "for i in range(16,161):\n",
    "    ds = np.dstack((ds,img.get_fdata()[i]))\n",
    "ds = ds.transpose(1,0,2)\n",
    "\n",
    "#Select cut\n",
    "ds_3d_a = ds[77,25:235,:]\n",
    "for i in range(80,240,3):\n",
    "    ds_3d_a = np.dstack((ds_3d_a,ds[i,25:235,:]))\n",
    "ds_3d_a = ds_3d_a.transpose(2,0,1)\n",
    "ds_3d_a = ds_3d_a / 2350\n",
    "\n",
    "im.append(ds_3d_a)"
   ]
  },
  {
   "cell_type": "code",
   "execution_count": 32,
   "metadata": {},
   "outputs": [],
   "source": [
    "imim = np.asarray(im)"
   ]
  },
  {
   "cell_type": "code",
   "execution_count": 78,
   "metadata": {},
   "outputs": [
    {
     "data": {
      "text/plain": [
       "(1, 55, 210, 146)"
      ]
     },
     "execution_count": 78,
     "metadata": {},
     "output_type": "execute_result"
    }
   ],
   "source": [
    "imim.shape"
   ]
  },
  {
   "cell_type": "code",
   "execution_count": 34,
   "metadata": {
    "scrolled": true
   },
   "outputs": [
    {
     "data": {
      "text/plain": [
       "<matplotlib.image.AxesImage at 0x7f5d6034b748>"
      ]
     },
     "execution_count": 34,
     "metadata": {},
     "output_type": "execute_result"
    },
    {
     "data": {
      "image/png": "[encoded data removed]",
      "text/plain": [
       "<Figure size 432x288 with 1 Axes>"
      ]
     },
     "metadata": {},
     "output_type": "display_data"
    }
   ],
   "source": [
    "plt.imshow(imim[0,10,:,:])"
   ]
  },
  {
   "cell_type": "code",
   "execution_count": 85,
   "metadata": {
    "scrolled": true
   },
   "outputs": [
    {
     "data": {
      "text/plain": [
       "<matplotlib.image.AxesImage at 0x7f5d483cd4e0>"
      ]
     },
     "execution_count": 85,
     "metadata": {},
     "output_type": "execute_result"
    },
    {
     "data": {
      "image/png": "[encoded data removed]",
      "text/plain": [
       "<Figure size 432x288 with 1 Axes>"
      ]
     },
     "metadata": {},
     "output_type": "display_data"
    }
   ],
   "source": [
    "plt.imshow(rot[32,14])"
   ]
  },
  {
   "cell_type": "code",
   "execution_count": 52,
   "metadata": {
    "scrolled": true
   },
   "outputs": [
    {
     "ename": "NameError",
     "evalue": "name 'mri' is not defined",
     "output_type": "error",
     "traceback": [
      "\u001b[0;31m---------------------------------------------------------------------------\u001b[0m",
      "\u001b[0;31mNameError\u001b[0m                                 Traceback (most recent call last)",
      "\u001b[0;32m<ipython-input-52-bf07424fd047>\u001b[0m in \u001b[0;36m<module>\u001b[0;34m()\u001b[0m\n\u001b[0;32m----> 1\u001b[0;31m \u001b[0mplt\u001b[0m\u001b[0;34m.\u001b[0m\u001b[0mimshow\u001b[0m\u001b[0;34m(\u001b[0m\u001b[0mresize\u001b[0m\u001b[0;34m(\u001b[0m\u001b[0mmri\u001b[0m\u001b[0;34m,\u001b[0m \u001b[0;34m(\u001b[0m\u001b[0;36m128\u001b[0m\u001b[0;34m,\u001b[0m \u001b[0;36m120\u001b[0m\u001b[0;34m)\u001b[0m\u001b[0;34m,\u001b[0m \u001b[0manti_aliasing\u001b[0m\u001b[0;34m=\u001b[0m\u001b[0;32mTrue\u001b[0m\u001b[0;34m)\u001b[0m\u001b[0;34m)\u001b[0m\u001b[0;34m\u001b[0m\u001b[0m\n\u001b[0m",
      "\u001b[0;31mNameError\u001b[0m: name 'mri' is not defined"
     ]
    }
   ],
   "source": [
    "plt.imshow(resize(mri, (128, 120), anti_aliasing=True))"
   ]
  },
  {
   "cell_type": "code",
   "execution_count": 71,
   "metadata": {
    "scrolled": false
   },
   "outputs": [
    {
     "name": "stderr",
     "output_type": "stream",
     "text": [
      "/home/brainvistec4/miniconda3/envs/fastai/lib/python3.6/site-packages/skimage/transform/_warps.py:105: UserWarning: The default mode, 'constant', will be changed to 'reflect' in skimage 0.15.\n",
      "  warn(\"The default mode, 'constant', will be changed to 'reflect' in \"\n"
     ]
    },
    {
     "data": {
      "text/plain": [
       "<matplotlib.image.AxesImage at 0x7fc3c9805fd0>"
      ]
     },
     "execution_count": 71,
     "metadata": {},
     "output_type": "execute_result"
    },
    {
     "data": {
      "image/png": "[encoded data removed]",
      "text/plain": [
       "<Figure size 432x288 with 1 Axes>"
      ]
     },
     "metadata": {},
     "output_type": "display_data"
    }
   ],
   "source": [
    "plt.imshow(resize(img.get_fdata()[80,40:230,60:230], (128, 120), anti_aliasing=True))"
   ]
  },
  {
   "cell_type": "markdown",
   "metadata": {},
   "source": [
    "#### 128x120"
   ]
  },
  {
   "cell_type": "code",
   "execution_count": 73,
   "metadata": {},
   "outputs": [],
   "source": [
    "# loop through all the DICOM files\n",
    "image_array_train =[]\n",
    "\n",
    "for filenameDCM in lstFilesDCM_train:\n",
    "    ds = nib.load(filenameDCM)\n",
    "    ds_3d = resize(ds.get_fdata()[25,40:230,60:230], (128, 120), mode='constant', anti_aliasing=True)\n",
    "    for i in range(28,146,3):\n",
    "        ds_3d = np.dstack((ds_3d,resize(ds.get_fdata()[i,40:230,60:230], (128, 120),mode='constant', anti_aliasing=True)))\n",
    "\n",
    "    image_array_train.append(ds_3d)\n",
    "'''\n",
    "for filenameDCM in lstFilesDCM_train:\n",
    "    ds = nib.load(filenameDCM)\n",
    "    ds_3d = resize(ds.get_fdata()[26,40:230,60:230], (128, 120), mode='constant', anti_aliasing=True)\n",
    "    for i in range(29,147,3):\n",
    "        ds_3d = np.dstack((ds_3d,resize(ds.get_fdata()[i,40:230,60:230], (128, 120),mode='constant', anti_aliasing=True)))\n",
    "\n",
    "    image_array_train.append(ds_3d)\n",
    "\n",
    "for filenameDCM in lstFilesDCM_train:\n",
    "    ds = nib.load(filenameDCM)\n",
    "    ds_3d = resize(ds.get_fdata()[27,40:230,60:230], (128, 120), mode='constant', anti_aliasing=True)\n",
    "    for i in range(30,148,3):\n",
    "        ds_3d = np.dstack((ds_3d,resize(ds.get_fdata()[i,40:230,60:230], (128, 120),mode='constant', anti_aliasing=True)))\n",
    "\n",
    "    image_array_train.append(ds_3d)\n",
    "    \n",
    "for filenameDCM in lstFilesDCM_train:\n",
    "    ds = nib.load(filenameDCM)\n",
    "    ds_3d = resize(ds.get_fdata()[145,40:230,60:230], (128, 120), mode='constant', anti_aliasing=True)\n",
    "    for i in range(142,24,-3):\n",
    "        ds_3d = np.dstack((ds_3d,resize(ds.get_fdata()[i,40:230,60:230], (128, 120),mode='constant', anti_aliasing=True)))\n",
    "\n",
    "    image_array_train.append(ds_3d)\n",
    "\n",
    "for filenameDCM in lstFilesDCM_train:\n",
    "    ds = nib.load(filenameDCM)\n",
    "    ds_3d = resize(ds.get_fdata()[146,40:230,60:230], (128, 120), mode='constant', anti_aliasing=True)\n",
    "    for i in range(143,25,-3):\n",
    "        ds_3d = np.dstack((ds_3d,resize(ds.get_fdata()[i,40:230,60:230], (128, 120),mode='constant', anti_aliasing=True)))\n",
    "\n",
    "    image_array_train.append(ds_3d)\n",
    "\n",
    "for filenameDCM in lstFilesDCM_train:\n",
    "    ds = nib.load(filenameDCM)\n",
    "    ds_3d = resize(ds.get_fdata()[147,40:230,60:230], (128, 120), mode='constant', anti_aliasing=True)\n",
    "    for i in range(144,26,-3):\n",
    "        ds_3d = np.dstack((ds_3d,resize(ds.get_fdata()[i,40:230,60:230], (128, 120),mode='constant', anti_aliasing=True)))\n",
    "\n",
    "    image_array_train.append(ds_3d)'''\n",
    "    \n",
    "image_array_train = np.asarray(image_array_train,dtype='int64')\n",
    "#image_array_train = image_array_train.transpose(image_array_train, (0,2,3,1))\n",
    "#image_array_train = image_array_train/1278.008826530314\n",
    "\n",
    "#image_array_train.shape"
   ]
  },
  {
   "cell_type": "code",
   "execution_count": null,
   "metadata": {},
   "outputs": [],
   "source": [
    "img = nib.load(filenameDCM)\n",
    "    ds = img.get_fdata()[20]\n",
    "    for i in range(21,155):\n",
    "        ds = np.dstack((ds,img.get_fdata()[i]))\n",
    "    ds = ds.transpose(1,0,2)\n",
    "    \n",
    "    #Select cut\n",
    "    ds_3d_a = ds[100,40:220,:]\n",
    "    for i in range(103,231,3):\n",
    "        ds_3d_a = np.dstack((ds_3d_a,ds[i,40:220,:]))"
   ]
  },
  {
   "cell_type": "markdown",
   "metadata": {},
   "source": [
    "## Load Training Set"
   ]
  },
  {
   "cell_type": "code",
   "execution_count": 50,
   "metadata": {
    "scrolled": true
   },
   "outputs": [],
   "source": [
    "image_array_train = []\n",
    "image_array_train_a = []\n",
    "image_array_train_ai = []\n",
    "image_array_train_b = []\n",
    "image_array_train_bi = []\n",
    "image_array_train_c = []\n",
    "image_array_train_ci = []\n",
    "\n",
    "for filenameDCM in lstFilesDCM_train:\n",
    "    img = nib.load(filenameDCM)\n",
    "    ds = img.get_fdata()[20]\n",
    "    for i in range(21,155):\n",
    "        ds = np.dstack((ds,img.get_fdata()[i]))\n",
    "    ds = ds.transpose(1,0,2)\n",
    "    \n",
    "    #Select cut\n",
    "    ds_3d_a = ds[80,40:220,:]\n",
    "    for i in range(83,241,3):\n",
    "        ds_3d_a = np.dstack((ds_3d_a,ds[i,40:220,:]))        \n",
    "    ds_3d_a = ds_3d_a.transpose(2,0,1)\n",
    "    ds_3d_a = ds_3d_a / 2350\n",
    "    image_array_train_a.append(ds_3d_a)\n",
    "    gc.collect()\n",
    "    \n",
    "    \n",
    "    ds_3d_ai = ds[80,40:220,::-1]\n",
    "    for i in range(83,241,3):\n",
    "        ds_3d_ai = np.dstack((ds_3d_ai,ds[i,40:220,::-1]))\n",
    "    ds_3d_ai = ds_3d_ai.transpose(2,0,1)\n",
    "    ds_3d_ai = ds_3d_ai / 2350\n",
    "    image_array_train_ai.append(ds_3d_ai)\n",
    "    gc.collect()\n",
    "    \n",
    "    ds_3d_b = ds[81,40:220,:]\n",
    "    for i in range(84,242,3):\n",
    "        ds_3d_b = np.dstack((ds_3d_b,ds[i,40:220,:]))\n",
    "    ds_3d_b = ds_3d_b.transpose(2,0,1)\n",
    "    ds_3d_b = ds_3d_b / 2350\n",
    "    image_array_train_b.append(ds_3d_b)\n",
    "    gc.collect()\n",
    "    \n",
    "    ds_3d_bi = ds[81,40:220,::-1]\n",
    "    for i in range(84,242,3):\n",
    "        ds_3d_bi = np.dstack((ds_3d_bi,ds[i,40:220,::-1]))\n",
    "    ds_3d_bi = ds_3d_bi.transpose(2,0,1)\n",
    "    ds_3d_bi = ds_3d_bi / 2350\n",
    "    image_array_train_bi.append(ds_3d_bi)\n",
    "    gc.collect()\n",
    "    \n",
    "    ds_3d_c = ds[82,40:220,:]\n",
    "    for i in range(85,243,3):\n",
    "        ds_3d_c = np.dstack((ds_3d_c,ds[i,40:220,:]))\n",
    "    ds_3d_c = ds_3d_c.transpose(2,0,1)  \n",
    "    ds_3d_c = ds_3d_c / 2350\n",
    "    image_array_train_c.append(ds_3d_c)\n",
    "    gc.collect()\n",
    "    \n",
    "    ds_3d_ci = ds[82,40:220,::-1]\n",
    "    for i in range(85,243,3):\n",
    "        ds_3d_ci = np.dstack((ds_3d_ci,ds[i,40:220,::-1]))\n",
    "    ds_3d_ci = ds_3d_ci.transpose(2,0,1)\n",
    "    ds_3d_ci = ds_3d_ci / 2350\n",
    "    image_array_train_ci.append(ds_3d_ci)\n",
    "    gc.collect()\n",
    "\n"
   ]
  },
  {
   "cell_type": "code",
   "execution_count": 51,
   "metadata": {
    "scrolled": true
   },
   "outputs": [
    {
     "data": {
      "text/plain": [
       "(1176, 54, 180, 135)"
      ]
     },
     "execution_count": 51,
     "metadata": {},
     "output_type": "execute_result"
    }
   ],
   "source": [
    "image_array_train1 = np.vstack((image_array_train_a,image_array_train_ai))\n",
    "image_array_train2 = np.vstack((image_array_train_b,image_array_train_bi))\n",
    "image_array_train3 = np.vstack((image_array_train_c,image_array_train_ci))\n",
    "image_array_train = np.vstack((image_array_train1,image_array_train2,image_array_train3))\n",
    "\n",
    "image_array_train.shape"
   ]
  },
  {
   "cell_type": "code",
   "execution_count": 52,
   "metadata": {},
   "outputs": [],
   "source": [
    "numpy.save('mri_train_array_upds3', image_array_train)"
   ]
  },
  {
   "cell_type": "code",
   "execution_count": 9,
   "metadata": {},
   "outputs": [],
   "source": [
    "image_array_train = np.load('mri_train_array_upds3.npy')"
   ]
  },
  {
   "cell_type": "code",
   "execution_count": 55,
   "metadata": {},
   "outputs": [
    {
     "data": {
      "text/plain": [
       "<matplotlib.image.AxesImage at 0x7f3f801ceb00>"
      ]
     },
     "execution_count": 55,
     "metadata": {},
     "output_type": "execute_result"
    },
    {
     "data": {
      "image/png": "[encoded data removed]",
      "text/plain": [
       "<Figure size 432x288 with 1 Axes>"
      ]
     },
     "metadata": {},
     "output_type": "display_data"
    }
   ],
   "source": [
    "plt.imshow(image_array_train[400,35,:,:])"
   ]
  },
  {
   "cell_type": "code",
   "execution_count": 56,
   "metadata": {},
   "outputs": [],
   "source": [
    "#Validation set"
   ]
  },
  {
   "cell_type": "code",
   "execution_count": 57,
   "metadata": {
    "scrolled": true
   },
   "outputs": [
    {
     "data": {
      "text/plain": [
       "(84, 54, 180, 135)"
      ]
     },
     "execution_count": 57,
     "metadata": {},
     "output_type": "execute_result"
    }
   ],
   "source": [
    "image_array_val =[]\n",
    "\n",
    "    \n",
    "for filenameDCM in lstFilesDCM_val:\n",
    "    img = nib.load(filenameDCM)\n",
    "    ds = img.get_fdata()[20]\n",
    "    for i in range(21,155):\n",
    "        ds = np.dstack((ds,img.get_fdata()[i]))\n",
    "    ds = ds.transpose(1,0,2)\n",
    "    \n",
    "    #Select cut\n",
    "    ds_3d = ds[80,40:220,:]\n",
    "    for i in range(83,241,3):\n",
    "        ds_3d = np.dstack((ds_3d,ds[i,40:220,:]))        \n",
    "    ds_3d = ds_3d.transpose(2,0,1)\n",
    "    ds_3d = ds_3d / 2350\n",
    "    image_array_val.append(ds_3d)\n",
    "    gc.collect()\n",
    "    \n",
    "\n",
    "image_array_val = np.asarray(image_array_val, dtype='float64')\n",
    "image_array_val.shape"
   ]
  },
  {
   "cell_type": "code",
   "execution_count": 58,
   "metadata": {},
   "outputs": [],
   "source": [
    "numpy.save('mri_val_array_upds3', image_array_val)"
   ]
  },
  {
   "cell_type": "code",
   "execution_count": 10,
   "metadata": {},
   "outputs": [],
   "source": [
    "image_array_val = np.load('mri_val_array_upds3.npy')"
   ]
  },
  {
   "cell_type": "code",
   "execution_count": 59,
   "metadata": {},
   "outputs": [],
   "source": [
    "image_array_train = np.asarray(image_array_train,dtype='float64')\n",
    "image_array_val = np.asarray(image_array_val,dtype='float64')"
   ]
  },
  {
   "cell_type": "code",
   "execution_count": 60,
   "metadata": {},
   "outputs": [],
   "source": [
    "#Test set"
   ]
  },
  {
   "cell_type": "code",
   "execution_count": 61,
   "metadata": {},
   "outputs": [
    {
     "data": {
      "text/plain": [
       "(71, 54, 180, 135)"
      ]
     },
     "execution_count": 61,
     "metadata": {},
     "output_type": "execute_result"
    }
   ],
   "source": [
    "image_array_test =[]\n",
    "\n",
    "    \n",
    "for filenameDCM in lstFilesDCM_test:\n",
    "    img = nib.load(filenameDCM)\n",
    "    ds = img.get_fdata()[20]\n",
    "    for i in range(21,155):\n",
    "        ds = np.dstack((ds,img.get_fdata()[i]))\n",
    "    ds = ds.transpose(1,0,2)\n",
    "    \n",
    "    #Select cut\n",
    "    ds_3d = ds[80,40:220,:]\n",
    "    for i in range(83,241,3):\n",
    "        ds_3d = np.dstack((ds_3d,ds[i,40:220,:]))        \n",
    "    ds_3d = ds_3d.transpose(2,0,1)\n",
    "    ds_3d = ds_3d / 2350\n",
    "    image_array_test.append(ds_3d)\n",
    "    gc.collect()\n",
    "    \n",
    "\n",
    "image_array_test = np.asarray(image_array_test, dtype='float64')\n",
    "image_array_test.shape"
   ]
  },
  {
   "cell_type": "code",
   "execution_count": 62,
   "metadata": {},
   "outputs": [],
   "source": [
    "numpy.save('mri_test_array_upds3', image_array_test)"
   ]
  },
  {
   "cell_type": "markdown",
   "metadata": {},
   "source": [
    "### Data Augmented Image_array_train"
   ]
  },
  {
   "cell_type": "code",
   "execution_count": 24,
   "metadata": {},
   "outputs": [],
   "source": [
    "from scipy.ndimage import interpolation"
   ]
  },
  {
   "cell_type": "code",
   "execution_count": 25,
   "metadata": {},
   "outputs": [],
   "source": [
    "rotR = interpolation.rotate(image_array_train,-5,axes=(3,2),mode='constant',reshape=False)\n",
    "np.save('image_array_train_upds3_aug', rotR)"
   ]
  },
  {
   "cell_type": "code",
   "execution_count": 7,
   "metadata": {},
   "outputs": [
    {
     "ename": "MemoryError",
     "evalue": "",
     "output_type": "error",
     "traceback": [
      "\u001b[0;31m---------------------------------------------------------------------------\u001b[0m",
      "\u001b[0;31mMemoryError\u001b[0m                               Traceback (most recent call last)",
      "\u001b[0;32m<ipython-input-7-c14e8269b287>\u001b[0m in \u001b[0;36m<module>\u001b[0;34m()\u001b[0m\n\u001b[0;32m----> 1\u001b[0;31m \u001b[0mrotL\u001b[0m \u001b[0;34m=\u001b[0m \u001b[0minterpolation\u001b[0m\u001b[0;34m.\u001b[0m\u001b[0mrotate\u001b[0m\u001b[0;34m(\u001b[0m\u001b[0mimage_array_train\u001b[0m\u001b[0;34m,\u001b[0m\u001b[0;36m5\u001b[0m\u001b[0;34m,\u001b[0m\u001b[0maxes\u001b[0m\u001b[0;34m=\u001b[0m\u001b[0;34m(\u001b[0m\u001b[0;36m3\u001b[0m\u001b[0;34m,\u001b[0m\u001b[0;36m2\u001b[0m\u001b[0;34m)\u001b[0m\u001b[0;34m,\u001b[0m\u001b[0mmode\u001b[0m\u001b[0;34m=\u001b[0m\u001b[0;34m'constant'\u001b[0m\u001b[0;34m,\u001b[0m\u001b[0mreshape\u001b[0m\u001b[0;34m=\u001b[0m\u001b[0;32mFalse\u001b[0m\u001b[0;34m)\u001b[0m\u001b[0;34m\u001b[0m\u001b[0m\n\u001b[0m\u001b[1;32m      2\u001b[0m \u001b[0mnp\u001b[0m\u001b[0;34m.\u001b[0m\u001b[0msave\u001b[0m\u001b[0;34m(\u001b[0m\u001b[0;34m'image_array_train_upds3_aug2'\u001b[0m\u001b[0;34m,\u001b[0m \u001b[0mrotL\u001b[0m\u001b[0;34m)\u001b[0m\u001b[0;34m\u001b[0m\u001b[0m\n",
      "\u001b[0;32m~/miniconda3/envs/fastai/lib/python3.6/site-packages/scipy/ndimage/interpolation.py\u001b[0m in \u001b[0;36mrotate\u001b[0;34m(input, angle, axes, reshape, output, order, mode, cval, prefilter)\u001b[0m\n\u001b[1;32m    691\u001b[0m     \u001b[0moutput_shape\u001b[0m \u001b[0;34m=\u001b[0m \u001b[0mtuple\u001b[0m\u001b[0;34m(\u001b[0m\u001b[0moutput_shape\u001b[0m\u001b[0;34m)\u001b[0m\u001b[0;34m\u001b[0m\u001b[0m\n\u001b[1;32m    692\u001b[0m     output = _ni_support._get_output(output, input,\n\u001b[0;32m--> 693\u001b[0;31m                                                    shape=output_shape)\n\u001b[0m\u001b[1;32m    694\u001b[0m     \u001b[0;32mif\u001b[0m \u001b[0minput\u001b[0m\u001b[0;34m.\u001b[0m\u001b[0mndim\u001b[0m \u001b[0;34m<=\u001b[0m \u001b[0;36m2\u001b[0m\u001b[0;34m:\u001b[0m\u001b[0;34m\u001b[0m\u001b[0m\n\u001b[1;32m    695\u001b[0m         affine_transform(input, matrix, offset, output_shape, output,\n",
      "\u001b[0;32m~/miniconda3/envs/fastai/lib/python3.6/site-packages/scipy/ndimage/_ni_support.py\u001b[0m in \u001b[0;36m_get_output\u001b[0;34m(output, input, shape)\u001b[0m\n\u001b[1;32m     73\u001b[0m         \u001b[0mshape\u001b[0m \u001b[0;34m=\u001b[0m \u001b[0minput\u001b[0m\u001b[0;34m.\u001b[0m\u001b[0mshape\u001b[0m\u001b[0;34m\u001b[0m\u001b[0m\n\u001b[1;32m     74\u001b[0m     \u001b[0;32mif\u001b[0m \u001b[0moutput\u001b[0m \u001b[0;32mis\u001b[0m \u001b[0;32mNone\u001b[0m\u001b[0;34m:\u001b[0m\u001b[0;34m\u001b[0m\u001b[0m\n\u001b[0;32m---> 75\u001b[0;31m         \u001b[0moutput\u001b[0m \u001b[0;34m=\u001b[0m \u001b[0mnumpy\u001b[0m\u001b[0;34m.\u001b[0m\u001b[0mzeros\u001b[0m\u001b[0;34m(\u001b[0m\u001b[0mshape\u001b[0m\u001b[0;34m,\u001b[0m \u001b[0mdtype\u001b[0m\u001b[0;34m=\u001b[0m\u001b[0minput\u001b[0m\u001b[0;34m.\u001b[0m\u001b[0mdtype\u001b[0m\u001b[0;34m.\u001b[0m\u001b[0mname\u001b[0m\u001b[0;34m)\u001b[0m\u001b[0;34m\u001b[0m\u001b[0m\n\u001b[0m\u001b[1;32m     76\u001b[0m     \u001b[0;32melif\u001b[0m \u001b[0mtype\u001b[0m\u001b[0;34m(\u001b[0m\u001b[0moutput\u001b[0m\u001b[0;34m)\u001b[0m \u001b[0;32min\u001b[0m \u001b[0;34m[\u001b[0m\u001b[0mtype\u001b[0m\u001b[0;34m(\u001b[0m\u001b[0mtype\u001b[0m\u001b[0;34m)\u001b[0m\u001b[0;34m,\u001b[0m \u001b[0mtype\u001b[0m\u001b[0;34m(\u001b[0m\u001b[0mnumpy\u001b[0m\u001b[0;34m.\u001b[0m\u001b[0mzeros\u001b[0m\u001b[0;34m(\u001b[0m\u001b[0;34m(\u001b[0m\u001b[0;36m4\u001b[0m\u001b[0;34m,\u001b[0m\u001b[0;34m)\u001b[0m\u001b[0;34m)\u001b[0m\u001b[0;34m.\u001b[0m\u001b[0mdtype\u001b[0m\u001b[0;34m)\u001b[0m\u001b[0;34m]\u001b[0m\u001b[0;34m:\u001b[0m\u001b[0;34m\u001b[0m\u001b[0m\n\u001b[1;32m     77\u001b[0m         \u001b[0moutput\u001b[0m \u001b[0;34m=\u001b[0m \u001b[0mnumpy\u001b[0m\u001b[0;34m.\u001b[0m\u001b[0mzeros\u001b[0m\u001b[0;34m(\u001b[0m\u001b[0mshape\u001b[0m\u001b[0;34m,\u001b[0m \u001b[0mdtype\u001b[0m\u001b[0;34m=\u001b[0m\u001b[0moutput\u001b[0m\u001b[0;34m)\u001b[0m\u001b[0;34m\u001b[0m\u001b[0m\n",
      "\u001b[0;31mMemoryError\u001b[0m: "
     ]
    }
   ],
   "source": [
    "rotL = interpolation.rotate(image_array_train,5,axes=(3,2),mode='constant',reshape=False)\n",
    "np.save('image_array_train_upds3_aug2', rotL)"
   ]
  },
  {
   "cell_type": "markdown",
   "metadata": {},
   "source": [
    "### Load Image Array"
   ]
  },
  {
   "cell_type": "code",
   "execution_count": 5,
   "metadata": {},
   "outputs": [],
   "source": [
    "#image_array_train = np.load('mri_train_array_upds3.npy')\n",
    "image_array_train = np.load('image_array_train_upds3_aug.npy')\n",
    "#image_array_train = np.load('image_array_train_upds3_aug2.npy')\n",
    "\n",
    "image_array_val = np.load('mri_val_array_upds3.npy')\n",
    "#image_array_test = np.load('mri_test_array_upds3.npy')"
   ]
  },
  {
   "cell_type": "markdown",
   "metadata": {},
   "source": [
    "### Y , Param"
   ]
  },
  {
   "cell_type": "code",
   "execution_count": 63,
   "metadata": {
    "scrolled": true
   },
   "outputs": [],
   "source": [
    "y_train = y_train_tmp.values\n",
    "y_train = y_train.astype('float64')\n",
    "y_train = np.hstack((y_train,y_train,y_train))\n",
    "y_train = np.hstack((y_train,y_train))\n",
    "y_val = y_val_tmp.values\n",
    "y_val = y_val.astype('float64')\n",
    "#y_val= np.hstack((y_val,y_val,y_val))\n",
    "y_test = y_test_tmp.values\n",
    "y_test = y_test.astype('float64')\n",
    "#y_val= np.hstack((y_val,y_val,y_val))"
   ]
  },
  {
   "cell_type": "code",
   "execution_count": 88,
   "metadata": {},
   "outputs": [
    {
     "data": {
      "text/plain": [
       "((1176,), (84,), (71,))"
      ]
     },
     "execution_count": 88,
     "metadata": {},
     "output_type": "execute_result"
    }
   ],
   "source": [
    "y_train.shape,y_val.shape,y_test.shape"
   ]
  },
  {
   "cell_type": "code",
   "execution_count": 89,
   "metadata": {},
   "outputs": [],
   "source": [
    "numpy.save('mri_ytrain_upds3_array', y_train)\n",
    "numpy.save('mri_yval_upds3_array', y_val)\n",
    "numpy.save('mri_ytest_upds3_array', y_test)"
   ]
  },
  {
   "cell_type": "code",
   "execution_count": 66,
   "metadata": {},
   "outputs": [],
   "source": [
    "param_train = param_train_tmp.values\n",
    "params = []\n",
    "for i in param_train:\n",
    "    stack = []\n",
    "    stack.append(i)\n",
    "    stack = stack*10\n",
    "    params.append(stack)\n",
    "param_train = np.asarray(params)\n",
    "del(params)"
   ]
  },
  {
   "cell_type": "code",
   "execution_count": 67,
   "metadata": {},
   "outputs": [],
   "source": [
    "param_val = param_val_tmp.values\n",
    "params = []\n",
    "for i in param_val:\n",
    "    stack = []\n",
    "    stack.append(i)\n",
    "    stack = stack*10\n",
    "    params.append(stack)\n",
    "param_val = np.asarray(params)\n",
    "del(params)\n",
    "\n",
    "param_test = param_test_tmp.values\n",
    "params = []\n",
    "for i in param_test:\n",
    "    stack = []\n",
    "    stack.append(i)\n",
    "    stack = stack*10\n",
    "    params.append(stack)\n",
    "param_test = np.asarray(params)\n",
    "del(params)"
   ]
  },
  {
   "cell_type": "code",
   "execution_count": 68,
   "metadata": {},
   "outputs": [],
   "source": [
    "param_train = param_train.astype('float64')\n",
    "param_val = param_val.astype('float64')\n",
    "param_test = param_test.astype('float64')"
   ]
  },
  {
   "cell_type": "code",
   "execution_count": 69,
   "metadata": {},
   "outputs": [],
   "source": [
    "#x6 Param match training Image\n",
    "param_train = np.vstack((param_train,param_train,param_train))\n",
    "param_train = np.vstack((param_train,param_train))"
   ]
  },
  {
   "cell_type": "code",
   "execution_count": 70,
   "metadata": {},
   "outputs": [
    {
     "data": {
      "text/plain": [
       "(1176, 10, 3)"
      ]
     },
     "execution_count": 70,
     "metadata": {},
     "output_type": "execute_result"
    }
   ],
   "source": [
    "param_train.shape"
   ]
  },
  {
   "cell_type": "code",
   "execution_count": 71,
   "metadata": {},
   "outputs": [],
   "source": [
    "numpy.save('mri_paramtrain_upds3_array', param_train)\n",
    "numpy.save('mri_paramval_upds3_array', param_val)\n",
    "numpy.save('mri_paramtest_upds3_array', param_test)"
   ]
  },
  {
   "cell_type": "markdown",
   "metadata": {},
   "source": [
    "### Load y,param"
   ]
  },
  {
   "cell_type": "code",
   "execution_count": 6,
   "metadata": {},
   "outputs": [],
   "source": [
    "y_val = np.load('mri_yval_upds3_array.npy')\n",
    "y_train = np.load('mri_ytrain_upds3_array.npy')\n",
    "#y_test = np.load('mri_ytest_upds3_array.npy')\n",
    "param_val = np.load('mri_paramval_upds3_array.npy')\n",
    "param_train = np.load('mri_paramtrain_upds3_array.npy')\n",
    "#param_test = np.load('mri_paramtest_upds3_array.npy')"
   ]
  },
  {
   "cell_type": "code",
   "execution_count": 7,
   "metadata": {},
   "outputs": [],
   "source": [
    "y_train = y_train.astype('float64')\n",
    "y_val = y_val.astype('float64')"
   ]
  },
  {
   "cell_type": "code",
   "execution_count": null,
   "metadata": {},
   "outputs": [],
   "source": []
  },
  {
   "cell_type": "markdown",
   "metadata": {},
   "source": [
    "### Fastai library"
   ]
  },
  {
   "cell_type": "markdown",
   "metadata": {},
   "source": [
    "#### Pretrained Resnet"
   ]
  },
  {
   "cell_type": "code",
   "execution_count": 8,
   "metadata": {},
   "outputs": [],
   "source": [
    "class  ConvWithMeta(nn.Module):\n",
    "    def __init__(self):\n",
    "        super(ConvWithMeta, self).__init__()\n",
    "        head_layer = [nn.Conv2d(1, 3, kernel_size=1, bias=False, stride=1, padding=0)]\n",
    "        self.head_layer = nn.Sequential(*head_layer)\n",
    "        resnet_layers = list(resnet34(True).children())[:8]\n",
    "        self.features = nn.Sequential(*resnet_layers,nn.Dropout2d(0.5))\n",
    "        for param in self.features.parameters():\n",
    "            param.requires_grad = False\n",
    "        self.bns = nn.ModuleList([nn.BatchNorm1d(27660), nn.BatchNorm1d(1024)])\n",
    "        self.lins = nn.ModuleList([nn.Linear(27660,1024), nn.Linear(1024, 1)])\n",
    "        for o in self.lins: kaiming_normal(o.weight.data)\n",
    "        self.fc_model = nn.Sequential(*self.fc_layers()).cuda()\n",
    "        \n",
    "    def fc_layers(self):\n",
    "        return [self.bns[0], nn.Dropout(0.6), self.lins[0], nn.ReLU(), \n",
    "                self.bns[1], nn.Dropout(0.6), self.lins[1]] \n",
    "        \n",
    "    def forward(self, x1, x2):\n",
    "        for i in range(54):\n",
    "            x_clone = x1[:,i,:,:].clone()\n",
    "            x_clone = x_clone.unsqueeze(1)\n",
    "            x_clone = self.head_layer(x_clone)           \n",
    "            x_clone = self.features(x_clone)\n",
    "            x_clone = nn.AdaptiveMaxPool2d((1,1))(x_clone)\n",
    "            if i == 0:\n",
    "                out = x_clone\n",
    "            else:\n",
    "                out = torch.cat((out,x_clone),1)\n",
    "        out=out.squeeze()\n",
    "        out = torch.cat((out,x2[:,0],x2[:,1],x2[:,2],x2[:,3]),1)\n",
    "        out = self.fc_model(out)\n",
    "        return out.squeeze()\n",
    "        '''\n",
    "        x1 = x1.unsqueeze(1)\n",
    "        x1 = self.head_layer(x1)\n",
    "        x1 = self.features(x1)\n",
    "        x1 = nn.AdaptiveMaxPool2d((1,1))(x1)\n",
    "        x1 = x1.view(x1.size(0), -1)\n",
    "        x = torch.cat([x1, x2], 1)\n",
    "        x = self.fc_model(x)\n",
    "        x = x.squeeze()\n",
    "        return x'''"
   ]
  },
  {
   "cell_type": "code",
   "execution_count": 9,
   "metadata": {},
   "outputs": [],
   "source": [
    "class MetaModel(BasicModel):\n",
    "    def get_layer_groups(self):\n",
    "        m=self.model\n",
    "        return m"
   ]
  },
  {
   "cell_type": "code",
   "execution_count": 10,
   "metadata": {},
   "outputs": [],
   "source": [
    "class  MetaLearner(Learner):\n",
    "    def __init__(self, data, models, **kwargs):\n",
    "        super().__init__(data, models, **kwargs)\n",
    "        self.crit = F.mse_loss"
   ]
  },
  {
   "cell_type": "code",
   "execution_count": 11,
   "metadata": {},
   "outputs": [],
   "source": [
    "class MetaDataset(BaseDataset):\n",
    "    \"\"\" Dataset where x=(x1,x2) where x1 is an image.\n",
    "    \"\"\"\n",
    "    def __init__(self, fnames, x2, y, transform, path):\n",
    "        self.path,self.fnames,self.y,self.x2 = path,fnames,y,x2\n",
    "        assert(len(fnames)==len(y))\n",
    "        super().__init__(transform)\n",
    "\n",
    "    def __getitem__(self, idx):\n",
    "        \"\"\" This function should return a list.\n",
    "        \"\"\"\n",
    "        x1, x2 = self.get_x(idx)\n",
    "        y = self.get_y(idx)\n",
    "        return self.get(self.transform, (x1, x2), y)\n",
    "    \n",
    "    def __len__(self): return len(self.y)\n",
    "    \n",
    "    def get_x(self, i):\n",
    "        im = x1\n",
    "        x2 = np.expand_dims(self.x2[i], axis=1)\n",
    "        return np.array(im, dtype=np.float32)/255., x2\n",
    "    \n",
    "    def get_n(self): return len(self.y)\n",
    "    def get_y(self, i): return self.y[i]\n",
    "    \n",
    "    def get(self, tfm, x, y):\n",
    "        x1, x2 = x\n",
    "        if tfm is None:\n",
    "            return [x1, x2, y] \n",
    "        x1,y = tfm(x1,y)\n",
    "        return [x1, x2, y]\n",
    "    \n",
    "    def get_c(self): return 1\n",
    "    \n",
    "    def get_sz(self): return self.transform.sz"
   ]
  },
  {
   "cell_type": "code",
   "execution_count": 12,
   "metadata": {},
   "outputs": [],
   "source": [
    "class MetaArraysDataset(BaseDataset):\n",
    "    def __init__(self, x, param, y, transform, path):\n",
    "        self.path = path\n",
    "        self.x,self.y, self.param = x, y , param\n",
    "        assert(len(x)==len(y))\n",
    "        super().__init__(transform)\n",
    "        \n",
    "    def __getitem__(self, idx):\n",
    "        \"\"\" This function should return a list.\n",
    "        \"\"\"\n",
    "        x = self.get_x(idx)\n",
    "        param = self.get_param(idx)\n",
    "        y = self.get_y(idx)\n",
    "        return self.get(self.transform, (x, param), y)\n",
    "   \n",
    "    def get(self, tfm, x, y):\n",
    "        x1, x2 = x\n",
    "        if tfm is None:\n",
    "            return [x1, x2, y] \n",
    "        x1,y = tfm(x1,y)\n",
    "        return [x1, x2, y]\n",
    "    def get_c(self): return int(self.y.max())+1\n",
    "    def get_x(self, i): return self.x[i]\n",
    "    def get_param(self,i): return self.param[i]\n",
    "    def get_y(self, i): return self.y[i]\n",
    "    def get_n(self): return len(self.y)\n",
    "    def get_sz(self): return self.x.shape[1]"
   ]
  },
  {
   "cell_type": "code",
   "execution_count": 13,
   "metadata": {},
   "outputs": [],
   "source": [
    "bs=4; sz=128\n",
    "#f_model = resnet34"
   ]
  },
  {
   "cell_type": "code",
   "execution_count": 14,
   "metadata": {},
   "outputs": [],
   "source": [
    "USE_GPU=True"
   ]
  },
  {
   "cell_type": "code",
   "execution_count": 15,
   "metadata": {},
   "outputs": [],
   "source": [
    "class ModelMetaData(ImageClassifierData):\n",
    "    \n",
    "    @classmethod\n",
    "    def get_ds(self, fn, trn, val, tfms, path, test=None):\n",
    "        res = [\n",
    "            fn(trn[0], trn[1], trn[2], tfms[0], path), # train\n",
    "            fn(val[0], val[1], val[2], tfms[1], path), # val\n",
    "            fn(trn[0], trn[1], trn[2], tfms[1], path), # fix\n",
    "            fn(val[0], val[1], val[2], tfms[0], path)  # aug\n",
    "        ]\n",
    "        if test:\n",
    "            test_lbls = np.zeros((len(test),1))\n",
    "            res += [\n",
    "                fn(test, test_lbls, tfms[1], path), # test\n",
    "                fn(test, test_lbls, tfms[0], path)  # test_aug\n",
    "            ]\n",
    "        else: res += [None,None]\n",
    "        return res\n",
    "    \n",
    "    @classmethod\n",
    "    def from_csv(self, path, folder, csv_fname, bs=bs, tfms=(None,None),val_idxs=None, \n",
    "                 suffix='', test_name=None, skip_header=True, num_workers=4):\n",
    "        fnames,x2,y = csv_source2(folder, csv_fname, skip_header, suffix)\n",
    "        ((val_fnames, trn_fnames), (val_x2, trn_x2), (val_y,trn_y)) = split_by_idx(val_idxs, np.array(fnames), x2, y)\n",
    "\n",
    "        test_fnames = read_dir(path, test_name) if test_name else None\n",
    "        datasets = self.get_ds(MetaDataset, (trn_fnames,trn_x2,trn_y), (val_fnames,val_x2,val_y),tfms=tfms, path=path)\n",
    "        return self(path, datasets, bs, num_workers, classes=1)\n",
    "    \n",
    "    @classmethod\n",
    "    def from_arrays(self, path, trn, val, bs=bs, tfms=(None,None), classes=None, num_workers=4, test=None):\n",
    "        trn_x1 , val_x1 = trn[0],val[0]\n",
    "        trn_x2 , val_x2 = trn[1],val[1]\n",
    "        trn_y , val_y = trn[2],val[2]\n",
    "        #test_x1, test_x2, test_y = test[0],test[1],test[2]\n",
    "        datasets = self.get_ds(MetaArraysDataset, (trn_x1,trn_x2,trn_y), (val_x1,val_x2,val_y) ,tfms=tfms,path=path)\n",
    "        return self(path, datasets, bs, num_workers, classes=classes)\n",
    "    \n",
    "        \n",
    "    def get_learner(self):\n",
    "        model = ConvWithMeta()\n",
    "        #model = Darknet([1,2,4,6,3], num_classes=1, nf=32)\n",
    "        device = torch.device(\"cuda:0\" if torch.cuda.is_available() else \"cpu\")\n",
    "        #m = nn.DataParallel(m, [1,2,3])\n",
    "        return MetaLearner(self, MetaModel(model.to(device)), opt_fn=optim.Adam)"
   ]
  },
  {
   "cell_type": "code",
   "execution_count": 16,
   "metadata": {},
   "outputs": [],
   "source": [
    "data = ModelMetaData.from_arrays('.', trn=(image_array_train,param_train,y_train),val=(image_array_val,param_val,y_val))"
   ]
  },
  {
   "cell_type": "code",
   "execution_count": 17,
   "metadata": {
    "scrolled": true
   },
   "outputs": [],
   "source": [
    "learner = data.get_learner()\n"
   ]
  },
  {
   "cell_type": "code",
   "execution_count": 92,
   "metadata": {
    "scrolled": true
   },
   "outputs": [
    {
     "data": {
      "application/vnd.jupyter.widget-view+json": {
       "model_id": "85f469728216463f95dcde3b8e2a4268",
       "version_major": 2,
       "version_minor": 0
      },
      "text/plain": [
       "HBox(children=(IntProgress(value=0, description='Epoch', max=1), HTML(value='')))"
      ]
     },
     "metadata": {},
     "output_type": "display_data"
    },
    {
     "name": "stdout",
     "output_type": "stream",
     "text": [
      " 58%|█████▊    | 170/294 [06:04<04:26,  2.15s/it, loss=578]   "
     ]
    }
   ],
   "source": [
    "learner.lr_find()"
   ]
  },
  {
   "cell_type": "code",
   "execution_count": 93,
   "metadata": {
    "scrolled": true
   },
   "outputs": [
    {
     "data": {
      "image/png": "[encoded data removed]",
      "text/plain": [
       "<Figure size 432x288 with 1 Axes>"
      ]
     },
     "metadata": {},
     "output_type": "display_data"
    }
   ],
   "source": [
    "learner.sched.plot()"
   ]
  },
  {
   "cell_type": "code",
   "execution_count": 94,
   "metadata": {},
   "outputs": [
    {
     "data": {
      "image/png": "[encoded data removed]",
      "text/plain": [
       "<Figure size 432x288 with 1 Axes>"
      ]
     },
     "metadata": {},
     "output_type": "display_data"
    }
   ],
   "source": [
    "learner.sched.plot(n_skip=5, n_skip_end=1)"
   ]
  },
  {
   "cell_type": "code",
   "execution_count": 138,
   "metadata": {
    "scrolled": true
   },
   "outputs": [
    {
     "data": {
      "application/vnd.jupyter.widget-view+json": {
       "model_id": "2bf86206c4904c6f9de182834aa6c10f",
       "version_major": 2,
       "version_minor": 0
      },
      "text/plain": [
       "HBox(children=(IntProgress(value=0, description='Epoch', max=10), HTML(value='')))"
      ]
     },
     "metadata": {},
     "output_type": "display_data"
    },
    {
     "name": "stdout",
     "output_type": "stream",
     "text": [
      "epoch      trn_loss   val_loss                              \n",
      "    0      82.929327  94.879416 \n",
      "    1      92.892515  99.578503                             \n",
      "    2      91.774598  97.70503                              \n",
      "    3      80.919856  92.82141                              \n",
      "    4      94.256159  97.546918                             \n",
      "    5      84.08457   100.135658                            \n",
      "    6      65.387048  99.581666                             \n",
      "    7      86.158752  96.688575                             \n",
      "    8      77.765835  95.94656                              \n",
      "    9      80.60921   100.408357                            \n"
     ]
    },
    {
     "data": {
      "text/plain": [
       "[100.40835712069557]"
      ]
     },
     "execution_count": 138,
     "metadata": {},
     "output_type": "execute_result"
    }
   ],
   "source": [
    "learner.fit(1e-3,10)"
   ]
  },
  {
   "cell_type": "code",
   "execution_count": null,
   "metadata": {},
   "outputs": [],
   "source": []
  },
  {
   "cell_type": "code",
   "execution_count": 152,
   "metadata": {},
   "outputs": [
    {
     "data": {
      "image/png": "[encoded data removed]",
      "text/plain": [
       "<Figure size 432x288 with 1 Axes>"
      ]
     },
     "metadata": {},
     "output_type": "display_data"
    }
   ],
   "source": [
    "learner.sched.plot_loss()"
   ]
  },
  {
   "cell_type": "code",
   "execution_count": 22,
   "metadata": {},
   "outputs": [
    {
     "data": {
      "text/plain": [
       "array([24.27205, 17.37547, 26.14342, 30.54814, 18.38616, 18.75154, 18.16702, 17.07621, 21.97393, 17.70992,\n",
       "       17.07621, 19.69959, 22.31406, 17.58598, 24.2606 , 26.62634, 24.34341, 25.44009, 17.36679, 18.78106,\n",
       "       25.32933, 17.60987, 31.90879, 18.65102, 19.43548, 25.26855, 17.89458, 20.40953, 17.07621, 20.444  ,\n",
       "       22.37807, 17.93948, 20.12559, 23.04478, 20.08039, 17.33484, 18.32665, 18.87971, 24.50604, 18.65492,\n",
       "       19.0305 , 19.0818 , 17.07621, 17.76868, 21.91222, 17.56596, 17.90395, 18.76402, 18.95061, 17.07621,\n",
       "       21.11875, 17.51054, 17.07621, 22.72745, 20.15051, 18.84763, 17.07621, 18.46148, 23.78423, 18.18793,\n",
       "       18.28633, 19.53322, 24.92037, 25.07792, 26.76435, 30.15889, 19.33849, 18.06937, 19.58874, 17.07621,\n",
       "       18.45416, 21.65071, 17.64367, 20.68704, 27.19055, 21.85969, 20.04199, 18.45569, 18.19093, 22.8912 ,\n",
       "       18.70182, 18.89166, 17.07621, 23.99602], dtype=float32)"
      ]
     },
     "execution_count": 22,
     "metadata": {},
     "output_type": "execute_result"
    }
   ],
   "source": [
    "pred = learner.predict()\n",
    "pred"
   ]
  },
  {
   "cell_type": "code",
   "execution_count": 23,
   "metadata": {},
   "outputs": [
    {
     "name": "stderr",
     "output_type": "stream",
     "text": [
      "/home/brainvistec4/miniconda3/envs/fastai/lib/python3.6/site-packages/matplotlib/axes/_axes.py:6462: UserWarning: The 'normed' kwarg is deprecated, and has been replaced by the 'density' kwarg.\n",
      "  warnings.warn(\"The 'normed' kwarg is deprecated, and has been \"\n",
      "/home/brainvistec4/miniconda3/envs/fastai/lib/python3.6/site-packages/matplotlib/axes/_axes.py:6462: UserWarning: The 'normed' kwarg is deprecated, and has been replaced by the 'density' kwarg.\n",
      "  warnings.warn(\"The 'normed' kwarg is deprecated, and has been \"\n"
     ]
    },
    {
     "data": {
      "text/plain": [
       "<seaborn.axisgrid.JointGrid at 0x7fac7b275da0>"
      ]
     },
     "execution_count": 23,
     "metadata": {},
     "output_type": "execute_result"
    },
    {
     "data": {
      "image/png": "[encoded data removed]",
      "text/plain": [
       "<Figure size 432x432 with 3 Axes>"
      ]
     },
     "metadata": {},
     "output_type": "display_data"
    }
   ],
   "source": [
    "sns.jointplot(x=pred, y=y_val)"
   ]
  },
  {
   "cell_type": "code",
   "execution_count": 141,
   "metadata": {},
   "outputs": [],
   "source": [
    "learner.save('3D_MRI_resnet34_predict_ups3')"
   ]
  },
  {
   "cell_type": "code",
   "execution_count": 18,
   "metadata": {},
   "outputs": [],
   "source": [
    "learner.load('3D_MRI_resnet34_predict_ups3')"
   ]
  },
  {
   "cell_type": "code",
   "execution_count": 19,
   "metadata": {},
   "outputs": [
    {
     "data": {
      "application/vnd.jupyter.widget-view+json": {
       "model_id": "ef4a1bf9a96f4ae6ab0da9ef35c4fde5",
       "version_major": 2,
       "version_minor": 0
      },
      "text/plain": [
       "HBox(children=(IntProgress(value=0, description='Epoch', max=3), HTML(value='')))"
      ]
     },
     "metadata": {},
     "output_type": "display_data"
    },
    {
     "name": "stdout",
     "output_type": "stream",
     "text": [
      "epoch      trn_loss   val_loss                              \n",
      "    0      78.856368  96.885215 \n",
      "    1      81.152567  96.535691                             \n",
      "    2      75.692088  107.123021                            \n",
      "\n"
     ]
    },
    {
     "data": {
      "text/plain": [
       "[107.12302080790202]"
      ]
     },
     "execution_count": 19,
     "metadata": {},
     "output_type": "execute_result"
    }
   ],
   "source": [
    "learner.fit(1e-3,3)"
   ]
  },
  {
   "cell_type": "code",
   "execution_count": null,
   "metadata": {},
   "outputs": [],
   "source": []
  },
  {
   "cell_type": "code",
   "execution_count": 20,
   "metadata": {},
   "outputs": [],
   "source": [
    "lr=[1e-4,5e-4,1e-3]"
   ]
  },
  {
   "cell_type": "code",
   "execution_count": 21,
   "metadata": {
    "scrolled": true
   },
   "outputs": [
    {
     "name": "stdout",
     "output_type": "stream",
     "text": [
      "0.0001\n"
     ]
    },
    {
     "data": {
      "application/vnd.jupyter.widget-view+json": {
       "model_id": "1e39d58aa38a4bad888c57f607df2928",
       "version_major": 2,
       "version_minor": 0
      },
      "text/plain": [
       "HBox(children=(IntProgress(value=0, description='Epoch', max=1), HTML(value='')))"
      ]
     },
     "metadata": {},
     "output_type": "display_data"
    },
    {
     "name": "stdout",
     "output_type": "stream",
     "text": [
      "epoch      trn_loss   val_loss                              \n",
      "    0      79.728805  102.31353 \n",
      "\n",
      "0.0005\n"
     ]
    },
    {
     "data": {
      "application/vnd.jupyter.widget-view+json": {
       "model_id": "c64d8bd7fbc843eb956c47bb1b7a0cbf",
       "version_major": 2,
       "version_minor": 0
      },
      "text/plain": [
       "HBox(children=(IntProgress(value=0, description='Epoch', max=1), HTML(value='')))"
      ]
     },
     "metadata": {},
     "output_type": "display_data"
    },
    {
     "name": "stdout",
     "output_type": "stream",
     "text": [
      "epoch      trn_loss   val_loss                              \n",
      "    0      83.027617  101.950337\n",
      "\n",
      "0.001\n"
     ]
    },
    {
     "data": {
      "application/vnd.jupyter.widget-view+json": {
       "model_id": "6f7633af8fd549cf86de5ba70aad77e8",
       "version_major": 2,
       "version_minor": 0
      },
      "text/plain": [
       "HBox(children=(IntProgress(value=0, description='Epoch', max=1), HTML(value='')))"
      ]
     },
     "metadata": {},
     "output_type": "display_data"
    },
    {
     "name": "stdout",
     "output_type": "stream",
     "text": [
      "epoch      trn_loss   val_loss                              \n",
      "    0      79.778611  98.364245 \n",
      "\n",
      "0.0001\n"
     ]
    },
    {
     "data": {
      "application/vnd.jupyter.widget-view+json": {
       "model_id": "bece9dfa79694dbab902e89d99916b1a",
       "version_major": 2,
       "version_minor": 0
      },
      "text/plain": [
       "HBox(children=(IntProgress(value=0, description='Epoch', max=1), HTML(value='')))"
      ]
     },
     "metadata": {},
     "output_type": "display_data"
    },
    {
     "name": "stdout",
     "output_type": "stream",
     "text": [
      "epoch      trn_loss   val_loss                              \n",
      "    0      83.152824  100.40158 \n",
      "\n",
      "0.0005\n"
     ]
    },
    {
     "data": {
      "application/vnd.jupyter.widget-view+json": {
       "model_id": "abc868d44afc4a228a5d213cdcaf1885",
       "version_major": 2,
       "version_minor": 0
      },
      "text/plain": [
       "HBox(children=(IntProgress(value=0, description='Epoch', max=1), HTML(value='')))"
      ]
     },
     "metadata": {},
     "output_type": "display_data"
    },
    {
     "name": "stdout",
     "output_type": "stream",
     "text": [
      "epoch      trn_loss   val_loss                              \n",
      "    0      64.842874  104.194391\n",
      "\n",
      "0.001\n"
     ]
    },
    {
     "data": {
      "application/vnd.jupyter.widget-view+json": {
       "model_id": "5dabb5d3141545548f81c86e907d2180",
       "version_major": 2,
       "version_minor": 0
      },
      "text/plain": [
       "HBox(children=(IntProgress(value=0, description='Epoch', max=1), HTML(value='')))"
      ]
     },
     "metadata": {},
     "output_type": "display_data"
    },
    {
     "name": "stdout",
     "output_type": "stream",
     "text": [
      "epoch      trn_loss   val_loss                              \n",
      "    0      74.775866  96.136532 \n",
      "\n",
      "0.0001\n"
     ]
    },
    {
     "data": {
      "application/vnd.jupyter.widget-view+json": {
       "model_id": "93c2c7082c5b4eaea239a6a85baf1039",
       "version_major": 2,
       "version_minor": 0
      },
      "text/plain": [
       "HBox(children=(IntProgress(value=0, description='Epoch', max=1), HTML(value='')))"
      ]
     },
     "metadata": {},
     "output_type": "display_data"
    },
    {
     "name": "stdout",
     "output_type": "stream",
     "text": [
      "epoch      trn_loss   val_loss                              \n",
      "    0      80.820914  98.693891 \n",
      "\n",
      "0.0005\n"
     ]
    },
    {
     "data": {
      "application/vnd.jupyter.widget-view+json": {
       "model_id": "8dd4ab9cf17746f5b87eb4bfd4893d3f",
       "version_major": 2,
       "version_minor": 0
      },
      "text/plain": [
       "HBox(children=(IntProgress(value=0, description='Epoch', max=1), HTML(value='')))"
      ]
     },
     "metadata": {},
     "output_type": "display_data"
    },
    {
     "name": "stdout",
     "output_type": "stream",
     "text": [
      "epoch      trn_loss   val_loss                              \n",
      "    0      80.197915  102.288453\n",
      "\n",
      "0.001\n"
     ]
    },
    {
     "data": {
      "application/vnd.jupyter.widget-view+json": {
       "model_id": "57e3f17d250a4426b7b0959d02b43046",
       "version_major": 2,
       "version_minor": 0
      },
      "text/plain": [
       "HBox(children=(IntProgress(value=0, description='Epoch', max=1), HTML(value='')))"
      ]
     },
     "metadata": {},
     "output_type": "display_data"
    },
    {
     "name": "stdout",
     "output_type": "stream",
     "text": [
      "epoch      trn_loss   val_loss                              \n",
      "    0      71.144395  103.757818\n",
      "\n"
     ]
    }
   ],
   "source": [
    "for j in range(3):\n",
    "    for i in lr:\n",
    "        print(i)\n",
    "        learner.fit(i,1)"
   ]
  },
  {
   "cell_type": "code",
   "execution_count": 132,
   "metadata": {},
   "outputs": [
    {
     "data": {
      "image/png": "[encoded data removed]",
      "text/plain": [
       "<Figure size 432x288 with 1 Axes>"
      ]
     },
     "metadata": {},
     "output_type": "display_data"
    }
   ],
   "source": [
    "learner.sched.plot_loss()"
   ]
  },
  {
   "cell_type": "code",
   "execution_count": 34,
   "metadata": {},
   "outputs": [
    {
     "data": {
      "text/plain": [
       "0.7747747747747747"
      ]
     },
     "execution_count": 34,
     "metadata": {},
     "output_type": "execute_result"
    }
   ],
   "source": [
    "np.count_nonzero(y_val == 1) / len(y_val)"
   ]
  },
  {
   "cell_type": "code",
   "execution_count": null,
   "metadata": {},
   "outputs": [],
   "source": []
  },
  {
   "cell_type": "code",
   "execution_count": null,
   "metadata": {},
   "outputs": [],
   "source": []
  },
  {
   "cell_type": "code",
   "execution_count": null,
   "metadata": {},
   "outputs": [],
   "source": []
  },
  {
   "cell_type": "code",
   "execution_count": null,
   "metadata": {},
   "outputs": [],
   "source": []
  }
 ],
 "metadata": {
  "kernelspec": {
   "display_name": "Python 3",
   "language": "python",
   "name": "python3"
  },
  "language_info": {
   "codemirror_mode": {
    "name": "ipython",
    "version": 3
   },
   "file_extension": ".py",
   "mimetype": "text/x-python",
   "name": "python",
   "nbconvert_exporter": "python",
   "pygments_lexer": "ipython3",
   "version": "3.6.5"
  }
 },
 "nbformat": 4,
 "nbformat_minor": 2
}
