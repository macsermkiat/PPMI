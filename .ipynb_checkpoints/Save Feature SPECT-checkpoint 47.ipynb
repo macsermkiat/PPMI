{
 "cells": [
  {
   "cell_type": "code",
   "execution_count": 1,
   "metadata": {},
   "outputs": [],
   "source": [
    "# Put these at the top of every notebook, to get automatic reloading and inline plotting\n",
    "%reload_ext autoreload\n",
    "%autoreload 2\n",
    "%matplotlib inline"
   ]
  },
  {
   "cell_type": "code",
   "execution_count": 2,
   "metadata": {},
   "outputs": [],
   "source": [
    "# This file contains all the main external libs we'll use\n",
    "from fastai.imports import *\n",
    "#from fastai.transforms import *\n",
    "from fastai.conv_learner import *\n",
    "#from fastai.model import *\n",
    "#from fastai.dataset import *\n",
    "#from fastai.sgdr import *\n",
    "#from fastai.plots import *"
   ]
  },
  {
   "cell_type": "code",
   "execution_count": 3,
   "metadata": {},
   "outputs": [
    {
     "name": "stdout",
     "output_type": "stream",
     "text": [
      "0.4.0\n"
     ]
    }
   ],
   "source": [
    "print(torch.__version__)"
   ]
  },
  {
   "cell_type": "code",
   "execution_count": 4,
   "metadata": {},
   "outputs": [],
   "source": [
    "import pydicom\n",
    "import glob\n",
    "import os\n",
    "import numpy\n",
    "import seaborn as sns\n",
    "from itertools import chain\n",
    "from pathlib import Path"
   ]
  },
  {
   "cell_type": "code",
   "execution_count": 5,
   "metadata": {},
   "outputs": [],
   "source": [
    "PATH = \"./\"\n",
    "SPECTPATH = Path(\"../../../Downloads/PPMISPECT/\")"
   ]
  },
  {
   "cell_type": "code",
   "execution_count": 6,
   "metadata": {
    "scrolled": true
   },
   "outputs": [
    {
     "data": {
      "text/plain": [
       "'for dirName, subdirList, fileList in os.walk(PathDicom):\\n    for filename in fileList:\\n        if \".dcm\" in filename.lower():  # check whether the file\\'s DICOM\\n            lstFilesDCM.append(os.path.join(dirName,filename))'"
      ]
     },
     "execution_count": 6,
     "metadata": {},
     "output_type": "execute_result"
    }
   ],
   "source": [
    "lstFilesDCM = []  # create an empty list\n",
    "'''for dirName, subdirList, fileList in os.walk(PathDicom):\n",
    "    for filename in fileList:\n",
    "        if \".dcm\" in filename.lower():  # check whether the file's DICOM\n",
    "            lstFilesDCM.append(os.path.join(dirName,filename))'''"
   ]
  },
  {
   "cell_type": "code",
   "execution_count": 7,
   "metadata": {},
   "outputs": [],
   "source": [
    "metadata = pd.read_csv(f'{PATH}PPMI.csv')"
   ]
  },
  {
   "cell_type": "code",
   "execution_count": 8,
   "metadata": {},
   "outputs": [
    {
     "data": {
      "text/html": [
       "<div>\n",
       "<style scoped>\n",
       "    .dataframe tbody tr th:only-of-type {\n",
       "        vertical-align: middle;\n",
       "    }\n",
       "\n",
       "    .dataframe tbody tr th {\n",
       "        vertical-align: top;\n",
       "    }\n",
       "\n",
       "    .dataframe thead th {\n",
       "        text-align: right;\n",
       "    }\n",
       "</style>\n",
       "<table border=\"1\" class=\"dataframe\">\n",
       "  <thead>\n",
       "    <tr style=\"text-align: right;\">\n",
       "      <th></th>\n",
       "      <th>Image Data ID</th>\n",
       "      <th>Subject</th>\n",
       "      <th>Group</th>\n",
       "      <th>Sex</th>\n",
       "      <th>Age</th>\n",
       "      <th>Visit</th>\n",
       "      <th>Modality</th>\n",
       "      <th>Description</th>\n",
       "      <th>Type</th>\n",
       "      <th>Acq Date</th>\n",
       "      <th>Format</th>\n",
       "      <th>Downloaded</th>\n",
       "    </tr>\n",
       "  </thead>\n",
       "  <tbody>\n",
       "    <tr>\n",
       "      <th>0</th>\n",
       "      <td>388628</td>\n",
       "      <td>4140</td>\n",
       "      <td>Control</td>\n",
       "      <td>M</td>\n",
       "      <td>76</td>\n",
       "      <td>0</td>\n",
       "      <td>SPECT</td>\n",
       "      <td>Reconstructed DaTSCAN</td>\n",
       "      <td>Processed</td>\n",
       "      <td>4/09/2013</td>\n",
       "      <td>DCM</td>\n",
       "      <td>5/27/2018</td>\n",
       "    </tr>\n",
       "    <tr>\n",
       "      <th>1</th>\n",
       "      <td>388627</td>\n",
       "      <td>4139</td>\n",
       "      <td>Control</td>\n",
       "      <td>M</td>\n",
       "      <td>81</td>\n",
       "      <td>0</td>\n",
       "      <td>SPECT</td>\n",
       "      <td>Reconstructed DaTSCAN</td>\n",
       "      <td>Processed</td>\n",
       "      <td>3/19/2013</td>\n",
       "      <td>DCM</td>\n",
       "      <td>5/27/2018</td>\n",
       "    </tr>\n",
       "    <tr>\n",
       "      <th>2</th>\n",
       "      <td>388626</td>\n",
       "      <td>4137</td>\n",
       "      <td>PD</td>\n",
       "      <td>M</td>\n",
       "      <td>70</td>\n",
       "      <td>0</td>\n",
       "      <td>SPECT</td>\n",
       "      <td>Reconstructed DaTSCAN</td>\n",
       "      <td>Processed</td>\n",
       "      <td>4/02/2013</td>\n",
       "      <td>DCM</td>\n",
       "      <td>5/27/2018</td>\n",
       "    </tr>\n",
       "    <tr>\n",
       "      <th>3</th>\n",
       "      <td>388625</td>\n",
       "      <td>4136</td>\n",
       "      <td>PD</td>\n",
       "      <td>M</td>\n",
       "      <td>56</td>\n",
       "      <td>0</td>\n",
       "      <td>SPECT</td>\n",
       "      <td>Reconstructed DaTSCAN</td>\n",
       "      <td>Processed</td>\n",
       "      <td>2/13/2013</td>\n",
       "      <td>DCM</td>\n",
       "      <td>5/27/2018</td>\n",
       "    </tr>\n",
       "    <tr>\n",
       "      <th>4</th>\n",
       "      <td>451290</td>\n",
       "      <td>4135</td>\n",
       "      <td>PD</td>\n",
       "      <td>M</td>\n",
       "      <td>68</td>\n",
       "      <td>5</td>\n",
       "      <td>SPECT</td>\n",
       "      <td>Reconstructed DaTSCAN</td>\n",
       "      <td>Processed</td>\n",
       "      <td>2/18/2014</td>\n",
       "      <td>DCM</td>\n",
       "      <td>5/27/2018</td>\n",
       "    </tr>\n",
       "  </tbody>\n",
       "</table>\n",
       "</div>"
      ],
      "text/plain": [
       "   Image Data ID  Subject    Group Sex  Age  Visit Modality  \\\n",
       "0         388628     4140  Control   M   76      0    SPECT   \n",
       "1         388627     4139  Control   M   81      0    SPECT   \n",
       "2         388626     4137       PD   M   70      0    SPECT   \n",
       "3         388625     4136       PD   M   56      0    SPECT   \n",
       "4         451290     4135       PD   M   68      5    SPECT   \n",
       "\n",
       "             Description       Type   Acq Date Format Downloaded  \n",
       "0  Reconstructed DaTSCAN  Processed  4/09/2013    DCM  5/27/2018  \n",
       "1  Reconstructed DaTSCAN  Processed  3/19/2013    DCM  5/27/2018  \n",
       "2  Reconstructed DaTSCAN  Processed  4/02/2013    DCM  5/27/2018  \n",
       "3  Reconstructed DaTSCAN  Processed  2/13/2013    DCM  5/27/2018  \n",
       "4  Reconstructed DaTSCAN  Processed  2/18/2014    DCM  5/27/2018  "
      ]
     },
     "execution_count": 8,
     "metadata": {},
     "output_type": "execute_result"
    }
   ],
   "source": [
    "metadata[0:5]"
   ]
  },
  {
   "cell_type": "code",
   "execution_count": 9,
   "metadata": {},
   "outputs": [],
   "source": [
    "#Shuffle data\n",
    "metadata = metadata.sample(frac=1).reset_index(drop=True)"
   ]
  },
  {
   "cell_type": "code",
   "execution_count": 10,
   "metadata": {
    "scrolled": true
   },
   "outputs": [
    {
     "data": {
      "text/html": [
       "<div>\n",
       "<style scoped>\n",
       "    .dataframe tbody tr th:only-of-type {\n",
       "        vertical-align: middle;\n",
       "    }\n",
       "\n",
       "    .dataframe tbody tr th {\n",
       "        vertical-align: top;\n",
       "    }\n",
       "\n",
       "    .dataframe thead th {\n",
       "        text-align: right;\n",
       "    }\n",
       "</style>\n",
       "<table border=\"1\" class=\"dataframe\">\n",
       "  <thead>\n",
       "    <tr style=\"text-align: right;\">\n",
       "      <th></th>\n",
       "      <th>Image Data ID</th>\n",
       "      <th>Subject</th>\n",
       "      <th>Group</th>\n",
       "      <th>Sex</th>\n",
       "      <th>Age</th>\n",
       "      <th>Visit</th>\n",
       "      <th>Modality</th>\n",
       "      <th>Description</th>\n",
       "      <th>Type</th>\n",
       "      <th>Acq Date</th>\n",
       "      <th>Format</th>\n",
       "      <th>Downloaded</th>\n",
       "    </tr>\n",
       "  </thead>\n",
       "  <tbody>\n",
       "    <tr>\n",
       "      <th>0</th>\n",
       "      <td>332065</td>\n",
       "      <td>3856</td>\n",
       "      <td>PD</td>\n",
       "      <td>M</td>\n",
       "      <td>68</td>\n",
       "      <td>0</td>\n",
       "      <td>SPECT</td>\n",
       "      <td>Reconstructed DaTSCAN</td>\n",
       "      <td>Processed</td>\n",
       "      <td>6/08/2011</td>\n",
       "      <td>DCM</td>\n",
       "      <td>5/27/2018</td>\n",
       "    </tr>\n",
       "    <tr>\n",
       "      <th>1</th>\n",
       "      <td>442979</td>\n",
       "      <td>4124</td>\n",
       "      <td>PD</td>\n",
       "      <td>M</td>\n",
       "      <td>72</td>\n",
       "      <td>5</td>\n",
       "      <td>SPECT</td>\n",
       "      <td>Reconstructed DaTSCAN</td>\n",
       "      <td>Processed</td>\n",
       "      <td>5/21/2014</td>\n",
       "      <td>DCM</td>\n",
       "      <td>5/27/2018</td>\n",
       "    </tr>\n",
       "    <tr>\n",
       "      <th>2</th>\n",
       "      <td>419664</td>\n",
       "      <td>3435</td>\n",
       "      <td>PD</td>\n",
       "      <td>M</td>\n",
       "      <td>57</td>\n",
       "      <td>7</td>\n",
       "      <td>SPECT</td>\n",
       "      <td>Reconstructed DaTSCAN</td>\n",
       "      <td>Processed</td>\n",
       "      <td>11/15/2013</td>\n",
       "      <td>DCM</td>\n",
       "      <td>5/27/2018</td>\n",
       "    </tr>\n",
       "    <tr>\n",
       "      <th>3</th>\n",
       "      <td>419588</td>\n",
       "      <td>3904</td>\n",
       "      <td>PD</td>\n",
       "      <td>M</td>\n",
       "      <td>72</td>\n",
       "      <td>21</td>\n",
       "      <td>SPECT</td>\n",
       "      <td>Reconstructed DaTSCAN</td>\n",
       "      <td>Processed</td>\n",
       "      <td>9/10/2013</td>\n",
       "      <td>DCM</td>\n",
       "      <td>5/27/2018</td>\n",
       "    </tr>\n",
       "    <tr>\n",
       "      <th>4</th>\n",
       "      <td>389236</td>\n",
       "      <td>3445</td>\n",
       "      <td>PD</td>\n",
       "      <td>M</td>\n",
       "      <td>48</td>\n",
       "      <td>0</td>\n",
       "      <td>SPECT</td>\n",
       "      <td>Reconstructed DaTSCAN</td>\n",
       "      <td>Processed</td>\n",
       "      <td>3/08/2012</td>\n",
       "      <td>DCM</td>\n",
       "      <td>5/27/2018</td>\n",
       "    </tr>\n",
       "  </tbody>\n",
       "</table>\n",
       "</div>"
      ],
      "text/plain": [
       "   Image Data ID  Subject Group Sex  Age  Visit Modality  \\\n",
       "0         332065     3856    PD   M   68      0    SPECT   \n",
       "1         442979     4124    PD   M   72      5    SPECT   \n",
       "2         419664     3435    PD   M   57      7    SPECT   \n",
       "3         419588     3904    PD   M   72     21    SPECT   \n",
       "4         389236     3445    PD   M   48      0    SPECT   \n",
       "\n",
       "             Description       Type    Acq Date Format Downloaded  \n",
       "0  Reconstructed DaTSCAN  Processed   6/08/2011    DCM  5/27/2018  \n",
       "1  Reconstructed DaTSCAN  Processed   5/21/2014    DCM  5/27/2018  \n",
       "2  Reconstructed DaTSCAN  Processed  11/15/2013    DCM  5/27/2018  \n",
       "3  Reconstructed DaTSCAN  Processed   9/10/2013    DCM  5/27/2018  \n",
       "4  Reconstructed DaTSCAN  Processed   3/08/2012    DCM  5/27/2018  "
      ]
     },
     "execution_count": 10,
     "metadata": {},
     "output_type": "execute_result"
    }
   ],
   "source": [
    "metadata[0:5]"
   ]
  },
  {
   "cell_type": "code",
   "execution_count": 11,
   "metadata": {},
   "outputs": [],
   "source": [
    "for file in glob.glob(str(SPECTPATH / 'PPMI*/**/Reconstructed_DaTSCAN/**/**/*.dcm')):\n",
    "    lstFilesDCM.append(file)"
   ]
  },
  {
   "cell_type": "code",
   "execution_count": 12,
   "metadata": {},
   "outputs": [
    {
     "data": {
      "text/plain": [
       "1331"
      ]
     },
     "execution_count": 12,
     "metadata": {},
     "output_type": "execute_result"
    }
   ],
   "source": [
    "len(lstFilesDCM)"
   ]
  },
  {
   "cell_type": "code",
   "execution_count": 13,
   "metadata": {},
   "outputs": [
    {
     "data": {
      "text/plain": [
       "1331"
      ]
     },
     "execution_count": 13,
     "metadata": {},
     "output_type": "execute_result"
    }
   ],
   "source": [
    "ptID = []\n",
    "for i in lstFilesDCM:\n",
    "    j = i.split(\"_\")[13].strip()\n",
    "    j = int(j[1:7])\n",
    "    ptID.append(j)\n",
    "len(ptID)"
   ]
  },
  {
   "cell_type": "code",
   "execution_count": 14,
   "metadata": {
    "scrolled": false
   },
   "outputs": [
    {
     "data": {
      "text/plain": [
       "1194"
      ]
     },
     "execution_count": 14,
     "metadata": {},
     "output_type": "execute_result"
    }
   ],
   "source": [
    "p ={}\n",
    "for o in ptID:\n",
    "    for k in metadata.iloc[:,0]:\n",
    "        if o == k:\n",
    "            p[o] = metadata.loc[metadata['Image Data ID'] == k, 'Group'].tolist()[0]\n",
    "len(p)"
   ]
  },
  {
   "cell_type": "code",
   "execution_count": 15,
   "metadata": {
    "scrolled": false
   },
   "outputs": [],
   "source": [
    "df = metadata[['Image Data ID','Group','Subject','Age','Sex']].set_index('Image Data ID')\n",
    "for index, rows in df.iterrows():\n",
    "    for i in lstFilesDCM:\n",
    "        j = i.split(\"_\")[13].strip()\n",
    "        j = int(j[1:7])\n",
    "        if index == j:\n",
    "            df.loc[df.index == j, \"Filenames\"] = i\n"
   ]
  },
  {
   "cell_type": "code",
   "execution_count": 163,
   "metadata": {},
   "outputs": [],
   "source": [
    "#Check duplicate item\n",
    "bg = []\n",
    "for i in lstFilesDCM:\n",
    "    for index, rows in df.iterrows():\n",
    "        j = i.split(\"_\")[13].strip()\n",
    "        j = int(j[1:7])\n",
    "        if j == index:\n",
    "            bg.append(index)\n",
    "print( [item for item, count in collections.Counter(bg).items() if count > 1] )\n",
    "            "
   ]
  },
  {
   "cell_type": "code",
   "execution_count": 16,
   "metadata": {},
   "outputs": [],
   "source": [
    "lstFilesDCM = df['Filenames'].values"
   ]
  },
  {
   "cell_type": "code",
   "execution_count": 84,
   "metadata": {},
   "outputs": [],
   "source": [
    "lstFilesDCM = lstFilesDCM.tolist()"
   ]
  },
  {
   "cell_type": "code",
   "execution_count": 85,
   "metadata": {
    "scrolled": false
   },
   "outputs": [
    {
     "data": {
      "text/html": [
       "<div>\n",
       "<style scoped>\n",
       "    .dataframe tbody tr th:only-of-type {\n",
       "        vertical-align: middle;\n",
       "    }\n",
       "\n",
       "    .dataframe tbody tr th {\n",
       "        vertical-align: top;\n",
       "    }\n",
       "\n",
       "    .dataframe thead th {\n",
       "        text-align: right;\n",
       "    }\n",
       "</style>\n",
       "<table border=\"1\" class=\"dataframe\">\n",
       "  <thead>\n",
       "    <tr style=\"text-align: right;\">\n",
       "      <th></th>\n",
       "      <th>Group</th>\n",
       "      <th>Subject</th>\n",
       "      <th>Age</th>\n",
       "      <th>Sex</th>\n",
       "      <th>Filenames</th>\n",
       "    </tr>\n",
       "    <tr>\n",
       "      <th>Image Data ID</th>\n",
       "      <th></th>\n",
       "      <th></th>\n",
       "      <th></th>\n",
       "      <th></th>\n",
       "      <th></th>\n",
       "    </tr>\n",
       "  </thead>\n",
       "  <tbody>\n",
       "    <tr>\n",
       "      <th>419863</th>\n",
       "      <td>PD</td>\n",
       "      <td>3220</td>\n",
       "      <td>75</td>\n",
       "      <td>F</td>\n",
       "      <td>../../../Downloads/PPMISPECT/PPMI8/3220/Recons...</td>\n",
       "    </tr>\n",
       "    <tr>\n",
       "      <th>449024</th>\n",
       "      <td>PD</td>\n",
       "      <td>3472</td>\n",
       "      <td>63</td>\n",
       "      <td>M</td>\n",
       "      <td>../../../Downloads/PPMISPECT/PPMI5/3472/Recons...</td>\n",
       "    </tr>\n",
       "    <tr>\n",
       "      <th>388474</th>\n",
       "      <td>PD</td>\n",
       "      <td>3089</td>\n",
       "      <td>56</td>\n",
       "      <td>F</td>\n",
       "      <td>../../../Downloads/PPMISPECT/PPMI4/3089/Recons...</td>\n",
       "    </tr>\n",
       "    <tr>\n",
       "      <th>418889</th>\n",
       "      <td>PD</td>\n",
       "      <td>3150</td>\n",
       "      <td>59</td>\n",
       "      <td>F</td>\n",
       "      <td>../../../Downloads/PPMISPECT/PPMI4/3150/Recons...</td>\n",
       "    </tr>\n",
       "    <tr>\n",
       "      <th>339552</th>\n",
       "      <td>Control</td>\n",
       "      <td>3554</td>\n",
       "      <td>75</td>\n",
       "      <td>M</td>\n",
       "      <td>NaN</td>\n",
       "    </tr>\n",
       "    <tr>\n",
       "      <th>419588</th>\n",
       "      <td>PD</td>\n",
       "      <td>3904</td>\n",
       "      <td>72</td>\n",
       "      <td>M</td>\n",
       "      <td>../../../Downloads/PPMISPECT/PPMI5/3904/Recons...</td>\n",
       "    </tr>\n",
       "    <tr>\n",
       "      <th>363958</th>\n",
       "      <td>PD</td>\n",
       "      <td>3960</td>\n",
       "      <td>53</td>\n",
       "      <td>M</td>\n",
       "      <td>../../../Downloads/PPMISPECT/PPMI5/3960/Recons...</td>\n",
       "    </tr>\n",
       "    <tr>\n",
       "      <th>389267</th>\n",
       "      <td>PD</td>\n",
       "      <td>4006</td>\n",
       "      <td>60</td>\n",
       "      <td>M</td>\n",
       "      <td>../../../Downloads/PPMISPECT/PPMI/4006/Reconst...</td>\n",
       "    </tr>\n",
       "    <tr>\n",
       "      <th>419858</th>\n",
       "      <td>PD</td>\n",
       "      <td>3209</td>\n",
       "      <td>70</td>\n",
       "      <td>M</td>\n",
       "      <td>../../../Downloads/PPMISPECT/PPMI9/3209/Recons...</td>\n",
       "    </tr>\n",
       "    <tr>\n",
       "      <th>418358</th>\n",
       "      <td>PD</td>\n",
       "      <td>3459</td>\n",
       "      <td>53</td>\n",
       "      <td>M</td>\n",
       "      <td>../../../Downloads/PPMISPECT/PPMI5/3459/Recons...</td>\n",
       "    </tr>\n",
       "    <tr>\n",
       "      <th>343882</th>\n",
       "      <td>PD</td>\n",
       "      <td>4056</td>\n",
       "      <td>64</td>\n",
       "      <td>M</td>\n",
       "      <td>../../../Downloads/PPMISPECT/PPMI5/4056/Recons...</td>\n",
       "    </tr>\n",
       "    <tr>\n",
       "      <th>504465</th>\n",
       "      <td>PD</td>\n",
       "      <td>4034</td>\n",
       "      <td>57</td>\n",
       "      <td>F</td>\n",
       "      <td>../../../Downloads/PPMISPECT/PPMI4/4034/Recons...</td>\n",
       "    </tr>\n",
       "    <tr>\n",
       "      <th>495328</th>\n",
       "      <td>PD</td>\n",
       "      <td>4110</td>\n",
       "      <td>73</td>\n",
       "      <td>M</td>\n",
       "      <td>NaN</td>\n",
       "    </tr>\n",
       "    <tr>\n",
       "      <th>360616</th>\n",
       "      <td>Control</td>\n",
       "      <td>3754</td>\n",
       "      <td>72</td>\n",
       "      <td>M</td>\n",
       "      <td>NaN</td>\n",
       "    </tr>\n",
       "    <tr>\n",
       "      <th>358124</th>\n",
       "      <td>PD</td>\n",
       "      <td>3415</td>\n",
       "      <td>63</td>\n",
       "      <td>M</td>\n",
       "      <td>NaN</td>\n",
       "    </tr>\n",
       "    <tr>\n",
       "      <th>343874</th>\n",
       "      <td>PD</td>\n",
       "      <td>3825</td>\n",
       "      <td>58</td>\n",
       "      <td>M</td>\n",
       "      <td>../../../Downloads/PPMISPECT/PPMI2/3825/Recons...</td>\n",
       "    </tr>\n",
       "    <tr>\n",
       "      <th>468276</th>\n",
       "      <td>PD</td>\n",
       "      <td>3587</td>\n",
       "      <td>55</td>\n",
       "      <td>M</td>\n",
       "      <td>../../../Downloads/PPMISPECT/PPMI/3587/Reconst...</td>\n",
       "    </tr>\n",
       "    <tr>\n",
       "      <th>388574</th>\n",
       "      <td>Control</td>\n",
       "      <td>3966</td>\n",
       "      <td>59</td>\n",
       "      <td>M</td>\n",
       "      <td>../../../Downloads/PPMISPECT/PPMI7/3966/Recons...</td>\n",
       "    </tr>\n",
       "    <tr>\n",
       "      <th>767589</th>\n",
       "      <td>PD</td>\n",
       "      <td>3223</td>\n",
       "      <td>71</td>\n",
       "      <td>M</td>\n",
       "      <td>NaN</td>\n",
       "    </tr>\n",
       "    <tr>\n",
       "      <th>418665</th>\n",
       "      <td>PD</td>\n",
       "      <td>3230</td>\n",
       "      <td>71</td>\n",
       "      <td>M</td>\n",
       "      <td>../../../Downloads/PPMISPECT/PPMI3/3230/Recons...</td>\n",
       "    </tr>\n",
       "    <tr>\n",
       "      <th>389191</th>\n",
       "      <td>PD</td>\n",
       "      <td>3118</td>\n",
       "      <td>60</td>\n",
       "      <td>M</td>\n",
       "      <td>../../../Downloads/PPMISPECT/PPMI6/3118/Recons...</td>\n",
       "    </tr>\n",
       "    <tr>\n",
       "      <th>418362</th>\n",
       "      <td>PD</td>\n",
       "      <td>3606</td>\n",
       "      <td>51</td>\n",
       "      <td>F</td>\n",
       "      <td>../../../Downloads/PPMISPECT/PPMI/3606/Reconst...</td>\n",
       "    </tr>\n",
       "    <tr>\n",
       "      <th>341075</th>\n",
       "      <td>Control</td>\n",
       "      <td>3271</td>\n",
       "      <td>58</td>\n",
       "      <td>M</td>\n",
       "      <td>../../../Downloads/PPMISPECT/PPMI6/3271/Recons...</td>\n",
       "    </tr>\n",
       "    <tr>\n",
       "      <th>913226</th>\n",
       "      <td>PD</td>\n",
       "      <td>3710</td>\n",
       "      <td>59</td>\n",
       "      <td>M</td>\n",
       "      <td>../../../Downloads/PPMISPECT/PPMI8/3710/Recons...</td>\n",
       "    </tr>\n",
       "    <tr>\n",
       "      <th>388523</th>\n",
       "      <td>Control</td>\n",
       "      <td>3639</td>\n",
       "      <td>74</td>\n",
       "      <td>M</td>\n",
       "      <td>../../../Downloads/PPMISPECT/PPMI5/3639/Recons...</td>\n",
       "    </tr>\n",
       "    <tr>\n",
       "      <th>341085</th>\n",
       "      <td>Control</td>\n",
       "      <td>3952</td>\n",
       "      <td>69</td>\n",
       "      <td>F</td>\n",
       "      <td>../../../Downloads/PPMISPECT/PPMI5/3952/Recons...</td>\n",
       "    </tr>\n",
       "    <tr>\n",
       "      <th>419562</th>\n",
       "      <td>PD</td>\n",
       "      <td>3403</td>\n",
       "      <td>70</td>\n",
       "      <td>M</td>\n",
       "      <td>NaN</td>\n",
       "    </tr>\n",
       "    <tr>\n",
       "      <th>418480</th>\n",
       "      <td>PD</td>\n",
       "      <td>3308</td>\n",
       "      <td>68</td>\n",
       "      <td>M</td>\n",
       "      <td>NaN</td>\n",
       "    </tr>\n",
       "    <tr>\n",
       "      <th>419251</th>\n",
       "      <td>PD</td>\n",
       "      <td>3530</td>\n",
       "      <td>66</td>\n",
       "      <td>M</td>\n",
       "      <td>../../../Downloads/PPMISPECT/PPMI2/3530/Recons...</td>\n",
       "    </tr>\n",
       "    <tr>\n",
       "      <th>419685</th>\n",
       "      <td>PD</td>\n",
       "      <td>3617</td>\n",
       "      <td>65</td>\n",
       "      <td>M</td>\n",
       "      <td>../../../Downloads/PPMISPECT/PPMI4/3617/Recons...</td>\n",
       "    </tr>\n",
       "    <tr>\n",
       "      <th>...</th>\n",
       "      <td>...</td>\n",
       "      <td>...</td>\n",
       "      <td>...</td>\n",
       "      <td>...</td>\n",
       "      <td>...</td>\n",
       "    </tr>\n",
       "    <tr>\n",
       "      <th>446145</th>\n",
       "      <td>PD</td>\n",
       "      <td>4022</td>\n",
       "      <td>49</td>\n",
       "      <td>M</td>\n",
       "      <td>NaN</td>\n",
       "    </tr>\n",
       "    <tr>\n",
       "      <th>341195</th>\n",
       "      <td>Control</td>\n",
       "      <td>3008</td>\n",
       "      <td>82</td>\n",
       "      <td>F</td>\n",
       "      <td>../../../Downloads/PPMISPECT/PPMI2/3008/Recons...</td>\n",
       "    </tr>\n",
       "    <tr>\n",
       "      <th>693015</th>\n",
       "      <td>PD</td>\n",
       "      <td>3423</td>\n",
       "      <td>74</td>\n",
       "      <td>M</td>\n",
       "      <td>../../../Downloads/PPMISPECT/PPMI6/3423/Recons...</td>\n",
       "    </tr>\n",
       "    <tr>\n",
       "      <th>339929</th>\n",
       "      <td>Control</td>\n",
       "      <td>3458</td>\n",
       "      <td>61</td>\n",
       "      <td>F</td>\n",
       "      <td>../../../Downloads/PPMISPECT/PPMI9/3458/Recons...</td>\n",
       "    </tr>\n",
       "    <tr>\n",
       "      <th>339923</th>\n",
       "      <td>Control</td>\n",
       "      <td>3452</td>\n",
       "      <td>64</td>\n",
       "      <td>F</td>\n",
       "      <td>../../../Downloads/PPMISPECT/PPMI7/3452/Recons...</td>\n",
       "    </tr>\n",
       "    <tr>\n",
       "      <th>418694</th>\n",
       "      <td>PD</td>\n",
       "      <td>3659</td>\n",
       "      <td>72</td>\n",
       "      <td>M</td>\n",
       "      <td>NaN</td>\n",
       "    </tr>\n",
       "    <tr>\n",
       "      <th>343887</th>\n",
       "      <td>PD</td>\n",
       "      <td>4091</td>\n",
       "      <td>68</td>\n",
       "      <td>F</td>\n",
       "      <td>NaN</td>\n",
       "    </tr>\n",
       "    <tr>\n",
       "      <th>504399</th>\n",
       "      <td>PD</td>\n",
       "      <td>3638</td>\n",
       "      <td>68</td>\n",
       "      <td>M</td>\n",
       "      <td>../../../Downloads/PPMISPECT/PPMI2/3638/Recons...</td>\n",
       "    </tr>\n",
       "    <tr>\n",
       "      <th>419260</th>\n",
       "      <td>PD</td>\n",
       "      <td>3701</td>\n",
       "      <td>48</td>\n",
       "      <td>M</td>\n",
       "      <td>NaN</td>\n",
       "    </tr>\n",
       "    <tr>\n",
       "      <th>389224</th>\n",
       "      <td>PD</td>\n",
       "      <td>3420</td>\n",
       "      <td>51</td>\n",
       "      <td>M</td>\n",
       "      <td>../../../Downloads/PPMISPECT/PPMI2/3420/Recons...</td>\n",
       "    </tr>\n",
       "    <tr>\n",
       "      <th>388522</th>\n",
       "      <td>PD</td>\n",
       "      <td>3638</td>\n",
       "      <td>66</td>\n",
       "      <td>M</td>\n",
       "      <td>../../../Downloads/PPMISPECT/PPMI7/3638/Recons...</td>\n",
       "    </tr>\n",
       "    <tr>\n",
       "      <th>419286</th>\n",
       "      <td>PD</td>\n",
       "      <td>4091</td>\n",
       "      <td>69</td>\n",
       "      <td>F</td>\n",
       "      <td>../../../Downloads/PPMISPECT/PPMI7/4091/Recons...</td>\n",
       "    </tr>\n",
       "    <tr>\n",
       "      <th>419245</th>\n",
       "      <td>PD</td>\n",
       "      <td>3225</td>\n",
       "      <td>71</td>\n",
       "      <td>M</td>\n",
       "      <td>NaN</td>\n",
       "    </tr>\n",
       "    <tr>\n",
       "      <th>419599</th>\n",
       "      <td>PD</td>\n",
       "      <td>4076</td>\n",
       "      <td>75</td>\n",
       "      <td>M</td>\n",
       "      <td>../../../Downloads/PPMISPECT/PPMI2/4076/Recons...</td>\n",
       "    </tr>\n",
       "    <tr>\n",
       "      <th>418657</th>\n",
       "      <td>PD</td>\n",
       "      <td>3175</td>\n",
       "      <td>58</td>\n",
       "      <td>F</td>\n",
       "      <td>../../../Downloads/PPMISPECT/PPMI9/3175/Recons...</td>\n",
       "    </tr>\n",
       "    <tr>\n",
       "      <th>358121</th>\n",
       "      <td>PD</td>\n",
       "      <td>3207</td>\n",
       "      <td>59</td>\n",
       "      <td>F</td>\n",
       "      <td>../../../Downloads/PPMISPECT/PPMI6/3207/Recons...</td>\n",
       "    </tr>\n",
       "    <tr>\n",
       "      <th>341052</th>\n",
       "      <td>Control</td>\n",
       "      <td>3216</td>\n",
       "      <td>52</td>\n",
       "      <td>F</td>\n",
       "      <td>NaN</td>\n",
       "    </tr>\n",
       "    <tr>\n",
       "      <th>418484</th>\n",
       "      <td>PD</td>\n",
       "      <td>3433</td>\n",
       "      <td>83</td>\n",
       "      <td>F</td>\n",
       "      <td>../../../Downloads/PPMISPECT/PPMI3/3433/Recons...</td>\n",
       "    </tr>\n",
       "    <tr>\n",
       "      <th>343875</th>\n",
       "      <td>PD</td>\n",
       "      <td>3866</td>\n",
       "      <td>53</td>\n",
       "      <td>F</td>\n",
       "      <td>../../../Downloads/PPMISPECT/PPMI3/3866/Recons...</td>\n",
       "    </tr>\n",
       "    <tr>\n",
       "      <th>436888</th>\n",
       "      <td>PD</td>\n",
       "      <td>4123</td>\n",
       "      <td>61</td>\n",
       "      <td>F</td>\n",
       "      <td>NaN</td>\n",
       "    </tr>\n",
       "    <tr>\n",
       "      <th>388150</th>\n",
       "      <td>PD</td>\n",
       "      <td>3828</td>\n",
       "      <td>77</td>\n",
       "      <td>M</td>\n",
       "      <td>../../../Downloads/PPMISPECT/PPMI8/3828/Recons...</td>\n",
       "    </tr>\n",
       "    <tr>\n",
       "      <th>343856</th>\n",
       "      <td>PD</td>\n",
       "      <td>3228</td>\n",
       "      <td>67</td>\n",
       "      <td>M</td>\n",
       "      <td>NaN</td>\n",
       "    </tr>\n",
       "    <tr>\n",
       "      <th>343863</th>\n",
       "      <td>PD</td>\n",
       "      <td>3472</td>\n",
       "      <td>61</td>\n",
       "      <td>M</td>\n",
       "      <td>../../../Downloads/PPMISPECT/PPMI4/3472/Recons...</td>\n",
       "    </tr>\n",
       "    <tr>\n",
       "      <th>468292</th>\n",
       "      <td>PD</td>\n",
       "      <td>4077</td>\n",
       "      <td>50</td>\n",
       "      <td>M</td>\n",
       "      <td>NaN</td>\n",
       "    </tr>\n",
       "    <tr>\n",
       "      <th>418656</th>\n",
       "      <td>PD</td>\n",
       "      <td>3174</td>\n",
       "      <td>52</td>\n",
       "      <td>M</td>\n",
       "      <td>../../../Downloads/PPMISPECT/PPMI3/3174/Recons...</td>\n",
       "    </tr>\n",
       "    <tr>\n",
       "      <th>338804</th>\n",
       "      <td>PD</td>\n",
       "      <td>3618</td>\n",
       "      <td>53</td>\n",
       "      <td>F</td>\n",
       "      <td>../../../Downloads/PPMISPECT/PPMI9/3618/Recons...</td>\n",
       "    </tr>\n",
       "    <tr>\n",
       "      <th>418672</th>\n",
       "      <td>PD</td>\n",
       "      <td>3323</td>\n",
       "      <td>70</td>\n",
       "      <td>M</td>\n",
       "      <td>../../../Downloads/PPMISPECT/PPMI5/3323/Recons...</td>\n",
       "    </tr>\n",
       "    <tr>\n",
       "      <th>339913</th>\n",
       "      <td>PD</td>\n",
       "      <td>3364</td>\n",
       "      <td>39</td>\n",
       "      <td>F</td>\n",
       "      <td>../../../Downloads/PPMISPECT/PPMI7/3364/Recons...</td>\n",
       "    </tr>\n",
       "    <tr>\n",
       "      <th>342185</th>\n",
       "      <td>PD</td>\n",
       "      <td>3226</td>\n",
       "      <td>33</td>\n",
       "      <td>F</td>\n",
       "      <td>../../../Downloads/PPMISPECT/PPMI5/3226/Recons...</td>\n",
       "    </tr>\n",
       "    <tr>\n",
       "      <th>442979</th>\n",
       "      <td>PD</td>\n",
       "      <td>4124</td>\n",
       "      <td>72</td>\n",
       "      <td>M</td>\n",
       "      <td>../../../Downloads/PPMISPECT/PPMI3/4124/Recons...</td>\n",
       "    </tr>\n",
       "  </tbody>\n",
       "</table>\n",
       "<p>314 rows × 5 columns</p>\n",
       "</div>"
      ],
      "text/plain": [
       "                 Group  Subject  Age Sex  \\\n",
       "Image Data ID                              \n",
       "419863              PD     3220   75   F   \n",
       "449024              PD     3472   63   M   \n",
       "388474              PD     3089   56   F   \n",
       "418889              PD     3150   59   F   \n",
       "339552         Control     3554   75   M   \n",
       "419588              PD     3904   72   M   \n",
       "363958              PD     3960   53   M   \n",
       "389267              PD     4006   60   M   \n",
       "419858              PD     3209   70   M   \n",
       "418358              PD     3459   53   M   \n",
       "343882              PD     4056   64   M   \n",
       "504465              PD     4034   57   F   \n",
       "495328              PD     4110   73   M   \n",
       "360616         Control     3754   72   M   \n",
       "358124              PD     3415   63   M   \n",
       "343874              PD     3825   58   M   \n",
       "468276              PD     3587   55   M   \n",
       "388574         Control     3966   59   M   \n",
       "767589              PD     3223   71   M   \n",
       "418665              PD     3230   71   M   \n",
       "389191              PD     3118   60   M   \n",
       "418362              PD     3606   51   F   \n",
       "341075         Control     3271   58   M   \n",
       "913226              PD     3710   59   M   \n",
       "388523         Control     3639   74   M   \n",
       "341085         Control     3952   69   F   \n",
       "419562              PD     3403   70   M   \n",
       "418480              PD     3308   68   M   \n",
       "419251              PD     3530   66   M   \n",
       "419685              PD     3617   65   M   \n",
       "...                ...      ...  ...  ..   \n",
       "446145              PD     4022   49   M   \n",
       "341195         Control     3008   82   F   \n",
       "693015              PD     3423   74   M   \n",
       "339929         Control     3458   61   F   \n",
       "339923         Control     3452   64   F   \n",
       "418694              PD     3659   72   M   \n",
       "343887              PD     4091   68   F   \n",
       "504399              PD     3638   68   M   \n",
       "419260              PD     3701   48   M   \n",
       "389224              PD     3420   51   M   \n",
       "388522              PD     3638   66   M   \n",
       "419286              PD     4091   69   F   \n",
       "419245              PD     3225   71   M   \n",
       "419599              PD     4076   75   M   \n",
       "418657              PD     3175   58   F   \n",
       "358121              PD     3207   59   F   \n",
       "341052         Control     3216   52   F   \n",
       "418484              PD     3433   83   F   \n",
       "343875              PD     3866   53   F   \n",
       "436888              PD     4123   61   F   \n",
       "388150              PD     3828   77   M   \n",
       "343856              PD     3228   67   M   \n",
       "343863              PD     3472   61   M   \n",
       "468292              PD     4077   50   M   \n",
       "418656              PD     3174   52   M   \n",
       "338804              PD     3618   53   F   \n",
       "418672              PD     3323   70   M   \n",
       "339913              PD     3364   39   F   \n",
       "342185              PD     3226   33   F   \n",
       "442979              PD     4124   72   M   \n",
       "\n",
       "                                                       Filenames  \n",
       "Image Data ID                                                     \n",
       "419863         ../../../Downloads/PPMISPECT/PPMI8/3220/Recons...  \n",
       "449024         ../../../Downloads/PPMISPECT/PPMI5/3472/Recons...  \n",
       "388474         ../../../Downloads/PPMISPECT/PPMI4/3089/Recons...  \n",
       "418889         ../../../Downloads/PPMISPECT/PPMI4/3150/Recons...  \n",
       "339552                                                       NaN  \n",
       "419588         ../../../Downloads/PPMISPECT/PPMI5/3904/Recons...  \n",
       "363958         ../../../Downloads/PPMISPECT/PPMI5/3960/Recons...  \n",
       "389267         ../../../Downloads/PPMISPECT/PPMI/4006/Reconst...  \n",
       "419858         ../../../Downloads/PPMISPECT/PPMI9/3209/Recons...  \n",
       "418358         ../../../Downloads/PPMISPECT/PPMI5/3459/Recons...  \n",
       "343882         ../../../Downloads/PPMISPECT/PPMI5/4056/Recons...  \n",
       "504465         ../../../Downloads/PPMISPECT/PPMI4/4034/Recons...  \n",
       "495328                                                       NaN  \n",
       "360616                                                       NaN  \n",
       "358124                                                       NaN  \n",
       "343874         ../../../Downloads/PPMISPECT/PPMI2/3825/Recons...  \n",
       "468276         ../../../Downloads/PPMISPECT/PPMI/3587/Reconst...  \n",
       "388574         ../../../Downloads/PPMISPECT/PPMI7/3966/Recons...  \n",
       "767589                                                       NaN  \n",
       "418665         ../../../Downloads/PPMISPECT/PPMI3/3230/Recons...  \n",
       "389191         ../../../Downloads/PPMISPECT/PPMI6/3118/Recons...  \n",
       "418362         ../../../Downloads/PPMISPECT/PPMI/3606/Reconst...  \n",
       "341075         ../../../Downloads/PPMISPECT/PPMI6/3271/Recons...  \n",
       "913226         ../../../Downloads/PPMISPECT/PPMI8/3710/Recons...  \n",
       "388523         ../../../Downloads/PPMISPECT/PPMI5/3639/Recons...  \n",
       "341085         ../../../Downloads/PPMISPECT/PPMI5/3952/Recons...  \n",
       "419562                                                       NaN  \n",
       "418480                                                       NaN  \n",
       "419251         ../../../Downloads/PPMISPECT/PPMI2/3530/Recons...  \n",
       "419685         ../../../Downloads/PPMISPECT/PPMI4/3617/Recons...  \n",
       "...                                                          ...  \n",
       "446145                                                       NaN  \n",
       "341195         ../../../Downloads/PPMISPECT/PPMI2/3008/Recons...  \n",
       "693015         ../../../Downloads/PPMISPECT/PPMI6/3423/Recons...  \n",
       "339929         ../../../Downloads/PPMISPECT/PPMI9/3458/Recons...  \n",
       "339923         ../../../Downloads/PPMISPECT/PPMI7/3452/Recons...  \n",
       "418694                                                       NaN  \n",
       "343887                                                       NaN  \n",
       "504399         ../../../Downloads/PPMISPECT/PPMI2/3638/Recons...  \n",
       "419260                                                       NaN  \n",
       "389224         ../../../Downloads/PPMISPECT/PPMI2/3420/Recons...  \n",
       "388522         ../../../Downloads/PPMISPECT/PPMI7/3638/Recons...  \n",
       "419286         ../../../Downloads/PPMISPECT/PPMI7/4091/Recons...  \n",
       "419245                                                       NaN  \n",
       "419599         ../../../Downloads/PPMISPECT/PPMI2/4076/Recons...  \n",
       "418657         ../../../Downloads/PPMISPECT/PPMI9/3175/Recons...  \n",
       "358121         ../../../Downloads/PPMISPECT/PPMI6/3207/Recons...  \n",
       "341052                                                       NaN  \n",
       "418484         ../../../Downloads/PPMISPECT/PPMI3/3433/Recons...  \n",
       "343875         ../../../Downloads/PPMISPECT/PPMI3/3866/Recons...  \n",
       "436888                                                       NaN  \n",
       "388150         ../../../Downloads/PPMISPECT/PPMI8/3828/Recons...  \n",
       "343856                                                       NaN  \n",
       "343863         ../../../Downloads/PPMISPECT/PPMI4/3472/Recons...  \n",
       "468292                                                       NaN  \n",
       "418656         ../../../Downloads/PPMISPECT/PPMI3/3174/Recons...  \n",
       "338804         ../../../Downloads/PPMISPECT/PPMI9/3618/Recons...  \n",
       "418672         ../../../Downloads/PPMISPECT/PPMI5/3323/Recons...  \n",
       "339913         ../../../Downloads/PPMISPECT/PPMI7/3364/Recons...  \n",
       "342185         ../../../Downloads/PPMISPECT/PPMI5/3226/Recons...  \n",
       "442979         ../../../Downloads/PPMISPECT/PPMI3/4124/Recons...  \n",
       "\n",
       "[314 rows x 5 columns]"
      ]
     },
     "execution_count": 85,
     "metadata": {},
     "output_type": "execute_result"
    }
   ],
   "source": [
    "df.sample(frac=0.2, axis=0)"
   ]
  },
  {
   "cell_type": "code",
   "execution_count": 16,
   "metadata": {},
   "outputs": [],
   "source": [
    "up = pd.read_csv('comandfile.csv')"
   ]
  },
  {
   "cell_type": "code",
   "execution_count": 17,
   "metadata": {},
   "outputs": [
    {
     "data": {
      "text/html": [
       "<div>\n",
       "<style scoped>\n",
       "    .dataframe tbody tr th:only-of-type {\n",
       "        vertical-align: middle;\n",
       "    }\n",
       "\n",
       "    .dataframe tbody tr th {\n",
       "        vertical-align: top;\n",
       "    }\n",
       "\n",
       "    .dataframe thead th {\n",
       "        text-align: right;\n",
       "    }\n",
       "</style>\n",
       "<table border=\"1\" class=\"dataframe\">\n",
       "  <thead>\n",
       "    <tr style=\"text-align: right;\">\n",
       "      <th></th>\n",
       "      <th>Unnamed: 0</th>\n",
       "      <th>Image Data ID</th>\n",
       "      <th>Group</th>\n",
       "      <th>Subject</th>\n",
       "      <th>Age</th>\n",
       "      <th>Sex</th>\n",
       "      <th>Filenames</th>\n",
       "      <th>TOTAL3</th>\n",
       "      <th>1YR</th>\n",
       "      <th>2YR</th>\n",
       "      <th>3YR</th>\n",
       "      <th>TOTAL3.1</th>\n",
       "    </tr>\n",
       "  </thead>\n",
       "  <tbody>\n",
       "    <tr>\n",
       "      <th>0</th>\n",
       "      <td>0</td>\n",
       "      <td>360618</td>\n",
       "      <td>Control</td>\n",
       "      <td>3769</td>\n",
       "      <td>71</td>\n",
       "      <td>M</td>\n",
       "      <td>./PPMI6/3769/Reconstructed_DaTSCAN/2012-10-25_...</td>\n",
       "      <td>2.00</td>\n",
       "      <td>0.000000</td>\n",
       "      <td>0.0</td>\n",
       "      <td>0.0</td>\n",
       "      <td>2.00</td>\n",
       "    </tr>\n",
       "    <tr>\n",
       "      <th>1</th>\n",
       "      <td>1</td>\n",
       "      <td>388617</td>\n",
       "      <td>PD</td>\n",
       "      <td>4122</td>\n",
       "      <td>64</td>\n",
       "      <td>M</td>\n",
       "      <td>./PPMI6/4122/Reconstructed_DaTSCAN/2013-02-06_...</td>\n",
       "      <td>26.00</td>\n",
       "      <td>18.333333</td>\n",
       "      <td>17.0</td>\n",
       "      <td>NaN</td>\n",
       "      <td>26.00</td>\n",
       "    </tr>\n",
       "    <tr>\n",
       "      <th>2</th>\n",
       "      <td>2</td>\n",
       "      <td>363956</td>\n",
       "      <td>PD</td>\n",
       "      <td>3870</td>\n",
       "      <td>41</td>\n",
       "      <td>F</td>\n",
       "      <td>./PPMI4/3870/Reconstructed_DaTSCAN/2012-11-29_...</td>\n",
       "      <td>5.50</td>\n",
       "      <td>9.333333</td>\n",
       "      <td>19.0</td>\n",
       "      <td>44.5</td>\n",
       "      <td>5.50</td>\n",
       "    </tr>\n",
       "    <tr>\n",
       "      <th>3</th>\n",
       "      <td>3</td>\n",
       "      <td>419581</td>\n",
       "      <td>PD</td>\n",
       "      <td>3829</td>\n",
       "      <td>68</td>\n",
       "      <td>F</td>\n",
       "      <td>./PPMI/3829/Reconstructed_DaTSCAN/2013-10-01_1...</td>\n",
       "      <td>19.25</td>\n",
       "      <td>15.500000</td>\n",
       "      <td>11.0</td>\n",
       "      <td>25.5</td>\n",
       "      <td>19.25</td>\n",
       "    </tr>\n",
       "    <tr>\n",
       "      <th>4</th>\n",
       "      <td>4</td>\n",
       "      <td>341075</td>\n",
       "      <td>Control</td>\n",
       "      <td>3271</td>\n",
       "      <td>58</td>\n",
       "      <td>M</td>\n",
       "      <td>./PPMI6/3271/Reconstructed_DaTSCAN/2011-09-13_...</td>\n",
       "      <td>2.00</td>\n",
       "      <td>7.000000</td>\n",
       "      <td>NaN</td>\n",
       "      <td>NaN</td>\n",
       "      <td>2.00</td>\n",
       "    </tr>\n",
       "  </tbody>\n",
       "</table>\n",
       "</div>"
      ],
      "text/plain": [
       "   Unnamed: 0  Image Data ID    Group  Subject  Age Sex  \\\n",
       "0           0         360618  Control     3769   71   M   \n",
       "1           1         388617       PD     4122   64   M   \n",
       "2           2         363956       PD     3870   41   F   \n",
       "3           3         419581       PD     3829   68   F   \n",
       "4           4         341075  Control     3271   58   M   \n",
       "\n",
       "                                           Filenames  TOTAL3        1YR   2YR  \\\n",
       "0  ./PPMI6/3769/Reconstructed_DaTSCAN/2012-10-25_...    2.00   0.000000   0.0   \n",
       "1  ./PPMI6/4122/Reconstructed_DaTSCAN/2013-02-06_...   26.00  18.333333  17.0   \n",
       "2  ./PPMI4/3870/Reconstructed_DaTSCAN/2012-11-29_...    5.50   9.333333  19.0   \n",
       "3  ./PPMI/3829/Reconstructed_DaTSCAN/2013-10-01_1...   19.25  15.500000  11.0   \n",
       "4  ./PPMI6/3271/Reconstructed_DaTSCAN/2011-09-13_...    2.00   7.000000   NaN   \n",
       "\n",
       "    3YR  TOTAL3.1  \n",
       "0   0.0      2.00  \n",
       "1   NaN     26.00  \n",
       "2  44.5      5.50  \n",
       "3  25.5     19.25  \n",
       "4   NaN      2.00  "
      ]
     },
     "execution_count": 17,
     "metadata": {},
     "output_type": "execute_result"
    }
   ],
   "source": [
    "up.head()"
   ]
  },
  {
   "cell_type": "code",
   "execution_count": 18,
   "metadata": {},
   "outputs": [],
   "source": [
    "up_df = up[['Image Data ID','TOTAL3','1YR','2YR','3YR']].set_index('Image Data ID')"
   ]
  },
  {
   "cell_type": "code",
   "execution_count": 19,
   "metadata": {},
   "outputs": [],
   "source": [
    "df1to4 = df.join(up_df)"
   ]
  },
  {
   "cell_type": "code",
   "execution_count": 20,
   "metadata": {},
   "outputs": [],
   "source": [
    "df1to4 = df1to4.dropna(axis=0,subset=(['1YR']))"
   ]
  },
  {
   "cell_type": "code",
   "execution_count": 222,
   "metadata": {},
   "outputs": [],
   "source": [
    "df1to4.to_csv('comandfile.csv')"
   ]
  },
  {
   "cell_type": "code",
   "execution_count": 6,
   "metadata": {},
   "outputs": [],
   "source": [
    "df1to4 = pd.read_csv('comandfile.csv')"
   ]
  },
  {
   "cell_type": "code",
   "execution_count": 24,
   "metadata": {},
   "outputs": [],
   "source": [
    "#df1to4 = df1to4[~df1to4.Group.str.contains('Control')]"
   ]
  },
  {
   "cell_type": "code",
   "execution_count": 21,
   "metadata": {},
   "outputs": [],
   "source": [
    "df1to4 = df1to4[~df1to4.TOTAL3.isnull()]"
   ]
  },
  {
   "cell_type": "code",
   "execution_count": 22,
   "metadata": {},
   "outputs": [],
   "source": [
    "df1to4 = df1to4[~df1to4.Filenames.isnull()]"
   ]
  },
  {
   "cell_type": "code",
   "execution_count": 23,
   "metadata": {
    "scrolled": true
   },
   "outputs": [
    {
     "data": {
      "text/plain": [
       "Group        False\n",
       "Subject      False\n",
       "Age          False\n",
       "Sex          False\n",
       "Filenames    False\n",
       "TOTAL3       False\n",
       "1YR          False\n",
       "2YR          False\n",
       "3YR          False\n",
       "dtype: bool"
      ]
     },
     "execution_count": 23,
     "metadata": {},
     "output_type": "execute_result"
    }
   ],
   "source": [
    "df1to4.any().isnull()"
   ]
  },
  {
   "cell_type": "code",
   "execution_count": 24,
   "metadata": {},
   "outputs": [],
   "source": [
    "df1to4.loc[df1to4['Group']=='Control', 'G']=0\n",
    "df1to4.loc[df1to4['Group']=='PD', 'G']=1"
   ]
  },
  {
   "cell_type": "code",
   "execution_count": 25,
   "metadata": {},
   "outputs": [],
   "source": [
    "pro = (df1to4['1YR'].values - df1to4['TOTAL3'].values)\n",
    "progress = []\n",
    "\n",
    "for i in pro:\n",
    "    if i > 2 : progress.append('1')\n",
    "    #elif i < (-2) : progress.append('0')\n",
    "    else : progress.append('0')\n",
    "df1to4['Progress'] = progress\n",
    "df1to4['pro'] = pro\n",
    "del(pro,progress)"
   ]
  },
  {
   "cell_type": "code",
   "execution_count": null,
   "metadata": {},
   "outputs": [],
   "source": []
  },
  {
   "cell_type": "code",
   "execution_count": 26,
   "metadata": {},
   "outputs": [],
   "source": [
    "from sklearn.preprocessing import MinMaxScaler"
   ]
  },
  {
   "cell_type": "code",
   "execution_count": 27,
   "metadata": {},
   "outputs": [],
   "source": [
    "scale3 = MinMaxScaler()"
   ]
  },
  {
   "cell_type": "code",
   "execution_count": 28,
   "metadata": {},
   "outputs": [
    {
     "name": "stdout",
     "output_type": "stream",
     "text": [
      "MinMaxScaler(copy=True, feature_range=(0, 1))\n"
     ]
    }
   ],
   "source": [
    "print(scale3.fit(df1to4['TOTAL3'].values.reshape(-1,1)))"
   ]
  },
  {
   "cell_type": "code",
   "execution_count": 29,
   "metadata": {},
   "outputs": [],
   "source": [
    "df1to4['3scale'] = scale3.transform(df1to4['TOTAL3'].values.reshape(-1,1))"
   ]
  },
  {
   "cell_type": "code",
   "execution_count": 30,
   "metadata": {},
   "outputs": [],
   "source": [
    "del(scale3)"
   ]
  },
  {
   "cell_type": "code",
   "execution_count": 31,
   "metadata": {},
   "outputs": [],
   "source": [
    "from sklearn.model_selection import train_test_split\n",
    "X_train_tmp, X_test_tmp, y_train_tmp, y_test_tmp = train_test_split(df1to4, df1to4['G'], test_size=0.2)\n",
    "\n",
    "from sklearn.model_selection import train_test_split\n",
    "X_train_tmp, X_val_tmp, y_train_tmp, y_val_tmp = train_test_split(X_train_tmp, y_train_tmp, test_size=0.3)"
   ]
  },
  {
   "cell_type": "code",
   "execution_count": 32,
   "metadata": {},
   "outputs": [],
   "source": [
    "lstFilesDCM_train = []  # create an empty list\n",
    "lstFilesDCM_test = []\n",
    "lstFilesDCM_val = []\n",
    "lstFilesDCM_train = X_train_tmp['Filenames'].values\n",
    "lstFilesDCM_train = lstFilesDCM_train.tolist()\n",
    "lstFilesDCM_test = X_test_tmp['Filenames'].values\n",
    "lstFilesDCM_test = lstFilesDCM_test.tolist()\n",
    "lstFilesDCM_val = X_val_tmp['Filenames'].values\n",
    "lstFilesDCM_val = lstFilesDCM_val.tolist()"
   ]
  },
  {
   "cell_type": "markdown",
   "metadata": {},
   "source": [
    "For NORMAL Image"
   ]
  },
  {
   "cell_type": "code",
   "execution_count": 33,
   "metadata": {},
   "outputs": [],
   "source": [
    "#Training Set"
   ]
  },
  {
   "cell_type": "code",
   "execution_count": null,
   "metadata": {},
   "outputs": [],
   "source": []
  },
  {
   "cell_type": "code",
   "execution_count": 34,
   "metadata": {
    "scrolled": true
   },
   "outputs": [
    {
     "data": {
      "text/plain": [
       "(592, 70, 70)"
      ]
     },
     "execution_count": 34,
     "metadata": {},
     "output_type": "execute_result"
    }
   ],
   "source": [
    "# loop through all the DICOM files\n",
    "image_array_train =[]\n",
    "cm= plt.get_cmap('Greys')\n",
    "for filenameDCM in lstFilesDCM_train:\n",
    "    ds = pydicom.read_file(filenameDCM)\n",
    "    ds_3d = (ds.pixel_array[40,20:90,10:80])\n",
    "    ds_3d = np.asarray(ds_3d, dtype='float64')\n",
    "    ds_3d -= -32113\n",
    "    ds_3d /= 64900\n",
    "    image_array_train.append(ds_3d)\n",
    "\n",
    "image_array_train = np.asarray(image_array_train)\n",
    "#image_array_train = image_array_train.transpose(0,3,1,2)\n",
    "image_array_train.shape"
   ]
  },
  {
   "cell_type": "code",
   "execution_count": 35,
   "metadata": {
    "scrolled": true
   },
   "outputs": [
    {
     "data": {
      "text/plain": [
       "<matplotlib.image.AxesImage at 0x1c25ac5908>"
      ]
     },
     "execution_count": 35,
     "metadata": {},
     "output_type": "execute_result"
    },
    {
     "data": {
      "image/png": "[encoded data removed]",
      "text/plain": [
       "<Figure size 432x288 with 1 Axes>"
      ]
     },
     "metadata": {},
     "output_type": "display_data"
    }
   ],
   "source": [
    "plt.imshow(image_array_train[280])"
   ]
  },
  {
   "cell_type": "code",
   "execution_count": 36,
   "metadata": {},
   "outputs": [],
   "source": [
    "image_array_train= image_array_train.astype('float64')"
   ]
  },
  {
   "cell_type": "code",
   "execution_count": 37,
   "metadata": {},
   "outputs": [],
   "source": [
    "#Validation set"
   ]
  },
  {
   "cell_type": "code",
   "execution_count": 38,
   "metadata": {},
   "outputs": [
    {
     "data": {
      "text/plain": [
       "(255, 70, 70)"
      ]
     },
     "execution_count": 38,
     "metadata": {},
     "output_type": "execute_result"
    }
   ],
   "source": [
    "# loop through all the DICOM files\n",
    "\n",
    "image_array_val =[]\n",
    "for filenameDCM in lstFilesDCM_val:\n",
    "    ds = pydicom.read_file(filenameDCM)\n",
    "    ds_3d = (ds.pixel_array[40,20:90,10:80])\n",
    "    ds_3d = np.asarray(ds_3d, dtype='float64')\n",
    "    ds_3d -= -32113\n",
    "    ds_3d /= 64900\n",
    "    image_array_val.append(ds_3d)\n",
    "\n",
    "image_array_val = np.asarray(image_array_val)\n",
    "#image_array_train = image_array_train.transpose(0,3,1,2)\n",
    "image_array_val.shape"
   ]
  },
  {
   "cell_type": "code",
   "execution_count": 39,
   "metadata": {},
   "outputs": [],
   "source": [
    "#Test set"
   ]
  },
  {
   "cell_type": "code",
   "execution_count": 40,
   "metadata": {},
   "outputs": [
    {
     "data": {
      "text/plain": [
       "(212, 70, 70)"
      ]
     },
     "execution_count": 40,
     "metadata": {},
     "output_type": "execute_result"
    }
   ],
   "source": [
    "# loop through all the DICOM files\n",
    "\n",
    "image_array_test =[]\n",
    "for filenameDCM in lstFilesDCM_test:\n",
    "    ds = pydicom.read_file(filenameDCM)\n",
    "    ds_3d = (ds.pixel_array[40,20:90,10:80])\n",
    "    ds_3d = np.asarray(ds_3d, dtype='float64')\n",
    "    ds_3d -= -32113\n",
    "    ds_3d /= 64900\n",
    "    image_array_test.append(ds_3d)\n",
    "\n",
    "image_array_test = np.asarray(image_array_test)\n",
    "\n",
    "image_array_test.shape"
   ]
  },
  {
   "cell_type": "code",
   "execution_count": 41,
   "metadata": {
    "scrolled": true
   },
   "outputs": [
    {
     "data": {
      "text/plain": [
       "['../../../Downloads/PPMISPECT/PPMI9/3900/Reconstructed_DaTSCAN/2013-05-09_14_20_58.0/S202946/PPMI_3900_NM_Reconstructed_DaTSCAN_Br_20140403144758514_1_S202946_I418707.dcm',\n",
       " '../../../Downloads/PPMISPECT/PPMI6/3423/Reconstructed_DaTSCAN/2015-08-06_16_47_01.0/S413748/PPMI_3423_NM_Reconstructed_DaTSCAN_Br_20160425125805321_1_S413748_I693015.dcm',\n",
       " '../../../Downloads/PPMISPECT/PPMI/3060/Reconstructed_DaTSCAN/2015-03-20_14_10_58.0/S257670/PPMI_3060_NM_Reconstructed_DaTSCAN_Br_20150811084919391_1_S257670_I504833.dcm',\n",
       " '../../../Downloads/PPMISPECT/PPMI8/3760/Reconstructed_DaTSCAN/2013-01-23_15_04_53.0/S196764/PPMI_3760_NM_Reconstructed_DaTSCAN_Br_20140402100719449_1_S196764_I418499.dcm',\n",
       " '../../../Downloads/PPMISPECT/PPMI5/3013/Reconstructed_DaTSCAN/2011-10-18_15_30_11.0/S131267/PPMI_3013_NM_Reconstructed_DaTSCAN_Br_20121019114322662_1_S131267_I341200.dcm']"
      ]
     },
     "execution_count": 41,
     "metadata": {},
     "output_type": "execute_result"
    }
   ],
   "source": [
    "#Check matched data-result by Image ID number\n",
    "lstFilesDCM_test[0:5]"
   ]
  },
  {
   "cell_type": "code",
   "execution_count": 42,
   "metadata": {
    "scrolled": false
   },
   "outputs": [
    {
     "data": {
      "text/html": [
       "<div>\n",
       "<style scoped>\n",
       "    .dataframe tbody tr th:only-of-type {\n",
       "        vertical-align: middle;\n",
       "    }\n",
       "\n",
       "    .dataframe tbody tr th {\n",
       "        vertical-align: top;\n",
       "    }\n",
       "\n",
       "    .dataframe thead th {\n",
       "        text-align: right;\n",
       "    }\n",
       "</style>\n",
       "<table border=\"1\" class=\"dataframe\">\n",
       "  <thead>\n",
       "    <tr style=\"text-align: right;\">\n",
       "      <th></th>\n",
       "      <th>Group</th>\n",
       "      <th>Subject</th>\n",
       "      <th>Age</th>\n",
       "      <th>Sex</th>\n",
       "      <th>Filenames</th>\n",
       "      <th>TOTAL3</th>\n",
       "      <th>1YR</th>\n",
       "      <th>2YR</th>\n",
       "      <th>3YR</th>\n",
       "      <th>G</th>\n",
       "      <th>Progress</th>\n",
       "      <th>pro</th>\n",
       "      <th>3scale</th>\n",
       "    </tr>\n",
       "    <tr>\n",
       "      <th>Image Data ID</th>\n",
       "      <th></th>\n",
       "      <th></th>\n",
       "      <th></th>\n",
       "      <th></th>\n",
       "      <th></th>\n",
       "      <th></th>\n",
       "      <th></th>\n",
       "      <th></th>\n",
       "      <th></th>\n",
       "      <th></th>\n",
       "      <th></th>\n",
       "      <th></th>\n",
       "      <th></th>\n",
       "    </tr>\n",
       "  </thead>\n",
       "  <tbody>\n",
       "    <tr>\n",
       "      <th>418707</th>\n",
       "      <td>PD</td>\n",
       "      <td>3900</td>\n",
       "      <td>73</td>\n",
       "      <td>M</td>\n",
       "      <td>../../../Downloads/PPMISPECT/PPMI9/3900/Recons...</td>\n",
       "      <td>22.25</td>\n",
       "      <td>29.5</td>\n",
       "      <td>27.000000</td>\n",
       "      <td>30.0</td>\n",
       "      <td>1.0</td>\n",
       "      <td>1</td>\n",
       "      <td>7.25</td>\n",
       "      <td>0.380342</td>\n",
       "    </tr>\n",
       "    <tr>\n",
       "      <th>693015</th>\n",
       "      <td>PD</td>\n",
       "      <td>3423</td>\n",
       "      <td>74</td>\n",
       "      <td>M</td>\n",
       "      <td>../../../Downloads/PPMISPECT/PPMI6/3423/Recons...</td>\n",
       "      <td>35.50</td>\n",
       "      <td>40.5</td>\n",
       "      <td>54.000000</td>\n",
       "      <td>NaN</td>\n",
       "      <td>1.0</td>\n",
       "      <td>1</td>\n",
       "      <td>5.00</td>\n",
       "      <td>0.606838</td>\n",
       "    </tr>\n",
       "    <tr>\n",
       "      <th>504833</th>\n",
       "      <td>PD</td>\n",
       "      <td>3060</td>\n",
       "      <td>79</td>\n",
       "      <td>M</td>\n",
       "      <td>../../../Downloads/PPMISPECT/PPMI/3060/Reconst...</td>\n",
       "      <td>14.00</td>\n",
       "      <td>17.0</td>\n",
       "      <td>23.000000</td>\n",
       "      <td>36.0</td>\n",
       "      <td>1.0</td>\n",
       "      <td>1</td>\n",
       "      <td>3.00</td>\n",
       "      <td>0.239316</td>\n",
       "    </tr>\n",
       "    <tr>\n",
       "      <th>418499</th>\n",
       "      <td>PD</td>\n",
       "      <td>3760</td>\n",
       "      <td>70</td>\n",
       "      <td>M</td>\n",
       "      <td>../../../Downloads/PPMISPECT/PPMI8/3760/Recons...</td>\n",
       "      <td>31.50</td>\n",
       "      <td>41.0</td>\n",
       "      <td>36.333333</td>\n",
       "      <td>33.0</td>\n",
       "      <td>1.0</td>\n",
       "      <td>1</td>\n",
       "      <td>9.50</td>\n",
       "      <td>0.538462</td>\n",
       "    </tr>\n",
       "    <tr>\n",
       "      <th>341200</th>\n",
       "      <td>Control</td>\n",
       "      <td>3013</td>\n",
       "      <td>79</td>\n",
       "      <td>F</td>\n",
       "      <td>../../../Downloads/PPMISPECT/PPMI5/3013/Recons...</td>\n",
       "      <td>9.00</td>\n",
       "      <td>7.0</td>\n",
       "      <td>NaN</td>\n",
       "      <td>11.0</td>\n",
       "      <td>0.0</td>\n",
       "      <td>0</td>\n",
       "      <td>-2.00</td>\n",
       "      <td>0.153846</td>\n",
       "    </tr>\n",
       "  </tbody>\n",
       "</table>\n",
       "</div>"
      ],
      "text/plain": [
       "                 Group  Subject  Age Sex  \\\n",
       "Image Data ID                              \n",
       "418707              PD     3900   73   M   \n",
       "693015              PD     3423   74   M   \n",
       "504833              PD     3060   79   M   \n",
       "418499              PD     3760   70   M   \n",
       "341200         Control     3013   79   F   \n",
       "\n",
       "                                                       Filenames  TOTAL3  \\\n",
       "Image Data ID                                                              \n",
       "418707         ../../../Downloads/PPMISPECT/PPMI9/3900/Recons...   22.25   \n",
       "693015         ../../../Downloads/PPMISPECT/PPMI6/3423/Recons...   35.50   \n",
       "504833         ../../../Downloads/PPMISPECT/PPMI/3060/Reconst...   14.00   \n",
       "418499         ../../../Downloads/PPMISPECT/PPMI8/3760/Recons...   31.50   \n",
       "341200         ../../../Downloads/PPMISPECT/PPMI5/3013/Recons...    9.00   \n",
       "\n",
       "                1YR        2YR   3YR    G Progress   pro    3scale  \n",
       "Image Data ID                                                       \n",
       "418707         29.5  27.000000  30.0  1.0        1  7.25  0.380342  \n",
       "693015         40.5  54.000000   NaN  1.0        1  5.00  0.606838  \n",
       "504833         17.0  23.000000  36.0  1.0        1  3.00  0.239316  \n",
       "418499         41.0  36.333333  33.0  1.0        1  9.50  0.538462  \n",
       "341200          7.0        NaN  11.0  0.0        0 -2.00  0.153846  "
      ]
     },
     "execution_count": 42,
     "metadata": {},
     "output_type": "execute_result"
    }
   ],
   "source": [
    "X_test_tmp[0:5]"
   ]
  },
  {
   "cell_type": "code",
   "execution_count": 43,
   "metadata": {
    "scrolled": true
   },
   "outputs": [],
   "source": [
    "y_train = np.asarray(y_train_tmp.values)\n",
    "y_train = y_train.astype('float64')\n",
    "y_val = np.asarray(y_val_tmp.values)\n",
    "y_val = y_val.astype('float64')\n",
    "y_test = np.asarray(y_test_tmp.values)\n",
    "y_test = y_test.astype('float64')"
   ]
  },
  {
   "cell_type": "code",
   "execution_count": 44,
   "metadata": {},
   "outputs": [
    {
     "data": {
      "text/plain": [
       "((592,), (255,), (212,))"
      ]
     },
     "execution_count": 44,
     "metadata": {},
     "output_type": "execute_result"
    }
   ],
   "source": [
    "y_train.shape,y_val.shape,y_test.shape"
   ]
  },
  {
   "cell_type": "code",
   "execution_count": 167,
   "metadata": {},
   "outputs": [],
   "source": []
  },
  {
   "cell_type": "code",
   "execution_count": 49,
   "metadata": {},
   "outputs": [
    {
     "ename": "NameError",
     "evalue": "name 'param_train_tmp' is not defined",
     "output_type": "error",
     "traceback": [
      "\u001b[0;31m---------------------------------------------------------------------------\u001b[0m",
      "\u001b[0;31mNameError\u001b[0m                                 Traceback (most recent call last)",
      "\u001b[0;32m<ipython-input-49-14cce010d33b>\u001b[0m in \u001b[0;36m<module>\u001b[0;34m()\u001b[0m\n\u001b[0;32m----> 1\u001b[0;31m \u001b[0mparam_train\u001b[0m \u001b[0;34m=\u001b[0m \u001b[0mparam_train_tmp\u001b[0m\u001b[0;34m.\u001b[0m\u001b[0mvalues\u001b[0m\u001b[0;34m\u001b[0m\u001b[0m\n\u001b[0m\u001b[1;32m      2\u001b[0m \u001b[0mparams\u001b[0m \u001b[0;34m=\u001b[0m \u001b[0;34m[\u001b[0m\u001b[0;34m]\u001b[0m\u001b[0;34m\u001b[0m\u001b[0m\n\u001b[1;32m      3\u001b[0m \u001b[0;32mfor\u001b[0m \u001b[0mi\u001b[0m \u001b[0;32min\u001b[0m \u001b[0mparam_train\u001b[0m\u001b[0;34m:\u001b[0m\u001b[0;34m\u001b[0m\u001b[0m\n\u001b[1;32m      4\u001b[0m     \u001b[0;31m#stack = []\u001b[0m\u001b[0;34m\u001b[0m\u001b[0;34m\u001b[0m\u001b[0m\n\u001b[1;32m      5\u001b[0m     \u001b[0;31m#stack.append(i)\u001b[0m\u001b[0;34m\u001b[0m\u001b[0;34m\u001b[0m\u001b[0m\n",
      "\u001b[0;31mNameError\u001b[0m: name 'param_train_tmp' is not defined"
     ]
    }
   ],
   "source": [
    "param_train = param_train_tmp.values\n",
    "params = []\n",
    "for i in param_train:\n",
    "    #stack = []\n",
    "    #stack.append(i)\n",
    "    #stack = stack*10\n",
    "    params.append(i)\n",
    "param_train = np.asarray(params)\n",
    "del(params)"
   ]
  },
  {
   "cell_type": "code",
   "execution_count": 32,
   "metadata": {},
   "outputs": [],
   "source": [
    "param_val = param_val_tmp.values\n",
    "params = []\n",
    "for i in param_val:\n",
    "    stack = []\n",
    "    stack.append(i)\n",
    "    stack = stack*10\n",
    "    params.append(stack)\n",
    "param_val = np.asarray(params)\n",
    "del(params)\n",
    "\n",
    "param_test = param_test_tmp.values\n",
    "params = []\n",
    "for i in param_test:\n",
    "    stack = []\n",
    "    stack.append(i)\n",
    "    stack = stack*10\n",
    "    params.append(stack)\n",
    "param_test = np.asarray(params)\n",
    "del(params)"
   ]
  },
  {
   "cell_type": "code",
   "execution_count": null,
   "metadata": {},
   "outputs": [],
   "source": []
  },
  {
   "cell_type": "code",
   "execution_count": 33,
   "metadata": {},
   "outputs": [
    {
     "data": {
      "text/plain": [
       "(685, 10, 3)"
      ]
     },
     "execution_count": 33,
     "metadata": {},
     "output_type": "execute_result"
    }
   ],
   "source": [
    "param_train.shape"
   ]
  },
  {
   "cell_type": "markdown",
   "metadata": {},
   "source": [
    "#### Pretrained Resnet"
   ]
  },
  {
   "cell_type": "code",
   "execution_count": 347,
   "metadata": {},
   "outputs": [],
   "source": [
    "class  ConvWithMeta(nn.Module):\n",
    "    def __init__(self):\n",
    "        super(ConvWithMeta, self).__init__()\n",
    "        head_layer = [nn.Conv2d(1, 3, kernel_size=1, bias=False, stride=1, padding=0)]\n",
    "        self.head_layer = nn.Sequential(*head_layer)\n",
    "        resnet_layers = list(resnet34(True).children())[:8]\n",
    "        self.features = nn.Sequential(*resnet_layers)\n",
    "        for param in self.features.parameters():\n",
    "            param.requires_grad = False\n",
    "        self.bns = nn.ModuleList([nn.BatchNorm1d(512), nn.BatchNorm1d(512), nn.BatchNorm1d(256)])\n",
    "        self.lins = nn.ModuleList([nn.Linear(512,512), nn.Linear(512,256), nn.Linear(256, 1)])\n",
    "        for o in self.lins: kaiming_normal(o.weight.data)\n",
    "        self.fc_model1 = nn.Sequential(*self.fc_layers1())\n",
    "        self.fc_model2 = nn.Sequential(*self.fc_layers2())\n",
    "        \n",
    "    def fc_layers1(self):\n",
    "        return [self.bns[0], nn.Dropout(0.1), self.lins[0], nn.LeakyReLU()]\n",
    "    \n",
    "    def fc_layers2(self):\n",
    "        return [self.bns[1], nn.Dropout(0.1), self.lins[1], nn.LeakyReLU(), \n",
    "                self.bns[2], nn.Dropout(0.1), self.lins[2]] \n",
    "        \n",
    "    def forward(self, x):\n",
    "        x=x.unsqueeze(1)\n",
    "        x = self.head_layer(x)           \n",
    "        x = self.features(x)\n",
    "        x = nn.AdaptiveAvgPool2d(1)(x)\n",
    "\n",
    "        out = x.squeeze()\n",
    "        out = self.fc_model1(out)\n",
    "        out = self.fc_model2(out)\n",
    "        return F.sigmoid(out.squeeze())\n"
   ]
  },
  {
   "cell_type": "code",
   "execution_count": 351,
   "metadata": {},
   "outputs": [
    {
     "data": {
      "text/plain": [
       "Sequential(\n",
       "  (0): Bottleneck(\n",
       "    (conv1): Conv2d(1024, 512, kernel_size=(1, 1), stride=(1, 1), bias=False)\n",
       "    (bn1): BatchNorm2d(512, eps=1e-05, momentum=0.1, affine=True, track_running_stats=True)\n",
       "    (conv2): Conv2d(512, 512, kernel_size=(3, 3), stride=(2, 2), padding=(1, 1), bias=False)\n",
       "    (bn2): BatchNorm2d(512, eps=1e-05, momentum=0.1, affine=True, track_running_stats=True)\n",
       "    (conv3): Conv2d(512, 2048, kernel_size=(1, 1), stride=(1, 1), bias=False)\n",
       "    (bn3): BatchNorm2d(2048, eps=1e-05, momentum=0.1, affine=True, track_running_stats=True)\n",
       "    (relu): ReLU(inplace)\n",
       "    (downsample): Sequential(\n",
       "      (0): Conv2d(1024, 2048, kernel_size=(1, 1), stride=(2, 2), bias=False)\n",
       "      (1): BatchNorm2d(2048, eps=1e-05, momentum=0.1, affine=True, track_running_stats=True)\n",
       "    )\n",
       "  )\n",
       "  (1): Bottleneck(\n",
       "    (conv1): Conv2d(2048, 512, kernel_size=(1, 1), stride=(1, 1), bias=False)\n",
       "    (bn1): BatchNorm2d(512, eps=1e-05, momentum=0.1, affine=True, track_running_stats=True)\n",
       "    (conv2): Conv2d(512, 512, kernel_size=(3, 3), stride=(1, 1), padding=(1, 1), bias=False)\n",
       "    (bn2): BatchNorm2d(512, eps=1e-05, momentum=0.1, affine=True, track_running_stats=True)\n",
       "    (conv3): Conv2d(512, 2048, kernel_size=(1, 1), stride=(1, 1), bias=False)\n",
       "    (bn3): BatchNorm2d(2048, eps=1e-05, momentum=0.1, affine=True, track_running_stats=True)\n",
       "    (relu): ReLU(inplace)\n",
       "  )\n",
       "  (2): Bottleneck(\n",
       "    (conv1): Conv2d(2048, 512, kernel_size=(1, 1), stride=(1, 1), bias=False)\n",
       "    (bn1): BatchNorm2d(512, eps=1e-05, momentum=0.1, affine=True, track_running_stats=True)\n",
       "    (conv2): Conv2d(512, 512, kernel_size=(3, 3), stride=(1, 1), padding=(1, 1), bias=False)\n",
       "    (bn2): BatchNorm2d(512, eps=1e-05, momentum=0.1, affine=True, track_running_stats=True)\n",
       "    (conv3): Conv2d(512, 2048, kernel_size=(1, 1), stride=(1, 1), bias=False)\n",
       "    (bn3): BatchNorm2d(2048, eps=1e-05, momentum=0.1, affine=True, track_running_stats=True)\n",
       "    (relu): ReLU(inplace)\n",
       "  )\n",
       ")"
      ]
     },
     "execution_count": 351,
     "metadata": {},
     "output_type": "execute_result"
    }
   ],
   "source": [
    "list(resnet50(True).children())[7]"
   ]
  },
  {
   "cell_type": "code",
   "execution_count": 352,
   "metadata": {},
   "outputs": [],
   "source": [
    "class MetaModel(BasicModel):\n",
    "    def get_layer_groups(self):\n",
    "        m=self.model\n",
    "        return m"
   ]
  },
  {
   "cell_type": "code",
   "execution_count": 353,
   "metadata": {},
   "outputs": [],
   "source": [
    "class  MetaLearner(Learner):\n",
    "    def __init__(self, data, models, **kwargs):\n",
    "        super().__init__(data, models, **kwargs)\n",
    "        self.crit = F.binary_cross_entropy"
   ]
  },
  {
   "cell_type": "code",
   "execution_count": 354,
   "metadata": {},
   "outputs": [],
   "source": [
    "class MetaArraysDataset(BaseDataset):\n",
    "    def __init__(self, x,y, transform, path):\n",
    "        self.path = path\n",
    "        self.x,self.y= x, y\n",
    "        assert(len(x)==len(y))\n",
    "        super().__init__(transform)\n",
    "        \n",
    "    def __getitem__(self, idx):\n",
    "        \"\"\" This function should return a list.\n",
    "        \"\"\"\n",
    "        x = self.get_x(idx)\n",
    "        y = self.get_y(idx)\n",
    "        return self.get(self.transform, x, y)\n",
    "   \n",
    "    def get(self, tfm, x, y):\n",
    "        if tfm is None:\n",
    "            return [x, y] \n",
    "        x,y = tfm(x,y)\n",
    "        return [x,y]\n",
    "    def get_c(self): return int(self.y.max())+1\n",
    "    def get_x(self, i): return self.x[i]\n",
    "    def get_y(self, i): return self.y[i]\n",
    "    def get_n(self): return len(self.y)\n",
    "    def get_sz(self): return self.x.shape[1]"
   ]
  },
  {
   "cell_type": "code",
   "execution_count": 355,
   "metadata": {},
   "outputs": [],
   "source": [
    "bs=64; sz=70\n",
    "#f_model = resnet34"
   ]
  },
  {
   "cell_type": "code",
   "execution_count": 356,
   "metadata": {},
   "outputs": [],
   "source": [
    "USE_GPU=False"
   ]
  },
  {
   "cell_type": "code",
   "execution_count": 357,
   "metadata": {},
   "outputs": [],
   "source": [
    "class ModelMetaData(ImageClassifierData):\n",
    "    \n",
    "    @classmethod\n",
    "    def get_ds(self, fn, trn, val, tfms, path, test=None):\n",
    "        res = [\n",
    "            fn(trn[0], trn[1],tfms[0], path), # train\n",
    "            fn(val[0], val[1],tfms[1], path), # val\n",
    "            fn(trn[0], trn[1],tfms[1], path), # fix\n",
    "            fn(val[0], val[1],tfms[0], path)  # aug\n",
    "        ]\n",
    "        if test:\n",
    "            test_lbls = np.zeros((len(test),1))\n",
    "            res += [\n",
    "                fn(test[0], test[1],tfms[1], path), # test\n",
    "                fn(test[0], test[1] ,tfms[0], path)  # test_aug\n",
    "            ]\n",
    "        else: res += [None,None]\n",
    "        return res\n",
    "    \n",
    "    @classmethod\n",
    "    def from_csv(self, path, folder, csv_fname, bs=bs, tfms=(None,None),val_idxs=None, \n",
    "                 suffix='', test_name=None, skip_header=True, num_workers=4):\n",
    "        fnames,x2,y = csv_source2(folder, csv_fname, skip_header, suffix)\n",
    "        ((val_fnames, trn_fnames), (val_x2, trn_x2), (val_y,trn_y)) = split_by_idx(val_idxs, np.array(fnames), x2, y)\n",
    "\n",
    "        test_fnames = read_dir(path, test_name) if test_name else None\n",
    "        datasets = self.get_ds(MetaDataset, (trn_fnames,trn_x2,trn_y), (val_fnames,val_x2,val_y),tfms=tfms, path=path)\n",
    "        return self(path, datasets, bs, num_workers, classes=1)\n",
    "    \n",
    "    @classmethod\n",
    "    def from_arrays(self, path, trn, val, test, bs=bs, tfms=(None,None), classes=None, num_workers=4):\n",
    "        trn_x , val_x = trn[0],val[0]\n",
    "        trn_y , val_y = trn[1],val[1]\n",
    "        test_x, test_y= test[0],test[1]\n",
    "        datasets = self.get_ds(MetaArraysDataset, (trn_x,trn_y), (val_x,val_y) ,test=(test_x,test_y) ,tfms=tfms,path=path)\n",
    "        return self(path, datasets, bs, num_workers, classes=classes)\n",
    "    \n",
    "        \n",
    "    def get_learner(self):\n",
    "        model = ConvWithMeta()\n",
    "        #model = Darknet([1,2,4,6,3], num_classes=1, nf=32)\n",
    "        device = torch.device(\"cuda:0\" if torch.cuda.is_available() else \"cpu\")\n",
    "        #m = nn.DataParallel(m, [1,2,3])\n",
    "        return MetaLearner(self, MetaModel(model.to(device)), opt_fn=optim.Adam)"
   ]
  },
  {
   "cell_type": "code",
   "execution_count": 358,
   "metadata": {
    "scrolled": true
   },
   "outputs": [],
   "source": [
    "data = ModelMetaData.from_arrays('.', trn=(image_array_train,y_train)\n",
    "                                 ,val=(image_array_val,y_val)\n",
    "                                ,test=(image_array_test,y_test))"
   ]
  },
  {
   "cell_type": "code",
   "execution_count": 359,
   "metadata": {
    "scrolled": true
   },
   "outputs": [],
   "source": [
    "learner = data.get_learner()\n"
   ]
  },
  {
   "cell_type": "code",
   "execution_count": 316,
   "metadata": {},
   "outputs": [],
   "source": [
    "learner.load('test_sf_2d')"
   ]
  },
  {
   "cell_type": "code",
   "execution_count": 132,
   "metadata": {
    "scrolled": true
   },
   "outputs": [
    {
     "data": {
      "application/vnd.jupyter.widget-view+json": {
       "model_id": "a43dd7c2d10e48a281428571d95674fc",
       "version_major": 2,
       "version_minor": 0
      },
      "text/plain": [
       "HBox(children=(IntProgress(value=0, description='Epoch', max=1), HTML(value='')))"
      ]
     },
     "metadata": {},
     "output_type": "display_data"
    },
    {
     "name": "stdout",
     "output_type": "stream",
     "text": [
      "epoch      trn_loss   val_loss                             \n",
      "    0      2.377981   24.394949 \n"
     ]
    }
   ],
   "source": [
    "learner.lr_find()"
   ]
  },
  {
   "cell_type": "code",
   "execution_count": 133,
   "metadata": {},
   "outputs": [
    {
     "data": {
      "image/png": "[encoded data removed]",
      "text/plain": [
       "<Figure size 432x288 with 1 Axes>"
      ]
     },
     "metadata": {},
     "output_type": "display_data"
    }
   ],
   "source": [
    "learner.sched.plot()"
   ]
  },
  {
   "cell_type": "code",
   "execution_count": 360,
   "metadata": {
    "scrolled": true
   },
   "outputs": [
    {
     "data": {
      "application/vnd.jupyter.widget-view+json": {
       "model_id": "28bf56627f9f4ae9bace55955c957c13",
       "version_major": 2,
       "version_minor": 0
      },
      "text/plain": [
       "HBox(children=(IntProgress(value=0, description='Epoch', max=1), HTML(value='')))"
      ]
     },
     "metadata": {},
     "output_type": "display_data"
    },
    {
     "name": "stdout",
     "output_type": "stream",
     "text": [
      "epoch      trn_loss   val_loss                            \n",
      "    0      0.688175   0.679731  \n"
     ]
    },
    {
     "data": {
      "application/vnd.jupyter.widget-view+json": {
       "model_id": "e1b1042ab3bb4e5ab68c5fcb0231126d",
       "version_major": 2,
       "version_minor": 0
      },
      "text/plain": [
       "HBox(children=(IntProgress(value=0, description='Epoch', max=1), HTML(value='')))"
      ]
     },
     "metadata": {},
     "output_type": "display_data"
    },
    {
     "name": "stdout",
     "output_type": "stream",
     "text": [
      "epoch      trn_loss   val_loss                            \n",
      "    0      0.617879   0.534199  \n"
     ]
    },
    {
     "data": {
      "application/vnd.jupyter.widget-view+json": {
       "model_id": "a6ff54e90f4c44a1b8989cf34d578f4c",
       "version_major": 2,
       "version_minor": 0
      },
      "text/plain": [
       "HBox(children=(IntProgress(value=0, description='Epoch', max=1), HTML(value='')))"
      ]
     },
     "metadata": {},
     "output_type": "display_data"
    },
    {
     "name": "stdout",
     "output_type": "stream",
     "text": [
      "epoch      trn_loss   val_loss                            \n",
      "    0      0.404703   0.28973   \n"
     ]
    },
    {
     "data": {
      "application/vnd.jupyter.widget-view+json": {
       "model_id": "ec0b60ac40d644da94878a9b8dde718b",
       "version_major": 2,
       "version_minor": 0
      },
      "text/plain": [
       "HBox(children=(IntProgress(value=0, description='Epoch', max=1), HTML(value='')))"
      ]
     },
     "metadata": {},
     "output_type": "display_data"
    },
    {
     "name": "stdout",
     "output_type": "stream",
     "text": [
      "epoch      trn_loss   val_loss                            \n",
      "    0      0.344962   0.288154  \n"
     ]
    },
    {
     "data": {
      "application/vnd.jupyter.widget-view+json": {
       "model_id": "f7974b1bd6f84cfab83057a818f9e972",
       "version_major": 2,
       "version_minor": 0
      },
      "text/plain": [
       "HBox(children=(IntProgress(value=0, description='Epoch', max=1), HTML(value='')))"
      ]
     },
     "metadata": {},
     "output_type": "display_data"
    },
    {
     "name": "stdout",
     "output_type": "stream",
     "text": [
      "epoch      trn_loss   val_loss                            \n",
      "    0      0.313536   0.276522  \n"
     ]
    },
    {
     "data": {
      "application/vnd.jupyter.widget-view+json": {
       "model_id": "7f8a714545e646dda7439359db37df2b",
       "version_major": 2,
       "version_minor": 0
      },
      "text/plain": [
       "HBox(children=(IntProgress(value=0, description='Epoch', max=1), HTML(value='')))"
      ]
     },
     "metadata": {},
     "output_type": "display_data"
    },
    {
     "name": "stdout",
     "output_type": "stream",
     "text": [
      "epoch      trn_loss   val_loss                            \n",
      "    0      0.262827   0.181331  \n"
     ]
    }
   ],
   "source": [
    "for j in range(2):\n",
    "    for i in [1e-5,1e-4,1e-3]:\n",
    "        learner.fit(i,1)"
   ]
  },
  {
   "cell_type": "code",
   "execution_count": 124,
   "metadata": {
    "scrolled": false
   },
   "outputs": [
    {
     "data": {
      "application/vnd.jupyter.widget-view+json": {
       "model_id": "e9f458877ec643599f48bf847c480967",
       "version_major": 2,
       "version_minor": 0
      },
      "text/plain": [
       "HBox(children=(IntProgress(value=0, description='Epoch', max=3), HTML(value='')))"
      ]
     },
     "metadata": {},
     "output_type": "display_data"
    },
    {
     "name": "stdout",
     "output_type": "stream",
     "text": [
      "epoch      trn_loss   val_loss                             \n",
      "    0      0.647332   0.32816   \n",
      "    1      0.539012   0.35127                              \n",
      "    2      0.467107   0.328269                            \n"
     ]
    },
    {
     "data": {
      "text/plain": [
       "[0.3282691412112292]"
      ]
     },
     "execution_count": 124,
     "metadata": {},
     "output_type": "execute_result"
    }
   ],
   "source": [
    "learner.fit(1e-3,3)"
   ]
  },
  {
   "cell_type": "code",
   "execution_count": 128,
   "metadata": {
    "scrolled": false
   },
   "outputs": [
    {
     "data": {
      "application/vnd.jupyter.widget-view+json": {
       "model_id": "bffdaa8b266846d587cf5d7bea3cac34",
       "version_major": 2,
       "version_minor": 0
      },
      "text/plain": [
       "HBox(children=(IntProgress(value=0, description='Epoch', max=8), HTML(value='')))"
      ]
     },
     "metadata": {},
     "output_type": "display_data"
    },
    {
     "name": "stdout",
     "output_type": "stream",
     "text": [
      "epoch      trn_loss   val_loss                             \n",
      "    0      0.142963   0.082768  \n",
      "    1      0.114761   0.113857                             \n",
      "    2      0.096015   0.103218                             \n",
      "    3      0.087097   0.088124                              \n",
      "    4      0.077037   0.105128                             \n",
      "    5      0.07329    0.131911                              \n",
      "    6      0.068551   0.087037                              \n",
      "  0%|          | 0/10 [00:00<?, ?it/s]"
     ]
    },
    {
     "ename": "KeyboardInterrupt",
     "evalue": "",
     "output_type": "error",
     "traceback": [
      "\u001b[0;31m---------------------------------------------------------------------------\u001b[0m",
      "\u001b[0;31mKeyboardInterrupt\u001b[0m                         Traceback (most recent call last)",
      "\u001b[0;32m<ipython-input-128-e11b45575f72>\u001b[0m in \u001b[0;36m<module>\u001b[0;34m()\u001b[0m\n\u001b[0;32m----> 1\u001b[0;31m learner.fit(3e-4,8\n\u001b[0m\u001b[1;32m      2\u001b[0m            )\n",
      "\u001b[0;32m~/Desktop/PPMI/PPMI/fastai/learner.py\u001b[0m in \u001b[0;36mfit\u001b[0;34m(self, lrs, n_cycle, wds, **kwargs)\u001b[0m\n\u001b[1;32m    296\u001b[0m         \u001b[0mself\u001b[0m\u001b[0;34m.\u001b[0m\u001b[0msched\u001b[0m \u001b[0;34m=\u001b[0m \u001b[0;32mNone\u001b[0m\u001b[0;34m\u001b[0m\u001b[0m\n\u001b[1;32m    297\u001b[0m         \u001b[0mlayer_opt\u001b[0m \u001b[0;34m=\u001b[0m \u001b[0mself\u001b[0m\u001b[0;34m.\u001b[0m\u001b[0mget_layer_opt\u001b[0m\u001b[0;34m(\u001b[0m\u001b[0mlrs\u001b[0m\u001b[0;34m,\u001b[0m \u001b[0mwds\u001b[0m\u001b[0;34m)\u001b[0m\u001b[0;34m\u001b[0m\u001b[0m\n\u001b[0;32m--> 298\u001b[0;31m         \u001b[0;32mreturn\u001b[0m \u001b[0mself\u001b[0m\u001b[0;34m.\u001b[0m\u001b[0mfit_gen\u001b[0m\u001b[0;34m(\u001b[0m\u001b[0mself\u001b[0m\u001b[0;34m.\u001b[0m\u001b[0mmodel\u001b[0m\u001b[0;34m,\u001b[0m \u001b[0mself\u001b[0m\u001b[0;34m.\u001b[0m\u001b[0mdata\u001b[0m\u001b[0;34m,\u001b[0m \u001b[0mlayer_opt\u001b[0m\u001b[0;34m,\u001b[0m \u001b[0mn_cycle\u001b[0m\u001b[0;34m,\u001b[0m \u001b[0;34m**\u001b[0m\u001b[0mkwargs\u001b[0m\u001b[0;34m)\u001b[0m\u001b[0;34m\u001b[0m\u001b[0m\n\u001b[0m\u001b[1;32m    299\u001b[0m \u001b[0;34m\u001b[0m\u001b[0m\n\u001b[1;32m    300\u001b[0m     \u001b[0;32mdef\u001b[0m \u001b[0mwarm_up\u001b[0m\u001b[0;34m(\u001b[0m\u001b[0mself\u001b[0m\u001b[0;34m,\u001b[0m \u001b[0mlr\u001b[0m\u001b[0;34m,\u001b[0m \u001b[0mwds\u001b[0m\u001b[0;34m=\u001b[0m\u001b[0;32mNone\u001b[0m\u001b[0;34m)\u001b[0m\u001b[0;34m:\u001b[0m\u001b[0;34m\u001b[0m\u001b[0m\n",
      "\u001b[0;32m~/Desktop/PPMI/PPMI/fastai/learner.py\u001b[0m in \u001b[0;36mfit_gen\u001b[0;34m(self, model, data, layer_opt, n_cycle, cycle_len, cycle_mult, cycle_save_name, best_save_name, use_clr, use_clr_beta, metrics, callbacks, use_wd_sched, norm_wds, wds_sched_mult, use_swa, swa_start, swa_eval_freq, **kwargs)\u001b[0m\n\u001b[1;32m    243\u001b[0m             \u001b[0mmetrics\u001b[0m\u001b[0;34m=\u001b[0m\u001b[0mmetrics\u001b[0m\u001b[0;34m,\u001b[0m \u001b[0mcallbacks\u001b[0m\u001b[0;34m=\u001b[0m\u001b[0mcallbacks\u001b[0m\u001b[0;34m,\u001b[0m \u001b[0mreg_fn\u001b[0m\u001b[0;34m=\u001b[0m\u001b[0mself\u001b[0m\u001b[0;34m.\u001b[0m\u001b[0mreg_fn\u001b[0m\u001b[0;34m,\u001b[0m \u001b[0mclip\u001b[0m\u001b[0;34m=\u001b[0m\u001b[0mself\u001b[0m\u001b[0;34m.\u001b[0m\u001b[0mclip\u001b[0m\u001b[0;34m,\u001b[0m \u001b[0mfp16\u001b[0m\u001b[0;34m=\u001b[0m\u001b[0mself\u001b[0m\u001b[0;34m.\u001b[0m\u001b[0mfp16\u001b[0m\u001b[0;34m,\u001b[0m\u001b[0;34m\u001b[0m\u001b[0m\n\u001b[1;32m    244\u001b[0m             \u001b[0mswa_model\u001b[0m\u001b[0;34m=\u001b[0m\u001b[0mself\u001b[0m\u001b[0;34m.\u001b[0m\u001b[0mswa_model\u001b[0m \u001b[0;32mif\u001b[0m \u001b[0muse_swa\u001b[0m \u001b[0;32melse\u001b[0m \u001b[0;32mNone\u001b[0m\u001b[0;34m,\u001b[0m \u001b[0mswa_start\u001b[0m\u001b[0;34m=\u001b[0m\u001b[0mswa_start\u001b[0m\u001b[0;34m,\u001b[0m\u001b[0;34m\u001b[0m\u001b[0m\n\u001b[0;32m--> 245\u001b[0;31m             swa_eval_freq=swa_eval_freq, **kwargs)\n\u001b[0m\u001b[1;32m    246\u001b[0m \u001b[0;34m\u001b[0m\u001b[0m\n\u001b[1;32m    247\u001b[0m     \u001b[0;32mdef\u001b[0m \u001b[0mget_layer_groups\u001b[0m\u001b[0;34m(\u001b[0m\u001b[0mself\u001b[0m\u001b[0;34m)\u001b[0m\u001b[0;34m:\u001b[0m \u001b[0;32mreturn\u001b[0m \u001b[0mself\u001b[0m\u001b[0;34m.\u001b[0m\u001b[0mmodels\u001b[0m\u001b[0;34m.\u001b[0m\u001b[0mget_layer_groups\u001b[0m\u001b[0;34m(\u001b[0m\u001b[0;34m)\u001b[0m\u001b[0;34m\u001b[0m\u001b[0m\n",
      "\u001b[0;32m~/Desktop/PPMI/PPMI/fastai/model.py\u001b[0m in \u001b[0;36mfit\u001b[0;34m(model, data, n_epochs, opt, crit, metrics, callbacks, stepper, swa_model, swa_start, swa_eval_freq, visualize, **kwargs)\u001b[0m\n\u001b[1;32m    138\u001b[0m             \u001b[0mbatch_num\u001b[0m \u001b[0;34m+=\u001b[0m \u001b[0;36m1\u001b[0m\u001b[0;34m\u001b[0m\u001b[0m\n\u001b[1;32m    139\u001b[0m             \u001b[0;32mfor\u001b[0m \u001b[0mcb\u001b[0m \u001b[0;32min\u001b[0m \u001b[0mcallbacks\u001b[0m\u001b[0;34m:\u001b[0m \u001b[0mcb\u001b[0m\u001b[0;34m.\u001b[0m\u001b[0mon_batch_begin\u001b[0m\u001b[0;34m(\u001b[0m\u001b[0;34m)\u001b[0m\u001b[0;34m\u001b[0m\u001b[0m\n\u001b[0;32m--> 140\u001b[0;31m             \u001b[0mloss\u001b[0m \u001b[0;34m=\u001b[0m \u001b[0mmodel_stepper\u001b[0m\u001b[0;34m.\u001b[0m\u001b[0mstep\u001b[0m\u001b[0;34m(\u001b[0m\u001b[0mV\u001b[0m\u001b[0;34m(\u001b[0m\u001b[0mx\u001b[0m\u001b[0;34m)\u001b[0m\u001b[0;34m,\u001b[0m\u001b[0mV\u001b[0m\u001b[0;34m(\u001b[0m\u001b[0my\u001b[0m\u001b[0;34m)\u001b[0m\u001b[0;34m,\u001b[0m \u001b[0mepoch\u001b[0m\u001b[0;34m)\u001b[0m\u001b[0;34m\u001b[0m\u001b[0m\n\u001b[0m\u001b[1;32m    141\u001b[0m             \u001b[0mavg_loss\u001b[0m \u001b[0;34m=\u001b[0m \u001b[0mavg_loss\u001b[0m \u001b[0;34m*\u001b[0m \u001b[0mavg_mom\u001b[0m \u001b[0;34m+\u001b[0m \u001b[0mloss\u001b[0m \u001b[0;34m*\u001b[0m \u001b[0;34m(\u001b[0m\u001b[0;36m1\u001b[0m\u001b[0;34m-\u001b[0m\u001b[0mavg_mom\u001b[0m\u001b[0;34m)\u001b[0m\u001b[0;34m\u001b[0m\u001b[0m\n\u001b[1;32m    142\u001b[0m             \u001b[0mdebias_loss\u001b[0m \u001b[0;34m=\u001b[0m \u001b[0mavg_loss\u001b[0m \u001b[0;34m/\u001b[0m \u001b[0;34m(\u001b[0m\u001b[0;36m1\u001b[0m \u001b[0;34m-\u001b[0m \u001b[0mavg_mom\u001b[0m\u001b[0;34m**\u001b[0m\u001b[0mbatch_num\u001b[0m\u001b[0;34m)\u001b[0m\u001b[0;34m\u001b[0m\u001b[0m\n",
      "\u001b[0;32m~/Desktop/PPMI/PPMI/fastai/model.py\u001b[0m in \u001b[0;36mstep\u001b[0;34m(self, xs, y, epoch)\u001b[0m\n\u001b[1;32m     55\u001b[0m         \u001b[0;32mif\u001b[0m \u001b[0mself\u001b[0m\u001b[0;34m.\u001b[0m\u001b[0mloss_scale\u001b[0m \u001b[0;34m!=\u001b[0m \u001b[0;36m1\u001b[0m\u001b[0;34m:\u001b[0m \u001b[0;32massert\u001b[0m\u001b[0;34m(\u001b[0m\u001b[0mself\u001b[0m\u001b[0;34m.\u001b[0m\u001b[0mfp16\u001b[0m\u001b[0;34m)\u001b[0m\u001b[0;34m;\u001b[0m \u001b[0mloss\u001b[0m \u001b[0;34m=\u001b[0m \u001b[0mloss\u001b[0m\u001b[0;34m*\u001b[0m\u001b[0mself\u001b[0m\u001b[0;34m.\u001b[0m\u001b[0mloss_scale\u001b[0m\u001b[0;34m\u001b[0m\u001b[0m\n\u001b[1;32m     56\u001b[0m         \u001b[0;32mif\u001b[0m \u001b[0mself\u001b[0m\u001b[0;34m.\u001b[0m\u001b[0mreg_fn\u001b[0m\u001b[0;34m:\u001b[0m \u001b[0mloss\u001b[0m \u001b[0;34m=\u001b[0m \u001b[0mself\u001b[0m\u001b[0;34m.\u001b[0m\u001b[0mreg_fn\u001b[0m\u001b[0;34m(\u001b[0m\u001b[0moutput\u001b[0m\u001b[0;34m,\u001b[0m \u001b[0mxtra\u001b[0m\u001b[0;34m,\u001b[0m \u001b[0mraw_loss\u001b[0m\u001b[0;34m)\u001b[0m\u001b[0;34m\u001b[0m\u001b[0m\n\u001b[0;32m---> 57\u001b[0;31m         \u001b[0mloss\u001b[0m\u001b[0;34m.\u001b[0m\u001b[0mbackward\u001b[0m\u001b[0;34m(\u001b[0m\u001b[0;34m)\u001b[0m\u001b[0;34m\u001b[0m\u001b[0m\n\u001b[0m\u001b[1;32m     58\u001b[0m         \u001b[0;32mif\u001b[0m \u001b[0mself\u001b[0m\u001b[0;34m.\u001b[0m\u001b[0mfp16\u001b[0m\u001b[0;34m:\u001b[0m \u001b[0mupdate_fp32_grads\u001b[0m\u001b[0;34m(\u001b[0m\u001b[0mself\u001b[0m\u001b[0;34m.\u001b[0m\u001b[0mfp32_params\u001b[0m\u001b[0;34m,\u001b[0m \u001b[0mself\u001b[0m\u001b[0;34m.\u001b[0m\u001b[0mm\u001b[0m\u001b[0;34m)\u001b[0m\u001b[0;34m\u001b[0m\u001b[0m\n\u001b[1;32m     59\u001b[0m         \u001b[0;32mif\u001b[0m \u001b[0mself\u001b[0m\u001b[0;34m.\u001b[0m\u001b[0mloss_scale\u001b[0m \u001b[0;34m!=\u001b[0m \u001b[0;36m1\u001b[0m\u001b[0;34m:\u001b[0m\u001b[0;34m\u001b[0m\u001b[0m\n",
      "\u001b[0;32m~/anaconda3/envs/fastai-cpu/lib/python3.6/site-packages/torch/tensor.py\u001b[0m in \u001b[0;36mbackward\u001b[0;34m(self, gradient, retain_graph, create_graph)\u001b[0m\n\u001b[1;32m     91\u001b[0m                 \u001b[0mproducts\u001b[0m\u001b[0;34m.\u001b[0m \u001b[0mDefaults\u001b[0m \u001b[0mto\u001b[0m\u001b[0;31m \u001b[0m\u001b[0;31m`\u001b[0m\u001b[0;31m`\u001b[0m\u001b[0;32mFalse\u001b[0m\u001b[0;31m`\u001b[0m\u001b[0;31m`\u001b[0m\u001b[0;34m.\u001b[0m\u001b[0;34m\u001b[0m\u001b[0m\n\u001b[1;32m     92\u001b[0m         \"\"\"\n\u001b[0;32m---> 93\u001b[0;31m         \u001b[0mtorch\u001b[0m\u001b[0;34m.\u001b[0m\u001b[0mautograd\u001b[0m\u001b[0;34m.\u001b[0m\u001b[0mbackward\u001b[0m\u001b[0;34m(\u001b[0m\u001b[0mself\u001b[0m\u001b[0;34m,\u001b[0m \u001b[0mgradient\u001b[0m\u001b[0;34m,\u001b[0m \u001b[0mretain_graph\u001b[0m\u001b[0;34m,\u001b[0m \u001b[0mcreate_graph\u001b[0m\u001b[0;34m)\u001b[0m\u001b[0;34m\u001b[0m\u001b[0m\n\u001b[0m\u001b[1;32m     94\u001b[0m \u001b[0;34m\u001b[0m\u001b[0m\n\u001b[1;32m     95\u001b[0m     \u001b[0;32mdef\u001b[0m \u001b[0mregister_hook\u001b[0m\u001b[0;34m(\u001b[0m\u001b[0mself\u001b[0m\u001b[0;34m,\u001b[0m \u001b[0mhook\u001b[0m\u001b[0;34m)\u001b[0m\u001b[0;34m:\u001b[0m\u001b[0;34m\u001b[0m\u001b[0m\n",
      "\u001b[0;32m~/anaconda3/envs/fastai-cpu/lib/python3.6/site-packages/torch/autograd/__init__.py\u001b[0m in \u001b[0;36mbackward\u001b[0;34m(tensors, grad_tensors, retain_graph, create_graph, grad_variables)\u001b[0m\n\u001b[1;32m     87\u001b[0m     Variable._execution_engine.run_backward(\n\u001b[1;32m     88\u001b[0m         \u001b[0mtensors\u001b[0m\u001b[0;34m,\u001b[0m \u001b[0mgrad_tensors\u001b[0m\u001b[0;34m,\u001b[0m \u001b[0mretain_graph\u001b[0m\u001b[0;34m,\u001b[0m \u001b[0mcreate_graph\u001b[0m\u001b[0;34m,\u001b[0m\u001b[0;34m\u001b[0m\u001b[0m\n\u001b[0;32m---> 89\u001b[0;31m         allow_unreachable=True)  # allow_unreachable flag\n\u001b[0m\u001b[1;32m     90\u001b[0m \u001b[0;34m\u001b[0m\u001b[0m\n\u001b[1;32m     91\u001b[0m \u001b[0;34m\u001b[0m\u001b[0m\n",
      "\u001b[0;31mKeyboardInterrupt\u001b[0m: "
     ]
    }
   ],
   "source": [
    "learner.fit(3e-4,8)"
   ]
  },
  {
   "cell_type": "code",
   "execution_count": 318,
   "metadata": {},
   "outputs": [],
   "source": [
    "learner.save('test_sf_2d')"
   ]
  },
  {
   "cell_type": "code",
   "execution_count": 324,
   "metadata": {},
   "outputs": [
    {
     "data": {
      "text/plain": [
       "array([[0.99998],\n",
       "       [0.0152 ],\n",
       "       [0.9998 ],\n",
       "       [0.2836 ],\n",
       "       [0.99999],\n",
       "       [1.     ],\n",
       "       [0.0003 ],\n",
       "       [0.99996],\n",
       "       [0.99947],\n",
       "       [0.99984],\n",
       "       [0.00003],\n",
       "       [0.99189],\n",
       "       [0.99999],\n",
       "       [0.2304 ],\n",
       "       [0.99998],\n",
       "       [1.     ],\n",
       "       [0.99386],\n",
       "       [1.     ],\n",
       "       [0.99955],\n",
       "       [0.99572],\n",
       "       [0.00298],\n",
       "       [0.99991],\n",
       "       [1.     ],\n",
       "       [0.99802],\n",
       "       [0.99999],\n",
       "       [0.99998],\n",
       "       [0.0002 ],\n",
       "       [0.99917],\n",
       "       [1.     ],\n",
       "       [1.     ],\n",
       "       [0.99994],\n",
       "       [0.99865],\n",
       "       [0.93625],\n",
       "       [0.00095],\n",
       "       [1.     ],\n",
       "       [0.97113],\n",
       "       [0.00102],\n",
       "       [0.05191],\n",
       "       [0.99922],\n",
       "       [0.99921],\n",
       "       [0.05879],\n",
       "       [1.     ],\n",
       "       [0.99844],\n",
       "       [0.99976],\n",
       "       [0.99991],\n",
       "       [1.     ],\n",
       "       [0.99788],\n",
       "       [1.     ],\n",
       "       [0.99995],\n",
       "       [0.99997],\n",
       "       [1.     ],\n",
       "       [0.99943],\n",
       "       [0.00292],\n",
       "       [0.97447],\n",
       "       [0.99999],\n",
       "       [0.99994],\n",
       "       [0.99992],\n",
       "       [0.99998],\n",
       "       [0.99679],\n",
       "       [0.98321],\n",
       "       [0.99999],\n",
       "       [1.     ],\n",
       "       [1.     ],\n",
       "       [0.99999],\n",
       "       [1.     ],\n",
       "       [0.96729],\n",
       "       [1.     ],\n",
       "       [1.     ],\n",
       "       [0.99999],\n",
       "       [1.     ],\n",
       "       [0.99991],\n",
       "       [0.99903],\n",
       "       [0.99977],\n",
       "       [1.     ],\n",
       "       [1.     ],\n",
       "       [0.99999],\n",
       "       [0.99999],\n",
       "       [1.     ],\n",
       "       [1.     ],\n",
       "       [0.99802],\n",
       "       [1.     ],\n",
       "       [1.     ],\n",
       "       [1.     ],\n",
       "       [1.     ],\n",
       "       [0.99982],\n",
       "       [1.     ],\n",
       "       [1.     ],\n",
       "       [0.98286],\n",
       "       [0.99998],\n",
       "       [0.99999],\n",
       "       [0.99988],\n",
       "       [0.99875],\n",
       "       [0.00331],\n",
       "       [0.99997],\n",
       "       [0.99963],\n",
       "       [0.99991],\n",
       "       [0.92534],\n",
       "       [0.99999],\n",
       "       [0.51875],\n",
       "       [0.99829],\n",
       "       [0.99782],\n",
       "       [0.9991 ],\n",
       "       [1.     ],\n",
       "       [0.99997],\n",
       "       [0.99905],\n",
       "       [0.99999],\n",
       "       [0.0023 ],\n",
       "       [0.9995 ],\n",
       "       [0.99972],\n",
       "       [0.99984],\n",
       "       [0.99998],\n",
       "       [1.     ],\n",
       "       [0.99984],\n",
       "       [0.99999],\n",
       "       [1.     ],\n",
       "       [1.     ],\n",
       "       [0.00008],\n",
       "       [0.99992],\n",
       "       [1.     ],\n",
       "       [0.99998],\n",
       "       [0.99999],\n",
       "       [0.99995],\n",
       "       [0.99932],\n",
       "       [0.99961],\n",
       "       [0.99939],\n",
       "       [1.     ],\n",
       "       [0.99892],\n",
       "       [0.99999],\n",
       "       [0.99762],\n",
       "       [0.99952],\n",
       "       [0.9999 ],\n",
       "       [0.08416],\n",
       "       [1.     ],\n",
       "       [0.99998],\n",
       "       [0.99999],\n",
       "       [0.99999],\n",
       "       [0.99926],\n",
       "       [0.59081],\n",
       "       [0.99991],\n",
       "       [0.99993],\n",
       "       [0.99986],\n",
       "       [0.99998],\n",
       "       [0.99992],\n",
       "       [0.99999],\n",
       "       [0.99987],\n",
       "       [0.99997],\n",
       "       [0.99941],\n",
       "       [0.00047],\n",
       "       [0.9993 ],\n",
       "       [0.99836],\n",
       "       [1.     ],\n",
       "       [0.99998],\n",
       "       [1.     ],\n",
       "       [0.99999],\n",
       "       [0.99993],\n",
       "       [0.9996 ],\n",
       "       [0.99996],\n",
       "       [0.99968],\n",
       "       [0.99961],\n",
       "       [0.99441],\n",
       "       [0.99984],\n",
       "       [1.     ],\n",
       "       [0.99998],\n",
       "       [1.     ],\n",
       "       [0.99998],\n",
       "       [1.     ],\n",
       "       [0.99999],\n",
       "       [1.     ],\n",
       "       [0.99997],\n",
       "       [1.     ],\n",
       "       [0.99997],\n",
       "       [0.99398],\n",
       "       [0.89531],\n",
       "       [0.99971],\n",
       "       [0.99999],\n",
       "       [0.97441],\n",
       "       [1.     ],\n",
       "       [0.99988],\n",
       "       [0.99996],\n",
       "       [1.     ],\n",
       "       [1.     ],\n",
       "       [0.14316],\n",
       "       [0.99999],\n",
       "       [1.     ],\n",
       "       [1.     ],\n",
       "       [1.     ],\n",
       "       [0.9948 ],\n",
       "       [1.     ],\n",
       "       [0.00027],\n",
       "       [0.9999 ],\n",
       "       [0.99999],\n",
       "       [0.99984],\n",
       "       [1.     ],\n",
       "       [0.99998],\n",
       "       [0.99829],\n",
       "       [0.97714],\n",
       "       [1.     ],\n",
       "       [1.     ],\n",
       "       [0.9998 ],\n",
       "       [0.99993],\n",
       "       [0.99989],\n",
       "       [0.99999],\n",
       "       [1.     ],\n",
       "       [0.95262],\n",
       "       [1.     ],\n",
       "       [0.00008],\n",
       "       [0.99993],\n",
       "       [0.99077],\n",
       "       [1.     ],\n",
       "       [0.99992],\n",
       "       [0.99436],\n",
       "       [1.     ],\n",
       "       [0.99974],\n",
       "       [0.99669],\n",
       "       [0.98681],\n",
       "       [0.99987],\n",
       "       [1.     ],\n",
       "       [1.     ],\n",
       "       [0.99997],\n",
       "       [0.99992],\n",
       "       [1.     ],\n",
       "       [0.93214],\n",
       "       [0.99996],\n",
       "       [0.10888],\n",
       "       [0.65081],\n",
       "       [0.99977],\n",
       "       [0.99997],\n",
       "       [0.00225],\n",
       "       [0.99998],\n",
       "       [0.99662],\n",
       "       [0.99999],\n",
       "       [0.99937],\n",
       "       [0.99923],\n",
       "       [1.     ],\n",
       "       [0.99998],\n",
       "       [0.99028],\n",
       "       [0.9953 ],\n",
       "       [0.99448],\n",
       "       [1.     ],\n",
       "       [0.99978],\n",
       "       [0.9772 ],\n",
       "       [0.89341],\n",
       "       [0.01933],\n",
       "       [0.99609],\n",
       "       [0.99999],\n",
       "       [0.9996 ],\n",
       "       [1.     ],\n",
       "       [0.99994],\n",
       "       [0.99986],\n",
       "       [0.01423],\n",
       "       [0.99995],\n",
       "       [0.99991],\n",
       "       [0.96604],\n",
       "       [0.99696],\n",
       "       [0.99999],\n",
       "       [1.     ],\n",
       "       [0.99997],\n",
       "       [0.99816],\n",
       "       [0.99997],\n",
       "       [0.99999],\n",
       "       [0.99987],\n",
       "       [0.99999],\n",
       "       [0.99799],\n",
       "       [0.00057],\n",
       "       [1.     ],\n",
       "       [0.99999],\n",
       "       [0.99991],\n",
       "       [0.99985],\n",
       "       [1.     ],\n",
       "       [0.99999],\n",
       "       [1.     ],\n",
       "       [0.99991],\n",
       "       [0.00154],\n",
       "       [0.99999],\n",
       "       [0.99902],\n",
       "       [1.     ],\n",
       "       [0.99999]], dtype=float32)"
      ]
     },
     "execution_count": 324,
     "metadata": {},
     "output_type": "execute_result"
    }
   ],
   "source": [
    "pred = learner.predict(is_test=True)\n",
    "pred"
   ]
  },
  {
   "cell_type": "code",
   "execution_count": 325,
   "metadata": {},
   "outputs": [],
   "source": [
    "predict=[]\n",
    "for i in pred:\n",
    "    if i >= 0.5:\n",
    "        predict.append(1)\n",
    "    else:\n",
    "        predict.append(0)"
   ]
  },
  {
   "cell_type": "code",
   "execution_count": 326,
   "metadata": {},
   "outputs": [],
   "source": [
    "fin = ((y_test.reshape(-1))==predict)"
   ]
  },
  {
   "cell_type": "code",
   "execution_count": 327,
   "metadata": {},
   "outputs": [
    {
     "name": "stdout",
     "output_type": "stream",
     "text": [
      "Accuracy\n"
     ]
    },
    {
     "data": {
      "text/plain": [
       "0.9819494584837545"
      ]
     },
     "execution_count": 327,
     "metadata": {},
     "output_type": "execute_result"
    }
   ],
   "source": [
    "print('Accuracy')\n",
    "np.count_nonzero(fin == True) / len(fin)"
   ]
  },
  {
   "cell_type": "code",
   "execution_count": 328,
   "metadata": {
    "scrolled": true
   },
   "outputs": [
    {
     "name": "stdout",
     "output_type": "stream",
     "text": [
      "False negative\n"
     ]
    },
    {
     "data": {
      "text/plain": [
       "0.007220216606498195"
      ]
     },
     "execution_count": 328,
     "metadata": {},
     "output_type": "execute_result"
    }
   ],
   "source": [
    "print('False negative')\n",
    "np.sum((y_test.reshape(-1))>np.array(predict))/len(fin)"
   ]
  },
  {
   "cell_type": "code",
   "execution_count": 329,
   "metadata": {},
   "outputs": [
    {
     "name": "stdout",
     "output_type": "stream",
     "text": [
      "False positive\n"
     ]
    },
    {
     "data": {
      "text/plain": [
       "0.010830324909747292"
      ]
     },
     "execution_count": 329,
     "metadata": {},
     "output_type": "execute_result"
    }
   ],
   "source": [
    "print('False positive')\n",
    "np.sum((y_test.reshape(-1))<np.array(predict))/len(fin)"
   ]
  },
  {
   "cell_type": "code",
   "execution_count": 332,
   "metadata": {
    "scrolled": false
   },
   "outputs": [
    {
     "data": {
      "text/plain": [
       "(array([0.92308, 0.98805]),\n",
       " array([0.88889, 0.992  ]),\n",
       " array([0.90566, 0.99002]),\n",
       " array([ 27, 250]))"
      ]
     },
     "execution_count": 332,
     "metadata": {},
     "output_type": "execute_result"
    }
   ],
   "source": [
    "sklearn.metrics.precision_recall_fscore_support(y_test.reshape(-1), np.array(predict))"
   ]
  },
  {
   "cell_type": "code",
   "execution_count": 304,
   "metadata": {},
   "outputs": [
    {
     "data": {
      "text/plain": [
       "(333,)"
      ]
     },
     "execution_count": 304,
     "metadata": {},
     "output_type": "execute_result"
    }
   ],
   "source": [
    "y_val.reshape(-1).shape"
   ]
  },
  {
   "cell_type": "code",
   "execution_count": null,
   "metadata": {},
   "outputs": [],
   "source": []
  },
  {
   "cell_type": "code",
   "execution_count": null,
   "metadata": {},
   "outputs": [],
   "source": []
  },
  {
   "cell_type": "code",
   "execution_count": null,
   "metadata": {},
   "outputs": [],
   "source": []
  },
  {
   "cell_type": "markdown",
   "metadata": {},
   "source": [
    "### Darknet"
   ]
  },
  {
   "cell_type": "markdown",
   "metadata": {},
   "source": [
    "### Load dataset"
   ]
  },
  {
   "cell_type": "code",
   "execution_count": 43,
   "metadata": {
    "scrolled": true
   },
   "outputs": [],
   "source": [
    "X_train = torch.utils.data.DataLoader(image_array_train, batch_size=32)\n",
    "#param_train = torch.utils.data.DataLoader(param_train, batch_size=4)\n",
    "y_train = torch.utils.data.DataLoader(y_train, batch_size=32)\n",
    "X_val = torch.utils.data.DataLoader(image_array_val, batch_size=32)\n",
    "#param_val = torch.utils.data.DataLoader(param_val, batch_size=4)\n",
    "y_val = torch.utils.data.DataLoader(y_val, batch_size=32)\n",
    "X_test = torch.utils.data.DataLoader(image_array_test, batch_size=32)\n",
    "#param_test = torch.utils.data.DataLoader(param_test, batch_size=4)\n",
    "y_test = torch.utils.data.DataLoader(y_test, batch_size=32)\n",
    "\n",
    "#del(image_array_train,image_array_val,image_array_test)\n",
    "#del(X_train_tmp,X_val_tmp,X_test_tmp,y_train_tmp,y_val_tmp,y_test_tmp,param_train_tmp,param_val_tmp,param_test_tmp)"
   ]
  },
  {
   "cell_type": "code",
   "execution_count": 371,
   "metadata": {},
   "outputs": [],
   "source": [
    "def conv_layer(ni, nf, ks=3, stride=1):\n",
    "    return nn.Sequential(\n",
    "        nn.Conv2d(ni, nf, kernel_size=ks, bias=False, stride=stride, padding=ks//2),\n",
    "        nn.BatchNorm2d(nf, momentum=0.01),\n",
    "        nn.LeakyReLU(negative_slope=0.1, inplace=False))\n",
    "\n",
    "class ResLayer(nn.Module):\n",
    "    def __init__(self, ni):\n",
    "        super().__init__()\n",
    "        self.conv1=conv_layer(ni, ni//2, ks=3)\n",
    "        self.conv2=conv_layer(ni//2, ni, ks=3)\n",
    "        \n",
    "    def forward(self, x): return x.add_(self.conv2(self.conv1(x.clone())))\n",
    "\n",
    "class Darknet(nn.Module):\n",
    "    def make_group_layer(self, ch_in, num_blocks, stride=1):\n",
    "        return [conv_layer(ch_in, ch_in*2,stride=stride)\n",
    "               ] + [(ResLayer(ch_in*2)) for i in range(num_blocks)]\n",
    "\n",
    "    def __init__(self, num_blocks, num_classes, nf=32):\n",
    "        super().__init__()\n",
    "        #Weight init Kaiming's\n",
    "        for m in self.modules():\n",
    "            if isinstance(m, nn.Conv2d):\n",
    "                m.weight = nn.init.kaiming_normal(m.weight, mode='fan_out')\n",
    "            elif isinstance(m, nn.BatchNorm2d):\n",
    "                m.weight.data.fill_(1)\n",
    "                m.bias.data.zero_()\n",
    "            elif isinstance(m, nn.Linear):\n",
    "                m.weight = nn.init.kaiming_normal(m.weight, mode='fan_out')\n",
    "        first_layer = [nn.Conv2d(1, 64, kernel_size=(7, 7), stride=(2, 2), padding=(3, 3), bias=False),\n",
    "                     nn.BatchNorm2d(64, eps=1e-05, momentum=0.1, affine=True, track_running_stats=True),\n",
    "                     nn.ReLU(),\n",
    "                     nn.MaxPool2d(kernel_size=3, stride=2, padding=1, dilation=1, ceil_mode=False)]        \n",
    "        features = [conv_layer(64, nf, ks=3, stride=1)]\n",
    "        for i,nb in enumerate(num_blocks):\n",
    "            features += self.make_group_layer(nf, nb, stride=2-(i==1))\n",
    "            nf *= 2                        \n",
    "\n",
    "        self.first_layer = nn.Sequential(*first_layer)\n",
    "        self.features = nn.Sequential(*features)\n",
    "        fc1 = [nn.BatchNorm1d(512),nn.Dropout(0),nn.Linear(512, 256),nn.LeakyReLU()]\n",
    "        self.fc1 = nn.Sequential(*fc1)\n",
    "        self.layers = nn.Sequential(nn.BatchNorm1d(256),nn.Dropout(0),nn.Linear(256,1))\n",
    "    \n",
    "    '''def forward(self, x):\n",
    "        x=x.unsqueeze(1)\n",
    "        x = self.head_layer(x)           \n",
    "        x = self.features(x)\n",
    "        x = nn.AdaptiveAvgPool2d(1)(x)\n",
    "\n",
    "        out = x.squeeze()\n",
    "        out = self.fc_model1(out)\n",
    "        out = self.fc_model2(out)\n",
    "        return F.sigmoid(out.squeeze())'''  \n",
    "        \n",
    "    def forward(self, x):\n",
    "        x = x.unsqueeze(1)\n",
    "        x = self.first_layer(x)\n",
    "        x = self.features(x)\n",
    "        #x = torch.cat((x,y[:,:,0],y[:,:,1],y[:,:,2]),1)\n",
    "        x = nn.AdaptiveAvgPool2d(1)(x)\n",
    "        x = x.squeeze()\n",
    "        x = self.fc1(x)\n",
    "        x = self.layers(x)\n",
    "        return F.sigmoid(x.squeeze())\n"
   ]
  },
  {
   "cell_type": "code",
   "execution_count": 372,
   "metadata": {},
   "outputs": [],
   "source": [
    "class MetaModel(BasicModel):\n",
    "    def get_layer_groups(self):\n",
    "        m=self.model\n",
    "        return m"
   ]
  },
  {
   "cell_type": "code",
   "execution_count": 373,
   "metadata": {},
   "outputs": [],
   "source": [
    "class  MetaLearner(Learner):\n",
    "    def __init__(self, data, models, **kwargs):\n",
    "        super().__init__(data, models, **kwargs)\n",
    "        self.crit = F.binary_cross_entropy"
   ]
  },
  {
   "cell_type": "code",
   "execution_count": 374,
   "metadata": {},
   "outputs": [],
   "source": [
    "class MetaArraysDataset(BaseDataset):\n",
    "    def __init__(self, x,y, transform, path):\n",
    "        self.path = path\n",
    "        self.x,self.y= x, y\n",
    "        assert(len(x)==len(y))\n",
    "        super().__init__(transform)\n",
    "        \n",
    "    def __getitem__(self, idx):\n",
    "        \"\"\" This function should return a list.\n",
    "        \"\"\"\n",
    "        x = self.get_x(idx)\n",
    "        y = self.get_y(idx)\n",
    "        return self.get(self.transform, x, y)\n",
    "   \n",
    "    def get(self, tfm, x, y):\n",
    "        if tfm is None:\n",
    "            return [x, y] \n",
    "        x,y = tfm(x,y)\n",
    "        return [x,y]\n",
    "    def get_c(self): return int(self.y.max())+1\n",
    "    def get_x(self, i): return self.x[i]\n",
    "    def get_y(self, i): return self.y[i]\n",
    "    def get_n(self): return len(self.y)\n",
    "    def get_sz(self): return self.x.shape[1]"
   ]
  },
  {
   "cell_type": "code",
   "execution_count": 375,
   "metadata": {},
   "outputs": [],
   "source": [
    "bs=64; sz=70\n",
    "#f_model = resnet34"
   ]
  },
  {
   "cell_type": "code",
   "execution_count": 376,
   "metadata": {},
   "outputs": [],
   "source": [
    "USE_GPU=False"
   ]
  },
  {
   "cell_type": "code",
   "execution_count": 377,
   "metadata": {},
   "outputs": [],
   "source": [
    "class ModelMetaData(ImageClassifierData):\n",
    "    \n",
    "    @classmethod\n",
    "    def get_ds(self, fn, trn, val, tfms, path, test=None):\n",
    "        res = [\n",
    "            fn(trn[0], trn[1],tfms[0], path), # train\n",
    "            fn(val[0], val[1],tfms[1], path), # val\n",
    "            fn(trn[0], trn[1],tfms[1], path), # fix\n",
    "            fn(val[0], val[1],tfms[0], path)  # aug\n",
    "        ]\n",
    "        if test:\n",
    "            test_lbls = np.zeros((len(test),1))\n",
    "            res += [\n",
    "                fn(test[0], test[1],tfms[1], path), # test\n",
    "                fn(test[0], test[1] ,tfms[0], path)  # test_aug\n",
    "            ]\n",
    "        else: res += [None,None]\n",
    "        return res\n",
    "    \n",
    "    @classmethod\n",
    "    def from_csv(self, path, folder, csv_fname, bs=bs, tfms=(None,None),val_idxs=None, \n",
    "                 suffix='', test_name=None, skip_header=True, num_workers=4):\n",
    "        fnames,x2,y = csv_source2(folder, csv_fname, skip_header, suffix)\n",
    "        ((val_fnames, trn_fnames), (val_x2, trn_x2), (val_y,trn_y)) = split_by_idx(val_idxs, np.array(fnames), x2, y)\n",
    "\n",
    "        test_fnames = read_dir(path, test_name) if test_name else None\n",
    "        datasets = self.get_ds(MetaDataset, (trn_fnames,trn_x2,trn_y), (val_fnames,val_x2,val_y),tfms=tfms, path=path)\n",
    "        return self(path, datasets, bs, num_workers, classes=1)\n",
    "    \n",
    "    @classmethod\n",
    "    def from_arrays(self, path, trn, val, test, bs=bs, tfms=(None,None), classes=None, num_workers=4):\n",
    "        trn_x , val_x = trn[0],val[0]\n",
    "        trn_y , val_y = trn[1],val[1]\n",
    "        test_x, test_y= test[0],test[1]\n",
    "        datasets = self.get_ds(MetaArraysDataset, (trn_x,trn_y), (val_x,val_y) ,test=(test_x,test_y) ,tfms=tfms,path=path)\n",
    "        return self(path, datasets, bs, num_workers, classes=classes)\n",
    "    \n",
    "        \n",
    "    def get_learner(self):\n",
    "        #model = Darmk()\n",
    "        model = Darknet([3,4,6,2], num_classes=1, nf=32)\n",
    "        device = torch.device(\"cuda:0\" if torch.cuda.is_available() else \"cpu\")\n",
    "        #m = nn.DataParallel(m, [1,2,3])\n",
    "        return MetaLearner(self, MetaModel(model.to(device)), opt_fn=optim.Adam)"
   ]
  },
  {
   "cell_type": "code",
   "execution_count": 384,
   "metadata": {
    "scrolled": true
   },
   "outputs": [],
   "source": [
    "data = ModelMetaData.from_arrays('.', trn=(image_array_train,y_train)\n",
    "                                 ,val=(image_array_val,y_val)\n",
    "                                ,test=(image_array_test,y_test))"
   ]
  },
  {
   "cell_type": "code",
   "execution_count": 385,
   "metadata": {
    "scrolled": true
   },
   "outputs": [],
   "source": [
    "learner = data.get_learner()\n"
   ]
  },
  {
   "cell_type": "code",
   "execution_count": 56,
   "metadata": {},
   "outputs": [
    {
     "ename": "RuntimeError",
     "evalue": "Error(s) in loading state_dict for Darknet:\n\tMissing key(s) in state_dict: \"features.0.0.weight\", \"features.0.1.weight\", \"features.0.1.bias\", \"features.0.1.running_mean\", \"features.0.1.running_var\", \"features.1.0.weight\", \"features.1.1.weight\", \"features.1.1.bias\", \"features.1.1.running_mean\", \"features.1.1.running_var\", \"features.2.conv1.0.weight\", \"features.2.conv1.1.weight\", \"features.2.conv1.1.bias\", \"features.2.conv1.1.running_mean\", \"features.2.conv1.1.running_var\", \"features.2.conv2.0.weight\", \"features.2.conv2.1.weight\", \"features.2.conv2.1.bias\", \"features.2.conv2.1.running_mean\", \"features.2.conv2.1.running_var\", \"features.3.0.weight\", \"features.3.1.weight\", \"features.3.1.bias\", \"features.3.1.running_mean\", \"features.3.1.running_var\", \"features.4.conv1.0.weight\", \"features.4.conv1.1.weight\", \"features.4.conv1.1.bias\", \"features.4.conv1.1.running_mean\", \"features.4.conv1.1.running_var\", \"features.4.conv2.0.weight\", \"features.4.conv2.1.weight\", \"features.4.conv2.1.bias\", \"features.4.conv2.1.running_mean\", \"features.4.conv2.1.running_var\", \"features.5.conv1.0.weight\", \"features.5.conv1.1.weight\", \"features.5.conv1.1.bias\", \"features.5.conv1.1.running_mean\", \"features.5.conv1.1.running_var\", \"features.5.conv2.0.weight\", \"features.5.conv2.1.weight\", \"features.5.conv2.1.bias\", \"features.5.conv2.1.running_mean\", \"features.5.conv2.1.running_var\", \"features.6.0.weight\", \"features.6.1.weight\", \"features.6.1.bias\", \"features.6.1.running_mean\", \"features.6.1.running_var\", \"features.7.conv1.0.weight\", \"features.7.conv1.1.weight\", \"features.7.conv1.1.bias\", \"features.7.conv1.1.running_mean\", \"features.7.conv1.1.running_var\", \"features.7.conv2.0.weight\", \"features.7.conv2.1.weight\", \"features.7.conv2.1.bias\", \"features.7.conv2.1.running_mean\", \"features.7.conv2.1.running_var\", \"features.8.conv1.0.weight\", \"features.8.conv1.1.weight\", \"features.8.conv1.1.bias\", \"features.8.conv1.1.running_mean\", \"features.8.conv1.1.running_var\", \"features.8.conv2.0.weight\", \"features.8.conv2.1.weight\", \"features.8.conv2.1.bias\", \"features.8.conv2.1.running_mean\", \"features.8.conv2.1.running_var\", \"features.9.conv1.0.weight\", \"features.9.conv1.1.weight\", \"features.9.conv1.1.bias\", \"features.9.conv1.1.running_mean\", \"features.9.conv1.1.running_var\", \"features.9.conv2.0.weight\", \"features.9.conv2.1.weight\", \"features.9.conv2.1.bias\", \"features.9.conv2.1.running_mean\", \"features.9.conv2.1.running_var\", \"features.10.conv1.0.weight\", \"features.10.conv1.1.weight\", \"features.10.conv1.1.bias\", \"features.10.conv1.1.running_mean\", \"features.10.conv1.1.running_var\", \"features.10.conv2.0.weight\", \"features.10.conv2.1.weight\", \"features.10.conv2.1.bias\", \"features.10.conv2.1.running_mean\", \"features.10.conv2.1.running_var\", \"features.11.0.weight\", \"features.11.1.weight\", \"features.11.1.bias\", \"features.11.1.running_mean\", \"features.11.1.running_var\", \"features.12.conv1.0.weight\", \"features.12.conv1.1.weight\", \"features.12.conv1.1.bias\", \"features.12.conv1.1.running_mean\", \"features.12.conv1.1.running_var\", \"features.12.conv2.0.weight\", \"features.12.conv2.1.weight\", \"features.12.conv2.1.bias\", \"features.12.conv2.1.running_mean\", \"features.12.conv2.1.running_var\", \"features.13.conv1.0.weight\", \"features.13.conv1.1.weight\", \"features.13.conv1.1.bias\", \"features.13.conv1.1.running_mean\", \"features.13.conv1.1.running_var\", \"features.13.conv2.0.weight\", \"features.13.conv2.1.weight\", \"features.13.conv2.1.bias\", \"features.13.conv2.1.running_mean\", \"features.13.conv2.1.running_var\", \"features.14.conv1.0.weight\", \"features.14.conv1.1.weight\", \"features.14.conv1.1.bias\", \"features.14.conv1.1.running_mean\", \"features.14.conv1.1.running_var\", \"features.14.conv2.0.weight\", \"features.14.conv2.1.weight\", \"features.14.conv2.1.bias\", \"features.14.conv2.1.running_mean\", \"features.14.conv2.1.running_var\", \"fc1.0.weight\", \"fc1.0.bias\", \"layers.0.weight\", \"layers.0.bias\". \n\tUnexpected key(s) in state_dict: \"head_layer.0.weight\", \"bns.0.weight\", \"bns.0.bias\", \"bns.0.running_mean\", \"bns.0.running_var\", \"bns.1.weight\", \"bns.1.bias\", \"bns.1.running_mean\", \"bns.1.running_var\", \"bns.2.weight\", \"bns.2.bias\", \"bns.2.running_mean\", \"bns.2.running_var\", \"lins.0.weight\", \"lins.0.bias\", \"lins.1.weight\", \"lins.1.bias\", \"lins.2.weight\", \"lins.2.bias\", \"fc_model1.0.weight\", \"fc_model1.0.bias\", \"fc_model1.0.running_mean\", \"fc_model1.0.running_var\", \"fc_model1.2.weight\", \"fc_model1.2.bias\", \"fc_model2.0.weight\", \"fc_model2.0.bias\", \"fc_model2.0.running_mean\", \"fc_model2.0.running_var\", \"fc_model2.2.weight\", \"fc_model2.2.bias\", \"fc_model2.4.weight\", \"fc_model2.4.bias\", \"fc_model2.4.running_mean\", \"fc_model2.4.running_var\", \"fc_model2.6.weight\", \"fc_model2.6.bias\", \"features.0.weight\", \"features.1.weight\", \"features.1.bias\", \"features.1.running_mean\", \"features.1.running_var\", \"features.4.0.conv1.weight\", \"features.4.0.bn1.weight\", \"features.4.0.bn1.bias\", \"features.4.0.bn1.running_mean\", \"features.4.0.bn1.running_var\", \"features.4.0.conv2.weight\", \"features.4.0.bn2.weight\", \"features.4.0.bn2.bias\", \"features.4.0.bn2.running_mean\", \"features.4.0.bn2.running_var\", \"features.4.1.conv1.weight\", \"features.4.1.bn1.weight\", \"features.4.1.bn1.bias\", \"features.4.1.bn1.running_mean\", \"features.4.1.bn1.running_var\", \"features.4.1.conv2.weight\", \"features.4.1.bn2.weight\", \"features.4.1.bn2.bias\", \"features.4.1.bn2.running_mean\", \"features.4.1.bn2.running_var\", \"features.4.2.conv1.weight\", \"features.4.2.bn1.weight\", \"features.4.2.bn1.bias\", \"features.4.2.bn1.running_mean\", \"features.4.2.bn1.running_var\", \"features.4.2.conv2.weight\", \"features.4.2.bn2.weight\", \"features.4.2.bn2.bias\", \"features.4.2.bn2.running_mean\", \"features.4.2.bn2.running_var\", \"features.5.0.conv1.weight\", \"features.5.0.bn1.weight\", \"features.5.0.bn1.bias\", \"features.5.0.bn1.running_mean\", \"features.5.0.bn1.running_var\", \"features.5.0.conv2.weight\", \"features.5.0.bn2.weight\", \"features.5.0.bn2.bias\", \"features.5.0.bn2.running_mean\", \"features.5.0.bn2.running_var\", \"features.5.0.downsample.0.weight\", \"features.5.0.downsample.1.weight\", \"features.5.0.downsample.1.bias\", \"features.5.0.downsample.1.running_mean\", \"features.5.0.downsample.1.running_var\", \"features.5.1.conv1.weight\", \"features.5.1.bn1.weight\", \"features.5.1.bn1.bias\", \"features.5.1.bn1.running_mean\", \"features.5.1.bn1.running_var\", \"features.5.1.conv2.weight\", \"features.5.1.bn2.weight\", \"features.5.1.bn2.bias\", \"features.5.1.bn2.running_mean\", \"features.5.1.bn2.running_var\", \"features.5.2.conv1.weight\", \"features.5.2.bn1.weight\", \"features.5.2.bn1.bias\", \"features.5.2.bn1.running_mean\", \"features.5.2.bn1.running_var\", \"features.5.2.conv2.weight\", \"features.5.2.bn2.weight\", \"features.5.2.bn2.bias\", \"features.5.2.bn2.running_mean\", \"features.5.2.bn2.running_var\", \"features.5.3.conv1.weight\", \"features.5.3.bn1.weight\", \"features.5.3.bn1.bias\", \"features.5.3.bn1.running_mean\", \"features.5.3.bn1.running_var\", \"features.5.3.conv2.weight\", \"features.5.3.bn2.weight\", \"features.5.3.bn2.bias\", \"features.5.3.bn2.running_mean\", \"features.5.3.bn2.running_var\", \"features.6.3.conv1.weight\", \"features.6.3.bn1.weight\", \"features.6.3.bn1.bias\", \"features.6.3.bn1.running_mean\", \"features.6.3.bn1.running_var\", \"features.6.3.conv2.weight\", \"features.6.3.bn2.weight\", \"features.6.3.bn2.bias\", \"features.6.3.bn2.running_mean\", \"features.6.3.bn2.running_var\", \"features.6.4.conv1.weight\", \"features.6.4.bn1.weight\", \"features.6.4.bn1.bias\", \"features.6.4.bn1.running_mean\", \"features.6.4.bn1.running_var\", \"features.6.4.conv2.weight\", \"features.6.4.bn2.weight\", \"features.6.4.bn2.bias\", \"features.6.4.bn2.running_mean\", \"features.6.4.bn2.running_var\", \"features.6.5.conv1.weight\", \"features.6.5.bn1.weight\", \"features.6.5.bn1.bias\", \"features.6.5.bn1.running_mean\", \"features.6.5.bn1.running_var\", \"features.6.5.conv2.weight\", \"features.6.5.bn2.weight\", \"features.6.5.bn2.bias\", \"features.6.5.bn2.running_mean\", \"features.6.5.bn2.running_var\", \"features.6.0.conv1.weight\", \"features.6.0.bn1.weight\", \"features.6.0.bn1.bias\", \"features.6.0.bn1.running_mean\", \"features.6.0.bn1.running_var\", \"features.6.0.conv2.weight\", \"features.6.0.bn2.weight\", \"features.6.0.bn2.bias\", \"features.6.0.bn2.running_mean\", \"features.6.0.bn2.running_var\", \"features.6.0.downsample.0.weight\", \"features.6.0.downsample.1.weight\", \"features.6.0.downsample.1.bias\", \"features.6.0.downsample.1.running_mean\", \"features.6.0.downsample.1.running_var\", \"features.6.1.conv1.weight\", \"features.6.1.bn1.weight\", \"features.6.1.bn1.bias\", \"features.6.1.bn1.running_mean\", \"features.6.1.bn1.running_var\", \"features.6.1.conv2.weight\", \"features.6.1.bn2.weight\", \"features.6.1.bn2.bias\", \"features.6.1.bn2.running_mean\", \"features.6.1.bn2.running_var\", \"features.6.2.conv1.weight\", \"features.6.2.bn1.weight\", \"features.6.2.bn1.bias\", \"features.6.2.bn1.running_mean\", \"features.6.2.bn1.running_var\", \"features.6.2.conv2.weight\", \"features.6.2.bn2.weight\", \"features.6.2.bn2.bias\", \"features.6.2.bn2.running_mean\", \"features.6.2.bn2.running_var\", \"features.7.0.conv1.weight\", \"features.7.0.bn1.weight\", \"features.7.0.bn1.bias\", \"features.7.0.bn1.running_mean\", \"features.7.0.bn1.running_var\", \"features.7.0.conv2.weight\", \"features.7.0.bn2.weight\", \"features.7.0.bn2.bias\", \"features.7.0.bn2.running_mean\", \"features.7.0.bn2.running_var\", \"features.7.0.downsample.0.weight\", \"features.7.0.downsample.1.weight\", \"features.7.0.downsample.1.bias\", \"features.7.0.downsample.1.running_mean\", \"features.7.0.downsample.1.running_var\", \"features.7.1.conv1.weight\", \"features.7.1.bn1.weight\", \"features.7.1.bn1.bias\", \"features.7.1.bn1.running_mean\", \"features.7.1.bn1.running_var\", \"features.7.1.conv2.weight\", \"features.7.1.bn2.weight\", \"features.7.1.bn2.bias\", \"features.7.1.bn2.running_mean\", \"features.7.1.bn2.running_var\", \"features.7.2.conv1.weight\", \"features.7.2.bn1.weight\", \"features.7.2.bn1.bias\", \"features.7.2.bn1.running_mean\", \"features.7.2.bn1.running_var\", \"features.7.2.conv2.weight\", \"features.7.2.bn2.weight\", \"features.7.2.bn2.bias\", \"features.7.2.bn2.running_mean\", \"features.7.2.bn2.running_var\". ",
     "output_type": "error",
     "traceback": [
      "\u001b[0;31m---------------------------------------------------------------------------\u001b[0m",
      "\u001b[0;31mRuntimeError\u001b[0m                              Traceback (most recent call last)",
      "\u001b[0;32m<ipython-input-56-1dbd157b3468>\u001b[0m in \u001b[0;36m<module>\u001b[0;34m()\u001b[0m\n\u001b[0;32m----> 1\u001b[0;31m \u001b[0mlearner\u001b[0m\u001b[0;34m.\u001b[0m\u001b[0mload\u001b[0m\u001b[0;34m(\u001b[0m\u001b[0;34m'test_sf_2d'\u001b[0m\u001b[0;34m)\u001b[0m\u001b[0;34m\u001b[0m\u001b[0m\n\u001b[0m",
      "\u001b[0;32m~/Desktop/PPMI/PPMI/fastai/learner.py\u001b[0m in \u001b[0;36mload\u001b[0;34m(self, name)\u001b[0m\n\u001b[1;32m     94\u001b[0m \u001b[0;34m\u001b[0m\u001b[0m\n\u001b[1;32m     95\u001b[0m     \u001b[0;32mdef\u001b[0m \u001b[0mload\u001b[0m\u001b[0;34m(\u001b[0m\u001b[0mself\u001b[0m\u001b[0;34m,\u001b[0m \u001b[0mname\u001b[0m\u001b[0;34m)\u001b[0m\u001b[0;34m:\u001b[0m\u001b[0;34m\u001b[0m\u001b[0m\n\u001b[0;32m---> 96\u001b[0;31m         \u001b[0mload_model\u001b[0m\u001b[0;34m(\u001b[0m\u001b[0mself\u001b[0m\u001b[0;34m.\u001b[0m\u001b[0mmodel\u001b[0m\u001b[0;34m,\u001b[0m \u001b[0mself\u001b[0m\u001b[0;34m.\u001b[0m\u001b[0mget_model_path\u001b[0m\u001b[0;34m(\u001b[0m\u001b[0mname\u001b[0m\u001b[0;34m)\u001b[0m\u001b[0;34m)\u001b[0m\u001b[0;34m\u001b[0m\u001b[0m\n\u001b[0m\u001b[1;32m     97\u001b[0m         \u001b[0;32mif\u001b[0m \u001b[0mhasattr\u001b[0m\u001b[0;34m(\u001b[0m\u001b[0mself\u001b[0m\u001b[0;34m,\u001b[0m \u001b[0;34m'swa_model'\u001b[0m\u001b[0;34m)\u001b[0m\u001b[0;34m:\u001b[0m \u001b[0mload_model\u001b[0m\u001b[0;34m(\u001b[0m\u001b[0mself\u001b[0m\u001b[0;34m.\u001b[0m\u001b[0mswa_model\u001b[0m\u001b[0;34m,\u001b[0m \u001b[0mself\u001b[0m\u001b[0;34m.\u001b[0m\u001b[0mget_model_path\u001b[0m\u001b[0;34m(\u001b[0m\u001b[0mname\u001b[0m\u001b[0;34m)\u001b[0m\u001b[0;34m[\u001b[0m\u001b[0;34m:\u001b[0m\u001b[0;34m-\u001b[0m\u001b[0;36m3\u001b[0m\u001b[0;34m]\u001b[0m\u001b[0;34m+\u001b[0m\u001b[0;34m'-swa.h5'\u001b[0m\u001b[0;34m)\u001b[0m\u001b[0;34m\u001b[0m\u001b[0m\n\u001b[1;32m     98\u001b[0m \u001b[0;34m\u001b[0m\u001b[0m\n",
      "\u001b[0;32m~/Desktop/PPMI/PPMI/fastai/torch_imports.py\u001b[0m in \u001b[0;36mload_model\u001b[0;34m(m, p)\u001b[0m\n\u001b[1;32m     38\u001b[0m             \u001b[0;32mif\u001b[0m \u001b[0mn\u001b[0m\u001b[0;34m+\u001b[0m\u001b[0;34m'_raw'\u001b[0m \u001b[0;32mnot\u001b[0m \u001b[0;32min\u001b[0m \u001b[0msd\u001b[0m\u001b[0;34m:\u001b[0m \u001b[0msd\u001b[0m\u001b[0;34m[\u001b[0m\u001b[0mn\u001b[0m\u001b[0;34m+\u001b[0m\u001b[0;34m'_raw'\u001b[0m\u001b[0;34m]\u001b[0m \u001b[0;34m=\u001b[0m \u001b[0msd\u001b[0m\u001b[0;34m[\u001b[0m\u001b[0mn\u001b[0m\u001b[0;34m]\u001b[0m\u001b[0;34m\u001b[0m\u001b[0m\n\u001b[1;32m     39\u001b[0m             \u001b[0;32mdel\u001b[0m \u001b[0msd\u001b[0m\u001b[0;34m[\u001b[0m\u001b[0mn\u001b[0m\u001b[0;34m]\u001b[0m\u001b[0;34m\u001b[0m\u001b[0m\n\u001b[0;32m---> 40\u001b[0;31m     \u001b[0mm\u001b[0m\u001b[0;34m.\u001b[0m\u001b[0mload_state_dict\u001b[0m\u001b[0;34m(\u001b[0m\u001b[0msd\u001b[0m\u001b[0;34m)\u001b[0m\u001b[0;34m\u001b[0m\u001b[0m\n\u001b[0m\u001b[1;32m     41\u001b[0m \u001b[0;34m\u001b[0m\u001b[0m\n\u001b[1;32m     42\u001b[0m \u001b[0;32mdef\u001b[0m \u001b[0mload_pre\u001b[0m\u001b[0;34m(\u001b[0m\u001b[0mpre\u001b[0m\u001b[0;34m,\u001b[0m \u001b[0mf\u001b[0m\u001b[0;34m,\u001b[0m \u001b[0mfn\u001b[0m\u001b[0;34m)\u001b[0m\u001b[0;34m:\u001b[0m\u001b[0;34m\u001b[0m\u001b[0m\n",
      "\u001b[0;32m~/anaconda3/envs/fastai-cpu/lib/python3.6/site-packages/torch/nn/modules/module.py\u001b[0m in \u001b[0;36mload_state_dict\u001b[0;34m(self, state_dict, strict)\u001b[0m\n\u001b[1;32m    719\u001b[0m         \u001b[0;32mif\u001b[0m \u001b[0mlen\u001b[0m\u001b[0;34m(\u001b[0m\u001b[0merror_msgs\u001b[0m\u001b[0;34m)\u001b[0m \u001b[0;34m>\u001b[0m \u001b[0;36m0\u001b[0m\u001b[0;34m:\u001b[0m\u001b[0;34m\u001b[0m\u001b[0m\n\u001b[1;32m    720\u001b[0m             raise RuntimeError('Error(s) in loading state_dict for {}:\\n\\t{}'.format(\n\u001b[0;32m--> 721\u001b[0;31m                                self.__class__.__name__, \"\\n\\t\".join(error_msgs)))\n\u001b[0m\u001b[1;32m    722\u001b[0m \u001b[0;34m\u001b[0m\u001b[0m\n\u001b[1;32m    723\u001b[0m     \u001b[0;32mdef\u001b[0m \u001b[0mparameters\u001b[0m\u001b[0;34m(\u001b[0m\u001b[0mself\u001b[0m\u001b[0;34m)\u001b[0m\u001b[0;34m:\u001b[0m\u001b[0;34m\u001b[0m\u001b[0m\n",
      "\u001b[0;31mRuntimeError\u001b[0m: Error(s) in loading state_dict for Darknet:\n\tMissing key(s) in state_dict: \"features.0.0.weight\", \"features.0.1.weight\", \"features.0.1.bias\", \"features.0.1.running_mean\", \"features.0.1.running_var\", \"features.1.0.weight\", \"features.1.1.weight\", \"features.1.1.bias\", \"features.1.1.running_mean\", \"features.1.1.running_var\", \"features.2.conv1.0.weight\", \"features.2.conv1.1.weight\", \"features.2.conv1.1.bias\", \"features.2.conv1.1.running_mean\", \"features.2.conv1.1.running_var\", \"features.2.conv2.0.weight\", \"features.2.conv2.1.weight\", \"features.2.conv2.1.bias\", \"features.2.conv2.1.running_mean\", \"features.2.conv2.1.running_var\", \"features.3.0.weight\", \"features.3.1.weight\", \"features.3.1.bias\", \"features.3.1.running_mean\", \"features.3.1.running_var\", \"features.4.conv1.0.weight\", \"features.4.conv1.1.weight\", \"features.4.conv1.1.bias\", \"features.4.conv1.1.running_mean\", \"features.4.conv1.1.running_var\", \"features.4.conv2.0.weight\", \"features.4.conv2.1.weight\", \"features.4.conv2.1.bias\", \"features.4.conv2.1.running_mean\", \"features.4.conv2.1.running_var\", \"features.5.conv1.0.weight\", \"features.5.conv1.1.weight\", \"features.5.conv1.1.bias\", \"features.5.conv1.1.running_mean\", \"features.5.conv1.1.running_var\", \"features.5.conv2.0.weight\", \"features.5.conv2.1.weight\", \"features.5.conv2.1.bias\", \"features.5.conv2.1.running_mean\", \"features.5.conv2.1.running_var\", \"features.6.0.weight\", \"features.6.1.weight\", \"features.6.1.bias\", \"features.6.1.running_mean\", \"features.6.1.running_var\", \"features.7.conv1.0.weight\", \"features.7.conv1.1.weight\", \"features.7.conv1.1.bias\", \"features.7.conv1.1.running_mean\", \"features.7.conv1.1.running_var\", \"features.7.conv2.0.weight\", \"features.7.conv2.1.weight\", \"features.7.conv2.1.bias\", \"features.7.conv2.1.running_mean\", \"features.7.conv2.1.running_var\", \"features.8.conv1.0.weight\", \"features.8.conv1.1.weight\", \"features.8.conv1.1.bias\", \"features.8.conv1.1.running_mean\", \"features.8.conv1.1.running_var\", \"features.8.conv2.0.weight\", \"features.8.conv2.1.weight\", \"features.8.conv2.1.bias\", \"features.8.conv2.1.running_mean\", \"features.8.conv2.1.running_var\", \"features.9.conv1.0.weight\", \"features.9.conv1.1.weight\", \"features.9.conv1.1.bias\", \"features.9.conv1.1.running_mean\", \"features.9.conv1.1.running_var\", \"features.9.conv2.0.weight\", \"features.9.conv2.1.weight\", \"features.9.conv2.1.bias\", \"features.9.conv2.1.running_mean\", \"features.9.conv2.1.running_var\", \"features.10.conv1.0.weight\", \"features.10.conv1.1.weight\", \"features.10.conv1.1.bias\", \"features.10.conv1.1.running_mean\", \"features.10.conv1.1.running_var\", \"features.10.conv2.0.weight\", \"features.10.conv2.1.weight\", \"features.10.conv2.1.bias\", \"features.10.conv2.1.running_mean\", \"features.10.conv2.1.running_var\", \"features.11.0.weight\", \"features.11.1.weight\", \"features.11.1.bias\", \"features.11.1.running_mean\", \"features.11.1.running_var\", \"features.12.conv1.0.weight\", \"features.12.conv1.1.weight\", \"features.12.conv1.1.bias\", \"features.12.conv1.1.running_mean\", \"features.12.conv1.1.running_var\", \"features.12.conv2.0.weight\", \"features.12.conv2.1.weight\", \"features.12.conv2.1.bias\", \"features.12.conv2.1.running_mean\", \"features.12.conv2.1.running_var\", \"features.13.conv1.0.weight\", \"features.13.conv1.1.weight\", \"features.13.conv1.1.bias\", \"features.13.conv1.1.running_mean\", \"features.13.conv1.1.running_var\", \"features.13.conv2.0.weight\", \"features.13.conv2.1.weight\", \"features.13.conv2.1.bias\", \"features.13.conv2.1.running_mean\", \"features.13.conv2.1.running_var\", \"features.14.conv1.0.weight\", \"features.14.conv1.1.weight\", \"features.14.conv1.1.bias\", \"features.14.conv1.1.running_mean\", \"features.14.conv1.1.running_var\", \"features.14.conv2.0.weight\", \"features.14.conv2.1.weight\", \"features.14.conv2.1.bias\", \"features.14.conv2.1.running_mean\", \"features.14.conv2.1.running_var\", \"fc1.0.weight\", \"fc1.0.bias\", \"layers.0.weight\", \"layers.0.bias\". \n\tUnexpected key(s) in state_dict: \"head_layer.0.weight\", \"bns.0.weight\", \"bns.0.bias\", \"bns.0.running_mean\", \"bns.0.running_var\", \"bns.1.weight\", \"bns.1.bias\", \"bns.1.running_mean\", \"bns.1.running_var\", \"bns.2.weight\", \"bns.2.bias\", \"bns.2.running_mean\", \"bns.2.running_var\", \"lins.0.weight\", \"lins.0.bias\", \"lins.1.weight\", \"lins.1.bias\", \"lins.2.weight\", \"lins.2.bias\", \"fc_model1.0.weight\", \"fc_model1.0.bias\", \"fc_model1.0.running_mean\", \"fc_model1.0.running_var\", \"fc_model1.2.weight\", \"fc_model1.2.bias\", \"fc_model2.0.weight\", \"fc_model2.0.bias\", \"fc_model2.0.running_mean\", \"fc_model2.0.running_var\", \"fc_model2.2.weight\", \"fc_model2.2.bias\", \"fc_model2.4.weight\", \"fc_model2.4.bias\", \"fc_model2.4.running_mean\", \"fc_model2.4.running_var\", \"fc_model2.6.weight\", \"fc_model2.6.bias\", \"features.0.weight\", \"features.1.weight\", \"features.1.bias\", \"features.1.running_mean\", \"features.1.running_var\", \"features.4.0.conv1.weight\", \"features.4.0.bn1.weight\", \"features.4.0.bn1.bias\", \"features.4.0.bn1.running_mean\", \"features.4.0.bn1.running_var\", \"features.4.0.conv2.weight\", \"features.4.0.bn2.weight\", \"features.4.0.bn2.bias\", \"features.4.0.bn2.running_mean\", \"features.4.0.bn2.running_var\", \"features.4.1.conv1.weight\", \"features.4.1.bn1.weight\", \"features.4.1.bn1.bias\", \"features.4.1.bn1.running_mean\", \"features.4.1.bn1.running_var\", \"features.4.1.conv2.weight\", \"features.4.1.bn2.weight\", \"features.4.1.bn2.bias\", \"features.4.1.bn2.running_mean\", \"features.4.1.bn2.running_var\", \"features.4.2.conv1.weight\", \"features.4.2.bn1.weight\", \"features.4.2.bn1.bias\", \"features.4.2.bn1.running_mean\", \"features.4.2.bn1.running_var\", \"features.4.2.conv2.weight\", \"features.4.2.bn2.weight\", \"features.4.2.bn2.bias\", \"features.4.2.bn2.running_mean\", \"features.4.2.bn2.running_var\", \"features.5.0.conv1.weight\", \"features.5.0.bn1.weight\", \"features.5.0.bn1.bias\", \"features.5.0.bn1.running_mean\", \"features.5.0.bn1.running_var\", \"features.5.0.conv2.weight\", \"features.5.0.bn2.weight\", \"features.5.0.bn2.bias\", \"features.5.0.bn2.running_mean\", \"features.5.0.bn2.running_var\", \"features.5.0.downsample.0.weight\", \"features.5.0.downsample.1.weight\", \"features.5.0.downsample.1.bias\", \"features.5.0.downsample.1.running_mean\", \"features.5.0.downsample.1.running_var\", \"features.5.1.conv1.weight\", \"features.5.1.bn1.weight\", \"features.5.1.bn1.bias\", \"features.5.1.bn1.running_mean\", \"features.5.1.bn1.running_var\", \"features.5.1.conv2.weight\", \"features.5.1.bn2.weight\", \"features.5.1.bn2.bias\", \"features.5.1.bn2.running_mean\", \"features.5.1.bn2.running_var\", \"features.5.2.conv1.weight\", \"features.5.2.bn1.weight\", \"features.5.2.bn1.bias\", \"features.5.2.bn1.running_mean\", \"features.5.2.bn1.running_var\", \"features.5.2.conv2.weight\", \"features.5.2.bn2.weight\", \"features.5.2.bn2.bias\", \"features.5.2.bn2.running_mean\", \"features.5.2.bn2.running_var\", \"features.5.3.conv1.weight\", \"features.5.3.bn1.weight\", \"features.5.3.bn1.bias\", \"features.5.3.bn1.running_mean\", \"features.5.3.bn1.running_var\", \"features.5.3.conv2.weight\", \"features.5.3.bn2.weight\", \"features.5.3.bn2.bias\", \"features.5.3.bn2.running_mean\", \"features.5.3.bn2.running_var\", \"features.6.3.conv1.weight\", \"features.6.3.bn1.weight\", \"features.6.3.bn1.bias\", \"features.6.3.bn1.running_mean\", \"features.6.3.bn1.running_var\", \"features.6.3.conv2.weight\", \"features.6.3.bn2.weight\", \"features.6.3.bn2.bias\", \"features.6.3.bn2.running_mean\", \"features.6.3.bn2.running_var\", \"features.6.4.conv1.weight\", \"features.6.4.bn1.weight\", \"features.6.4.bn1.bias\", \"features.6.4.bn1.running_mean\", \"features.6.4.bn1.running_var\", \"features.6.4.conv2.weight\", \"features.6.4.bn2.weight\", \"features.6.4.bn2.bias\", \"features.6.4.bn2.running_mean\", \"features.6.4.bn2.running_var\", \"features.6.5.conv1.weight\", \"features.6.5.bn1.weight\", \"features.6.5.bn1.bias\", \"features.6.5.bn1.running_mean\", \"features.6.5.bn1.running_var\", \"features.6.5.conv2.weight\", \"features.6.5.bn2.weight\", \"features.6.5.bn2.bias\", \"features.6.5.bn2.running_mean\", \"features.6.5.bn2.running_var\", \"features.6.0.conv1.weight\", \"features.6.0.bn1.weight\", \"features.6.0.bn1.bias\", \"features.6.0.bn1.running_mean\", \"features.6.0.bn1.running_var\", \"features.6.0.conv2.weight\", \"features.6.0.bn2.weight\", \"features.6.0.bn2.bias\", \"features.6.0.bn2.running_mean\", \"features.6.0.bn2.running_var\", \"features.6.0.downsample.0.weight\", \"features.6.0.downsample.1.weight\", \"features.6.0.downsample.1.bias\", \"features.6.0.downsample.1.running_mean\", \"features.6.0.downsample.1.running_var\", \"features.6.1.conv1.weight\", \"features.6.1.bn1.weight\", \"features.6.1.bn1.bias\", \"features.6.1.bn1.running_mean\", \"features.6.1.bn1.running_var\", \"features.6.1.conv2.weight\", \"features.6.1.bn2.weight\", \"features.6.1.bn2.bias\", \"features.6.1.bn2.running_mean\", \"features.6.1.bn2.running_var\", \"features.6.2.conv1.weight\", \"features.6.2.bn1.weight\", \"features.6.2.bn1.bias\", \"features.6.2.bn1.running_mean\", \"features.6.2.bn1.running_var\", \"features.6.2.conv2.weight\", \"features.6.2.bn2.weight\", \"features.6.2.bn2.bias\", \"features.6.2.bn2.running_mean\", \"features.6.2.bn2.running_var\", \"features.7.0.conv1.weight\", \"features.7.0.bn1.weight\", \"features.7.0.bn1.bias\", \"features.7.0.bn1.running_mean\", \"features.7.0.bn1.running_var\", \"features.7.0.conv2.weight\", \"features.7.0.bn2.weight\", \"features.7.0.bn2.bias\", \"features.7.0.bn2.running_mean\", \"features.7.0.bn2.running_var\", \"features.7.0.downsample.0.weight\", \"features.7.0.downsample.1.weight\", \"features.7.0.downsample.1.bias\", \"features.7.0.downsample.1.running_mean\", \"features.7.0.downsample.1.running_var\", \"features.7.1.conv1.weight\", \"features.7.1.bn1.weight\", \"features.7.1.bn1.bias\", \"features.7.1.bn1.running_mean\", \"features.7.1.bn1.running_var\", \"features.7.1.conv2.weight\", \"features.7.1.bn2.weight\", \"features.7.1.bn2.bias\", \"features.7.1.bn2.running_mean\", \"features.7.1.bn2.running_var\", \"features.7.2.conv1.weight\", \"features.7.2.bn1.weight\", \"features.7.2.bn1.bias\", \"features.7.2.bn1.running_mean\", \"features.7.2.bn1.running_var\", \"features.7.2.conv2.weight\", \"features.7.2.bn2.weight\", \"features.7.2.bn2.bias\", \"features.7.2.bn2.running_mean\", \"features.7.2.bn2.running_var\". "
     ]
    }
   ],
   "source": [
    "learner.load('test_sf_2d')"
   ]
  },
  {
   "cell_type": "code",
   "execution_count": 267,
   "metadata": {
    "scrolled": true
   },
   "outputs": [
    {
     "data": {
      "application/vnd.jupyter.widget-view+json": {
       "model_id": "5fb8768930374a8f8d8c0bf1fc2c9ac8",
       "version_major": 2,
       "version_minor": 0
      },
      "text/plain": [
       "HBox(children=(IntProgress(value=0, description='Epoch', max=1), HTML(value='')))"
      ]
     },
     "metadata": {},
     "output_type": "display_data"
    },
    {
     "name": "stdout",
     "output_type": "stream",
     "text": [
      " 65%|██████▍   | 24/37 [00:22<00:11,  1.09it/s, loss=1.63] "
     ]
    }
   ],
   "source": [
    "learner.lr_find()"
   ]
  },
  {
   "cell_type": "code",
   "execution_count": 269,
   "metadata": {},
   "outputs": [
    {
     "data": {
      "image/png": "[encoded data removed]",
      "text/plain": [
       "<Figure size 432x288 with 1 Axes>"
      ]
     },
     "metadata": {},
     "output_type": "display_data"
    }
   ],
   "source": [
    "learner.sched.plot(n_skip=1,n_skip_end=5)"
   ]
  },
  {
   "cell_type": "code",
   "execution_count": 382,
   "metadata": {
    "scrolled": false
   },
   "outputs": [
    {
     "data": {
      "application/vnd.jupyter.widget-view+json": {
       "model_id": "fc49ba9dc8624ca0b3868874ac0cb1f6",
       "version_major": 2,
       "version_minor": 0
      },
      "text/plain": [
       "HBox(children=(IntProgress(value=0, description='Epoch', max=10), HTML(value='')))"
      ]
     },
     "metadata": {},
     "output_type": "display_data"
    },
    {
     "name": "stdout",
     "output_type": "stream",
     "text": [
      " 60%|██████    | 6/10 [00:20<00:13,  3.34s/it, loss=24.7]"
     ]
    },
    {
     "ename": "KeyboardInterrupt",
     "evalue": "",
     "output_type": "error",
     "traceback": [
      "\u001b[0;31m---------------------------------------------------------------------------\u001b[0m",
      "\u001b[0;31mKeyboardInterrupt\u001b[0m                         Traceback (most recent call last)",
      "\u001b[0;32m<ipython-input-382-b427d63faaa4>\u001b[0m in \u001b[0;36m<module>\u001b[0;34m()\u001b[0m\n\u001b[0;32m----> 1\u001b[0;31m \u001b[0mlearner\u001b[0m\u001b[0;34m.\u001b[0m\u001b[0mfit\u001b[0m\u001b[0;34m(\u001b[0m\u001b[0;36m1e-3\u001b[0m\u001b[0;34m,\u001b[0m\u001b[0;36m10\u001b[0m\u001b[0;34m,\u001b[0m\u001b[0mwds\u001b[0m\u001b[0;34m=\u001b[0m\u001b[0;36m1e-4\u001b[0m\u001b[0;34m)\u001b[0m\u001b[0;34m\u001b[0m\u001b[0m\n\u001b[0m",
      "\u001b[0;32m~/Desktop/PPMI/PPMI/fastai/learner.py\u001b[0m in \u001b[0;36mfit\u001b[0;34m(self, lrs, n_cycle, wds, **kwargs)\u001b[0m\n\u001b[1;32m    296\u001b[0m         \u001b[0mself\u001b[0m\u001b[0;34m.\u001b[0m\u001b[0msched\u001b[0m \u001b[0;34m=\u001b[0m \u001b[0;32mNone\u001b[0m\u001b[0;34m\u001b[0m\u001b[0m\n\u001b[1;32m    297\u001b[0m         \u001b[0mlayer_opt\u001b[0m \u001b[0;34m=\u001b[0m \u001b[0mself\u001b[0m\u001b[0;34m.\u001b[0m\u001b[0mget_layer_opt\u001b[0m\u001b[0;34m(\u001b[0m\u001b[0mlrs\u001b[0m\u001b[0;34m,\u001b[0m \u001b[0mwds\u001b[0m\u001b[0;34m)\u001b[0m\u001b[0;34m\u001b[0m\u001b[0m\n\u001b[0;32m--> 298\u001b[0;31m         \u001b[0;32mreturn\u001b[0m \u001b[0mself\u001b[0m\u001b[0;34m.\u001b[0m\u001b[0mfit_gen\u001b[0m\u001b[0;34m(\u001b[0m\u001b[0mself\u001b[0m\u001b[0;34m.\u001b[0m\u001b[0mmodel\u001b[0m\u001b[0;34m,\u001b[0m \u001b[0mself\u001b[0m\u001b[0;34m.\u001b[0m\u001b[0mdata\u001b[0m\u001b[0;34m,\u001b[0m \u001b[0mlayer_opt\u001b[0m\u001b[0;34m,\u001b[0m \u001b[0mn_cycle\u001b[0m\u001b[0;34m,\u001b[0m \u001b[0;34m**\u001b[0m\u001b[0mkwargs\u001b[0m\u001b[0;34m)\u001b[0m\u001b[0;34m\u001b[0m\u001b[0m\n\u001b[0m\u001b[1;32m    299\u001b[0m \u001b[0;34m\u001b[0m\u001b[0m\n\u001b[1;32m    300\u001b[0m     \u001b[0;32mdef\u001b[0m \u001b[0mwarm_up\u001b[0m\u001b[0;34m(\u001b[0m\u001b[0mself\u001b[0m\u001b[0;34m,\u001b[0m \u001b[0mlr\u001b[0m\u001b[0;34m,\u001b[0m \u001b[0mwds\u001b[0m\u001b[0;34m=\u001b[0m\u001b[0;32mNone\u001b[0m\u001b[0;34m)\u001b[0m\u001b[0;34m:\u001b[0m\u001b[0;34m\u001b[0m\u001b[0m\n",
      "\u001b[0;32m~/Desktop/PPMI/PPMI/fastai/learner.py\u001b[0m in \u001b[0;36mfit_gen\u001b[0;34m(self, model, data, layer_opt, n_cycle, cycle_len, cycle_mult, cycle_save_name, best_save_name, use_clr, use_clr_beta, metrics, callbacks, use_wd_sched, norm_wds, wds_sched_mult, use_swa, swa_start, swa_eval_freq, **kwargs)\u001b[0m\n\u001b[1;32m    243\u001b[0m             \u001b[0mmetrics\u001b[0m\u001b[0;34m=\u001b[0m\u001b[0mmetrics\u001b[0m\u001b[0;34m,\u001b[0m \u001b[0mcallbacks\u001b[0m\u001b[0;34m=\u001b[0m\u001b[0mcallbacks\u001b[0m\u001b[0;34m,\u001b[0m \u001b[0mreg_fn\u001b[0m\u001b[0;34m=\u001b[0m\u001b[0mself\u001b[0m\u001b[0;34m.\u001b[0m\u001b[0mreg_fn\u001b[0m\u001b[0;34m,\u001b[0m \u001b[0mclip\u001b[0m\u001b[0;34m=\u001b[0m\u001b[0mself\u001b[0m\u001b[0;34m.\u001b[0m\u001b[0mclip\u001b[0m\u001b[0;34m,\u001b[0m \u001b[0mfp16\u001b[0m\u001b[0;34m=\u001b[0m\u001b[0mself\u001b[0m\u001b[0;34m.\u001b[0m\u001b[0mfp16\u001b[0m\u001b[0;34m,\u001b[0m\u001b[0;34m\u001b[0m\u001b[0m\n\u001b[1;32m    244\u001b[0m             \u001b[0mswa_model\u001b[0m\u001b[0;34m=\u001b[0m\u001b[0mself\u001b[0m\u001b[0;34m.\u001b[0m\u001b[0mswa_model\u001b[0m \u001b[0;32mif\u001b[0m \u001b[0muse_swa\u001b[0m \u001b[0;32melse\u001b[0m \u001b[0;32mNone\u001b[0m\u001b[0;34m,\u001b[0m \u001b[0mswa_start\u001b[0m\u001b[0;34m=\u001b[0m\u001b[0mswa_start\u001b[0m\u001b[0;34m,\u001b[0m\u001b[0;34m\u001b[0m\u001b[0m\n\u001b[0;32m--> 245\u001b[0;31m             swa_eval_freq=swa_eval_freq, **kwargs)\n\u001b[0m\u001b[1;32m    246\u001b[0m \u001b[0;34m\u001b[0m\u001b[0m\n\u001b[1;32m    247\u001b[0m     \u001b[0;32mdef\u001b[0m \u001b[0mget_layer_groups\u001b[0m\u001b[0;34m(\u001b[0m\u001b[0mself\u001b[0m\u001b[0;34m)\u001b[0m\u001b[0;34m:\u001b[0m \u001b[0;32mreturn\u001b[0m \u001b[0mself\u001b[0m\u001b[0;34m.\u001b[0m\u001b[0mmodels\u001b[0m\u001b[0;34m.\u001b[0m\u001b[0mget_layer_groups\u001b[0m\u001b[0;34m(\u001b[0m\u001b[0;34m)\u001b[0m\u001b[0;34m\u001b[0m\u001b[0m\n",
      "\u001b[0;32m~/Desktop/PPMI/PPMI/fastai/model.py\u001b[0m in \u001b[0;36mfit\u001b[0;34m(model, data, n_epochs, opt, crit, metrics, callbacks, stepper, swa_model, swa_start, swa_eval_freq, visualize, **kwargs)\u001b[0m\n\u001b[1;32m    138\u001b[0m             \u001b[0mbatch_num\u001b[0m \u001b[0;34m+=\u001b[0m \u001b[0;36m1\u001b[0m\u001b[0;34m\u001b[0m\u001b[0m\n\u001b[1;32m    139\u001b[0m             \u001b[0;32mfor\u001b[0m \u001b[0mcb\u001b[0m \u001b[0;32min\u001b[0m \u001b[0mcallbacks\u001b[0m\u001b[0;34m:\u001b[0m \u001b[0mcb\u001b[0m\u001b[0;34m.\u001b[0m\u001b[0mon_batch_begin\u001b[0m\u001b[0;34m(\u001b[0m\u001b[0;34m)\u001b[0m\u001b[0;34m\u001b[0m\u001b[0m\n\u001b[0;32m--> 140\u001b[0;31m             \u001b[0mloss\u001b[0m \u001b[0;34m=\u001b[0m \u001b[0mmodel_stepper\u001b[0m\u001b[0;34m.\u001b[0m\u001b[0mstep\u001b[0m\u001b[0;34m(\u001b[0m\u001b[0mV\u001b[0m\u001b[0;34m(\u001b[0m\u001b[0mx\u001b[0m\u001b[0;34m)\u001b[0m\u001b[0;34m,\u001b[0m\u001b[0mV\u001b[0m\u001b[0;34m(\u001b[0m\u001b[0my\u001b[0m\u001b[0;34m)\u001b[0m\u001b[0;34m,\u001b[0m \u001b[0mepoch\u001b[0m\u001b[0;34m)\u001b[0m\u001b[0;34m\u001b[0m\u001b[0m\n\u001b[0m\u001b[1;32m    141\u001b[0m             \u001b[0mavg_loss\u001b[0m \u001b[0;34m=\u001b[0m \u001b[0mavg_loss\u001b[0m \u001b[0;34m*\u001b[0m \u001b[0mavg_mom\u001b[0m \u001b[0;34m+\u001b[0m \u001b[0mloss\u001b[0m \u001b[0;34m*\u001b[0m \u001b[0;34m(\u001b[0m\u001b[0;36m1\u001b[0m\u001b[0;34m-\u001b[0m\u001b[0mavg_mom\u001b[0m\u001b[0;34m)\u001b[0m\u001b[0;34m\u001b[0m\u001b[0m\n\u001b[1;32m    142\u001b[0m             \u001b[0mdebias_loss\u001b[0m \u001b[0;34m=\u001b[0m \u001b[0mavg_loss\u001b[0m \u001b[0;34m/\u001b[0m \u001b[0;34m(\u001b[0m\u001b[0;36m1\u001b[0m \u001b[0;34m-\u001b[0m \u001b[0mavg_mom\u001b[0m\u001b[0;34m**\u001b[0m\u001b[0mbatch_num\u001b[0m\u001b[0;34m)\u001b[0m\u001b[0;34m\u001b[0m\u001b[0m\n",
      "\u001b[0;32m~/Desktop/PPMI/PPMI/fastai/model.py\u001b[0m in \u001b[0;36mstep\u001b[0;34m(self, xs, y, epoch)\u001b[0m\n\u001b[1;32m     55\u001b[0m         \u001b[0;32mif\u001b[0m \u001b[0mself\u001b[0m\u001b[0;34m.\u001b[0m\u001b[0mloss_scale\u001b[0m \u001b[0;34m!=\u001b[0m \u001b[0;36m1\u001b[0m\u001b[0;34m:\u001b[0m \u001b[0;32massert\u001b[0m\u001b[0;34m(\u001b[0m\u001b[0mself\u001b[0m\u001b[0;34m.\u001b[0m\u001b[0mfp16\u001b[0m\u001b[0;34m)\u001b[0m\u001b[0;34m;\u001b[0m \u001b[0mloss\u001b[0m \u001b[0;34m=\u001b[0m \u001b[0mloss\u001b[0m\u001b[0;34m*\u001b[0m\u001b[0mself\u001b[0m\u001b[0;34m.\u001b[0m\u001b[0mloss_scale\u001b[0m\u001b[0;34m\u001b[0m\u001b[0m\n\u001b[1;32m     56\u001b[0m         \u001b[0;32mif\u001b[0m \u001b[0mself\u001b[0m\u001b[0;34m.\u001b[0m\u001b[0mreg_fn\u001b[0m\u001b[0;34m:\u001b[0m \u001b[0mloss\u001b[0m \u001b[0;34m=\u001b[0m \u001b[0mself\u001b[0m\u001b[0;34m.\u001b[0m\u001b[0mreg_fn\u001b[0m\u001b[0;34m(\u001b[0m\u001b[0moutput\u001b[0m\u001b[0;34m,\u001b[0m \u001b[0mxtra\u001b[0m\u001b[0;34m,\u001b[0m \u001b[0mraw_loss\u001b[0m\u001b[0;34m)\u001b[0m\u001b[0;34m\u001b[0m\u001b[0m\n\u001b[0;32m---> 57\u001b[0;31m         \u001b[0mloss\u001b[0m\u001b[0;34m.\u001b[0m\u001b[0mbackward\u001b[0m\u001b[0;34m(\u001b[0m\u001b[0;34m)\u001b[0m\u001b[0;34m\u001b[0m\u001b[0m\n\u001b[0m\u001b[1;32m     58\u001b[0m         \u001b[0;32mif\u001b[0m \u001b[0mself\u001b[0m\u001b[0;34m.\u001b[0m\u001b[0mfp16\u001b[0m\u001b[0;34m:\u001b[0m \u001b[0mupdate_fp32_grads\u001b[0m\u001b[0;34m(\u001b[0m\u001b[0mself\u001b[0m\u001b[0;34m.\u001b[0m\u001b[0mfp32_params\u001b[0m\u001b[0;34m,\u001b[0m \u001b[0mself\u001b[0m\u001b[0;34m.\u001b[0m\u001b[0mm\u001b[0m\u001b[0;34m)\u001b[0m\u001b[0;34m\u001b[0m\u001b[0m\n\u001b[1;32m     59\u001b[0m         \u001b[0;32mif\u001b[0m \u001b[0mself\u001b[0m\u001b[0;34m.\u001b[0m\u001b[0mloss_scale\u001b[0m \u001b[0;34m!=\u001b[0m \u001b[0;36m1\u001b[0m\u001b[0;34m:\u001b[0m\u001b[0;34m\u001b[0m\u001b[0m\n",
      "\u001b[0;32m~/anaconda3/envs/fastai-cpu/lib/python3.6/site-packages/torch/tensor.py\u001b[0m in \u001b[0;36mbackward\u001b[0;34m(self, gradient, retain_graph, create_graph)\u001b[0m\n\u001b[1;32m     91\u001b[0m                 \u001b[0mproducts\u001b[0m\u001b[0;34m.\u001b[0m \u001b[0mDefaults\u001b[0m \u001b[0mto\u001b[0m\u001b[0;31m \u001b[0m\u001b[0;31m`\u001b[0m\u001b[0;31m`\u001b[0m\u001b[0;32mFalse\u001b[0m\u001b[0;31m`\u001b[0m\u001b[0;31m`\u001b[0m\u001b[0;34m.\u001b[0m\u001b[0;34m\u001b[0m\u001b[0m\n\u001b[1;32m     92\u001b[0m         \"\"\"\n\u001b[0;32m---> 93\u001b[0;31m         \u001b[0mtorch\u001b[0m\u001b[0;34m.\u001b[0m\u001b[0mautograd\u001b[0m\u001b[0;34m.\u001b[0m\u001b[0mbackward\u001b[0m\u001b[0;34m(\u001b[0m\u001b[0mself\u001b[0m\u001b[0;34m,\u001b[0m \u001b[0mgradient\u001b[0m\u001b[0;34m,\u001b[0m \u001b[0mretain_graph\u001b[0m\u001b[0;34m,\u001b[0m \u001b[0mcreate_graph\u001b[0m\u001b[0;34m)\u001b[0m\u001b[0;34m\u001b[0m\u001b[0m\n\u001b[0m\u001b[1;32m     94\u001b[0m \u001b[0;34m\u001b[0m\u001b[0m\n\u001b[1;32m     95\u001b[0m     \u001b[0;32mdef\u001b[0m \u001b[0mregister_hook\u001b[0m\u001b[0;34m(\u001b[0m\u001b[0mself\u001b[0m\u001b[0;34m,\u001b[0m \u001b[0mhook\u001b[0m\u001b[0;34m)\u001b[0m\u001b[0;34m:\u001b[0m\u001b[0;34m\u001b[0m\u001b[0m\n",
      "\u001b[0;32m~/anaconda3/envs/fastai-cpu/lib/python3.6/site-packages/torch/autograd/__init__.py\u001b[0m in \u001b[0;36mbackward\u001b[0;34m(tensors, grad_tensors, retain_graph, create_graph, grad_variables)\u001b[0m\n\u001b[1;32m     87\u001b[0m     Variable._execution_engine.run_backward(\n\u001b[1;32m     88\u001b[0m         \u001b[0mtensors\u001b[0m\u001b[0;34m,\u001b[0m \u001b[0mgrad_tensors\u001b[0m\u001b[0;34m,\u001b[0m \u001b[0mretain_graph\u001b[0m\u001b[0;34m,\u001b[0m \u001b[0mcreate_graph\u001b[0m\u001b[0;34m,\u001b[0m\u001b[0;34m\u001b[0m\u001b[0m\n\u001b[0;32m---> 89\u001b[0;31m         allow_unreachable=True)  # allow_unreachable flag\n\u001b[0m\u001b[1;32m     90\u001b[0m \u001b[0;34m\u001b[0m\u001b[0m\n\u001b[1;32m     91\u001b[0m \u001b[0;34m\u001b[0m\u001b[0m\n",
      "\u001b[0;31mKeyboardInterrupt\u001b[0m: "
     ]
    }
   ],
   "source": [
    "learner.fit(1e-3,10,wds=1e-4)"
   ]
  },
  {
   "cell_type": "code",
   "execution_count": 383,
   "metadata": {},
   "outputs": [
    {
     "data": {
      "application/vnd.jupyter.widget-view+json": {
       "model_id": "48779a15a6074886a9bf7528fb744aa3",
       "version_major": 2,
       "version_minor": 0
      },
      "text/plain": [
       "HBox(children=(IntProgress(value=0, description='Epoch', max=1), HTML(value='')))"
      ]
     },
     "metadata": {},
     "output_type": "display_data"
    },
    {
     "name": "stdout",
     "output_type": "stream",
     "text": [
      " 10%|█         | 1/10 [00:03<00:30,  3.43s/it, loss=24.6]"
     ]
    },
    {
     "ename": "KeyboardInterrupt",
     "evalue": "",
     "output_type": "error",
     "traceback": [
      "\u001b[0;31m---------------------------------------------------------------------------\u001b[0m",
      "\u001b[0;31mKeyboardInterrupt\u001b[0m                         Traceback (most recent call last)",
      "\u001b[0;32m<ipython-input-383-1e258c7dc43c>\u001b[0m in \u001b[0;36m<module>\u001b[0;34m()\u001b[0m\n\u001b[1;32m      1\u001b[0m \u001b[0;32mfor\u001b[0m \u001b[0mi\u001b[0m \u001b[0;32min\u001b[0m \u001b[0mrange\u001b[0m\u001b[0;34m(\u001b[0m\u001b[0;36m5\u001b[0m\u001b[0;34m)\u001b[0m\u001b[0;34m:\u001b[0m\u001b[0;34m\u001b[0m\u001b[0m\n\u001b[1;32m      2\u001b[0m     \u001b[0;32mfor\u001b[0m \u001b[0mj\u001b[0m \u001b[0;32min\u001b[0m \u001b[0;34m[\u001b[0m\u001b[0;36m1e-4\u001b[0m \u001b[0;34m,\u001b[0m \u001b[0;36m5e-4\u001b[0m \u001b[0;34m,\u001b[0m \u001b[0;36m1e-3\u001b[0m\u001b[0;34m]\u001b[0m\u001b[0;34m:\u001b[0m\u001b[0;34m\u001b[0m\u001b[0m\n\u001b[0;32m----> 3\u001b[0;31m         \u001b[0mlearner\u001b[0m\u001b[0;34m.\u001b[0m\u001b[0mfit\u001b[0m\u001b[0;34m(\u001b[0m\u001b[0mj\u001b[0m\u001b[0;34m,\u001b[0m\u001b[0;36m1\u001b[0m\u001b[0;34m)\u001b[0m\u001b[0;34m\u001b[0m\u001b[0m\n\u001b[0m",
      "\u001b[0;32m~/Desktop/PPMI/PPMI/fastai/learner.py\u001b[0m in \u001b[0;36mfit\u001b[0;34m(self, lrs, n_cycle, wds, **kwargs)\u001b[0m\n\u001b[1;32m    296\u001b[0m         \u001b[0mself\u001b[0m\u001b[0;34m.\u001b[0m\u001b[0msched\u001b[0m \u001b[0;34m=\u001b[0m \u001b[0;32mNone\u001b[0m\u001b[0;34m\u001b[0m\u001b[0m\n\u001b[1;32m    297\u001b[0m         \u001b[0mlayer_opt\u001b[0m \u001b[0;34m=\u001b[0m \u001b[0mself\u001b[0m\u001b[0;34m.\u001b[0m\u001b[0mget_layer_opt\u001b[0m\u001b[0;34m(\u001b[0m\u001b[0mlrs\u001b[0m\u001b[0;34m,\u001b[0m \u001b[0mwds\u001b[0m\u001b[0;34m)\u001b[0m\u001b[0;34m\u001b[0m\u001b[0m\n\u001b[0;32m--> 298\u001b[0;31m         \u001b[0;32mreturn\u001b[0m \u001b[0mself\u001b[0m\u001b[0;34m.\u001b[0m\u001b[0mfit_gen\u001b[0m\u001b[0;34m(\u001b[0m\u001b[0mself\u001b[0m\u001b[0;34m.\u001b[0m\u001b[0mmodel\u001b[0m\u001b[0;34m,\u001b[0m \u001b[0mself\u001b[0m\u001b[0;34m.\u001b[0m\u001b[0mdata\u001b[0m\u001b[0;34m,\u001b[0m \u001b[0mlayer_opt\u001b[0m\u001b[0;34m,\u001b[0m \u001b[0mn_cycle\u001b[0m\u001b[0;34m,\u001b[0m \u001b[0;34m**\u001b[0m\u001b[0mkwargs\u001b[0m\u001b[0;34m)\u001b[0m\u001b[0;34m\u001b[0m\u001b[0m\n\u001b[0m\u001b[1;32m    299\u001b[0m \u001b[0;34m\u001b[0m\u001b[0m\n\u001b[1;32m    300\u001b[0m     \u001b[0;32mdef\u001b[0m \u001b[0mwarm_up\u001b[0m\u001b[0;34m(\u001b[0m\u001b[0mself\u001b[0m\u001b[0;34m,\u001b[0m \u001b[0mlr\u001b[0m\u001b[0;34m,\u001b[0m \u001b[0mwds\u001b[0m\u001b[0;34m=\u001b[0m\u001b[0;32mNone\u001b[0m\u001b[0;34m)\u001b[0m\u001b[0;34m:\u001b[0m\u001b[0;34m\u001b[0m\u001b[0m\n",
      "\u001b[0;32m~/Desktop/PPMI/PPMI/fastai/learner.py\u001b[0m in \u001b[0;36mfit_gen\u001b[0;34m(self, model, data, layer_opt, n_cycle, cycle_len, cycle_mult, cycle_save_name, best_save_name, use_clr, use_clr_beta, metrics, callbacks, use_wd_sched, norm_wds, wds_sched_mult, use_swa, swa_start, swa_eval_freq, **kwargs)\u001b[0m\n\u001b[1;32m    243\u001b[0m             \u001b[0mmetrics\u001b[0m\u001b[0;34m=\u001b[0m\u001b[0mmetrics\u001b[0m\u001b[0;34m,\u001b[0m \u001b[0mcallbacks\u001b[0m\u001b[0;34m=\u001b[0m\u001b[0mcallbacks\u001b[0m\u001b[0;34m,\u001b[0m \u001b[0mreg_fn\u001b[0m\u001b[0;34m=\u001b[0m\u001b[0mself\u001b[0m\u001b[0;34m.\u001b[0m\u001b[0mreg_fn\u001b[0m\u001b[0;34m,\u001b[0m \u001b[0mclip\u001b[0m\u001b[0;34m=\u001b[0m\u001b[0mself\u001b[0m\u001b[0;34m.\u001b[0m\u001b[0mclip\u001b[0m\u001b[0;34m,\u001b[0m \u001b[0mfp16\u001b[0m\u001b[0;34m=\u001b[0m\u001b[0mself\u001b[0m\u001b[0;34m.\u001b[0m\u001b[0mfp16\u001b[0m\u001b[0;34m,\u001b[0m\u001b[0;34m\u001b[0m\u001b[0m\n\u001b[1;32m    244\u001b[0m             \u001b[0mswa_model\u001b[0m\u001b[0;34m=\u001b[0m\u001b[0mself\u001b[0m\u001b[0;34m.\u001b[0m\u001b[0mswa_model\u001b[0m \u001b[0;32mif\u001b[0m \u001b[0muse_swa\u001b[0m \u001b[0;32melse\u001b[0m \u001b[0;32mNone\u001b[0m\u001b[0;34m,\u001b[0m \u001b[0mswa_start\u001b[0m\u001b[0;34m=\u001b[0m\u001b[0mswa_start\u001b[0m\u001b[0;34m,\u001b[0m\u001b[0;34m\u001b[0m\u001b[0m\n\u001b[0;32m--> 245\u001b[0;31m             swa_eval_freq=swa_eval_freq, **kwargs)\n\u001b[0m\u001b[1;32m    246\u001b[0m \u001b[0;34m\u001b[0m\u001b[0m\n\u001b[1;32m    247\u001b[0m     \u001b[0;32mdef\u001b[0m \u001b[0mget_layer_groups\u001b[0m\u001b[0;34m(\u001b[0m\u001b[0mself\u001b[0m\u001b[0;34m)\u001b[0m\u001b[0;34m:\u001b[0m \u001b[0;32mreturn\u001b[0m \u001b[0mself\u001b[0m\u001b[0;34m.\u001b[0m\u001b[0mmodels\u001b[0m\u001b[0;34m.\u001b[0m\u001b[0mget_layer_groups\u001b[0m\u001b[0;34m(\u001b[0m\u001b[0;34m)\u001b[0m\u001b[0;34m\u001b[0m\u001b[0m\n",
      "\u001b[0;32m~/Desktop/PPMI/PPMI/fastai/model.py\u001b[0m in \u001b[0;36mfit\u001b[0;34m(model, data, n_epochs, opt, crit, metrics, callbacks, stepper, swa_model, swa_start, swa_eval_freq, visualize, **kwargs)\u001b[0m\n\u001b[1;32m    138\u001b[0m             \u001b[0mbatch_num\u001b[0m \u001b[0;34m+=\u001b[0m \u001b[0;36m1\u001b[0m\u001b[0;34m\u001b[0m\u001b[0m\n\u001b[1;32m    139\u001b[0m             \u001b[0;32mfor\u001b[0m \u001b[0mcb\u001b[0m \u001b[0;32min\u001b[0m \u001b[0mcallbacks\u001b[0m\u001b[0;34m:\u001b[0m \u001b[0mcb\u001b[0m\u001b[0;34m.\u001b[0m\u001b[0mon_batch_begin\u001b[0m\u001b[0;34m(\u001b[0m\u001b[0;34m)\u001b[0m\u001b[0;34m\u001b[0m\u001b[0m\n\u001b[0;32m--> 140\u001b[0;31m             \u001b[0mloss\u001b[0m \u001b[0;34m=\u001b[0m \u001b[0mmodel_stepper\u001b[0m\u001b[0;34m.\u001b[0m\u001b[0mstep\u001b[0m\u001b[0;34m(\u001b[0m\u001b[0mV\u001b[0m\u001b[0;34m(\u001b[0m\u001b[0mx\u001b[0m\u001b[0;34m)\u001b[0m\u001b[0;34m,\u001b[0m\u001b[0mV\u001b[0m\u001b[0;34m(\u001b[0m\u001b[0my\u001b[0m\u001b[0;34m)\u001b[0m\u001b[0;34m,\u001b[0m \u001b[0mepoch\u001b[0m\u001b[0;34m)\u001b[0m\u001b[0;34m\u001b[0m\u001b[0m\n\u001b[0m\u001b[1;32m    141\u001b[0m             \u001b[0mavg_loss\u001b[0m \u001b[0;34m=\u001b[0m \u001b[0mavg_loss\u001b[0m \u001b[0;34m*\u001b[0m \u001b[0mavg_mom\u001b[0m \u001b[0;34m+\u001b[0m \u001b[0mloss\u001b[0m \u001b[0;34m*\u001b[0m \u001b[0;34m(\u001b[0m\u001b[0;36m1\u001b[0m\u001b[0;34m-\u001b[0m\u001b[0mavg_mom\u001b[0m\u001b[0;34m)\u001b[0m\u001b[0;34m\u001b[0m\u001b[0m\n\u001b[1;32m    142\u001b[0m             \u001b[0mdebias_loss\u001b[0m \u001b[0;34m=\u001b[0m \u001b[0mavg_loss\u001b[0m \u001b[0;34m/\u001b[0m \u001b[0;34m(\u001b[0m\u001b[0;36m1\u001b[0m \u001b[0;34m-\u001b[0m \u001b[0mavg_mom\u001b[0m\u001b[0;34m**\u001b[0m\u001b[0mbatch_num\u001b[0m\u001b[0;34m)\u001b[0m\u001b[0;34m\u001b[0m\u001b[0m\n",
      "\u001b[0;32m~/Desktop/PPMI/PPMI/fastai/model.py\u001b[0m in \u001b[0;36mstep\u001b[0;34m(self, xs, y, epoch)\u001b[0m\n\u001b[1;32m     55\u001b[0m         \u001b[0;32mif\u001b[0m \u001b[0mself\u001b[0m\u001b[0;34m.\u001b[0m\u001b[0mloss_scale\u001b[0m \u001b[0;34m!=\u001b[0m \u001b[0;36m1\u001b[0m\u001b[0;34m:\u001b[0m \u001b[0;32massert\u001b[0m\u001b[0;34m(\u001b[0m\u001b[0mself\u001b[0m\u001b[0;34m.\u001b[0m\u001b[0mfp16\u001b[0m\u001b[0;34m)\u001b[0m\u001b[0;34m;\u001b[0m \u001b[0mloss\u001b[0m \u001b[0;34m=\u001b[0m \u001b[0mloss\u001b[0m\u001b[0;34m*\u001b[0m\u001b[0mself\u001b[0m\u001b[0;34m.\u001b[0m\u001b[0mloss_scale\u001b[0m\u001b[0;34m\u001b[0m\u001b[0m\n\u001b[1;32m     56\u001b[0m         \u001b[0;32mif\u001b[0m \u001b[0mself\u001b[0m\u001b[0;34m.\u001b[0m\u001b[0mreg_fn\u001b[0m\u001b[0;34m:\u001b[0m \u001b[0mloss\u001b[0m \u001b[0;34m=\u001b[0m \u001b[0mself\u001b[0m\u001b[0;34m.\u001b[0m\u001b[0mreg_fn\u001b[0m\u001b[0;34m(\u001b[0m\u001b[0moutput\u001b[0m\u001b[0;34m,\u001b[0m \u001b[0mxtra\u001b[0m\u001b[0;34m,\u001b[0m \u001b[0mraw_loss\u001b[0m\u001b[0;34m)\u001b[0m\u001b[0;34m\u001b[0m\u001b[0m\n\u001b[0;32m---> 57\u001b[0;31m         \u001b[0mloss\u001b[0m\u001b[0;34m.\u001b[0m\u001b[0mbackward\u001b[0m\u001b[0;34m(\u001b[0m\u001b[0;34m)\u001b[0m\u001b[0;34m\u001b[0m\u001b[0m\n\u001b[0m\u001b[1;32m     58\u001b[0m         \u001b[0;32mif\u001b[0m \u001b[0mself\u001b[0m\u001b[0;34m.\u001b[0m\u001b[0mfp16\u001b[0m\u001b[0;34m:\u001b[0m \u001b[0mupdate_fp32_grads\u001b[0m\u001b[0;34m(\u001b[0m\u001b[0mself\u001b[0m\u001b[0;34m.\u001b[0m\u001b[0mfp32_params\u001b[0m\u001b[0;34m,\u001b[0m \u001b[0mself\u001b[0m\u001b[0;34m.\u001b[0m\u001b[0mm\u001b[0m\u001b[0;34m)\u001b[0m\u001b[0;34m\u001b[0m\u001b[0m\n\u001b[1;32m     59\u001b[0m         \u001b[0;32mif\u001b[0m \u001b[0mself\u001b[0m\u001b[0;34m.\u001b[0m\u001b[0mloss_scale\u001b[0m \u001b[0;34m!=\u001b[0m \u001b[0;36m1\u001b[0m\u001b[0;34m:\u001b[0m\u001b[0;34m\u001b[0m\u001b[0m\n",
      "\u001b[0;32m~/anaconda3/envs/fastai-cpu/lib/python3.6/site-packages/torch/tensor.py\u001b[0m in \u001b[0;36mbackward\u001b[0;34m(self, gradient, retain_graph, create_graph)\u001b[0m\n\u001b[1;32m     91\u001b[0m                 \u001b[0mproducts\u001b[0m\u001b[0;34m.\u001b[0m \u001b[0mDefaults\u001b[0m \u001b[0mto\u001b[0m\u001b[0;31m \u001b[0m\u001b[0;31m`\u001b[0m\u001b[0;31m`\u001b[0m\u001b[0;32mFalse\u001b[0m\u001b[0;31m`\u001b[0m\u001b[0;31m`\u001b[0m\u001b[0;34m.\u001b[0m\u001b[0;34m\u001b[0m\u001b[0m\n\u001b[1;32m     92\u001b[0m         \"\"\"\n\u001b[0;32m---> 93\u001b[0;31m         \u001b[0mtorch\u001b[0m\u001b[0;34m.\u001b[0m\u001b[0mautograd\u001b[0m\u001b[0;34m.\u001b[0m\u001b[0mbackward\u001b[0m\u001b[0;34m(\u001b[0m\u001b[0mself\u001b[0m\u001b[0;34m,\u001b[0m \u001b[0mgradient\u001b[0m\u001b[0;34m,\u001b[0m \u001b[0mretain_graph\u001b[0m\u001b[0;34m,\u001b[0m \u001b[0mcreate_graph\u001b[0m\u001b[0;34m)\u001b[0m\u001b[0;34m\u001b[0m\u001b[0m\n\u001b[0m\u001b[1;32m     94\u001b[0m \u001b[0;34m\u001b[0m\u001b[0m\n\u001b[1;32m     95\u001b[0m     \u001b[0;32mdef\u001b[0m \u001b[0mregister_hook\u001b[0m\u001b[0;34m(\u001b[0m\u001b[0mself\u001b[0m\u001b[0;34m,\u001b[0m \u001b[0mhook\u001b[0m\u001b[0;34m)\u001b[0m\u001b[0;34m:\u001b[0m\u001b[0;34m\u001b[0m\u001b[0m\n",
      "\u001b[0;32m~/anaconda3/envs/fastai-cpu/lib/python3.6/site-packages/torch/autograd/__init__.py\u001b[0m in \u001b[0;36mbackward\u001b[0;34m(tensors, grad_tensors, retain_graph, create_graph, grad_variables)\u001b[0m\n\u001b[1;32m     87\u001b[0m     Variable._execution_engine.run_backward(\n\u001b[1;32m     88\u001b[0m         \u001b[0mtensors\u001b[0m\u001b[0;34m,\u001b[0m \u001b[0mgrad_tensors\u001b[0m\u001b[0;34m,\u001b[0m \u001b[0mretain_graph\u001b[0m\u001b[0;34m,\u001b[0m \u001b[0mcreate_graph\u001b[0m\u001b[0;34m,\u001b[0m\u001b[0;34m\u001b[0m\u001b[0m\n\u001b[0;32m---> 89\u001b[0;31m         allow_unreachable=True)  # allow_unreachable flag\n\u001b[0m\u001b[1;32m     90\u001b[0m \u001b[0;34m\u001b[0m\u001b[0m\n\u001b[1;32m     91\u001b[0m \u001b[0;34m\u001b[0m\u001b[0m\n",
      "\u001b[0;31mKeyboardInterrupt\u001b[0m: "
     ]
    }
   ],
   "source": [
    "for i in range(5):\n",
    "    for j in [1e-4 , 5e-4 , 1e-3]:\n",
    "        learner.fit(j,1)"
   ]
  },
  {
   "cell_type": "code",
   "execution_count": 279,
   "metadata": {},
   "outputs": [],
   "source": [
    "learner.save('test_sf_dk')"
   ]
  },
  {
   "cell_type": "code",
   "execution_count": 280,
   "metadata": {},
   "outputs": [
    {
     "data": {
      "text/plain": [
       "array([0.91489, 0.91488, 0.91489, 0.91489, 0.91489, 0.91489, 0.91489, 0.9149 , 0.9149 , 0.91489, 0.91489,\n",
       "       0.91489, 0.91489, 0.91489, 0.91487, 0.9149 , 0.91489, 0.91489, 0.91487, 0.91489, 0.91489, 0.91487,\n",
       "       0.91489, 0.9149 , 0.91489, 0.91489, 0.91489, 0.91489, 0.91489, 0.91489, 0.91489, 0.91489, 0.91489,\n",
       "       0.91489, 0.91489, 0.91489, 0.91489, 0.9149 , 0.91489, 0.91489, 0.91489, 0.91489, 0.91489, 0.91486,\n",
       "       0.91489, 0.91487, 0.91489, 0.91489, 0.91489, 0.9149 , 0.91489, 0.9149 , 0.91489, 0.91489, 0.91489,\n",
       "       0.91489, 0.91489, 0.91489, 0.91489, 0.91489, 0.91487, 0.91489, 0.91489, 0.91489, 0.91489, 0.91489,\n",
       "       0.91489, 0.91489, 0.9149 , 0.91489, 0.91489, 0.91489, 0.91489, 0.91489, 0.91489, 0.91489, 0.91489,\n",
       "       0.91489, 0.9149 , 0.91489, 0.9149 , 0.91489, 0.91489, 0.91491, 0.91489, 0.91489, 0.9149 , 0.91489,\n",
       "       0.9149 , 0.9149 , 0.91489, 0.91489, 0.91489, 0.91489, 0.91489, 0.9149 , 0.91489, 0.91489, 0.91489,\n",
       "       0.9149 , 0.91489, 0.91489, 0.91487, 0.91488, 0.91489, 0.9149 , 0.91489, 0.9149 , 0.91489, 0.91489,\n",
       "       0.91487, 0.91489, 0.91489, 0.91489, 0.91489, 0.91489, 0.9149 , 0.91489, 0.91487, 0.91489, 0.91491,\n",
       "       0.91489, 0.91489, 0.91489, 0.91489, 0.91489, 0.91489, 0.91489, 0.91489, 0.91489, 0.91489, 0.91489,\n",
       "       0.91489, 0.91489, 0.91487, 0.91489, 0.91487, 0.91489, 0.91489, 0.9149 , 0.9149 , 0.9149 , 0.91489,\n",
       "       0.91489, 0.91489, 0.91489, 0.91489, 0.9149 , 0.91489, 0.91489, 0.91489, 0.91489, 0.91489, 0.91489,\n",
       "       0.91489, 0.91489, 0.91489, 0.91489, 0.91489, 0.91489, 0.91489, 0.91489, 0.91489, 0.91489, 0.91489,\n",
       "       0.91489, 0.91489, 0.91489, 0.91489, 0.91489, 0.91489, 0.9149 , 0.9149 , 0.91488, 0.91489, 0.91489,\n",
       "       0.9149 , 0.91489, 0.91489, 0.91489, 0.91489, 0.91487, 0.9149 , 0.9149 , 0.9149 , 0.91489, 0.91489,\n",
       "       0.91489, 0.91487, 0.91489, 0.91489, 0.91489, 0.91489, 0.91489, 0.91489, 0.91489, 0.91489, 0.91489,\n",
       "       0.91489, 0.91489, 0.9149 , 0.91489, 0.91489, 0.91489, 0.91489, 0.9149 , 0.91489, 0.91489, 0.91489,\n",
       "       0.91488, 0.9149 , 0.9149 ], dtype=float32)"
      ]
     },
     "execution_count": 280,
     "metadata": {},
     "output_type": "execute_result"
    }
   ],
   "source": [
    "pred = learner.predict(is_test=True)\n",
    "pred"
   ]
  },
  {
   "cell_type": "code",
   "execution_count": 281,
   "metadata": {},
   "outputs": [],
   "source": [
    "predict=[]\n",
    "for i in pred:\n",
    "    if i >= 0.5:\n",
    "        predict.append(1)\n",
    "    else:\n",
    "        predict.append(0)"
   ]
  },
  {
   "cell_type": "code",
   "execution_count": 282,
   "metadata": {},
   "outputs": [],
   "source": [
    "fin = ((y_test.reshape(-1))==predict)"
   ]
  },
  {
   "cell_type": "code",
   "execution_count": 283,
   "metadata": {},
   "outputs": [
    {
     "name": "stdout",
     "output_type": "stream",
     "text": [
      "Accuracy\n"
     ]
    },
    {
     "data": {
      "text/plain": [
       "0.8537735849056604"
      ]
     },
     "execution_count": 283,
     "metadata": {},
     "output_type": "execute_result"
    }
   ],
   "source": [
    "print('Accuracy')\n",
    "np.count_nonzero(fin == True) / len(fin)"
   ]
  },
  {
   "cell_type": "code",
   "execution_count": 284,
   "metadata": {
    "scrolled": true
   },
   "outputs": [
    {
     "name": "stdout",
     "output_type": "stream",
     "text": [
      "False negative\n"
     ]
    },
    {
     "data": {
      "text/plain": [
       "0.0"
      ]
     },
     "execution_count": 284,
     "metadata": {},
     "output_type": "execute_result"
    }
   ],
   "source": [
    "print('False negative')\n",
    "np.sum((y_test)>np.array(predict))/len(fin)"
   ]
  },
  {
   "cell_type": "code",
   "execution_count": 285,
   "metadata": {},
   "outputs": [
    {
     "name": "stdout",
     "output_type": "stream",
     "text": [
      "False positive\n"
     ]
    },
    {
     "data": {
      "text/plain": [
       "0.14622641509433962"
      ]
     },
     "execution_count": 285,
     "metadata": {},
     "output_type": "execute_result"
    }
   ],
   "source": [
    "print('False positive')\n",
    "np.sum((y_test)<np.array(predict))/len(fin)"
   ]
  },
  {
   "cell_type": "code",
   "execution_count": null,
   "metadata": {
    "scrolled": false
   },
   "outputs": [],
   "source": [
    "sklearn.metrics.precision_recall_fscore_support(y_test, np.array(predict))"
   ]
  },
  {
   "cell_type": "code",
   "execution_count": null,
   "metadata": {},
   "outputs": [],
   "source": []
  },
  {
   "cell_type": "code",
   "execution_count": null,
   "metadata": {},
   "outputs": [],
   "source": []
  },
  {
   "cell_type": "code",
   "execution_count": 45,
   "metadata": {
    "scrolled": false
   },
   "outputs": [
    {
     "data": {
      "text/plain": [
       "Darknet(\n",
       "  (features): Sequential(\n",
       "    (0): Sequential(\n",
       "      (0): Conv2d(1, 32, kernel_size=(3, 3), stride=(1, 1), padding=(1, 1), bias=False)\n",
       "      (1): BatchNorm2d(32, eps=1e-05, momentum=0.01, affine=True, track_running_stats=True)\n",
       "      (2): LeakyReLU(negative_slope=0.1)\n",
       "    )\n",
       "    (1): Sequential(\n",
       "      (0): Conv2d(32, 64, kernel_size=(3, 3), stride=(2, 2), padding=(1, 1), bias=False)\n",
       "      (1): BatchNorm2d(64, eps=1e-05, momentum=0.01, affine=True, track_running_stats=True)\n",
       "      (2): LeakyReLU(negative_slope=0.1)\n",
       "    )\n",
       "    (2): ResLayer(\n",
       "      (conv1): Sequential(\n",
       "        (0): Conv2d(64, 32, kernel_size=(1, 1), stride=(1, 1), bias=False)\n",
       "        (1): BatchNorm2d(32, eps=1e-05, momentum=0.01, affine=True, track_running_stats=True)\n",
       "        (2): LeakyReLU(negative_slope=0.1)\n",
       "      )\n",
       "      (conv2): Sequential(\n",
       "        (0): Conv2d(32, 64, kernel_size=(3, 3), stride=(1, 1), padding=(1, 1), bias=False)\n",
       "        (1): BatchNorm2d(64, eps=1e-05, momentum=0.01, affine=True, track_running_stats=True)\n",
       "        (2): LeakyReLU(negative_slope=0.1)\n",
       "      )\n",
       "    )\n",
       "    (3): Sequential(\n",
       "      (0): Conv2d(64, 128, kernel_size=(3, 3), stride=(1, 1), padding=(1, 1), bias=False)\n",
       "      (1): BatchNorm2d(128, eps=1e-05, momentum=0.01, affine=True, track_running_stats=True)\n",
       "      (2): LeakyReLU(negative_slope=0.1)\n",
       "    )\n",
       "    (4): ResLayer(\n",
       "      (conv1): Sequential(\n",
       "        (0): Conv2d(128, 64, kernel_size=(1, 1), stride=(1, 1), bias=False)\n",
       "        (1): BatchNorm2d(64, eps=1e-05, momentum=0.01, affine=True, track_running_stats=True)\n",
       "        (2): LeakyReLU(negative_slope=0.1)\n",
       "      )\n",
       "      (conv2): Sequential(\n",
       "        (0): Conv2d(64, 128, kernel_size=(3, 3), stride=(1, 1), padding=(1, 1), bias=False)\n",
       "        (1): BatchNorm2d(128, eps=1e-05, momentum=0.01, affine=True, track_running_stats=True)\n",
       "        (2): LeakyReLU(negative_slope=0.1)\n",
       "      )\n",
       "    )\n",
       "    (5): ResLayer(\n",
       "      (conv1): Sequential(\n",
       "        (0): Conv2d(128, 64, kernel_size=(1, 1), stride=(1, 1), bias=False)\n",
       "        (1): BatchNorm2d(64, eps=1e-05, momentum=0.01, affine=True, track_running_stats=True)\n",
       "        (2): LeakyReLU(negative_slope=0.1)\n",
       "      )\n",
       "      (conv2): Sequential(\n",
       "        (0): Conv2d(64, 128, kernel_size=(3, 3), stride=(1, 1), padding=(1, 1), bias=False)\n",
       "        (1): BatchNorm2d(128, eps=1e-05, momentum=0.01, affine=True, track_running_stats=True)\n",
       "        (2): LeakyReLU(negative_slope=0.1)\n",
       "      )\n",
       "    )\n",
       "    (6): Sequential(\n",
       "      (0): Conv2d(128, 256, kernel_size=(3, 3), stride=(2, 2), padding=(1, 1), bias=False)\n",
       "      (1): BatchNorm2d(256, eps=1e-05, momentum=0.01, affine=True, track_running_stats=True)\n",
       "      (2): LeakyReLU(negative_slope=0.1)\n",
       "    )\n",
       "    (7): ResLayer(\n",
       "      (conv1): Sequential(\n",
       "        (0): Conv2d(256, 128, kernel_size=(1, 1), stride=(1, 1), bias=False)\n",
       "        (1): BatchNorm2d(128, eps=1e-05, momentum=0.01, affine=True, track_running_stats=True)\n",
       "        (2): LeakyReLU(negative_slope=0.1)\n",
       "      )\n",
       "      (conv2): Sequential(\n",
       "        (0): Conv2d(128, 256, kernel_size=(3, 3), stride=(1, 1), padding=(1, 1), bias=False)\n",
       "        (1): BatchNorm2d(256, eps=1e-05, momentum=0.01, affine=True, track_running_stats=True)\n",
       "        (2): LeakyReLU(negative_slope=0.1)\n",
       "      )\n",
       "    )\n",
       "    (8): ResLayer(\n",
       "      (conv1): Sequential(\n",
       "        (0): Conv2d(256, 128, kernel_size=(1, 1), stride=(1, 1), bias=False)\n",
       "        (1): BatchNorm2d(128, eps=1e-05, momentum=0.01, affine=True, track_running_stats=True)\n",
       "        (2): LeakyReLU(negative_slope=0.1)\n",
       "      )\n",
       "      (conv2): Sequential(\n",
       "        (0): Conv2d(128, 256, kernel_size=(3, 3), stride=(1, 1), padding=(1, 1), bias=False)\n",
       "        (1): BatchNorm2d(256, eps=1e-05, momentum=0.01, affine=True, track_running_stats=True)\n",
       "        (2): LeakyReLU(negative_slope=0.1)\n",
       "      )\n",
       "    )\n",
       "    (9): ResLayer(\n",
       "      (conv1): Sequential(\n",
       "        (0): Conv2d(256, 128, kernel_size=(1, 1), stride=(1, 1), bias=False)\n",
       "        (1): BatchNorm2d(128, eps=1e-05, momentum=0.01, affine=True, track_running_stats=True)\n",
       "        (2): LeakyReLU(negative_slope=0.1)\n",
       "      )\n",
       "      (conv2): Sequential(\n",
       "        (0): Conv2d(128, 256, kernel_size=(3, 3), stride=(1, 1), padding=(1, 1), bias=False)\n",
       "        (1): BatchNorm2d(256, eps=1e-05, momentum=0.01, affine=True, track_running_stats=True)\n",
       "        (2): LeakyReLU(negative_slope=0.1)\n",
       "      )\n",
       "    )\n",
       "    (10): ResLayer(\n",
       "      (conv1): Sequential(\n",
       "        (0): Conv2d(256, 128, kernel_size=(1, 1), stride=(1, 1), bias=False)\n",
       "        (1): BatchNorm2d(128, eps=1e-05, momentum=0.01, affine=True, track_running_stats=True)\n",
       "        (2): LeakyReLU(negative_slope=0.1)\n",
       "      )\n",
       "      (conv2): Sequential(\n",
       "        (0): Conv2d(128, 256, kernel_size=(3, 3), stride=(1, 1), padding=(1, 1), bias=False)\n",
       "        (1): BatchNorm2d(256, eps=1e-05, momentum=0.01, affine=True, track_running_stats=True)\n",
       "        (2): LeakyReLU(negative_slope=0.1)\n",
       "      )\n",
       "    )\n",
       "    (11): AdaptiveAvgPool2d(output_size=1)\n",
       "    (12): Flatten()\n",
       "  )\n",
       "  (fc1): Sequential(\n",
       "    (0): Linear(in_features=256, out_features=64, bias=True)\n",
       "    (1): LeakyReLU(negative_slope=0.1)\n",
       "    (2): Dropout(p=0.3)\n",
       "    (3): Dropout(p=0.5)\n",
       "  )\n",
       "  (layers): Sequential(\n",
       "    (0): Linear(in_features=64, out_features=1, bias=True)\n",
       "  )\n",
       ")"
      ]
     },
     "execution_count": 45,
     "metadata": {},
     "output_type": "execute_result"
    }
   ],
   "source": [
    "m = Darknet([1,2,4], num_classes=1, nf=32)\n",
    "m.double()\n",
    "#m = nn.DataParallel(m, [1,2,3])"
   ]
  },
  {
   "cell_type": "code",
   "execution_count": 210,
   "metadata": {},
   "outputs": [],
   "source": [
    "#m= m.eval()\n",
    "#set_trainable(m, False)"
   ]
  },
  {
   "cell_type": "code",
   "execution_count": 199,
   "metadata": {},
   "outputs": [
    {
     "data": {
      "text/plain": [
       "ResLayer(\n",
       "  (conv1): Sequential(\n",
       "    (0): Conv2d(128, 64, kernel_size=(1, 1), stride=(1, 1), bias=False)\n",
       "    (1): BatchNorm2d(64, eps=1e-05, momentum=0.01, affine=True, track_running_stats=True)\n",
       "    (2): LeakyReLU(negative_slope=0.1)\n",
       "  )\n",
       "  (conv2): Sequential(\n",
       "    (0): Conv2d(64, 128, kernel_size=(3, 3), stride=(1, 1), padding=(1, 1), bias=False)\n",
       "    (1): BatchNorm2d(128, eps=1e-05, momentum=0.01, affine=True, track_running_stats=True)\n",
       "    (2): LeakyReLU(negative_slope=0.1)\n",
       "  )\n",
       ")"
      ]
     },
     "execution_count": 199,
     "metadata": {},
     "output_type": "execute_result"
    }
   ],
   "source": [
    "children(m)[0][5]"
   ]
  },
  {
   "cell_type": "code",
   "execution_count": 46,
   "metadata": {},
   "outputs": [],
   "source": [
    "class SaveFeatures():\n",
    "    features=None\n",
    "    def __init__(self, m): self.hook = m.register_forward_hook(self.hook_fn)\n",
    "    def hook_fn(self, module, input, output): self.features = output\n",
    "    def close(self): self.hook.remove()"
   ]
  },
  {
   "cell_type": "code",
   "execution_count": 47,
   "metadata": {},
   "outputs": [],
   "source": [
    "sf = SaveFeatures(children(m)[0][5])"
   ]
  },
  {
   "cell_type": "code",
   "execution_count": 48,
   "metadata": {},
   "outputs": [
    {
     "name": "stdout",
     "output_type": "stream",
     "text": [
      "cpu\n"
     ]
    }
   ],
   "source": [
    "device = torch.device(\"cuda:0\" if torch.cuda.is_available() else \"cpu\")\n",
    "#device = \"cpu\"\n",
    "m.to(device)\n",
    "print(device)"
   ]
  },
  {
   "cell_type": "code",
   "execution_count": 49,
   "metadata": {},
   "outputs": [],
   "source": [
    "optimizer = optim.Adam(m.parameters(), lr = 1e-3)\n",
    "criterion = nn.BCEWithLogitsLoss()\n",
    "scheduler = optim.lr_scheduler.ExponentialLR(optimizer, gamma = 0.95)"
   ]
  },
  {
   "cell_type": "code",
   "execution_count": 50,
   "metadata": {},
   "outputs": [],
   "source": [
    "losslog=[]\n",
    "vallog=[]"
   ]
  },
  {
   "cell_type": "code",
   "execution_count": 51,
   "metadata": {},
   "outputs": [],
   "source": [
    "torch.backends.cudnn.benchmark=True"
   ]
  },
  {
   "cell_type": "code",
   "execution_count": null,
   "metadata": {},
   "outputs": [],
   "source": []
  },
  {
   "cell_type": "code",
   "execution_count": 91,
   "metadata": {},
   "outputs": [],
   "source": [
    "def train(niter):\n",
    "    for epoch in trange(niter):  # loop over the dataset multiple times\n",
    "        running_loss = 0.0        \n",
    "        global total_iter\n",
    "        m.train(True)\n",
    "        scheduler.step()\n",
    "        with tqdm(total=len(X_train)) as pbar:\n",
    "            iterloss=[]\n",
    "            for i, (x, y) in enumerate(zip(X_train,y_train)):\n",
    "                x,y = x.to(device),y.to(device)\n",
    "\n",
    "                #i += 1\n",
    "                # zero the parameter gradients\n",
    "                optimizer.zero_grad()\n",
    "\n",
    "                # forward + backward + optimize\n",
    "                outputs = m(x)\n",
    "                loss = criterion(outputs,y.double().unsqueeze(1))\n",
    "                \n",
    "                loss.backward()\n",
    "                for param in optimizer.param_groups[0]['params']:\n",
    "                    param.data = param.data.add(-0.0001 * optimizer.param_groups[0]['lr'], param.data)\n",
    "                optimizer.step()\n",
    "\n",
    "                pbar.update()\n",
    "\n",
    "                \n",
    "\n",
    "                running_loss += loss.item()\n",
    "                if i % 10 == 9:    # print every 20 mini-batches\n",
    "                    print('[%d, %5d]  Train BCElogits loss: %.3f' %\n",
    "                          (epoch + 1, i + 1, running_loss / 10))\n",
    "                    losslog.append(running_loss/10)\n",
    "                    iterloss.append(running_loss/10)\n",
    "                    running_loss = 0.0\n",
    "            total_iter +=1\n",
    "            print(iterloss)\n",
    "            #writer.add_scalar(\"Trainloss\", sum(iterloss)/len(X_train) , total_iter)   \n",
    "        #Eval\n",
    "        m.eval()\n",
    "        with tqdm(total=len(X_val)) as pbar:\n",
    "            with torch.no_grad():\n",
    "                truth = []\n",
    "                predicted =[]\n",
    "                \n",
    "                correct = 0\n",
    "                total = 0\n",
    "                for i, ( x, y) in enumerate(zip(X_val, y_val)):\n",
    "                    x,y = x.to(device),y.to(device)\n",
    "\n",
    "                    # forward + backward + optimize\n",
    "                    corr = []\n",
    "                    outputs = m(x)\n",
    "                    loss = criterion(outputs,y.double().unsqueeze(1))\n",
    "                    pred = (F.sigmoid(outputs))\n",
    "                    for i in pred:\n",
    "                        if i >= 0.5: corr.append(1)\n",
    "                        else: corr.append(0)\n",
    "                    total += y.size(0)\n",
    "                    correct += (corr == y.cpu().numpy()).sum()\n",
    "                    predicted.append(pred)\n",
    "                    truth.append(y)\n",
    "                    pbar.update()\n",
    "                    \n",
    "                    \n",
    "                \n",
    "                valloss = loss.item()\n",
    "                vallog.append(valloss)\n",
    "                print(f'BCELogitsLoss: {valloss}')\n",
    "                print('Accuracy of the network on the val images: %d %%' % (100 * correct / total))\n",
    "                #cmat = confusion_matrix(truth, predicted)'''\n",
    "            \n",
    "    print('Finished Training')\n",
    "    return vallog, truth, predicted"
   ]
  },
  {
   "cell_type": "code",
   "execution_count": 158,
   "metadata": {},
   "outputs": [],
   "source": [
    "m.load_state_dict(torch.load('test_sf_Darknet.pth'))"
   ]
  },
  {
   "cell_type": "code",
   "execution_count": 139,
   "metadata": {},
   "outputs": [],
   "source": [
    "def train(niter):\n",
    "    for epoch in trange(niter):  # loop over the dataset multiple times\n",
    "\n",
    "        with tqdm(total=len(X_train)) as pbar:\n",
    "            with torch.no_grad():\n",
    "                for x in X_train:\n",
    "                    x= x.to(device)\n",
    "\n",
    "                    optimizer.zero_grad()\n",
    "\n",
    "                    # forward + backward + optimize\n",
    "                    m(x)\n",
    "                    out = sf.features\n",
    "\n",
    "                    #optimizer.step()\n",
    "                    pbar.update()\n",
    "    \n",
    "    return out         \n",
    "\n",
    "                "
   ]
  },
  {
   "cell_type": "code",
   "execution_count": 94,
   "metadata": {},
   "outputs": [
    {
     "name": "stdout",
     "output_type": "stream",
     "text": [
      " 40%|████      | 10/25 [00:48<01:12,  4.84s/it][1,    10]  Train BCElogits loss: 0.133\n",
      " 80%|████████  | 20/25 [01:35<00:23,  4.77s/it][1,    20]  Train BCElogits loss: 0.127\n",
      "100%|██████████| 25/25 [01:54<00:00,  3.50s/it][0.1327685457799309, 0.12700764040137608]\n",
      "\n",
      "100%|██████████| 11/11 [00:17<00:00,  1.39s/it]BCELogitsLoss: 0.023307915178504272\n",
      "Accuracy of the network on the val images: 89 %\n",
      "\n",
      " 40%|████      | 10/25 [00:49<01:10,  4.70s/it][2,    10]  Train BCElogits loss: 0.092\n",
      " 80%|████████  | 20/25 [01:38<00:25,  5.12s/it][2,    20]  Train BCElogits loss: 0.110\n",
      "100%|██████████| 25/25 [01:59<00:00,  3.72s/it][0.09164449796011787, 0.10963034805347646]\n",
      "\n",
      "100%|██████████| 11/11 [00:16<00:00,  1.36s/it]BCELogitsLoss: 0.024245736798116462\n",
      "Accuracy of the network on the val images: 89 %\n",
      "\n",
      "100%|██████████| 2/2 [04:28<00:00, 134.12s/it]Finished Training\n"
     ]
    }
   ],
   "source": [
    "total_iter=0\n",
    "b = train(2)"
   ]
  },
  {
   "cell_type": "code",
   "execution_count": 93,
   "metadata": {
    "scrolled": false
   },
   "outputs": [
    {
     "data": {
      "text/plain": [
       "([0.2861922718989941,\n",
       "  0.03844070351255366,\n",
       "  0.02203219919389362,\n",
       "  0.02081441773452343,\n",
       "  0.03099813922149177,\n",
       "  0.032895262515323515,\n",
       "  0.029815545325378827],\n",
       " [tensor([ 1.,  1.,  1.,  1.,  1.,  1.,  1.,  1.,  1.,  0.,  1.,  1.,\n",
       "           1.,  1.,  0.,  1.,  1.,  1.,  1.,  0.,  1.,  1.,  0.,  1.,\n",
       "           1.,  1.,  1.,  1.,  1.,  1.,  1.,  1.], dtype=torch.float64),\n",
       "  tensor([ 1.,  1.,  1.,  1.,  1.,  1.,  1.,  1.,  0.,  1.,  1.,  1.,\n",
       "           1.,  1.,  1.,  1.,  1.,  1.,  1.,  1.,  1.,  0.,  1.,  1.,\n",
       "           1.,  1.,  1.,  1.,  1.,  0.,  1.,  1.], dtype=torch.float64),\n",
       "  tensor([ 1.,  1.,  1.,  1.,  1.,  1.,  0.,  1.,  1.,  1.,  1.,  1.,\n",
       "           1.,  0.,  1.,  1.,  1.,  1.,  1.,  0.,  1.,  0.,  0.,  1.,\n",
       "           1.,  1.,  1.,  1.,  1.,  1.,  0.,  1.], dtype=torch.float64),\n",
       "  tensor([ 1.,  1.,  1.,  1.,  1.,  1.,  1.,  1.,  1.,  1.,  1.,  1.,\n",
       "           1.,  1.,  1.,  0.,  1.,  1.,  1.,  1.,  1.,  1.,  1.,  0.,\n",
       "           1.,  1.,  1.,  1.,  1.,  1.,  1.,  1.], dtype=torch.float64),\n",
       "  tensor([ 1.,  1.,  1.,  1.,  1.,  1.,  1.,  1.,  1.,  1.,  1.,  0.,\n",
       "           1.,  1.,  1.,  1.,  1.,  1.,  1.,  0.,  1.,  1.,  1.,  1.,\n",
       "           0.,  1.,  1.,  1.,  1.,  0.,  1.,  0.], dtype=torch.float64),\n",
       "  tensor([ 1.,  1.,  1.,  1.,  1.,  1.,  1.,  1.,  1.,  1.,  1.,  0.,\n",
       "           1.,  1.,  1.,  1.,  1.,  1.,  0.,  0.,  1.,  1.,  0.,  1.,\n",
       "           1.,  1.,  1.,  1.,  1.,  1.,  1.,  1.], dtype=torch.float64),\n",
       "  tensor([ 1.,  1.,  1.,  1.,  1.,  1.,  1.,  1.,  1.,  1.,  1.,  1.,\n",
       "           0.,  1.,  1.,  1.,  1.,  1.,  1.,  1.,  1.,  1.,  1.,  1.,\n",
       "           1.,  1.,  0.,  1.,  1.,  1.,  1.,  1.], dtype=torch.float64),\n",
       "  tensor([ 1.,  1.,  1.,  1.,  1.,  1.,  1.,  1.,  1.,  1.,  1.,  1.,\n",
       "           1.,  1.,  1.,  0.,  0.,  1.,  1.,  1.,  1.,  1.,  1.,  1.,\n",
       "           1.,  1.,  1.,  1.,  1.,  1.,  1.,  1.], dtype=torch.float64),\n",
       "  tensor([ 1.,  1.,  1.,  1.,  1.,  1.,  1.,  1.,  1.,  1.,  1.,  1.,\n",
       "           1.,  1.,  1.,  1.,  1.,  1.,  1.,  1.,  0.,  1.,  1.,  1.,\n",
       "           1.,  1.,  1.,  1.,  1.,  0.,  1.,  1.], dtype=torch.float64),\n",
       "  tensor([ 1.,  1.,  1.,  1.,  0.,  1.,  1.,  1.,  1.,  1.,  1.,  1.,\n",
       "           1.,  1.,  0.,  1.,  1.,  1.,  0.,  1.,  1.,  1.,  1.,  1.,\n",
       "           1.,  1.,  1.,  0.,  1.,  1.,  1.,  1.], dtype=torch.float64),\n",
       "  tensor([ 1.,  1.,  1.,  1.,  1.,  1.,  1.,  1.,  1.,  1.,  1.,  1.,\n",
       "           1.], dtype=torch.float64)],\n",
       " [tensor([[ 1.0000],\n",
       "          [ 1.0000],\n",
       "          [ 1.0000],\n",
       "          [ 1.0000],\n",
       "          [ 0.6626],\n",
       "          [ 0.8269],\n",
       "          [ 0.6347],\n",
       "          [ 1.0000],\n",
       "          [ 1.0000],\n",
       "          [ 1.0000],\n",
       "          [ 1.0000],\n",
       "          [ 0.6232],\n",
       "          [ 1.0000],\n",
       "          [ 1.0000],\n",
       "          [ 1.0000],\n",
       "          [ 0.7160],\n",
       "          [ 1.0000],\n",
       "          [ 1.0000],\n",
       "          [ 1.0000],\n",
       "          [ 1.0000],\n",
       "          [ 1.0000],\n",
       "          [ 1.0000],\n",
       "          [ 0.9999],\n",
       "          [ 1.0000],\n",
       "          [ 0.9999],\n",
       "          [ 1.0000],\n",
       "          [ 0.9999],\n",
       "          [ 1.0000],\n",
       "          [ 1.0000],\n",
       "          [ 1.0000],\n",
       "          [ 1.0000],\n",
       "          [ 1.0000]], dtype=torch.float64), tensor([[ 1.0000],\n",
       "          [ 1.0000],\n",
       "          [ 1.0000],\n",
       "          [ 1.0000],\n",
       "          [ 1.0000],\n",
       "          [ 1.0000],\n",
       "          [ 1.0000],\n",
       "          [ 0.9999],\n",
       "          [ 0.9999],\n",
       "          [ 1.0000],\n",
       "          [ 1.0000],\n",
       "          [ 1.0000],\n",
       "          [ 1.0000],\n",
       "          [ 1.0000],\n",
       "          [ 1.0000],\n",
       "          [ 0.9999],\n",
       "          [ 1.0000],\n",
       "          [ 1.0000],\n",
       "          [ 1.0000],\n",
       "          [ 1.0000],\n",
       "          [ 1.0000],\n",
       "          [ 1.0000],\n",
       "          [ 0.7405],\n",
       "          [ 1.0000],\n",
       "          [ 0.6986],\n",
       "          [ 1.0000],\n",
       "          [ 1.0000],\n",
       "          [ 1.0000],\n",
       "          [ 0.7295],\n",
       "          [ 1.0000],\n",
       "          [ 1.0000],\n",
       "          [ 1.0000]], dtype=torch.float64), tensor([[ 1.0000],\n",
       "          [ 1.0000],\n",
       "          [ 1.0000],\n",
       "          [ 1.0000],\n",
       "          [ 1.0000],\n",
       "          [ 1.0000],\n",
       "          [ 1.0000],\n",
       "          [ 1.0000],\n",
       "          [ 1.0000],\n",
       "          [ 1.0000],\n",
       "          [ 1.0000],\n",
       "          [ 1.0000],\n",
       "          [ 1.0000],\n",
       "          [ 1.0000],\n",
       "          [ 1.0000],\n",
       "          [ 1.0000],\n",
       "          [ 0.7720],\n",
       "          [ 1.0000],\n",
       "          [ 1.0000],\n",
       "          [ 1.0000],\n",
       "          [ 1.0000],\n",
       "          [ 1.0000],\n",
       "          [ 1.0000],\n",
       "          [ 1.0000],\n",
       "          [ 1.0000],\n",
       "          [ 1.0000],\n",
       "          [ 1.0000],\n",
       "          [ 1.0000],\n",
       "          [ 0.7764],\n",
       "          [ 1.0000],\n",
       "          [ 0.9999],\n",
       "          [ 1.0000]], dtype=torch.float64), tensor([[ 1.0000],\n",
       "          [ 1.0000],\n",
       "          [ 1.0000],\n",
       "          [ 1.0000],\n",
       "          [ 0.9217],\n",
       "          [ 0.6687],\n",
       "          [ 1.0000],\n",
       "          [ 0.9294],\n",
       "          [ 1.0000],\n",
       "          [ 1.0000],\n",
       "          [ 1.0000],\n",
       "          [ 0.6561],\n",
       "          [ 1.0000],\n",
       "          [ 1.0000],\n",
       "          [ 1.0000],\n",
       "          [ 0.9999],\n",
       "          [ 1.0000],\n",
       "          [ 1.0000],\n",
       "          [ 1.0000],\n",
       "          [ 1.0000],\n",
       "          [ 1.0000],\n",
       "          [ 1.0000],\n",
       "          [ 0.6872],\n",
       "          [ 1.0000],\n",
       "          [ 0.9997],\n",
       "          [ 1.0000],\n",
       "          [ 1.0000],\n",
       "          [ 1.0000],\n",
       "          [ 1.0000],\n",
       "          [ 1.0000],\n",
       "          [ 1.0000],\n",
       "          [ 1.0000]], dtype=torch.float64), tensor([[ 1.0000],\n",
       "          [ 1.0000],\n",
       "          [ 1.0000],\n",
       "          [ 1.0000],\n",
       "          [ 1.0000],\n",
       "          [ 1.0000],\n",
       "          [ 1.0000],\n",
       "          [ 1.0000],\n",
       "          [ 1.0000],\n",
       "          [ 1.0000],\n",
       "          [ 1.0000],\n",
       "          [ 0.9999],\n",
       "          [ 1.0000],\n",
       "          [ 1.0000],\n",
       "          [ 1.0000],\n",
       "          [ 1.0000],\n",
       "          [ 1.0000],\n",
       "          [ 1.0000],\n",
       "          [ 1.0000],\n",
       "          [ 1.0000],\n",
       "          [ 1.0000],\n",
       "          [ 0.9999],\n",
       "          [ 0.6622],\n",
       "          [ 0.9999],\n",
       "          [ 1.0000],\n",
       "          [ 1.0000],\n",
       "          [ 1.0000],\n",
       "          [ 1.0000],\n",
       "          [ 0.9999],\n",
       "          [ 1.0000],\n",
       "          [ 1.0000],\n",
       "          [ 1.0000]], dtype=torch.float64), tensor([[ 1.0000],\n",
       "          [ 1.0000],\n",
       "          [ 1.0000],\n",
       "          [ 0.7719],\n",
       "          [ 1.0000],\n",
       "          [ 1.0000],\n",
       "          [ 1.0000],\n",
       "          [ 1.0000],\n",
       "          [ 1.0000],\n",
       "          [ 0.7615],\n",
       "          [ 1.0000],\n",
       "          [ 0.9997],\n",
       "          [ 1.0000],\n",
       "          [ 1.0000],\n",
       "          [ 1.0000],\n",
       "          [ 1.0000],\n",
       "          [ 1.0000],\n",
       "          [ 0.7283],\n",
       "          [ 0.9999],\n",
       "          [ 1.0000],\n",
       "          [ 1.0000],\n",
       "          [ 1.0000],\n",
       "          [ 0.9999],\n",
       "          [ 1.0000],\n",
       "          [ 1.0000],\n",
       "          [ 1.0000],\n",
       "          [ 1.0000],\n",
       "          [ 1.0000],\n",
       "          [ 1.0000],\n",
       "          [ 0.9999],\n",
       "          [ 1.0000],\n",
       "          [ 1.0000]], dtype=torch.float64), tensor([[ 1.0000],\n",
       "          [ 1.0000],\n",
       "          [ 1.0000],\n",
       "          [ 1.0000],\n",
       "          [ 1.0000],\n",
       "          [ 1.0000],\n",
       "          [ 1.0000],\n",
       "          [ 1.0000],\n",
       "          [ 1.0000],\n",
       "          [ 1.0000],\n",
       "          [ 1.0000],\n",
       "          [ 1.0000],\n",
       "          [ 1.0000],\n",
       "          [ 1.0000],\n",
       "          [ 1.0000],\n",
       "          [ 0.6914],\n",
       "          [ 1.0000],\n",
       "          [ 1.0000],\n",
       "          [ 1.0000],\n",
       "          [ 1.0000],\n",
       "          [ 1.0000],\n",
       "          [ 1.0000],\n",
       "          [ 1.0000],\n",
       "          [ 1.0000],\n",
       "          [ 1.0000],\n",
       "          [ 1.0000],\n",
       "          [ 1.0000],\n",
       "          [ 1.0000],\n",
       "          [ 1.0000],\n",
       "          [ 1.0000],\n",
       "          [ 0.9918],\n",
       "          [ 0.7616]], dtype=torch.float64), tensor([[ 1.0000],\n",
       "          [ 1.0000],\n",
       "          [ 1.0000],\n",
       "          [ 1.0000],\n",
       "          [ 1.0000],\n",
       "          [ 1.0000],\n",
       "          [ 0.9999],\n",
       "          [ 1.0000],\n",
       "          [ 1.0000],\n",
       "          [ 1.0000],\n",
       "          [ 1.0000],\n",
       "          [ 1.0000],\n",
       "          [ 0.9961],\n",
       "          [ 1.0000],\n",
       "          [ 1.0000],\n",
       "          [ 0.9996],\n",
       "          [ 0.9999],\n",
       "          [ 1.0000],\n",
       "          [ 1.0000],\n",
       "          [ 1.0000],\n",
       "          [ 1.0000],\n",
       "          [ 1.0000],\n",
       "          [ 1.0000],\n",
       "          [ 1.0000],\n",
       "          [ 1.0000],\n",
       "          [ 1.0000],\n",
       "          [ 1.0000],\n",
       "          [ 1.0000],\n",
       "          [ 1.0000],\n",
       "          [ 1.0000],\n",
       "          [ 1.0000],\n",
       "          [ 1.0000]], dtype=torch.float64), tensor([[ 0.6743],\n",
       "          [ 1.0000],\n",
       "          [ 0.9999],\n",
       "          [ 1.0000],\n",
       "          [ 0.7680],\n",
       "          [ 1.0000],\n",
       "          [ 1.0000],\n",
       "          [ 1.0000],\n",
       "          [ 0.6832],\n",
       "          [ 1.0000],\n",
       "          [ 0.6129],\n",
       "          [ 1.0000],\n",
       "          [ 1.0000],\n",
       "          [ 1.0000],\n",
       "          [ 0.7287],\n",
       "          [ 1.0000],\n",
       "          [ 1.0000],\n",
       "          [ 1.0000],\n",
       "          [ 0.8662],\n",
       "          [ 1.0000],\n",
       "          [ 1.0000],\n",
       "          [ 0.9999],\n",
       "          [ 1.0000],\n",
       "          [ 1.0000],\n",
       "          [ 1.0000],\n",
       "          [ 1.0000],\n",
       "          [ 1.0000],\n",
       "          [ 1.0000],\n",
       "          [ 1.0000],\n",
       "          [ 1.0000],\n",
       "          [ 0.9999],\n",
       "          [ 1.0000]], dtype=torch.float64), tensor([[ 1.0000],\n",
       "          [ 0.7336],\n",
       "          [ 0.6881],\n",
       "          [ 1.0000],\n",
       "          [ 1.0000],\n",
       "          [ 1.0000],\n",
       "          [ 0.6925],\n",
       "          [ 1.0000],\n",
       "          [ 1.0000],\n",
       "          [ 0.6625],\n",
       "          [ 0.9999],\n",
       "          [ 1.0000],\n",
       "          [ 0.6419],\n",
       "          [ 1.0000],\n",
       "          [ 1.0000],\n",
       "          [ 1.0000],\n",
       "          [ 1.0000],\n",
       "          [ 0.6295],\n",
       "          [ 1.0000],\n",
       "          [ 1.0000],\n",
       "          [ 0.7203],\n",
       "          [ 0.9999],\n",
       "          [ 1.0000],\n",
       "          [ 1.0000],\n",
       "          [ 1.0000],\n",
       "          [ 1.0000],\n",
       "          [ 1.0000],\n",
       "          [ 1.0000],\n",
       "          [ 1.0000],\n",
       "          [ 0.7687],\n",
       "          [ 1.0000],\n",
       "          [ 1.0000]], dtype=torch.float64), tensor([[ 1.0000],\n",
       "          [ 1.0000],\n",
       "          [ 1.0000],\n",
       "          [ 1.0000],\n",
       "          [ 1.0000],\n",
       "          [ 1.0000],\n",
       "          [ 1.0000],\n",
       "          [ 1.0000],\n",
       "          [ 1.0000],\n",
       "          [ 1.0000],\n",
       "          [ 1.0000],\n",
       "          [ 1.0000],\n",
       "          [ 0.6788]], dtype=torch.float64)])"
      ]
     },
     "execution_count": 93,
     "metadata": {},
     "output_type": "execute_result"
    }
   ],
   "source": [
    "b"
   ]
  },
  {
   "cell_type": "code",
   "execution_count": 90,
   "metadata": {},
   "outputs": [
    {
     "data": {
      "text/plain": [
       "tensor([[ 0.9998],\n",
       "        [ 0.9999],\n",
       "        [ 0.9999],\n",
       "        [ 0.9998],\n",
       "        [ 0.9999],\n",
       "        [ 0.9999],\n",
       "        [ 0.9998],\n",
       "        [ 0.9999],\n",
       "        [ 0.9999],\n",
       "        [ 0.9999],\n",
       "        [ 0.9999],\n",
       "        [ 0.9998],\n",
       "        [ 0.6530]], dtype=torch.float64)"
      ]
     },
     "execution_count": 90,
     "metadata": {},
     "output_type": "execute_result"
    }
   ],
   "source": [
    "b[2]"
   ]
  },
  {
   "cell_type": "code",
   "execution_count": 76,
   "metadata": {},
   "outputs": [],
   "source": [
    "torch.save(m.state_dict(),'test_sf_Darknet.pth')"
   ]
  },
  {
   "cell_type": "code",
   "execution_count": null,
   "metadata": {},
   "outputs": [],
   "source": [
    "n_iter=0\n",
    "while n_iter <= max_iter: optimizer.step(partial(step,actn_loss2))"
   ]
  },
  {
   "cell_type": "code",
   "execution_count": null,
   "metadata": {},
   "outputs": [],
   "source": [
    "def step(loss_fn):\n",
    "    global n_iter\n",
    "    optimizer.zero_grad()\n",
    "    loss = loss_fn(X_train)\n",
    "    loss.backward()\n",
    "    n_iter+=1\n",
    "    if n_iter%show_iter==0: print(f'Iteration: n_iter, loss: {loss.data[0]}')\n",
    "    return loss"
   ]
  },
  {
   "cell_type": "code",
   "execution_count": null,
   "metadata": {},
   "outputs": [],
   "source": [
    "def actn_loss2(x):\n",
    "    m(x)\n",
    "    out = sf.features\n",
    "    return F.mse_loss(out, targ_v)*1000"
   ]
  },
  {
   "cell_type": "code",
   "execution_count": null,
   "metadata": {},
   "outputs": [],
   "source": []
  },
  {
   "cell_type": "code",
   "execution_count": null,
   "metadata": {},
   "outputs": [],
   "source": []
  },
  {
   "cell_type": "code",
   "execution_count": 59,
   "metadata": {
    "scrolled": false
   },
   "outputs": [
    {
     "name": "stdout",
     "output_type": "stream",
     "text": [
      " 12%|█▏        | 20/172 [00:46<05:59,  2.36s/it][1,    20]  Train BCELogitsLoss: 0.690\n",
      " 23%|██▎       | 40/172 [01:33<05:11,  2.36s/it][1,    40]  Train BCELogitsLoss: 0.722\n",
      " 35%|███▍      | 60/172 [02:21<04:25,  2.37s/it][1,    60]  Train BCELogitsLoss: 0.703\n",
      " 47%|████▋     | 80/172 [03:08<03:37,  2.36s/it][1,    80]  Train BCELogitsLoss: 0.655\n",
      " 58%|█████▊    | 100/172 [03:55<02:50,  2.37s/it][1,   100]  Train BCELogitsLoss: 0.740\n",
      " 70%|██████▉   | 120/172 [04:43<02:03,  2.37s/it][1,   120]  Train BCELogitsLoss: 0.705\n",
      " 81%|████████▏ | 140/172 [05:30<01:15,  2.37s/it][1,   140]  Train BCELogitsLoss: 0.696\n",
      " 93%|█████████▎| 160/172 [06:18<00:28,  2.37s/it][1,   160]  Train BCELogitsLoss: 0.717\n",
      "100%|██████████| 172/172 [06:45<00:00,  1.93s/it]\n",
      "100%|██████████| 74/74 [00:50<00:00,  1.71it/s]BCELogitsLoss: 0.7280747258520811\n",
      "Accuracy of the network on the val images: 54 %\n",
      "\n",
      " 12%|█▏        | 20/172 [00:46<05:59,  2.36s/it][2,    20]  Train BCELogitsLoss: 0.684\n",
      " 23%|██▎       | 40/172 [01:33<05:12,  2.36s/it][2,    40]  Train BCELogitsLoss: 0.702\n",
      " 35%|███▍      | 60/172 [02:21<04:25,  2.37s/it][2,    60]  Train BCELogitsLoss: 0.696\n",
      " 47%|████▋     | 80/172 [03:08<03:37,  2.37s/it][2,    80]  Train BCELogitsLoss: 0.665\n",
      " 58%|█████▊    | 100/172 [03:56<02:50,  2.37s/it][2,   100]  Train BCELogitsLoss: 0.732\n",
      " 70%|██████▉   | 120/172 [04:43<02:03,  2.37s/it][2,   120]  Train BCELogitsLoss: 0.676\n",
      " 81%|████████▏ | 140/172 [05:30<01:15,  2.37s/it][2,   140]  Train BCELogitsLoss: 0.694\n",
      " 93%|█████████▎| 160/172 [06:18<00:28,  2.36s/it][2,   160]  Train BCELogitsLoss: 0.702\n",
      "100%|██████████| 172/172 [06:45<00:00,  1.93s/it]\n",
      "100%|██████████| 74/74 [00:50<00:00,  1.70it/s]BCELogitsLoss: 0.7119796252634321\n",
      "Accuracy of the network on the val images: 54 %\n",
      "\n",
      "100%|██████████| 2/2 [15:12<00:00, 456.01s/it]Finished Training\n"
     ]
    }
   ],
   "source": [
    "MUL = train(2)"
   ]
  },
  {
   "cell_type": "code",
   "execution_count": 54,
   "metadata": {},
   "outputs": [
    {
     "data": {
      "text/plain": [
       "[0.8094666410848532, 0.7621253101425307]"
      ]
     },
     "execution_count": 54,
     "metadata": {},
     "output_type": "execute_result"
    }
   ],
   "source": [
    "vallog"
   ]
  },
  {
   "cell_type": "code",
   "execution_count": 60,
   "metadata": {},
   "outputs": [
    {
     "data": {
      "text/plain": [
       "([0.6899742491367287,\n",
       "  0.7216632823748271,\n",
       "  0.7031199616145714,\n",
       "  0.6551904824257477,\n",
       "  0.7400505342567856,\n",
       "  0.7045912965095784,\n",
       "  0.6957142097621987,\n",
       "  0.716587152393308,\n",
       "  0.6838836016871113,\n",
       "  0.7017663175325224,\n",
       "  0.6961114322213378,\n",
       "  0.664758787050066,\n",
       "  0.7317512962402098,\n",
       "  0.6759753116480365,\n",
       "  0.6937985015888914,\n",
       "  0.7016916941138533],\n",
       " [0.7280747258520811, 0.7119796252634321])"
      ]
     },
     "execution_count": 60,
     "metadata": {},
     "output_type": "execute_result"
    }
   ],
   "source": [
    "MUL"
   ]
  },
  {
   "cell_type": "code",
   "execution_count": 71,
   "metadata": {},
   "outputs": [],
   "source": [
    "def eva():    \n",
    "    m.eval()\n",
    "    with tqdm(total=len(X_val)) as pbar:\n",
    "        with torch.no_grad():\n",
    "            truth = []\n",
    "            predicted =[]\n",
    "            correct = 0\n",
    "            total = 0\n",
    "            for i, ( x, p, y) in enumerate(zip(X_val,param_val,y_val)):\n",
    "                x,p,y = x.to(device), p.to(device),y.to(device)\n",
    "\n",
    "                # forward + backward + optimize\n",
    "                outputs = m(x,p)\n",
    "                pred = (F.sigmoid(outputs))\n",
    "                corr=[]\n",
    "                for i in pred:\n",
    "                    if i >= 0.52: corr.append(1)\n",
    "                    else: corr.append(0)\n",
    "                total += y.size(0)\n",
    "                correct += (corr == y.cpu().numpy()).sum()\n",
    "                predicted.append(pred)\n",
    "                truth.append(y)\n",
    "                pbar.update()\n",
    "\n",
    "\n",
    "            print('Accuracy of the network on the val images: %d %%' % (100 * correct / total))\n",
    "            \n",
    "    print('Finished Training')\n",
    "    return losslog,vallog,truth,predicted    \n",
    "            "
   ]
  },
  {
   "cell_type": "code",
   "execution_count": 72,
   "metadata": {},
   "outputs": [
    {
     "name": "stdout",
     "output_type": "stream",
     "text": [
      "100%|██████████| 74/74 [00:50<00:00,  1.72it/s]Accuracy of the network on the val images: 56 %\n",
      "\n",
      "Finished Training\n"
     ]
    }
   ],
   "source": [
    "M = eva()"
   ]
  },
  {
   "cell_type": "code",
   "execution_count": 74,
   "metadata": {},
   "outputs": [
    {
     "name": "stdout",
     "output_type": "stream",
     "text": [
      "20\n",
      "22\n",
      "24\n",
      "26\n",
      "28\n",
      "30\n",
      "32\n",
      "34\n",
      "36\n",
      "38\n",
      "40\n",
      "42\n",
      "44\n",
      "46\n",
      "48\n"
     ]
    }
   ],
   "source": [
    "for i in range(20,50,2):\n",
    "    print(i)"
   ]
  },
  {
   "cell_type": "code",
   "execution_count": null,
   "metadata": {},
   "outputs": [],
   "source": [
    "\n",
    "\n",
    "## Validate"
   ]
  },
  {
   "cell_type": "code",
   "execution_count": 52,
   "metadata": {},
   "outputs": [],
   "source": [
    "def test():\n",
    "    with torch.no_grad():\n",
    "        n = len(X_test)\n",
    "        ml.eval()\n",
    "        predicted = []\n",
    "        correct = 0\n",
    "        total = 0\n",
    "        with tqdm(total=n) as pbar:\n",
    "            for i, ( x, p, y) in enumerate(zip(X_test,param_test,y_test)):\n",
    "                x,p,y = x.to(device), p.to(device),y.to(device)\n",
    "\n",
    "                # forward + backward + optimize\n",
    "                outputs = ml(x,p)\n",
    "                _, pred = torch.max(outputs.data, 1)\n",
    "                total += y.size(0)\n",
    "                correct += (pred == y).sum()\n",
    "    \n",
    "    print('Accuracy of the network on the test images: %d %%' % (\n",
    "    100 * correct / total))\n",
    "    return pred"
   ]
  },
  {
   "cell_type": "code",
   "execution_count": null,
   "metadata": {
    "scrolled": true
   },
   "outputs": [
    {
     "name": "stdout",
     "output_type": "stream",
     "text": [
      "\r",
      "  0%|          | 0/123 [00:00<?, ?it/s]"
     ]
    }
   ],
   "source": [
    "TEST = test()"
   ]
  },
  {
   "cell_type": "code",
   "execution_count": 52,
   "metadata": {
    "scrolled": false
   },
   "outputs": [
    {
     "data": {
      "text/plain": [
       "tensor([ 1], device='cuda:0')"
      ]
     },
     "execution_count": 52,
     "metadata": {},
     "output_type": "execute_result"
    }
   ],
   "source": [
    "TEST"
   ]
  },
  {
   "cell_type": "code",
   "execution_count": null,
   "metadata": {},
   "outputs": [],
   "source": []
  },
  {
   "cell_type": "code",
   "execution_count": null,
   "metadata": {},
   "outputs": [],
   "source": []
  },
  {
   "cell_type": "code",
   "execution_count": 50,
   "metadata": {},
   "outputs": [],
   "source": [
    "model_save_path = './weights/'"
   ]
  },
  {
   "cell_type": "code",
   "execution_count": 51,
   "metadata": {},
   "outputs": [],
   "source": [
    "torch.save(ml.state_dict(),f'{model_save_path}Predict_progress_3D.pth')"
   ]
  },
  {
   "cell_type": "code",
   "execution_count": 46,
   "metadata": {},
   "outputs": [],
   "source": [
    "ml = Darknet([1,2,4,6,3], num_classes=1, nf=32)\n",
    "ml.double()\n",
    "ml.load_state_dict(torch.load('Predict_pregress_.pth'))"
   ]
  },
  {
   "cell_type": "code",
   "execution_count": 47,
   "metadata": {},
   "outputs": [
    {
     "name": "stdout",
     "output_type": "stream",
     "text": [
      "cuda:0\n"
     ]
    }
   ],
   "source": [
    "device = torch.device(\"cuda:0\" if torch.cuda.is_available() else \"cpu\")\n",
    "ml.to(device)\n",
    "print(device)"
   ]
  },
  {
   "cell_type": "code",
   "execution_count": null,
   "metadata": {},
   "outputs": [],
   "source": []
  }
 ],
 "metadata": {
  "kernelspec": {
   "display_name": "Python 3",
   "language": "python",
   "name": "python3"
  },
  "language_info": {
   "codemirror_mode": {
    "name": "ipython",
    "version": 3
   },
   "file_extension": ".py",
   "mimetype": "text/x-python",
   "name": "python",
   "nbconvert_exporter": "python",
   "pygments_lexer": "ipython3",
   "version": "3.6.5"
  }
 },
 "nbformat": 4,
 "nbformat_minor": 2
}
