{
 "cells": [
  {
   "cell_type": "code",
   "execution_count": 1,
   "metadata": {},
   "outputs": [],
   "source": [
    "# Put these at the top of every notebook, to get automatic reloading and inline plotting\n",
    "%reload_ext autoreload\n",
    "%autoreload 2\n",
    "%matplotlib inline"
   ]
  },
  {
   "cell_type": "code",
   "execution_count": 2,
   "metadata": {},
   "outputs": [],
   "source": [
    "# This file contains all the main external libs we'll use\n",
    "from fastai.imports import *\n",
    "#from fastai.transforms import *\n",
    "from fastai.conv_learner import *\n",
    "#from fastai.model import *\n",
    "#from fastai.dataset import *\n",
    "#from fastai.sgdr import *\n",
    "#from fastai.plots import *\n",
    "from skimage.transform import resize"
   ]
  },
  {
   "cell_type": "code",
   "execution_count": 184,
   "metadata": {},
   "outputs": [
    {
     "name": "stdout",
     "output_type": "stream",
     "text": [
      "0.4.1\n"
     ]
    }
   ],
   "source": [
    "print(torch.__version__)"
   ]
  },
  {
   "cell_type": "code",
   "execution_count": 4,
   "metadata": {},
   "outputs": [],
   "source": [
    "import pydicom\n",
    "import glob\n",
    "import os\n",
    "import numpy\n",
    "import seaborn as sns\n",
    "from itertools import chain\n",
    "from pathlib import Path"
   ]
  },
  {
   "cell_type": "code",
   "execution_count": 5,
   "metadata": {},
   "outputs": [],
   "source": [
    "PATH = \"./\"\n",
    "SPECTPATH = Path(\"../../../Downloads/PPMISPECT/\")"
   ]
  },
  {
   "cell_type": "code",
   "execution_count": 6,
   "metadata": {
    "scrolled": true
   },
   "outputs": [
    {
     "data": {
      "text/plain": [
       "'for dirName, subdirList, fileList in os.walk(PathDicom):\\n    for filename in fileList:\\n        if \".dcm\" in filename.lower():  # check whether the file\\'s DICOM\\n            lstFilesDCM.append(os.path.join(dirName,filename))'"
      ]
     },
     "execution_count": 6,
     "metadata": {},
     "output_type": "execute_result"
    }
   ],
   "source": [
    "lstFilesDCM = []  # create an empty list\n",
    "'''for dirName, subdirList, fileList in os.walk(PathDicom):\n",
    "    for filename in fileList:\n",
    "        if \".dcm\" in filename.lower():  # check whether the file's DICOM\n",
    "            lstFilesDCM.append(os.path.join(dirName,filename))'''"
   ]
  },
  {
   "cell_type": "code",
   "execution_count": 7,
   "metadata": {},
   "outputs": [],
   "source": [
    "metadata = pd.read_csv(f'{PATH}PPMI.csv')"
   ]
  },
  {
   "cell_type": "code",
   "execution_count": 8,
   "metadata": {},
   "outputs": [
    {
     "data": {
      "text/html": [
       "<div>\n",
       "<style scoped>\n",
       "    .dataframe tbody tr th:only-of-type {\n",
       "        vertical-align: middle;\n",
       "    }\n",
       "\n",
       "    .dataframe tbody tr th {\n",
       "        vertical-align: top;\n",
       "    }\n",
       "\n",
       "    .dataframe thead th {\n",
       "        text-align: right;\n",
       "    }\n",
       "</style>\n",
       "<table border=\"1\" class=\"dataframe\">\n",
       "  <thead>\n",
       "    <tr style=\"text-align: right;\">\n",
       "      <th></th>\n",
       "      <th>Image Data ID</th>\n",
       "      <th>Subject</th>\n",
       "      <th>Group</th>\n",
       "      <th>Sex</th>\n",
       "      <th>Age</th>\n",
       "      <th>Visit</th>\n",
       "      <th>Modality</th>\n",
       "      <th>Description</th>\n",
       "      <th>Type</th>\n",
       "      <th>Acq Date</th>\n",
       "      <th>Format</th>\n",
       "      <th>Downloaded</th>\n",
       "    </tr>\n",
       "  </thead>\n",
       "  <tbody>\n",
       "    <tr>\n",
       "      <th>0</th>\n",
       "      <td>388628</td>\n",
       "      <td>4140</td>\n",
       "      <td>Control</td>\n",
       "      <td>M</td>\n",
       "      <td>76</td>\n",
       "      <td>0</td>\n",
       "      <td>SPECT</td>\n",
       "      <td>Reconstructed DaTSCAN</td>\n",
       "      <td>Processed</td>\n",
       "      <td>4/09/2013</td>\n",
       "      <td>DCM</td>\n",
       "      <td>5/27/2018</td>\n",
       "    </tr>\n",
       "    <tr>\n",
       "      <th>1</th>\n",
       "      <td>388627</td>\n",
       "      <td>4139</td>\n",
       "      <td>Control</td>\n",
       "      <td>M</td>\n",
       "      <td>81</td>\n",
       "      <td>0</td>\n",
       "      <td>SPECT</td>\n",
       "      <td>Reconstructed DaTSCAN</td>\n",
       "      <td>Processed</td>\n",
       "      <td>3/19/2013</td>\n",
       "      <td>DCM</td>\n",
       "      <td>5/27/2018</td>\n",
       "    </tr>\n",
       "    <tr>\n",
       "      <th>2</th>\n",
       "      <td>388626</td>\n",
       "      <td>4137</td>\n",
       "      <td>PD</td>\n",
       "      <td>M</td>\n",
       "      <td>70</td>\n",
       "      <td>0</td>\n",
       "      <td>SPECT</td>\n",
       "      <td>Reconstructed DaTSCAN</td>\n",
       "      <td>Processed</td>\n",
       "      <td>4/02/2013</td>\n",
       "      <td>DCM</td>\n",
       "      <td>5/27/2018</td>\n",
       "    </tr>\n",
       "    <tr>\n",
       "      <th>3</th>\n",
       "      <td>388625</td>\n",
       "      <td>4136</td>\n",
       "      <td>PD</td>\n",
       "      <td>M</td>\n",
       "      <td>56</td>\n",
       "      <td>0</td>\n",
       "      <td>SPECT</td>\n",
       "      <td>Reconstructed DaTSCAN</td>\n",
       "      <td>Processed</td>\n",
       "      <td>2/13/2013</td>\n",
       "      <td>DCM</td>\n",
       "      <td>5/27/2018</td>\n",
       "    </tr>\n",
       "    <tr>\n",
       "      <th>4</th>\n",
       "      <td>451290</td>\n",
       "      <td>4135</td>\n",
       "      <td>PD</td>\n",
       "      <td>M</td>\n",
       "      <td>68</td>\n",
       "      <td>5</td>\n",
       "      <td>SPECT</td>\n",
       "      <td>Reconstructed DaTSCAN</td>\n",
       "      <td>Processed</td>\n",
       "      <td>2/18/2014</td>\n",
       "      <td>DCM</td>\n",
       "      <td>5/27/2018</td>\n",
       "    </tr>\n",
       "  </tbody>\n",
       "</table>\n",
       "</div>"
      ],
      "text/plain": [
       "   Image Data ID  Subject    Group Sex  Age  Visit Modality  \\\n",
       "0         388628     4140  Control   M   76      0    SPECT   \n",
       "1         388627     4139  Control   M   81      0    SPECT   \n",
       "2         388626     4137       PD   M   70      0    SPECT   \n",
       "3         388625     4136       PD   M   56      0    SPECT   \n",
       "4         451290     4135       PD   M   68      5    SPECT   \n",
       "\n",
       "             Description       Type   Acq Date Format Downloaded  \n",
       "0  Reconstructed DaTSCAN  Processed  4/09/2013    DCM  5/27/2018  \n",
       "1  Reconstructed DaTSCAN  Processed  3/19/2013    DCM  5/27/2018  \n",
       "2  Reconstructed DaTSCAN  Processed  4/02/2013    DCM  5/27/2018  \n",
       "3  Reconstructed DaTSCAN  Processed  2/13/2013    DCM  5/27/2018  \n",
       "4  Reconstructed DaTSCAN  Processed  2/18/2014    DCM  5/27/2018  "
      ]
     },
     "execution_count": 8,
     "metadata": {},
     "output_type": "execute_result"
    }
   ],
   "source": [
    "metadata[0:5]"
   ]
  },
  {
   "cell_type": "code",
   "execution_count": 9,
   "metadata": {},
   "outputs": [],
   "source": [
    "#Shuffle data\n",
    "metadata = metadata.sample(frac=1).reset_index(drop=True)"
   ]
  },
  {
   "cell_type": "code",
   "execution_count": 10,
   "metadata": {
    "scrolled": true
   },
   "outputs": [
    {
     "data": {
      "text/html": [
       "<div>\n",
       "<style scoped>\n",
       "    .dataframe tbody tr th:only-of-type {\n",
       "        vertical-align: middle;\n",
       "    }\n",
       "\n",
       "    .dataframe tbody tr th {\n",
       "        vertical-align: top;\n",
       "    }\n",
       "\n",
       "    .dataframe thead th {\n",
       "        text-align: right;\n",
       "    }\n",
       "</style>\n",
       "<table border=\"1\" class=\"dataframe\">\n",
       "  <thead>\n",
       "    <tr style=\"text-align: right;\">\n",
       "      <th></th>\n",
       "      <th>Image Data ID</th>\n",
       "      <th>Subject</th>\n",
       "      <th>Group</th>\n",
       "      <th>Sex</th>\n",
       "      <th>Age</th>\n",
       "      <th>Visit</th>\n",
       "      <th>Modality</th>\n",
       "      <th>Description</th>\n",
       "      <th>Type</th>\n",
       "      <th>Acq Date</th>\n",
       "      <th>Format</th>\n",
       "      <th>Downloaded</th>\n",
       "    </tr>\n",
       "  </thead>\n",
       "  <tbody>\n",
       "    <tr>\n",
       "      <th>0</th>\n",
       "      <td>388485</td>\n",
       "      <td>3190</td>\n",
       "      <td>PD</td>\n",
       "      <td>M</td>\n",
       "      <td>82</td>\n",
       "      <td>0</td>\n",
       "      <td>SPECT</td>\n",
       "      <td>Reconstructed DaTSCAN</td>\n",
       "      <td>Processed</td>\n",
       "      <td>3/12/2013</td>\n",
       "      <td>DCM</td>\n",
       "      <td>5/27/2018</td>\n",
       "    </tr>\n",
       "    <tr>\n",
       "      <th>1</th>\n",
       "      <td>360615</td>\n",
       "      <td>3633</td>\n",
       "      <td>PD</td>\n",
       "      <td>F</td>\n",
       "      <td>69</td>\n",
       "      <td>0</td>\n",
       "      <td>SPECT</td>\n",
       "      <td>Reconstructed DaTSCAN</td>\n",
       "      <td>Processed</td>\n",
       "      <td>11/01/2012</td>\n",
       "      <td>DCM</td>\n",
       "      <td>5/27/2018</td>\n",
       "    </tr>\n",
       "    <tr>\n",
       "      <th>2</th>\n",
       "      <td>388567</td>\n",
       "      <td>3961</td>\n",
       "      <td>PD</td>\n",
       "      <td>M</td>\n",
       "      <td>37</td>\n",
       "      <td>0</td>\n",
       "      <td>SPECT</td>\n",
       "      <td>Reconstructed DaTSCAN</td>\n",
       "      <td>Processed</td>\n",
       "      <td>12/12/2012</td>\n",
       "      <td>DCM</td>\n",
       "      <td>5/27/2018</td>\n",
       "    </tr>\n",
       "    <tr>\n",
       "      <th>3</th>\n",
       "      <td>418669</td>\n",
       "      <td>3307</td>\n",
       "      <td>PD</td>\n",
       "      <td>M</td>\n",
       "      <td>67</td>\n",
       "      <td>5</td>\n",
       "      <td>SPECT</td>\n",
       "      <td>Reconstructed DaTSCAN</td>\n",
       "      <td>Processed</td>\n",
       "      <td>11/07/2012</td>\n",
       "      <td>DCM</td>\n",
       "      <td>5/27/2018</td>\n",
       "    </tr>\n",
       "    <tr>\n",
       "      <th>4</th>\n",
       "      <td>419861</td>\n",
       "      <td>3214</td>\n",
       "      <td>PD</td>\n",
       "      <td>M</td>\n",
       "      <td>81</td>\n",
       "      <td>7</td>\n",
       "      <td>SPECT</td>\n",
       "      <td>Reconstructed DaTSCAN</td>\n",
       "      <td>Processed</td>\n",
       "      <td>9/24/2013</td>\n",
       "      <td>DCM</td>\n",
       "      <td>5/27/2018</td>\n",
       "    </tr>\n",
       "  </tbody>\n",
       "</table>\n",
       "</div>"
      ],
      "text/plain": [
       "   Image Data ID  Subject Group Sex  Age  Visit Modality  \\\n",
       "0         388485     3190    PD   M   82      0    SPECT   \n",
       "1         360615     3633    PD   F   69      0    SPECT   \n",
       "2         388567     3961    PD   M   37      0    SPECT   \n",
       "3         418669     3307    PD   M   67      5    SPECT   \n",
       "4         419861     3214    PD   M   81      7    SPECT   \n",
       "\n",
       "             Description       Type    Acq Date Format Downloaded  \n",
       "0  Reconstructed DaTSCAN  Processed   3/12/2013    DCM  5/27/2018  \n",
       "1  Reconstructed DaTSCAN  Processed  11/01/2012    DCM  5/27/2018  \n",
       "2  Reconstructed DaTSCAN  Processed  12/12/2012    DCM  5/27/2018  \n",
       "3  Reconstructed DaTSCAN  Processed  11/07/2012    DCM  5/27/2018  \n",
       "4  Reconstructed DaTSCAN  Processed   9/24/2013    DCM  5/27/2018  "
      ]
     },
     "execution_count": 10,
     "metadata": {},
     "output_type": "execute_result"
    }
   ],
   "source": [
    "metadata[0:5]"
   ]
  },
  {
   "cell_type": "code",
   "execution_count": 11,
   "metadata": {},
   "outputs": [],
   "source": [
    "for file in glob.glob(str(SPECTPATH / 'PPMI*/**/Reconstructed_DaTSCAN/**/**/*.dcm')):\n",
    "    lstFilesDCM.append(file)"
   ]
  },
  {
   "cell_type": "code",
   "execution_count": 12,
   "metadata": {},
   "outputs": [
    {
     "data": {
      "text/plain": [
       "1331"
      ]
     },
     "execution_count": 12,
     "metadata": {},
     "output_type": "execute_result"
    }
   ],
   "source": [
    "len(lstFilesDCM)"
   ]
  },
  {
   "cell_type": "code",
   "execution_count": 13,
   "metadata": {},
   "outputs": [
    {
     "data": {
      "text/plain": [
       "1331"
      ]
     },
     "execution_count": 13,
     "metadata": {},
     "output_type": "execute_result"
    }
   ],
   "source": [
    "ptID = []\n",
    "for i in lstFilesDCM:\n",
    "    j = i.split(\"_\")[13].strip()\n",
    "    j = int(j[1:7])\n",
    "    ptID.append(j)\n",
    "len(ptID)"
   ]
  },
  {
   "cell_type": "code",
   "execution_count": 14,
   "metadata": {
    "scrolled": false
   },
   "outputs": [
    {
     "data": {
      "text/plain": [
       "1194"
      ]
     },
     "execution_count": 14,
     "metadata": {},
     "output_type": "execute_result"
    }
   ],
   "source": [
    "p ={}\n",
    "for o in ptID:\n",
    "    for k in metadata.iloc[:,0]:\n",
    "        if o == k:\n",
    "            p[o] = metadata.loc[metadata['Image Data ID'] == k, 'Group'].tolist()[0]\n",
    "len(p)"
   ]
  },
  {
   "cell_type": "code",
   "execution_count": 15,
   "metadata": {
    "scrolled": false
   },
   "outputs": [],
   "source": [
    "df = metadata[['Image Data ID','Group','Subject','Age','Sex']].set_index('Image Data ID')\n",
    "for index, rows in df.iterrows():\n",
    "    for i in lstFilesDCM:\n",
    "        j = i.split(\"_\")[13].strip()\n",
    "        j = int(j[1:7])\n",
    "        if index == j:\n",
    "            df.loc[df.index == j, \"Filenames\"] = i\n"
   ]
  },
  {
   "cell_type": "code",
   "execution_count": 163,
   "metadata": {},
   "outputs": [],
   "source": [
    "#Check duplicate item\n",
    "bg = []\n",
    "for i in lstFilesDCM:\n",
    "    for index, rows in df.iterrows():\n",
    "        j = i.split(\"_\")[13].strip()\n",
    "        j = int(j[1:7])\n",
    "        if j == index:\n",
    "            bg.append(index)\n",
    "print( [item for item, count in collections.Counter(bg).items() if count > 1] )\n",
    "            "
   ]
  },
  {
   "cell_type": "code",
   "execution_count": 16,
   "metadata": {},
   "outputs": [],
   "source": [
    "lstFilesDCM = df['Filenames'].values"
   ]
  },
  {
   "cell_type": "code",
   "execution_count": 17,
   "metadata": {},
   "outputs": [],
   "source": [
    "lstFilesDCM = lstFilesDCM.tolist()"
   ]
  },
  {
   "cell_type": "code",
   "execution_count": 18,
   "metadata": {
    "scrolled": false
   },
   "outputs": [
    {
     "data": {
      "text/html": [
       "<div>\n",
       "<style scoped>\n",
       "    .dataframe tbody tr th:only-of-type {\n",
       "        vertical-align: middle;\n",
       "    }\n",
       "\n",
       "    .dataframe tbody tr th {\n",
       "        vertical-align: top;\n",
       "    }\n",
       "\n",
       "    .dataframe thead th {\n",
       "        text-align: right;\n",
       "    }\n",
       "</style>\n",
       "<table border=\"1\" class=\"dataframe\">\n",
       "  <thead>\n",
       "    <tr style=\"text-align: right;\">\n",
       "      <th></th>\n",
       "      <th>Group</th>\n",
       "      <th>Subject</th>\n",
       "      <th>Age</th>\n",
       "      <th>Sex</th>\n",
       "      <th>Filenames</th>\n",
       "    </tr>\n",
       "    <tr>\n",
       "      <th>Image Data ID</th>\n",
       "      <th></th>\n",
       "      <th></th>\n",
       "      <th></th>\n",
       "      <th></th>\n",
       "      <th></th>\n",
       "    </tr>\n",
       "  </thead>\n",
       "  <tbody>\n",
       "    <tr>\n",
       "      <th>504428</th>\n",
       "      <td>PD</td>\n",
       "      <td>3132</td>\n",
       "      <td>52</td>\n",
       "      <td>M</td>\n",
       "      <td>../../../Downloads/PPMISPECT/PPMI5/3132/Recons...</td>\n",
       "    </tr>\n",
       "    <tr>\n",
       "      <th>341022</th>\n",
       "      <td>Control</td>\n",
       "      <td>3157</td>\n",
       "      <td>64</td>\n",
       "      <td>F</td>\n",
       "      <td>../../../Downloads/PPMISPECT/PPMI5/3157/Recons...</td>\n",
       "    </tr>\n",
       "    <tr>\n",
       "      <th>504469</th>\n",
       "      <td>PD</td>\n",
       "      <td>4074</td>\n",
       "      <td>62</td>\n",
       "      <td>M</td>\n",
       "      <td>../../../Downloads/PPMISPECT/PPMI6/4074/Recons...</td>\n",
       "    </tr>\n",
       "    <tr>\n",
       "      <th>504443</th>\n",
       "      <td>PD</td>\n",
       "      <td>3777</td>\n",
       "      <td>64</td>\n",
       "      <td>M</td>\n",
       "      <td>../../../Downloads/PPMISPECT/PPMI3/3777/Recons...</td>\n",
       "    </tr>\n",
       "    <tr>\n",
       "      <th>418344</th>\n",
       "      <td>PD</td>\n",
       "      <td>3267</td>\n",
       "      <td>72</td>\n",
       "      <td>M</td>\n",
       "      <td>../../../Downloads/PPMISPECT/PPMI8/3267/Recons...</td>\n",
       "    </tr>\n",
       "    <tr>\n",
       "      <th>388471</th>\n",
       "      <td>PD</td>\n",
       "      <td>3086</td>\n",
       "      <td>56</td>\n",
       "      <td>F</td>\n",
       "      <td>../../../Downloads/PPMISPECT/PPMI6/3086/Recons...</td>\n",
       "    </tr>\n",
       "    <tr>\n",
       "      <th>486553</th>\n",
       "      <td>PD</td>\n",
       "      <td>3630</td>\n",
       "      <td>64</td>\n",
       "      <td>F</td>\n",
       "      <td>../../../Downloads/PPMISPECT/PPMI/3630/Reconst...</td>\n",
       "    </tr>\n",
       "    <tr>\n",
       "      <th>436073</th>\n",
       "      <td>PD</td>\n",
       "      <td>3593</td>\n",
       "      <td>56</td>\n",
       "      <td>F</td>\n",
       "      <td>../../../Downloads/PPMISPECT/PPMI2/3593/Recons...</td>\n",
       "    </tr>\n",
       "    <tr>\n",
       "      <th>358118</th>\n",
       "      <td>PD</td>\n",
       "      <td>3105</td>\n",
       "      <td>70</td>\n",
       "      <td>M</td>\n",
       "      <td>NaN</td>\n",
       "    </tr>\n",
       "    <tr>\n",
       "      <th>446124</th>\n",
       "      <td>PD</td>\n",
       "      <td>3443</td>\n",
       "      <td>56</td>\n",
       "      <td>M</td>\n",
       "      <td>NaN</td>\n",
       "    </tr>\n",
       "    <tr>\n",
       "      <th>355231</th>\n",
       "      <td>Control</td>\n",
       "      <td>3807</td>\n",
       "      <td>74</td>\n",
       "      <td>F</td>\n",
       "      <td>NaN</td>\n",
       "    </tr>\n",
       "    <tr>\n",
       "      <th>388611</th>\n",
       "      <td>PD</td>\n",
       "      <td>4115</td>\n",
       "      <td>67</td>\n",
       "      <td>M</td>\n",
       "      <td>NaN</td>\n",
       "    </tr>\n",
       "    <tr>\n",
       "      <th>389266</th>\n",
       "      <td>PD</td>\n",
       "      <td>3903</td>\n",
       "      <td>71</td>\n",
       "      <td>M</td>\n",
       "      <td>../../../Downloads/PPMISPECT/PPMI9/3903/Recons...</td>\n",
       "    </tr>\n",
       "    <tr>\n",
       "      <th>419257</th>\n",
       "      <td>PD</td>\n",
       "      <td>3629</td>\n",
       "      <td>54</td>\n",
       "      <td>M</td>\n",
       "      <td>../../../Downloads/PPMISPECT/PPMI8/3629/Recons...</td>\n",
       "    </tr>\n",
       "    <tr>\n",
       "      <th>446129</th>\n",
       "      <td>PD</td>\n",
       "      <td>3470</td>\n",
       "      <td>60</td>\n",
       "      <td>M</td>\n",
       "      <td>../../../Downloads/PPMISPECT/PPMI4/3470/Recons...</td>\n",
       "    </tr>\n",
       "    <tr>\n",
       "      <th>419275</th>\n",
       "      <td>PD</td>\n",
       "      <td>3868</td>\n",
       "      <td>70</td>\n",
       "      <td>M</td>\n",
       "      <td>NaN</td>\n",
       "    </tr>\n",
       "    <tr>\n",
       "      <th>418680</th>\n",
       "      <td>PD</td>\n",
       "      <td>3435</td>\n",
       "      <td>56</td>\n",
       "      <td>M</td>\n",
       "      <td>../../../Downloads/PPMISPECT/PPMI6/3435/Recons...</td>\n",
       "    </tr>\n",
       "    <tr>\n",
       "      <th>446113</th>\n",
       "      <td>PD</td>\n",
       "      <td>3224</td>\n",
       "      <td>87</td>\n",
       "      <td>M</td>\n",
       "      <td>../../../Downloads/PPMISPECT/PPMI8/3224/Recons...</td>\n",
       "    </tr>\n",
       "    <tr>\n",
       "      <th>846854</th>\n",
       "      <td>PD</td>\n",
       "      <td>3116</td>\n",
       "      <td>69</td>\n",
       "      <td>M</td>\n",
       "      <td>../../../Downloads/PPMISPECT/PPMI2/3116/Recons...</td>\n",
       "    </tr>\n",
       "    <tr>\n",
       "      <th>436857</th>\n",
       "      <td>PD</td>\n",
       "      <td>3131</td>\n",
       "      <td>72</td>\n",
       "      <td>M</td>\n",
       "      <td>../../../Downloads/PPMISPECT/PPMI6/3131/Recons...</td>\n",
       "    </tr>\n",
       "    <tr>\n",
       "      <th>339540</th>\n",
       "      <td>PD</td>\n",
       "      <td>3522</td>\n",
       "      <td>54</td>\n",
       "      <td>M</td>\n",
       "      <td>../../../Downloads/PPMISPECT/PPMI5/3522/Recons...</td>\n",
       "    </tr>\n",
       "    <tr>\n",
       "      <th>388585</th>\n",
       "      <td>PD</td>\n",
       "      <td>4034</td>\n",
       "      <td>55</td>\n",
       "      <td>F</td>\n",
       "      <td>NaN</td>\n",
       "    </tr>\n",
       "    <tr>\n",
       "      <th>340353</th>\n",
       "      <td>PD</td>\n",
       "      <td>3413</td>\n",
       "      <td>43</td>\n",
       "      <td>M</td>\n",
       "      <td>../../../Downloads/PPMISPECT/PPMI/3413/Reconst...</td>\n",
       "    </tr>\n",
       "    <tr>\n",
       "      <th>419553</th>\n",
       "      <td>PD</td>\n",
       "      <td>3128</td>\n",
       "      <td>61</td>\n",
       "      <td>F</td>\n",
       "      <td>../../../Downloads/PPMISPECT/PPMI2/3128/Recons...</td>\n",
       "    </tr>\n",
       "    <tr>\n",
       "      <th>389206</th>\n",
       "      <td>PD</td>\n",
       "      <td>3279</td>\n",
       "      <td>63</td>\n",
       "      <td>M</td>\n",
       "      <td>NaN</td>\n",
       "    </tr>\n",
       "    <tr>\n",
       "      <th>355239</th>\n",
       "      <td>PD</td>\n",
       "      <td>3905</td>\n",
       "      <td>72</td>\n",
       "      <td>F</td>\n",
       "      <td>../../../Downloads/PPMISPECT/PPMI9/3905/Recons...</td>\n",
       "    </tr>\n",
       "    <tr>\n",
       "      <th>419579</th>\n",
       "      <td>PD</td>\n",
       "      <td>3824</td>\n",
       "      <td>56</td>\n",
       "      <td>F</td>\n",
       "      <td>NaN</td>\n",
       "    </tr>\n",
       "    <tr>\n",
       "      <th>449036</th>\n",
       "      <td>PD</td>\n",
       "      <td>3823</td>\n",
       "      <td>59</td>\n",
       "      <td>M</td>\n",
       "      <td>../../../Downloads/PPMISPECT/PPMI/3823/Reconst...</td>\n",
       "    </tr>\n",
       "    <tr>\n",
       "      <th>339537</th>\n",
       "      <td>Control</td>\n",
       "      <td>3518</td>\n",
       "      <td>73</td>\n",
       "      <td>M</td>\n",
       "      <td>../../../Downloads/PPMISPECT/PPMI/3518/Reconst...</td>\n",
       "    </tr>\n",
       "    <tr>\n",
       "      <th>446125</th>\n",
       "      <td>PD</td>\n",
       "      <td>3444</td>\n",
       "      <td>71</td>\n",
       "      <td>M</td>\n",
       "      <td>../../../Downloads/PPMISPECT/PPMI5/3444/Recons...</td>\n",
       "    </tr>\n",
       "    <tr>\n",
       "      <th>...</th>\n",
       "      <td>...</td>\n",
       "      <td>...</td>\n",
       "      <td>...</td>\n",
       "      <td>...</td>\n",
       "      <td>...</td>\n",
       "    </tr>\n",
       "    <tr>\n",
       "      <th>504845</th>\n",
       "      <td>PD</td>\n",
       "      <td>3454</td>\n",
       "      <td>61</td>\n",
       "      <td>F</td>\n",
       "      <td>../../../Downloads/PPMISPECT/PPMI6/3454/Recons...</td>\n",
       "    </tr>\n",
       "    <tr>\n",
       "      <th>341058</th>\n",
       "      <td>Control</td>\n",
       "      <td>3222</td>\n",
       "      <td>58</td>\n",
       "      <td>M</td>\n",
       "      <td>../../../Downloads/PPMISPECT/PPMI5/3222/Recons...</td>\n",
       "    </tr>\n",
       "    <tr>\n",
       "      <th>388505</th>\n",
       "      <td>Control</td>\n",
       "      <td>3390</td>\n",
       "      <td>66</td>\n",
       "      <td>M</td>\n",
       "      <td>NaN</td>\n",
       "    </tr>\n",
       "    <tr>\n",
       "      <th>389265</th>\n",
       "      <td>PD</td>\n",
       "      <td>3868</td>\n",
       "      <td>69</td>\n",
       "      <td>M</td>\n",
       "      <td>../../../Downloads/PPMISPECT/PPMI5/3868/Recons...</td>\n",
       "    </tr>\n",
       "    <tr>\n",
       "      <th>340357</th>\n",
       "      <td>PD</td>\n",
       "      <td>3418</td>\n",
       "      <td>55</td>\n",
       "      <td>M</td>\n",
       "      <td>NaN</td>\n",
       "    </tr>\n",
       "    <tr>\n",
       "      <th>419558</th>\n",
       "      <td>PD</td>\n",
       "      <td>3328</td>\n",
       "      <td>64</td>\n",
       "      <td>M</td>\n",
       "      <td>../../../Downloads/PPMISPECT/PPMI6/3328/Recons...</td>\n",
       "    </tr>\n",
       "    <tr>\n",
       "      <th>341070</th>\n",
       "      <td>Control</td>\n",
       "      <td>3264</td>\n",
       "      <td>60</td>\n",
       "      <td>F</td>\n",
       "      <td>../../../Downloads/PPMISPECT/PPMI5/3264/Recons...</td>\n",
       "    </tr>\n",
       "    <tr>\n",
       "      <th>418920</th>\n",
       "      <td>PD</td>\n",
       "      <td>3504</td>\n",
       "      <td>63</td>\n",
       "      <td>M</td>\n",
       "      <td>../../../Downloads/PPMISPECT/PPMI9/3504/Recons...</td>\n",
       "    </tr>\n",
       "    <tr>\n",
       "      <th>418889</th>\n",
       "      <td>PD</td>\n",
       "      <td>3150</td>\n",
       "      <td>59</td>\n",
       "      <td>F</td>\n",
       "      <td>../../../Downloads/PPMISPECT/PPMI4/3150/Recons...</td>\n",
       "    </tr>\n",
       "    <tr>\n",
       "      <th>418352</th>\n",
       "      <td>PD</td>\n",
       "      <td>3421</td>\n",
       "      <td>41</td>\n",
       "      <td>M</td>\n",
       "      <td>NaN</td>\n",
       "    </tr>\n",
       "    <tr>\n",
       "      <th>355952</th>\n",
       "      <td>PD</td>\n",
       "      <td>3504</td>\n",
       "      <td>62</td>\n",
       "      <td>M</td>\n",
       "      <td>../../../Downloads/PPMISPECT/PPMI9/3504/Recons...</td>\n",
       "    </tr>\n",
       "    <tr>\n",
       "      <th>341258</th>\n",
       "      <td>PD</td>\n",
       "      <td>3863</td>\n",
       "      <td>65</td>\n",
       "      <td>F</td>\n",
       "      <td>NaN</td>\n",
       "    </tr>\n",
       "    <tr>\n",
       "      <th>355939</th>\n",
       "      <td>PD</td>\n",
       "      <td>3154</td>\n",
       "      <td>74</td>\n",
       "      <td>F</td>\n",
       "      <td>NaN</td>\n",
       "    </tr>\n",
       "    <tr>\n",
       "      <th>337832</th>\n",
       "      <td>Control</td>\n",
       "      <td>3850</td>\n",
       "      <td>50</td>\n",
       "      <td>F</td>\n",
       "      <td>../../../Downloads/PPMISPECT/PPMI7/3850/Recons...</td>\n",
       "    </tr>\n",
       "    <tr>\n",
       "      <th>339035</th>\n",
       "      <td>Control</td>\n",
       "      <td>4007</td>\n",
       "      <td>69</td>\n",
       "      <td>M</td>\n",
       "      <td>../../../Downloads/PPMISPECT/PPMI4/4007/Recons...</td>\n",
       "    </tr>\n",
       "    <tr>\n",
       "      <th>446139</th>\n",
       "      <td>PD</td>\n",
       "      <td>3818</td>\n",
       "      <td>75</td>\n",
       "      <td>F</td>\n",
       "      <td>../../../Downloads/PPMISPECT/PPMI9/3818/Recons...</td>\n",
       "    </tr>\n",
       "    <tr>\n",
       "      <th>323662</th>\n",
       "      <td>Control</td>\n",
       "      <td>3000</td>\n",
       "      <td>69</td>\n",
       "      <td>F</td>\n",
       "      <td>../../../Downloads/PPMISPECT/PPMI/3000/Reconst...</td>\n",
       "    </tr>\n",
       "    <tr>\n",
       "      <th>419852</th>\n",
       "      <td>PD</td>\n",
       "      <td>3111</td>\n",
       "      <td>67</td>\n",
       "      <td>M</td>\n",
       "      <td>NaN</td>\n",
       "    </tr>\n",
       "    <tr>\n",
       "      <th>436877</th>\n",
       "      <td>PD</td>\n",
       "      <td>3916</td>\n",
       "      <td>71</td>\n",
       "      <td>F</td>\n",
       "      <td>../../../Downloads/PPMISPECT/PPMI2/3916/Recons...</td>\n",
       "    </tr>\n",
       "    <tr>\n",
       "      <th>389263</th>\n",
       "      <td>PD</td>\n",
       "      <td>3858</td>\n",
       "      <td>67</td>\n",
       "      <td>F</td>\n",
       "      <td>../../../Downloads/PPMISPECT/PPMI6/3858/Recons...</td>\n",
       "    </tr>\n",
       "    <tr>\n",
       "      <th>419859</th>\n",
       "      <td>PD</td>\n",
       "      <td>3211</td>\n",
       "      <td>64</td>\n",
       "      <td>M</td>\n",
       "      <td>../../../Downloads/PPMISPECT/PPMI3/3211/Recons...</td>\n",
       "    </tr>\n",
       "    <tr>\n",
       "      <th>419878</th>\n",
       "      <td>PD</td>\n",
       "      <td>3752</td>\n",
       "      <td>54</td>\n",
       "      <td>M</td>\n",
       "      <td>../../../Downloads/PPMISPECT/PPMI2/3752/Recons...</td>\n",
       "    </tr>\n",
       "    <tr>\n",
       "      <th>355205</th>\n",
       "      <td>PD</td>\n",
       "      <td>3378</td>\n",
       "      <td>48</td>\n",
       "      <td>M</td>\n",
       "      <td>NaN</td>\n",
       "    </tr>\n",
       "    <tr>\n",
       "      <th>419267</th>\n",
       "      <td>PD</td>\n",
       "      <td>3778</td>\n",
       "      <td>53</td>\n",
       "      <td>F</td>\n",
       "      <td>../../../Downloads/PPMISPECT/PPMI5/3778/Recons...</td>\n",
       "    </tr>\n",
       "    <tr>\n",
       "      <th>436882</th>\n",
       "      <td>PD</td>\n",
       "      <td>4110</td>\n",
       "      <td>72</td>\n",
       "      <td>M</td>\n",
       "      <td>NaN</td>\n",
       "    </tr>\n",
       "    <tr>\n",
       "      <th>337835</th>\n",
       "      <td>Control</td>\n",
       "      <td>3853</td>\n",
       "      <td>47</td>\n",
       "      <td>M</td>\n",
       "      <td>NaN</td>\n",
       "    </tr>\n",
       "    <tr>\n",
       "      <th>360614</th>\n",
       "      <td>PD</td>\n",
       "      <td>3632</td>\n",
       "      <td>55</td>\n",
       "      <td>M</td>\n",
       "      <td>NaN</td>\n",
       "    </tr>\n",
       "    <tr>\n",
       "      <th>699416</th>\n",
       "      <td>PD</td>\n",
       "      <td>3352</td>\n",
       "      <td>56</td>\n",
       "      <td>M</td>\n",
       "      <td>../../../Downloads/PPMISPECT/PPMI7/3352/Recons...</td>\n",
       "    </tr>\n",
       "    <tr>\n",
       "      <th>338784</th>\n",
       "      <td>PD</td>\n",
       "      <td>3575</td>\n",
       "      <td>61</td>\n",
       "      <td>M</td>\n",
       "      <td>../../../Downloads/PPMISPECT/PPMI4/3575/Recons...</td>\n",
       "    </tr>\n",
       "    <tr>\n",
       "      <th>388468</th>\n",
       "      <td>Control</td>\n",
       "      <td>3029</td>\n",
       "      <td>66</td>\n",
       "      <td>M</td>\n",
       "      <td>NaN</td>\n",
       "    </tr>\n",
       "  </tbody>\n",
       "</table>\n",
       "<p>314 rows × 5 columns</p>\n",
       "</div>"
      ],
      "text/plain": [
       "                 Group  Subject  Age Sex  \\\n",
       "Image Data ID                              \n",
       "504428              PD     3132   52   M   \n",
       "341022         Control     3157   64   F   \n",
       "504469              PD     4074   62   M   \n",
       "504443              PD     3777   64   M   \n",
       "418344              PD     3267   72   M   \n",
       "388471              PD     3086   56   F   \n",
       "486553              PD     3630   64   F   \n",
       "436073              PD     3593   56   F   \n",
       "358118              PD     3105   70   M   \n",
       "446124              PD     3443   56   M   \n",
       "355231         Control     3807   74   F   \n",
       "388611              PD     4115   67   M   \n",
       "389266              PD     3903   71   M   \n",
       "419257              PD     3629   54   M   \n",
       "446129              PD     3470   60   M   \n",
       "419275              PD     3868   70   M   \n",
       "418680              PD     3435   56   M   \n",
       "446113              PD     3224   87   M   \n",
       "846854              PD     3116   69   M   \n",
       "436857              PD     3131   72   M   \n",
       "339540              PD     3522   54   M   \n",
       "388585              PD     4034   55   F   \n",
       "340353              PD     3413   43   M   \n",
       "419553              PD     3128   61   F   \n",
       "389206              PD     3279   63   M   \n",
       "355239              PD     3905   72   F   \n",
       "419579              PD     3824   56   F   \n",
       "449036              PD     3823   59   M   \n",
       "339537         Control     3518   73   M   \n",
       "446125              PD     3444   71   M   \n",
       "...                ...      ...  ...  ..   \n",
       "504845              PD     3454   61   F   \n",
       "341058         Control     3222   58   M   \n",
       "388505         Control     3390   66   M   \n",
       "389265              PD     3868   69   M   \n",
       "340357              PD     3418   55   M   \n",
       "419558              PD     3328   64   M   \n",
       "341070         Control     3264   60   F   \n",
       "418920              PD     3504   63   M   \n",
       "418889              PD     3150   59   F   \n",
       "418352              PD     3421   41   M   \n",
       "355952              PD     3504   62   M   \n",
       "341258              PD     3863   65   F   \n",
       "355939              PD     3154   74   F   \n",
       "337832         Control     3850   50   F   \n",
       "339035         Control     4007   69   M   \n",
       "446139              PD     3818   75   F   \n",
       "323662         Control     3000   69   F   \n",
       "419852              PD     3111   67   M   \n",
       "436877              PD     3916   71   F   \n",
       "389263              PD     3858   67   F   \n",
       "419859              PD     3211   64   M   \n",
       "419878              PD     3752   54   M   \n",
       "355205              PD     3378   48   M   \n",
       "419267              PD     3778   53   F   \n",
       "436882              PD     4110   72   M   \n",
       "337835         Control     3853   47   M   \n",
       "360614              PD     3632   55   M   \n",
       "699416              PD     3352   56   M   \n",
       "338784              PD     3575   61   M   \n",
       "388468         Control     3029   66   M   \n",
       "\n",
       "                                                       Filenames  \n",
       "Image Data ID                                                     \n",
       "504428         ../../../Downloads/PPMISPECT/PPMI5/3132/Recons...  \n",
       "341022         ../../../Downloads/PPMISPECT/PPMI5/3157/Recons...  \n",
       "504469         ../../../Downloads/PPMISPECT/PPMI6/4074/Recons...  \n",
       "504443         ../../../Downloads/PPMISPECT/PPMI3/3777/Recons...  \n",
       "418344         ../../../Downloads/PPMISPECT/PPMI8/3267/Recons...  \n",
       "388471         ../../../Downloads/PPMISPECT/PPMI6/3086/Recons...  \n",
       "486553         ../../../Downloads/PPMISPECT/PPMI/3630/Reconst...  \n",
       "436073         ../../../Downloads/PPMISPECT/PPMI2/3593/Recons...  \n",
       "358118                                                       NaN  \n",
       "446124                                                       NaN  \n",
       "355231                                                       NaN  \n",
       "388611                                                       NaN  \n",
       "389266         ../../../Downloads/PPMISPECT/PPMI9/3903/Recons...  \n",
       "419257         ../../../Downloads/PPMISPECT/PPMI8/3629/Recons...  \n",
       "446129         ../../../Downloads/PPMISPECT/PPMI4/3470/Recons...  \n",
       "419275                                                       NaN  \n",
       "418680         ../../../Downloads/PPMISPECT/PPMI6/3435/Recons...  \n",
       "446113         ../../../Downloads/PPMISPECT/PPMI8/3224/Recons...  \n",
       "846854         ../../../Downloads/PPMISPECT/PPMI2/3116/Recons...  \n",
       "436857         ../../../Downloads/PPMISPECT/PPMI6/3131/Recons...  \n",
       "339540         ../../../Downloads/PPMISPECT/PPMI5/3522/Recons...  \n",
       "388585                                                       NaN  \n",
       "340353         ../../../Downloads/PPMISPECT/PPMI/3413/Reconst...  \n",
       "419553         ../../../Downloads/PPMISPECT/PPMI2/3128/Recons...  \n",
       "389206                                                       NaN  \n",
       "355239         ../../../Downloads/PPMISPECT/PPMI9/3905/Recons...  \n",
       "419579                                                       NaN  \n",
       "449036         ../../../Downloads/PPMISPECT/PPMI/3823/Reconst...  \n",
       "339537         ../../../Downloads/PPMISPECT/PPMI/3518/Reconst...  \n",
       "446125         ../../../Downloads/PPMISPECT/PPMI5/3444/Recons...  \n",
       "...                                                          ...  \n",
       "504845         ../../../Downloads/PPMISPECT/PPMI6/3454/Recons...  \n",
       "341058         ../../../Downloads/PPMISPECT/PPMI5/3222/Recons...  \n",
       "388505                                                       NaN  \n",
       "389265         ../../../Downloads/PPMISPECT/PPMI5/3868/Recons...  \n",
       "340357                                                       NaN  \n",
       "419558         ../../../Downloads/PPMISPECT/PPMI6/3328/Recons...  \n",
       "341070         ../../../Downloads/PPMISPECT/PPMI5/3264/Recons...  \n",
       "418920         ../../../Downloads/PPMISPECT/PPMI9/3504/Recons...  \n",
       "418889         ../../../Downloads/PPMISPECT/PPMI4/3150/Recons...  \n",
       "418352                                                       NaN  \n",
       "355952         ../../../Downloads/PPMISPECT/PPMI9/3504/Recons...  \n",
       "341258                                                       NaN  \n",
       "355939                                                       NaN  \n",
       "337832         ../../../Downloads/PPMISPECT/PPMI7/3850/Recons...  \n",
       "339035         ../../../Downloads/PPMISPECT/PPMI4/4007/Recons...  \n",
       "446139         ../../../Downloads/PPMISPECT/PPMI9/3818/Recons...  \n",
       "323662         ../../../Downloads/PPMISPECT/PPMI/3000/Reconst...  \n",
       "419852                                                       NaN  \n",
       "436877         ../../../Downloads/PPMISPECT/PPMI2/3916/Recons...  \n",
       "389263         ../../../Downloads/PPMISPECT/PPMI6/3858/Recons...  \n",
       "419859         ../../../Downloads/PPMISPECT/PPMI3/3211/Recons...  \n",
       "419878         ../../../Downloads/PPMISPECT/PPMI2/3752/Recons...  \n",
       "355205                                                       NaN  \n",
       "419267         ../../../Downloads/PPMISPECT/PPMI5/3778/Recons...  \n",
       "436882                                                       NaN  \n",
       "337835                                                       NaN  \n",
       "360614                                                       NaN  \n",
       "699416         ../../../Downloads/PPMISPECT/PPMI7/3352/Recons...  \n",
       "338784         ../../../Downloads/PPMISPECT/PPMI4/3575/Recons...  \n",
       "388468                                                       NaN  \n",
       "\n",
       "[314 rows x 5 columns]"
      ]
     },
     "execution_count": 18,
     "metadata": {},
     "output_type": "execute_result"
    }
   ],
   "source": [
    "df.sample(frac=0.2, axis=0)"
   ]
  },
  {
   "cell_type": "code",
   "execution_count": 19,
   "metadata": {},
   "outputs": [],
   "source": [
    "up = pd.read_csv('comandfile.csv')"
   ]
  },
  {
   "cell_type": "code",
   "execution_count": 20,
   "metadata": {},
   "outputs": [
    {
     "data": {
      "text/html": [
       "<div>\n",
       "<style scoped>\n",
       "    .dataframe tbody tr th:only-of-type {\n",
       "        vertical-align: middle;\n",
       "    }\n",
       "\n",
       "    .dataframe tbody tr th {\n",
       "        vertical-align: top;\n",
       "    }\n",
       "\n",
       "    .dataframe thead th {\n",
       "        text-align: right;\n",
       "    }\n",
       "</style>\n",
       "<table border=\"1\" class=\"dataframe\">\n",
       "  <thead>\n",
       "    <tr style=\"text-align: right;\">\n",
       "      <th></th>\n",
       "      <th>Unnamed: 0</th>\n",
       "      <th>Image Data ID</th>\n",
       "      <th>Group</th>\n",
       "      <th>Subject</th>\n",
       "      <th>Age</th>\n",
       "      <th>Sex</th>\n",
       "      <th>Filenames</th>\n",
       "      <th>TOTAL3</th>\n",
       "      <th>1YR</th>\n",
       "      <th>2YR</th>\n",
       "      <th>3YR</th>\n",
       "      <th>TOTAL3.1</th>\n",
       "    </tr>\n",
       "  </thead>\n",
       "  <tbody>\n",
       "    <tr>\n",
       "      <th>0</th>\n",
       "      <td>0</td>\n",
       "      <td>360618</td>\n",
       "      <td>Control</td>\n",
       "      <td>3769</td>\n",
       "      <td>71</td>\n",
       "      <td>M</td>\n",
       "      <td>./PPMI6/3769/Reconstructed_DaTSCAN/2012-10-25_...</td>\n",
       "      <td>2.00</td>\n",
       "      <td>0.000000</td>\n",
       "      <td>0.0</td>\n",
       "      <td>0.0</td>\n",
       "      <td>2.00</td>\n",
       "    </tr>\n",
       "    <tr>\n",
       "      <th>1</th>\n",
       "      <td>1</td>\n",
       "      <td>388617</td>\n",
       "      <td>PD</td>\n",
       "      <td>4122</td>\n",
       "      <td>64</td>\n",
       "      <td>M</td>\n",
       "      <td>./PPMI6/4122/Reconstructed_DaTSCAN/2013-02-06_...</td>\n",
       "      <td>26.00</td>\n",
       "      <td>18.333333</td>\n",
       "      <td>17.0</td>\n",
       "      <td>NaN</td>\n",
       "      <td>26.00</td>\n",
       "    </tr>\n",
       "    <tr>\n",
       "      <th>2</th>\n",
       "      <td>2</td>\n",
       "      <td>363956</td>\n",
       "      <td>PD</td>\n",
       "      <td>3870</td>\n",
       "      <td>41</td>\n",
       "      <td>F</td>\n",
       "      <td>./PPMI4/3870/Reconstructed_DaTSCAN/2012-11-29_...</td>\n",
       "      <td>5.50</td>\n",
       "      <td>9.333333</td>\n",
       "      <td>19.0</td>\n",
       "      <td>44.5</td>\n",
       "      <td>5.50</td>\n",
       "    </tr>\n",
       "    <tr>\n",
       "      <th>3</th>\n",
       "      <td>3</td>\n",
       "      <td>419581</td>\n",
       "      <td>PD</td>\n",
       "      <td>3829</td>\n",
       "      <td>68</td>\n",
       "      <td>F</td>\n",
       "      <td>./PPMI/3829/Reconstructed_DaTSCAN/2013-10-01_1...</td>\n",
       "      <td>19.25</td>\n",
       "      <td>15.500000</td>\n",
       "      <td>11.0</td>\n",
       "      <td>25.5</td>\n",
       "      <td>19.25</td>\n",
       "    </tr>\n",
       "    <tr>\n",
       "      <th>4</th>\n",
       "      <td>4</td>\n",
       "      <td>341075</td>\n",
       "      <td>Control</td>\n",
       "      <td>3271</td>\n",
       "      <td>58</td>\n",
       "      <td>M</td>\n",
       "      <td>./PPMI6/3271/Reconstructed_DaTSCAN/2011-09-13_...</td>\n",
       "      <td>2.00</td>\n",
       "      <td>7.000000</td>\n",
       "      <td>NaN</td>\n",
       "      <td>NaN</td>\n",
       "      <td>2.00</td>\n",
       "    </tr>\n",
       "  </tbody>\n",
       "</table>\n",
       "</div>"
      ],
      "text/plain": [
       "   Unnamed: 0  Image Data ID    Group  Subject  Age Sex  \\\n",
       "0           0         360618  Control     3769   71   M   \n",
       "1           1         388617       PD     4122   64   M   \n",
       "2           2         363956       PD     3870   41   F   \n",
       "3           3         419581       PD     3829   68   F   \n",
       "4           4         341075  Control     3271   58   M   \n",
       "\n",
       "                                           Filenames  TOTAL3        1YR   2YR  \\\n",
       "0  ./PPMI6/3769/Reconstructed_DaTSCAN/2012-10-25_...    2.00   0.000000   0.0   \n",
       "1  ./PPMI6/4122/Reconstructed_DaTSCAN/2013-02-06_...   26.00  18.333333  17.0   \n",
       "2  ./PPMI4/3870/Reconstructed_DaTSCAN/2012-11-29_...    5.50   9.333333  19.0   \n",
       "3  ./PPMI/3829/Reconstructed_DaTSCAN/2013-10-01_1...   19.25  15.500000  11.0   \n",
       "4  ./PPMI6/3271/Reconstructed_DaTSCAN/2011-09-13_...    2.00   7.000000   NaN   \n",
       "\n",
       "    3YR  TOTAL3.1  \n",
       "0   0.0      2.00  \n",
       "1   NaN     26.00  \n",
       "2  44.5      5.50  \n",
       "3  25.5     19.25  \n",
       "4   NaN      2.00  "
      ]
     },
     "execution_count": 20,
     "metadata": {},
     "output_type": "execute_result"
    }
   ],
   "source": [
    "up.head()"
   ]
  },
  {
   "cell_type": "code",
   "execution_count": 21,
   "metadata": {},
   "outputs": [],
   "source": [
    "up_df = up[['Image Data ID','TOTAL3','1YR','2YR','3YR']].set_index('Image Data ID')"
   ]
  },
  {
   "cell_type": "code",
   "execution_count": 22,
   "metadata": {},
   "outputs": [],
   "source": [
    "df1to4 = df.join(up_df)"
   ]
  },
  {
   "cell_type": "code",
   "execution_count": 23,
   "metadata": {},
   "outputs": [],
   "source": [
    "df1to4 = df1to4.dropna(axis=0,subset=(['1YR']))"
   ]
  },
  {
   "cell_type": "code",
   "execution_count": 222,
   "metadata": {},
   "outputs": [],
   "source": [
    "df1to4.to_csv('comandfile.csv')"
   ]
  },
  {
   "cell_type": "code",
   "execution_count": 6,
   "metadata": {},
   "outputs": [],
   "source": [
    "df1to4 = pd.read_csv('comandfile.csv')"
   ]
  },
  {
   "cell_type": "code",
   "execution_count": 24,
   "metadata": {},
   "outputs": [],
   "source": [
    "#df1to4 = df1to4[~df1to4.Group.str.contains('Control')]"
   ]
  },
  {
   "cell_type": "code",
   "execution_count": 24,
   "metadata": {},
   "outputs": [],
   "source": [
    "df1to4 = df1to4[~df1to4.TOTAL3.isnull()]"
   ]
  },
  {
   "cell_type": "code",
   "execution_count": 25,
   "metadata": {},
   "outputs": [],
   "source": [
    "df1to4 = df1to4[~df1to4.Filenames.isnull()]"
   ]
  },
  {
   "cell_type": "code",
   "execution_count": 26,
   "metadata": {
    "scrolled": true
   },
   "outputs": [
    {
     "data": {
      "text/plain": [
       "Group        False\n",
       "Subject      False\n",
       "Age          False\n",
       "Sex          False\n",
       "Filenames    False\n",
       "TOTAL3       False\n",
       "1YR          False\n",
       "2YR          False\n",
       "3YR          False\n",
       "dtype: bool"
      ]
     },
     "execution_count": 26,
     "metadata": {},
     "output_type": "execute_result"
    }
   ],
   "source": [
    "df1to4.any().isnull()"
   ]
  },
  {
   "cell_type": "code",
   "execution_count": 27,
   "metadata": {},
   "outputs": [],
   "source": [
    "df1to4.loc[df1to4['Group']=='Control', 'G']=0\n",
    "df1to4.loc[df1to4['Group']=='PD', 'G']=1"
   ]
  },
  {
   "cell_type": "code",
   "execution_count": 28,
   "metadata": {},
   "outputs": [],
   "source": [
    "pro = (df1to4['1YR'].values - df1to4['TOTAL3'].values)\n",
    "progress = []\n",
    "\n",
    "for i in pro:\n",
    "    if i > 2 : progress.append('1')\n",
    "    #elif i < (-2) : progress.append('0')\n",
    "    else : progress.append('0')\n",
    "df1to4['Progress'] = progress\n",
    "df1to4['pro'] = pro\n",
    "del(pro,progress)"
   ]
  },
  {
   "cell_type": "code",
   "execution_count": null,
   "metadata": {},
   "outputs": [],
   "source": []
  },
  {
   "cell_type": "code",
   "execution_count": 29,
   "metadata": {},
   "outputs": [],
   "source": [
    "from sklearn.preprocessing import MinMaxScaler"
   ]
  },
  {
   "cell_type": "code",
   "execution_count": 30,
   "metadata": {},
   "outputs": [],
   "source": [
    "scale3 = MinMaxScaler()"
   ]
  },
  {
   "cell_type": "code",
   "execution_count": 31,
   "metadata": {},
   "outputs": [
    {
     "name": "stdout",
     "output_type": "stream",
     "text": [
      "MinMaxScaler(copy=True, feature_range=(0, 1))\n"
     ]
    }
   ],
   "source": [
    "print(scale3.fit(df1to4['TOTAL3'].values.reshape(-1,1)))"
   ]
  },
  {
   "cell_type": "code",
   "execution_count": 32,
   "metadata": {},
   "outputs": [],
   "source": [
    "df1to4['3scale'] = scale3.transform(df1to4['TOTAL3'].values.reshape(-1,1))"
   ]
  },
  {
   "cell_type": "code",
   "execution_count": 33,
   "metadata": {},
   "outputs": [],
   "source": [
    "del(scale3)"
   ]
  },
  {
   "cell_type": "code",
   "execution_count": 34,
   "metadata": {},
   "outputs": [],
   "source": [
    "from sklearn.model_selection import train_test_split\n",
    "X_train_tmp, X_test_tmp, y_train_tmp, y_test_tmp = train_test_split(df1to4, df1to4['G'], test_size=0.2)\n",
    "\n",
    "from sklearn.model_selection import train_test_split\n",
    "X_train_tmp, X_val_tmp, y_train_tmp, y_val_tmp = train_test_split(X_train_tmp, y_train_tmp, test_size=0.3)"
   ]
  },
  {
   "cell_type": "code",
   "execution_count": 35,
   "metadata": {},
   "outputs": [],
   "source": [
    "lstFilesDCM_train = []  # create an empty list\n",
    "lstFilesDCM_test = []\n",
    "lstFilesDCM_val = []\n",
    "lstFilesDCM_train = X_train_tmp['Filenames'].values\n",
    "lstFilesDCM_train = lstFilesDCM_train.tolist()\n",
    "lstFilesDCM_test = X_test_tmp['Filenames'].values\n",
    "lstFilesDCM_test = lstFilesDCM_test.tolist()\n",
    "lstFilesDCM_val = X_val_tmp['Filenames'].values\n",
    "lstFilesDCM_val = lstFilesDCM_val.tolist()"
   ]
  },
  {
   "cell_type": "markdown",
   "metadata": {},
   "source": [
    "For NORMAL Image"
   ]
  },
  {
   "cell_type": "code",
   "execution_count": 36,
   "metadata": {},
   "outputs": [],
   "source": [
    "#Training Set"
   ]
  },
  {
   "cell_type": "code",
   "execution_count": null,
   "metadata": {},
   "outputs": [],
   "source": []
  },
  {
   "cell_type": "code",
   "execution_count": 635,
   "metadata": {
    "scrolled": false
   },
   "outputs": [
    {
     "data": {
      "text/plain": [
       "(592, 224, 224)"
      ]
     },
     "execution_count": 635,
     "metadata": {},
     "output_type": "execute_result"
    }
   ],
   "source": [
    "# loop through all the DICOM files\n",
    "image_array_train =[]\n",
    "cm= plt.get_cmap('Greys')\n",
    "for filenameDCM in lstFilesDCM_train:\n",
    "    ds = pydicom.read_file(filenameDCM)\n",
    "    ds_3d = (ds.pixel_array[40,20:90,10:80])\n",
    "    ds_3d = np.asarray(ds_3d, dtype='float64')\n",
    "    ds_3d -= -32133\n",
    "    ds_3d /= 64900\n",
    "    ds_3d = resize(ds_3d, (224, 224), mode='constant', anti_aliasing=True)\n",
    "    image_array_train.append(ds_3d)\n",
    "\n",
    "image_array_train = np.asarray(image_array_train)\n",
    "#image_array_train = image_array_train.transpose(0,3,1,2)\n",
    "image_array_train.shape\n",
    "\n",
    "\n"
   ]
  },
  {
   "cell_type": "code",
   "execution_count": 38,
   "metadata": {
    "scrolled": false
   },
   "outputs": [
    {
     "data": {
      "text/plain": [
       "<matplotlib.image.AxesImage at 0x1c21bc4dd8>"
      ]
     },
     "execution_count": 38,
     "metadata": {},
     "output_type": "execute_result"
    },
    {
     "data": {
      "image/png": "[encoded data removed]",
      "text/plain": [
       "<Figure size 432x288 with 1 Axes>"
      ]
     },
     "metadata": {},
     "output_type": "display_data"
    }
   ],
   "source": [
    "plt.imshow(image_array_train[280])"
   ]
  },
  {
   "cell_type": "code",
   "execution_count": 636,
   "metadata": {},
   "outputs": [
    {
     "data": {
      "text/plain": [
       "0.0"
      ]
     },
     "execution_count": 636,
     "metadata": {},
     "output_type": "execute_result"
    }
   ],
   "source": [
    "image_array_train.min()"
   ]
  },
  {
   "cell_type": "code",
   "execution_count": 637,
   "metadata": {},
   "outputs": [
    {
     "data": {
      "text/plain": [
       "0.9998530943037366"
      ]
     },
     "execution_count": 637,
     "metadata": {},
     "output_type": "execute_result"
    }
   ],
   "source": [
    "image_array_train.max()"
   ]
  },
  {
   "cell_type": "code",
   "execution_count": 638,
   "metadata": {},
   "outputs": [],
   "source": [
    "image_array_train= image_array_train.astype('float64')"
   ]
  },
  {
   "cell_type": "code",
   "execution_count": 639,
   "metadata": {},
   "outputs": [],
   "source": [
    "#Validation set"
   ]
  },
  {
   "cell_type": "code",
   "execution_count": 640,
   "metadata": {},
   "outputs": [
    {
     "data": {
      "text/plain": [
       "(255, 224, 224)"
      ]
     },
     "execution_count": 640,
     "metadata": {},
     "output_type": "execute_result"
    }
   ],
   "source": [
    "# loop through all the DICOM files\n",
    "\n",
    "image_array_val =[]\n",
    "for filenameDCM in lstFilesDCM_val:\n",
    "    ds = pydicom.read_file(filenameDCM)\n",
    "    ds_3d = (ds.pixel_array[40,20:90,10:80])\n",
    "    ds_3d = np.asarray(ds_3d, dtype='float64')\n",
    "    ds_3d -= -32133\n",
    "    ds_3d /= 64900\n",
    "    ds_3d = resize(ds_3d, (224, 224), mode='constant', anti_aliasing=True)\n",
    "    image_array_val.append(ds_3d)\n",
    "\n",
    "image_array_val = np.asarray(image_array_val)\n",
    "#image_array_train = image_array_train.transpose(0,3,1,2)\n",
    "image_array_val.shape"
   ]
  },
  {
   "cell_type": "code",
   "execution_count": 641,
   "metadata": {},
   "outputs": [
    {
     "data": {
      "text/plain": [
       "0.005839753466872111"
      ]
     },
     "execution_count": 641,
     "metadata": {},
     "output_type": "execute_result"
    }
   ],
   "source": [
    "image_array_val.min()"
   ]
  },
  {
   "cell_type": "code",
   "execution_count": 642,
   "metadata": {},
   "outputs": [],
   "source": [
    "#Test set"
   ]
  },
  {
   "cell_type": "code",
   "execution_count": 643,
   "metadata": {},
   "outputs": [
    {
     "data": {
      "text/plain": [
       "(212, 224, 224)"
      ]
     },
     "execution_count": 643,
     "metadata": {},
     "output_type": "execute_result"
    }
   ],
   "source": [
    "# loop through all the DICOM files\n",
    "\n",
    "image_array_test =[]\n",
    "for filenameDCM in lstFilesDCM_test:\n",
    "    ds = pydicom.read_file(filenameDCM)\n",
    "    ds_3d = (ds.pixel_array[40,20:90,10:80])\n",
    "    ds_3d = np.asarray(ds_3d, dtype='float64')\n",
    "    ds_3d -= -32133\n",
    "    ds_3d /= 64900\n",
    "    ds_3d = resize(ds_3d, (224, 224),mode='constant', anti_aliasing=True)\n",
    "    image_array_test.append(ds_3d)\n",
    "\n",
    "image_array_test = np.asarray(image_array_test)\n",
    "\n",
    "image_array_test.shape"
   ]
  },
  {
   "cell_type": "code",
   "execution_count": 644,
   "metadata": {},
   "outputs": [],
   "source": [
    "image_array_train = image_array_train.reshape(len(lstFilesDCM_train),1,224,224)"
   ]
  },
  {
   "cell_type": "code",
   "execution_count": 645,
   "metadata": {},
   "outputs": [],
   "source": [
    "image_array_val = image_array_val.reshape(len(lstFilesDCM_val),1,224,224)\n",
    "image_array_test = image_array_test.reshape(len(lstFilesDCM_test),1,224,224)"
   ]
  },
  {
   "cell_type": "code",
   "execution_count": 50,
   "metadata": {
    "scrolled": true
   },
   "outputs": [
    {
     "data": {
      "text/plain": [
       "['../../../Downloads/PPMISPECT/PPMI8/3914/Reconstructed_DaTSCAN/2014-04-03_13_56_22.0/S225379/PPMI_3914_NM_Reconstructed_DaTSCAN_Br_20140721163517732_1_S225379_I436079.dcm',\n",
       " '../../../Downloads/PPMISPECT/PPMI7/4115/Reconstructed_DaTSCAN/2015-03-25_15_52_35.0/S268047/PPMI_4115_NM_Reconstructed_DaTSCAN_Br_20150807125407924_1_S268047_I504477.dcm',\n",
       " '../../../Downloads/PPMISPECT/PPMI8/3469/Reconstructed_DaTSCAN/2013-02-12_15_31_25.0/S196753/PPMI_3469_NM_Reconstructed_DaTSCAN_Br_20140402100507286_1_S196753_I418489.dcm',\n",
       " '../../../Downloads/PPMISPECT/PPMI/3434/Reconstructed_DaTSCAN/2012-10-12_16_57_02.0/S175603/PPMI_3434_NM_Reconstructed_DaTSCAN_Br_20140402100415568_1_S175603_I418485.dcm',\n",
       " '../../../Downloads/PPMISPECT/PPMI6/3451/Reconstructed_DaTSCAN/2012-12-04_16_21_44.0/S197910/PPMI_3451_NM_Reconstructed_DaTSCAN_Br_20140404125609283_1_S197910_I418915.dcm']"
      ]
     },
     "execution_count": 50,
     "metadata": {},
     "output_type": "execute_result"
    }
   ],
   "source": [
    "#Check matched data-result by Image ID number\n",
    "lstFilesDCM_test[0:5]"
   ]
  },
  {
   "cell_type": "code",
   "execution_count": 51,
   "metadata": {
    "scrolled": false
   },
   "outputs": [
    {
     "data": {
      "text/html": [
       "<div>\n",
       "<style scoped>\n",
       "    .dataframe tbody tr th:only-of-type {\n",
       "        vertical-align: middle;\n",
       "    }\n",
       "\n",
       "    .dataframe tbody tr th {\n",
       "        vertical-align: top;\n",
       "    }\n",
       "\n",
       "    .dataframe thead th {\n",
       "        text-align: right;\n",
       "    }\n",
       "</style>\n",
       "<table border=\"1\" class=\"dataframe\">\n",
       "  <thead>\n",
       "    <tr style=\"text-align: right;\">\n",
       "      <th></th>\n",
       "      <th>Group</th>\n",
       "      <th>Subject</th>\n",
       "      <th>Age</th>\n",
       "      <th>Sex</th>\n",
       "      <th>Filenames</th>\n",
       "      <th>TOTAL3</th>\n",
       "      <th>1YR</th>\n",
       "      <th>2YR</th>\n",
       "      <th>3YR</th>\n",
       "      <th>G</th>\n",
       "      <th>Progress</th>\n",
       "      <th>pro</th>\n",
       "      <th>3scale</th>\n",
       "    </tr>\n",
       "    <tr>\n",
       "      <th>Image Data ID</th>\n",
       "      <th></th>\n",
       "      <th></th>\n",
       "      <th></th>\n",
       "      <th></th>\n",
       "      <th></th>\n",
       "      <th></th>\n",
       "      <th></th>\n",
       "      <th></th>\n",
       "      <th></th>\n",
       "      <th></th>\n",
       "      <th></th>\n",
       "      <th></th>\n",
       "      <th></th>\n",
       "    </tr>\n",
       "  </thead>\n",
       "  <tbody>\n",
       "    <tr>\n",
       "      <th>436079</th>\n",
       "      <td>PD</td>\n",
       "      <td>3914</td>\n",
       "      <td>59</td>\n",
       "      <td>M</td>\n",
       "      <td>../../../Downloads/PPMISPECT/PPMI8/3914/Recons...</td>\n",
       "      <td>18.666667</td>\n",
       "      <td>20.0</td>\n",
       "      <td>33.0</td>\n",
       "      <td>29.5</td>\n",
       "      <td>1.0</td>\n",
       "      <td>0</td>\n",
       "      <td>1.333333</td>\n",
       "      <td>0.319088</td>\n",
       "    </tr>\n",
       "    <tr>\n",
       "      <th>504477</th>\n",
       "      <td>PD</td>\n",
       "      <td>4115</td>\n",
       "      <td>69</td>\n",
       "      <td>M</td>\n",
       "      <td>../../../Downloads/PPMISPECT/PPMI7/4115/Recons...</td>\n",
       "      <td>31.500000</td>\n",
       "      <td>32.5</td>\n",
       "      <td>36.0</td>\n",
       "      <td>35.0</td>\n",
       "      <td>1.0</td>\n",
       "      <td>0</td>\n",
       "      <td>1.000000</td>\n",
       "      <td>0.538462</td>\n",
       "    </tr>\n",
       "    <tr>\n",
       "      <th>418489</th>\n",
       "      <td>PD</td>\n",
       "      <td>3469</td>\n",
       "      <td>58</td>\n",
       "      <td>M</td>\n",
       "      <td>../../../Downloads/PPMISPECT/PPMI8/3469/Recons...</td>\n",
       "      <td>18.500000</td>\n",
       "      <td>20.5</td>\n",
       "      <td>29.5</td>\n",
       "      <td>32.0</td>\n",
       "      <td>1.0</td>\n",
       "      <td>0</td>\n",
       "      <td>2.000000</td>\n",
       "      <td>0.316239</td>\n",
       "    </tr>\n",
       "    <tr>\n",
       "      <th>418485</th>\n",
       "      <td>PD</td>\n",
       "      <td>3434</td>\n",
       "      <td>55</td>\n",
       "      <td>M</td>\n",
       "      <td>../../../Downloads/PPMISPECT/PPMI/3434/Reconst...</td>\n",
       "      <td>27.500000</td>\n",
       "      <td>31.5</td>\n",
       "      <td>38.5</td>\n",
       "      <td>45.5</td>\n",
       "      <td>1.0</td>\n",
       "      <td>1</td>\n",
       "      <td>4.000000</td>\n",
       "      <td>0.470085</td>\n",
       "    </tr>\n",
       "    <tr>\n",
       "      <th>418915</th>\n",
       "      <td>PD</td>\n",
       "      <td>3451</td>\n",
       "      <td>57</td>\n",
       "      <td>M</td>\n",
       "      <td>../../../Downloads/PPMISPECT/PPMI6/3451/Recons...</td>\n",
       "      <td>14.000000</td>\n",
       "      <td>20.5</td>\n",
       "      <td>30.5</td>\n",
       "      <td>25.5</td>\n",
       "      <td>1.0</td>\n",
       "      <td>1</td>\n",
       "      <td>6.500000</td>\n",
       "      <td>0.239316</td>\n",
       "    </tr>\n",
       "  </tbody>\n",
       "</table>\n",
       "</div>"
      ],
      "text/plain": [
       "              Group  Subject  Age Sex  \\\n",
       "Image Data ID                           \n",
       "436079           PD     3914   59   M   \n",
       "504477           PD     4115   69   M   \n",
       "418489           PD     3469   58   M   \n",
       "418485           PD     3434   55   M   \n",
       "418915           PD     3451   57   M   \n",
       "\n",
       "                                                       Filenames     TOTAL3  \\\n",
       "Image Data ID                                                                 \n",
       "436079         ../../../Downloads/PPMISPECT/PPMI8/3914/Recons...  18.666667   \n",
       "504477         ../../../Downloads/PPMISPECT/PPMI7/4115/Recons...  31.500000   \n",
       "418489         ../../../Downloads/PPMISPECT/PPMI8/3469/Recons...  18.500000   \n",
       "418485         ../../../Downloads/PPMISPECT/PPMI/3434/Reconst...  27.500000   \n",
       "418915         ../../../Downloads/PPMISPECT/PPMI6/3451/Recons...  14.000000   \n",
       "\n",
       "                1YR   2YR   3YR    G Progress       pro    3scale  \n",
       "Image Data ID                                                      \n",
       "436079         20.0  33.0  29.5  1.0        0  1.333333  0.319088  \n",
       "504477         32.5  36.0  35.0  1.0        0  1.000000  0.538462  \n",
       "418489         20.5  29.5  32.0  1.0        0  2.000000  0.316239  \n",
       "418485         31.5  38.5  45.5  1.0        1  4.000000  0.470085  \n",
       "418915         20.5  30.5  25.5  1.0        1  6.500000  0.239316  "
      ]
     },
     "execution_count": 51,
     "metadata": {},
     "output_type": "execute_result"
    }
   ],
   "source": [
    "X_test_tmp[0:5]"
   ]
  },
  {
   "cell_type": "code",
   "execution_count": 52,
   "metadata": {
    "scrolled": true
   },
   "outputs": [],
   "source": [
    "y_train = np.asarray(y_train_tmp.values)\n",
    "#y_train = y_train.astype('float64')\n",
    "y_val = np.asarray(y_val_tmp.values)\n",
    "#y_val = y_val.astype('float64')\n",
    "y_test = np.asarray(y_test_tmp.values)\n",
    "#y_test = y_test.astype('float64')\n",
    "y_train = y_train.astype('int64')\n",
    "y_val = y_val.astype('int64')\n",
    "y_test = y_test.astype('int64')"
   ]
  },
  {
   "cell_type": "code",
   "execution_count": 125,
   "metadata": {},
   "outputs": [],
   "source": [
    "#OHC\n",
    "y_train = np.asarray(pd.get_dummies(y_train_tmp).values)\n",
    "y_val = np.asarray(pd.get_dummies(y_val_tmp).values)\n",
    "y_test = np.asarray(pd.get_dummies(y_test_tmp).values)\n",
    "#y_train = y_train.astype('float64')\n",
    "#y_val = y_val.astype('float64')\n",
    "#y_test = y_test.astype('float64')\n",
    "y_train = y_train.astype('int64')\n",
    "y_val = y_val.astype('int64')\n",
    "y_test = y_test.astype('int64')"
   ]
  },
  {
   "cell_type": "code",
   "execution_count": 53,
   "metadata": {},
   "outputs": [
    {
     "data": {
      "text/plain": [
       "((592,), (255,), (212,))"
      ]
     },
     "execution_count": 53,
     "metadata": {},
     "output_type": "execute_result"
    }
   ],
   "source": [
    "y_train.shape,y_val.shape,y_test.shape"
   ]
  },
  {
   "cell_type": "code",
   "execution_count": 3161,
   "metadata": {},
   "outputs": [],
   "source": [
    "y_train = y_train.reshape(-1,1)\n",
    "y_val = y_val.reshape(-1,1)\n",
    "y_test = y_test.reshape(-1,1)"
   ]
  },
  {
   "cell_type": "code",
   "execution_count": 49,
   "metadata": {},
   "outputs": [
    {
     "ename": "NameError",
     "evalue": "name 'param_train_tmp' is not defined",
     "output_type": "error",
     "traceback": [
      "\u001b[0;31m---------------------------------------------------------------------------\u001b[0m",
      "\u001b[0;31mNameError\u001b[0m                                 Traceback (most recent call last)",
      "\u001b[0;32m<ipython-input-49-14cce010d33b>\u001b[0m in \u001b[0;36m<module>\u001b[0;34m()\u001b[0m\n\u001b[0;32m----> 1\u001b[0;31m \u001b[0mparam_train\u001b[0m \u001b[0;34m=\u001b[0m \u001b[0mparam_train_tmp\u001b[0m\u001b[0;34m.\u001b[0m\u001b[0mvalues\u001b[0m\u001b[0;34m\u001b[0m\u001b[0m\n\u001b[0m\u001b[1;32m      2\u001b[0m \u001b[0mparams\u001b[0m \u001b[0;34m=\u001b[0m \u001b[0;34m[\u001b[0m\u001b[0;34m]\u001b[0m\u001b[0;34m\u001b[0m\u001b[0m\n\u001b[1;32m      3\u001b[0m \u001b[0;32mfor\u001b[0m \u001b[0mi\u001b[0m \u001b[0;32min\u001b[0m \u001b[0mparam_train\u001b[0m\u001b[0;34m:\u001b[0m\u001b[0;34m\u001b[0m\u001b[0m\n\u001b[1;32m      4\u001b[0m     \u001b[0;31m#stack = []\u001b[0m\u001b[0;34m\u001b[0m\u001b[0;34m\u001b[0m\u001b[0m\n\u001b[1;32m      5\u001b[0m     \u001b[0;31m#stack.append(i)\u001b[0m\u001b[0;34m\u001b[0m\u001b[0;34m\u001b[0m\u001b[0m\n",
      "\u001b[0;31mNameError\u001b[0m: name 'param_train_tmp' is not defined"
     ]
    }
   ],
   "source": [
    "param_train = param_train_tmp.values\n",
    "params = []\n",
    "for i in param_train:\n",
    "    #stack = []\n",
    "    #stack.append(i)\n",
    "    #stack = stack*10\n",
    "    params.append(i)\n",
    "param_train = np.asarray(params)\n",
    "del(params)"
   ]
  },
  {
   "cell_type": "code",
   "execution_count": 32,
   "metadata": {},
   "outputs": [],
   "source": [
    "param_val = param_val_tmp.values\n",
    "params = []\n",
    "for i in param_val:\n",
    "    stack = []\n",
    "    stack.append(i)\n",
    "    stack = stack*10\n",
    "    params.append(stack)\n",
    "param_val = np.asarray(params)\n",
    "del(params)\n",
    "\n",
    "param_test = param_test_tmp.values\n",
    "params = []\n",
    "for i in param_test:\n",
    "    stack = []\n",
    "    stack.append(i)\n",
    "    stack = stack*10\n",
    "    params.append(stack)\n",
    "param_test = np.asarray(params)\n",
    "del(params)"
   ]
  },
  {
   "cell_type": "code",
   "execution_count": 33,
   "metadata": {},
   "outputs": [
    {
     "data": {
      "text/plain": [
       "(685, 10, 3)"
      ]
     },
     "execution_count": 33,
     "metadata": {},
     "output_type": "execute_result"
    }
   ],
   "source": [
    "param_train.shape"
   ]
  },
  {
   "cell_type": "markdown",
   "metadata": {},
   "source": [
    "#### Pretrained Resnet"
   ]
  },
  {
   "cell_type": "code",
   "execution_count": 1726,
   "metadata": {},
   "outputs": [],
   "source": [
    "class  ConvWithMeta(nn.Module):\n",
    "    def __init__(self):\n",
    "        super(ConvWithMeta, self).__init__()\n",
    "        head_layer = [nn.Conv2d(1, 3, kernel_size=1, bias=False, stride=1, padding=0)]\n",
    "        self.head_layer = nn.Sequential(*head_layer)\n",
    "        resnet_layers = list(resnet34(True).children())[:8]\n",
    "        features = resnet_layers\n",
    "        features +=[nn.AdaptiveAvgPool2d(1),Flatten()]\n",
    "        self.features = nn.Sequential(*features)\n",
    "        for param in self.features.parameters():\n",
    "            param.requires_grad = False\n",
    "        self.bns = nn.ModuleList([nn.BatchNorm1d(512), nn.BatchNorm1d(512), nn.BatchNorm1d(256)])\n",
    "        self.lins = nn.ModuleList([nn.Linear(512,512), nn.Linear(512,256), nn.Linear(256, 2)])\n",
    "        for o in self.lins: kaiming_normal(o.weight.data)\n",
    "        self.fc_model1 = nn.Sequential(*self.fc_layers1())\n",
    "        self.fc_model2 = nn.Sequential(*self.fc_layers2())\n",
    "    \n",
    "    def __getitem__(self, i):\n",
    "        return nn.Sequential(*[self.head_layer,self.features,self.fc_model1,self.fc_model2])[i]\n",
    "    \n",
    "    def fc_layers1(self):\n",
    "        return [self.bns[0], nn.Dropout(0.1), self.lins[0], nn.LeakyReLU()]\n",
    "    \n",
    "    def fc_layers2(self):\n",
    "        return [self.bns[1], nn.Dropout(0.1), self.lins[1], nn.LeakyReLU(), \n",
    "                self.bns[2], nn.Dropout(0.1), self.lins[2]] \n",
    "        \n",
    "    def forward(self, x):\n",
    "        #x = x.unsqueeze(1)\n",
    "        x = self.head_layer(x)           \n",
    "        x = self.features(x)\n",
    "        x = x.view(-1,512)\n",
    "        x = self.fc_model1(x)\n",
    "        x = self.fc_model2(x)\n",
    "        return F.log_softmax(x)\n"
   ]
  },
  {
   "cell_type": "markdown",
   "metadata": {},
   "source": [
    "### Darknet\n"
   ]
  },
  {
   "cell_type": "code",
   "execution_count": 711,
   "metadata": {},
   "outputs": [],
   "source": [
    "def conv_layer(ni, nf, ks=3, stride=1):\n",
    "    return nn.Sequential(\n",
    "        nn.Conv2d(ni, nf, kernel_size=ks, bias=False, stride=stride, padding=ks//2),\n",
    "        nn.BatchNorm2d(nf, momentum=0.01),\n",
    "        nn.LeakyReLU(negative_slope=0.1, inplace=False))\n",
    "\n",
    "class ResLayer(nn.Module):\n",
    "    def __init__(self, ni):\n",
    "        super().__init__()\n",
    "        self.conv1=conv_layer(ni, ni//2, ks=1)\n",
    "        self.conv2=conv_layer(ni//2, ni, ks=3)\n",
    "        \n",
    "    def forward(self, x): return x.add_(self.conv2(self.conv1(x.clone())))\n",
    "\n",
    "class Darknet(nn.Module):\n",
    "    def make_group_layer(self, ch_in, num_blocks, stride=1):\n",
    "        return [conv_layer(ch_in, ch_in*2,stride=stride)\n",
    "               ] + [(ResLayer(ch_in*2)) for i in range(num_blocks)]\n",
    "\n",
    "    def __init__(self, num_blocks, num_classes, nf=32):\n",
    "        super().__init__()\n",
    "        #Weight init Kaiming's\n",
    "        for m in self.modules():\n",
    "            if isinstance(m, nn.Conv2d):\n",
    "                m.weight = nn.init.kaiming_normal(m.weight, mode='fan_out')\n",
    "            elif isinstance(m, nn.BatchNorm2d):\n",
    "                m.weight.data.fill_(1)\n",
    "                m.bias.data.zero_()\n",
    "            elif isinstance(m, nn.Linear):\n",
    "                m.weight = nn.init.kaiming_normal(m.weight, mode='fan_out')\n",
    "                \n",
    "                \n",
    "        features = [conv_layer(1, nf, ks=3, stride=1)]\n",
    "        for i,nb in enumerate(num_blocks):\n",
    "            features += self.make_group_layer(nf, nb, stride=2-(i==1))\n",
    "            nf *= 2                        \n",
    "        features += [nn.AdaptiveAvgPool2d(1), Flatten()]        \n",
    "        self.features = nn.Sequential(*features)\n",
    "        fc1 = [nn.Linear(1024, 512), nn.LeakyReLU(negative_slope=0.1, inplace=False), nn.Dropout(0)]\n",
    "        self.fc1 = nn.Sequential(*fc1)\n",
    "        fc2 = [nn.Linear(512, 256), nn.LeakyReLU(negative_slope=0.1, inplace=False),nn.Dropout(0)]\n",
    "        self.fc2 = nn.Sequential(*fc2)\n",
    "        self.layers = nn.Sequential(nn.Linear(256,2))\n",
    "        \n",
    "    def forward(self, x):\n",
    "        #x = x.unsqueeze(1)\n",
    "        x = self.features(x)\n",
    "        x = self.fc1(x)\n",
    "        #y = y.view(-1,1,3)\n",
    "        #x = torch.cat((x,y[:,:,0],y[:,:,1],y[:,:,2]),1)\n",
    "        x = self.fc2(x)       \n",
    "        x = self.layers(x)\n",
    "        return F.log_softmax(x)\n"
   ]
  },
  {
   "cell_type": "markdown",
   "metadata": {},
   "source": [
    "### Resnet"
   ]
  },
  {
   "cell_type": "code",
   "execution_count": 646,
   "metadata": {},
   "outputs": [],
   "source": [
    "model_urls = {\n",
    "    'resnet18': 'https://download.pytorch.org/models/resnet18-5c106cde.pth',\n",
    "    'resnet34': 'https://download.pytorch.org/models/resnet34-333f7ec4.pth',\n",
    "    'resnet50': 'https://download.pytorch.org/models/resnet50-19c8e357.pth',\n",
    "    'resnet101': 'https://download.pytorch.org/models/resnet101-5d3b4d8f.pth',\n",
    "    'resnet152': 'https://download.pytorch.org/models/resnet152-b121ed2d.pth',\n",
    "}\n",
    "\n",
    "def convInit(ni, nf, ks, stride=1):\n",
    "    return nn.Conv3d(ni,nf, ks,stride=1,)\n",
    "\n",
    "def conv(ni, nf, ks=3, stride=1):\n",
    "    return nn.Conv2d(ni, nf, kernel_size=ks, stride=stride, padding=ks//2, bias=False)\n",
    "\n",
    "def bn1(planes):\n",
    "    m = nn.BatchNorm1d(planes)\n",
    "    m.weight.data.fill_(1)\n",
    "    m.bias.data.zero_()\n",
    "    return m\n",
    "\n",
    "def bn(planes, init_zero=False):\n",
    "    m = nn.BatchNorm2d(planes)\n",
    "    m.weight.data.fill_(0 if init_zero else 1)\n",
    "    m.bias.data.zero_()\n",
    "    return m\n",
    "\n",
    "class BasicBlock(nn.Module):\n",
    "    expansion = 1\n",
    "\n",
    "    def __init__(self, inplanes, planes, stride=1, downsample=None):\n",
    "        super().__init__()\n",
    "        self.conv1 = conv(inplanes, planes, stride=stride)\n",
    "        self.bn1 = bn(inplanes)\n",
    "        self.relu = nn.ReLU(inplace=True)\n",
    "        self.conv2 = conv(planes, planes)\n",
    "        self.bn2 = bn(planes)\n",
    "        self.downsample = downsample\n",
    "        self.stride = stride\n",
    "\n",
    "    def forward(self, x):\n",
    "        residual = x\n",
    "        if self.downsample is not None: residual = self.downsample(x)\n",
    "        out = self.bn1(x)\n",
    "        out = self.relu(out)\n",
    "        out = self.conv1(out)\n",
    "        out = self.bn2(out)\n",
    "        out = self.relu(out)\n",
    "        out = self.conv2(out)\n",
    "        out = residual+out\n",
    "        return out\n",
    "    \n",
    "class MetaResNet(nn.Module):\n",
    "    \n",
    "    def _make_layer(self, block, planes, blocks, stride=1):\n",
    "        downsample = None\n",
    "        if stride != 1 or self.inplanes != planes * block.expansion:\n",
    "            downsample = nn.Sequential(\n",
    "                conv(self.inplanes, planes*block.expansion, ks=1, stride=stride),\n",
    "                bn(planes * block.expansion),\n",
    "            )\n",
    "\n",
    "        layers = []\n",
    "        layers.append(block(self.inplanes, planes, stride, downsample))\n",
    "        self.inplanes = planes * block.expansion\n",
    "        for i in range(1, blocks): layers.append(block(self.inplanes, planes))\n",
    "        return nn.Sequential(*layers)\n",
    "    \n",
    "    def __getitem__(self, i):\n",
    "        return nn.Sequential(*[self.features,self.fc1,self.fc2,self.layers])[i]\n",
    "    \n",
    "    def __init__(self, block, layers, num_classes=2, k=1):\n",
    "        super().__init__()\n",
    "        self.inplanes = 64\n",
    "\n",
    "        features = [conv(1, 64, ks=7, stride=2)\n",
    "            , bn(64) , nn.ReLU(inplace=True) , nn.MaxPool2d(kernel_size=3, stride=2, padding=1)\n",
    "            , self._make_layer(block, int(64*k), layers[0])\n",
    "            , self._make_layer(block, int(128*k), layers[1], stride=2)\n",
    "            , self._make_layer(block, int(256*k), layers[2], stride=2)\n",
    "            , self._make_layer(block, int(512*k), layers[3], stride=2)]\n",
    "        out_sz = int(512*k) * block.expansion\n",
    "        features += [nn.AdaptiveAvgPool2d(1), Flatten()]\n",
    "        self.features = nn.Sequential(*features)\n",
    "\n",
    "        for m in self.modules():\n",
    "            if isinstance(m, nn.Conv2d):\n",
    "                n = m.kernel_size[0] * m.kernel_size[1] * m.out_channels\n",
    "                m.weight.data.normal_(0, math.sqrt(2. / n))\n",
    "        \n",
    "        ''''for m in self.modules():\n",
    "            if isinstance(m, nn.Conv2d):\n",
    "                m.weight = nn.init.kaiming_normal_(m.weight, mode='fan_out')\n",
    "            #elif isinstance(m, nn.BatchNorm2d):\n",
    "            #    m.weight.data.fill_(1)\n",
    "            #    m.bias.data.zero_()\n",
    "            elif isinstance(m, nn.Linear):\n",
    "                m.weight = nn.init.kaiming_normal_(m.weight, mode='fan_out')'''\n",
    "\n",
    "        fc1 = [nn.Linear(out_sz, 120), nn.BatchNorm1d(120, momentum=0.01), nn.LeakyReLU(negative_slope=0.1, inplace=False)]\n",
    "        self.fc1 = nn.Sequential(*fc1)\n",
    "        fc2 = [nn.Linear(120, 64), nn.BatchNorm1d(64, momentum=0.01), nn.LeakyReLU(negative_slope=0.1, inplace=False)]\n",
    "        self.fc2 = nn.Sequential(*fc2)\n",
    "        self.layers = nn.Sequential(nn.Linear(64,2))\n",
    "\n",
    "    def forward(self, x):\n",
    "\n",
    "        x = self.features(x)\n",
    "        x = self.fc1(x)\n",
    "        x = self.fc2(x)      \n",
    "        x = self.layers(x)\n",
    "        return F.log_softmax(x)\n"
   ]
  },
  {
   "cell_type": "code",
   "execution_count": 647,
   "metadata": {},
   "outputs": [
    {
     "data": {
      "text/plain": [
       "(592, 1, 224, 224)"
      ]
     },
     "execution_count": 647,
     "metadata": {},
     "output_type": "execute_result"
    }
   ],
   "source": [
    "image_array_train.shape"
   ]
  },
  {
   "cell_type": "code",
   "execution_count": 56,
   "metadata": {},
   "outputs": [],
   "source": [
    "class MetaModel(BasicModel):\n",
    "    def get_layer_groups(self):\n",
    "        m=self.model\n",
    "        return m"
   ]
  },
  {
   "cell_type": "code",
   "execution_count": 57,
   "metadata": {},
   "outputs": [],
   "source": [
    "class  MetaLearner(Learner):\n",
    "    def __init__(self, data, models, **kwargs):\n",
    "        super().__init__(data, models, **kwargs)\n",
    "        self.crit = F.nll_loss"
   ]
  },
  {
   "cell_type": "code",
   "execution_count": 58,
   "metadata": {},
   "outputs": [],
   "source": [
    "class MetaArraysDataset(BaseDataset):\n",
    "    def __init__(self, x,y, transform, path):\n",
    "        self.path = path\n",
    "        self.x,self.y= x, y\n",
    "        assert(len(x)==len(y))\n",
    "        super().__init__(transform)\n",
    "        \n",
    "    def __getitem__(self, idx):\n",
    "        \"\"\" This function should return a list.\n",
    "        \"\"\"\n",
    "        x = self.get_x(idx)\n",
    "        y = self.get_y(idx)\n",
    "        return self.get(self.transform, x, y)\n",
    "   \n",
    "    def get(self, tfm, x, y):\n",
    "        if tfm is None:\n",
    "            return [x, y] \n",
    "        x,y = tfm(x,y)\n",
    "        return [x,y]\n",
    "    def get_c(self): return int(self.y.max())+1\n",
    "    def get_x(self, i): return self.x[i]\n",
    "    def get_y(self, i): return self.y[i]\n",
    "    def get_n(self): return len(self.y)\n",
    "    def get_sz(self): return self.x.shape[1]"
   ]
  },
  {
   "cell_type": "code",
   "execution_count": 59,
   "metadata": {},
   "outputs": [],
   "source": [
    "bs=64; sz=224\n",
    "#f_model = resnet34"
   ]
  },
  {
   "cell_type": "code",
   "execution_count": 60,
   "metadata": {},
   "outputs": [],
   "source": [
    "USE_GPU=False"
   ]
  },
  {
   "cell_type": "code",
   "execution_count": 61,
   "metadata": {},
   "outputs": [],
   "source": [
    "class ModelMetaData(ImageClassifierData):\n",
    "    \n",
    "    @classmethod\n",
    "    def get_ds(self, fn, trn, val, tfms, path, test=None):\n",
    "        res = [\n",
    "            fn(trn[0], trn[1],tfms[0], path), # train\n",
    "            fn(val[0], val[1],tfms[1], path), # val\n",
    "            fn(trn[0], trn[1],tfms[1], path), # fix\n",
    "            fn(val[0], val[1],tfms[0], path)  # aug\n",
    "        ]\n",
    "        if test:\n",
    "            test_lbls = np.zeros((len(test),1))\n",
    "            res += [\n",
    "                fn(test[0], test[1],tfms[1], path), # test\n",
    "                fn(test[0], test[1] ,tfms[0], path)  # test_aug\n",
    "            ]\n",
    "        else: res += [None,None]\n",
    "        return res\n",
    "    \n",
    "    @classmethod\n",
    "    def from_csv(self, path, folder, csv_fname, bs=bs, tfms=(None,None),val_idxs=None, \n",
    "                 suffix='', test_name=None, skip_header=True, num_workers=4):\n",
    "        fnames,x2,y = csv_source2(folder, csv_fname, skip_header, suffix)\n",
    "        ((val_fnames, trn_fnames), (val_x2, trn_x2), (val_y,trn_y)) = split_by_idx(val_idxs, np.array(fnames), x2, y)\n",
    "\n",
    "        test_fnames = read_dir(path, test_name) if test_name else None\n",
    "        datasets = self.get_ds(MetaDataset, (trn_fnames,trn_x2,trn_y), (val_fnames,val_x2,val_y),tfms=tfms, path=path)\n",
    "        return self(path, datasets, bs, num_workers, classes=1)\n",
    "    \n",
    "    @classmethod\n",
    "    def from_arrays(self, path, trn, val, test, bs=bs, tfms=(None,None), classes=None, num_workers=4):\n",
    "        trn_x , val_x = trn[0],val[0]\n",
    "        trn_y , val_y = trn[1],val[1]\n",
    "        test_x, test_y= test[0],test[1]\n",
    "        datasets = self.get_ds(MetaArraysDataset, (trn_x,trn_y), (val_x,val_y) ,test=(test_x,test_y) ,tfms=tfms,path=path)\n",
    "        return self(path, datasets, bs, num_workers, classes=classes)\n",
    "    \n",
    "        \n",
    "    def get_learner(self):\n",
    "        #model = ConvWithMeta()\n",
    "        #model = Darknet([1,2,4,6,3], num_classes=2, nf=32)\n",
    "        model = MetaResNet(BasicBlock, [3, 4, 6, 3])\n",
    "        device = torch.device(\"cuda:0\" if torch.cuda.is_available() else \"cpu\")\n",
    "        #m = nn.DataParallel(m, [1,2,3])\n",
    "        return MetaLearner(self, MetaModel(model.to(device)), opt_fn=optim.Adam)"
   ]
  },
  {
   "cell_type": "code",
   "execution_count": 648,
   "metadata": {
    "scrolled": true
   },
   "outputs": [],
   "source": [
    "data = ModelMetaData.from_arrays('.', trn=(image_array_train,y_train)\n",
    "                                 ,val=(image_array_val,y_val)\n",
    "                                ,test=(image_array_test,y_test))"
   ]
  },
  {
   "cell_type": "code",
   "execution_count": 649,
   "metadata": {
    "scrolled": true
   },
   "outputs": [],
   "source": [
    "learner = data.get_learner()\n"
   ]
  },
  {
   "cell_type": "code",
   "execution_count": 650,
   "metadata": {},
   "outputs": [],
   "source": [
    "learner.load('grad_cam_resnet2D')"
   ]
  },
  {
   "cell_type": "code",
   "execution_count": null,
   "metadata": {},
   "outputs": [],
   "source": [
    "learner.load('grad_cam_darknet2D')"
   ]
  },
  {
   "cell_type": "code",
   "execution_count": null,
   "metadata": {
    "scrolled": true
   },
   "outputs": [],
   "source": [
    "learner.load('test_sf_2d')"
   ]
  },
  {
   "cell_type": "code",
   "execution_count": null,
   "metadata": {
    "scrolled": false
   },
   "outputs": [],
   "source": [
    "learner.lr_find()"
   ]
  },
  {
   "cell_type": "code",
   "execution_count": 133,
   "metadata": {
    "scrolled": true
   },
   "outputs": [
    {
     "data": {
      "image/png": "[encoded data removed]",
      "text/plain": [
       "<Figure size 432x288 with 1 Axes>"
      ]
     },
     "metadata": {},
     "output_type": "display_data"
    }
   ],
   "source": [
    "learner.sched.plot()"
   ]
  },
  {
   "cell_type": "code",
   "execution_count": 65,
   "metadata": {
    "scrolled": true
   },
   "outputs": [
    {
     "data": {
      "application/vnd.jupyter.widget-view+json": {
       "model_id": "d0058cdd4cae4a10beed6ddb7e7207c7",
       "version_major": 2,
       "version_minor": 0
      },
      "text/plain": [
       "HBox(children=(IntProgress(value=0, description='Epoch', max=1), HTML(value='')))"
      ]
     },
     "metadata": {},
     "output_type": "display_data"
    },
    {
     "name": "stdout",
     "output_type": "stream",
     "text": [
      "epoch      trn_loss   val_loss   accuracy                 \n",
      "    0      0.42213    0.351115   0.890196  \n",
      "\n"
     ]
    },
    {
     "data": {
      "text/plain": [
       "[0.3511145532131195, 0.8901960800675784]"
      ]
     },
     "execution_count": 65,
     "metadata": {},
     "output_type": "execute_result"
    }
   ],
   "source": [
    "learner.fit(1e-4,1,metrics=[accuracy])"
   ]
  },
  {
   "cell_type": "code",
   "execution_count": 651,
   "metadata": {},
   "outputs": [
    {
     "data": {
      "application/vnd.jupyter.widget-view+json": {
       "model_id": "b460cc377544418e83981956ebf2f927",
       "version_major": 2,
       "version_minor": 0
      },
      "text/plain": [
       "HBox(children=(IntProgress(value=0, description='Epoch', max=5), HTML(value='')))"
      ]
     },
     "metadata": {},
     "output_type": "display_data"
    },
    {
     "name": "stdout",
     "output_type": "stream",
     "text": [
      "epoch      trn_loss   val_loss   accuracy                  \n",
      "    0      0.547324   0.358663   0.890196  \n",
      "    1      0.457045   0.353861   0.890196                  \n",
      "    2      0.427733   0.358023   0.890196                  \n",
      "    3      0.412125   0.359626   0.890196                  \n",
      "    4      0.395799   0.339876   0.890196                 \n",
      "\n"
     ]
    },
    {
     "data": {
      "text/plain": [
       "[0.33987585937275605, 0.8901960800675784]"
      ]
     },
     "execution_count": 651,
     "metadata": {},
     "output_type": "execute_result"
    }
   ],
   "source": [
    "learner.fit(1e-4,5,metrics=[accuracy])"
   ]
  },
  {
   "cell_type": "code",
   "execution_count": 190,
   "metadata": {},
   "outputs": [],
   "source": [
    "learner.save('grad_cam_resnet2D')"
   ]
  },
  {
   "cell_type": "code",
   "execution_count": 1223,
   "metadata": {},
   "outputs": [
    {
     "data": {
      "text/plain": [
       "array([[-15.93382,   0.     ],\n",
       "       [-12.01877,  -0.00001],\n",
       "       [ -0.01233,  -4.402  ],\n",
       "       [ -0.033  ,  -3.42766],\n",
       "       [-15.49527,   0.     ],\n",
       "       [-21.27886,   0.     ],\n",
       "       [ -9.23857,  -0.0001 ],\n",
       "       [-10.98298,  -0.00002],\n",
       "       [ -0.26885,  -1.44501],\n",
       "       [-15.15338,   0.     ],\n",
       "       [-13.18665,  -0.     ],\n",
       "       [ -0.01934,  -3.95501],\n",
       "       [-14.67624,   0.     ],\n",
       "       [ -0.01736,  -4.06223],\n",
       "       [ -0.1744 ,  -1.83235],\n",
       "       [-12.11716,  -0.00001],\n",
       "       [-18.407  ,   0.     ],\n",
       "       [-17.16297,   0.     ],\n",
       "       [-17.78851,   0.     ],\n",
       "       [-16.19671,   0.     ],\n",
       "       [-16.66324,   0.     ],\n",
       "       [-11.52424,  -0.00001],\n",
       "       [ -0.04433,  -3.13812],\n",
       "       [-18.63847,   0.     ],\n",
       "       [ -0.03496,  -3.37094],\n",
       "       [-16.73024,   0.     ],\n",
       "       [-16.78227,   0.     ],\n",
       "       [-15.21334,   0.     ],\n",
       "       [-14.07503,  -0.     ],\n",
       "       [-12.2716 ,  -0.     ],\n",
       "       [-18.71425,   0.     ],\n",
       "       [-16.60206,   0.     ],\n",
       "       [-19.21927,   0.     ],\n",
       "       [-14.82634,   0.     ],\n",
       "       [ -4.61689,  -0.00993],\n",
       "       [-14.50443,   0.     ],\n",
       "       [-15.42035,   0.     ],\n",
       "       [-11.53666,  -0.00001],\n",
       "       [-18.42798,   0.     ],\n",
       "       [ -7.59944,  -0.0005 ],\n",
       "       [ -0.29279,  -1.37113],\n",
       "       [ -8.52534,  -0.0002 ],\n",
       "       [-14.41493,  -0.     ],\n",
       "       [-16.34644,   0.     ],\n",
       "       [ -7.9384 ,  -0.00036],\n",
       "       [-12.28376,  -0.     ],\n",
       "       [-14.89923,   0.     ],\n",
       "       [-13.7361 ,  -0.     ],\n",
       "       [ -9.32459,  -0.00009],\n",
       "       [-16.89423,   0.     ],\n",
       "       [ -0.00793,  -4.84065],\n",
       "       [-13.97104,  -0.     ],\n",
       "       [-17.6983 ,   0.     ],\n",
       "       [ -0.38816,  -1.13414],\n",
       "       [-16.34567,   0.     ],\n",
       "       [ -5.79712,  -0.00304],\n",
       "       [-13.06584,  -0.     ],\n",
       "       [ -8.48698,  -0.00021],\n",
       "       [-14.41895,  -0.     ],\n",
       "       [-11.86444,  -0.00001],\n",
       "       [-14.6747 ,   0.     ],\n",
       "       [ -2.64727,  -0.07348],\n",
       "       [-14.75035,   0.     ],\n",
       "       [-10.0333 ,  -0.00004],\n",
       "       [-17.14336,   0.     ],\n",
       "       [ -0.03616,  -3.33786],\n",
       "       [-16.1641 ,   0.     ],\n",
       "       [ -0.0498 ,  -3.02454],\n",
       "       [-14.80346,   0.     ],\n",
       "       [-11.72634,  -0.00001],\n",
       "       [ -0.60814,  -0.78605],\n",
       "       [-11.53181,  -0.00001],\n",
       "       [-10.42362,  -0.00003],\n",
       "       [ -0.23065,  -1.57997],\n",
       "       [-13.58276,  -0.     ],\n",
       "       [ -0.07458,  -2.63299],\n",
       "       [-11.29412,  -0.00001],\n",
       "       [-13.09037,  -0.     ],\n",
       "       [ -8.9352 ,  -0.00013],\n",
       "       [-12.7971 ,  -0.     ],\n",
       "       [-10.6063 ,  -0.00002],\n",
       "       [-10.26147,  -0.00003],\n",
       "       [ -0.0227 ,  -3.79686],\n",
       "       [ -5.93115,  -0.00266],\n",
       "       [-16.03399,   0.     ],\n",
       "       [-21.20861,   0.     ],\n",
       "       [ -4.08488,  -0.01697],\n",
       "       [-13.17189,  -0.     ],\n",
       "       [ -0.08826,  -2.4713 ],\n",
       "       [-10.44392,  -0.00003],\n",
       "       [-11.5959 ,  -0.00001],\n",
       "       [-14.13809,  -0.     ],\n",
       "       [ -8.93359,  -0.00013],\n",
       "       [-11.39472,  -0.00001],\n",
       "       [-15.75201,   0.     ],\n",
       "       [-11.25658,  -0.00001],\n",
       "       [-15.62497,   0.     ],\n",
       "       [-13.91428,  -0.     ],\n",
       "       [ -0.01672,  -4.09963],\n",
       "       [-13.50324,  -0.     ],\n",
       "       [-15.92662,   0.     ],\n",
       "       [-12.53119,  -0.     ],\n",
       "       [ -9.6869 ,  -0.00006],\n",
       "       [ -0.12432,  -2.14645],\n",
       "       [-12.95242,  -0.     ],\n",
       "       [-11.63709,  -0.00001],\n",
       "       [-16.24657,   0.     ],\n",
       "       [-12.62906,  -0.     ],\n",
       "       [-17.90044,   0.     ],\n",
       "       [ -0.06501,  -2.76553],\n",
       "       [ -0.01103,  -4.51279],\n",
       "       [-13.17123,  -0.     ],\n",
       "       [-11.87204,  -0.00001],\n",
       "       [ -2.76442,  -0.06509],\n",
       "       [-10.08111,  -0.00004],\n",
       "       [-17.91709,   0.     ],\n",
       "       [-17.27276,   0.     ],\n",
       "       [-17.00464,   0.     ],\n",
       "       [-14.90209,   0.     ],\n",
       "       [ -0.02528,  -3.69024],\n",
       "       [-11.82596,  -0.00001],\n",
       "       [-10.25791,  -0.00003],\n",
       "       [-16.26279,   0.     ],\n",
       "       [-13.50706,  -0.     ],\n",
       "       [-13.29011,  -0.     ],\n",
       "       [-14.46317,   0.     ],\n",
       "       [-12.72951,  -0.     ],\n",
       "       [ -6.32489,  -0.00179],\n",
       "       [ -9.80054,  -0.00006],\n",
       "       [ -9.36759,  -0.00009],\n",
       "       [ -0.05376,  -2.94996],\n",
       "       [-13.22692,  -0.     ],\n",
       "       [-13.79545,  -0.     ],\n",
       "       [ -0.02339,  -3.76721],\n",
       "       [-12.85382,  -0.     ],\n",
       "       [-11.16712,  -0.00001],\n",
       "       [-11.1375 ,  -0.00001],\n",
       "       [-15.86281,   0.     ],\n",
       "       [-17.11706,   0.     ],\n",
       "       [-16.11092,   0.     ],\n",
       "       [-12.9697 ,  -0.     ],\n",
       "       [ -5.56198,  -0.00385],\n",
       "       [ -1.04831,  -0.4316 ],\n",
       "       [-15.4773 ,   0.     ],\n",
       "       [-10.09048,  -0.00004],\n",
       "       [ -2.3825 ,  -0.09686],\n",
       "       [-16.02734,   0.     ],\n",
       "       [-13.78191,  -0.     ],\n",
       "       [-11.32083,  -0.00001],\n",
       "       [ -0.03182,  -3.46357],\n",
       "       [-14.93292,   0.     ],\n",
       "       [-11.77996,  -0.00001],\n",
       "       [-10.89027,  -0.00002],\n",
       "       [ -9.41797,  -0.00008],\n",
       "       [ -7.05021,  -0.00087],\n",
       "       [-16.2327 ,   0.     ],\n",
       "       [-17.51973,   0.     ],\n",
       "       [ -2.25429,  -0.11087],\n",
       "       [-12.59966,  -0.     ],\n",
       "       [-10.84696,  -0.00002],\n",
       "       [-15.70163,   0.     ],\n",
       "       [ -0.03607,  -3.34029],\n",
       "       [ -8.9916 ,  -0.00012],\n",
       "       [-11.91902,  -0.00001],\n",
       "       [-13.82387,  -0.     ],\n",
       "       [-11.64426,  -0.00001],\n",
       "       [-11.59881,  -0.00001],\n",
       "       [ -8.28872,  -0.00025],\n",
       "       [-11.51974,  -0.00001],\n",
       "       [-17.45124,   0.     ],\n",
       "       [-13.60353,  -0.     ],\n",
       "       [-12.20759,  -0.     ],\n",
       "       [-12.37551,  -0.     ],\n",
       "       [-10.99481,  -0.00002],\n",
       "       [-14.64068,   0.     ],\n",
       "       [-19.73063,   0.     ],\n",
       "       [-20.32092,   0.     ],\n",
       "       [-17.85287,   0.     ],\n",
       "       [-13.6909 ,  -0.     ],\n",
       "       [-17.143  ,   0.     ],\n",
       "       [-12.99843,  -0.     ],\n",
       "       [-19.55455,   0.     ],\n",
       "       [-14.45114,   0.     ],\n",
       "       [ -9.19571,  -0.0001 ],\n",
       "       [ -8.78785,  -0.00015],\n",
       "       [ -8.15276,  -0.00029],\n",
       "       [-16.28177,   0.     ],\n",
       "       [-16.38982,   0.     ],\n",
       "       [-14.34205,  -0.     ],\n",
       "       [ -0.10414,  -2.31362],\n",
       "       [ -9.40095,  -0.00008],\n",
       "       [-13.93219,  -0.     ],\n",
       "       [-15.9457 ,   0.     ],\n",
       "       [ -8.33631,  -0.00024],\n",
       "       [-17.34109,   0.     ],\n",
       "       [ -0.06514,  -2.76366],\n",
       "       [ -0.02202,  -3.82689],\n",
       "       [-16.92171,   0.     ],\n",
       "       [-18.84813,   0.     ],\n",
       "       [-18.91094,   0.     ],\n",
       "       [-13.73213,  -0.     ],\n",
       "       [-11.73279,  -0.00001],\n",
       "       [ -0.02842,  -3.57482],\n",
       "       [-15.93016,   0.     ],\n",
       "       [ -0.02854,  -3.5707 ],\n",
       "       [-13.41255,  -0.     ],\n",
       "       [ -0.19021,  -1.75323],\n",
       "       [ -9.84245,  -0.00005],\n",
       "       [ -9.45756,  -0.00008],\n",
       "       [-17.38507,   0.     ],\n",
       "       [-22.94799,   0.     ],\n",
       "       [-11.68603,  -0.00001]], dtype=float32)"
      ]
     },
     "execution_count": 1223,
     "metadata": {},
     "output_type": "execute_result"
    }
   ],
   "source": [
    "learner.predict(is_test=True)"
   ]
  },
  {
   "cell_type": "code",
   "execution_count": null,
   "metadata": {
    "scrolled": false
   },
   "outputs": [
    {
     "data": {
      "application/vnd.jupyter.widget-view+json": {
       "model_id": "02347951302940569a130b1ed4b8c748",
       "version_major": 2,
       "version_minor": 0
      },
      "text/plain": [
       "HBox(children=(IntProgress(value=0, description='Epoch', max=1), HTML(value='')))"
      ]
     },
     "metadata": {},
     "output_type": "display_data"
    },
    {
     "name": "stdout",
     "output_type": "stream",
     "text": [
      "epoch      trn_loss   val_loss   accuracy                 \n",
      "    0      0.343256   0.327624   0.890196  \n",
      "\n"
     ]
    },
    {
     "data": {
      "application/vnd.jupyter.widget-view+json": {
       "model_id": "5e4e701cf6d948c0b480938072f82698",
       "version_major": 2,
       "version_minor": 0
      },
      "text/plain": [
       "HBox(children=(IntProgress(value=0, description='Epoch', max=1), HTML(value='')))"
      ]
     },
     "metadata": {},
     "output_type": "display_data"
    },
    {
     "name": "stdout",
     "output_type": "stream",
     "text": [
      "epoch      trn_loss   val_loss   accuracy                 \n",
      "    0      0.394724   0.369895   0.890196  \n",
      "\n"
     ]
    },
    {
     "data": {
      "application/vnd.jupyter.widget-view+json": {
       "model_id": "61937bd41abe4295a4db90c48e1b8e6c",
       "version_major": 2,
       "version_minor": 0
      },
      "text/plain": [
       "HBox(children=(IntProgress(value=0, description='Epoch', max=1), HTML(value='')))"
      ]
     },
     "metadata": {},
     "output_type": "display_data"
    },
    {
     "name": "stdout",
     "output_type": "stream",
     "text": [
      " 10%|█         | 1/10 [00:40<06:08, 40.98s/it, loss=0.406]"
     ]
    }
   ],
   "source": [
    "for j in range(5):\n",
    "    for i in [1e-5,5e-5,1e-4]:\n",
    "        learner.fit(i,1,metrics=[accuracy])"
   ]
  },
  {
   "cell_type": "code",
   "execution_count": 189,
   "metadata": {},
   "outputs": [
    {
     "data": {
      "application/vnd.jupyter.widget-view+json": {
       "model_id": "702fbe3a7cd54fe097e58a94b2e23468",
       "version_major": 2,
       "version_minor": 0
      },
      "text/plain": [
       "HBox(children=(IntProgress(value=0, description='Epoch', max=2), HTML(value='')))"
      ]
     },
     "metadata": {},
     "output_type": "display_data"
    },
    {
     "name": "stdout",
     "output_type": "stream",
     "text": [
      "epoch      trn_loss   val_loss   accuracy                    \n",
      "    0      0.009108   0.078127   0.980392  \n",
      "    1      0.009625   0.080969   0.980392                   \n",
      "\n"
     ]
    },
    {
     "data": {
      "text/plain": [
       "[0.08096876684941498, 0.9803921573302325]"
      ]
     },
     "execution_count": 189,
     "metadata": {},
     "output_type": "execute_result"
    }
   ],
   "source": [
    "learner.fit(1e-6,2,metrics=[accuracy])"
   ]
  },
  {
   "cell_type": "markdown",
   "metadata": {},
   "source": [
    "### CAM"
   ]
  },
  {
   "cell_type": "code",
   "execution_count": 1892,
   "metadata": {},
   "outputs": [],
   "source": [
    "m = children(ConvWithMeta())[0:2]"
   ]
  },
  {
   "cell_type": "code",
   "execution_count": 1893,
   "metadata": {},
   "outputs": [],
   "source": [
    "data = ModelMetaData.from_arrays('.', trn=(image_array_train,y_train)\n",
    "                                 ,val=(image_array_val,y_val)\n",
    "                                ,test=(image_array_test,y_test))"
   ]
  },
  {
   "cell_type": "code",
   "execution_count": 1894,
   "metadata": {},
   "outputs": [],
   "source": [
    "model = nn.Sequential(*m,nn.Conv2d(512,2,3, padding=1), \n",
    "                  nn.AdaptiveAvgPool2d(1), Flatten(), \n",
    "                  nn.LogSoftmax())"
   ]
  },
  {
   "cell_type": "code",
   "execution_count": null,
   "metadata": {},
   "outputs": [],
   "source": [
    "#Original ConvMetafor GradCAM"
   ]
  },
  {
   "cell_type": "code",
   "execution_count": 1897,
   "metadata": {},
   "outputs": [],
   "source": [
    "learn = MetaLearner(data, MetaModel(model), opt_fn=optim.Adam)"
   ]
  },
  {
   "cell_type": "code",
   "execution_count": 1898,
   "metadata": {},
   "outputs": [],
   "source": [
    "learn.freeze_to(-4)"
   ]
  },
  {
   "cell_type": "code",
   "execution_count": 1899,
   "metadata": {},
   "outputs": [
    {
     "data": {
      "application/vnd.jupyter.widget-view+json": {
       "model_id": "e6b506c0f1534c7a90deabb807245a78",
       "version_major": 2,
       "version_minor": 0
      },
      "text/plain": [
       "HBox(children=(IntProgress(value=0, description='Epoch', max=3), HTML(value='')))"
      ]
     },
     "metadata": {},
     "output_type": "display_data"
    },
    {
     "name": "stdout",
     "output_type": "stream",
     "text": [
      "\r",
      "  0%|          | 0/10 [00:00<?, ?it/s]"
     ]
    },
    {
     "ename": "RuntimeError",
     "evalue": "Expected 4-dimensional input for 4-dimensional weight [2, 512, 3, 3], but got input of size [64, 512] instead",
     "output_type": "error",
     "traceback": [
      "\u001b[0;31m---------------------------------------------------------------------------\u001b[0m",
      "\u001b[0;31mRuntimeError\u001b[0m                              Traceback (most recent call last)",
      "\u001b[0;32m<ipython-input-1899-f941df12af9e>\u001b[0m in \u001b[0;36m<module>\u001b[0;34m()\u001b[0m\n\u001b[0;32m----> 1\u001b[0;31m \u001b[0mlearn\u001b[0m\u001b[0;34m.\u001b[0m\u001b[0mfit\u001b[0m\u001b[0;34m(\u001b[0m\u001b[0;36m0.001\u001b[0m\u001b[0;34m,\u001b[0m \u001b[0;36m3\u001b[0m\u001b[0;34m,\u001b[0m \u001b[0mmetrics\u001b[0m\u001b[0;34m=\u001b[0m\u001b[0;34m[\u001b[0m\u001b[0maccuracy\u001b[0m\u001b[0;34m]\u001b[0m\u001b[0;34m)\u001b[0m\u001b[0;34m\u001b[0m\u001b[0m\n\u001b[0m",
      "\u001b[0;32m~/Desktop/PPMI/PPMI/fastai/learner.py\u001b[0m in \u001b[0;36mfit\u001b[0;34m(self, lrs, n_cycle, wds, **kwargs)\u001b[0m\n\u001b[1;32m    302\u001b[0m         \u001b[0mself\u001b[0m\u001b[0;34m.\u001b[0m\u001b[0msched\u001b[0m \u001b[0;34m=\u001b[0m \u001b[0;32mNone\u001b[0m\u001b[0;34m\u001b[0m\u001b[0m\n\u001b[1;32m    303\u001b[0m         \u001b[0mlayer_opt\u001b[0m \u001b[0;34m=\u001b[0m \u001b[0mself\u001b[0m\u001b[0;34m.\u001b[0m\u001b[0mget_layer_opt\u001b[0m\u001b[0;34m(\u001b[0m\u001b[0mlrs\u001b[0m\u001b[0;34m,\u001b[0m \u001b[0mwds\u001b[0m\u001b[0;34m)\u001b[0m\u001b[0;34m\u001b[0m\u001b[0m\n\u001b[0;32m--> 304\u001b[0;31m         \u001b[0;32mreturn\u001b[0m \u001b[0mself\u001b[0m\u001b[0;34m.\u001b[0m\u001b[0mfit_gen\u001b[0m\u001b[0;34m(\u001b[0m\u001b[0mself\u001b[0m\u001b[0;34m.\u001b[0m\u001b[0mmodel\u001b[0m\u001b[0;34m,\u001b[0m \u001b[0mself\u001b[0m\u001b[0;34m.\u001b[0m\u001b[0mdata\u001b[0m\u001b[0;34m,\u001b[0m \u001b[0mlayer_opt\u001b[0m\u001b[0;34m,\u001b[0m \u001b[0mn_cycle\u001b[0m\u001b[0;34m,\u001b[0m \u001b[0;34m**\u001b[0m\u001b[0mkwargs\u001b[0m\u001b[0;34m)\u001b[0m\u001b[0;34m\u001b[0m\u001b[0m\n\u001b[0m\u001b[1;32m    305\u001b[0m \u001b[0;34m\u001b[0m\u001b[0m\n\u001b[1;32m    306\u001b[0m     \u001b[0;32mdef\u001b[0m \u001b[0mwarm_up\u001b[0m\u001b[0;34m(\u001b[0m\u001b[0mself\u001b[0m\u001b[0;34m,\u001b[0m \u001b[0mlr\u001b[0m\u001b[0;34m,\u001b[0m \u001b[0mwds\u001b[0m\u001b[0;34m=\u001b[0m\u001b[0;32mNone\u001b[0m\u001b[0;34m)\u001b[0m\u001b[0;34m:\u001b[0m\u001b[0;34m\u001b[0m\u001b[0m\n",
      "\u001b[0;32m~/Desktop/PPMI/PPMI/fastai/learner.py\u001b[0m in \u001b[0;36mfit_gen\u001b[0;34m(self, model, data, layer_opt, n_cycle, cycle_len, cycle_mult, cycle_save_name, best_save_name, use_clr, use_clr_beta, metrics, callbacks, use_wd_sched, norm_wds, wds_sched_mult, use_swa, swa_start, swa_eval_freq, **kwargs)\u001b[0m\n\u001b[1;32m    249\u001b[0m             \u001b[0mmetrics\u001b[0m\u001b[0;34m=\u001b[0m\u001b[0mmetrics\u001b[0m\u001b[0;34m,\u001b[0m \u001b[0mcallbacks\u001b[0m\u001b[0;34m=\u001b[0m\u001b[0mcallbacks\u001b[0m\u001b[0;34m,\u001b[0m \u001b[0mreg_fn\u001b[0m\u001b[0;34m=\u001b[0m\u001b[0mself\u001b[0m\u001b[0;34m.\u001b[0m\u001b[0mreg_fn\u001b[0m\u001b[0;34m,\u001b[0m \u001b[0mclip\u001b[0m\u001b[0;34m=\u001b[0m\u001b[0mself\u001b[0m\u001b[0;34m.\u001b[0m\u001b[0mclip\u001b[0m\u001b[0;34m,\u001b[0m \u001b[0mfp16\u001b[0m\u001b[0;34m=\u001b[0m\u001b[0mself\u001b[0m\u001b[0;34m.\u001b[0m\u001b[0mfp16\u001b[0m\u001b[0;34m,\u001b[0m\u001b[0;34m\u001b[0m\u001b[0m\n\u001b[1;32m    250\u001b[0m             \u001b[0mswa_model\u001b[0m\u001b[0;34m=\u001b[0m\u001b[0mself\u001b[0m\u001b[0;34m.\u001b[0m\u001b[0mswa_model\u001b[0m \u001b[0;32mif\u001b[0m \u001b[0muse_swa\u001b[0m \u001b[0;32melse\u001b[0m \u001b[0;32mNone\u001b[0m\u001b[0;34m,\u001b[0m \u001b[0mswa_start\u001b[0m\u001b[0;34m=\u001b[0m\u001b[0mswa_start\u001b[0m\u001b[0;34m,\u001b[0m\u001b[0;34m\u001b[0m\u001b[0m\n\u001b[0;32m--> 251\u001b[0;31m             swa_eval_freq=swa_eval_freq, **kwargs)\n\u001b[0m\u001b[1;32m    252\u001b[0m \u001b[0;34m\u001b[0m\u001b[0m\n\u001b[1;32m    253\u001b[0m     \u001b[0;32mdef\u001b[0m \u001b[0mget_layer_groups\u001b[0m\u001b[0;34m(\u001b[0m\u001b[0mself\u001b[0m\u001b[0;34m)\u001b[0m\u001b[0;34m:\u001b[0m \u001b[0;32mreturn\u001b[0m \u001b[0mself\u001b[0m\u001b[0;34m.\u001b[0m\u001b[0mmodels\u001b[0m\u001b[0;34m.\u001b[0m\u001b[0mget_layer_groups\u001b[0m\u001b[0;34m(\u001b[0m\u001b[0;34m)\u001b[0m\u001b[0;34m\u001b[0m\u001b[0m\n",
      "\u001b[0;32m~/Desktop/PPMI/PPMI/fastai/model.py\u001b[0m in \u001b[0;36mfit\u001b[0;34m(model, data, n_epochs, opt, crit, metrics, callbacks, stepper, swa_model, swa_start, swa_eval_freq, visualize, **kwargs)\u001b[0m\n\u001b[1;32m    139\u001b[0m             \u001b[0mbatch_num\u001b[0m \u001b[0;34m+=\u001b[0m \u001b[0;36m1\u001b[0m\u001b[0;34m\u001b[0m\u001b[0m\n\u001b[1;32m    140\u001b[0m             \u001b[0;32mfor\u001b[0m \u001b[0mcb\u001b[0m \u001b[0;32min\u001b[0m \u001b[0mcallbacks\u001b[0m\u001b[0;34m:\u001b[0m \u001b[0mcb\u001b[0m\u001b[0;34m.\u001b[0m\u001b[0mon_batch_begin\u001b[0m\u001b[0;34m(\u001b[0m\u001b[0;34m)\u001b[0m\u001b[0;34m\u001b[0m\u001b[0m\n\u001b[0;32m--> 141\u001b[0;31m             \u001b[0mloss\u001b[0m \u001b[0;34m=\u001b[0m \u001b[0mmodel_stepper\u001b[0m\u001b[0;34m.\u001b[0m\u001b[0mstep\u001b[0m\u001b[0;34m(\u001b[0m\u001b[0mV\u001b[0m\u001b[0;34m(\u001b[0m\u001b[0mx\u001b[0m\u001b[0;34m)\u001b[0m\u001b[0;34m,\u001b[0m\u001b[0mV\u001b[0m\u001b[0;34m(\u001b[0m\u001b[0my\u001b[0m\u001b[0;34m)\u001b[0m\u001b[0;34m,\u001b[0m \u001b[0mepoch\u001b[0m\u001b[0;34m)\u001b[0m\u001b[0;34m\u001b[0m\u001b[0m\n\u001b[0m\u001b[1;32m    142\u001b[0m             \u001b[0mavg_loss\u001b[0m \u001b[0;34m=\u001b[0m \u001b[0mavg_loss\u001b[0m \u001b[0;34m*\u001b[0m \u001b[0mavg_mom\u001b[0m \u001b[0;34m+\u001b[0m \u001b[0mloss\u001b[0m \u001b[0;34m*\u001b[0m \u001b[0;34m(\u001b[0m\u001b[0;36m1\u001b[0m\u001b[0;34m-\u001b[0m\u001b[0mavg_mom\u001b[0m\u001b[0;34m)\u001b[0m\u001b[0;34m\u001b[0m\u001b[0m\n\u001b[1;32m    143\u001b[0m             \u001b[0mdebias_loss\u001b[0m \u001b[0;34m=\u001b[0m \u001b[0mavg_loss\u001b[0m \u001b[0;34m/\u001b[0m \u001b[0;34m(\u001b[0m\u001b[0;36m1\u001b[0m \u001b[0;34m-\u001b[0m \u001b[0mavg_mom\u001b[0m\u001b[0;34m**\u001b[0m\u001b[0mbatch_num\u001b[0m\u001b[0;34m)\u001b[0m\u001b[0;34m\u001b[0m\u001b[0m\n",
      "\u001b[0;32m~/Desktop/PPMI/PPMI/fastai/model.py\u001b[0m in \u001b[0;36mstep\u001b[0;34m(self, xs, y, epoch)\u001b[0m\n\u001b[1;32m     48\u001b[0m     \u001b[0;32mdef\u001b[0m \u001b[0mstep\u001b[0m\u001b[0;34m(\u001b[0m\u001b[0mself\u001b[0m\u001b[0;34m,\u001b[0m \u001b[0mxs\u001b[0m\u001b[0;34m,\u001b[0m \u001b[0my\u001b[0m\u001b[0;34m,\u001b[0m \u001b[0mepoch\u001b[0m\u001b[0;34m)\u001b[0m\u001b[0;34m:\u001b[0m\u001b[0;34m\u001b[0m\u001b[0m\n\u001b[1;32m     49\u001b[0m         \u001b[0mxtra\u001b[0m \u001b[0;34m=\u001b[0m \u001b[0;34m[\u001b[0m\u001b[0;34m]\u001b[0m\u001b[0;34m\u001b[0m\u001b[0m\n\u001b[0;32m---> 50\u001b[0;31m         \u001b[0moutput\u001b[0m \u001b[0;34m=\u001b[0m \u001b[0mself\u001b[0m\u001b[0;34m.\u001b[0m\u001b[0mm\u001b[0m\u001b[0;34m(\u001b[0m\u001b[0;34m*\u001b[0m\u001b[0mxs\u001b[0m\u001b[0;34m)\u001b[0m\u001b[0;34m\u001b[0m\u001b[0m\n\u001b[0m\u001b[1;32m     51\u001b[0m         \u001b[0;32mif\u001b[0m \u001b[0misinstance\u001b[0m\u001b[0;34m(\u001b[0m\u001b[0moutput\u001b[0m\u001b[0;34m,\u001b[0m\u001b[0mtuple\u001b[0m\u001b[0;34m)\u001b[0m\u001b[0;34m:\u001b[0m \u001b[0moutput\u001b[0m\u001b[0;34m,\u001b[0m\u001b[0;34m*\u001b[0m\u001b[0mxtra\u001b[0m \u001b[0;34m=\u001b[0m \u001b[0moutput\u001b[0m\u001b[0;34m\u001b[0m\u001b[0m\n\u001b[1;32m     52\u001b[0m         \u001b[0;32mif\u001b[0m \u001b[0mself\u001b[0m\u001b[0;34m.\u001b[0m\u001b[0mfp16\u001b[0m\u001b[0;34m:\u001b[0m \u001b[0mself\u001b[0m\u001b[0;34m.\u001b[0m\u001b[0mm\u001b[0m\u001b[0;34m.\u001b[0m\u001b[0mzero_grad\u001b[0m\u001b[0;34m(\u001b[0m\u001b[0;34m)\u001b[0m\u001b[0;34m\u001b[0m\u001b[0m\n",
      "\u001b[0;32m~/anaconda3/envs/fastai-cpu/lib/python3.6/site-packages/torch/nn/modules/module.py\u001b[0m in \u001b[0;36m__call__\u001b[0;34m(self, *input, **kwargs)\u001b[0m\n\u001b[1;32m    475\u001b[0m             \u001b[0mresult\u001b[0m \u001b[0;34m=\u001b[0m \u001b[0mself\u001b[0m\u001b[0;34m.\u001b[0m\u001b[0m_slow_forward\u001b[0m\u001b[0;34m(\u001b[0m\u001b[0;34m*\u001b[0m\u001b[0minput\u001b[0m\u001b[0;34m,\u001b[0m \u001b[0;34m**\u001b[0m\u001b[0mkwargs\u001b[0m\u001b[0;34m)\u001b[0m\u001b[0;34m\u001b[0m\u001b[0m\n\u001b[1;32m    476\u001b[0m         \u001b[0;32melse\u001b[0m\u001b[0;34m:\u001b[0m\u001b[0;34m\u001b[0m\u001b[0m\n\u001b[0;32m--> 477\u001b[0;31m             \u001b[0mresult\u001b[0m \u001b[0;34m=\u001b[0m \u001b[0mself\u001b[0m\u001b[0;34m.\u001b[0m\u001b[0mforward\u001b[0m\u001b[0;34m(\u001b[0m\u001b[0;34m*\u001b[0m\u001b[0minput\u001b[0m\u001b[0;34m,\u001b[0m \u001b[0;34m**\u001b[0m\u001b[0mkwargs\u001b[0m\u001b[0;34m)\u001b[0m\u001b[0;34m\u001b[0m\u001b[0m\n\u001b[0m\u001b[1;32m    478\u001b[0m         \u001b[0;32mfor\u001b[0m \u001b[0mhook\u001b[0m \u001b[0;32min\u001b[0m \u001b[0mself\u001b[0m\u001b[0;34m.\u001b[0m\u001b[0m_forward_hooks\u001b[0m\u001b[0;34m.\u001b[0m\u001b[0mvalues\u001b[0m\u001b[0;34m(\u001b[0m\u001b[0;34m)\u001b[0m\u001b[0;34m:\u001b[0m\u001b[0;34m\u001b[0m\u001b[0m\n\u001b[1;32m    479\u001b[0m             \u001b[0mhook_result\u001b[0m \u001b[0;34m=\u001b[0m \u001b[0mhook\u001b[0m\u001b[0;34m(\u001b[0m\u001b[0mself\u001b[0m\u001b[0;34m,\u001b[0m \u001b[0minput\u001b[0m\u001b[0;34m,\u001b[0m \u001b[0mresult\u001b[0m\u001b[0;34m)\u001b[0m\u001b[0;34m\u001b[0m\u001b[0m\n",
      "\u001b[0;32m~/anaconda3/envs/fastai-cpu/lib/python3.6/site-packages/torch/nn/modules/container.py\u001b[0m in \u001b[0;36mforward\u001b[0;34m(self, input)\u001b[0m\n\u001b[1;32m     89\u001b[0m     \u001b[0;32mdef\u001b[0m \u001b[0mforward\u001b[0m\u001b[0;34m(\u001b[0m\u001b[0mself\u001b[0m\u001b[0;34m,\u001b[0m \u001b[0minput\u001b[0m\u001b[0;34m)\u001b[0m\u001b[0;34m:\u001b[0m\u001b[0;34m\u001b[0m\u001b[0m\n\u001b[1;32m     90\u001b[0m         \u001b[0;32mfor\u001b[0m \u001b[0mmodule\u001b[0m \u001b[0;32min\u001b[0m \u001b[0mself\u001b[0m\u001b[0;34m.\u001b[0m\u001b[0m_modules\u001b[0m\u001b[0;34m.\u001b[0m\u001b[0mvalues\u001b[0m\u001b[0;34m(\u001b[0m\u001b[0;34m)\u001b[0m\u001b[0;34m:\u001b[0m\u001b[0;34m\u001b[0m\u001b[0m\n\u001b[0;32m---> 91\u001b[0;31m             \u001b[0minput\u001b[0m \u001b[0;34m=\u001b[0m \u001b[0mmodule\u001b[0m\u001b[0;34m(\u001b[0m\u001b[0minput\u001b[0m\u001b[0;34m)\u001b[0m\u001b[0;34m\u001b[0m\u001b[0m\n\u001b[0m\u001b[1;32m     92\u001b[0m         \u001b[0;32mreturn\u001b[0m \u001b[0minput\u001b[0m\u001b[0;34m\u001b[0m\u001b[0m\n\u001b[1;32m     93\u001b[0m \u001b[0;34m\u001b[0m\u001b[0m\n",
      "\u001b[0;32m~/anaconda3/envs/fastai-cpu/lib/python3.6/site-packages/torch/nn/modules/module.py\u001b[0m in \u001b[0;36m__call__\u001b[0;34m(self, *input, **kwargs)\u001b[0m\n\u001b[1;32m    475\u001b[0m             \u001b[0mresult\u001b[0m \u001b[0;34m=\u001b[0m \u001b[0mself\u001b[0m\u001b[0;34m.\u001b[0m\u001b[0m_slow_forward\u001b[0m\u001b[0;34m(\u001b[0m\u001b[0;34m*\u001b[0m\u001b[0minput\u001b[0m\u001b[0;34m,\u001b[0m \u001b[0;34m**\u001b[0m\u001b[0mkwargs\u001b[0m\u001b[0;34m)\u001b[0m\u001b[0;34m\u001b[0m\u001b[0m\n\u001b[1;32m    476\u001b[0m         \u001b[0;32melse\u001b[0m\u001b[0;34m:\u001b[0m\u001b[0;34m\u001b[0m\u001b[0m\n\u001b[0;32m--> 477\u001b[0;31m             \u001b[0mresult\u001b[0m \u001b[0;34m=\u001b[0m \u001b[0mself\u001b[0m\u001b[0;34m.\u001b[0m\u001b[0mforward\u001b[0m\u001b[0;34m(\u001b[0m\u001b[0;34m*\u001b[0m\u001b[0minput\u001b[0m\u001b[0;34m,\u001b[0m \u001b[0;34m**\u001b[0m\u001b[0mkwargs\u001b[0m\u001b[0;34m)\u001b[0m\u001b[0;34m\u001b[0m\u001b[0m\n\u001b[0m\u001b[1;32m    478\u001b[0m         \u001b[0;32mfor\u001b[0m \u001b[0mhook\u001b[0m \u001b[0;32min\u001b[0m \u001b[0mself\u001b[0m\u001b[0;34m.\u001b[0m\u001b[0m_forward_hooks\u001b[0m\u001b[0;34m.\u001b[0m\u001b[0mvalues\u001b[0m\u001b[0;34m(\u001b[0m\u001b[0;34m)\u001b[0m\u001b[0;34m:\u001b[0m\u001b[0;34m\u001b[0m\u001b[0m\n\u001b[1;32m    479\u001b[0m             \u001b[0mhook_result\u001b[0m \u001b[0;34m=\u001b[0m \u001b[0mhook\u001b[0m\u001b[0;34m(\u001b[0m\u001b[0mself\u001b[0m\u001b[0;34m,\u001b[0m \u001b[0minput\u001b[0m\u001b[0;34m,\u001b[0m \u001b[0mresult\u001b[0m\u001b[0;34m)\u001b[0m\u001b[0;34m\u001b[0m\u001b[0m\n",
      "\u001b[0;32m~/anaconda3/envs/fastai-cpu/lib/python3.6/site-packages/torch/nn/modules/conv.py\u001b[0m in \u001b[0;36mforward\u001b[0;34m(self, input)\u001b[0m\n\u001b[1;32m    299\u001b[0m     \u001b[0;32mdef\u001b[0m \u001b[0mforward\u001b[0m\u001b[0;34m(\u001b[0m\u001b[0mself\u001b[0m\u001b[0;34m,\u001b[0m \u001b[0minput\u001b[0m\u001b[0;34m)\u001b[0m\u001b[0;34m:\u001b[0m\u001b[0;34m\u001b[0m\u001b[0m\n\u001b[1;32m    300\u001b[0m         return F.conv2d(input, self.weight, self.bias, self.stride,\n\u001b[0;32m--> 301\u001b[0;31m                         self.padding, self.dilation, self.groups)\n\u001b[0m\u001b[1;32m    302\u001b[0m \u001b[0;34m\u001b[0m\u001b[0m\n\u001b[1;32m    303\u001b[0m \u001b[0;34m\u001b[0m\u001b[0m\n",
      "\u001b[0;31mRuntimeError\u001b[0m: Expected 4-dimensional input for 4-dimensional weight [2, 512, 3, 3], but got input of size [64, 512] instead"
     ]
    }
   ],
   "source": [
    "learn.fit(0.001, 3, metrics=[accuracy])"
   ]
  },
  {
   "cell_type": "code",
   "execution_count": 149,
   "metadata": {},
   "outputs": [
    {
     "data": {
      "application/vnd.jupyter.widget-view+json": {
       "model_id": "b8aff6aade8e43fcbdb9869c16d3873d",
       "version_major": 2,
       "version_minor": 0
      },
      "text/plain": [
       "HBox(children=(IntProgress(value=0, description='Epoch', max=1), HTML(value='')))"
      ]
     },
     "metadata": {},
     "output_type": "display_data"
    },
    {
     "name": "stdout",
     "output_type": "stream",
     "text": [
      "epoch      trn_loss   val_loss   accuracy                 \n",
      "    0      0.202342   0.19452    0.941176  \n"
     ]
    },
    {
     "data": {
      "text/plain": [
       "[0.19452002743879954, 0.9411764719906975]"
      ]
     },
     "execution_count": 149,
     "metadata": {},
     "output_type": "execute_result"
    }
   ],
   "source": [
    "learn.fit(0.001, 1, metrics=[accuracy])"
   ]
  },
  {
   "cell_type": "code",
   "execution_count": 74,
   "metadata": {},
   "outputs": [],
   "source": [
    "class SaveFeatures():\n",
    "    features=None\n",
    "    def __init__(self, m): \n",
    "        self.hook = m.register_forward_hook(self.hook_fn)\n",
    "        self.grad = m.register_backward_hook(self.back_fn)\n",
    "\n",
    "    def hook_fn(self, module, input, output): self.features = output\n",
    "    def back_fn(self, module, grad_input, grad_output):\n",
    "        self.grad_input = grad_input\n",
    "        self.grad_output = grad_output\n",
    "        self.module = module\n",
    "    def remove_forw(self): self.hook.remove()\n",
    "    def remove_backw(self): self.grad.remove()"
   ]
  },
  {
   "cell_type": "code",
   "execution_count": 248,
   "metadata": {},
   "outputs": [],
   "source": [
    "x,y = next(iter(data.val_dl))"
   ]
  },
  {
   "cell_type": "code",
   "execution_count": 249,
   "metadata": {},
   "outputs": [],
   "source": [
    "x,y = x[None,40], y[None,40]\n",
    "#vx = Variable(x.cuda(), requires_grad=True)"
   ]
  },
  {
   "cell_type": "code",
   "execution_count": 250,
   "metadata": {},
   "outputs": [
    {
     "data": {
      "text/plain": [
       "torch.Size([1, 1, 70, 70])"
      ]
     },
     "execution_count": 250,
     "metadata": {},
     "output_type": "execute_result"
    }
   ],
   "source": [
    "x.shape"
   ]
  },
  {
   "cell_type": "code",
   "execution_count": 251,
   "metadata": {},
   "outputs": [
    {
     "name": "stderr",
     "output_type": "stream",
     "text": [
      "/Users/macbookpro/anaconda3/envs/fastai-cpu/lib/python3.6/site-packages/torch/nn/functional.py:1961: UserWarning: Default upsampling behavior when mode=bilinear is changed to align_corners=False since 0.4.0. Please specify align_corners=True if the old behavior is desired. See the documentation of nn.Upsample for details.\n",
      "  \"See the documentation of nn.Upsample for details.\".format(mode))\n"
     ]
    }
   ],
   "source": [
    "img=F.interpolate(x, size=(224, 224), mode='bilinear')"
   ]
  },
  {
   "cell_type": "code",
   "execution_count": 3250,
   "metadata": {
    "scrolled": true
   },
   "outputs": [
    {
     "data": {
      "text/plain": [
       "<matplotlib.image.AxesImage at 0x2078a96358>"
      ]
     },
     "execution_count": 3250,
     "metadata": {},
     "output_type": "execute_result"
    },
    {
     "data": {
      "image/png": "[encoded data removed]",
      "text/plain": [
       "<Figure size 432x288 with 1 Axes>"
      ]
     },
     "metadata": {},
     "output_type": "display_data"
    }
   ],
   "source": [
    "plt.imshow(x[0,0])"
   ]
  },
  {
   "cell_type": "code",
   "execution_count": null,
   "metadata": {},
   "outputs": [],
   "source": []
  },
  {
   "cell_type": "code",
   "execution_count": 78,
   "metadata": {},
   "outputs": [
    {
     "data": {
      "text/plain": [
       "tensor([1])"
      ]
     },
     "execution_count": 78,
     "metadata": {},
     "output_type": "execute_result"
    }
   ],
   "source": [
    "y"
   ]
  },
  {
   "cell_type": "code",
   "execution_count": 79,
   "metadata": {
    "scrolled": false
   },
   "outputs": [
    {
     "data": {
      "text/plain": [
       "<matplotlib.image.AxesImage at 0x1c3beafc18>"
      ]
     },
     "execution_count": 79,
     "metadata": {},
     "output_type": "execute_result"
    },
    {
     "data": {
      "image/png": "[encoded data removed]",
      "text/plain": [
       "<Figure size 432x288 with 1 Axes>"
      ]
     },
     "metadata": {},
     "output_type": "display_data"
    }
   ],
   "source": [
    "#dx = data.val_ds(x)\n",
    "plt.imshow(x[0,0])"
   ]
  },
  {
   "cell_type": "code",
   "execution_count": 597,
   "metadata": {},
   "outputs": [
    {
     "data": {
      "text/plain": [
       "torch.Size([1, 1, 70, 70])"
      ]
     },
     "execution_count": 597,
     "metadata": {},
     "output_type": "execute_result"
    }
   ],
   "source": [
    "x.shape"
   ]
  },
  {
   "cell_type": "code",
   "execution_count": 841,
   "metadata": {},
   "outputs": [
    {
     "data": {
      "text/plain": [
       "tensor([0])"
      ]
     },
     "execution_count": 841,
     "metadata": {},
     "output_type": "execute_result"
    }
   ],
   "source": [
    "y"
   ]
  },
  {
   "cell_type": "code",
   "execution_count": 838,
   "metadata": {},
   "outputs": [],
   "source": [
    "#CAM\n",
    "sfs = [SaveFeatures(o) for o in [model[1][5], model[1][6], model[1][7], model[2]]]"
   ]
  },
  {
   "cell_type": "code",
   "execution_count": 842,
   "metadata": {},
   "outputs": [
    {
     "data": {
      "text/plain": [
       "ConvWithMeta(\n",
       "  (head_layer): Sequential(\n",
       "    (0): Conv2d(1, 3, kernel_size=(1, 1), stride=(1, 1), bias=False)\n",
       "  )\n",
       "  (features): Sequential(\n",
       "    (0): Conv2d(3, 64, kernel_size=(7, 7), stride=(2, 2), padding=(3, 3), bias=False)\n",
       "    (1): BatchNorm2d(64, eps=1e-05, momentum=0.1, affine=True, track_running_stats=True)\n",
       "    (2): ReLU(inplace)\n",
       "    (3): MaxPool2d(kernel_size=3, stride=2, padding=1, dilation=1, ceil_mode=False)\n",
       "    (4): Sequential(\n",
       "      (0): BasicBlock(\n",
       "        (conv1): Conv2d(64, 64, kernel_size=(3, 3), stride=(1, 1), padding=(1, 1), bias=False)\n",
       "        (bn1): BatchNorm2d(64, eps=1e-05, momentum=0.1, affine=True, track_running_stats=True)\n",
       "        (relu): ReLU(inplace)\n",
       "        (conv2): Conv2d(64, 64, kernel_size=(3, 3), stride=(1, 1), padding=(1, 1), bias=False)\n",
       "        (bn2): BatchNorm2d(64, eps=1e-05, momentum=0.1, affine=True, track_running_stats=True)\n",
       "      )\n",
       "      (1): BasicBlock(\n",
       "        (conv1): Conv2d(64, 64, kernel_size=(3, 3), stride=(1, 1), padding=(1, 1), bias=False)\n",
       "        (bn1): BatchNorm2d(64, eps=1e-05, momentum=0.1, affine=True, track_running_stats=True)\n",
       "        (relu): ReLU(inplace)\n",
       "        (conv2): Conv2d(64, 64, kernel_size=(3, 3), stride=(1, 1), padding=(1, 1), bias=False)\n",
       "        (bn2): BatchNorm2d(64, eps=1e-05, momentum=0.1, affine=True, track_running_stats=True)\n",
       "      )\n",
       "      (2): BasicBlock(\n",
       "        (conv1): Conv2d(64, 64, kernel_size=(3, 3), stride=(1, 1), padding=(1, 1), bias=False)\n",
       "        (bn1): BatchNorm2d(64, eps=1e-05, momentum=0.1, affine=True, track_running_stats=True)\n",
       "        (relu): ReLU(inplace)\n",
       "        (conv2): Conv2d(64, 64, kernel_size=(3, 3), stride=(1, 1), padding=(1, 1), bias=False)\n",
       "        (bn2): BatchNorm2d(64, eps=1e-05, momentum=0.1, affine=True, track_running_stats=True)\n",
       "      )\n",
       "    )\n",
       "    (5): Sequential(\n",
       "      (0): BasicBlock(\n",
       "        (conv1): Conv2d(64, 128, kernel_size=(3, 3), stride=(2, 2), padding=(1, 1), bias=False)\n",
       "        (bn1): BatchNorm2d(128, eps=1e-05, momentum=0.1, affine=True, track_running_stats=True)\n",
       "        (relu): ReLU(inplace)\n",
       "        (conv2): Conv2d(128, 128, kernel_size=(3, 3), stride=(1, 1), padding=(1, 1), bias=False)\n",
       "        (bn2): BatchNorm2d(128, eps=1e-05, momentum=0.1, affine=True, track_running_stats=True)\n",
       "        (downsample): Sequential(\n",
       "          (0): Conv2d(64, 128, kernel_size=(1, 1), stride=(2, 2), bias=False)\n",
       "          (1): BatchNorm2d(128, eps=1e-05, momentum=0.1, affine=True, track_running_stats=True)\n",
       "        )\n",
       "      )\n",
       "      (1): BasicBlock(\n",
       "        (conv1): Conv2d(128, 128, kernel_size=(3, 3), stride=(1, 1), padding=(1, 1), bias=False)\n",
       "        (bn1): BatchNorm2d(128, eps=1e-05, momentum=0.1, affine=True, track_running_stats=True)\n",
       "        (relu): ReLU(inplace)\n",
       "        (conv2): Conv2d(128, 128, kernel_size=(3, 3), stride=(1, 1), padding=(1, 1), bias=False)\n",
       "        (bn2): BatchNorm2d(128, eps=1e-05, momentum=0.1, affine=True, track_running_stats=True)\n",
       "      )\n",
       "      (2): BasicBlock(\n",
       "        (conv1): Conv2d(128, 128, kernel_size=(3, 3), stride=(1, 1), padding=(1, 1), bias=False)\n",
       "        (bn1): BatchNorm2d(128, eps=1e-05, momentum=0.1, affine=True, track_running_stats=True)\n",
       "        (relu): ReLU(inplace)\n",
       "        (conv2): Conv2d(128, 128, kernel_size=(3, 3), stride=(1, 1), padding=(1, 1), bias=False)\n",
       "        (bn2): BatchNorm2d(128, eps=1e-05, momentum=0.1, affine=True, track_running_stats=True)\n",
       "      )\n",
       "      (3): BasicBlock(\n",
       "        (conv1): Conv2d(128, 128, kernel_size=(3, 3), stride=(1, 1), padding=(1, 1), bias=False)\n",
       "        (bn1): BatchNorm2d(128, eps=1e-05, momentum=0.1, affine=True, track_running_stats=True)\n",
       "        (relu): ReLU(inplace)\n",
       "        (conv2): Conv2d(128, 128, kernel_size=(3, 3), stride=(1, 1), padding=(1, 1), bias=False)\n",
       "        (bn2): BatchNorm2d(128, eps=1e-05, momentum=0.1, affine=True, track_running_stats=True)\n",
       "      )\n",
       "    )\n",
       "    (6): Sequential(\n",
       "      (0): BasicBlock(\n",
       "        (conv1): Conv2d(128, 256, kernel_size=(3, 3), stride=(2, 2), padding=(1, 1), bias=False)\n",
       "        (bn1): BatchNorm2d(256, eps=1e-05, momentum=0.1, affine=True, track_running_stats=True)\n",
       "        (relu): ReLU(inplace)\n",
       "        (conv2): Conv2d(256, 256, kernel_size=(3, 3), stride=(1, 1), padding=(1, 1), bias=False)\n",
       "        (bn2): BatchNorm2d(256, eps=1e-05, momentum=0.1, affine=True, track_running_stats=True)\n",
       "        (downsample): Sequential(\n",
       "          (0): Conv2d(128, 256, kernel_size=(1, 1), stride=(2, 2), bias=False)\n",
       "          (1): BatchNorm2d(256, eps=1e-05, momentum=0.1, affine=True, track_running_stats=True)\n",
       "        )\n",
       "      )\n",
       "      (1): BasicBlock(\n",
       "        (conv1): Conv2d(256, 256, kernel_size=(3, 3), stride=(1, 1), padding=(1, 1), bias=False)\n",
       "        (bn1): BatchNorm2d(256, eps=1e-05, momentum=0.1, affine=True, track_running_stats=True)\n",
       "        (relu): ReLU(inplace)\n",
       "        (conv2): Conv2d(256, 256, kernel_size=(3, 3), stride=(1, 1), padding=(1, 1), bias=False)\n",
       "        (bn2): BatchNorm2d(256, eps=1e-05, momentum=0.1, affine=True, track_running_stats=True)\n",
       "      )\n",
       "      (2): BasicBlock(\n",
       "        (conv1): Conv2d(256, 256, kernel_size=(3, 3), stride=(1, 1), padding=(1, 1), bias=False)\n",
       "        (bn1): BatchNorm2d(256, eps=1e-05, momentum=0.1, affine=True, track_running_stats=True)\n",
       "        (relu): ReLU(inplace)\n",
       "        (conv2): Conv2d(256, 256, kernel_size=(3, 3), stride=(1, 1), padding=(1, 1), bias=False)\n",
       "        (bn2): BatchNorm2d(256, eps=1e-05, momentum=0.1, affine=True, track_running_stats=True)\n",
       "      )\n",
       "      (3): BasicBlock(\n",
       "        (conv1): Conv2d(256, 256, kernel_size=(3, 3), stride=(1, 1), padding=(1, 1), bias=False)\n",
       "        (bn1): BatchNorm2d(256, eps=1e-05, momentum=0.1, affine=True, track_running_stats=True)\n",
       "        (relu): ReLU(inplace)\n",
       "        (conv2): Conv2d(256, 256, kernel_size=(3, 3), stride=(1, 1), padding=(1, 1), bias=False)\n",
       "        (bn2): BatchNorm2d(256, eps=1e-05, momentum=0.1, affine=True, track_running_stats=True)\n",
       "      )\n",
       "      (4): BasicBlock(\n",
       "        (conv1): Conv2d(256, 256, kernel_size=(3, 3), stride=(1, 1), padding=(1, 1), bias=False)\n",
       "        (bn1): BatchNorm2d(256, eps=1e-05, momentum=0.1, affine=True, track_running_stats=True)\n",
       "        (relu): ReLU(inplace)\n",
       "        (conv2): Conv2d(256, 256, kernel_size=(3, 3), stride=(1, 1), padding=(1, 1), bias=False)\n",
       "        (bn2): BatchNorm2d(256, eps=1e-05, momentum=0.1, affine=True, track_running_stats=True)\n",
       "      )\n",
       "      (5): BasicBlock(\n",
       "        (conv1): Conv2d(256, 256, kernel_size=(3, 3), stride=(1, 1), padding=(1, 1), bias=False)\n",
       "        (bn1): BatchNorm2d(256, eps=1e-05, momentum=0.1, affine=True, track_running_stats=True)\n",
       "        (relu): ReLU(inplace)\n",
       "        (conv2): Conv2d(256, 256, kernel_size=(3, 3), stride=(1, 1), padding=(1, 1), bias=False)\n",
       "        (bn2): BatchNorm2d(256, eps=1e-05, momentum=0.1, affine=True, track_running_stats=True)\n",
       "      )\n",
       "    )\n",
       "    (7): Sequential(\n",
       "      (0): BasicBlock(\n",
       "        (conv1): Conv2d(256, 512, kernel_size=(3, 3), stride=(2, 2), padding=(1, 1), bias=False)\n",
       "        (bn1): BatchNorm2d(512, eps=1e-05, momentum=0.1, affine=True, track_running_stats=True)\n",
       "        (relu): ReLU(inplace)\n",
       "        (conv2): Conv2d(512, 512, kernel_size=(3, 3), stride=(1, 1), padding=(1, 1), bias=False)\n",
       "        (bn2): BatchNorm2d(512, eps=1e-05, momentum=0.1, affine=True, track_running_stats=True)\n",
       "        (downsample): Sequential(\n",
       "          (0): Conv2d(256, 512, kernel_size=(1, 1), stride=(2, 2), bias=False)\n",
       "          (1): BatchNorm2d(512, eps=1e-05, momentum=0.1, affine=True, track_running_stats=True)\n",
       "        )\n",
       "      )\n",
       "      (1): BasicBlock(\n",
       "        (conv1): Conv2d(512, 512, kernel_size=(3, 3), stride=(1, 1), padding=(1, 1), bias=False)\n",
       "        (bn1): BatchNorm2d(512, eps=1e-05, momentum=0.1, affine=True, track_running_stats=True)\n",
       "        (relu): ReLU(inplace)\n",
       "        (conv2): Conv2d(512, 512, kernel_size=(3, 3), stride=(1, 1), padding=(1, 1), bias=False)\n",
       "        (bn2): BatchNorm2d(512, eps=1e-05, momentum=0.1, affine=True, track_running_stats=True)\n",
       "      )\n",
       "      (2): BasicBlock(\n",
       "        (conv1): Conv2d(512, 512, kernel_size=(3, 3), stride=(1, 1), padding=(1, 1), bias=False)\n",
       "        (bn1): BatchNorm2d(512, eps=1e-05, momentum=0.1, affine=True, track_running_stats=True)\n",
       "        (relu): ReLU(inplace)\n",
       "        (conv2): Conv2d(512, 512, kernel_size=(3, 3), stride=(1, 1), padding=(1, 1), bias=False)\n",
       "        (bn2): BatchNorm2d(512, eps=1e-05, momentum=0.1, affine=True, track_running_stats=True)\n",
       "      )\n",
       "    )\n",
       "    (8): AdaptiveAvgPool2d(output_size=1)\n",
       "    (9): Flatten()\n",
       "  )\n",
       "  (bns): ModuleList(\n",
       "    (0): BatchNorm1d(512, eps=1e-05, momentum=0.1, affine=True, track_running_stats=True)\n",
       "    (1): BatchNorm1d(512, eps=1e-05, momentum=0.1, affine=True, track_running_stats=True)\n",
       "    (2): BatchNorm1d(256, eps=1e-05, momentum=0.1, affine=True, track_running_stats=True)\n",
       "  )\n",
       "  (lins): ModuleList(\n",
       "    (0): Linear(in_features=512, out_features=512, bias=True)\n",
       "    (1): Linear(in_features=512, out_features=256, bias=True)\n",
       "    (2): Linear(in_features=256, out_features=2, bias=True)\n",
       "  )\n",
       "  (fc_model1): Sequential(\n",
       "    (0): BatchNorm1d(512, eps=1e-05, momentum=0.1, affine=True, track_running_stats=True)\n",
       "    (1): Dropout(p=0.1)\n",
       "    (2): Linear(in_features=512, out_features=512, bias=True)\n",
       "    (3): LeakyReLU(negative_slope=0.01)\n",
       "  )\n",
       "  (fc_model2): Sequential(\n",
       "    (0): BatchNorm1d(512, eps=1e-05, momentum=0.1, affine=True, track_running_stats=True)\n",
       "    (1): Dropout(p=0.1)\n",
       "    (2): Linear(in_features=512, out_features=256, bias=True)\n",
       "    (3): LeakyReLU(negative_slope=0.01)\n",
       "    (4): BatchNorm1d(256, eps=1e-05, momentum=0.1, affine=True, track_running_stats=True)\n",
       "    (5): Dropout(p=0.1)\n",
       "    (6): Linear(in_features=256, out_features=2, bias=True)\n",
       "  )\n",
       ")"
      ]
     },
     "execution_count": 842,
     "metadata": {},
     "output_type": "execute_result"
    }
   ],
   "source": [
    "model.eval()"
   ]
  },
  {
   "cell_type": "code",
   "execution_count": 852,
   "metadata": {
    "scrolled": true
   },
   "outputs": [
    {
     "name": "stdout",
     "output_type": "stream",
     "text": [
      "CPU times: user 96.5 ms, sys: 36.1 ms, total: 133 ms\n",
      "Wall time: 46.5 ms\n"
     ]
    }
   ],
   "source": [
    "%time py = model(x)"
   ]
  },
  {
   "cell_type": "code",
   "execution_count": 853,
   "metadata": {},
   "outputs": [
    {
     "data": {
      "text/plain": [
       "array([0.58166, 0.41834], dtype=float32)"
      ]
     },
     "execution_count": 853,
     "metadata": {},
     "output_type": "execute_result"
    }
   ],
   "source": [
    "(np.exp(to_np(py[0])))"
   ]
  },
  {
   "cell_type": "code",
   "execution_count": 854,
   "metadata": {},
   "outputs": [],
   "source": [
    "for o in sfs: o.remove_forw()"
   ]
  },
  {
   "cell_type": "code",
   "execution_count": 855,
   "metadata": {
    "scrolled": true
   },
   "outputs": [
    {
     "data": {
      "text/plain": [
       "[torch.Size([1, 128, 9, 9]),\n",
       " torch.Size([1, 256, 5, 5]),\n",
       " torch.Size([1, 512, 3, 3]),\n",
       " torch.Size([1, 512])]"
      ]
     },
     "execution_count": 855,
     "metadata": {},
     "output_type": "execute_result"
    }
   ],
   "source": [
    "[o.features.size() for o in sfs]"
   ]
  },
  {
   "cell_type": "code",
   "execution_count": 859,
   "metadata": {},
   "outputs": [
    {
     "data": {
      "text/plain": [
       "array([0.58166, 0.41834], dtype=float32)"
      ]
     },
     "execution_count": 859,
     "metadata": {},
     "output_type": "execute_result"
    }
   ],
   "source": [
    "py = np.exp(to_np(py)[0]); py"
   ]
  },
  {
   "cell_type": "code",
   "execution_count": 857,
   "metadata": {},
   "outputs": [
    {
     "data": {
      "text/plain": [
       "(512, 3, 3)"
      ]
     },
     "execution_count": 857,
     "metadata": {},
     "output_type": "execute_result"
    }
   ],
   "source": [
    "feat = np.maximum(0,to_np(sfs[2].features[0]))\n",
    "feat.shape"
   ]
  },
  {
   "cell_type": "code",
   "execution_count": 860,
   "metadata": {},
   "outputs": [
    {
     "ename": "ValueError",
     "evalue": "shapes (3,3,512) and (2,) not aligned: 512 (dim 2) != 2 (dim 0)",
     "output_type": "error",
     "traceback": [
      "\u001b[0;31m---------------------------------------------------------------------------\u001b[0m",
      "\u001b[0;31mValueError\u001b[0m                                Traceback (most recent call last)",
      "\u001b[0;32m<ipython-input-860-2f2c8cc23dba>\u001b[0m in \u001b[0;36m<module>\u001b[0;34m()\u001b[0m\n\u001b[0;32m----> 1\u001b[0;31m \u001b[0mf2\u001b[0m\u001b[0;34m=\u001b[0m\u001b[0mnp\u001b[0m\u001b[0;34m.\u001b[0m\u001b[0mdot\u001b[0m\u001b[0;34m(\u001b[0m\u001b[0mnp\u001b[0m\u001b[0;34m.\u001b[0m\u001b[0mrollaxis\u001b[0m\u001b[0;34m(\u001b[0m\u001b[0mfeat\u001b[0m\u001b[0;34m,\u001b[0m\u001b[0;36m0\u001b[0m\u001b[0;34m,\u001b[0m\u001b[0;36m3\u001b[0m\u001b[0;34m)\u001b[0m\u001b[0;34m,\u001b[0m \u001b[0mpy\u001b[0m\u001b[0;34m)\u001b[0m\u001b[0;34m\u001b[0m\u001b[0m\n\u001b[0m\u001b[1;32m      2\u001b[0m \u001b[0mf2\u001b[0m\u001b[0;34m-=\u001b[0m\u001b[0mf2\u001b[0m\u001b[0;34m.\u001b[0m\u001b[0mmin\u001b[0m\u001b[0;34m(\u001b[0m\u001b[0;34m)\u001b[0m\u001b[0;34m\u001b[0m\u001b[0m\n\u001b[1;32m      3\u001b[0m \u001b[0mf2\u001b[0m\u001b[0;34m/=\u001b[0m\u001b[0mf2\u001b[0m\u001b[0;34m.\u001b[0m\u001b[0mmax\u001b[0m\u001b[0;34m(\u001b[0m\u001b[0;34m)\u001b[0m\u001b[0;34m\u001b[0m\u001b[0m\n\u001b[1;32m      4\u001b[0m \u001b[0mf2\u001b[0m\u001b[0;34m\u001b[0m\u001b[0m\n",
      "\u001b[0;31mValueError\u001b[0m: shapes (3,3,512) and (2,) not aligned: 512 (dim 2) != 2 (dim 0)"
     ]
    }
   ],
   "source": [
    "f2=np.dot(np.rollaxis(feat,0,3), py)\n",
    "f2-=f2.min()\n",
    "f2/=f2.max()\n",
    "f2"
   ]
  },
  {
   "cell_type": "code",
   "execution_count": 571,
   "metadata": {},
   "outputs": [],
   "source": [
    "import skimage"
   ]
  },
  {
   "cell_type": "code",
   "execution_count": 3448,
   "metadata": {},
   "outputs": [
    {
     "data": {
      "text/plain": [
       "ResNet(\n",
       "  (conv1): Conv2d(3, 64, kernel_size=(7, 7), stride=(2, 2), padding=(3, 3), bias=False)\n",
       "  (bn1): BatchNorm2d(64, eps=1e-05, momentum=0.1, affine=True, track_running_stats=True)\n",
       "  (relu): ReLU(inplace)\n",
       "  (maxpool): MaxPool2d(kernel_size=3, stride=2, padding=1, dilation=1, ceil_mode=False)\n",
       "  (layer1): Sequential(\n",
       "    (0): Bottleneck(\n",
       "      (conv1): Conv2d(64, 64, kernel_size=(1, 1), stride=(1, 1), bias=False)\n",
       "      (bn1): BatchNorm2d(64, eps=1e-05, momentum=0.1, affine=True, track_running_stats=True)\n",
       "      (conv2): Conv2d(64, 64, kernel_size=(3, 3), stride=(1, 1), padding=(1, 1), bias=False)\n",
       "      (bn2): BatchNorm2d(64, eps=1e-05, momentum=0.1, affine=True, track_running_stats=True)\n",
       "      (conv3): Conv2d(64, 256, kernel_size=(1, 1), stride=(1, 1), bias=False)\n",
       "      (bn3): BatchNorm2d(256, eps=1e-05, momentum=0.1, affine=True, track_running_stats=True)\n",
       "      (relu): ReLU(inplace)\n",
       "      (downsample): Sequential(\n",
       "        (0): Conv2d(64, 256, kernel_size=(1, 1), stride=(1, 1), bias=False)\n",
       "        (1): BatchNorm2d(256, eps=1e-05, momentum=0.1, affine=True, track_running_stats=True)\n",
       "      )\n",
       "    )\n",
       "    (1): Bottleneck(\n",
       "      (conv1): Conv2d(256, 64, kernel_size=(1, 1), stride=(1, 1), bias=False)\n",
       "      (bn1): BatchNorm2d(64, eps=1e-05, momentum=0.1, affine=True, track_running_stats=True)\n",
       "      (conv2): Conv2d(64, 64, kernel_size=(3, 3), stride=(1, 1), padding=(1, 1), bias=False)\n",
       "      (bn2): BatchNorm2d(64, eps=1e-05, momentum=0.1, affine=True, track_running_stats=True)\n",
       "      (conv3): Conv2d(64, 256, kernel_size=(1, 1), stride=(1, 1), bias=False)\n",
       "      (bn3): BatchNorm2d(256, eps=1e-05, momentum=0.1, affine=True, track_running_stats=True)\n",
       "      (relu): ReLU(inplace)\n",
       "    )\n",
       "    (2): Bottleneck(\n",
       "      (conv1): Conv2d(256, 64, kernel_size=(1, 1), stride=(1, 1), bias=False)\n",
       "      (bn1): BatchNorm2d(64, eps=1e-05, momentum=0.1, affine=True, track_running_stats=True)\n",
       "      (conv2): Conv2d(64, 64, kernel_size=(3, 3), stride=(1, 1), padding=(1, 1), bias=False)\n",
       "      (bn2): BatchNorm2d(64, eps=1e-05, momentum=0.1, affine=True, track_running_stats=True)\n",
       "      (conv3): Conv2d(64, 256, kernel_size=(1, 1), stride=(1, 1), bias=False)\n",
       "      (bn3): BatchNorm2d(256, eps=1e-05, momentum=0.1, affine=True, track_running_stats=True)\n",
       "      (relu): ReLU(inplace)\n",
       "    )\n",
       "  )\n",
       "  (layer2): Sequential(\n",
       "    (0): Bottleneck(\n",
       "      (conv1): Conv2d(256, 128, kernel_size=(1, 1), stride=(1, 1), bias=False)\n",
       "      (bn1): BatchNorm2d(128, eps=1e-05, momentum=0.1, affine=True, track_running_stats=True)\n",
       "      (conv2): Conv2d(128, 128, kernel_size=(3, 3), stride=(2, 2), padding=(1, 1), bias=False)\n",
       "      (bn2): BatchNorm2d(128, eps=1e-05, momentum=0.1, affine=True, track_running_stats=True)\n",
       "      (conv3): Conv2d(128, 512, kernel_size=(1, 1), stride=(1, 1), bias=False)\n",
       "      (bn3): BatchNorm2d(512, eps=1e-05, momentum=0.1, affine=True, track_running_stats=True)\n",
       "      (relu): ReLU(inplace)\n",
       "      (downsample): Sequential(\n",
       "        (0): Conv2d(256, 512, kernel_size=(1, 1), stride=(2, 2), bias=False)\n",
       "        (1): BatchNorm2d(512, eps=1e-05, momentum=0.1, affine=True, track_running_stats=True)\n",
       "      )\n",
       "    )\n",
       "    (1): Bottleneck(\n",
       "      (conv1): Conv2d(512, 128, kernel_size=(1, 1), stride=(1, 1), bias=False)\n",
       "      (bn1): BatchNorm2d(128, eps=1e-05, momentum=0.1, affine=True, track_running_stats=True)\n",
       "      (conv2): Conv2d(128, 128, kernel_size=(3, 3), stride=(1, 1), padding=(1, 1), bias=False)\n",
       "      (bn2): BatchNorm2d(128, eps=1e-05, momentum=0.1, affine=True, track_running_stats=True)\n",
       "      (conv3): Conv2d(128, 512, kernel_size=(1, 1), stride=(1, 1), bias=False)\n",
       "      (bn3): BatchNorm2d(512, eps=1e-05, momentum=0.1, affine=True, track_running_stats=True)\n",
       "      (relu): ReLU(inplace)\n",
       "    )\n",
       "    (2): Bottleneck(\n",
       "      (conv1): Conv2d(512, 128, kernel_size=(1, 1), stride=(1, 1), bias=False)\n",
       "      (bn1): BatchNorm2d(128, eps=1e-05, momentum=0.1, affine=True, track_running_stats=True)\n",
       "      (conv2): Conv2d(128, 128, kernel_size=(3, 3), stride=(1, 1), padding=(1, 1), bias=False)\n",
       "      (bn2): BatchNorm2d(128, eps=1e-05, momentum=0.1, affine=True, track_running_stats=True)\n",
       "      (conv3): Conv2d(128, 512, kernel_size=(1, 1), stride=(1, 1), bias=False)\n",
       "      (bn3): BatchNorm2d(512, eps=1e-05, momentum=0.1, affine=True, track_running_stats=True)\n",
       "      (relu): ReLU(inplace)\n",
       "    )\n",
       "    (3): Bottleneck(\n",
       "      (conv1): Conv2d(512, 128, kernel_size=(1, 1), stride=(1, 1), bias=False)\n",
       "      (bn1): BatchNorm2d(128, eps=1e-05, momentum=0.1, affine=True, track_running_stats=True)\n",
       "      (conv2): Conv2d(128, 128, kernel_size=(3, 3), stride=(1, 1), padding=(1, 1), bias=False)\n",
       "      (bn2): BatchNorm2d(128, eps=1e-05, momentum=0.1, affine=True, track_running_stats=True)\n",
       "      (conv3): Conv2d(128, 512, kernel_size=(1, 1), stride=(1, 1), bias=False)\n",
       "      (bn3): BatchNorm2d(512, eps=1e-05, momentum=0.1, affine=True, track_running_stats=True)\n",
       "      (relu): ReLU(inplace)\n",
       "    )\n",
       "  )\n",
       "  (layer3): Sequential(\n",
       "    (0): Bottleneck(\n",
       "      (conv1): Conv2d(512, 256, kernel_size=(1, 1), stride=(1, 1), bias=False)\n",
       "      (bn1): BatchNorm2d(256, eps=1e-05, momentum=0.1, affine=True, track_running_stats=True)\n",
       "      (conv2): Conv2d(256, 256, kernel_size=(3, 3), stride=(2, 2), padding=(1, 1), bias=False)\n",
       "      (bn2): BatchNorm2d(256, eps=1e-05, momentum=0.1, affine=True, track_running_stats=True)\n",
       "      (conv3): Conv2d(256, 1024, kernel_size=(1, 1), stride=(1, 1), bias=False)\n",
       "      (bn3): BatchNorm2d(1024, eps=1e-05, momentum=0.1, affine=True, track_running_stats=True)\n",
       "      (relu): ReLU(inplace)\n",
       "      (downsample): Sequential(\n",
       "        (0): Conv2d(512, 1024, kernel_size=(1, 1), stride=(2, 2), bias=False)\n",
       "        (1): BatchNorm2d(1024, eps=1e-05, momentum=0.1, affine=True, track_running_stats=True)\n",
       "      )\n",
       "    )\n",
       "    (1): Bottleneck(\n",
       "      (conv1): Conv2d(1024, 256, kernel_size=(1, 1), stride=(1, 1), bias=False)\n",
       "      (bn1): BatchNorm2d(256, eps=1e-05, momentum=0.1, affine=True, track_running_stats=True)\n",
       "      (conv2): Conv2d(256, 256, kernel_size=(3, 3), stride=(1, 1), padding=(1, 1), bias=False)\n",
       "      (bn2): BatchNorm2d(256, eps=1e-05, momentum=0.1, affine=True, track_running_stats=True)\n",
       "      (conv3): Conv2d(256, 1024, kernel_size=(1, 1), stride=(1, 1), bias=False)\n",
       "      (bn3): BatchNorm2d(1024, eps=1e-05, momentum=0.1, affine=True, track_running_stats=True)\n",
       "      (relu): ReLU(inplace)\n",
       "    )\n",
       "    (2): Bottleneck(\n",
       "      (conv1): Conv2d(1024, 256, kernel_size=(1, 1), stride=(1, 1), bias=False)\n",
       "      (bn1): BatchNorm2d(256, eps=1e-05, momentum=0.1, affine=True, track_running_stats=True)\n",
       "      (conv2): Conv2d(256, 256, kernel_size=(3, 3), stride=(1, 1), padding=(1, 1), bias=False)\n",
       "      (bn2): BatchNorm2d(256, eps=1e-05, momentum=0.1, affine=True, track_running_stats=True)\n",
       "      (conv3): Conv2d(256, 1024, kernel_size=(1, 1), stride=(1, 1), bias=False)\n",
       "      (bn3): BatchNorm2d(1024, eps=1e-05, momentum=0.1, affine=True, track_running_stats=True)\n",
       "      (relu): ReLU(inplace)\n",
       "    )\n",
       "    (3): Bottleneck(\n",
       "      (conv1): Conv2d(1024, 256, kernel_size=(1, 1), stride=(1, 1), bias=False)\n",
       "      (bn1): BatchNorm2d(256, eps=1e-05, momentum=0.1, affine=True, track_running_stats=True)\n",
       "      (conv2): Conv2d(256, 256, kernel_size=(3, 3), stride=(1, 1), padding=(1, 1), bias=False)\n",
       "      (bn2): BatchNorm2d(256, eps=1e-05, momentum=0.1, affine=True, track_running_stats=True)\n",
       "      (conv3): Conv2d(256, 1024, kernel_size=(1, 1), stride=(1, 1), bias=False)\n",
       "      (bn3): BatchNorm2d(1024, eps=1e-05, momentum=0.1, affine=True, track_running_stats=True)\n",
       "      (relu): ReLU(inplace)\n",
       "    )\n",
       "    (4): Bottleneck(\n",
       "      (conv1): Conv2d(1024, 256, kernel_size=(1, 1), stride=(1, 1), bias=False)\n",
       "      (bn1): BatchNorm2d(256, eps=1e-05, momentum=0.1, affine=True, track_running_stats=True)\n",
       "      (conv2): Conv2d(256, 256, kernel_size=(3, 3), stride=(1, 1), padding=(1, 1), bias=False)\n",
       "      (bn2): BatchNorm2d(256, eps=1e-05, momentum=0.1, affine=True, track_running_stats=True)\n",
       "      (conv3): Conv2d(256, 1024, kernel_size=(1, 1), stride=(1, 1), bias=False)\n",
       "      (bn3): BatchNorm2d(1024, eps=1e-05, momentum=0.1, affine=True, track_running_stats=True)\n",
       "      (relu): ReLU(inplace)\n",
       "    )\n",
       "    (5): Bottleneck(\n",
       "      (conv1): Conv2d(1024, 256, kernel_size=(1, 1), stride=(1, 1), bias=False)\n",
       "      (bn1): BatchNorm2d(256, eps=1e-05, momentum=0.1, affine=True, track_running_stats=True)\n",
       "      (conv2): Conv2d(256, 256, kernel_size=(3, 3), stride=(1, 1), padding=(1, 1), bias=False)\n",
       "      (bn2): BatchNorm2d(256, eps=1e-05, momentum=0.1, affine=True, track_running_stats=True)\n",
       "      (conv3): Conv2d(256, 1024, kernel_size=(1, 1), stride=(1, 1), bias=False)\n",
       "      (bn3): BatchNorm2d(1024, eps=1e-05, momentum=0.1, affine=True, track_running_stats=True)\n",
       "      (relu): ReLU(inplace)\n",
       "    )\n",
       "  )\n",
       "  (layer4): Sequential(\n",
       "    (0): Bottleneck(\n",
       "      (conv1): Conv2d(1024, 512, kernel_size=(1, 1), stride=(1, 1), bias=False)\n",
       "      (bn1): BatchNorm2d(512, eps=1e-05, momentum=0.1, affine=True, track_running_stats=True)\n",
       "      (conv2): Conv2d(512, 512, kernel_size=(3, 3), stride=(2, 2), padding=(1, 1), bias=False)\n",
       "      (bn2): BatchNorm2d(512, eps=1e-05, momentum=0.1, affine=True, track_running_stats=True)\n",
       "      (conv3): Conv2d(512, 2048, kernel_size=(1, 1), stride=(1, 1), bias=False)\n",
       "      (bn3): BatchNorm2d(2048, eps=1e-05, momentum=0.1, affine=True, track_running_stats=True)\n",
       "      (relu): ReLU(inplace)\n",
       "      (downsample): Sequential(\n",
       "        (0): Conv2d(1024, 2048, kernel_size=(1, 1), stride=(2, 2), bias=False)\n",
       "        (1): BatchNorm2d(2048, eps=1e-05, momentum=0.1, affine=True, track_running_stats=True)\n",
       "      )\n",
       "    )\n",
       "    (1): Bottleneck(\n",
       "      (conv1): Conv2d(2048, 512, kernel_size=(1, 1), stride=(1, 1), bias=False)\n",
       "      (bn1): BatchNorm2d(512, eps=1e-05, momentum=0.1, affine=True, track_running_stats=True)\n",
       "      (conv2): Conv2d(512, 512, kernel_size=(3, 3), stride=(1, 1), padding=(1, 1), bias=False)\n",
       "      (bn2): BatchNorm2d(512, eps=1e-05, momentum=0.1, affine=True, track_running_stats=True)\n",
       "      (conv3): Conv2d(512, 2048, kernel_size=(1, 1), stride=(1, 1), bias=False)\n",
       "      (bn3): BatchNorm2d(2048, eps=1e-05, momentum=0.1, affine=True, track_running_stats=True)\n",
       "      (relu): ReLU(inplace)\n",
       "    )\n",
       "    (2): Bottleneck(\n",
       "      (conv1): Conv2d(2048, 512, kernel_size=(1, 1), stride=(1, 1), bias=False)\n",
       "      (bn1): BatchNorm2d(512, eps=1e-05, momentum=0.1, affine=True, track_running_stats=True)\n",
       "      (conv2): Conv2d(512, 512, kernel_size=(3, 3), stride=(1, 1), padding=(1, 1), bias=False)\n",
       "      (bn2): BatchNorm2d(512, eps=1e-05, momentum=0.1, affine=True, track_running_stats=True)\n",
       "      (conv3): Conv2d(512, 2048, kernel_size=(1, 1), stride=(1, 1), bias=False)\n",
       "      (bn3): BatchNorm2d(2048, eps=1e-05, momentum=0.1, affine=True, track_running_stats=True)\n",
       "      (relu): ReLU(inplace)\n",
       "    )\n",
       "  )\n",
       "  (avgpool): AvgPool2d(kernel_size=7, stride=1, padding=0)\n",
       "  (fc): Linear(in_features=2048, out_features=1000, bias=True)\n",
       ")"
      ]
     },
     "execution_count": 3448,
     "metadata": {},
     "output_type": "execute_result"
    }
   ],
   "source": [
    "resnet50(True)"
   ]
  },
  {
   "cell_type": "code",
   "execution_count": 576,
   "metadata": {},
   "outputs": [
    {
     "name": "stderr",
     "output_type": "stream",
     "text": [
      "/Users/macbookpro/anaconda3/envs/fastai-cpu/lib/python3.6/site-packages/skimage/transform/_warps.py:110: UserWarning: Anti-aliasing will be enabled by default in skimage 0.15 to avoid aliasing artifacts when down-sampling images.\n",
      "  warn(\"Anti-aliasing will be enabled by default in skimage 0.15 to \"\n"
     ]
    },
    {
     "data": {
      "image/png": "[encoded data removed]",
      "text/plain": [
       "<Figure size 432x288 with 1 Axes>"
      ]
     },
     "metadata": {},
     "output_type": "display_data"
    }
   ],
   "source": [
    "plt.imshow(bb[0,0])\n",
    "plt.imshow(skimage.transform.resize(f2, bb[0,0].shape, mode='constant'),  alpha=0.4, cmap='hot');"
   ]
  },
  {
   "cell_type": "markdown",
   "metadata": {},
   "source": [
    "### GRAD-CAM"
   ]
  },
  {
   "cell_type": "code",
   "execution_count": null,
   "metadata": {},
   "outputs": [],
   "source": [
    "''''state_dict = torch.load('models/test_sf_2D.h5', map_location=lambda storage, loc: storage)\n",
    "model = ConvWithMeta()\n",
    "model.load_state_dict(state_dict)\n",
    "sfs = [SaveFeatures(o) for o in [model[1][7][2].conv2]]'''"
   ]
  },
  {
   "cell_type": "code",
   "execution_count": 598,
   "metadata": {},
   "outputs": [],
   "source": [
    "state_dict = torch.load('models/grad_cam_resnet2D.h5', map_location=lambda storage, loc: storage)\n",
    "model = MetaResNet(BasicBlock, [3, 4, 6, 3])\n",
    "model.load_state_dict(state_dict)\n",
    "sfs = [SaveFeatures(o) for o in [model[0][7][2].conv2]]"
   ]
  },
  {
   "cell_type": "code",
   "execution_count": 599,
   "metadata": {
    "scrolled": true
   },
   "outputs": [
    {
     "data": {
      "text/plain": [
       "MetaResNet(\n",
       "  (features): Sequential(\n",
       "    (0): Conv2d(1, 64, kernel_size=(7, 7), stride=(2, 2), padding=(3, 3), bias=False)\n",
       "    (1): BatchNorm2d(64, eps=1e-05, momentum=0.1, affine=True, track_running_stats=True)\n",
       "    (2): ReLU(inplace)\n",
       "    (3): MaxPool2d(kernel_size=3, stride=2, padding=1, dilation=1, ceil_mode=False)\n",
       "    (4): Sequential(\n",
       "      (0): BasicBlock(\n",
       "        (conv1): Conv2d(64, 64, kernel_size=(3, 3), stride=(1, 1), padding=(1, 1), bias=False)\n",
       "        (bn1): BatchNorm2d(64, eps=1e-05, momentum=0.1, affine=True, track_running_stats=True)\n",
       "        (relu): ReLU(inplace)\n",
       "        (conv2): Conv2d(64, 64, kernel_size=(3, 3), stride=(1, 1), padding=(1, 1), bias=False)\n",
       "        (bn2): BatchNorm2d(64, eps=1e-05, momentum=0.1, affine=True, track_running_stats=True)\n",
       "      )\n",
       "      (1): BasicBlock(\n",
       "        (conv1): Conv2d(64, 64, kernel_size=(3, 3), stride=(1, 1), padding=(1, 1), bias=False)\n",
       "        (bn1): BatchNorm2d(64, eps=1e-05, momentum=0.1, affine=True, track_running_stats=True)\n",
       "        (relu): ReLU(inplace)\n",
       "        (conv2): Conv2d(64, 64, kernel_size=(3, 3), stride=(1, 1), padding=(1, 1), bias=False)\n",
       "        (bn2): BatchNorm2d(64, eps=1e-05, momentum=0.1, affine=True, track_running_stats=True)\n",
       "      )\n",
       "      (2): BasicBlock(\n",
       "        (conv1): Conv2d(64, 64, kernel_size=(3, 3), stride=(1, 1), padding=(1, 1), bias=False)\n",
       "        (bn1): BatchNorm2d(64, eps=1e-05, momentum=0.1, affine=True, track_running_stats=True)\n",
       "        (relu): ReLU(inplace)\n",
       "        (conv2): Conv2d(64, 64, kernel_size=(3, 3), stride=(1, 1), padding=(1, 1), bias=False)\n",
       "        (bn2): BatchNorm2d(64, eps=1e-05, momentum=0.1, affine=True, track_running_stats=True)\n",
       "      )\n",
       "    )\n",
       "    (5): Sequential(\n",
       "      (0): BasicBlock(\n",
       "        (conv1): Conv2d(64, 128, kernel_size=(3, 3), stride=(2, 2), padding=(1, 1), bias=False)\n",
       "        (bn1): BatchNorm2d(64, eps=1e-05, momentum=0.1, affine=True, track_running_stats=True)\n",
       "        (relu): ReLU(inplace)\n",
       "        (conv2): Conv2d(128, 128, kernel_size=(3, 3), stride=(1, 1), padding=(1, 1), bias=False)\n",
       "        (bn2): BatchNorm2d(128, eps=1e-05, momentum=0.1, affine=True, track_running_stats=True)\n",
       "        (downsample): Sequential(\n",
       "          (0): Conv2d(64, 128, kernel_size=(1, 1), stride=(2, 2), bias=False)\n",
       "          (1): BatchNorm2d(128, eps=1e-05, momentum=0.1, affine=True, track_running_stats=True)\n",
       "        )\n",
       "      )\n",
       "      (1): BasicBlock(\n",
       "        (conv1): Conv2d(128, 128, kernel_size=(3, 3), stride=(1, 1), padding=(1, 1), bias=False)\n",
       "        (bn1): BatchNorm2d(128, eps=1e-05, momentum=0.1, affine=True, track_running_stats=True)\n",
       "        (relu): ReLU(inplace)\n",
       "        (conv2): Conv2d(128, 128, kernel_size=(3, 3), stride=(1, 1), padding=(1, 1), bias=False)\n",
       "        (bn2): BatchNorm2d(128, eps=1e-05, momentum=0.1, affine=True, track_running_stats=True)\n",
       "      )\n",
       "      (2): BasicBlock(\n",
       "        (conv1): Conv2d(128, 128, kernel_size=(3, 3), stride=(1, 1), padding=(1, 1), bias=False)\n",
       "        (bn1): BatchNorm2d(128, eps=1e-05, momentum=0.1, affine=True, track_running_stats=True)\n",
       "        (relu): ReLU(inplace)\n",
       "        (conv2): Conv2d(128, 128, kernel_size=(3, 3), stride=(1, 1), padding=(1, 1), bias=False)\n",
       "        (bn2): BatchNorm2d(128, eps=1e-05, momentum=0.1, affine=True, track_running_stats=True)\n",
       "      )\n",
       "      (3): BasicBlock(\n",
       "        (conv1): Conv2d(128, 128, kernel_size=(3, 3), stride=(1, 1), padding=(1, 1), bias=False)\n",
       "        (bn1): BatchNorm2d(128, eps=1e-05, momentum=0.1, affine=True, track_running_stats=True)\n",
       "        (relu): ReLU(inplace)\n",
       "        (conv2): Conv2d(128, 128, kernel_size=(3, 3), stride=(1, 1), padding=(1, 1), bias=False)\n",
       "        (bn2): BatchNorm2d(128, eps=1e-05, momentum=0.1, affine=True, track_running_stats=True)\n",
       "      )\n",
       "    )\n",
       "    (6): Sequential(\n",
       "      (0): BasicBlock(\n",
       "        (conv1): Conv2d(128, 256, kernel_size=(3, 3), stride=(2, 2), padding=(1, 1), bias=False)\n",
       "        (bn1): BatchNorm2d(128, eps=1e-05, momentum=0.1, affine=True, track_running_stats=True)\n",
       "        (relu): ReLU(inplace)\n",
       "        (conv2): Conv2d(256, 256, kernel_size=(3, 3), stride=(1, 1), padding=(1, 1), bias=False)\n",
       "        (bn2): BatchNorm2d(256, eps=1e-05, momentum=0.1, affine=True, track_running_stats=True)\n",
       "        (downsample): Sequential(\n",
       "          (0): Conv2d(128, 256, kernel_size=(1, 1), stride=(2, 2), bias=False)\n",
       "          (1): BatchNorm2d(256, eps=1e-05, momentum=0.1, affine=True, track_running_stats=True)\n",
       "        )\n",
       "      )\n",
       "      (1): BasicBlock(\n",
       "        (conv1): Conv2d(256, 256, kernel_size=(3, 3), stride=(1, 1), padding=(1, 1), bias=False)\n",
       "        (bn1): BatchNorm2d(256, eps=1e-05, momentum=0.1, affine=True, track_running_stats=True)\n",
       "        (relu): ReLU(inplace)\n",
       "        (conv2): Conv2d(256, 256, kernel_size=(3, 3), stride=(1, 1), padding=(1, 1), bias=False)\n",
       "        (bn2): BatchNorm2d(256, eps=1e-05, momentum=0.1, affine=True, track_running_stats=True)\n",
       "      )\n",
       "      (2): BasicBlock(\n",
       "        (conv1): Conv2d(256, 256, kernel_size=(3, 3), stride=(1, 1), padding=(1, 1), bias=False)\n",
       "        (bn1): BatchNorm2d(256, eps=1e-05, momentum=0.1, affine=True, track_running_stats=True)\n",
       "        (relu): ReLU(inplace)\n",
       "        (conv2): Conv2d(256, 256, kernel_size=(3, 3), stride=(1, 1), padding=(1, 1), bias=False)\n",
       "        (bn2): BatchNorm2d(256, eps=1e-05, momentum=0.1, affine=True, track_running_stats=True)\n",
       "      )\n",
       "      (3): BasicBlock(\n",
       "        (conv1): Conv2d(256, 256, kernel_size=(3, 3), stride=(1, 1), padding=(1, 1), bias=False)\n",
       "        (bn1): BatchNorm2d(256, eps=1e-05, momentum=0.1, affine=True, track_running_stats=True)\n",
       "        (relu): ReLU(inplace)\n",
       "        (conv2): Conv2d(256, 256, kernel_size=(3, 3), stride=(1, 1), padding=(1, 1), bias=False)\n",
       "        (bn2): BatchNorm2d(256, eps=1e-05, momentum=0.1, affine=True, track_running_stats=True)\n",
       "      )\n",
       "      (4): BasicBlock(\n",
       "        (conv1): Conv2d(256, 256, kernel_size=(3, 3), stride=(1, 1), padding=(1, 1), bias=False)\n",
       "        (bn1): BatchNorm2d(256, eps=1e-05, momentum=0.1, affine=True, track_running_stats=True)\n",
       "        (relu): ReLU(inplace)\n",
       "        (conv2): Conv2d(256, 256, kernel_size=(3, 3), stride=(1, 1), padding=(1, 1), bias=False)\n",
       "        (bn2): BatchNorm2d(256, eps=1e-05, momentum=0.1, affine=True, track_running_stats=True)\n",
       "      )\n",
       "      (5): BasicBlock(\n",
       "        (conv1): Conv2d(256, 256, kernel_size=(3, 3), stride=(1, 1), padding=(1, 1), bias=False)\n",
       "        (bn1): BatchNorm2d(256, eps=1e-05, momentum=0.1, affine=True, track_running_stats=True)\n",
       "        (relu): ReLU(inplace)\n",
       "        (conv2): Conv2d(256, 256, kernel_size=(3, 3), stride=(1, 1), padding=(1, 1), bias=False)\n",
       "        (bn2): BatchNorm2d(256, eps=1e-05, momentum=0.1, affine=True, track_running_stats=True)\n",
       "      )\n",
       "    )\n",
       "    (7): Sequential(\n",
       "      (0): BasicBlock(\n",
       "        (conv1): Conv2d(256, 512, kernel_size=(3, 3), stride=(2, 2), padding=(1, 1), bias=False)\n",
       "        (bn1): BatchNorm2d(256, eps=1e-05, momentum=0.1, affine=True, track_running_stats=True)\n",
       "        (relu): ReLU(inplace)\n",
       "        (conv2): Conv2d(512, 512, kernel_size=(3, 3), stride=(1, 1), padding=(1, 1), bias=False)\n",
       "        (bn2): BatchNorm2d(512, eps=1e-05, momentum=0.1, affine=True, track_running_stats=True)\n",
       "        (downsample): Sequential(\n",
       "          (0): Conv2d(256, 512, kernel_size=(1, 1), stride=(2, 2), bias=False)\n",
       "          (1): BatchNorm2d(512, eps=1e-05, momentum=0.1, affine=True, track_running_stats=True)\n",
       "        )\n",
       "      )\n",
       "      (1): BasicBlock(\n",
       "        (conv1): Conv2d(512, 512, kernel_size=(3, 3), stride=(1, 1), padding=(1, 1), bias=False)\n",
       "        (bn1): BatchNorm2d(512, eps=1e-05, momentum=0.1, affine=True, track_running_stats=True)\n",
       "        (relu): ReLU(inplace)\n",
       "        (conv2): Conv2d(512, 512, kernel_size=(3, 3), stride=(1, 1), padding=(1, 1), bias=False)\n",
       "        (bn2): BatchNorm2d(512, eps=1e-05, momentum=0.1, affine=True, track_running_stats=True)\n",
       "      )\n",
       "      (2): BasicBlock(\n",
       "        (conv1): Conv2d(512, 512, kernel_size=(3, 3), stride=(1, 1), padding=(1, 1), bias=False)\n",
       "        (bn1): BatchNorm2d(512, eps=1e-05, momentum=0.1, affine=True, track_running_stats=True)\n",
       "        (relu): ReLU(inplace)\n",
       "        (conv2): Conv2d(512, 512, kernel_size=(3, 3), stride=(1, 1), padding=(1, 1), bias=False)\n",
       "        (bn2): BatchNorm2d(512, eps=1e-05, momentum=0.1, affine=True, track_running_stats=True)\n",
       "      )\n",
       "    )\n",
       "    (8): AdaptiveAvgPool2d(output_size=1)\n",
       "    (9): Flatten()\n",
       "  )\n",
       "  (fc1): Sequential(\n",
       "    (0): Linear(in_features=512, out_features=120, bias=True)\n",
       "    (1): BatchNorm1d(120, eps=1e-05, momentum=0.01, affine=True, track_running_stats=True)\n",
       "    (2): LeakyReLU(negative_slope=0.1)\n",
       "  )\n",
       "  (fc2): Sequential(\n",
       "    (0): Linear(in_features=120, out_features=64, bias=True)\n",
       "    (1): BatchNorm1d(64, eps=1e-05, momentum=0.01, affine=True, track_running_stats=True)\n",
       "    (2): LeakyReLU(negative_slope=0.1)\n",
       "  )\n",
       "  (layers): Sequential(\n",
       "    (0): Linear(in_features=64, out_features=2, bias=True)\n",
       "  )\n",
       ")"
      ]
     },
     "execution_count": 599,
     "metadata": {},
     "output_type": "execute_result"
    }
   ],
   "source": [
    "model.eval()"
   ]
  },
  {
   "cell_type": "code",
   "execution_count": 600,
   "metadata": {},
   "outputs": [],
   "source": [
    "img = V(img,requires_grad=True)"
   ]
  },
  {
   "cell_type": "code",
   "execution_count": 601,
   "metadata": {
    "scrolled": false
   },
   "outputs": [
    {
     "name": "stdout",
     "output_type": "stream",
     "text": [
      "CPU times: user 443 ms, sys: 60.7 ms, total: 503 ms\n",
      "Wall time: 261 ms\n"
     ]
    }
   ],
   "source": [
    "%time py = model(img)"
   ]
  },
  {
   "cell_type": "code",
   "execution_count": 602,
   "metadata": {},
   "outputs": [],
   "source": [
    "for o in sfs: \n",
    "    o.remove_forw()"
   ]
  },
  {
   "cell_type": "code",
   "execution_count": 603,
   "metadata": {},
   "outputs": [
    {
     "data": {
      "text/plain": [
       "tensor([-6.9704, -0.0009], grad_fn=<SelectBackward>)"
      ]
     },
     "execution_count": 603,
     "metadata": {},
     "output_type": "execute_result"
    }
   ],
   "source": [
    "py[0]"
   ]
  },
  {
   "cell_type": "code",
   "execution_count": 604,
   "metadata": {},
   "outputs": [
    {
     "data": {
      "text/plain": [
       "array([0.00094, 0.99906], dtype=float32)"
      ]
     },
     "execution_count": 604,
     "metadata": {},
     "output_type": "execute_result"
    }
   ],
   "source": [
    "(np.exp(to_np(py)[0]))"
   ]
  },
  {
   "cell_type": "code",
   "execution_count": 605,
   "metadata": {},
   "outputs": [],
   "source": [
    "index = np.argmax(np.exp(to_np(py)))"
   ]
  },
  {
   "cell_type": "code",
   "execution_count": 606,
   "metadata": {},
   "outputs": [],
   "source": [
    "onehot = np.zeros((1, py.size()[-1]), dtype = np.float32)"
   ]
  },
  {
   "cell_type": "code",
   "execution_count": 607,
   "metadata": {},
   "outputs": [],
   "source": [
    "onehot[0][index] = 1"
   ]
  },
  {
   "cell_type": "code",
   "execution_count": 608,
   "metadata": {},
   "outputs": [],
   "source": [
    "one_hot = torch.from_numpy(onehot)"
   ]
  },
  {
   "cell_type": "code",
   "execution_count": 609,
   "metadata": {},
   "outputs": [
    {
     "data": {
      "text/plain": [
       "tensor([[0., 1.]])"
      ]
     },
     "execution_count": 609,
     "metadata": {},
     "output_type": "execute_result"
    }
   ],
   "source": [
    "one_hot"
   ]
  },
  {
   "cell_type": "code",
   "execution_count": 610,
   "metadata": {},
   "outputs": [],
   "source": [
    "(py[0][1]).backward(retain_graph=True)"
   ]
  },
  {
   "cell_type": "code",
   "execution_count": 611,
   "metadata": {
    "scrolled": true
   },
   "outputs": [],
   "source": [
    "for i in sfs:\n",
    "    #print(i.grad_input)\n",
    "    #k = i.grad_input[0]\n",
    "    k = i.grad_input"
   ]
  },
  {
   "cell_type": "code",
   "execution_count": 612,
   "metadata": {},
   "outputs": [],
   "source": [
    "for o in sfs: \n",
    "    o.remove_backw()"
   ]
  },
  {
   "cell_type": "code",
   "execution_count": 613,
   "metadata": {},
   "outputs": [],
   "source": [
    "weights = np.mean(to_np(k[1]), axis=(2,3))[0,:]"
   ]
  },
  {
   "cell_type": "code",
   "execution_count": 614,
   "metadata": {},
   "outputs": [
    {
     "name": "stdout",
     "output_type": "stream",
     "text": [
      "torch.Size([1, 512, 7, 7])\n"
     ]
    }
   ],
   "source": [
    "for i in sfs:\n",
    "    target = i.features[0]\n",
    "    print(i.features.shape)"
   ]
  },
  {
   "cell_type": "code",
   "execution_count": 615,
   "metadata": {},
   "outputs": [],
   "source": [
    "cam = np.zeros(target.shape[1 : ], dtype = np.float32)"
   ]
  },
  {
   "cell_type": "code",
   "execution_count": 616,
   "metadata": {},
   "outputs": [
    {
     "data": {
      "text/plain": [
       "(7, 7)"
      ]
     },
     "execution_count": 616,
     "metadata": {},
     "output_type": "execute_result"
    }
   ],
   "source": [
    "cam.shape"
   ]
  },
  {
   "cell_type": "code",
   "execution_count": 617,
   "metadata": {},
   "outputs": [],
   "source": [
    "weights = to_np(weights.squeeze())"
   ]
  },
  {
   "cell_type": "code",
   "execution_count": 618,
   "metadata": {},
   "outputs": [],
   "source": [
    "for i, w in enumerate(weights):\n",
    "    cam += w * to_np(target[i, :, :])"
   ]
  },
  {
   "cell_type": "code",
   "execution_count": 619,
   "metadata": {},
   "outputs": [
    {
     "data": {
      "text/plain": [
       "array([[0.00005, 0.00018, 0.00045, 0.00068, 0.00056, 0.00049, 0.00028],\n",
       "       [0.00046, 0.00089, 0.00117, 0.00125, 0.0011 , 0.00073, 0.00036],\n",
       "       [0.00046, 0.00103, 0.00135, 0.00137, 0.00117, 0.00075, 0.00039],\n",
       "       [0.00029, 0.00082, 0.00097, 0.00109, 0.00087, 0.00071, 0.00036],\n",
       "       [0.00022, 0.00054, 0.00059, 0.00078, 0.0007 , 0.00056, 0.00038],\n",
       "       [0.00028, 0.00055, 0.00044, 0.00058, 0.0006 , 0.00055, 0.00016],\n",
       "       [0.00023, 0.00042, 0.00045, 0.00045, 0.00044, 0.00038, 0.00014]], dtype=float32)"
      ]
     },
     "execution_count": 619,
     "metadata": {},
     "output_type": "execute_result"
    }
   ],
   "source": [
    "cam"
   ]
  },
  {
   "cell_type": "code",
   "execution_count": 620,
   "metadata": {},
   "outputs": [],
   "source": [
    "#cam = np.maximum(cam, 0)"
   ]
  },
  {
   "cell_type": "code",
   "execution_count": 621,
   "metadata": {
    "scrolled": true
   },
   "outputs": [
    {
     "data": {
      "text/plain": [
       "array([[0.00005, 0.00018, 0.00045, 0.00068, 0.00056, 0.00049, 0.00028],\n",
       "       [0.00046, 0.00089, 0.00117, 0.00125, 0.0011 , 0.00073, 0.00036],\n",
       "       [0.00046, 0.00103, 0.00135, 0.00137, 0.00117, 0.00075, 0.00039],\n",
       "       [0.00029, 0.00082, 0.00097, 0.00109, 0.00087, 0.00071, 0.00036],\n",
       "       [0.00022, 0.00054, 0.00059, 0.00078, 0.0007 , 0.00056, 0.00038],\n",
       "       [0.00028, 0.00055, 0.00044, 0.00058, 0.0006 , 0.00055, 0.00016],\n",
       "       [0.00023, 0.00042, 0.00045, 0.00045, 0.00044, 0.00038, 0.00014]], dtype=float32)"
      ]
     },
     "execution_count": 621,
     "metadata": {},
     "output_type": "execute_result"
    }
   ],
   "source": [
    "cam"
   ]
  },
  {
   "cell_type": "code",
   "execution_count": 593,
   "metadata": {},
   "outputs": [],
   "source": [
    "cam = F.relu(T(cam))"
   ]
  },
  {
   "cell_type": "code",
   "execution_count": 586,
   "metadata": {},
   "outputs": [
    {
     "ename": "TypeError",
     "evalue": "relu(): argument 'input' (position 1) must be Tensor, not tuple",
     "output_type": "error",
     "traceback": [
      "\u001b[0;31m---------------------------------------------------------------------------\u001b[0m",
      "\u001b[0;31mTypeError\u001b[0m                                 Traceback (most recent call last)",
      "\u001b[0;32m<ipython-input-586-01a5968ced28>\u001b[0m in \u001b[0;36m<module>\u001b[0;34m()\u001b[0m\n\u001b[1;32m      1\u001b[0m \u001b[0;31m#++\u001b[0m\u001b[0;34m\u001b[0m\u001b[0;34m\u001b[0m\u001b[0m\n\u001b[0;32m----> 2\u001b[0;31m \u001b[0mweights\u001b[0m \u001b[0;34m=\u001b[0m \u001b[0mF\u001b[0m\u001b[0;34m.\u001b[0m\u001b[0mrelu\u001b[0m\u001b[0;34m(\u001b[0m\u001b[0mk\u001b[0m\u001b[0;34m)\u001b[0m\u001b[0;34m\u001b[0m\u001b[0m\n\u001b[0m\u001b[1;32m      3\u001b[0m \u001b[0mplus\u001b[0m \u001b[0;34m=\u001b[0m \u001b[0mk\u001b[0m\u001b[0;34m*\u001b[0m\u001b[0mweights\u001b[0m\u001b[0;34m\u001b[0m\u001b[0m\n\u001b[1;32m      4\u001b[0m \u001b[0mweights\u001b[0m \u001b[0;34m=\u001b[0m \u001b[0mtorch\u001b[0m\u001b[0;34m.\u001b[0m\u001b[0msum\u001b[0m\u001b[0;34m(\u001b[0m\u001b[0mplus\u001b[0m\u001b[0;34m,\u001b[0m \u001b[0;34m(\u001b[0m\u001b[0;36m2\u001b[0m\u001b[0;34m,\u001b[0m\u001b[0;36m3\u001b[0m\u001b[0;34m)\u001b[0m\u001b[0;34m)\u001b[0m\u001b[0;34m.\u001b[0m\u001b[0mshape\u001b[0m\u001b[0;34m\u001b[0m\u001b[0m\n",
      "\u001b[0;32m~/anaconda3/envs/fastai-cpu/lib/python3.6/site-packages/torch/nn/functional.py\u001b[0m in \u001b[0;36mrelu\u001b[0;34m(input, inplace)\u001b[0m\n\u001b[1;32m    641\u001b[0m     \u001b[0;32mif\u001b[0m \u001b[0minplace\u001b[0m\u001b[0;34m:\u001b[0m\u001b[0;34m\u001b[0m\u001b[0m\n\u001b[1;32m    642\u001b[0m         \u001b[0;32mreturn\u001b[0m \u001b[0mtorch\u001b[0m\u001b[0;34m.\u001b[0m\u001b[0mrelu_\u001b[0m\u001b[0;34m(\u001b[0m\u001b[0minput\u001b[0m\u001b[0;34m)\u001b[0m\u001b[0;34m\u001b[0m\u001b[0m\n\u001b[0;32m--> 643\u001b[0;31m     \u001b[0;32mreturn\u001b[0m \u001b[0mtorch\u001b[0m\u001b[0;34m.\u001b[0m\u001b[0mrelu\u001b[0m\u001b[0;34m(\u001b[0m\u001b[0minput\u001b[0m\u001b[0;34m)\u001b[0m\u001b[0;34m\u001b[0m\u001b[0m\n\u001b[0m\u001b[1;32m    644\u001b[0m \u001b[0;34m\u001b[0m\u001b[0m\n\u001b[1;32m    645\u001b[0m \u001b[0;34m\u001b[0m\u001b[0m\n",
      "\u001b[0;31mTypeError\u001b[0m: relu(): argument 'input' (position 1) must be Tensor, not tuple"
     ]
    }
   ],
   "source": [
    "#++\n",
    "weights = F.relu(k)\n",
    "plus = k*weights\n",
    "weights = torch.sum(plus, (2,3)).shape\n"
   ]
  },
  {
   "cell_type": "code",
   "execution_count": 622,
   "metadata": {},
   "outputs": [],
   "source": [
    "cam = to_np(cam)"
   ]
  },
  {
   "cell_type": "code",
   "execution_count": 623,
   "metadata": {},
   "outputs": [],
   "source": [
    "cam = cam - np.min(cam)\n",
    "cam = cam / np.max(cam)"
   ]
  },
  {
   "cell_type": "code",
   "execution_count": 624,
   "metadata": {},
   "outputs": [],
   "source": [
    "import skimage.transform"
   ]
  },
  {
   "cell_type": "code",
   "execution_count": 634,
   "metadata": {
    "scrolled": false
   },
   "outputs": [
    {
     "name": "stderr",
     "output_type": "stream",
     "text": [
      "/Users/macbookpro/anaconda3/envs/fastai-cpu/lib/python3.6/site-packages/skimage/transform/_warps.py:110: UserWarning: Anti-aliasing will be enabled by default in skimage 0.15 to avoid aliasing artifacts when down-sampling images.\n",
      "  warn(\"Anti-aliasing will be enabled by default in skimage 0.15 to \"\n"
     ]
    },
    {
     "data": {
      "image/png": "[encoded data removed]",
      "text/plain": [
       "<Figure size 432x288 with 1 Axes>"
      ]
     },
     "metadata": {},
     "output_type": "display_data"
    }
   ],
   "source": [
    "plt.imshow(to_np(img[0,0]))\n",
    "plt.imshow(skimage.transform.resize(cam, (224,224), mode='constant'),  alpha=0.5, cmap='rainbow');"
   ]
  },
  {
   "cell_type": "code",
   "execution_count": 3009,
   "metadata": {},
   "outputs": [
    {
     "ename": "AttributeError",
     "evalue": "'SaveFeatures' object has no attribute 'feat'",
     "output_type": "error",
     "traceback": [
      "\u001b[0;31m---------------------------------------------------------------------------\u001b[0m",
      "\u001b[0;31mAttributeError\u001b[0m                            Traceback (most recent call last)",
      "\u001b[0;32m<ipython-input-3009-68604dedebbd>\u001b[0m in \u001b[0;36m<module>\u001b[0;34m()\u001b[0m\n\u001b[0;32m----> 1\u001b[0;31m \u001b[0mfeat\u001b[0m \u001b[0;34m=\u001b[0m \u001b[0mto_np\u001b[0m\u001b[0;34m(\u001b[0m\u001b[0msfs\u001b[0m\u001b[0;34m[\u001b[0m\u001b[0;36m0\u001b[0m\u001b[0;34m]\u001b[0m\u001b[0;34m.\u001b[0m\u001b[0mfeat\u001b[0m\u001b[0;34m)\u001b[0m\u001b[0;34m\u001b[0m\u001b[0m\n\u001b[0m\u001b[1;32m      2\u001b[0m \u001b[0mfeat\u001b[0m\u001b[0;34m.\u001b[0m\u001b[0mshape\u001b[0m\u001b[0;34m\u001b[0m\u001b[0m\n",
      "\u001b[0;31mAttributeError\u001b[0m: 'SaveFeatures' object has no attribute 'feat'"
     ]
    }
   ],
   "source": [
    "feat = to_np(sfs[0].feat)\n",
    "feat.shape"
   ]
  },
  {
   "cell_type": "code",
   "execution_count": 913,
   "metadata": {},
   "outputs": [
    {
     "ename": "ValueError",
     "evalue": "shapes (512,3,1,3) and (2,) not aligned: 3 (dim 3) != 2 (dim 0)",
     "output_type": "error",
     "traceback": [
      "\u001b[0;31m---------------------------------------------------------------------------\u001b[0m",
      "\u001b[0;31mValueError\u001b[0m                                Traceback (most recent call last)",
      "\u001b[0;32m<ipython-input-913-8d47d8847965>\u001b[0m in \u001b[0;36m<module>\u001b[0;34m()\u001b[0m\n\u001b[0;32m----> 1\u001b[0;31m \u001b[0mf2\u001b[0m\u001b[0;34m=\u001b[0m\u001b[0mnp\u001b[0m\u001b[0;34m.\u001b[0m\u001b[0mdot\u001b[0m\u001b[0;34m(\u001b[0m\u001b[0mnp\u001b[0m\u001b[0;34m.\u001b[0m\u001b[0mrollaxis\u001b[0m\u001b[0;34m(\u001b[0m\u001b[0mfeat\u001b[0m\u001b[0;34m,\u001b[0m\u001b[0;36m0\u001b[0m\u001b[0;34m,\u001b[0m\u001b[0;36m3\u001b[0m\u001b[0;34m)\u001b[0m\u001b[0;34m,\u001b[0m \u001b[0moutput\u001b[0m\u001b[0;34m)\u001b[0m\u001b[0;34m\u001b[0m\u001b[0m\n\u001b[0m",
      "\u001b[0;31mValueError\u001b[0m: shapes (512,3,1,3) and (2,) not aligned: 3 (dim 3) != 2 (dim 0)"
     ]
    }
   ],
   "source": [
    "f2=np.dot(np.rollaxis(feat,0,3), output)"
   ]
  },
  {
   "cell_type": "code",
   "execution_count": null,
   "metadata": {},
   "outputs": [],
   "source": []
  },
  {
   "cell_type": "code",
   "execution_count": null,
   "metadata": {},
   "outputs": [],
   "source": []
  },
  {
   "cell_type": "code",
   "execution_count": null,
   "metadata": {},
   "outputs": [],
   "source": []
  },
  {
   "cell_type": "code",
   "execution_count": null,
   "metadata": {},
   "outputs": [],
   "source": []
  },
  {
   "cell_type": "code",
   "execution_count": 318,
   "metadata": {},
   "outputs": [],
   "source": [
    "learner.save('test_sf_2d')"
   ]
  },
  {
   "cell_type": "code",
   "execution_count": 239,
   "metadata": {},
   "outputs": [
    {
     "ename": "RuntimeError",
     "evalue": "expected stride to be a single integer value or a list of 3 values to match the convolution dimensions, but got stride=[1, 1]",
     "output_type": "error",
     "traceback": [
      "\u001b[0;31m---------------------------------------------------------------------------\u001b[0m",
      "\u001b[0;31mRuntimeError\u001b[0m                              Traceback (most recent call last)",
      "\u001b[0;32m<ipython-input-239-8e0a99c5ccbd>\u001b[0m in \u001b[0;36m<module>\u001b[0;34m()\u001b[0m\n\u001b[0;32m----> 1\u001b[0;31m \u001b[0mpred\u001b[0m \u001b[0;34m=\u001b[0m \u001b[0mlearner\u001b[0m\u001b[0;34m.\u001b[0m\u001b[0mpredict\u001b[0m\u001b[0;34m(\u001b[0m\u001b[0mis_test\u001b[0m\u001b[0;34m=\u001b[0m\u001b[0;32mTrue\u001b[0m\u001b[0;34m)\u001b[0m\u001b[0;34m\u001b[0m\u001b[0m\n\u001b[0m\u001b[1;32m      2\u001b[0m \u001b[0mpred\u001b[0m\u001b[0;34m\u001b[0m\u001b[0m\n",
      "\u001b[0;32m~/Desktop/PPMI/PPMI/fastai/learner.py\u001b[0m in \u001b[0;36mpredict\u001b[0;34m(self, is_test, use_swa)\u001b[0m\n\u001b[1;32m    355\u001b[0m         \u001b[0mdl\u001b[0m \u001b[0;34m=\u001b[0m \u001b[0mself\u001b[0m\u001b[0;34m.\u001b[0m\u001b[0mdata\u001b[0m\u001b[0;34m.\u001b[0m\u001b[0mtest_dl\u001b[0m \u001b[0;32mif\u001b[0m \u001b[0mis_test\u001b[0m \u001b[0;32melse\u001b[0m \u001b[0mself\u001b[0m\u001b[0;34m.\u001b[0m\u001b[0mdata\u001b[0m\u001b[0;34m.\u001b[0m\u001b[0mval_dl\u001b[0m\u001b[0;34m\u001b[0m\u001b[0m\n\u001b[1;32m    356\u001b[0m         \u001b[0mm\u001b[0m \u001b[0;34m=\u001b[0m \u001b[0mself\u001b[0m\u001b[0;34m.\u001b[0m\u001b[0mswa_model\u001b[0m \u001b[0;32mif\u001b[0m \u001b[0muse_swa\u001b[0m \u001b[0;32melse\u001b[0m \u001b[0mself\u001b[0m\u001b[0;34m.\u001b[0m\u001b[0mmodel\u001b[0m\u001b[0;34m\u001b[0m\u001b[0m\n\u001b[0;32m--> 357\u001b[0;31m         \u001b[0;32mreturn\u001b[0m \u001b[0mpredict\u001b[0m\u001b[0;34m(\u001b[0m\u001b[0mm\u001b[0m\u001b[0;34m,\u001b[0m \u001b[0mdl\u001b[0m\u001b[0;34m)\u001b[0m\u001b[0;34m\u001b[0m\u001b[0m\n\u001b[0m\u001b[1;32m    358\u001b[0m \u001b[0;34m\u001b[0m\u001b[0m\n\u001b[1;32m    359\u001b[0m     \u001b[0;32mdef\u001b[0m \u001b[0mpredict_with_targs\u001b[0m\u001b[0;34m(\u001b[0m\u001b[0mself\u001b[0m\u001b[0;34m,\u001b[0m \u001b[0mis_test\u001b[0m\u001b[0;34m=\u001b[0m\u001b[0;32mFalse\u001b[0m\u001b[0;34m,\u001b[0m \u001b[0muse_swa\u001b[0m\u001b[0;34m=\u001b[0m\u001b[0;32mFalse\u001b[0m\u001b[0;34m)\u001b[0m\u001b[0;34m:\u001b[0m\u001b[0;34m\u001b[0m\u001b[0m\n",
      "\u001b[0;32m~/Desktop/PPMI/PPMI/fastai/model.py\u001b[0m in \u001b[0;36mpredict\u001b[0;34m(m, dl)\u001b[0m\n\u001b[1;32m    232\u001b[0m \u001b[0;34m\u001b[0m\u001b[0m\n\u001b[1;32m    233\u001b[0m \u001b[0;32mdef\u001b[0m \u001b[0mpredict\u001b[0m\u001b[0;34m(\u001b[0m\u001b[0mm\u001b[0m\u001b[0;34m,\u001b[0m \u001b[0mdl\u001b[0m\u001b[0;34m)\u001b[0m\u001b[0;34m:\u001b[0m\u001b[0;34m\u001b[0m\u001b[0m\n\u001b[0;32m--> 234\u001b[0;31m     \u001b[0mpreda\u001b[0m\u001b[0;34m,\u001b[0m\u001b[0m_\u001b[0m \u001b[0;34m=\u001b[0m \u001b[0mpredict_with_targs_\u001b[0m\u001b[0;34m(\u001b[0m\u001b[0mm\u001b[0m\u001b[0;34m,\u001b[0m \u001b[0mdl\u001b[0m\u001b[0;34m)\u001b[0m\u001b[0;34m\u001b[0m\u001b[0m\n\u001b[0m\u001b[1;32m    235\u001b[0m     \u001b[0;32mreturn\u001b[0m \u001b[0mnp\u001b[0m\u001b[0;34m.\u001b[0m\u001b[0mconcatenate\u001b[0m\u001b[0;34m(\u001b[0m\u001b[0mpreda\u001b[0m\u001b[0;34m)\u001b[0m\u001b[0;34m\u001b[0m\u001b[0m\n\u001b[1;32m    236\u001b[0m \u001b[0;34m\u001b[0m\u001b[0m\n",
      "\u001b[0;32m~/Desktop/PPMI/PPMI/fastai/model.py\u001b[0m in \u001b[0;36mpredict_with_targs_\u001b[0;34m(m, dl)\u001b[0m\n\u001b[1;32m    244\u001b[0m     \u001b[0;32mif\u001b[0m \u001b[0mhasattr\u001b[0m\u001b[0;34m(\u001b[0m\u001b[0mm\u001b[0m\u001b[0;34m,\u001b[0m \u001b[0;34m'reset'\u001b[0m\u001b[0;34m)\u001b[0m\u001b[0;34m:\u001b[0m \u001b[0mm\u001b[0m\u001b[0;34m.\u001b[0m\u001b[0mreset\u001b[0m\u001b[0;34m(\u001b[0m\u001b[0;34m)\u001b[0m\u001b[0;34m\u001b[0m\u001b[0m\n\u001b[1;32m    245\u001b[0m     \u001b[0mres\u001b[0m \u001b[0;34m=\u001b[0m \u001b[0;34m[\u001b[0m\u001b[0;34m]\u001b[0m\u001b[0;34m\u001b[0m\u001b[0m\n\u001b[0;32m--> 246\u001b[0;31m     \u001b[0;32mfor\u001b[0m \u001b[0;34m*\u001b[0m\u001b[0mx\u001b[0m\u001b[0;34m,\u001b[0m\u001b[0my\u001b[0m \u001b[0;32min\u001b[0m \u001b[0miter\u001b[0m\u001b[0;34m(\u001b[0m\u001b[0mdl\u001b[0m\u001b[0;34m)\u001b[0m\u001b[0;34m:\u001b[0m \u001b[0mres\u001b[0m\u001b[0;34m.\u001b[0m\u001b[0mappend\u001b[0m\u001b[0;34m(\u001b[0m\u001b[0;34m[\u001b[0m\u001b[0mget_prediction\u001b[0m\u001b[0;34m(\u001b[0m\u001b[0mto_np\u001b[0m\u001b[0;34m(\u001b[0m\u001b[0mm\u001b[0m\u001b[0;34m(\u001b[0m\u001b[0;34m*\u001b[0m\u001b[0mVV\u001b[0m\u001b[0;34m(\u001b[0m\u001b[0mx\u001b[0m\u001b[0;34m)\u001b[0m\u001b[0;34m)\u001b[0m\u001b[0;34m)\u001b[0m\u001b[0;34m)\u001b[0m\u001b[0;34m,\u001b[0m\u001b[0mto_np\u001b[0m\u001b[0;34m(\u001b[0m\u001b[0my\u001b[0m\u001b[0;34m)\u001b[0m\u001b[0;34m]\u001b[0m\u001b[0;34m)\u001b[0m\u001b[0;34m\u001b[0m\u001b[0m\n\u001b[0m\u001b[1;32m    247\u001b[0m     \u001b[0;32mreturn\u001b[0m \u001b[0mzip\u001b[0m\u001b[0;34m(\u001b[0m\u001b[0;34m*\u001b[0m\u001b[0mres\u001b[0m\u001b[0;34m)\u001b[0m\u001b[0;34m\u001b[0m\u001b[0m\n\u001b[1;32m    248\u001b[0m \u001b[0;34m\u001b[0m\u001b[0m\n",
      "\u001b[0;32m~/anaconda3/envs/fastai-cpu/lib/python3.6/site-packages/torch/nn/modules/module.py\u001b[0m in \u001b[0;36m__call__\u001b[0;34m(self, *input, **kwargs)\u001b[0m\n\u001b[1;32m    489\u001b[0m             \u001b[0mresult\u001b[0m \u001b[0;34m=\u001b[0m \u001b[0mself\u001b[0m\u001b[0;34m.\u001b[0m\u001b[0m_slow_forward\u001b[0m\u001b[0;34m(\u001b[0m\u001b[0;34m*\u001b[0m\u001b[0minput\u001b[0m\u001b[0;34m,\u001b[0m \u001b[0;34m**\u001b[0m\u001b[0mkwargs\u001b[0m\u001b[0;34m)\u001b[0m\u001b[0;34m\u001b[0m\u001b[0m\n\u001b[1;32m    490\u001b[0m         \u001b[0;32melse\u001b[0m\u001b[0;34m:\u001b[0m\u001b[0;34m\u001b[0m\u001b[0m\n\u001b[0;32m--> 491\u001b[0;31m             \u001b[0mresult\u001b[0m \u001b[0;34m=\u001b[0m \u001b[0mself\u001b[0m\u001b[0;34m.\u001b[0m\u001b[0mforward\u001b[0m\u001b[0;34m(\u001b[0m\u001b[0;34m*\u001b[0m\u001b[0minput\u001b[0m\u001b[0;34m,\u001b[0m \u001b[0;34m**\u001b[0m\u001b[0mkwargs\u001b[0m\u001b[0;34m)\u001b[0m\u001b[0;34m\u001b[0m\u001b[0m\n\u001b[0m\u001b[1;32m    492\u001b[0m         \u001b[0;32mfor\u001b[0m \u001b[0mhook\u001b[0m \u001b[0;32min\u001b[0m \u001b[0mself\u001b[0m\u001b[0;34m.\u001b[0m\u001b[0m_forward_hooks\u001b[0m\u001b[0;34m.\u001b[0m\u001b[0mvalues\u001b[0m\u001b[0;34m(\u001b[0m\u001b[0;34m)\u001b[0m\u001b[0;34m:\u001b[0m\u001b[0;34m\u001b[0m\u001b[0m\n\u001b[1;32m    493\u001b[0m             \u001b[0mhook_result\u001b[0m \u001b[0;34m=\u001b[0m \u001b[0mhook\u001b[0m\u001b[0;34m(\u001b[0m\u001b[0mself\u001b[0m\u001b[0;34m,\u001b[0m \u001b[0minput\u001b[0m\u001b[0;34m,\u001b[0m \u001b[0mresult\u001b[0m\u001b[0;34m)\u001b[0m\u001b[0;34m\u001b[0m\u001b[0m\n",
      "\u001b[0;32m<ipython-input-219-879cdef5673a>\u001b[0m in \u001b[0;36mforward\u001b[0;34m(self, x)\u001b[0m\n\u001b[1;32m     23\u001b[0m     \u001b[0;32mdef\u001b[0m \u001b[0mforward\u001b[0m\u001b[0;34m(\u001b[0m\u001b[0mself\u001b[0m\u001b[0;34m,\u001b[0m \u001b[0mx\u001b[0m\u001b[0;34m)\u001b[0m\u001b[0;34m:\u001b[0m\u001b[0;34m\u001b[0m\u001b[0m\n\u001b[1;32m     24\u001b[0m         \u001b[0mx\u001b[0m \u001b[0;34m=\u001b[0m \u001b[0mx\u001b[0m\u001b[0;34m.\u001b[0m\u001b[0munsqueeze\u001b[0m\u001b[0;34m(\u001b[0m\u001b[0;36m1\u001b[0m\u001b[0;34m)\u001b[0m\u001b[0;34m\u001b[0m\u001b[0m\n\u001b[0;32m---> 25\u001b[0;31m         \u001b[0mx\u001b[0m \u001b[0;34m=\u001b[0m \u001b[0mself\u001b[0m\u001b[0;34m.\u001b[0m\u001b[0mhead_layer\u001b[0m\u001b[0;34m(\u001b[0m\u001b[0mx\u001b[0m\u001b[0;34m)\u001b[0m\u001b[0;34m\u001b[0m\u001b[0m\n\u001b[0m\u001b[1;32m     26\u001b[0m         \u001b[0mx\u001b[0m \u001b[0;34m=\u001b[0m \u001b[0mself\u001b[0m\u001b[0;34m.\u001b[0m\u001b[0mfeatures\u001b[0m\u001b[0;34m(\u001b[0m\u001b[0mx\u001b[0m\u001b[0;34m)\u001b[0m\u001b[0;34m\u001b[0m\u001b[0m\n\u001b[1;32m     27\u001b[0m         \u001b[0mx\u001b[0m \u001b[0;34m=\u001b[0m \u001b[0mnn\u001b[0m\u001b[0;34m.\u001b[0m\u001b[0mAdaptiveAvgPool2d\u001b[0m\u001b[0;34m(\u001b[0m\u001b[0;36m1\u001b[0m\u001b[0;34m)\u001b[0m\u001b[0;34m(\u001b[0m\u001b[0mx\u001b[0m\u001b[0;34m)\u001b[0m\u001b[0;34m\u001b[0m\u001b[0m\n",
      "\u001b[0;32m~/anaconda3/envs/fastai-cpu/lib/python3.6/site-packages/torch/nn/modules/module.py\u001b[0m in \u001b[0;36m__call__\u001b[0;34m(self, *input, **kwargs)\u001b[0m\n\u001b[1;32m    489\u001b[0m             \u001b[0mresult\u001b[0m \u001b[0;34m=\u001b[0m \u001b[0mself\u001b[0m\u001b[0;34m.\u001b[0m\u001b[0m_slow_forward\u001b[0m\u001b[0;34m(\u001b[0m\u001b[0;34m*\u001b[0m\u001b[0minput\u001b[0m\u001b[0;34m,\u001b[0m \u001b[0;34m**\u001b[0m\u001b[0mkwargs\u001b[0m\u001b[0;34m)\u001b[0m\u001b[0;34m\u001b[0m\u001b[0m\n\u001b[1;32m    490\u001b[0m         \u001b[0;32melse\u001b[0m\u001b[0;34m:\u001b[0m\u001b[0;34m\u001b[0m\u001b[0m\n\u001b[0;32m--> 491\u001b[0;31m             \u001b[0mresult\u001b[0m \u001b[0;34m=\u001b[0m \u001b[0mself\u001b[0m\u001b[0;34m.\u001b[0m\u001b[0mforward\u001b[0m\u001b[0;34m(\u001b[0m\u001b[0;34m*\u001b[0m\u001b[0minput\u001b[0m\u001b[0;34m,\u001b[0m \u001b[0;34m**\u001b[0m\u001b[0mkwargs\u001b[0m\u001b[0;34m)\u001b[0m\u001b[0;34m\u001b[0m\u001b[0m\n\u001b[0m\u001b[1;32m    492\u001b[0m         \u001b[0;32mfor\u001b[0m \u001b[0mhook\u001b[0m \u001b[0;32min\u001b[0m \u001b[0mself\u001b[0m\u001b[0;34m.\u001b[0m\u001b[0m_forward_hooks\u001b[0m\u001b[0;34m.\u001b[0m\u001b[0mvalues\u001b[0m\u001b[0;34m(\u001b[0m\u001b[0;34m)\u001b[0m\u001b[0;34m:\u001b[0m\u001b[0;34m\u001b[0m\u001b[0m\n\u001b[1;32m    493\u001b[0m             \u001b[0mhook_result\u001b[0m \u001b[0;34m=\u001b[0m \u001b[0mhook\u001b[0m\u001b[0;34m(\u001b[0m\u001b[0mself\u001b[0m\u001b[0;34m,\u001b[0m \u001b[0minput\u001b[0m\u001b[0;34m,\u001b[0m \u001b[0mresult\u001b[0m\u001b[0;34m)\u001b[0m\u001b[0;34m\u001b[0m\u001b[0m\n",
      "\u001b[0;32m~/anaconda3/envs/fastai-cpu/lib/python3.6/site-packages/torch/nn/modules/container.py\u001b[0m in \u001b[0;36mforward\u001b[0;34m(self, input)\u001b[0m\n\u001b[1;32m     89\u001b[0m     \u001b[0;32mdef\u001b[0m \u001b[0mforward\u001b[0m\u001b[0;34m(\u001b[0m\u001b[0mself\u001b[0m\u001b[0;34m,\u001b[0m \u001b[0minput\u001b[0m\u001b[0;34m)\u001b[0m\u001b[0;34m:\u001b[0m\u001b[0;34m\u001b[0m\u001b[0m\n\u001b[1;32m     90\u001b[0m         \u001b[0;32mfor\u001b[0m \u001b[0mmodule\u001b[0m \u001b[0;32min\u001b[0m \u001b[0mself\u001b[0m\u001b[0;34m.\u001b[0m\u001b[0m_modules\u001b[0m\u001b[0;34m.\u001b[0m\u001b[0mvalues\u001b[0m\u001b[0;34m(\u001b[0m\u001b[0;34m)\u001b[0m\u001b[0;34m:\u001b[0m\u001b[0;34m\u001b[0m\u001b[0m\n\u001b[0;32m---> 91\u001b[0;31m             \u001b[0minput\u001b[0m \u001b[0;34m=\u001b[0m \u001b[0mmodule\u001b[0m\u001b[0;34m(\u001b[0m\u001b[0minput\u001b[0m\u001b[0;34m)\u001b[0m\u001b[0;34m\u001b[0m\u001b[0m\n\u001b[0m\u001b[1;32m     92\u001b[0m         \u001b[0;32mreturn\u001b[0m \u001b[0minput\u001b[0m\u001b[0;34m\u001b[0m\u001b[0m\n\u001b[1;32m     93\u001b[0m \u001b[0;34m\u001b[0m\u001b[0m\n",
      "\u001b[0;32m~/anaconda3/envs/fastai-cpu/lib/python3.6/site-packages/torch/nn/modules/module.py\u001b[0m in \u001b[0;36m__call__\u001b[0;34m(self, *input, **kwargs)\u001b[0m\n\u001b[1;32m    489\u001b[0m             \u001b[0mresult\u001b[0m \u001b[0;34m=\u001b[0m \u001b[0mself\u001b[0m\u001b[0;34m.\u001b[0m\u001b[0m_slow_forward\u001b[0m\u001b[0;34m(\u001b[0m\u001b[0;34m*\u001b[0m\u001b[0minput\u001b[0m\u001b[0;34m,\u001b[0m \u001b[0;34m**\u001b[0m\u001b[0mkwargs\u001b[0m\u001b[0;34m)\u001b[0m\u001b[0;34m\u001b[0m\u001b[0m\n\u001b[1;32m    490\u001b[0m         \u001b[0;32melse\u001b[0m\u001b[0;34m:\u001b[0m\u001b[0;34m\u001b[0m\u001b[0m\n\u001b[0;32m--> 491\u001b[0;31m             \u001b[0mresult\u001b[0m \u001b[0;34m=\u001b[0m \u001b[0mself\u001b[0m\u001b[0;34m.\u001b[0m\u001b[0mforward\u001b[0m\u001b[0;34m(\u001b[0m\u001b[0;34m*\u001b[0m\u001b[0minput\u001b[0m\u001b[0;34m,\u001b[0m \u001b[0;34m**\u001b[0m\u001b[0mkwargs\u001b[0m\u001b[0;34m)\u001b[0m\u001b[0;34m\u001b[0m\u001b[0m\n\u001b[0m\u001b[1;32m    492\u001b[0m         \u001b[0;32mfor\u001b[0m \u001b[0mhook\u001b[0m \u001b[0;32min\u001b[0m \u001b[0mself\u001b[0m\u001b[0;34m.\u001b[0m\u001b[0m_forward_hooks\u001b[0m\u001b[0;34m.\u001b[0m\u001b[0mvalues\u001b[0m\u001b[0;34m(\u001b[0m\u001b[0;34m)\u001b[0m\u001b[0;34m:\u001b[0m\u001b[0;34m\u001b[0m\u001b[0m\n\u001b[1;32m    493\u001b[0m             \u001b[0mhook_result\u001b[0m \u001b[0;34m=\u001b[0m \u001b[0mhook\u001b[0m\u001b[0;34m(\u001b[0m\u001b[0mself\u001b[0m\u001b[0;34m,\u001b[0m \u001b[0minput\u001b[0m\u001b[0;34m,\u001b[0m \u001b[0mresult\u001b[0m\u001b[0;34m)\u001b[0m\u001b[0;34m\u001b[0m\u001b[0m\n",
      "\u001b[0;32m~/anaconda3/envs/fastai-cpu/lib/python3.6/site-packages/torch/nn/modules/conv.py\u001b[0m in \u001b[0;36mforward\u001b[0;34m(self, input)\u001b[0m\n\u001b[1;32m    299\u001b[0m     \u001b[0;32mdef\u001b[0m \u001b[0mforward\u001b[0m\u001b[0;34m(\u001b[0m\u001b[0mself\u001b[0m\u001b[0;34m,\u001b[0m \u001b[0minput\u001b[0m\u001b[0;34m)\u001b[0m\u001b[0;34m:\u001b[0m\u001b[0;34m\u001b[0m\u001b[0m\n\u001b[1;32m    300\u001b[0m         return F.conv2d(input, self.weight, self.bias, self.stride,\n\u001b[0;32m--> 301\u001b[0;31m                         self.padding, self.dilation, self.groups)\n\u001b[0m\u001b[1;32m    302\u001b[0m \u001b[0;34m\u001b[0m\u001b[0m\n\u001b[1;32m    303\u001b[0m \u001b[0;34m\u001b[0m\u001b[0m\n",
      "\u001b[0;31mRuntimeError\u001b[0m: expected stride to be a single integer value or a list of 3 values to match the convolution dimensions, but got stride=[1, 1]"
     ]
    }
   ],
   "source": [
    "pred = learner.predict(is_test=True)\n",
    "pred"
   ]
  },
  {
   "cell_type": "code",
   "execution_count": 238,
   "metadata": {},
   "outputs": [
    {
     "ename": "NameError",
     "evalue": "name 'pred' is not defined",
     "output_type": "error",
     "traceback": [
      "\u001b[0;31m---------------------------------------------------------------------------\u001b[0m",
      "\u001b[0;31mNameError\u001b[0m                                 Traceback (most recent call last)",
      "\u001b[0;32m<ipython-input-238-b7d102653a51>\u001b[0m in \u001b[0;36m<module>\u001b[0;34m()\u001b[0m\n\u001b[1;32m      1\u001b[0m \u001b[0mpredict\u001b[0m\u001b[0;34m=\u001b[0m\u001b[0;34m[\u001b[0m\u001b[0;34m]\u001b[0m\u001b[0;34m\u001b[0m\u001b[0m\n\u001b[0;32m----> 2\u001b[0;31m \u001b[0;32mfor\u001b[0m \u001b[0mi\u001b[0m \u001b[0;32min\u001b[0m \u001b[0mpred\u001b[0m\u001b[0;34m:\u001b[0m\u001b[0;34m\u001b[0m\u001b[0m\n\u001b[0m\u001b[1;32m      3\u001b[0m     \u001b[0;32mif\u001b[0m \u001b[0mi\u001b[0m \u001b[0;34m>=\u001b[0m \u001b[0;36m0.5\u001b[0m\u001b[0;34m:\u001b[0m\u001b[0;34m\u001b[0m\u001b[0m\n\u001b[1;32m      4\u001b[0m         \u001b[0mpredict\u001b[0m\u001b[0;34m.\u001b[0m\u001b[0mappend\u001b[0m\u001b[0;34m(\u001b[0m\u001b[0;36m1\u001b[0m\u001b[0;34m)\u001b[0m\u001b[0;34m\u001b[0m\u001b[0m\n\u001b[1;32m      5\u001b[0m     \u001b[0;32melse\u001b[0m\u001b[0;34m:\u001b[0m\u001b[0;34m\u001b[0m\u001b[0m\n",
      "\u001b[0;31mNameError\u001b[0m: name 'pred' is not defined"
     ]
    }
   ],
   "source": [
    "predict=[]\n",
    "for i in pred:\n",
    "    if i >= 0.5:\n",
    "        predict.append(1)\n",
    "    else:\n",
    "        predict.append(0)"
   ]
  },
  {
   "cell_type": "code",
   "execution_count": 326,
   "metadata": {},
   "outputs": [],
   "source": [
    "fin = ((y_test.reshape(-1))==predict)"
   ]
  },
  {
   "cell_type": "code",
   "execution_count": 327,
   "metadata": {},
   "outputs": [
    {
     "name": "stdout",
     "output_type": "stream",
     "text": [
      "Accuracy\n"
     ]
    },
    {
     "data": {
      "text/plain": [
       "0.9819494584837545"
      ]
     },
     "execution_count": 327,
     "metadata": {},
     "output_type": "execute_result"
    }
   ],
   "source": [
    "print('Accuracy')\n",
    "np.count_nonzero(fin == True) / len(fin)"
   ]
  },
  {
   "cell_type": "code",
   "execution_count": 328,
   "metadata": {
    "scrolled": true
   },
   "outputs": [
    {
     "name": "stdout",
     "output_type": "stream",
     "text": [
      "False negative\n"
     ]
    },
    {
     "data": {
      "text/plain": [
       "0.007220216606498195"
      ]
     },
     "execution_count": 328,
     "metadata": {},
     "output_type": "execute_result"
    }
   ],
   "source": [
    "print('False negative')\n",
    "np.sum((y_test.reshape(-1))>np.array(predict))/len(fin)"
   ]
  },
  {
   "cell_type": "code",
   "execution_count": 329,
   "metadata": {},
   "outputs": [
    {
     "name": "stdout",
     "output_type": "stream",
     "text": [
      "False positive\n"
     ]
    },
    {
     "data": {
      "text/plain": [
       "0.010830324909747292"
      ]
     },
     "execution_count": 329,
     "metadata": {},
     "output_type": "execute_result"
    }
   ],
   "source": [
    "print('False positive')\n",
    "np.sum((y_test.reshape(-1))<np.array(predict))/len(fin)"
   ]
  },
  {
   "cell_type": "code",
   "execution_count": 332,
   "metadata": {
    "scrolled": false
   },
   "outputs": [
    {
     "data": {
      "text/plain": [
       "(array([0.92308, 0.98805]),\n",
       " array([0.88889, 0.992  ]),\n",
       " array([0.90566, 0.99002]),\n",
       " array([ 27, 250]))"
      ]
     },
     "execution_count": 332,
     "metadata": {},
     "output_type": "execute_result"
    }
   ],
   "source": [
    "sklearn.metrics.precision_recall_fscore_support(y_test.reshape(-1), np.array(predict))"
   ]
  },
  {
   "cell_type": "code",
   "execution_count": 304,
   "metadata": {},
   "outputs": [
    {
     "data": {
      "text/plain": [
       "(333,)"
      ]
     },
     "execution_count": 304,
     "metadata": {},
     "output_type": "execute_result"
    }
   ],
   "source": [
    "y_val.reshape(-1).shape"
   ]
  },
  {
   "cell_type": "code",
   "execution_count": null,
   "metadata": {},
   "outputs": [],
   "source": []
  },
  {
   "cell_type": "code",
   "execution_count": null,
   "metadata": {},
   "outputs": [],
   "source": []
  },
  {
   "cell_type": "code",
   "execution_count": null,
   "metadata": {},
   "outputs": [],
   "source": []
  },
  {
   "cell_type": "markdown",
   "metadata": {},
   "source": [
    "### Darknet"
   ]
  },
  {
   "cell_type": "markdown",
   "metadata": {},
   "source": [
    "### Load dataset"
   ]
  },
  {
   "cell_type": "code",
   "execution_count": 43,
   "metadata": {
    "scrolled": true
   },
   "outputs": [],
   "source": [
    "X_train = torch.utils.data.DataLoader(image_array_train, batch_size=32)\n",
    "#param_train = torch.utils.data.DataLoader(param_train, batch_size=4)\n",
    "y_train = torch.utils.data.DataLoader(y_train, batch_size=32)\n",
    "X_val = torch.utils.data.DataLoader(image_array_val, batch_size=32)\n",
    "#param_val = torch.utils.data.DataLoader(param_val, batch_size=4)\n",
    "y_val = torch.utils.data.DataLoader(y_val, batch_size=32)\n",
    "X_test = torch.utils.data.DataLoader(image_array_test, batch_size=32)\n",
    "#param_test = torch.utils.data.DataLoader(param_test, batch_size=4)\n",
    "y_test = torch.utils.data.DataLoader(y_test, batch_size=32)\n",
    "\n",
    "#del(image_array_train,image_array_val,image_array_test)\n",
    "#del(X_train_tmp,X_val_tmp,X_test_tmp,y_train_tmp,y_val_tmp,y_test_tmp,param_train_tmp,param_val_tmp,param_test_tmp)"
   ]
  },
  {
   "cell_type": "code",
   "execution_count": 44,
   "metadata": {},
   "outputs": [],
   "source": [
    "from modresnet import *"
   ]
  },
  {
   "cell_type": "code",
   "execution_count": 576,
   "metadata": {},
   "outputs": [
    {
     "data": {
      "text/plain": [
       "ResNet(\n",
       "  (features): Sequential(\n",
       "    (0): Conv2d(1, 64, kernel_size=(7, 7), stride=(2, 2), padding=(3, 3), bias=False)\n",
       "    (1): BatchNorm2d(64, eps=1e-05, momentum=0.1, affine=True, track_running_stats=True)\n",
       "    (2): ReLU(inplace)\n",
       "    (3): MaxPool2d(kernel_size=3, stride=2, padding=1, dilation=1, ceil_mode=False)\n",
       "    (4): Sequential(\n",
       "      (0): BottleneckFinal(\n",
       "        (conv1): Conv2d(64, 64, kernel_size=(1, 1), stride=(1, 1), bias=False)\n",
       "        (bn1): BatchNorm2d(64, eps=1e-05, momentum=0.1, affine=True, track_running_stats=True)\n",
       "        (conv2): Conv2d(64, 64, kernel_size=(3, 3), stride=(1, 1), padding=(1, 1), bias=False)\n",
       "        (bn2): BatchNorm2d(64, eps=1e-05, momentum=0.1, affine=True, track_running_stats=True)\n",
       "        (conv3): Conv2d(64, 256, kernel_size=(1, 1), stride=(1, 1), bias=False)\n",
       "        (bn3): BatchNorm2d(256, eps=1e-05, momentum=0.1, affine=True, track_running_stats=True)\n",
       "        (relu): ReLU(inplace)\n",
       "        (downsample): Sequential(\n",
       "          (0): Conv2d(64, 256, kernel_size=(1, 1), stride=(1, 1), bias=False)\n",
       "          (1): BatchNorm2d(256, eps=1e-05, momentum=0.1, affine=True, track_running_stats=True)\n",
       "        )\n",
       "      )\n",
       "      (1): BottleneckFinal(\n",
       "        (conv1): Conv2d(256, 64, kernel_size=(1, 1), stride=(1, 1), bias=False)\n",
       "        (bn1): BatchNorm2d(64, eps=1e-05, momentum=0.1, affine=True, track_running_stats=True)\n",
       "        (conv2): Conv2d(64, 64, kernel_size=(3, 3), stride=(1, 1), padding=(1, 1), bias=False)\n",
       "        (bn2): BatchNorm2d(64, eps=1e-05, momentum=0.1, affine=True, track_running_stats=True)\n",
       "        (conv3): Conv2d(64, 256, kernel_size=(1, 1), stride=(1, 1), bias=False)\n",
       "        (bn3): BatchNorm2d(256, eps=1e-05, momentum=0.1, affine=True, track_running_stats=True)\n",
       "        (relu): ReLU(inplace)\n",
       "      )\n",
       "      (2): BottleneckFinal(\n",
       "        (conv1): Conv2d(256, 64, kernel_size=(1, 1), stride=(1, 1), bias=False)\n",
       "        (bn1): BatchNorm2d(64, eps=1e-05, momentum=0.1, affine=True, track_running_stats=True)\n",
       "        (conv2): Conv2d(64, 64, kernel_size=(3, 3), stride=(1, 1), padding=(1, 1), bias=False)\n",
       "        (bn2): BatchNorm2d(64, eps=1e-05, momentum=0.1, affine=True, track_running_stats=True)\n",
       "        (conv3): Conv2d(64, 256, kernel_size=(1, 1), stride=(1, 1), bias=False)\n",
       "        (bn3): BatchNorm2d(256, eps=1e-05, momentum=0.1, affine=True, track_running_stats=True)\n",
       "        (relu): ReLU(inplace)\n",
       "      )\n",
       "    )\n",
       "    (5): Sequential(\n",
       "      (0): BottleneckFinal(\n",
       "        (conv1): Conv2d(256, 128, kernel_size=(1, 1), stride=(1, 1), bias=False)\n",
       "        (bn1): BatchNorm2d(128, eps=1e-05, momentum=0.1, affine=True, track_running_stats=True)\n",
       "        (conv2): Conv2d(128, 128, kernel_size=(3, 3), stride=(2, 2), padding=(1, 1), bias=False)\n",
       "        (bn2): BatchNorm2d(128, eps=1e-05, momentum=0.1, affine=True, track_running_stats=True)\n",
       "        (conv3): Conv2d(128, 512, kernel_size=(1, 1), stride=(1, 1), bias=False)\n",
       "        (bn3): BatchNorm2d(512, eps=1e-05, momentum=0.1, affine=True, track_running_stats=True)\n",
       "        (relu): ReLU(inplace)\n",
       "        (downsample): Sequential(\n",
       "          (0): Conv2d(256, 512, kernel_size=(1, 1), stride=(2, 2), bias=False)\n",
       "          (1): BatchNorm2d(512, eps=1e-05, momentum=0.1, affine=True, track_running_stats=True)\n",
       "        )\n",
       "      )\n",
       "      (1): BottleneckFinal(\n",
       "        (conv1): Conv2d(512, 128, kernel_size=(1, 1), stride=(1, 1), bias=False)\n",
       "        (bn1): BatchNorm2d(128, eps=1e-05, momentum=0.1, affine=True, track_running_stats=True)\n",
       "        (conv2): Conv2d(128, 128, kernel_size=(3, 3), stride=(1, 1), padding=(1, 1), bias=False)\n",
       "        (bn2): BatchNorm2d(128, eps=1e-05, momentum=0.1, affine=True, track_running_stats=True)\n",
       "        (conv3): Conv2d(128, 512, kernel_size=(1, 1), stride=(1, 1), bias=False)\n",
       "        (bn3): BatchNorm2d(512, eps=1e-05, momentum=0.1, affine=True, track_running_stats=True)\n",
       "        (relu): ReLU(inplace)\n",
       "      )\n",
       "      (2): BottleneckFinal(\n",
       "        (conv1): Conv2d(512, 128, kernel_size=(1, 1), stride=(1, 1), bias=False)\n",
       "        (bn1): BatchNorm2d(128, eps=1e-05, momentum=0.1, affine=True, track_running_stats=True)\n",
       "        (conv2): Conv2d(128, 128, kernel_size=(3, 3), stride=(1, 1), padding=(1, 1), bias=False)\n",
       "        (bn2): BatchNorm2d(128, eps=1e-05, momentum=0.1, affine=True, track_running_stats=True)\n",
       "        (conv3): Conv2d(128, 512, kernel_size=(1, 1), stride=(1, 1), bias=False)\n",
       "        (bn3): BatchNorm2d(512, eps=1e-05, momentum=0.1, affine=True, track_running_stats=True)\n",
       "        (relu): ReLU(inplace)\n",
       "      )\n",
       "      (3): BottleneckFinal(\n",
       "        (conv1): Conv2d(512, 128, kernel_size=(1, 1), stride=(1, 1), bias=False)\n",
       "        (bn1): BatchNorm2d(128, eps=1e-05, momentum=0.1, affine=True, track_running_stats=True)\n",
       "        (conv2): Conv2d(128, 128, kernel_size=(3, 3), stride=(1, 1), padding=(1, 1), bias=False)\n",
       "        (bn2): BatchNorm2d(128, eps=1e-05, momentum=0.1, affine=True, track_running_stats=True)\n",
       "        (conv3): Conv2d(128, 512, kernel_size=(1, 1), stride=(1, 1), bias=False)\n",
       "        (bn3): BatchNorm2d(512, eps=1e-05, momentum=0.1, affine=True, track_running_stats=True)\n",
       "        (relu): ReLU(inplace)\n",
       "      )\n",
       "    )\n",
       "    (6): Sequential(\n",
       "      (0): BottleneckFinal(\n",
       "        (conv1): Conv2d(512, 256, kernel_size=(1, 1), stride=(1, 1), bias=False)\n",
       "        (bn1): BatchNorm2d(256, eps=1e-05, momentum=0.1, affine=True, track_running_stats=True)\n",
       "        (conv2): Conv2d(256, 256, kernel_size=(3, 3), stride=(2, 2), padding=(1, 1), bias=False)\n",
       "        (bn2): BatchNorm2d(256, eps=1e-05, momentum=0.1, affine=True, track_running_stats=True)\n",
       "        (conv3): Conv2d(256, 1024, kernel_size=(1, 1), stride=(1, 1), bias=False)\n",
       "        (bn3): BatchNorm2d(1024, eps=1e-05, momentum=0.1, affine=True, track_running_stats=True)\n",
       "        (relu): ReLU(inplace)\n",
       "        (downsample): Sequential(\n",
       "          (0): Conv2d(512, 1024, kernel_size=(1, 1), stride=(2, 2), bias=False)\n",
       "          (1): BatchNorm2d(1024, eps=1e-05, momentum=0.1, affine=True, track_running_stats=True)\n",
       "        )\n",
       "      )\n",
       "      (1): BottleneckFinal(\n",
       "        (conv1): Conv2d(1024, 256, kernel_size=(1, 1), stride=(1, 1), bias=False)\n",
       "        (bn1): BatchNorm2d(256, eps=1e-05, momentum=0.1, affine=True, track_running_stats=True)\n",
       "        (conv2): Conv2d(256, 256, kernel_size=(3, 3), stride=(1, 1), padding=(1, 1), bias=False)\n",
       "        (bn2): BatchNorm2d(256, eps=1e-05, momentum=0.1, affine=True, track_running_stats=True)\n",
       "        (conv3): Conv2d(256, 1024, kernel_size=(1, 1), stride=(1, 1), bias=False)\n",
       "        (bn3): BatchNorm2d(1024, eps=1e-05, momentum=0.1, affine=True, track_running_stats=True)\n",
       "        (relu): ReLU(inplace)\n",
       "      )\n",
       "      (2): BottleneckFinal(\n",
       "        (conv1): Conv2d(1024, 256, kernel_size=(1, 1), stride=(1, 1), bias=False)\n",
       "        (bn1): BatchNorm2d(256, eps=1e-05, momentum=0.1, affine=True, track_running_stats=True)\n",
       "        (conv2): Conv2d(256, 256, kernel_size=(3, 3), stride=(1, 1), padding=(1, 1), bias=False)\n",
       "        (bn2): BatchNorm2d(256, eps=1e-05, momentum=0.1, affine=True, track_running_stats=True)\n",
       "        (conv3): Conv2d(256, 1024, kernel_size=(1, 1), stride=(1, 1), bias=False)\n",
       "        (bn3): BatchNorm2d(1024, eps=1e-05, momentum=0.1, affine=True, track_running_stats=True)\n",
       "        (relu): ReLU(inplace)\n",
       "      )\n",
       "      (3): BottleneckFinal(\n",
       "        (conv1): Conv2d(1024, 256, kernel_size=(1, 1), stride=(1, 1), bias=False)\n",
       "        (bn1): BatchNorm2d(256, eps=1e-05, momentum=0.1, affine=True, track_running_stats=True)\n",
       "        (conv2): Conv2d(256, 256, kernel_size=(3, 3), stride=(1, 1), padding=(1, 1), bias=False)\n",
       "        (bn2): BatchNorm2d(256, eps=1e-05, momentum=0.1, affine=True, track_running_stats=True)\n",
       "        (conv3): Conv2d(256, 1024, kernel_size=(1, 1), stride=(1, 1), bias=False)\n",
       "        (bn3): BatchNorm2d(1024, eps=1e-05, momentum=0.1, affine=True, track_running_stats=True)\n",
       "        (relu): ReLU(inplace)\n",
       "      )\n",
       "      (4): BottleneckFinal(\n",
       "        (conv1): Conv2d(1024, 256, kernel_size=(1, 1), stride=(1, 1), bias=False)\n",
       "        (bn1): BatchNorm2d(256, eps=1e-05, momentum=0.1, affine=True, track_running_stats=True)\n",
       "        (conv2): Conv2d(256, 256, kernel_size=(3, 3), stride=(1, 1), padding=(1, 1), bias=False)\n",
       "        (bn2): BatchNorm2d(256, eps=1e-05, momentum=0.1, affine=True, track_running_stats=True)\n",
       "        (conv3): Conv2d(256, 1024, kernel_size=(1, 1), stride=(1, 1), bias=False)\n",
       "        (bn3): BatchNorm2d(1024, eps=1e-05, momentum=0.1, affine=True, track_running_stats=True)\n",
       "        (relu): ReLU(inplace)\n",
       "      )\n",
       "      (5): BottleneckFinal(\n",
       "        (conv1): Conv2d(1024, 256, kernel_size=(1, 1), stride=(1, 1), bias=False)\n",
       "        (bn1): BatchNorm2d(256, eps=1e-05, momentum=0.1, affine=True, track_running_stats=True)\n",
       "        (conv2): Conv2d(256, 256, kernel_size=(3, 3), stride=(1, 1), padding=(1, 1), bias=False)\n",
       "        (bn2): BatchNorm2d(256, eps=1e-05, momentum=0.1, affine=True, track_running_stats=True)\n",
       "        (conv3): Conv2d(256, 1024, kernel_size=(1, 1), stride=(1, 1), bias=False)\n",
       "        (bn3): BatchNorm2d(1024, eps=1e-05, momentum=0.1, affine=True, track_running_stats=True)\n",
       "        (relu): ReLU(inplace)\n",
       "      )\n",
       "    )\n",
       "    (7): Sequential(\n",
       "      (0): BottleneckFinal(\n",
       "        (conv1): Conv2d(1024, 512, kernel_size=(1, 1), stride=(1, 1), bias=False)\n",
       "        (bn1): BatchNorm2d(512, eps=1e-05, momentum=0.1, affine=True, track_running_stats=True)\n",
       "        (conv2): Conv2d(512, 512, kernel_size=(3, 3), stride=(2, 2), padding=(1, 1), bias=False)\n",
       "        (bn2): BatchNorm2d(512, eps=1e-05, momentum=0.1, affine=True, track_running_stats=True)\n",
       "        (conv3): Conv2d(512, 2048, kernel_size=(1, 1), stride=(1, 1), bias=False)\n",
       "        (bn3): BatchNorm2d(2048, eps=1e-05, momentum=0.1, affine=True, track_running_stats=True)\n",
       "        (relu): ReLU(inplace)\n",
       "        (downsample): Sequential(\n",
       "          (0): Conv2d(1024, 2048, kernel_size=(1, 1), stride=(2, 2), bias=False)\n",
       "          (1): BatchNorm2d(2048, eps=1e-05, momentum=0.1, affine=True, track_running_stats=True)\n",
       "        )\n",
       "      )\n",
       "      (1): BottleneckFinal(\n",
       "        (conv1): Conv2d(2048, 512, kernel_size=(1, 1), stride=(1, 1), bias=False)\n",
       "        (bn1): BatchNorm2d(512, eps=1e-05, momentum=0.1, affine=True, track_running_stats=True)\n",
       "        (conv2): Conv2d(512, 512, kernel_size=(3, 3), stride=(1, 1), padding=(1, 1), bias=False)\n",
       "        (bn2): BatchNorm2d(512, eps=1e-05, momentum=0.1, affine=True, track_running_stats=True)\n",
       "        (conv3): Conv2d(512, 2048, kernel_size=(1, 1), stride=(1, 1), bias=False)\n",
       "        (bn3): BatchNorm2d(2048, eps=1e-05, momentum=0.1, affine=True, track_running_stats=True)\n",
       "        (relu): ReLU(inplace)\n",
       "      )\n",
       "      (2): BottleneckFinal(\n",
       "        (conv1): Conv2d(2048, 512, kernel_size=(1, 1), stride=(1, 1), bias=False)\n",
       "        (bn1): BatchNorm2d(512, eps=1e-05, momentum=0.1, affine=True, track_running_stats=True)\n",
       "        (conv2): Conv2d(512, 512, kernel_size=(3, 3), stride=(1, 1), padding=(1, 1), bias=False)\n",
       "        (bn2): BatchNorm2d(512, eps=1e-05, momentum=0.1, affine=True, track_running_stats=True)\n",
       "        (conv3): Conv2d(512, 2048, kernel_size=(1, 1), stride=(1, 1), bias=False)\n",
       "        (bn3): BatchNorm2d(2048, eps=1e-05, momentum=0.1, affine=True, track_running_stats=True)\n",
       "        (relu): ReLU(inplace)\n",
       "      )\n",
       "    )\n",
       "    (8): AdaptiveAvgPool2d(output_size=1)\n",
       "    (9): Flatten()\n",
       "    (10): Linear(in_features=2048, out_features=1, bias=True)\n",
       "  )\n",
       ")"
      ]
     },
     "execution_count": 576,
     "metadata": {},
     "output_type": "execute_result"
    }
   ],
   "source": [
    "modresnet.mod_bnf_resnet50()"
   ]
  },
  {
   "cell_type": "code",
   "execution_count": 322,
   "metadata": {},
   "outputs": [
    {
     "data": {
      "text/plain": [
       "'class  ConvWithMeta(nn.Module):\\n    def __init__(self):\\n        super(ConvWithMeta, self).__init__()\\n        head_layer = [nn.Conv2d(1, 3, kernel_size=1, bias=False, stride=1, padding=0)]\\n        self.head_layer = nn.Sequential(*head_layer)\\n        resnet_layers = list(resnet34(True).children())[:8]\\n        self.features = nn.Sequential(*resnet_layers)\\n        for param in self.features.parameters():\\n            param.requires_grad = False\\n        self.bns = nn.ModuleList([nn.BatchNorm1d(512), nn.BatchNorm1d(512), nn.BatchNorm1d(256)])\\n        self.lins = nn.ModuleList([nn.Linear(512,512), nn.Linear(512,256), nn.Linear(256, 1)])\\n        for o in self.lins: kaiming_normal(o.weight.data)\\n        self.fc_model1 = nn.Sequential(*self.fc_layers1())\\n        self.fc_model2 = nn.Sequential(*self.fc_layers2())\\n        \\n    def fc_layers1(self):\\n        return [self.bns[0], nn.Dropout(0.1), self.lins[0], nn.LeakyReLU()]\\n    \\n    def fc_layers2(self):\\n        return [self.bns[1], nn.Dropout(0.1), self.lins[1], nn.LeakyReLU(), \\n                self.bns[2], nn.Dropout(0.1), self.lins[2]] \\n        \\n    def forward(self, x):\\n        x=x.unsqueeze(1)\\n        x = modresnet.mod_bnf_resnet50()\\n\\n        #out = x.squeeze()\\n        #out = self.fc_model1(out)\\n        #out = self.fc_model2(out)\\n        return F.sigmoid(out.squeeze())\\n'"
      ]
     },
     "execution_count": 322,
     "metadata": {},
     "output_type": "execute_result"
    }
   ],
   "source": [
    "def convInit(ni, nf, ks, stride=1):\n",
    "    return nn.Conv2d(ni,nf, ks,stride=1,)\n",
    "\n",
    "def conv(ni, nf, ks=3, stride=1):\n",
    "    return nn.Conv2d(ni, nf, kernel_size=ks, stride=stride, padding=ks//2, bias=False)\n",
    "\n",
    "def bn1(planes):\n",
    "    m = nn.BatchNorm1d(planes)\n",
    "    m.weight.data.fill_(1)\n",
    "    m.bias.data.zero_()\n",
    "    return m\n",
    "\n",
    "def bn(planes, init_zero=False):\n",
    "    m = nn.BatchNorm2d(planes)\n",
    "    m.weight.data.fill_(0 if init_zero else 1)\n",
    "    m.bias.data.zero_()\n",
    "    return m\n",
    "\n",
    "class BasicBlock(nn.Module):\n",
    "    expansion = 1\n",
    "\n",
    "    def __init__(self, inplanes, planes, stride=1, downsample=None):\n",
    "        super().__init__()\n",
    "        self.conv1 = conv(inplanes, planes, stride=stride)\n",
    "        self.bn1 = bn(planes)\n",
    "        self.relu = nn.ReLU(inplace=True)\n",
    "        self.conv2 = conv(planes, planes)\n",
    "        self.bn2 = bn(planes)\n",
    "        self.downsample = downsample\n",
    "        self.stride = stride\n",
    "\n",
    "    def forward(self, x):\n",
    "        residual = x\n",
    "        if self.downsample is not None: residual = self.downsample(x)\n",
    "\n",
    "        out = self.conv1(x)\n",
    "        out = self.relu(out)\n",
    "        out = self.bn1(out)\n",
    "\n",
    "        out = self.conv2(out)\n",
    "\n",
    "        out = residual + out\n",
    "        out = self.relu(out)\n",
    "        out = self.bn2(out)\n",
    "\n",
    "        return out\n",
    "    \n",
    "class MetaResNet(nn.Module):\n",
    "    \n",
    "    def _make_layer(self, block, planes, blocks, stride=1):\n",
    "        downsample = None\n",
    "        if stride != 1 or self.inplanes != planes * block.expansion:\n",
    "            downsample = nn.Sequential(\n",
    "                conv(self.inplanes, planes*block.expansion, ks=1, stride=stride),\n",
    "                bn(planes * block.expansion),\n",
    "            )\n",
    "\n",
    "        layers = []\n",
    "        layers.append(block(self.inplanes, planes, stride, downsample))\n",
    "        self.inplanes = planes * block.expansion\n",
    "        for i in range(1, blocks): layers.append(block(self.inplanes, planes))\n",
    "        return nn.Sequential(*layers)\n",
    "    \n",
    "    def __init__(self, block, layers, num_classes=1, k=1, vgg_head=False):\n",
    "        super().__init__()\n",
    "        self.inplanes = 64\n",
    "\n",
    "        features = [convInit(1,3,ks=1), conv(3, 64, ks=7, stride=2)\n",
    "            , bn(64) , nn.ReLU(inplace=True) , nn.MaxPool2d(kernel_size=3, stride=2, padding=1)\n",
    "            , self._make_layer(block, int(64*k), layers[0])\n",
    "            , self._make_layer(block, int(128*k), layers[1], stride=2)\n",
    "            , self._make_layer(block, int(256*k), layers[2], stride=2)\n",
    "            , self._make_layer(block, int(512*k), layers[3], stride=2)]\n",
    "        out_sz = int(512*k) * block.expansion\n",
    "\n",
    "        if vgg_head:\n",
    "            features += [nn.AdaptiveAvgPool2d(3), Flatten()\n",
    "                , nn.Linear(out_sz*3*3, 4096), nn.ReLU(inplace=True), bn1(4096), nn.Dropout(0.25)\n",
    "                , nn.Linear(4096,   4096), nn.ReLU(inplace=True), bn1(4096), nn.Dropout(0.25)\n",
    "                , nn.Linear(4096, num_classes)]\n",
    "        else: features += [nn.AdaptiveAvgPool2d(1), Flatten(), nn.Linear(out_sz, num_classes)]\n",
    "\n",
    "        self.features = nn.Sequential(*features)\n",
    "\n",
    "        for m in self.modules():\n",
    "            if isinstance(m, nn.Conv2d):\n",
    "                n = m.kernel_size[0] * m.kernel_size[1] * m.out_channels\n",
    "                m.weight.data.normal_(0, math.sqrt(2. / n))\n",
    "        '''#Weight init Kaiming's\n",
    "        for m in self.modules():\n",
    "            if isinstance(m, nn.Conv2d):\n",
    "                m.weight = nn.init.kaiming_normal_(m.weight, mode='fan_out')\n",
    "            #elif isinstance(m, nn.BatchNorm2d):\n",
    "            #    m.weight.data.fill_(1)\n",
    "            #    m.bias.data.zero_()\n",
    "            elif isinstance(m, nn.Linear):\n",
    "                m.weight = nn.init.kaiming_normal_(m.weight, mode='fan_out')\n",
    "    \n",
    "\n",
    "    def forward(self, x): return self.features(x)\n",
    "\n",
    "'''class  ConvWithMeta(nn.Module):\n",
    "    def __init__(self):\n",
    "        super(ConvWithMeta, self).__init__()\n",
    "        head_layer = [nn.Conv2d(1, 3, kernel_size=1, bias=False, stride=1, padding=0)]\n",
    "        self.head_layer = nn.Sequential(*head_layer)\n",
    "        resnet_layers = list(resnet34(True).children())[:8]\n",
    "        self.features = nn.Sequential(*resnet_layers)\n",
    "        for param in self.features.parameters():\n",
    "            param.requires_grad = False\n",
    "        self.bns = nn.ModuleList([nn.BatchNorm1d(512), nn.BatchNorm1d(512), nn.BatchNorm1d(256)])\n",
    "        self.lins = nn.ModuleList([nn.Linear(512,512), nn.Linear(512,256), nn.Linear(256, 1)])\n",
    "        for o in self.lins: kaiming_normal(o.weight.data)\n",
    "        self.fc_model1 = nn.Sequential(*self.fc_layers1())\n",
    "        self.fc_model2 = nn.Sequential(*self.fc_layers2())\n",
    "        \n",
    "    def fc_layers1(self):\n",
    "        return [self.bns[0], nn.Dropout(0.1), self.lins[0], nn.LeakyReLU()]\n",
    "    \n",
    "    def fc_layers2(self):\n",
    "        return [self.bns[1], nn.Dropout(0.1), self.lins[1], nn.LeakyReLU(), \n",
    "                self.bns[2], nn.Dropout(0.1), self.lins[2]] \n",
    "        \n",
    "    def forward(self, x):\n",
    "        x=x.unsqueeze(1)\n",
    "        x = modresnet.mod_bnf_resnet50()\n",
    "\n",
    "        #out = x.squeeze()\n",
    "        #out = self.fc_model1(out)\n",
    "        #out = self.fc_model2(out)\n",
    "        return F.sigmoid(out.squeeze())\n",
    "'''"
   ]
  },
  {
   "cell_type": "code",
   "execution_count": null,
   "metadata": {},
   "outputs": [],
   "source": []
  },
  {
   "cell_type": "code",
   "execution_count": 345,
   "metadata": {},
   "outputs": [],
   "source": [
    "def conv_layer(ni, nf, ks=3, stride=1):\n",
    "    return nn.Sequential(\n",
    "        nn.Conv2d(ni, nf, kernel_size=ks, bias=False, stride=stride, padding=ks//2),\n",
    "        nn.BatchNorm2d(nf, momentum=0.01),\n",
    "        nn.LeakyReLU(negative_slope=0.1, inplace=False))\n",
    "\n",
    "class ResLayer(nn.Module):\n",
    "    def __init__(self, ni):\n",
    "        super().__init__()\n",
    "        self.conv1=conv_layer(ni, ni//2, ks=3)\n",
    "        self.conv2=conv_layer(ni//2, ni, ks=3)\n",
    "        \n",
    "    def forward(self, x): return x.add_(self.conv2(self.conv1(x.clone())))\n",
    "\n",
    "class Darknet(nn.Module):\n",
    "    \n",
    "    def make_group_layer(self, ch_in, num_blocks, stride=1):\n",
    "        return [conv_layer(ch_in, ch_in*2,stride=stride)\n",
    "               ] + [(ResLayer(ch_in*2)) for i in range(num_blocks)]\n",
    "\n",
    "    def __init__(self, num_blocks, num_classes, nf=32):\n",
    "        print(\"Use Darknet\")\n",
    "        super().__init__()\n",
    "        \n",
    "        for m in self.modules():\n",
    "            if isinstance(m, nn.Conv2d):\n",
    "                n = m.kernel_size[0] * m.kernel_size[1] * m.out_channels\n",
    "                m.weight.data.normal_(0, math.sqrt(2. / n))\n",
    "        '''#Weight init Kaiming's\n",
    "        for m in self.modules():\n",
    "            if isinstance(m, nn.Conv2d):\n",
    "                m.weight = nn.init.kaiming_normal_(m.weight, mode='fan_out')\n",
    "            elif isinstance(m, nn.BatchNorm2d):\n",
    "                m.weight.data.fill_(1)\n",
    "                m.bias.data.zero_()\n",
    "            elif isinstance(m, nn.Linear):\n",
    "                m.weight = nn.init.kaiming_normal_(m.weight, mode='fan_out')'''\n",
    "\n",
    "        features = [conv_layer(1, nf, ks=3, stride=1)]\n",
    "        for i,nb in enumerate(num_blocks):\n",
    "            features += self.make_group_layer(nf, nb, stride=2-(i==1))\n",
    "            nf *= 2   \n",
    "\n",
    "        self.features = nn.Sequential(*features)\n",
    "\n",
    "        fc1 = [nn.BatchNorm1d(512),nn.Dropout(0),nn.Linear(512, 256),nn.LeakyReLU()]\n",
    "        self.fc1 = nn.Sequential(*fc1)\n",
    "        \n",
    "        self.layers = nn.Sequential(nn.BatchNorm1d(256),nn.Dropout(0),nn.Linear(256,1))\n",
    " \n",
    "        \n",
    "    def forward(self, x):\n",
    "        #x = x.unsqueeze(1)\n",
    "\n",
    "        x = self.features(x)\n",
    "\n",
    "        #x = torch.cat((x,y[:,:,0],y[:,:,1],y[:,:,2]),1)\n",
    "        x = nn.AdaptiveAvgPool2d(1)(x)\n",
    "        x = x.squeeze()\n",
    "        x = self.fc1(x)\n",
    "        x = self.layers(x)\n",
    "        return torch.sigmoid(x)\n"
   ]
  },
  {
   "cell_type": "code",
   "execution_count": 337,
   "metadata": {},
   "outputs": [],
   "source": [
    "class MetaModel(BasicModel):\n",
    "    def get_layer_groups(self):\n",
    "        m=self.model\n",
    "        return m"
   ]
  },
  {
   "cell_type": "code",
   "execution_count": 293,
   "metadata": {},
   "outputs": [],
   "source": [
    "class  MetaLearner(Learner):\n",
    "    def __init__(self, data, models, **kwargs):\n",
    "        super().__init__(data, models, **kwargs)\n",
    "        self.crit = F.binary_cross_entropy_with_logits"
   ]
  },
  {
   "cell_type": "code",
   "execution_count": 294,
   "metadata": {},
   "outputs": [],
   "source": [
    "class MetaArraysDataset(BaseDataset):\n",
    "    def __init__(self, x,y, transform, path):\n",
    "        self.path = path\n",
    "        self.x,self.y= x, y\n",
    "        assert(len(x)==len(y))\n",
    "        super().__init__(transform)\n",
    "        \n",
    "    def __getitem__(self, idx):\n",
    "        \"\"\" This function should return a list.\n",
    "        \"\"\"\n",
    "        x = self.get_x(idx)\n",
    "        y = self.get_y(idx)\n",
    "        return self.get(self.transform, x, y)\n",
    "   \n",
    "    def get(self, tfm, x, y):\n",
    "        if tfm is None:\n",
    "            return [x, y] \n",
    "        x,y = tfm(x,y)\n",
    "        return [x,y]\n",
    "    def get_c(self): return int(self.y.max())+1\n",
    "    def get_x(self, i): return self.x[i]\n",
    "    def get_y(self, i): return self.y[i]\n",
    "    def get_n(self): return len(self.y)\n",
    "    def get_sz(self): return self.x.shape[1]"
   ]
  },
  {
   "cell_type": "code",
   "execution_count": 295,
   "metadata": {},
   "outputs": [],
   "source": [
    "bs=64; sz=70\n",
    "#f_model = resnet34"
   ]
  },
  {
   "cell_type": "code",
   "execution_count": 296,
   "metadata": {},
   "outputs": [],
   "source": [
    "USE_GPU=False"
   ]
  },
  {
   "cell_type": "code",
   "execution_count": 332,
   "metadata": {},
   "outputs": [],
   "source": [
    "class ModelMetaData(ImageClassifierData):\n",
    "    \n",
    "    @classmethod\n",
    "    def get_ds(self, fn, trn, val, tfms, path, test=None):\n",
    "        res = [\n",
    "            fn(trn[0], trn[1],tfms[0], path), # train\n",
    "            fn(val[0], val[1],tfms[1], path), # val\n",
    "            fn(trn[0], trn[1],tfms[1], path), # fix\n",
    "            fn(val[0], val[1],tfms[0], path)  # aug\n",
    "        ]\n",
    "        if test:\n",
    "            test_lbls = np.zeros((len(test),1))\n",
    "            res += [\n",
    "                fn(test[0], test[1],tfms[1], path), # test\n",
    "                fn(test[0], test[1] ,tfms[0], path)  # test_aug\n",
    "            ]\n",
    "        else: res += [None,None]\n",
    "        return res\n",
    "    \n",
    "    @classmethod\n",
    "    def from_csv(self, path, folder, csv_fname, bs=bs, tfms=(None,None),val_idxs=None, \n",
    "                 suffix='', test_name=None, skip_header=True, num_workers=4):\n",
    "        fnames,x2,y = csv_source2(folder, csv_fname, skip_header, suffix)\n",
    "        ((val_fnames, trn_fnames), (val_x2, trn_x2), (val_y,trn_y)) = split_by_idx(val_idxs, np.array(fnames), x2, y)\n",
    "\n",
    "        test_fnames = read_dir(path, test_name) if test_name else None\n",
    "        datasets = self.get_ds(MetaDataset, (trn_fnames,trn_x2,trn_y), (val_fnames,val_x2,val_y),tfms=tfms, path=path)\n",
    "        return self(path, datasets, bs, num_workers, classes=1)\n",
    "    \n",
    "    @classmethod\n",
    "    def from_arrays(self, path, trn, val, test, bs=bs, tfms=(None,None), classes=None, num_workers=4):\n",
    "        trn_x , val_x = trn[0],val[0]\n",
    "        trn_y , val_y = trn[1],val[1]\n",
    "        test_x, test_y= test[0],test[1]\n",
    "        datasets = self.get_ds(MetaArraysDataset, (trn_x,trn_y), (val_x,val_y) ,test=(test_x,test_y) ,tfms=tfms,path=path)\n",
    "        return self(path, datasets, bs, num_workers, classes=classes)\n",
    "    \n",
    "        \n",
    "    def get_learner(self):\n",
    "        model = Darknet([1,2,4,3],num_classes=1)\n",
    "        #model = MetaResNet(BasicBlock, [3, 4, 6, 3])\n",
    "        device = torch.device(\"cuda:0\" if torch.cuda.is_available() else \"cpu\")\n",
    "        #m = nn.DataParallel(m, [1,2,3])\n",
    "        return MetaLearner(self, MetaModel(model.to(device)), opt_fn=optim.Adam)\n",
    "    \n",
    "    "
   ]
  },
  {
   "cell_type": "code",
   "execution_count": 346,
   "metadata": {
    "scrolled": true
   },
   "outputs": [],
   "source": [
    "data = ModelMetaData.from_arrays('.', trn=(image_array_train,y_train)\n",
    "                                 ,val=(image_array_val,y_val)\n",
    "                                ,test=(image_array_test,y_test))"
   ]
  },
  {
   "cell_type": "code",
   "execution_count": 281,
   "metadata": {},
   "outputs": [],
   "source": [
    "from moddarknet import mod_darknet_small"
   ]
  },
  {
   "cell_type": "code",
   "execution_count": 347,
   "metadata": {
    "scrolled": true
   },
   "outputs": [
    {
     "name": "stdout",
     "output_type": "stream",
     "text": [
      "Use Darknet\n"
     ]
    }
   ],
   "source": [
    "learner = data.get_learner()\n"
   ]
  },
  {
   "cell_type": "code",
   "execution_count": null,
   "metadata": {
    "scrolled": false
   },
   "outputs": [],
   "source": [
    "learner.lr_find()"
   ]
  },
  {
   "cell_type": "code",
   "execution_count": 275,
   "metadata": {},
   "outputs": [
    {
     "data": {
      "image/png": "[encoded data removed]",
      "text/plain": [
       "<Figure size 432x288 with 1 Axes>"
      ]
     },
     "metadata": {},
     "output_type": "display_data"
    }
   ],
   "source": [
    "learner.sched.plot(n_skip=3,n_skip_end=10)"
   ]
  },
  {
   "cell_type": "code",
   "execution_count": 348,
   "metadata": {
    "scrolled": false
   },
   "outputs": [
    {
     "data": {
      "application/vnd.jupyter.widget-view+json": {
       "model_id": "f90a7fe35cdd4974a5a1abdabd938822",
       "version_major": 2,
       "version_minor": 0
      },
      "text/plain": [
       "HBox(children=(IntProgress(value=0, description='Epoch', max=10), HTML(value='')))"
      ]
     },
     "metadata": {},
     "output_type": "display_data"
    },
    {
     "name": "stdout",
     "output_type": "stream",
     "text": [
      "epoch      trn_loss   val_loss                             \n",
      "    0      0.481511   0.430909  \n",
      "    1      0.450555   0.430909                             \n",
      "    2      0.436234   0.430909                             \n",
      "    3      0.432589   0.430909                             \n",
      " 70%|███████   | 7/10 [01:37<00:41, 13.91s/it, loss=0.43] "
     ]
    },
    {
     "ename": "KeyboardInterrupt",
     "evalue": "",
     "output_type": "error",
     "traceback": [
      "\u001b[0;31m---------------------------------------------------------------------------\u001b[0m",
      "\u001b[0;31mKeyboardInterrupt\u001b[0m                         Traceback (most recent call last)",
      "\u001b[0;32m<ipython-input-348-28e19d65618e>\u001b[0m in \u001b[0;36m<module>\u001b[0;34m()\u001b[0m\n\u001b[0;32m----> 1\u001b[0;31m \u001b[0mlearner\u001b[0m\u001b[0;34m.\u001b[0m\u001b[0mfit\u001b[0m\u001b[0;34m(\u001b[0m\u001b[0;36m5e-4\u001b[0m\u001b[0;34m,\u001b[0m\u001b[0;36m10\u001b[0m\u001b[0;34m)\u001b[0m\u001b[0;34m\u001b[0m\u001b[0m\n\u001b[0m",
      "\u001b[0;32m~/Desktop/PPMI/PPMI/fastai/learner.py\u001b[0m in \u001b[0;36mfit\u001b[0;34m(self, lrs, n_cycle, wds, **kwargs)\u001b[0m\n\u001b[1;32m    302\u001b[0m         \u001b[0mself\u001b[0m\u001b[0;34m.\u001b[0m\u001b[0msched\u001b[0m \u001b[0;34m=\u001b[0m \u001b[0;32mNone\u001b[0m\u001b[0;34m\u001b[0m\u001b[0m\n\u001b[1;32m    303\u001b[0m         \u001b[0mlayer_opt\u001b[0m \u001b[0;34m=\u001b[0m \u001b[0mself\u001b[0m\u001b[0;34m.\u001b[0m\u001b[0mget_layer_opt\u001b[0m\u001b[0;34m(\u001b[0m\u001b[0mlrs\u001b[0m\u001b[0;34m,\u001b[0m \u001b[0mwds\u001b[0m\u001b[0;34m)\u001b[0m\u001b[0;34m\u001b[0m\u001b[0m\n\u001b[0;32m--> 304\u001b[0;31m         \u001b[0;32mreturn\u001b[0m \u001b[0mself\u001b[0m\u001b[0;34m.\u001b[0m\u001b[0mfit_gen\u001b[0m\u001b[0;34m(\u001b[0m\u001b[0mself\u001b[0m\u001b[0;34m.\u001b[0m\u001b[0mmodel\u001b[0m\u001b[0;34m,\u001b[0m \u001b[0mself\u001b[0m\u001b[0;34m.\u001b[0m\u001b[0mdata\u001b[0m\u001b[0;34m,\u001b[0m \u001b[0mlayer_opt\u001b[0m\u001b[0;34m,\u001b[0m \u001b[0mn_cycle\u001b[0m\u001b[0;34m,\u001b[0m \u001b[0;34m**\u001b[0m\u001b[0mkwargs\u001b[0m\u001b[0;34m)\u001b[0m\u001b[0;34m\u001b[0m\u001b[0m\n\u001b[0m\u001b[1;32m    305\u001b[0m \u001b[0;34m\u001b[0m\u001b[0m\n\u001b[1;32m    306\u001b[0m     \u001b[0;32mdef\u001b[0m \u001b[0mwarm_up\u001b[0m\u001b[0;34m(\u001b[0m\u001b[0mself\u001b[0m\u001b[0;34m,\u001b[0m \u001b[0mlr\u001b[0m\u001b[0;34m,\u001b[0m \u001b[0mwds\u001b[0m\u001b[0;34m=\u001b[0m\u001b[0;32mNone\u001b[0m\u001b[0;34m)\u001b[0m\u001b[0;34m:\u001b[0m\u001b[0;34m\u001b[0m\u001b[0m\n",
      "\u001b[0;32m~/Desktop/PPMI/PPMI/fastai/learner.py\u001b[0m in \u001b[0;36mfit_gen\u001b[0;34m(self, model, data, layer_opt, n_cycle, cycle_len, cycle_mult, cycle_save_name, best_save_name, use_clr, use_clr_beta, metrics, callbacks, use_wd_sched, norm_wds, wds_sched_mult, use_swa, swa_start, swa_eval_freq, **kwargs)\u001b[0m\n\u001b[1;32m    249\u001b[0m             \u001b[0mmetrics\u001b[0m\u001b[0;34m=\u001b[0m\u001b[0mmetrics\u001b[0m\u001b[0;34m,\u001b[0m \u001b[0mcallbacks\u001b[0m\u001b[0;34m=\u001b[0m\u001b[0mcallbacks\u001b[0m\u001b[0;34m,\u001b[0m \u001b[0mreg_fn\u001b[0m\u001b[0;34m=\u001b[0m\u001b[0mself\u001b[0m\u001b[0;34m.\u001b[0m\u001b[0mreg_fn\u001b[0m\u001b[0;34m,\u001b[0m \u001b[0mclip\u001b[0m\u001b[0;34m=\u001b[0m\u001b[0mself\u001b[0m\u001b[0;34m.\u001b[0m\u001b[0mclip\u001b[0m\u001b[0;34m,\u001b[0m \u001b[0mfp16\u001b[0m\u001b[0;34m=\u001b[0m\u001b[0mself\u001b[0m\u001b[0;34m.\u001b[0m\u001b[0mfp16\u001b[0m\u001b[0;34m,\u001b[0m\u001b[0;34m\u001b[0m\u001b[0m\n\u001b[1;32m    250\u001b[0m             \u001b[0mswa_model\u001b[0m\u001b[0;34m=\u001b[0m\u001b[0mself\u001b[0m\u001b[0;34m.\u001b[0m\u001b[0mswa_model\u001b[0m \u001b[0;32mif\u001b[0m \u001b[0muse_swa\u001b[0m \u001b[0;32melse\u001b[0m \u001b[0;32mNone\u001b[0m\u001b[0;34m,\u001b[0m \u001b[0mswa_start\u001b[0m\u001b[0;34m=\u001b[0m\u001b[0mswa_start\u001b[0m\u001b[0;34m,\u001b[0m\u001b[0;34m\u001b[0m\u001b[0m\n\u001b[0;32m--> 251\u001b[0;31m             swa_eval_freq=swa_eval_freq, **kwargs)\n\u001b[0m\u001b[1;32m    252\u001b[0m \u001b[0;34m\u001b[0m\u001b[0m\n\u001b[1;32m    253\u001b[0m     \u001b[0;32mdef\u001b[0m \u001b[0mget_layer_groups\u001b[0m\u001b[0;34m(\u001b[0m\u001b[0mself\u001b[0m\u001b[0;34m)\u001b[0m\u001b[0;34m:\u001b[0m \u001b[0;32mreturn\u001b[0m \u001b[0mself\u001b[0m\u001b[0;34m.\u001b[0m\u001b[0mmodels\u001b[0m\u001b[0;34m.\u001b[0m\u001b[0mget_layer_groups\u001b[0m\u001b[0;34m(\u001b[0m\u001b[0;34m)\u001b[0m\u001b[0;34m\u001b[0m\u001b[0m\n",
      "\u001b[0;32m~/Desktop/PPMI/PPMI/fastai/model.py\u001b[0m in \u001b[0;36mfit\u001b[0;34m(model, data, n_epochs, opt, crit, metrics, callbacks, stepper, swa_model, swa_start, swa_eval_freq, visualize, **kwargs)\u001b[0m\n\u001b[1;32m    139\u001b[0m             \u001b[0mbatch_num\u001b[0m \u001b[0;34m+=\u001b[0m \u001b[0;36m1\u001b[0m\u001b[0;34m\u001b[0m\u001b[0m\n\u001b[1;32m    140\u001b[0m             \u001b[0;32mfor\u001b[0m \u001b[0mcb\u001b[0m \u001b[0;32min\u001b[0m \u001b[0mcallbacks\u001b[0m\u001b[0;34m:\u001b[0m \u001b[0mcb\u001b[0m\u001b[0;34m.\u001b[0m\u001b[0mon_batch_begin\u001b[0m\u001b[0;34m(\u001b[0m\u001b[0;34m)\u001b[0m\u001b[0;34m\u001b[0m\u001b[0m\n\u001b[0;32m--> 141\u001b[0;31m             \u001b[0mloss\u001b[0m \u001b[0;34m=\u001b[0m \u001b[0mmodel_stepper\u001b[0m\u001b[0;34m.\u001b[0m\u001b[0mstep\u001b[0m\u001b[0;34m(\u001b[0m\u001b[0mV\u001b[0m\u001b[0;34m(\u001b[0m\u001b[0mx\u001b[0m\u001b[0;34m)\u001b[0m\u001b[0;34m,\u001b[0m\u001b[0mV\u001b[0m\u001b[0;34m(\u001b[0m\u001b[0my\u001b[0m\u001b[0;34m)\u001b[0m\u001b[0;34m,\u001b[0m \u001b[0mepoch\u001b[0m\u001b[0;34m)\u001b[0m\u001b[0;34m\u001b[0m\u001b[0m\n\u001b[0m\u001b[1;32m    142\u001b[0m             \u001b[0mavg_loss\u001b[0m \u001b[0;34m=\u001b[0m \u001b[0mavg_loss\u001b[0m \u001b[0;34m*\u001b[0m \u001b[0mavg_mom\u001b[0m \u001b[0;34m+\u001b[0m \u001b[0mloss\u001b[0m \u001b[0;34m*\u001b[0m \u001b[0;34m(\u001b[0m\u001b[0;36m1\u001b[0m\u001b[0;34m-\u001b[0m\u001b[0mavg_mom\u001b[0m\u001b[0;34m)\u001b[0m\u001b[0;34m\u001b[0m\u001b[0m\n\u001b[1;32m    143\u001b[0m             \u001b[0mdebias_loss\u001b[0m \u001b[0;34m=\u001b[0m \u001b[0mavg_loss\u001b[0m \u001b[0;34m/\u001b[0m \u001b[0;34m(\u001b[0m\u001b[0;36m1\u001b[0m \u001b[0;34m-\u001b[0m \u001b[0mavg_mom\u001b[0m\u001b[0;34m**\u001b[0m\u001b[0mbatch_num\u001b[0m\u001b[0;34m)\u001b[0m\u001b[0;34m\u001b[0m\u001b[0m\n",
      "\u001b[0;32m~/Desktop/PPMI/PPMI/fastai/model.py\u001b[0m in \u001b[0;36mstep\u001b[0;34m(self, xs, y, epoch)\u001b[0m\n\u001b[1;32m     55\u001b[0m         \u001b[0;32mif\u001b[0m \u001b[0mself\u001b[0m\u001b[0;34m.\u001b[0m\u001b[0mloss_scale\u001b[0m \u001b[0;34m!=\u001b[0m \u001b[0;36m1\u001b[0m\u001b[0;34m:\u001b[0m \u001b[0;32massert\u001b[0m\u001b[0;34m(\u001b[0m\u001b[0mself\u001b[0m\u001b[0;34m.\u001b[0m\u001b[0mfp16\u001b[0m\u001b[0;34m)\u001b[0m\u001b[0;34m;\u001b[0m \u001b[0mloss\u001b[0m \u001b[0;34m=\u001b[0m \u001b[0mloss\u001b[0m\u001b[0;34m*\u001b[0m\u001b[0mself\u001b[0m\u001b[0;34m.\u001b[0m\u001b[0mloss_scale\u001b[0m\u001b[0;34m\u001b[0m\u001b[0m\n\u001b[1;32m     56\u001b[0m         \u001b[0;32mif\u001b[0m \u001b[0mself\u001b[0m\u001b[0;34m.\u001b[0m\u001b[0mreg_fn\u001b[0m\u001b[0;34m:\u001b[0m \u001b[0mloss\u001b[0m \u001b[0;34m=\u001b[0m \u001b[0mself\u001b[0m\u001b[0;34m.\u001b[0m\u001b[0mreg_fn\u001b[0m\u001b[0;34m(\u001b[0m\u001b[0moutput\u001b[0m\u001b[0;34m,\u001b[0m \u001b[0mxtra\u001b[0m\u001b[0;34m,\u001b[0m \u001b[0mraw_loss\u001b[0m\u001b[0;34m)\u001b[0m\u001b[0;34m\u001b[0m\u001b[0m\n\u001b[0;32m---> 57\u001b[0;31m         \u001b[0mloss\u001b[0m\u001b[0;34m.\u001b[0m\u001b[0mbackward\u001b[0m\u001b[0;34m(\u001b[0m\u001b[0;34m)\u001b[0m\u001b[0;34m\u001b[0m\u001b[0m\n\u001b[0m\u001b[1;32m     58\u001b[0m         \u001b[0;32mif\u001b[0m \u001b[0mself\u001b[0m\u001b[0;34m.\u001b[0m\u001b[0mfp16\u001b[0m\u001b[0;34m:\u001b[0m \u001b[0mupdate_fp32_grads\u001b[0m\u001b[0;34m(\u001b[0m\u001b[0mself\u001b[0m\u001b[0;34m.\u001b[0m\u001b[0mfp32_params\u001b[0m\u001b[0;34m,\u001b[0m \u001b[0mself\u001b[0m\u001b[0;34m.\u001b[0m\u001b[0mm\u001b[0m\u001b[0;34m)\u001b[0m\u001b[0;34m\u001b[0m\u001b[0m\n\u001b[1;32m     59\u001b[0m         \u001b[0;32mif\u001b[0m \u001b[0mself\u001b[0m\u001b[0;34m.\u001b[0m\u001b[0mloss_scale\u001b[0m \u001b[0;34m!=\u001b[0m \u001b[0;36m1\u001b[0m\u001b[0;34m:\u001b[0m\u001b[0;34m\u001b[0m\u001b[0m\n",
      "\u001b[0;32m~/anaconda3/envs/fastai-cpu/lib/python3.6/site-packages/torch/tensor.py\u001b[0m in \u001b[0;36mbackward\u001b[0;34m(self, gradient, retain_graph, create_graph)\u001b[0m\n\u001b[1;32m     91\u001b[0m                 \u001b[0mproducts\u001b[0m\u001b[0;34m.\u001b[0m \u001b[0mDefaults\u001b[0m \u001b[0mto\u001b[0m\u001b[0;31m \u001b[0m\u001b[0;31m`\u001b[0m\u001b[0;31m`\u001b[0m\u001b[0;32mFalse\u001b[0m\u001b[0;31m`\u001b[0m\u001b[0;31m`\u001b[0m\u001b[0;34m.\u001b[0m\u001b[0;34m\u001b[0m\u001b[0m\n\u001b[1;32m     92\u001b[0m         \"\"\"\n\u001b[0;32m---> 93\u001b[0;31m         \u001b[0mtorch\u001b[0m\u001b[0;34m.\u001b[0m\u001b[0mautograd\u001b[0m\u001b[0;34m.\u001b[0m\u001b[0mbackward\u001b[0m\u001b[0;34m(\u001b[0m\u001b[0mself\u001b[0m\u001b[0;34m,\u001b[0m \u001b[0mgradient\u001b[0m\u001b[0;34m,\u001b[0m \u001b[0mretain_graph\u001b[0m\u001b[0;34m,\u001b[0m \u001b[0mcreate_graph\u001b[0m\u001b[0;34m)\u001b[0m\u001b[0;34m\u001b[0m\u001b[0m\n\u001b[0m\u001b[1;32m     94\u001b[0m \u001b[0;34m\u001b[0m\u001b[0m\n\u001b[1;32m     95\u001b[0m     \u001b[0;32mdef\u001b[0m \u001b[0mregister_hook\u001b[0m\u001b[0;34m(\u001b[0m\u001b[0mself\u001b[0m\u001b[0;34m,\u001b[0m \u001b[0mhook\u001b[0m\u001b[0;34m)\u001b[0m\u001b[0;34m:\u001b[0m\u001b[0;34m\u001b[0m\u001b[0m\n",
      "\u001b[0;32m~/anaconda3/envs/fastai-cpu/lib/python3.6/site-packages/torch/autograd/__init__.py\u001b[0m in \u001b[0;36mbackward\u001b[0;34m(tensors, grad_tensors, retain_graph, create_graph, grad_variables)\u001b[0m\n\u001b[1;32m     88\u001b[0m     Variable._execution_engine.run_backward(\n\u001b[1;32m     89\u001b[0m         \u001b[0mtensors\u001b[0m\u001b[0;34m,\u001b[0m \u001b[0mgrad_tensors\u001b[0m\u001b[0;34m,\u001b[0m \u001b[0mretain_graph\u001b[0m\u001b[0;34m,\u001b[0m \u001b[0mcreate_graph\u001b[0m\u001b[0;34m,\u001b[0m\u001b[0;34m\u001b[0m\u001b[0m\n\u001b[0;32m---> 90\u001b[0;31m         allow_unreachable=True)  # allow_unreachable flag\n\u001b[0m\u001b[1;32m     91\u001b[0m \u001b[0;34m\u001b[0m\u001b[0m\n\u001b[1;32m     92\u001b[0m \u001b[0;34m\u001b[0m\u001b[0m\n",
      "\u001b[0;31mKeyboardInterrupt\u001b[0m: "
     ]
    }
   ],
   "source": [
    "learner.fit(5e-4,10)"
   ]
  },
  {
   "cell_type": "code",
   "execution_count": 176,
   "metadata": {},
   "outputs": [],
   "source": [
    "lrs=[1e-5,5e-5,1e-4]"
   ]
  },
  {
   "cell_type": "code",
   "execution_count": 201,
   "metadata": {},
   "outputs": [
    {
     "data": {
      "application/vnd.jupyter.widget-view+json": {
       "model_id": "8f730b9cf9fc46f2a0ae95b7a779f519",
       "version_major": 2,
       "version_minor": 0
      },
      "text/plain": [
       "HBox(children=(IntProgress(value=0, description='Epoch', max=10), HTML(value='')))"
      ]
     },
     "metadata": {},
     "output_type": "display_data"
    },
    {
     "name": "stdout",
     "output_type": "stream",
     "text": [
      "epoch      trn_loss   val_loss                             \n",
      "    0      0.607063   0.240894  \n",
      "    1      0.372916   0.116137                             \n",
      "    2      0.259568   0.089081                            \n",
      "    3      0.193468   0.057497                             \n",
      "    4      0.160598   0.077332                             \n",
      "    5      0.138746   0.071863                             \n",
      "    6      0.119117   0.061886                             \n",
      "    7      0.105554   0.103458                             \n",
      "    8      0.102573   0.050978                             \n",
      "    9      0.091122   0.059505                             \n"
     ]
    },
    {
     "data": {
      "text/plain": [
       "[0.059504787039523034]"
      ]
     },
     "execution_count": 201,
     "metadata": {},
     "output_type": "execute_result"
    }
   ],
   "source": [
    "learner.fit(5e-5,10)"
   ]
  },
  {
   "cell_type": "code",
   "execution_count": 386,
   "metadata": {},
   "outputs": [
    {
     "data": {
      "application/vnd.jupyter.widget-view+json": {
       "model_id": "7244dffc9b934b7ba0bb7c5cf7b20d97",
       "version_major": 2,
       "version_minor": 0
      },
      "text/plain": [
       "HBox(children=(IntProgress(value=0, description='Epoch', max=1), HTML(value='')))"
      ]
     },
     "metadata": {},
     "output_type": "display_data"
    },
    {
     "name": "stdout",
     "output_type": "stream",
     "text": [
      "epoch      trn_loss   val_loss                            \n",
      "    0      0.702404   0.696978  \n"
     ]
    },
    {
     "data": {
      "application/vnd.jupyter.widget-view+json": {
       "model_id": "9134bb547ee3462582fab7f44d84cfb5",
       "version_major": 2,
       "version_minor": 0
      },
      "text/plain": [
       "HBox(children=(IntProgress(value=0, description='Epoch', max=1), HTML(value='')))"
      ]
     },
     "metadata": {},
     "output_type": "display_data"
    },
    {
     "name": "stdout",
     "output_type": "stream",
     "text": [
      "epoch      trn_loss   val_loss                            \n",
      "    0      0.461015   0.388659  \n"
     ]
    },
    {
     "data": {
      "application/vnd.jupyter.widget-view+json": {
       "model_id": "a24ac4d7b5ef4733bb1af58def0b97f1",
       "version_major": 2,
       "version_minor": 0
      },
      "text/plain": [
       "HBox(children=(IntProgress(value=0, description='Epoch', max=1), HTML(value='')))"
      ]
     },
     "metadata": {},
     "output_type": "display_data"
    },
    {
     "name": "stdout",
     "output_type": "stream",
     "text": [
      "epoch      trn_loss   val_loss                            \n",
      "    0      1.22365    2.708924  \n"
     ]
    },
    {
     "data": {
      "application/vnd.jupyter.widget-view+json": {
       "model_id": "d62d465babf34b699b877f14eb331c9b",
       "version_major": 2,
       "version_minor": 0
      },
      "text/plain": [
       "HBox(children=(IntProgress(value=0, description='Epoch', max=1), HTML(value='')))"
      ]
     },
     "metadata": {},
     "output_type": "display_data"
    },
    {
     "name": "stdout",
     "output_type": "stream",
     "text": [
      " 20%|██        | 2/10 [00:06<00:27,  3.42s/it, loss=4.3] "
     ]
    },
    {
     "ename": "KeyboardInterrupt",
     "evalue": "",
     "output_type": "error",
     "traceback": [
      "\u001b[0;31m---------------------------------------------------------------------------\u001b[0m",
      "\u001b[0;31mKeyboardInterrupt\u001b[0m                         Traceback (most recent call last)",
      "\u001b[0;32m<ipython-input-386-1e258c7dc43c>\u001b[0m in \u001b[0;36m<module>\u001b[0;34m()\u001b[0m\n\u001b[1;32m      1\u001b[0m \u001b[0;32mfor\u001b[0m \u001b[0mi\u001b[0m \u001b[0;32min\u001b[0m \u001b[0mrange\u001b[0m\u001b[0;34m(\u001b[0m\u001b[0;36m5\u001b[0m\u001b[0;34m)\u001b[0m\u001b[0;34m:\u001b[0m\u001b[0;34m\u001b[0m\u001b[0m\n\u001b[1;32m      2\u001b[0m     \u001b[0;32mfor\u001b[0m \u001b[0mj\u001b[0m \u001b[0;32min\u001b[0m \u001b[0;34m[\u001b[0m\u001b[0;36m1e-4\u001b[0m \u001b[0;34m,\u001b[0m \u001b[0;36m5e-4\u001b[0m \u001b[0;34m,\u001b[0m \u001b[0;36m1e-3\u001b[0m\u001b[0;34m]\u001b[0m\u001b[0;34m:\u001b[0m\u001b[0;34m\u001b[0m\u001b[0m\n\u001b[0;32m----> 3\u001b[0;31m         \u001b[0mlearner\u001b[0m\u001b[0;34m.\u001b[0m\u001b[0mfit\u001b[0m\u001b[0;34m(\u001b[0m\u001b[0mj\u001b[0m\u001b[0;34m,\u001b[0m\u001b[0;36m1\u001b[0m\u001b[0;34m)\u001b[0m\u001b[0;34m\u001b[0m\u001b[0m\n\u001b[0m",
      "\u001b[0;32m~/Desktop/PPMI/PPMI/fastai/learner.py\u001b[0m in \u001b[0;36mfit\u001b[0;34m(self, lrs, n_cycle, wds, **kwargs)\u001b[0m\n\u001b[1;32m    296\u001b[0m         \u001b[0mself\u001b[0m\u001b[0;34m.\u001b[0m\u001b[0msched\u001b[0m \u001b[0;34m=\u001b[0m \u001b[0;32mNone\u001b[0m\u001b[0;34m\u001b[0m\u001b[0m\n\u001b[1;32m    297\u001b[0m         \u001b[0mlayer_opt\u001b[0m \u001b[0;34m=\u001b[0m \u001b[0mself\u001b[0m\u001b[0;34m.\u001b[0m\u001b[0mget_layer_opt\u001b[0m\u001b[0;34m(\u001b[0m\u001b[0mlrs\u001b[0m\u001b[0;34m,\u001b[0m \u001b[0mwds\u001b[0m\u001b[0;34m)\u001b[0m\u001b[0;34m\u001b[0m\u001b[0m\n\u001b[0;32m--> 298\u001b[0;31m         \u001b[0;32mreturn\u001b[0m \u001b[0mself\u001b[0m\u001b[0;34m.\u001b[0m\u001b[0mfit_gen\u001b[0m\u001b[0;34m(\u001b[0m\u001b[0mself\u001b[0m\u001b[0;34m.\u001b[0m\u001b[0mmodel\u001b[0m\u001b[0;34m,\u001b[0m \u001b[0mself\u001b[0m\u001b[0;34m.\u001b[0m\u001b[0mdata\u001b[0m\u001b[0;34m,\u001b[0m \u001b[0mlayer_opt\u001b[0m\u001b[0;34m,\u001b[0m \u001b[0mn_cycle\u001b[0m\u001b[0;34m,\u001b[0m \u001b[0;34m**\u001b[0m\u001b[0mkwargs\u001b[0m\u001b[0;34m)\u001b[0m\u001b[0;34m\u001b[0m\u001b[0m\n\u001b[0m\u001b[1;32m    299\u001b[0m \u001b[0;34m\u001b[0m\u001b[0m\n\u001b[1;32m    300\u001b[0m     \u001b[0;32mdef\u001b[0m \u001b[0mwarm_up\u001b[0m\u001b[0;34m(\u001b[0m\u001b[0mself\u001b[0m\u001b[0;34m,\u001b[0m \u001b[0mlr\u001b[0m\u001b[0;34m,\u001b[0m \u001b[0mwds\u001b[0m\u001b[0;34m=\u001b[0m\u001b[0;32mNone\u001b[0m\u001b[0;34m)\u001b[0m\u001b[0;34m:\u001b[0m\u001b[0;34m\u001b[0m\u001b[0m\n",
      "\u001b[0;32m~/Desktop/PPMI/PPMI/fastai/learner.py\u001b[0m in \u001b[0;36mfit_gen\u001b[0;34m(self, model, data, layer_opt, n_cycle, cycle_len, cycle_mult, cycle_save_name, best_save_name, use_clr, use_clr_beta, metrics, callbacks, use_wd_sched, norm_wds, wds_sched_mult, use_swa, swa_start, swa_eval_freq, **kwargs)\u001b[0m\n\u001b[1;32m    243\u001b[0m             \u001b[0mmetrics\u001b[0m\u001b[0;34m=\u001b[0m\u001b[0mmetrics\u001b[0m\u001b[0;34m,\u001b[0m \u001b[0mcallbacks\u001b[0m\u001b[0;34m=\u001b[0m\u001b[0mcallbacks\u001b[0m\u001b[0;34m,\u001b[0m \u001b[0mreg_fn\u001b[0m\u001b[0;34m=\u001b[0m\u001b[0mself\u001b[0m\u001b[0;34m.\u001b[0m\u001b[0mreg_fn\u001b[0m\u001b[0;34m,\u001b[0m \u001b[0mclip\u001b[0m\u001b[0;34m=\u001b[0m\u001b[0mself\u001b[0m\u001b[0;34m.\u001b[0m\u001b[0mclip\u001b[0m\u001b[0;34m,\u001b[0m \u001b[0mfp16\u001b[0m\u001b[0;34m=\u001b[0m\u001b[0mself\u001b[0m\u001b[0;34m.\u001b[0m\u001b[0mfp16\u001b[0m\u001b[0;34m,\u001b[0m\u001b[0;34m\u001b[0m\u001b[0m\n\u001b[1;32m    244\u001b[0m             \u001b[0mswa_model\u001b[0m\u001b[0;34m=\u001b[0m\u001b[0mself\u001b[0m\u001b[0;34m.\u001b[0m\u001b[0mswa_model\u001b[0m \u001b[0;32mif\u001b[0m \u001b[0muse_swa\u001b[0m \u001b[0;32melse\u001b[0m \u001b[0;32mNone\u001b[0m\u001b[0;34m,\u001b[0m \u001b[0mswa_start\u001b[0m\u001b[0;34m=\u001b[0m\u001b[0mswa_start\u001b[0m\u001b[0;34m,\u001b[0m\u001b[0;34m\u001b[0m\u001b[0m\n\u001b[0;32m--> 245\u001b[0;31m             swa_eval_freq=swa_eval_freq, **kwargs)\n\u001b[0m\u001b[1;32m    246\u001b[0m \u001b[0;34m\u001b[0m\u001b[0m\n\u001b[1;32m    247\u001b[0m     \u001b[0;32mdef\u001b[0m \u001b[0mget_layer_groups\u001b[0m\u001b[0;34m(\u001b[0m\u001b[0mself\u001b[0m\u001b[0;34m)\u001b[0m\u001b[0;34m:\u001b[0m \u001b[0;32mreturn\u001b[0m \u001b[0mself\u001b[0m\u001b[0;34m.\u001b[0m\u001b[0mmodels\u001b[0m\u001b[0;34m.\u001b[0m\u001b[0mget_layer_groups\u001b[0m\u001b[0;34m(\u001b[0m\u001b[0;34m)\u001b[0m\u001b[0;34m\u001b[0m\u001b[0m\n",
      "\u001b[0;32m~/Desktop/PPMI/PPMI/fastai/model.py\u001b[0m in \u001b[0;36mfit\u001b[0;34m(model, data, n_epochs, opt, crit, metrics, callbacks, stepper, swa_model, swa_start, swa_eval_freq, visualize, **kwargs)\u001b[0m\n\u001b[1;32m    138\u001b[0m             \u001b[0mbatch_num\u001b[0m \u001b[0;34m+=\u001b[0m \u001b[0;36m1\u001b[0m\u001b[0;34m\u001b[0m\u001b[0m\n\u001b[1;32m    139\u001b[0m             \u001b[0;32mfor\u001b[0m \u001b[0mcb\u001b[0m \u001b[0;32min\u001b[0m \u001b[0mcallbacks\u001b[0m\u001b[0;34m:\u001b[0m \u001b[0mcb\u001b[0m\u001b[0;34m.\u001b[0m\u001b[0mon_batch_begin\u001b[0m\u001b[0;34m(\u001b[0m\u001b[0;34m)\u001b[0m\u001b[0;34m\u001b[0m\u001b[0m\n\u001b[0;32m--> 140\u001b[0;31m             \u001b[0mloss\u001b[0m \u001b[0;34m=\u001b[0m \u001b[0mmodel_stepper\u001b[0m\u001b[0;34m.\u001b[0m\u001b[0mstep\u001b[0m\u001b[0;34m(\u001b[0m\u001b[0mV\u001b[0m\u001b[0;34m(\u001b[0m\u001b[0mx\u001b[0m\u001b[0;34m)\u001b[0m\u001b[0;34m,\u001b[0m\u001b[0mV\u001b[0m\u001b[0;34m(\u001b[0m\u001b[0my\u001b[0m\u001b[0;34m)\u001b[0m\u001b[0;34m,\u001b[0m \u001b[0mepoch\u001b[0m\u001b[0;34m)\u001b[0m\u001b[0;34m\u001b[0m\u001b[0m\n\u001b[0m\u001b[1;32m    141\u001b[0m             \u001b[0mavg_loss\u001b[0m \u001b[0;34m=\u001b[0m \u001b[0mavg_loss\u001b[0m \u001b[0;34m*\u001b[0m \u001b[0mavg_mom\u001b[0m \u001b[0;34m+\u001b[0m \u001b[0mloss\u001b[0m \u001b[0;34m*\u001b[0m \u001b[0;34m(\u001b[0m\u001b[0;36m1\u001b[0m\u001b[0;34m-\u001b[0m\u001b[0mavg_mom\u001b[0m\u001b[0;34m)\u001b[0m\u001b[0;34m\u001b[0m\u001b[0m\n\u001b[1;32m    142\u001b[0m             \u001b[0mdebias_loss\u001b[0m \u001b[0;34m=\u001b[0m \u001b[0mavg_loss\u001b[0m \u001b[0;34m/\u001b[0m \u001b[0;34m(\u001b[0m\u001b[0;36m1\u001b[0m \u001b[0;34m-\u001b[0m \u001b[0mavg_mom\u001b[0m\u001b[0;34m**\u001b[0m\u001b[0mbatch_num\u001b[0m\u001b[0;34m)\u001b[0m\u001b[0;34m\u001b[0m\u001b[0m\n",
      "\u001b[0;32m~/Desktop/PPMI/PPMI/fastai/model.py\u001b[0m in \u001b[0;36mstep\u001b[0;34m(self, xs, y, epoch)\u001b[0m\n\u001b[1;32m     48\u001b[0m     \u001b[0;32mdef\u001b[0m \u001b[0mstep\u001b[0m\u001b[0;34m(\u001b[0m\u001b[0mself\u001b[0m\u001b[0;34m,\u001b[0m \u001b[0mxs\u001b[0m\u001b[0;34m,\u001b[0m \u001b[0my\u001b[0m\u001b[0;34m,\u001b[0m \u001b[0mepoch\u001b[0m\u001b[0;34m)\u001b[0m\u001b[0;34m:\u001b[0m\u001b[0;34m\u001b[0m\u001b[0m\n\u001b[1;32m     49\u001b[0m         \u001b[0mxtra\u001b[0m \u001b[0;34m=\u001b[0m \u001b[0;34m[\u001b[0m\u001b[0;34m]\u001b[0m\u001b[0;34m\u001b[0m\u001b[0m\n\u001b[0;32m---> 50\u001b[0;31m         \u001b[0moutput\u001b[0m \u001b[0;34m=\u001b[0m \u001b[0mself\u001b[0m\u001b[0;34m.\u001b[0m\u001b[0mm\u001b[0m\u001b[0;34m(\u001b[0m\u001b[0;34m*\u001b[0m\u001b[0mxs\u001b[0m\u001b[0;34m)\u001b[0m\u001b[0;34m\u001b[0m\u001b[0m\n\u001b[0m\u001b[1;32m     51\u001b[0m         \u001b[0;32mif\u001b[0m \u001b[0misinstance\u001b[0m\u001b[0;34m(\u001b[0m\u001b[0moutput\u001b[0m\u001b[0;34m,\u001b[0m\u001b[0mtuple\u001b[0m\u001b[0;34m)\u001b[0m\u001b[0;34m:\u001b[0m \u001b[0moutput\u001b[0m\u001b[0;34m,\u001b[0m\u001b[0;34m*\u001b[0m\u001b[0mxtra\u001b[0m \u001b[0;34m=\u001b[0m \u001b[0moutput\u001b[0m\u001b[0;34m\u001b[0m\u001b[0m\n\u001b[1;32m     52\u001b[0m         \u001b[0;32mif\u001b[0m \u001b[0mself\u001b[0m\u001b[0;34m.\u001b[0m\u001b[0mfp16\u001b[0m\u001b[0;34m:\u001b[0m \u001b[0mself\u001b[0m\u001b[0;34m.\u001b[0m\u001b[0mm\u001b[0m\u001b[0;34m.\u001b[0m\u001b[0mzero_grad\u001b[0m\u001b[0;34m(\u001b[0m\u001b[0;34m)\u001b[0m\u001b[0;34m\u001b[0m\u001b[0m\n",
      "\u001b[0;32m~/anaconda3/envs/fastai-cpu/lib/python3.6/site-packages/torch/nn/modules/module.py\u001b[0m in \u001b[0;36m__call__\u001b[0;34m(self, *input, **kwargs)\u001b[0m\n\u001b[1;32m    489\u001b[0m             \u001b[0mresult\u001b[0m \u001b[0;34m=\u001b[0m \u001b[0mself\u001b[0m\u001b[0;34m.\u001b[0m\u001b[0m_slow_forward\u001b[0m\u001b[0;34m(\u001b[0m\u001b[0;34m*\u001b[0m\u001b[0minput\u001b[0m\u001b[0;34m,\u001b[0m \u001b[0;34m**\u001b[0m\u001b[0mkwargs\u001b[0m\u001b[0;34m)\u001b[0m\u001b[0;34m\u001b[0m\u001b[0m\n\u001b[1;32m    490\u001b[0m         \u001b[0;32melse\u001b[0m\u001b[0;34m:\u001b[0m\u001b[0;34m\u001b[0m\u001b[0m\n\u001b[0;32m--> 491\u001b[0;31m             \u001b[0mresult\u001b[0m \u001b[0;34m=\u001b[0m \u001b[0mself\u001b[0m\u001b[0;34m.\u001b[0m\u001b[0mforward\u001b[0m\u001b[0;34m(\u001b[0m\u001b[0;34m*\u001b[0m\u001b[0minput\u001b[0m\u001b[0;34m,\u001b[0m \u001b[0;34m**\u001b[0m\u001b[0mkwargs\u001b[0m\u001b[0;34m)\u001b[0m\u001b[0;34m\u001b[0m\u001b[0m\n\u001b[0m\u001b[1;32m    492\u001b[0m         \u001b[0;32mfor\u001b[0m \u001b[0mhook\u001b[0m \u001b[0;32min\u001b[0m \u001b[0mself\u001b[0m\u001b[0;34m.\u001b[0m\u001b[0m_forward_hooks\u001b[0m\u001b[0;34m.\u001b[0m\u001b[0mvalues\u001b[0m\u001b[0;34m(\u001b[0m\u001b[0;34m)\u001b[0m\u001b[0;34m:\u001b[0m\u001b[0;34m\u001b[0m\u001b[0m\n\u001b[1;32m    493\u001b[0m             \u001b[0mhook_result\u001b[0m \u001b[0;34m=\u001b[0m \u001b[0mhook\u001b[0m\u001b[0;34m(\u001b[0m\u001b[0mself\u001b[0m\u001b[0;34m,\u001b[0m \u001b[0minput\u001b[0m\u001b[0;34m,\u001b[0m \u001b[0mresult\u001b[0m\u001b[0;34m)\u001b[0m\u001b[0;34m\u001b[0m\u001b[0m\n",
      "\u001b[0;32m<ipython-input-371-f8ccc3a9f968>\u001b[0m in \u001b[0;36mforward\u001b[0;34m(self, x)\u001b[0m\n\u001b[1;32m     58\u001b[0m         \u001b[0mx\u001b[0m \u001b[0;34m=\u001b[0m \u001b[0mx\u001b[0m\u001b[0;34m.\u001b[0m\u001b[0munsqueeze\u001b[0m\u001b[0;34m(\u001b[0m\u001b[0;36m1\u001b[0m\u001b[0;34m)\u001b[0m\u001b[0;34m\u001b[0m\u001b[0m\n\u001b[1;32m     59\u001b[0m         \u001b[0mx\u001b[0m \u001b[0;34m=\u001b[0m \u001b[0mself\u001b[0m\u001b[0;34m.\u001b[0m\u001b[0mfirst_layer\u001b[0m\u001b[0;34m(\u001b[0m\u001b[0mx\u001b[0m\u001b[0;34m)\u001b[0m\u001b[0;34m\u001b[0m\u001b[0m\n\u001b[0;32m---> 60\u001b[0;31m         \u001b[0mx\u001b[0m \u001b[0;34m=\u001b[0m \u001b[0mself\u001b[0m\u001b[0;34m.\u001b[0m\u001b[0mfeatures\u001b[0m\u001b[0;34m(\u001b[0m\u001b[0mx\u001b[0m\u001b[0;34m)\u001b[0m\u001b[0;34m\u001b[0m\u001b[0m\n\u001b[0m\u001b[1;32m     61\u001b[0m         \u001b[0;31m#x = torch.cat((x,y[:,:,0],y[:,:,1],y[:,:,2]),1)\u001b[0m\u001b[0;34m\u001b[0m\u001b[0;34m\u001b[0m\u001b[0m\n\u001b[1;32m     62\u001b[0m         \u001b[0mx\u001b[0m \u001b[0;34m=\u001b[0m \u001b[0mnn\u001b[0m\u001b[0;34m.\u001b[0m\u001b[0mAdaptiveAvgPool2d\u001b[0m\u001b[0;34m(\u001b[0m\u001b[0;36m1\u001b[0m\u001b[0;34m)\u001b[0m\u001b[0;34m(\u001b[0m\u001b[0mx\u001b[0m\u001b[0;34m)\u001b[0m\u001b[0;34m\u001b[0m\u001b[0m\n",
      "\u001b[0;32m~/anaconda3/envs/fastai-cpu/lib/python3.6/site-packages/torch/nn/modules/module.py\u001b[0m in \u001b[0;36m__call__\u001b[0;34m(self, *input, **kwargs)\u001b[0m\n\u001b[1;32m    489\u001b[0m             \u001b[0mresult\u001b[0m \u001b[0;34m=\u001b[0m \u001b[0mself\u001b[0m\u001b[0;34m.\u001b[0m\u001b[0m_slow_forward\u001b[0m\u001b[0;34m(\u001b[0m\u001b[0;34m*\u001b[0m\u001b[0minput\u001b[0m\u001b[0;34m,\u001b[0m \u001b[0;34m**\u001b[0m\u001b[0mkwargs\u001b[0m\u001b[0;34m)\u001b[0m\u001b[0;34m\u001b[0m\u001b[0m\n\u001b[1;32m    490\u001b[0m         \u001b[0;32melse\u001b[0m\u001b[0;34m:\u001b[0m\u001b[0;34m\u001b[0m\u001b[0m\n\u001b[0;32m--> 491\u001b[0;31m             \u001b[0mresult\u001b[0m \u001b[0;34m=\u001b[0m \u001b[0mself\u001b[0m\u001b[0;34m.\u001b[0m\u001b[0mforward\u001b[0m\u001b[0;34m(\u001b[0m\u001b[0;34m*\u001b[0m\u001b[0minput\u001b[0m\u001b[0;34m,\u001b[0m \u001b[0;34m**\u001b[0m\u001b[0mkwargs\u001b[0m\u001b[0;34m)\u001b[0m\u001b[0;34m\u001b[0m\u001b[0m\n\u001b[0m\u001b[1;32m    492\u001b[0m         \u001b[0;32mfor\u001b[0m \u001b[0mhook\u001b[0m \u001b[0;32min\u001b[0m \u001b[0mself\u001b[0m\u001b[0;34m.\u001b[0m\u001b[0m_forward_hooks\u001b[0m\u001b[0;34m.\u001b[0m\u001b[0mvalues\u001b[0m\u001b[0;34m(\u001b[0m\u001b[0;34m)\u001b[0m\u001b[0;34m:\u001b[0m\u001b[0;34m\u001b[0m\u001b[0m\n\u001b[1;32m    493\u001b[0m             \u001b[0mhook_result\u001b[0m \u001b[0;34m=\u001b[0m \u001b[0mhook\u001b[0m\u001b[0;34m(\u001b[0m\u001b[0mself\u001b[0m\u001b[0;34m,\u001b[0m \u001b[0minput\u001b[0m\u001b[0;34m,\u001b[0m \u001b[0mresult\u001b[0m\u001b[0;34m)\u001b[0m\u001b[0;34m\u001b[0m\u001b[0m\n",
      "\u001b[0;32m~/anaconda3/envs/fastai-cpu/lib/python3.6/site-packages/torch/nn/modules/container.py\u001b[0m in \u001b[0;36mforward\u001b[0;34m(self, input)\u001b[0m\n\u001b[1;32m     89\u001b[0m     \u001b[0;32mdef\u001b[0m \u001b[0mforward\u001b[0m\u001b[0;34m(\u001b[0m\u001b[0mself\u001b[0m\u001b[0;34m,\u001b[0m \u001b[0minput\u001b[0m\u001b[0;34m)\u001b[0m\u001b[0;34m:\u001b[0m\u001b[0;34m\u001b[0m\u001b[0m\n\u001b[1;32m     90\u001b[0m         \u001b[0;32mfor\u001b[0m \u001b[0mmodule\u001b[0m \u001b[0;32min\u001b[0m \u001b[0mself\u001b[0m\u001b[0;34m.\u001b[0m\u001b[0m_modules\u001b[0m\u001b[0;34m.\u001b[0m\u001b[0mvalues\u001b[0m\u001b[0;34m(\u001b[0m\u001b[0;34m)\u001b[0m\u001b[0;34m:\u001b[0m\u001b[0;34m\u001b[0m\u001b[0m\n\u001b[0;32m---> 91\u001b[0;31m             \u001b[0minput\u001b[0m \u001b[0;34m=\u001b[0m \u001b[0mmodule\u001b[0m\u001b[0;34m(\u001b[0m\u001b[0minput\u001b[0m\u001b[0;34m)\u001b[0m\u001b[0;34m\u001b[0m\u001b[0m\n\u001b[0m\u001b[1;32m     92\u001b[0m         \u001b[0;32mreturn\u001b[0m \u001b[0minput\u001b[0m\u001b[0;34m\u001b[0m\u001b[0m\n\u001b[1;32m     93\u001b[0m \u001b[0;34m\u001b[0m\u001b[0m\n",
      "\u001b[0;32m~/anaconda3/envs/fastai-cpu/lib/python3.6/site-packages/torch/nn/modules/module.py\u001b[0m in \u001b[0;36m__call__\u001b[0;34m(self, *input, **kwargs)\u001b[0m\n\u001b[1;32m    489\u001b[0m             \u001b[0mresult\u001b[0m \u001b[0;34m=\u001b[0m \u001b[0mself\u001b[0m\u001b[0;34m.\u001b[0m\u001b[0m_slow_forward\u001b[0m\u001b[0;34m(\u001b[0m\u001b[0;34m*\u001b[0m\u001b[0minput\u001b[0m\u001b[0;34m,\u001b[0m \u001b[0;34m**\u001b[0m\u001b[0mkwargs\u001b[0m\u001b[0;34m)\u001b[0m\u001b[0;34m\u001b[0m\u001b[0m\n\u001b[1;32m    490\u001b[0m         \u001b[0;32melse\u001b[0m\u001b[0;34m:\u001b[0m\u001b[0;34m\u001b[0m\u001b[0m\n\u001b[0;32m--> 491\u001b[0;31m             \u001b[0mresult\u001b[0m \u001b[0;34m=\u001b[0m \u001b[0mself\u001b[0m\u001b[0;34m.\u001b[0m\u001b[0mforward\u001b[0m\u001b[0;34m(\u001b[0m\u001b[0;34m*\u001b[0m\u001b[0minput\u001b[0m\u001b[0;34m,\u001b[0m \u001b[0;34m**\u001b[0m\u001b[0mkwargs\u001b[0m\u001b[0;34m)\u001b[0m\u001b[0;34m\u001b[0m\u001b[0m\n\u001b[0m\u001b[1;32m    492\u001b[0m         \u001b[0;32mfor\u001b[0m \u001b[0mhook\u001b[0m \u001b[0;32min\u001b[0m \u001b[0mself\u001b[0m\u001b[0;34m.\u001b[0m\u001b[0m_forward_hooks\u001b[0m\u001b[0;34m.\u001b[0m\u001b[0mvalues\u001b[0m\u001b[0;34m(\u001b[0m\u001b[0;34m)\u001b[0m\u001b[0;34m:\u001b[0m\u001b[0;34m\u001b[0m\u001b[0m\n\u001b[1;32m    493\u001b[0m             \u001b[0mhook_result\u001b[0m \u001b[0;34m=\u001b[0m \u001b[0mhook\u001b[0m\u001b[0;34m(\u001b[0m\u001b[0mself\u001b[0m\u001b[0;34m,\u001b[0m \u001b[0minput\u001b[0m\u001b[0;34m,\u001b[0m \u001b[0mresult\u001b[0m\u001b[0;34m)\u001b[0m\u001b[0;34m\u001b[0m\u001b[0m\n",
      "\u001b[0;32m<ipython-input-371-f8ccc3a9f968>\u001b[0m in \u001b[0;36mforward\u001b[0;34m(self, x)\u001b[0m\n\u001b[1;32m     11\u001b[0m         \u001b[0mself\u001b[0m\u001b[0;34m.\u001b[0m\u001b[0mconv2\u001b[0m\u001b[0;34m=\u001b[0m\u001b[0mconv_layer\u001b[0m\u001b[0;34m(\u001b[0m\u001b[0mni\u001b[0m\u001b[0;34m//\u001b[0m\u001b[0;36m2\u001b[0m\u001b[0;34m,\u001b[0m \u001b[0mni\u001b[0m\u001b[0;34m,\u001b[0m \u001b[0mks\u001b[0m\u001b[0;34m=\u001b[0m\u001b[0;36m3\u001b[0m\u001b[0;34m)\u001b[0m\u001b[0;34m\u001b[0m\u001b[0m\n\u001b[1;32m     12\u001b[0m \u001b[0;34m\u001b[0m\u001b[0m\n\u001b[0;32m---> 13\u001b[0;31m     \u001b[0;32mdef\u001b[0m \u001b[0mforward\u001b[0m\u001b[0;34m(\u001b[0m\u001b[0mself\u001b[0m\u001b[0;34m,\u001b[0m \u001b[0mx\u001b[0m\u001b[0;34m)\u001b[0m\u001b[0;34m:\u001b[0m \u001b[0;32mreturn\u001b[0m \u001b[0mx\u001b[0m\u001b[0;34m.\u001b[0m\u001b[0madd_\u001b[0m\u001b[0;34m(\u001b[0m\u001b[0mself\u001b[0m\u001b[0;34m.\u001b[0m\u001b[0mconv2\u001b[0m\u001b[0;34m(\u001b[0m\u001b[0mself\u001b[0m\u001b[0;34m.\u001b[0m\u001b[0mconv1\u001b[0m\u001b[0;34m(\u001b[0m\u001b[0mx\u001b[0m\u001b[0;34m.\u001b[0m\u001b[0mclone\u001b[0m\u001b[0;34m(\u001b[0m\u001b[0;34m)\u001b[0m\u001b[0;34m)\u001b[0m\u001b[0;34m)\u001b[0m\u001b[0;34m)\u001b[0m\u001b[0;34m\u001b[0m\u001b[0m\n\u001b[0m\u001b[1;32m     14\u001b[0m \u001b[0;34m\u001b[0m\u001b[0m\n\u001b[1;32m     15\u001b[0m \u001b[0;32mclass\u001b[0m \u001b[0mDarknet\u001b[0m\u001b[0;34m(\u001b[0m\u001b[0mnn\u001b[0m\u001b[0;34m.\u001b[0m\u001b[0mModule\u001b[0m\u001b[0;34m)\u001b[0m\u001b[0;34m:\u001b[0m\u001b[0;34m\u001b[0m\u001b[0m\n",
      "\u001b[0;32m~/anaconda3/envs/fastai-cpu/lib/python3.6/site-packages/torch/nn/modules/module.py\u001b[0m in \u001b[0;36m__call__\u001b[0;34m(self, *input, **kwargs)\u001b[0m\n\u001b[1;32m    489\u001b[0m             \u001b[0mresult\u001b[0m \u001b[0;34m=\u001b[0m \u001b[0mself\u001b[0m\u001b[0;34m.\u001b[0m\u001b[0m_slow_forward\u001b[0m\u001b[0;34m(\u001b[0m\u001b[0;34m*\u001b[0m\u001b[0minput\u001b[0m\u001b[0;34m,\u001b[0m \u001b[0;34m**\u001b[0m\u001b[0mkwargs\u001b[0m\u001b[0;34m)\u001b[0m\u001b[0;34m\u001b[0m\u001b[0m\n\u001b[1;32m    490\u001b[0m         \u001b[0;32melse\u001b[0m\u001b[0;34m:\u001b[0m\u001b[0;34m\u001b[0m\u001b[0m\n\u001b[0;32m--> 491\u001b[0;31m             \u001b[0mresult\u001b[0m \u001b[0;34m=\u001b[0m \u001b[0mself\u001b[0m\u001b[0;34m.\u001b[0m\u001b[0mforward\u001b[0m\u001b[0;34m(\u001b[0m\u001b[0;34m*\u001b[0m\u001b[0minput\u001b[0m\u001b[0;34m,\u001b[0m \u001b[0;34m**\u001b[0m\u001b[0mkwargs\u001b[0m\u001b[0;34m)\u001b[0m\u001b[0;34m\u001b[0m\u001b[0m\n\u001b[0m\u001b[1;32m    492\u001b[0m         \u001b[0;32mfor\u001b[0m \u001b[0mhook\u001b[0m \u001b[0;32min\u001b[0m \u001b[0mself\u001b[0m\u001b[0;34m.\u001b[0m\u001b[0m_forward_hooks\u001b[0m\u001b[0;34m.\u001b[0m\u001b[0mvalues\u001b[0m\u001b[0;34m(\u001b[0m\u001b[0;34m)\u001b[0m\u001b[0;34m:\u001b[0m\u001b[0;34m\u001b[0m\u001b[0m\n\u001b[1;32m    493\u001b[0m             \u001b[0mhook_result\u001b[0m \u001b[0;34m=\u001b[0m \u001b[0mhook\u001b[0m\u001b[0;34m(\u001b[0m\u001b[0mself\u001b[0m\u001b[0;34m,\u001b[0m \u001b[0minput\u001b[0m\u001b[0;34m,\u001b[0m \u001b[0mresult\u001b[0m\u001b[0;34m)\u001b[0m\u001b[0;34m\u001b[0m\u001b[0m\n",
      "\u001b[0;32m~/anaconda3/envs/fastai-cpu/lib/python3.6/site-packages/torch/nn/modules/container.py\u001b[0m in \u001b[0;36mforward\u001b[0;34m(self, input)\u001b[0m\n\u001b[1;32m     89\u001b[0m     \u001b[0;32mdef\u001b[0m \u001b[0mforward\u001b[0m\u001b[0;34m(\u001b[0m\u001b[0mself\u001b[0m\u001b[0;34m,\u001b[0m \u001b[0minput\u001b[0m\u001b[0;34m)\u001b[0m\u001b[0;34m:\u001b[0m\u001b[0;34m\u001b[0m\u001b[0m\n\u001b[1;32m     90\u001b[0m         \u001b[0;32mfor\u001b[0m \u001b[0mmodule\u001b[0m \u001b[0;32min\u001b[0m \u001b[0mself\u001b[0m\u001b[0;34m.\u001b[0m\u001b[0m_modules\u001b[0m\u001b[0;34m.\u001b[0m\u001b[0mvalues\u001b[0m\u001b[0;34m(\u001b[0m\u001b[0;34m)\u001b[0m\u001b[0;34m:\u001b[0m\u001b[0;34m\u001b[0m\u001b[0m\n\u001b[0;32m---> 91\u001b[0;31m             \u001b[0minput\u001b[0m \u001b[0;34m=\u001b[0m \u001b[0mmodule\u001b[0m\u001b[0;34m(\u001b[0m\u001b[0minput\u001b[0m\u001b[0;34m)\u001b[0m\u001b[0;34m\u001b[0m\u001b[0m\n\u001b[0m\u001b[1;32m     92\u001b[0m         \u001b[0;32mreturn\u001b[0m \u001b[0minput\u001b[0m\u001b[0;34m\u001b[0m\u001b[0m\n\u001b[1;32m     93\u001b[0m \u001b[0;34m\u001b[0m\u001b[0m\n",
      "\u001b[0;32m~/anaconda3/envs/fastai-cpu/lib/python3.6/site-packages/torch/nn/modules/module.py\u001b[0m in \u001b[0;36m__call__\u001b[0;34m(self, *input, **kwargs)\u001b[0m\n\u001b[1;32m    489\u001b[0m             \u001b[0mresult\u001b[0m \u001b[0;34m=\u001b[0m \u001b[0mself\u001b[0m\u001b[0;34m.\u001b[0m\u001b[0m_slow_forward\u001b[0m\u001b[0;34m(\u001b[0m\u001b[0;34m*\u001b[0m\u001b[0minput\u001b[0m\u001b[0;34m,\u001b[0m \u001b[0;34m**\u001b[0m\u001b[0mkwargs\u001b[0m\u001b[0;34m)\u001b[0m\u001b[0;34m\u001b[0m\u001b[0m\n\u001b[1;32m    490\u001b[0m         \u001b[0;32melse\u001b[0m\u001b[0;34m:\u001b[0m\u001b[0;34m\u001b[0m\u001b[0m\n\u001b[0;32m--> 491\u001b[0;31m             \u001b[0mresult\u001b[0m \u001b[0;34m=\u001b[0m \u001b[0mself\u001b[0m\u001b[0;34m.\u001b[0m\u001b[0mforward\u001b[0m\u001b[0;34m(\u001b[0m\u001b[0;34m*\u001b[0m\u001b[0minput\u001b[0m\u001b[0;34m,\u001b[0m \u001b[0;34m**\u001b[0m\u001b[0mkwargs\u001b[0m\u001b[0;34m)\u001b[0m\u001b[0;34m\u001b[0m\u001b[0m\n\u001b[0m\u001b[1;32m    492\u001b[0m         \u001b[0;32mfor\u001b[0m \u001b[0mhook\u001b[0m \u001b[0;32min\u001b[0m \u001b[0mself\u001b[0m\u001b[0;34m.\u001b[0m\u001b[0m_forward_hooks\u001b[0m\u001b[0;34m.\u001b[0m\u001b[0mvalues\u001b[0m\u001b[0;34m(\u001b[0m\u001b[0;34m)\u001b[0m\u001b[0;34m:\u001b[0m\u001b[0;34m\u001b[0m\u001b[0m\n\u001b[1;32m    493\u001b[0m             \u001b[0mhook_result\u001b[0m \u001b[0;34m=\u001b[0m \u001b[0mhook\u001b[0m\u001b[0;34m(\u001b[0m\u001b[0mself\u001b[0m\u001b[0;34m,\u001b[0m \u001b[0minput\u001b[0m\u001b[0;34m,\u001b[0m \u001b[0mresult\u001b[0m\u001b[0;34m)\u001b[0m\u001b[0;34m\u001b[0m\u001b[0m\n",
      "\u001b[0;32m~/anaconda3/envs/fastai-cpu/lib/python3.6/site-packages/torch/nn/modules/conv.py\u001b[0m in \u001b[0;36mforward\u001b[0;34m(self, input)\u001b[0m\n\u001b[1;32m    299\u001b[0m     \u001b[0;32mdef\u001b[0m \u001b[0mforward\u001b[0m\u001b[0;34m(\u001b[0m\u001b[0mself\u001b[0m\u001b[0;34m,\u001b[0m \u001b[0minput\u001b[0m\u001b[0;34m)\u001b[0m\u001b[0;34m:\u001b[0m\u001b[0;34m\u001b[0m\u001b[0m\n\u001b[1;32m    300\u001b[0m         return F.conv2d(input, self.weight, self.bias, self.stride,\n\u001b[0;32m--> 301\u001b[0;31m                         self.padding, self.dilation, self.groups)\n\u001b[0m\u001b[1;32m    302\u001b[0m \u001b[0;34m\u001b[0m\u001b[0m\n\u001b[1;32m    303\u001b[0m \u001b[0;34m\u001b[0m\u001b[0m\n",
      "\u001b[0;31mKeyboardInterrupt\u001b[0m: "
     ]
    }
   ],
   "source": [
    "for i in range(5):\n",
    "    for j in [1e-4 , 5e-4 , 1e-3]:\n",
    "        learner.fit(j,1)"
   ]
  },
  {
   "cell_type": "code",
   "execution_count": 186,
   "metadata": {},
   "outputs": [],
   "source": [
    "learner.save('test_sf_dk')"
   ]
  },
  {
   "cell_type": "code",
   "execution_count": 285,
   "metadata": {
    "scrolled": false
   },
   "outputs": [
    {
     "data": {
      "text/plain": [
       "array([[0.86113],\n",
       "       [0.86125],\n",
       "       [0.85928],\n",
       "       [0.86231],\n",
       "       [0.85933],\n",
       "       [0.85996],\n",
       "       [0.86695],\n",
       "       [0.85974],\n",
       "       [0.85762],\n",
       "       [0.85676],\n",
       "       [0.86233],\n",
       "       [0.86093],\n",
       "       [0.85772],\n",
       "       [0.86117],\n",
       "       [0.86459],\n",
       "       [0.85903],\n",
       "       [0.86027],\n",
       "       [0.86083],\n",
       "       [0.85848],\n",
       "       [0.85914],\n",
       "       [0.85948],\n",
       "       [0.85131],\n",
       "       [0.8608 ],\n",
       "       [0.85905],\n",
       "       [0.86075],\n",
       "       [0.85863],\n",
       "       [0.85791],\n",
       "       [0.86058],\n",
       "       [0.85812],\n",
       "       [0.8416 ],\n",
       "       [0.85958],\n",
       "       [0.86165],\n",
       "       [0.85219],\n",
       "       [0.86015],\n",
       "       [0.8645 ],\n",
       "       [0.85895],\n",
       "       [0.85912],\n",
       "       [0.86254],\n",
       "       [0.85849],\n",
       "       [0.85861],\n",
       "       [0.86032],\n",
       "       [0.85897],\n",
       "       [0.85573],\n",
       "       [0.8626 ],\n",
       "       [0.85957],\n",
       "       [0.85863],\n",
       "       [0.86341],\n",
       "       [0.8599 ],\n",
       "       [0.85999],\n",
       "       [0.85834],\n",
       "       [0.8443 ],\n",
       "       [0.85982],\n",
       "       [0.86069],\n",
       "       [0.86073],\n",
       "       [0.8596 ],\n",
       "       [0.86113],\n",
       "       [0.8593 ],\n",
       "       [0.8597 ],\n",
       "       [0.85746],\n",
       "       [0.85866],\n",
       "       [0.8587 ],\n",
       "       [0.86137],\n",
       "       [0.859  ],\n",
       "       [0.85985],\n",
       "       [0.85996],\n",
       "       [0.84143],\n",
       "       [0.85696],\n",
       "       [0.86153],\n",
       "       [0.85991],\n",
       "       [0.85875],\n",
       "       [0.86115],\n",
       "       [0.85856],\n",
       "       [0.86091],\n",
       "       [0.85949],\n",
       "       [0.85958],\n",
       "       [0.86069],\n",
       "       [0.85836],\n",
       "       [0.8598 ],\n",
       "       [0.85993],\n",
       "       [0.86004],\n",
       "       [0.86067],\n",
       "       [0.84396],\n",
       "       [0.86012],\n",
       "       [0.86196],\n",
       "       [0.8595 ],\n",
       "       [0.8596 ],\n",
       "       [0.8607 ],\n",
       "       [0.85905],\n",
       "       [0.86167],\n",
       "       [0.8577 ],\n",
       "       [0.8603 ],\n",
       "       [0.85899],\n",
       "       [0.85751],\n",
       "       [0.85969],\n",
       "       [0.86054],\n",
       "       [0.86018],\n",
       "       [0.86206],\n",
       "       [0.85992],\n",
       "       [0.85848],\n",
       "       [0.85978],\n",
       "       [0.86002],\n",
       "       [0.85909],\n",
       "       [0.85924],\n",
       "       [0.86016],\n",
       "       [0.85906],\n",
       "       [0.86068],\n",
       "       [0.85922],\n",
       "       [0.85814],\n",
       "       [0.8629 ],\n",
       "       [0.85709],\n",
       "       [0.86011],\n",
       "       [0.86102],\n",
       "       [0.86236],\n",
       "       [0.85942],\n",
       "       [0.86103],\n",
       "       [0.86057],\n",
       "       [0.84295],\n",
       "       [0.86072],\n",
       "       [0.8594 ],\n",
       "       [0.85825],\n",
       "       [0.84301],\n",
       "       [0.85811],\n",
       "       [0.85981],\n",
       "       [0.85908],\n",
       "       [0.84457],\n",
       "       [0.85982],\n",
       "       [0.84297],\n",
       "       [0.86137],\n",
       "       [0.86434],\n",
       "       [0.86124],\n",
       "       [0.86441],\n",
       "       [0.85921],\n",
       "       [0.84753],\n",
       "       [0.86117],\n",
       "       [0.86495],\n",
       "       [0.86023],\n",
       "       [0.86381],\n",
       "       [0.85976],\n",
       "       [0.86039],\n",
       "       [0.86049],\n",
       "       [0.86157],\n",
       "       [0.86224],\n",
       "       [0.86089],\n",
       "       [0.86097],\n",
       "       [0.85943],\n",
       "       [0.86056],\n",
       "       [0.85763],\n",
       "       [0.85972],\n",
       "       [0.8592 ],\n",
       "       [0.86006],\n",
       "       [0.85831],\n",
       "       [0.85896],\n",
       "       [0.86074],\n",
       "       [0.85822],\n",
       "       [0.86038],\n",
       "       [0.86316],\n",
       "       [0.86057],\n",
       "       [0.86218],\n",
       "       [0.84507],\n",
       "       [0.84286],\n",
       "       [0.85908],\n",
       "       [0.8396 ],\n",
       "       [0.85931],\n",
       "       [0.84437],\n",
       "       [0.84803],\n",
       "       [0.85799],\n",
       "       [0.86027],\n",
       "       [0.8603 ],\n",
       "       [0.86076],\n",
       "       [0.85824],\n",
       "       [0.85955],\n",
       "       [0.85698],\n",
       "       [0.85356],\n",
       "       [0.8619 ],\n",
       "       [0.86159],\n",
       "       [0.85602],\n",
       "       [0.86027],\n",
       "       [0.86248],\n",
       "       [0.85836],\n",
       "       [0.86045],\n",
       "       [0.85973],\n",
       "       [0.85831],\n",
       "       [0.85864],\n",
       "       [0.85925],\n",
       "       [0.86163],\n",
       "       [0.85865],\n",
       "       [0.85872],\n",
       "       [0.85993],\n",
       "       [0.86175],\n",
       "       [0.86378],\n",
       "       [0.86288],\n",
       "       [0.85884],\n",
       "       [0.85876],\n",
       "       [0.84475],\n",
       "       [0.86044],\n",
       "       [0.85935],\n",
       "       [0.86356],\n",
       "       [0.86103],\n",
       "       [0.85922],\n",
       "       [0.85912],\n",
       "       [0.86229],\n",
       "       [0.85945],\n",
       "       [0.85895],\n",
       "       [0.86005],\n",
       "       [0.85983],\n",
       "       [0.86114],\n",
       "       [0.86141],\n",
       "       [0.85871],\n",
       "       [0.84204],\n",
       "       [0.85924],\n",
       "       [0.86344],\n",
       "       [0.85816]], dtype=float32)"
      ]
     },
     "execution_count": 285,
     "metadata": {},
     "output_type": "execute_result"
    }
   ],
   "source": [
    "from scipy.special import expit\n",
    "pred = expit(learner.predict(is_test=True))\n",
    "pred"
   ]
  },
  {
   "cell_type": "code",
   "execution_count": 286,
   "metadata": {},
   "outputs": [],
   "source": [
    "predict=[]\n",
    "for i in pred:\n",
    "    if i >= 0.5:\n",
    "        predict.append(1)\n",
    "    else:\n",
    "        predict.append(0)"
   ]
  },
  {
   "cell_type": "code",
   "execution_count": 287,
   "metadata": {},
   "outputs": [],
   "source": [
    "fin = ((y_test.reshape(-1))==predict)"
   ]
  },
  {
   "cell_type": "code",
   "execution_count": 288,
   "metadata": {},
   "outputs": [
    {
     "name": "stdout",
     "output_type": "stream",
     "text": [
      "Accuracy\n"
     ]
    },
    {
     "data": {
      "text/plain": [
       "0.8584905660377359"
      ]
     },
     "execution_count": 288,
     "metadata": {},
     "output_type": "execute_result"
    }
   ],
   "source": [
    "print('Accuracy')\n",
    "np.count_nonzero(fin == True) / len(fin)"
   ]
  },
  {
   "cell_type": "code",
   "execution_count": 289,
   "metadata": {
    "scrolled": true
   },
   "outputs": [
    {
     "name": "stdout",
     "output_type": "stream",
     "text": [
      "False negative\n"
     ]
    },
    {
     "data": {
      "text/plain": [
       "0.0"
      ]
     },
     "execution_count": 289,
     "metadata": {},
     "output_type": "execute_result"
    }
   ],
   "source": [
    "print('False negative')\n",
    "np.sum((y_test.reshape(-1))>np.array(predict))/len(fin)"
   ]
  },
  {
   "cell_type": "code",
   "execution_count": 207,
   "metadata": {},
   "outputs": [
    {
     "name": "stdout",
     "output_type": "stream",
     "text": [
      "False positive\n"
     ]
    },
    {
     "data": {
      "text/plain": [
       "0.018867924528301886"
      ]
     },
     "execution_count": 207,
     "metadata": {},
     "output_type": "execute_result"
    }
   ],
   "source": [
    "print('False positive')\n",
    "np.sum((y_test.reshape(-1))<np.array(predict))/len(fin)"
   ]
  },
  {
   "cell_type": "code",
   "execution_count": null,
   "metadata": {
    "scrolled": false
   },
   "outputs": [],
   "source": [
    "sklearn.metrics.precision_recall_fscore_support(y_test, np.array(predict))"
   ]
  },
  {
   "cell_type": "code",
   "execution_count": null,
   "metadata": {},
   "outputs": [],
   "source": []
  },
  {
   "cell_type": "code",
   "execution_count": null,
   "metadata": {},
   "outputs": [],
   "source": []
  },
  {
   "cell_type": "code",
   "execution_count": 45,
   "metadata": {
    "scrolled": false
   },
   "outputs": [
    {
     "data": {
      "text/plain": [
       "Darknet(\n",
       "  (features): Sequential(\n",
       "    (0): Sequential(\n",
       "      (0): Conv2d(1, 32, kernel_size=(3, 3), stride=(1, 1), padding=(1, 1), bias=False)\n",
       "      (1): BatchNorm2d(32, eps=1e-05, momentum=0.01, affine=True, track_running_stats=True)\n",
       "      (2): LeakyReLU(negative_slope=0.1)\n",
       "    )\n",
       "    (1): Sequential(\n",
       "      (0): Conv2d(32, 64, kernel_size=(3, 3), stride=(2, 2), padding=(1, 1), bias=False)\n",
       "      (1): BatchNorm2d(64, eps=1e-05, momentum=0.01, affine=True, track_running_stats=True)\n",
       "      (2): LeakyReLU(negative_slope=0.1)\n",
       "    )\n",
       "    (2): ResLayer(\n",
       "      (conv1): Sequential(\n",
       "        (0): Conv2d(64, 32, kernel_size=(1, 1), stride=(1, 1), bias=False)\n",
       "        (1): BatchNorm2d(32, eps=1e-05, momentum=0.01, affine=True, track_running_stats=True)\n",
       "        (2): LeakyReLU(negative_slope=0.1)\n",
       "      )\n",
       "      (conv2): Sequential(\n",
       "        (0): Conv2d(32, 64, kernel_size=(3, 3), stride=(1, 1), padding=(1, 1), bias=False)\n",
       "        (1): BatchNorm2d(64, eps=1e-05, momentum=0.01, affine=True, track_running_stats=True)\n",
       "        (2): LeakyReLU(negative_slope=0.1)\n",
       "      )\n",
       "    )\n",
       "    (3): Sequential(\n",
       "      (0): Conv2d(64, 128, kernel_size=(3, 3), stride=(1, 1), padding=(1, 1), bias=False)\n",
       "      (1): BatchNorm2d(128, eps=1e-05, momentum=0.01, affine=True, track_running_stats=True)\n",
       "      (2): LeakyReLU(negative_slope=0.1)\n",
       "    )\n",
       "    (4): ResLayer(\n",
       "      (conv1): Sequential(\n",
       "        (0): Conv2d(128, 64, kernel_size=(1, 1), stride=(1, 1), bias=False)\n",
       "        (1): BatchNorm2d(64, eps=1e-05, momentum=0.01, affine=True, track_running_stats=True)\n",
       "        (2): LeakyReLU(negative_slope=0.1)\n",
       "      )\n",
       "      (conv2): Sequential(\n",
       "        (0): Conv2d(64, 128, kernel_size=(3, 3), stride=(1, 1), padding=(1, 1), bias=False)\n",
       "        (1): BatchNorm2d(128, eps=1e-05, momentum=0.01, affine=True, track_running_stats=True)\n",
       "        (2): LeakyReLU(negative_slope=0.1)\n",
       "      )\n",
       "    )\n",
       "    (5): ResLayer(\n",
       "      (conv1): Sequential(\n",
       "        (0): Conv2d(128, 64, kernel_size=(1, 1), stride=(1, 1), bias=False)\n",
       "        (1): BatchNorm2d(64, eps=1e-05, momentum=0.01, affine=True, track_running_stats=True)\n",
       "        (2): LeakyReLU(negative_slope=0.1)\n",
       "      )\n",
       "      (conv2): Sequential(\n",
       "        (0): Conv2d(64, 128, kernel_size=(3, 3), stride=(1, 1), padding=(1, 1), bias=False)\n",
       "        (1): BatchNorm2d(128, eps=1e-05, momentum=0.01, affine=True, track_running_stats=True)\n",
       "        (2): LeakyReLU(negative_slope=0.1)\n",
       "      )\n",
       "    )\n",
       "    (6): Sequential(\n",
       "      (0): Conv2d(128, 256, kernel_size=(3, 3), stride=(2, 2), padding=(1, 1), bias=False)\n",
       "      (1): BatchNorm2d(256, eps=1e-05, momentum=0.01, affine=True, track_running_stats=True)\n",
       "      (2): LeakyReLU(negative_slope=0.1)\n",
       "    )\n",
       "    (7): ResLayer(\n",
       "      (conv1): Sequential(\n",
       "        (0): Conv2d(256, 128, kernel_size=(1, 1), stride=(1, 1), bias=False)\n",
       "        (1): BatchNorm2d(128, eps=1e-05, momentum=0.01, affine=True, track_running_stats=True)\n",
       "        (2): LeakyReLU(negative_slope=0.1)\n",
       "      )\n",
       "      (conv2): Sequential(\n",
       "        (0): Conv2d(128, 256, kernel_size=(3, 3), stride=(1, 1), padding=(1, 1), bias=False)\n",
       "        (1): BatchNorm2d(256, eps=1e-05, momentum=0.01, affine=True, track_running_stats=True)\n",
       "        (2): LeakyReLU(negative_slope=0.1)\n",
       "      )\n",
       "    )\n",
       "    (8): ResLayer(\n",
       "      (conv1): Sequential(\n",
       "        (0): Conv2d(256, 128, kernel_size=(1, 1), stride=(1, 1), bias=False)\n",
       "        (1): BatchNorm2d(128, eps=1e-05, momentum=0.01, affine=True, track_running_stats=True)\n",
       "        (2): LeakyReLU(negative_slope=0.1)\n",
       "      )\n",
       "      (conv2): Sequential(\n",
       "        (0): Conv2d(128, 256, kernel_size=(3, 3), stride=(1, 1), padding=(1, 1), bias=False)\n",
       "        (1): BatchNorm2d(256, eps=1e-05, momentum=0.01, affine=True, track_running_stats=True)\n",
       "        (2): LeakyReLU(negative_slope=0.1)\n",
       "      )\n",
       "    )\n",
       "    (9): ResLayer(\n",
       "      (conv1): Sequential(\n",
       "        (0): Conv2d(256, 128, kernel_size=(1, 1), stride=(1, 1), bias=False)\n",
       "        (1): BatchNorm2d(128, eps=1e-05, momentum=0.01, affine=True, track_running_stats=True)\n",
       "        (2): LeakyReLU(negative_slope=0.1)\n",
       "      )\n",
       "      (conv2): Sequential(\n",
       "        (0): Conv2d(128, 256, kernel_size=(3, 3), stride=(1, 1), padding=(1, 1), bias=False)\n",
       "        (1): BatchNorm2d(256, eps=1e-05, momentum=0.01, affine=True, track_running_stats=True)\n",
       "        (2): LeakyReLU(negative_slope=0.1)\n",
       "      )\n",
       "    )\n",
       "    (10): ResLayer(\n",
       "      (conv1): Sequential(\n",
       "        (0): Conv2d(256, 128, kernel_size=(1, 1), stride=(1, 1), bias=False)\n",
       "        (1): BatchNorm2d(128, eps=1e-05, momentum=0.01, affine=True, track_running_stats=True)\n",
       "        (2): LeakyReLU(negative_slope=0.1)\n",
       "      )\n",
       "      (conv2): Sequential(\n",
       "        (0): Conv2d(128, 256, kernel_size=(3, 3), stride=(1, 1), padding=(1, 1), bias=False)\n",
       "        (1): BatchNorm2d(256, eps=1e-05, momentum=0.01, affine=True, track_running_stats=True)\n",
       "        (2): LeakyReLU(negative_slope=0.1)\n",
       "      )\n",
       "    )\n",
       "    (11): AdaptiveAvgPool2d(output_size=1)\n",
       "    (12): Flatten()\n",
       "  )\n",
       "  (fc1): Sequential(\n",
       "    (0): Linear(in_features=256, out_features=64, bias=True)\n",
       "    (1): LeakyReLU(negative_slope=0.1)\n",
       "    (2): Dropout(p=0.3)\n",
       "    (3): Dropout(p=0.5)\n",
       "  )\n",
       "  (layers): Sequential(\n",
       "    (0): Linear(in_features=64, out_features=1, bias=True)\n",
       "  )\n",
       ")"
      ]
     },
     "execution_count": 45,
     "metadata": {},
     "output_type": "execute_result"
    }
   ],
   "source": [
    "m = Darknet([1,2,4], num_classes=1, nf=32)\n",
    "m.double()\n",
    "#m = nn.DataParallel(m, [1,2,3])"
   ]
  },
  {
   "cell_type": "code",
   "execution_count": 210,
   "metadata": {},
   "outputs": [],
   "source": [
    "#m= m.eval()\n",
    "#set_trainable(m, False)"
   ]
  },
  {
   "cell_type": "code",
   "execution_count": 199,
   "metadata": {},
   "outputs": [
    {
     "data": {
      "text/plain": [
       "ResLayer(\n",
       "  (conv1): Sequential(\n",
       "    (0): Conv2d(128, 64, kernel_size=(1, 1), stride=(1, 1), bias=False)\n",
       "    (1): BatchNorm2d(64, eps=1e-05, momentum=0.01, affine=True, track_running_stats=True)\n",
       "    (2): LeakyReLU(negative_slope=0.1)\n",
       "  )\n",
       "  (conv2): Sequential(\n",
       "    (0): Conv2d(64, 128, kernel_size=(3, 3), stride=(1, 1), padding=(1, 1), bias=False)\n",
       "    (1): BatchNorm2d(128, eps=1e-05, momentum=0.01, affine=True, track_running_stats=True)\n",
       "    (2): LeakyReLU(negative_slope=0.1)\n",
       "  )\n",
       ")"
      ]
     },
     "execution_count": 199,
     "metadata": {},
     "output_type": "execute_result"
    }
   ],
   "source": [
    "children(m)[0][5]"
   ]
  },
  {
   "cell_type": "code",
   "execution_count": 46,
   "metadata": {},
   "outputs": [],
   "source": [
    "class SaveFeatures():\n",
    "    features=None\n",
    "    def __init__(self, m): self.hook = m.register_forward_hook(self.hook_fn)\n",
    "    def hook_fn(self, module, input, output): self.features = output\n",
    "    def close(self): self.hook.remove()"
   ]
  },
  {
   "cell_type": "code",
   "execution_count": 47,
   "metadata": {},
   "outputs": [],
   "source": [
    "sf = SaveFeatures(children(m)[0][5])"
   ]
  },
  {
   "cell_type": "code",
   "execution_count": 48,
   "metadata": {},
   "outputs": [
    {
     "name": "stdout",
     "output_type": "stream",
     "text": [
      "cpu\n"
     ]
    }
   ],
   "source": [
    "device = torch.device(\"cuda:0\" if torch.cuda.is_available() else \"cpu\")\n",
    "#device = \"cpu\"\n",
    "m.to(device)\n",
    "print(device)"
   ]
  },
  {
   "cell_type": "code",
   "execution_count": 49,
   "metadata": {},
   "outputs": [],
   "source": [
    "optimizer = optim.Adam(m.parameters(), lr = 1e-3)\n",
    "criterion = nn.BCEWithLogitsLoss()\n",
    "scheduler = optim.lr_scheduler.ExponentialLR(optimizer, gamma = 0.95)"
   ]
  },
  {
   "cell_type": "code",
   "execution_count": 50,
   "metadata": {},
   "outputs": [],
   "source": [
    "losslog=[]\n",
    "vallog=[]"
   ]
  },
  {
   "cell_type": "code",
   "execution_count": 51,
   "metadata": {},
   "outputs": [],
   "source": [
    "torch.backends.cudnn.benchmark=True"
   ]
  },
  {
   "cell_type": "code",
   "execution_count": null,
   "metadata": {},
   "outputs": [],
   "source": []
  },
  {
   "cell_type": "code",
   "execution_count": 91,
   "metadata": {},
   "outputs": [],
   "source": [
    "def train(niter):\n",
    "    for epoch in trange(niter):  # loop over the dataset multiple times\n",
    "        running_loss = 0.0        \n",
    "        global total_iter\n",
    "        m.train(True)\n",
    "        scheduler.step()\n",
    "        with tqdm(total=len(X_train)) as pbar:\n",
    "            iterloss=[]\n",
    "            for i, (x, y) in enumerate(zip(X_train,y_train)):\n",
    "                x,y = x.to(device),y.to(device)\n",
    "\n",
    "                #i += 1\n",
    "                # zero the parameter gradients\n",
    "                optimizer.zero_grad()\n",
    "\n",
    "                # forward + backward + optimize\n",
    "                outputs = m(x)\n",
    "                loss = criterion(outputs,y.double().unsqueeze(1))\n",
    "                \n",
    "                loss.backward()\n",
    "                for param in optimizer.param_groups[0]['params']:\n",
    "                    param.data = param.data.add(-0.0001 * optimizer.param_groups[0]['lr'], param.data)\n",
    "                optimizer.step()\n",
    "\n",
    "                pbar.update()\n",
    "\n",
    "                \n",
    "\n",
    "                running_loss += loss.item()\n",
    "                if i % 10 == 9:    # print every 20 mini-batches\n",
    "                    print('[%d, %5d]  Train BCElogits loss: %.3f' %\n",
    "                          (epoch + 1, i + 1, running_loss / 10))\n",
    "                    losslog.append(running_loss/10)\n",
    "                    iterloss.append(running_loss/10)\n",
    "                    running_loss = 0.0\n",
    "            total_iter +=1\n",
    "            print(iterloss)\n",
    "            #writer.add_scalar(\"Trainloss\", sum(iterloss)/len(X_train) , total_iter)   \n",
    "        #Eval\n",
    "        m.eval()\n",
    "        with tqdm(total=len(X_val)) as pbar:\n",
    "            with torch.no_grad():\n",
    "                truth = []\n",
    "                predicted =[]\n",
    "                \n",
    "                correct = 0\n",
    "                total = 0\n",
    "                for i, ( x, y) in enumerate(zip(X_val, y_val)):\n",
    "                    x,y = x.to(device),y.to(device)\n",
    "\n",
    "                    # forward + backward + optimize\n",
    "                    corr = []\n",
    "                    outputs = m(x)\n",
    "                    loss = criterion(outputs,y.double().unsqueeze(1))\n",
    "                    pred = (F.sigmoid(outputs))\n",
    "                    for i in pred:\n",
    "                        if i >= 0.5: corr.append(1)\n",
    "                        else: corr.append(0)\n",
    "                    total += y.size(0)\n",
    "                    correct += (corr == y.cpu().numpy()).sum()\n",
    "                    predicted.append(pred)\n",
    "                    truth.append(y)\n",
    "                    pbar.update()\n",
    "                    \n",
    "                    \n",
    "                \n",
    "                valloss = loss.item()\n",
    "                vallog.append(valloss)\n",
    "                print(f'BCELogitsLoss: {valloss}')\n",
    "                print('Accuracy of the network on the val images: %d %%' % (100 * correct / total))\n",
    "                #cmat = confusion_matrix(truth, predicted)'''\n",
    "            \n",
    "    print('Finished Training')\n",
    "    return vallog, truth, predicted"
   ]
  },
  {
   "cell_type": "code",
   "execution_count": 158,
   "metadata": {},
   "outputs": [],
   "source": [
    "m.load_state_dict(torch.load('test_sf_Darknet.pth'))"
   ]
  },
  {
   "cell_type": "code",
   "execution_count": 139,
   "metadata": {},
   "outputs": [],
   "source": [
    "def train(niter):\n",
    "    for epoch in trange(niter):  # loop over the dataset multiple times\n",
    "\n",
    "        with tqdm(total=len(X_train)) as pbar:\n",
    "            with torch.no_grad():\n",
    "                for x in X_train:\n",
    "                    x= x.to(device)\n",
    "\n",
    "                    optimizer.zero_grad()\n",
    "\n",
    "                    # forward + backward + optimize\n",
    "                    m(x)\n",
    "                    out = sf.features\n",
    "\n",
    "                    #optimizer.step()\n",
    "                    pbar.update()\n",
    "    \n",
    "    return out         \n",
    "\n",
    "                "
   ]
  },
  {
   "cell_type": "code",
   "execution_count": 94,
   "metadata": {},
   "outputs": [
    {
     "name": "stdout",
     "output_type": "stream",
     "text": [
      " 40%|████      | 10/25 [00:48<01:12,  4.84s/it][1,    10]  Train BCElogits loss: 0.133\n",
      " 80%|████████  | 20/25 [01:35<00:23,  4.77s/it][1,    20]  Train BCElogits loss: 0.127\n",
      "100%|██████████| 25/25 [01:54<00:00,  3.50s/it][0.1327685457799309, 0.12700764040137608]\n",
      "\n",
      "100%|██████████| 11/11 [00:17<00:00,  1.39s/it]BCELogitsLoss: 0.023307915178504272\n",
      "Accuracy of the network on the val images: 89 %\n",
      "\n",
      " 40%|████      | 10/25 [00:49<01:10,  4.70s/it][2,    10]  Train BCElogits loss: 0.092\n",
      " 80%|████████  | 20/25 [01:38<00:25,  5.12s/it][2,    20]  Train BCElogits loss: 0.110\n",
      "100%|██████████| 25/25 [01:59<00:00,  3.72s/it][0.09164449796011787, 0.10963034805347646]\n",
      "\n",
      "100%|██████████| 11/11 [00:16<00:00,  1.36s/it]BCELogitsLoss: 0.024245736798116462\n",
      "Accuracy of the network on the val images: 89 %\n",
      "\n",
      "100%|██████████| 2/2 [04:28<00:00, 134.12s/it]Finished Training\n"
     ]
    }
   ],
   "source": [
    "total_iter=0\n",
    "b = train(2)"
   ]
  },
  {
   "cell_type": "code",
   "execution_count": 93,
   "metadata": {
    "scrolled": false
   },
   "outputs": [
    {
     "data": {
      "text/plain": [
       "([0.2861922718989941,\n",
       "  0.03844070351255366,\n",
       "  0.02203219919389362,\n",
       "  0.02081441773452343,\n",
       "  0.03099813922149177,\n",
       "  0.032895262515323515,\n",
       "  0.029815545325378827],\n",
       " [tensor([ 1.,  1.,  1.,  1.,  1.,  1.,  1.,  1.,  1.,  0.,  1.,  1.,\n",
       "           1.,  1.,  0.,  1.,  1.,  1.,  1.,  0.,  1.,  1.,  0.,  1.,\n",
       "           1.,  1.,  1.,  1.,  1.,  1.,  1.,  1.], dtype=torch.float64),\n",
       "  tensor([ 1.,  1.,  1.,  1.,  1.,  1.,  1.,  1.,  0.,  1.,  1.,  1.,\n",
       "           1.,  1.,  1.,  1.,  1.,  1.,  1.,  1.,  1.,  0.,  1.,  1.,\n",
       "           1.,  1.,  1.,  1.,  1.,  0.,  1.,  1.], dtype=torch.float64),\n",
       "  tensor([ 1.,  1.,  1.,  1.,  1.,  1.,  0.,  1.,  1.,  1.,  1.,  1.,\n",
       "           1.,  0.,  1.,  1.,  1.,  1.,  1.,  0.,  1.,  0.,  0.,  1.,\n",
       "           1.,  1.,  1.,  1.,  1.,  1.,  0.,  1.], dtype=torch.float64),\n",
       "  tensor([ 1.,  1.,  1.,  1.,  1.,  1.,  1.,  1.,  1.,  1.,  1.,  1.,\n",
       "           1.,  1.,  1.,  0.,  1.,  1.,  1.,  1.,  1.,  1.,  1.,  0.,\n",
       "           1.,  1.,  1.,  1.,  1.,  1.,  1.,  1.], dtype=torch.float64),\n",
       "  tensor([ 1.,  1.,  1.,  1.,  1.,  1.,  1.,  1.,  1.,  1.,  1.,  0.,\n",
       "           1.,  1.,  1.,  1.,  1.,  1.,  1.,  0.,  1.,  1.,  1.,  1.,\n",
       "           0.,  1.,  1.,  1.,  1.,  0.,  1.,  0.], dtype=torch.float64),\n",
       "  tensor([ 1.,  1.,  1.,  1.,  1.,  1.,  1.,  1.,  1.,  1.,  1.,  0.,\n",
       "           1.,  1.,  1.,  1.,  1.,  1.,  0.,  0.,  1.,  1.,  0.,  1.,\n",
       "           1.,  1.,  1.,  1.,  1.,  1.,  1.,  1.], dtype=torch.float64),\n",
       "  tensor([ 1.,  1.,  1.,  1.,  1.,  1.,  1.,  1.,  1.,  1.,  1.,  1.,\n",
       "           0.,  1.,  1.,  1.,  1.,  1.,  1.,  1.,  1.,  1.,  1.,  1.,\n",
       "           1.,  1.,  0.,  1.,  1.,  1.,  1.,  1.], dtype=torch.float64),\n",
       "  tensor([ 1.,  1.,  1.,  1.,  1.,  1.,  1.,  1.,  1.,  1.,  1.,  1.,\n",
       "           1.,  1.,  1.,  0.,  0.,  1.,  1.,  1.,  1.,  1.,  1.,  1.,\n",
       "           1.,  1.,  1.,  1.,  1.,  1.,  1.,  1.], dtype=torch.float64),\n",
       "  tensor([ 1.,  1.,  1.,  1.,  1.,  1.,  1.,  1.,  1.,  1.,  1.,  1.,\n",
       "           1.,  1.,  1.,  1.,  1.,  1.,  1.,  1.,  0.,  1.,  1.,  1.,\n",
       "           1.,  1.,  1.,  1.,  1.,  0.,  1.,  1.], dtype=torch.float64),\n",
       "  tensor([ 1.,  1.,  1.,  1.,  0.,  1.,  1.,  1.,  1.,  1.,  1.,  1.,\n",
       "           1.,  1.,  0.,  1.,  1.,  1.,  0.,  1.,  1.,  1.,  1.,  1.,\n",
       "           1.,  1.,  1.,  0.,  1.,  1.,  1.,  1.], dtype=torch.float64),\n",
       "  tensor([ 1.,  1.,  1.,  1.,  1.,  1.,  1.,  1.,  1.,  1.,  1.,  1.,\n",
       "           1.], dtype=torch.float64)],\n",
       " [tensor([[ 1.0000],\n",
       "          [ 1.0000],\n",
       "          [ 1.0000],\n",
       "          [ 1.0000],\n",
       "          [ 0.6626],\n",
       "          [ 0.8269],\n",
       "          [ 0.6347],\n",
       "          [ 1.0000],\n",
       "          [ 1.0000],\n",
       "          [ 1.0000],\n",
       "          [ 1.0000],\n",
       "          [ 0.6232],\n",
       "          [ 1.0000],\n",
       "          [ 1.0000],\n",
       "          [ 1.0000],\n",
       "          [ 0.7160],\n",
       "          [ 1.0000],\n",
       "          [ 1.0000],\n",
       "          [ 1.0000],\n",
       "          [ 1.0000],\n",
       "          [ 1.0000],\n",
       "          [ 1.0000],\n",
       "          [ 0.9999],\n",
       "          [ 1.0000],\n",
       "          [ 0.9999],\n",
       "          [ 1.0000],\n",
       "          [ 0.9999],\n",
       "          [ 1.0000],\n",
       "          [ 1.0000],\n",
       "          [ 1.0000],\n",
       "          [ 1.0000],\n",
       "          [ 1.0000]], dtype=torch.float64), tensor([[ 1.0000],\n",
       "          [ 1.0000],\n",
       "          [ 1.0000],\n",
       "          [ 1.0000],\n",
       "          [ 1.0000],\n",
       "          [ 1.0000],\n",
       "          [ 1.0000],\n",
       "          [ 0.9999],\n",
       "          [ 0.9999],\n",
       "          [ 1.0000],\n",
       "          [ 1.0000],\n",
       "          [ 1.0000],\n",
       "          [ 1.0000],\n",
       "          [ 1.0000],\n",
       "          [ 1.0000],\n",
       "          [ 0.9999],\n",
       "          [ 1.0000],\n",
       "          [ 1.0000],\n",
       "          [ 1.0000],\n",
       "          [ 1.0000],\n",
       "          [ 1.0000],\n",
       "          [ 1.0000],\n",
       "          [ 0.7405],\n",
       "          [ 1.0000],\n",
       "          [ 0.6986],\n",
       "          [ 1.0000],\n",
       "          [ 1.0000],\n",
       "          [ 1.0000],\n",
       "          [ 0.7295],\n",
       "          [ 1.0000],\n",
       "          [ 1.0000],\n",
       "          [ 1.0000]], dtype=torch.float64), tensor([[ 1.0000],\n",
       "          [ 1.0000],\n",
       "          [ 1.0000],\n",
       "          [ 1.0000],\n",
       "          [ 1.0000],\n",
       "          [ 1.0000],\n",
       "          [ 1.0000],\n",
       "          [ 1.0000],\n",
       "          [ 1.0000],\n",
       "          [ 1.0000],\n",
       "          [ 1.0000],\n",
       "          [ 1.0000],\n",
       "          [ 1.0000],\n",
       "          [ 1.0000],\n",
       "          [ 1.0000],\n",
       "          [ 1.0000],\n",
       "          [ 0.7720],\n",
       "          [ 1.0000],\n",
       "          [ 1.0000],\n",
       "          [ 1.0000],\n",
       "          [ 1.0000],\n",
       "          [ 1.0000],\n",
       "          [ 1.0000],\n",
       "          [ 1.0000],\n",
       "          [ 1.0000],\n",
       "          [ 1.0000],\n",
       "          [ 1.0000],\n",
       "          [ 1.0000],\n",
       "          [ 0.7764],\n",
       "          [ 1.0000],\n",
       "          [ 0.9999],\n",
       "          [ 1.0000]], dtype=torch.float64), tensor([[ 1.0000],\n",
       "          [ 1.0000],\n",
       "          [ 1.0000],\n",
       "          [ 1.0000],\n",
       "          [ 0.9217],\n",
       "          [ 0.6687],\n",
       "          [ 1.0000],\n",
       "          [ 0.9294],\n",
       "          [ 1.0000],\n",
       "          [ 1.0000],\n",
       "          [ 1.0000],\n",
       "          [ 0.6561],\n",
       "          [ 1.0000],\n",
       "          [ 1.0000],\n",
       "          [ 1.0000],\n",
       "          [ 0.9999],\n",
       "          [ 1.0000],\n",
       "          [ 1.0000],\n",
       "          [ 1.0000],\n",
       "          [ 1.0000],\n",
       "          [ 1.0000],\n",
       "          [ 1.0000],\n",
       "          [ 0.6872],\n",
       "          [ 1.0000],\n",
       "          [ 0.9997],\n",
       "          [ 1.0000],\n",
       "          [ 1.0000],\n",
       "          [ 1.0000],\n",
       "          [ 1.0000],\n",
       "          [ 1.0000],\n",
       "          [ 1.0000],\n",
       "          [ 1.0000]], dtype=torch.float64), tensor([[ 1.0000],\n",
       "          [ 1.0000],\n",
       "          [ 1.0000],\n",
       "          [ 1.0000],\n",
       "          [ 1.0000],\n",
       "          [ 1.0000],\n",
       "          [ 1.0000],\n",
       "          [ 1.0000],\n",
       "          [ 1.0000],\n",
       "          [ 1.0000],\n",
       "          [ 1.0000],\n",
       "          [ 0.9999],\n",
       "          [ 1.0000],\n",
       "          [ 1.0000],\n",
       "          [ 1.0000],\n",
       "          [ 1.0000],\n",
       "          [ 1.0000],\n",
       "          [ 1.0000],\n",
       "          [ 1.0000],\n",
       "          [ 1.0000],\n",
       "          [ 1.0000],\n",
       "          [ 0.9999],\n",
       "          [ 0.6622],\n",
       "          [ 0.9999],\n",
       "          [ 1.0000],\n",
       "          [ 1.0000],\n",
       "          [ 1.0000],\n",
       "          [ 1.0000],\n",
       "          [ 0.9999],\n",
       "          [ 1.0000],\n",
       "          [ 1.0000],\n",
       "          [ 1.0000]], dtype=torch.float64), tensor([[ 1.0000],\n",
       "          [ 1.0000],\n",
       "          [ 1.0000],\n",
       "          [ 0.7719],\n",
       "          [ 1.0000],\n",
       "          [ 1.0000],\n",
       "          [ 1.0000],\n",
       "          [ 1.0000],\n",
       "          [ 1.0000],\n",
       "          [ 0.7615],\n",
       "          [ 1.0000],\n",
       "          [ 0.9997],\n",
       "          [ 1.0000],\n",
       "          [ 1.0000],\n",
       "          [ 1.0000],\n",
       "          [ 1.0000],\n",
       "          [ 1.0000],\n",
       "          [ 0.7283],\n",
       "          [ 0.9999],\n",
       "          [ 1.0000],\n",
       "          [ 1.0000],\n",
       "          [ 1.0000],\n",
       "          [ 0.9999],\n",
       "          [ 1.0000],\n",
       "          [ 1.0000],\n",
       "          [ 1.0000],\n",
       "          [ 1.0000],\n",
       "          [ 1.0000],\n",
       "          [ 1.0000],\n",
       "          [ 0.9999],\n",
       "          [ 1.0000],\n",
       "          [ 1.0000]], dtype=torch.float64), tensor([[ 1.0000],\n",
       "          [ 1.0000],\n",
       "          [ 1.0000],\n",
       "          [ 1.0000],\n",
       "          [ 1.0000],\n",
       "          [ 1.0000],\n",
       "          [ 1.0000],\n",
       "          [ 1.0000],\n",
       "          [ 1.0000],\n",
       "          [ 1.0000],\n",
       "          [ 1.0000],\n",
       "          [ 1.0000],\n",
       "          [ 1.0000],\n",
       "          [ 1.0000],\n",
       "          [ 1.0000],\n",
       "          [ 0.6914],\n",
       "          [ 1.0000],\n",
       "          [ 1.0000],\n",
       "          [ 1.0000],\n",
       "          [ 1.0000],\n",
       "          [ 1.0000],\n",
       "          [ 1.0000],\n",
       "          [ 1.0000],\n",
       "          [ 1.0000],\n",
       "          [ 1.0000],\n",
       "          [ 1.0000],\n",
       "          [ 1.0000],\n",
       "          [ 1.0000],\n",
       "          [ 1.0000],\n",
       "          [ 1.0000],\n",
       "          [ 0.9918],\n",
       "          [ 0.7616]], dtype=torch.float64), tensor([[ 1.0000],\n",
       "          [ 1.0000],\n",
       "          [ 1.0000],\n",
       "          [ 1.0000],\n",
       "          [ 1.0000],\n",
       "          [ 1.0000],\n",
       "          [ 0.9999],\n",
       "          [ 1.0000],\n",
       "          [ 1.0000],\n",
       "          [ 1.0000],\n",
       "          [ 1.0000],\n",
       "          [ 1.0000],\n",
       "          [ 0.9961],\n",
       "          [ 1.0000],\n",
       "          [ 1.0000],\n",
       "          [ 0.9996],\n",
       "          [ 0.9999],\n",
       "          [ 1.0000],\n",
       "          [ 1.0000],\n",
       "          [ 1.0000],\n",
       "          [ 1.0000],\n",
       "          [ 1.0000],\n",
       "          [ 1.0000],\n",
       "          [ 1.0000],\n",
       "          [ 1.0000],\n",
       "          [ 1.0000],\n",
       "          [ 1.0000],\n",
       "          [ 1.0000],\n",
       "          [ 1.0000],\n",
       "          [ 1.0000],\n",
       "          [ 1.0000],\n",
       "          [ 1.0000]], dtype=torch.float64), tensor([[ 0.6743],\n",
       "          [ 1.0000],\n",
       "          [ 0.9999],\n",
       "          [ 1.0000],\n",
       "          [ 0.7680],\n",
       "          [ 1.0000],\n",
       "          [ 1.0000],\n",
       "          [ 1.0000],\n",
       "          [ 0.6832],\n",
       "          [ 1.0000],\n",
       "          [ 0.6129],\n",
       "          [ 1.0000],\n",
       "          [ 1.0000],\n",
       "          [ 1.0000],\n",
       "          [ 0.7287],\n",
       "          [ 1.0000],\n",
       "          [ 1.0000],\n",
       "          [ 1.0000],\n",
       "          [ 0.8662],\n",
       "          [ 1.0000],\n",
       "          [ 1.0000],\n",
       "          [ 0.9999],\n",
       "          [ 1.0000],\n",
       "          [ 1.0000],\n",
       "          [ 1.0000],\n",
       "          [ 1.0000],\n",
       "          [ 1.0000],\n",
       "          [ 1.0000],\n",
       "          [ 1.0000],\n",
       "          [ 1.0000],\n",
       "          [ 0.9999],\n",
       "          [ 1.0000]], dtype=torch.float64), tensor([[ 1.0000],\n",
       "          [ 0.7336],\n",
       "          [ 0.6881],\n",
       "          [ 1.0000],\n",
       "          [ 1.0000],\n",
       "          [ 1.0000],\n",
       "          [ 0.6925],\n",
       "          [ 1.0000],\n",
       "          [ 1.0000],\n",
       "          [ 0.6625],\n",
       "          [ 0.9999],\n",
       "          [ 1.0000],\n",
       "          [ 0.6419],\n",
       "          [ 1.0000],\n",
       "          [ 1.0000],\n",
       "          [ 1.0000],\n",
       "          [ 1.0000],\n",
       "          [ 0.6295],\n",
       "          [ 1.0000],\n",
       "          [ 1.0000],\n",
       "          [ 0.7203],\n",
       "          [ 0.9999],\n",
       "          [ 1.0000],\n",
       "          [ 1.0000],\n",
       "          [ 1.0000],\n",
       "          [ 1.0000],\n",
       "          [ 1.0000],\n",
       "          [ 1.0000],\n",
       "          [ 1.0000],\n",
       "          [ 0.7687],\n",
       "          [ 1.0000],\n",
       "          [ 1.0000]], dtype=torch.float64), tensor([[ 1.0000],\n",
       "          [ 1.0000],\n",
       "          [ 1.0000],\n",
       "          [ 1.0000],\n",
       "          [ 1.0000],\n",
       "          [ 1.0000],\n",
       "          [ 1.0000],\n",
       "          [ 1.0000],\n",
       "          [ 1.0000],\n",
       "          [ 1.0000],\n",
       "          [ 1.0000],\n",
       "          [ 1.0000],\n",
       "          [ 0.6788]], dtype=torch.float64)])"
      ]
     },
     "execution_count": 93,
     "metadata": {},
     "output_type": "execute_result"
    }
   ],
   "source": [
    "b"
   ]
  },
  {
   "cell_type": "code",
   "execution_count": 90,
   "metadata": {},
   "outputs": [
    {
     "data": {
      "text/plain": [
       "tensor([[ 0.9998],\n",
       "        [ 0.9999],\n",
       "        [ 0.9999],\n",
       "        [ 0.9998],\n",
       "        [ 0.9999],\n",
       "        [ 0.9999],\n",
       "        [ 0.9998],\n",
       "        [ 0.9999],\n",
       "        [ 0.9999],\n",
       "        [ 0.9999],\n",
       "        [ 0.9999],\n",
       "        [ 0.9998],\n",
       "        [ 0.6530]], dtype=torch.float64)"
      ]
     },
     "execution_count": 90,
     "metadata": {},
     "output_type": "execute_result"
    }
   ],
   "source": [
    "b[2]"
   ]
  },
  {
   "cell_type": "code",
   "execution_count": 76,
   "metadata": {},
   "outputs": [],
   "source": [
    "torch.save(m.state_dict(),'test_sf_Darknet.pth')"
   ]
  },
  {
   "cell_type": "code",
   "execution_count": null,
   "metadata": {},
   "outputs": [],
   "source": [
    "n_iter=0\n",
    "while n_iter <= max_iter: optimizer.step(partial(step,actn_loss2))"
   ]
  },
  {
   "cell_type": "code",
   "execution_count": null,
   "metadata": {},
   "outputs": [],
   "source": [
    "def step(loss_fn):\n",
    "    global n_iter\n",
    "    optimizer.zero_grad()\n",
    "    loss = loss_fn(X_train)\n",
    "    loss.backward()\n",
    "    n_iter+=1\n",
    "    if n_iter%show_iter==0: print(f'Iteration: n_iter, loss: {loss.data[0]}')\n",
    "    return loss"
   ]
  },
  {
   "cell_type": "code",
   "execution_count": null,
   "metadata": {},
   "outputs": [],
   "source": [
    "def actn_loss2(x):\n",
    "    m(x)\n",
    "    out = sf.features\n",
    "    return F.mse_loss(out, targ_v)*1000"
   ]
  },
  {
   "cell_type": "code",
   "execution_count": null,
   "metadata": {},
   "outputs": [],
   "source": []
  },
  {
   "cell_type": "code",
   "execution_count": null,
   "metadata": {},
   "outputs": [],
   "source": []
  },
  {
   "cell_type": "code",
   "execution_count": 59,
   "metadata": {
    "scrolled": false
   },
   "outputs": [
    {
     "name": "stdout",
     "output_type": "stream",
     "text": [
      " 12%|█▏        | 20/172 [00:46<05:59,  2.36s/it][1,    20]  Train BCELogitsLoss: 0.690\n",
      " 23%|██▎       | 40/172 [01:33<05:11,  2.36s/it][1,    40]  Train BCELogitsLoss: 0.722\n",
      " 35%|███▍      | 60/172 [02:21<04:25,  2.37s/it][1,    60]  Train BCELogitsLoss: 0.703\n",
      " 47%|████▋     | 80/172 [03:08<03:37,  2.36s/it][1,    80]  Train BCELogitsLoss: 0.655\n",
      " 58%|█████▊    | 100/172 [03:55<02:50,  2.37s/it][1,   100]  Train BCELogitsLoss: 0.740\n",
      " 70%|██████▉   | 120/172 [04:43<02:03,  2.37s/it][1,   120]  Train BCELogitsLoss: 0.705\n",
      " 81%|████████▏ | 140/172 [05:30<01:15,  2.37s/it][1,   140]  Train BCELogitsLoss: 0.696\n",
      " 93%|█████████▎| 160/172 [06:18<00:28,  2.37s/it][1,   160]  Train BCELogitsLoss: 0.717\n",
      "100%|██████████| 172/172 [06:45<00:00,  1.93s/it]\n",
      "100%|██████████| 74/74 [00:50<00:00,  1.71it/s]BCELogitsLoss: 0.7280747258520811\n",
      "Accuracy of the network on the val images: 54 %\n",
      "\n",
      " 12%|█▏        | 20/172 [00:46<05:59,  2.36s/it][2,    20]  Train BCELogitsLoss: 0.684\n",
      " 23%|██▎       | 40/172 [01:33<05:12,  2.36s/it][2,    40]  Train BCELogitsLoss: 0.702\n",
      " 35%|███▍      | 60/172 [02:21<04:25,  2.37s/it][2,    60]  Train BCELogitsLoss: 0.696\n",
      " 47%|████▋     | 80/172 [03:08<03:37,  2.37s/it][2,    80]  Train BCELogitsLoss: 0.665\n",
      " 58%|█████▊    | 100/172 [03:56<02:50,  2.37s/it][2,   100]  Train BCELogitsLoss: 0.732\n",
      " 70%|██████▉   | 120/172 [04:43<02:03,  2.37s/it][2,   120]  Train BCELogitsLoss: 0.676\n",
      " 81%|████████▏ | 140/172 [05:30<01:15,  2.37s/it][2,   140]  Train BCELogitsLoss: 0.694\n",
      " 93%|█████████▎| 160/172 [06:18<00:28,  2.36s/it][2,   160]  Train BCELogitsLoss: 0.702\n",
      "100%|██████████| 172/172 [06:45<00:00,  1.93s/it]\n",
      "100%|██████████| 74/74 [00:50<00:00,  1.70it/s]BCELogitsLoss: 0.7119796252634321\n",
      "Accuracy of the network on the val images: 54 %\n",
      "\n",
      "100%|██████████| 2/2 [15:12<00:00, 456.01s/it]Finished Training\n"
     ]
    }
   ],
   "source": [
    "MUL = train(2)"
   ]
  },
  {
   "cell_type": "code",
   "execution_count": 54,
   "metadata": {},
   "outputs": [
    {
     "data": {
      "text/plain": [
       "[0.8094666410848532, 0.7621253101425307]"
      ]
     },
     "execution_count": 54,
     "metadata": {},
     "output_type": "execute_result"
    }
   ],
   "source": [
    "vallog"
   ]
  },
  {
   "cell_type": "code",
   "execution_count": 60,
   "metadata": {},
   "outputs": [
    {
     "data": {
      "text/plain": [
       "([0.6899742491367287,\n",
       "  0.7216632823748271,\n",
       "  0.7031199616145714,\n",
       "  0.6551904824257477,\n",
       "  0.7400505342567856,\n",
       "  0.7045912965095784,\n",
       "  0.6957142097621987,\n",
       "  0.716587152393308,\n",
       "  0.6838836016871113,\n",
       "  0.7017663175325224,\n",
       "  0.6961114322213378,\n",
       "  0.664758787050066,\n",
       "  0.7317512962402098,\n",
       "  0.6759753116480365,\n",
       "  0.6937985015888914,\n",
       "  0.7016916941138533],\n",
       " [0.7280747258520811, 0.7119796252634321])"
      ]
     },
     "execution_count": 60,
     "metadata": {},
     "output_type": "execute_result"
    }
   ],
   "source": [
    "MUL"
   ]
  },
  {
   "cell_type": "code",
   "execution_count": 71,
   "metadata": {},
   "outputs": [],
   "source": [
    "def eva():    \n",
    "    m.eval()\n",
    "    with tqdm(total=len(X_val)) as pbar:\n",
    "        with torch.no_grad():\n",
    "            truth = []\n",
    "            predicted =[]\n",
    "            correct = 0\n",
    "            total = 0\n",
    "            for i, ( x, p, y) in enumerate(zip(X_val,param_val,y_val)):\n",
    "                x,p,y = x.to(device), p.to(device),y.to(device)\n",
    "\n",
    "                # forward + backward + optimize\n",
    "                outputs = m(x,p)\n",
    "                pred = (F.sigmoid(outputs))\n",
    "                corr=[]\n",
    "                for i in pred:\n",
    "                    if i >= 0.52: corr.append(1)\n",
    "                    else: corr.append(0)\n",
    "                total += y.size(0)\n",
    "                correct += (corr == y.cpu().numpy()).sum()\n",
    "                predicted.append(pred)\n",
    "                truth.append(y)\n",
    "                pbar.update()\n",
    "\n",
    "\n",
    "            print('Accuracy of the network on the val images: %d %%' % (100 * correct / total))\n",
    "            \n",
    "    print('Finished Training')\n",
    "    return losslog,vallog,truth,predicted    \n",
    "            "
   ]
  },
  {
   "cell_type": "code",
   "execution_count": 72,
   "metadata": {},
   "outputs": [
    {
     "name": "stdout",
     "output_type": "stream",
     "text": [
      "100%|██████████| 74/74 [00:50<00:00,  1.72it/s]Accuracy of the network on the val images: 56 %\n",
      "\n",
      "Finished Training\n"
     ]
    }
   ],
   "source": [
    "M = eva()"
   ]
  },
  {
   "cell_type": "code",
   "execution_count": 74,
   "metadata": {},
   "outputs": [
    {
     "name": "stdout",
     "output_type": "stream",
     "text": [
      "20\n",
      "22\n",
      "24\n",
      "26\n",
      "28\n",
      "30\n",
      "32\n",
      "34\n",
      "36\n",
      "38\n",
      "40\n",
      "42\n",
      "44\n",
      "46\n",
      "48\n"
     ]
    }
   ],
   "source": [
    "for i in range(20,50,2):\n",
    "    print(i)"
   ]
  },
  {
   "cell_type": "code",
   "execution_count": null,
   "metadata": {},
   "outputs": [],
   "source": [
    "\n",
    "\n",
    "## Validate"
   ]
  },
  {
   "cell_type": "code",
   "execution_count": 52,
   "metadata": {},
   "outputs": [],
   "source": [
    "def test():\n",
    "    with torch.no_grad():\n",
    "        n = len(X_test)\n",
    "        ml.eval()\n",
    "        predicted = []\n",
    "        correct = 0\n",
    "        total = 0\n",
    "        with tqdm(total=n) as pbar:\n",
    "            for i, ( x, p, y) in enumerate(zip(X_test,param_test,y_test)):\n",
    "                x,p,y = x.to(device), p.to(device),y.to(device)\n",
    "\n",
    "                # forward + backward + optimize\n",
    "                outputs = ml(x,p)\n",
    "                _, pred = torch.max(outputs.data, 1)\n",
    "                total += y.size(0)\n",
    "                correct += (pred == y).sum()\n",
    "    \n",
    "    print('Accuracy of the network on the test images: %d %%' % (\n",
    "    100 * correct / total))\n",
    "    return pred"
   ]
  },
  {
   "cell_type": "code",
   "execution_count": null,
   "metadata": {
    "scrolled": true
   },
   "outputs": [
    {
     "name": "stdout",
     "output_type": "stream",
     "text": [
      "\r",
      "  0%|          | 0/123 [00:00<?, ?it/s]"
     ]
    }
   ],
   "source": [
    "TEST = test()"
   ]
  },
  {
   "cell_type": "code",
   "execution_count": 52,
   "metadata": {
    "scrolled": false
   },
   "outputs": [
    {
     "data": {
      "text/plain": [
       "tensor([ 1], device='cuda:0')"
      ]
     },
     "execution_count": 52,
     "metadata": {},
     "output_type": "execute_result"
    }
   ],
   "source": [
    "TEST"
   ]
  },
  {
   "cell_type": "code",
   "execution_count": null,
   "metadata": {},
   "outputs": [],
   "source": []
  },
  {
   "cell_type": "code",
   "execution_count": null,
   "metadata": {},
   "outputs": [],
   "source": []
  },
  {
   "cell_type": "code",
   "execution_count": 50,
   "metadata": {},
   "outputs": [],
   "source": [
    "model_save_path = './weights/'"
   ]
  },
  {
   "cell_type": "code",
   "execution_count": 51,
   "metadata": {},
   "outputs": [],
   "source": [
    "torch.save(ml.state_dict(),f'{model_save_path}Predict_progress_3D.pth')"
   ]
  },
  {
   "cell_type": "code",
   "execution_count": 46,
   "metadata": {},
   "outputs": [],
   "source": [
    "ml = Darknet([1,2,4,6,3], num_classes=1, nf=32)\n",
    "ml.double()\n",
    "ml.load_state_dict(torch.load('Predict_pregress_.pth'))"
   ]
  },
  {
   "cell_type": "code",
   "execution_count": 47,
   "metadata": {},
   "outputs": [
    {
     "name": "stdout",
     "output_type": "stream",
     "text": [
      "cuda:0\n"
     ]
    }
   ],
   "source": [
    "device = torch.device(\"cuda:0\" if torch.cuda.is_available() else \"cpu\")\n",
    "ml.to(device)\n",
    "print(device)"
   ]
  },
  {
   "cell_type": "code",
   "execution_count": null,
   "metadata": {},
   "outputs": [],
   "source": []
  }
 ],
 "metadata": {
  "kernelspec": {
   "display_name": "Python 3",
   "language": "python",
   "name": "python3"
  },
  "language_info": {
   "codemirror_mode": {
    "name": "ipython",
    "version": 3
   },
   "file_extension": ".py",
   "mimetype": "text/x-python",
   "name": "python",
   "nbconvert_exporter": "python",
   "pygments_lexer": "ipython3",
   "version": "3.6.5"
  }
 },
 "nbformat": 4,
 "nbformat_minor": 2
}
