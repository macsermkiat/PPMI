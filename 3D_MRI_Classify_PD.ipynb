{
 "cells": [
  {
   "cell_type": "code",
   "execution_count": 1,
   "metadata": {},
   "outputs": [],
   "source": [
    "# Put these at the top of every notebook, to get automatic reloading and inline plotting\n",
    "%reload_ext autoreload\n",
    "%autoreload 2\n",
    "%matplotlib inline"
   ]
  },
  {
   "cell_type": "code",
   "execution_count": 2,
   "metadata": {},
   "outputs": [],
   "source": [
    "# This file contains all the main external libs we'll use\n",
    "from fastai.imports import *\n",
    "#from fastai.transforms import *\n",
    "from fastai.conv_learner import *\n",
    "#from fastai.model import *\n",
    "#from fastai.dataset import *\n",
    "#from fastai.sgdr import *\n",
    "#from fastai.plots import *"
   ]
  },
  {
   "cell_type": "code",
   "execution_count": 3,
   "metadata": {},
   "outputs": [],
   "source": [
    "PATH = \"./\"\n",
    "IMG_PATH = Path('../data/PPMI_MRI/')"
   ]
  },
  {
   "cell_type": "code",
   "execution_count": 4,
   "metadata": {},
   "outputs": [],
   "source": [
    "import nibabel as nib\n",
    "#import pydicom\n",
    "import glob\n",
    "import os\n",
    "import numpy\n",
    "import seaborn as sns\n",
    "from itertools import chain\n",
    "from skimage.transform import resize\n",
    "from tensorboardX import SummaryWriter\n",
    "import gc"
   ]
  },
  {
   "cell_type": "code",
   "execution_count": 5,
   "metadata": {
    "scrolled": true
   },
   "outputs": [
    {
     "data": {
      "text/plain": [
       "'for dirName, subdirList, fileList in os.walk(PathDicom):\\n    for filename in fileList:\\n        if \".dcm\" in filename.lower():  # check whether the file\\'s DICOM\\n            lstFilesDCM.append(os.path.join(dirName,filename))'"
      ]
     },
     "execution_count": 5,
     "metadata": {},
     "output_type": "execute_result"
    }
   ],
   "source": [
    "\n",
    "lstFilesDCM = []  # create an empty list\n",
    "'''for dirName, subdirList, fileList in os.walk(PathDicom):\n",
    "    for filename in fileList:\n",
    "        if \".dcm\" in filename.lower():  # check whether the file's DICOM\n",
    "            lstFilesDCM.append(os.path.join(dirName,filename))'''"
   ]
  },
  {
   "cell_type": "code",
   "execution_count": null,
   "metadata": {},
   "outputs": [],
   "source": []
  },
  {
   "cell_type": "code",
   "execution_count": null,
   "metadata": {},
   "outputs": [],
   "source": []
  },
  {
   "cell_type": "code",
   "execution_count": 6,
   "metadata": {},
   "outputs": [],
   "source": [
    "metadata = pd.read_csv(IMG_PATH / 'mri_T1.csv')"
   ]
  },
  {
   "cell_type": "code",
   "execution_count": 7,
   "metadata": {},
   "outputs": [],
   "source": [
    "#Shuffle data\n",
    "metadata = metadata.sample(frac=1).reset_index(drop=True)"
   ]
  },
  {
   "cell_type": "code",
   "execution_count": 8,
   "metadata": {
    "scrolled": false
   },
   "outputs": [
    {
     "data": {
      "text/html": [
       "<div>\n",
       "<style scoped>\n",
       "    .dataframe tbody tr th:only-of-type {\n",
       "        vertical-align: middle;\n",
       "    }\n",
       "\n",
       "    .dataframe tbody tr th {\n",
       "        vertical-align: top;\n",
       "    }\n",
       "\n",
       "    .dataframe thead th {\n",
       "        text-align: right;\n",
       "    }\n",
       "</style>\n",
       "<table border=\"1\" class=\"dataframe\">\n",
       "  <thead>\n",
       "    <tr style=\"text-align: right;\">\n",
       "      <th></th>\n",
       "      <th>Image Data ID</th>\n",
       "      <th>Subject</th>\n",
       "      <th>Group</th>\n",
       "      <th>Sex</th>\n",
       "      <th>Age</th>\n",
       "      <th>Visit</th>\n",
       "      <th>MDP_UPDRS III</th>\n",
       "      <th>NHY</th>\n",
       "      <th>Acq Date</th>\n",
       "      <th>MRI File Path</th>\n",
       "    </tr>\n",
       "  </thead>\n",
       "  <tbody>\n",
       "    <tr>\n",
       "      <th>0</th>\n",
       "      <td>476223</td>\n",
       "      <td>3304</td>\n",
       "      <td>SWEDD</td>\n",
       "      <td>F</td>\n",
       "      <td>41</td>\n",
       "      <td>7</td>\n",
       "      <td>7</td>\n",
       "      <td>1</td>\n",
       "      <td>2014-05-15</td>\n",
       "      <td>../dat_mri_T1_gz/PPMI_3304_MR_T1-anatomical_Br...</td>\n",
       "    </tr>\n",
       "    <tr>\n",
       "      <th>1</th>\n",
       "      <td>407732</td>\n",
       "      <td>3188</td>\n",
       "      <td>Control</td>\n",
       "      <td>M</td>\n",
       "      <td>71</td>\n",
       "      <td>1</td>\n",
       "      <td>0</td>\n",
       "      <td>0</td>\n",
       "      <td>2013-04-03</td>\n",
       "      <td>../dat_mri_T1_gz/PPMI_3188_MR_T1-anatomical_Br...</td>\n",
       "    </tr>\n",
       "    <tr>\n",
       "      <th>2</th>\n",
       "      <td>371094</td>\n",
       "      <td>3834</td>\n",
       "      <td>PD</td>\n",
       "      <td>M</td>\n",
       "      <td>69</td>\n",
       "      <td>1</td>\n",
       "      <td>20</td>\n",
       "      <td>1</td>\n",
       "      <td>2012-12-18</td>\n",
       "      <td>../dat_mri_T1_gz/PPMI_3834_MR_T1-anatomical_Br...</td>\n",
       "    </tr>\n",
       "    <tr>\n",
       "      <th>3</th>\n",
       "      <td>428795</td>\n",
       "      <td>3829</td>\n",
       "      <td>PD</td>\n",
       "      <td>F</td>\n",
       "      <td>68</td>\n",
       "      <td>5</td>\n",
       "      <td>19</td>\n",
       "      <td>1</td>\n",
       "      <td>2013-10-01</td>\n",
       "      <td>../dat_mri_T1_gz/PPMI_3829_MR_T1-anatomical_Br...</td>\n",
       "    </tr>\n",
       "    <tr>\n",
       "      <th>4</th>\n",
       "      <td>486733</td>\n",
       "      <td>3176</td>\n",
       "      <td>PD</td>\n",
       "      <td>M</td>\n",
       "      <td>63</td>\n",
       "      <td>5</td>\n",
       "      <td>46</td>\n",
       "      <td>2</td>\n",
       "      <td>2013-05-29</td>\n",
       "      <td>../dat_mri_T1_gz/PPMI_3176_MR_T1-anatomical_Br...</td>\n",
       "    </tr>\n",
       "  </tbody>\n",
       "</table>\n",
       "</div>"
      ],
      "text/plain": [
       "   Image Data ID  Subject    Group Sex  Age  Visit  MDP_UPDRS III  NHY  \\\n",
       "0         476223     3304    SWEDD   F   41      7              7    1   \n",
       "1         407732     3188  Control   M   71      1              0    0   \n",
       "2         371094     3834       PD   M   69      1             20    1   \n",
       "3         428795     3829       PD   F   68      5             19    1   \n",
       "4         486733     3176       PD   M   63      5             46    2   \n",
       "\n",
       "     Acq Date                                      MRI File Path  \n",
       "0  2014-05-15  ../dat_mri_T1_gz/PPMI_3304_MR_T1-anatomical_Br...  \n",
       "1  2013-04-03  ../dat_mri_T1_gz/PPMI_3188_MR_T1-anatomical_Br...  \n",
       "2  2012-12-18  ../dat_mri_T1_gz/PPMI_3834_MR_T1-anatomical_Br...  \n",
       "3  2013-10-01  ../dat_mri_T1_gz/PPMI_3829_MR_T1-anatomical_Br...  \n",
       "4  2013-05-29  ../dat_mri_T1_gz/PPMI_3176_MR_T1-anatomical_Br...  "
      ]
     },
     "execution_count": 8,
     "metadata": {},
     "output_type": "execute_result"
    }
   ],
   "source": [
    "metadata[0:5]"
   ]
  },
  {
   "cell_type": "code",
   "execution_count": 43,
   "metadata": {},
   "outputs": [],
   "source": [
    "for file in glob.glob(f'{PATH}../data/PPMI_MRI/**/*.nii'):\n",
    "    lstFilesDCM.append(file)"
   ]
  },
  {
   "cell_type": "code",
   "execution_count": 44,
   "metadata": {},
   "outputs": [
    {
     "data": {
      "text/plain": [
       "643"
      ]
     },
     "execution_count": 44,
     "metadata": {},
     "output_type": "execute_result"
    }
   ],
   "source": [
    "len(lstFilesDCM)"
   ]
  },
  {
   "cell_type": "code",
   "execution_count": 45,
   "metadata": {},
   "outputs": [
    {
     "data": {
      "text/plain": [
       "643"
      ]
     },
     "execution_count": 45,
     "metadata": {},
     "output_type": "execute_result"
    }
   ],
   "source": [
    "ptID = []\n",
    "for i in lstFilesDCM:\n",
    "    j = i.split(\"_\")[11].strip()\n",
    "    j = int(j[1:7])\n",
    "    ptID.append(j)\n",
    "len(ptID)"
   ]
  },
  {
   "cell_type": "code",
   "execution_count": 54,
   "metadata": {},
   "outputs": [],
   "source": [
    "df = metadata[['Image Data ID','Group','Sex','Age','Subject','MDP_UPDRS III','NHY','Acq Date']].set_index('Image Data ID')\n",
    "for index, rows in df.iterrows():\n",
    "    for i in lstFilesDCM:\n",
    "        j = i.split(\"_\")[11].strip()\n",
    "        j = int(j[1:7])\n",
    "        if index == j:\n",
    "            df.loc[df.index == j, \"Filenames\"] = i\n"
   ]
  },
  {
   "cell_type": "code",
   "execution_count": 55,
   "metadata": {},
   "outputs": [],
   "source": [
    "df = df[df.Group.isin(['Control','PD'])]"
   ]
  },
  {
   "cell_type": "code",
   "execution_count": 56,
   "metadata": {
    "scrolled": true
   },
   "outputs": [
    {
     "data": {
      "text/plain": [
       "Group            False\n",
       "Sex              False\n",
       "Age              False\n",
       "Subject          False\n",
       "MDP_UPDRS III    False\n",
       "NHY              False\n",
       "Acq Date         False\n",
       "Filenames        False\n",
       "dtype: bool"
      ]
     },
     "execution_count": 56,
     "metadata": {},
     "output_type": "execute_result"
    }
   ],
   "source": [
    "df.any().isnull()"
   ]
  },
  {
   "cell_type": "code",
   "execution_count": 57,
   "metadata": {},
   "outputs": [],
   "source": [
    "df.loc[df['Sex']=='F', 'is_F']=1\n",
    "df.loc[df['Sex']=='F', 'is_M']=0\n",
    "df.loc[df['Sex']=='M', 'is_F']=0\n",
    "df.loc[df['Sex']=='M', 'is_M']=1"
   ]
  },
  {
   "cell_type": "code",
   "execution_count": 58,
   "metadata": {},
   "outputs": [],
   "source": [
    "df.loc[df['Group']=='Control', 'Group']=0\n",
    "df.loc[df['Group']=='PD', 'Group']=1"
   ]
  },
  {
   "cell_type": "code",
   "execution_count": 59,
   "metadata": {},
   "outputs": [],
   "source": [
    "df.to_csv(IMG_PATH / 'df_mri.csv')"
   ]
  },
  {
   "cell_type": "code",
   "execution_count": 6,
   "metadata": {},
   "outputs": [],
   "source": [
    "df = pd.read_csv(IMG_PATH / 'df_mri.csv')"
   ]
  },
  {
   "cell_type": "code",
   "execution_count": 7,
   "metadata": {},
   "outputs": [
    {
     "data": {
      "text/html": [
       "<div>\n",
       "<style scoped>\n",
       "    .dataframe tbody tr th:only-of-type {\n",
       "        vertical-align: middle;\n",
       "    }\n",
       "\n",
       "    .dataframe tbody tr th {\n",
       "        vertical-align: top;\n",
       "    }\n",
       "\n",
       "    .dataframe thead th {\n",
       "        text-align: right;\n",
       "    }\n",
       "</style>\n",
       "<table border=\"1\" class=\"dataframe\">\n",
       "  <thead>\n",
       "    <tr style=\"text-align: right;\">\n",
       "      <th></th>\n",
       "      <th>Image Data ID</th>\n",
       "      <th>Group</th>\n",
       "      <th>Sex</th>\n",
       "      <th>Age</th>\n",
       "      <th>Subject</th>\n",
       "      <th>MDP_UPDRS III</th>\n",
       "      <th>NHY</th>\n",
       "      <th>Acq Date</th>\n",
       "      <th>Filenames</th>\n",
       "      <th>is_F</th>\n",
       "      <th>is_M</th>\n",
       "    </tr>\n",
       "  </thead>\n",
       "  <tbody>\n",
       "    <tr>\n",
       "      <th>0</th>\n",
       "      <td>370798</td>\n",
       "      <td>0</td>\n",
       "      <td>M</td>\n",
       "      <td>64</td>\n",
       "      <td>4018</td>\n",
       "      <td>8</td>\n",
       "      <td>0</td>\n",
       "      <td>2012-02-13</td>\n",
       "      <td>./../data/PPMI_MRI/dat_mri_T1_gz 4/PPMI_4018_M...</td>\n",
       "      <td>0.0</td>\n",
       "      <td>1.0</td>\n",
       "    </tr>\n",
       "    <tr>\n",
       "      <th>1</th>\n",
       "      <td>406791</td>\n",
       "      <td>1</td>\n",
       "      <td>M</td>\n",
       "      <td>61</td>\n",
       "      <td>3118</td>\n",
       "      <td>17</td>\n",
       "      <td>2</td>\n",
       "      <td>2013-01-23</td>\n",
       "      <td>./../data/PPMI_MRI/dat_mri_T1_gz 2/PPMI_3118_M...</td>\n",
       "      <td>0.0</td>\n",
       "      <td>1.0</td>\n",
       "    </tr>\n",
       "    <tr>\n",
       "      <th>2</th>\n",
       "      <td>428747</td>\n",
       "      <td>1</td>\n",
       "      <td>M</td>\n",
       "      <td>49</td>\n",
       "      <td>3787</td>\n",
       "      <td>12</td>\n",
       "      <td>2</td>\n",
       "      <td>2013-10-30</td>\n",
       "      <td>./../data/PPMI_MRI/dat_mri_T1_gz 2/PPMI_3787_M...</td>\n",
       "      <td>0.0</td>\n",
       "      <td>1.0</td>\n",
       "    </tr>\n",
       "    <tr>\n",
       "      <th>3</th>\n",
       "      <td>371034</td>\n",
       "      <td>1</td>\n",
       "      <td>M</td>\n",
       "      <td>77</td>\n",
       "      <td>3826</td>\n",
       "      <td>15</td>\n",
       "      <td>1</td>\n",
       "      <td>2012-08-21</td>\n",
       "      <td>./../data/PPMI_MRI/dat_mri_T1_gz 3/PPMI_3826_M...</td>\n",
       "      <td>0.0</td>\n",
       "      <td>1.0</td>\n",
       "    </tr>\n",
       "    <tr>\n",
       "      <th>4</th>\n",
       "      <td>330968</td>\n",
       "      <td>0</td>\n",
       "      <td>M</td>\n",
       "      <td>52</td>\n",
       "      <td>3300</td>\n",
       "      <td>0</td>\n",
       "      <td>0</td>\n",
       "      <td>2011-01-18</td>\n",
       "      <td>./../data/PPMI_MRI/dat_mri_T1_gz 2/PPMI_3300_M...</td>\n",
       "      <td>0.0</td>\n",
       "      <td>1.0</td>\n",
       "    </tr>\n",
       "  </tbody>\n",
       "</table>\n",
       "</div>"
      ],
      "text/plain": [
       "   Image Data ID  Group Sex  Age  Subject  MDP_UPDRS III  NHY    Acq Date  \\\n",
       "0         370798      0   M   64     4018              8    0  2012-02-13   \n",
       "1         406791      1   M   61     3118             17    2  2013-01-23   \n",
       "2         428747      1   M   49     3787             12    2  2013-10-30   \n",
       "3         371034      1   M   77     3826             15    1  2012-08-21   \n",
       "4         330968      0   M   52     3300              0    0  2011-01-18   \n",
       "\n",
       "                                           Filenames  is_F  is_M  \n",
       "0  ./../data/PPMI_MRI/dat_mri_T1_gz 4/PPMI_4018_M...   0.0   1.0  \n",
       "1  ./../data/PPMI_MRI/dat_mri_T1_gz 2/PPMI_3118_M...   0.0   1.0  \n",
       "2  ./../data/PPMI_MRI/dat_mri_T1_gz 2/PPMI_3787_M...   0.0   1.0  \n",
       "3  ./../data/PPMI_MRI/dat_mri_T1_gz 3/PPMI_3826_M...   0.0   1.0  \n",
       "4  ./../data/PPMI_MRI/dat_mri_T1_gz 2/PPMI_3300_M...   0.0   1.0  "
      ]
     },
     "execution_count": 7,
     "metadata": {},
     "output_type": "execute_result"
    }
   ],
   "source": [
    "df.head()"
   ]
  },
  {
   "cell_type": "code",
   "execution_count": 8,
   "metadata": {},
   "outputs": [
    {
     "name": "stdout",
     "output_type": "stream",
     "text": [
      "MinMaxScaler(copy=True, feature_range=(0, 1))\n"
     ]
    },
    {
     "name": "stderr",
     "output_type": "stream",
     "text": [
      "/home/brainvistec4/miniconda3/envs/fastai/lib/python3.6/site-packages/sklearn/utils/validation.py:475: DataConversionWarning: Data with input dtype int64 was converted to float64 by MinMaxScaler.\n",
      "  warnings.warn(msg, DataConversionWarning)\n"
     ]
    }
   ],
   "source": [
    "from sklearn.preprocessing import MinMaxScaler\n",
    "\n",
    "scalea = MinMaxScaler()\n",
    "\n",
    "print(scalea.fit(df['Age'].values.reshape(-1,1)))\n",
    "\n",
    "df['age_scale'] = scalea.transform(df['Age'].values.reshape(-1,1))"
   ]
  },
  {
   "cell_type": "code",
   "execution_count": 9,
   "metadata": {},
   "outputs": [],
   "source": [
    "from sklearn.model_selection import train_test_split\n",
    "X_train_tmp, X_test_tmp, param_train_tmp, param_test_tmp, y_train_tmp, y_test_tmp = train_test_split(df, df[['is_F','is_M','age_scale']], df['Group'], test_size=0.2)\n",
    "\n",
    "from sklearn.model_selection import train_test_split\n",
    "X_train_tmp, X_val_tmp, param_train_tmp, param_val_tmp, y_train_tmp, y_val_tmp = train_test_split(X_train_tmp, param_train_tmp, y_train_tmp, test_size=0.3)"
   ]
  },
  {
   "cell_type": "code",
   "execution_count": null,
   "metadata": {},
   "outputs": [],
   "source": []
  },
  {
   "cell_type": "code",
   "execution_count": null,
   "metadata": {},
   "outputs": [],
   "source": []
  },
  {
   "cell_type": "code",
   "execution_count": 11,
   "metadata": {},
   "outputs": [],
   "source": [
    "lstFilesDCM_train = []  # create an empty list\n",
    "lstFilesDCM_test = []\n",
    "lstFilesDCM_val = []\n",
    "lstFilesDCM_train = X_train_tmp['Filenames'].values\n",
    "lstFilesDCM_train = lstFilesDCM_train.tolist()\n",
    "lstFilesDCM_test = X_test_tmp['Filenames'].values\n",
    "lstFilesDCM_test = lstFilesDCM_test.tolist()\n",
    "lstFilesDCM_val = X_val_tmp['Filenames'].values\n",
    "lstFilesDCM_val = lstFilesDCM_val.tolist()"
   ]
  },
  {
   "cell_type": "markdown",
   "metadata": {},
   "source": [
    "For NORMAL Image"
   ]
  },
  {
   "cell_type": "code",
   "execution_count": 10,
   "metadata": {},
   "outputs": [],
   "source": [
    "#Training Set"
   ]
  },
  {
   "cell_type": "code",
   "execution_count": 403,
   "metadata": {},
   "outputs": [],
   "source": [
    "img = nib.load(lstFilesDCM_train[68])\n",
    "im = []"
   ]
  },
  {
   "cell_type": "code",
   "execution_count": 404,
   "metadata": {},
   "outputs": [],
   "source": [
    "ds = img.get_fdata()[15]\n",
    "for i in range(16,161):\n",
    "    ds = np.dstack((ds,img.get_fdata()[i]))\n",
    "ds = ds.transpose(1,0,2)\n",
    "\n",
    "#Select cut\n",
    "ds_3d_a = ds[77,25:235,:]\n",
    "for i in range(80,240,3):\n",
    "    ds_3d_a = np.dstack((ds_3d_a,ds[i,25:235,:]))\n",
    "ds_3d_a = ds_3d_a.transpose(2,0,1)\n",
    "ds_3d_a = ds_3d_a / 2350\n",
    "\n",
    "im.append(ds_3d_a)"
   ]
  },
  {
   "cell_type": "code",
   "execution_count": 405,
   "metadata": {},
   "outputs": [
    {
     "data": {
      "text/plain": [
       "(1, 55, 210, 146)"
      ]
     },
     "execution_count": 405,
     "metadata": {},
     "output_type": "execute_result"
    }
   ],
   "source": [
    "np.asarray(im).shape"
   ]
  },
  {
   "cell_type": "code",
   "execution_count": 409,
   "metadata": {},
   "outputs": [
    {
     "data": {
      "text/plain": [
       "<matplotlib.image.AxesImage at 0x7f228ad58b00>"
      ]
     },
     "execution_count": 409,
     "metadata": {},
     "output_type": "execute_result"
    },
    {
     "data": {
      "image/png": "[encoded data removed]",
      "text/plain": [
       "<Figure size 432x288 with 1 Axes>"
      ]
     },
     "metadata": {},
     "output_type": "display_data"
    }
   ],
   "source": [
    "plt.imshow(np.asarray(im)[0,54,:,:])"
   ]
  },
  {
   "cell_type": "code",
   "execution_count": 52,
   "metadata": {
    "scrolled": true
   },
   "outputs": [
    {
     "ename": "NameError",
     "evalue": "name 'mri' is not defined",
     "output_type": "error",
     "traceback": [
      "\u001b[0;31m---------------------------------------------------------------------------\u001b[0m",
      "\u001b[0;31mNameError\u001b[0m                                 Traceback (most recent call last)",
      "\u001b[0;32m<ipython-input-52-bf07424fd047>\u001b[0m in \u001b[0;36m<module>\u001b[0;34m()\u001b[0m\n\u001b[0;32m----> 1\u001b[0;31m \u001b[0mplt\u001b[0m\u001b[0;34m.\u001b[0m\u001b[0mimshow\u001b[0m\u001b[0;34m(\u001b[0m\u001b[0mresize\u001b[0m\u001b[0;34m(\u001b[0m\u001b[0mmri\u001b[0m\u001b[0;34m,\u001b[0m \u001b[0;34m(\u001b[0m\u001b[0;36m128\u001b[0m\u001b[0;34m,\u001b[0m \u001b[0;36m120\u001b[0m\u001b[0;34m)\u001b[0m\u001b[0;34m,\u001b[0m \u001b[0manti_aliasing\u001b[0m\u001b[0;34m=\u001b[0m\u001b[0;32mTrue\u001b[0m\u001b[0;34m)\u001b[0m\u001b[0;34m)\u001b[0m\u001b[0;34m\u001b[0m\u001b[0m\n\u001b[0m",
      "\u001b[0;31mNameError\u001b[0m: name 'mri' is not defined"
     ]
    }
   ],
   "source": [
    "plt.imshow(resize(mri, (128, 120), anti_aliasing=True))"
   ]
  },
  {
   "cell_type": "code",
   "execution_count": 71,
   "metadata": {
    "scrolled": false
   },
   "outputs": [
    {
     "name": "stderr",
     "output_type": "stream",
     "text": [
      "/home/brainvistec4/miniconda3/envs/fastai/lib/python3.6/site-packages/skimage/transform/_warps.py:105: UserWarning: The default mode, 'constant', will be changed to 'reflect' in skimage 0.15.\n",
      "  warn(\"The default mode, 'constant', will be changed to 'reflect' in \"\n"
     ]
    },
    {
     "data": {
      "text/plain": [
       "<matplotlib.image.AxesImage at 0x7fc3c9805fd0>"
      ]
     },
     "execution_count": 71,
     "metadata": {},
     "output_type": "execute_result"
    },
    {
     "data": {
      "image/png": "[encoded data removed]",
      "text/plain": [
       "<Figure size 432x288 with 1 Axes>"
      ]
     },
     "metadata": {},
     "output_type": "display_data"
    }
   ],
   "source": [
    "plt.imshow(resize(img.get_fdata()[80,40:230,60:230], (128, 120), anti_aliasing=True))"
   ]
  },
  {
   "cell_type": "markdown",
   "metadata": {},
   "source": [
    "#### 128x120"
   ]
  },
  {
   "cell_type": "code",
   "execution_count": 73,
   "metadata": {},
   "outputs": [],
   "source": [
    "# loop through all the DICOM files\n",
    "image_array_train =[]\n",
    "\n",
    "for filenameDCM in lstFilesDCM_train:\n",
    "    ds = nib.load(filenameDCM)\n",
    "    ds_3d = resize(ds.get_fdata()[25,40:230,60:230], (128, 120), mode='constant', anti_aliasing=True)\n",
    "    for i in range(28,146,3):\n",
    "        ds_3d = np.dstack((ds_3d,resize(ds.get_fdata()[i,40:230,60:230], (128, 120),mode='constant', anti_aliasing=True)))\n",
    "\n",
    "    image_array_train.append(ds_3d)\n",
    "'''\n",
    "for filenameDCM in lstFilesDCM_train:\n",
    "    ds = nib.load(filenameDCM)\n",
    "    ds_3d = resize(ds.get_fdata()[26,40:230,60:230], (128, 120), mode='constant', anti_aliasing=True)\n",
    "    for i in range(29,147,3):\n",
    "        ds_3d = np.dstack((ds_3d,resize(ds.get_fdata()[i,40:230,60:230], (128, 120),mode='constant', anti_aliasing=True)))\n",
    "\n",
    "    image_array_train.append(ds_3d)\n",
    "\n",
    "for filenameDCM in lstFilesDCM_train:\n",
    "    ds = nib.load(filenameDCM)\n",
    "    ds_3d = resize(ds.get_fdata()[27,40:230,60:230], (128, 120), mode='constant', anti_aliasing=True)\n",
    "    for i in range(30,148,3):\n",
    "        ds_3d = np.dstack((ds_3d,resize(ds.get_fdata()[i,40:230,60:230], (128, 120),mode='constant', anti_aliasing=True)))\n",
    "\n",
    "    image_array_train.append(ds_3d)\n",
    "    \n",
    "for filenameDCM in lstFilesDCM_train:\n",
    "    ds = nib.load(filenameDCM)\n",
    "    ds_3d = resize(ds.get_fdata()[145,40:230,60:230], (128, 120), mode='constant', anti_aliasing=True)\n",
    "    for i in range(142,24,-3):\n",
    "        ds_3d = np.dstack((ds_3d,resize(ds.get_fdata()[i,40:230,60:230], (128, 120),mode='constant', anti_aliasing=True)))\n",
    "\n",
    "    image_array_train.append(ds_3d)\n",
    "\n",
    "for filenameDCM in lstFilesDCM_train:\n",
    "    ds = nib.load(filenameDCM)\n",
    "    ds_3d = resize(ds.get_fdata()[146,40:230,60:230], (128, 120), mode='constant', anti_aliasing=True)\n",
    "    for i in range(143,25,-3):\n",
    "        ds_3d = np.dstack((ds_3d,resize(ds.get_fdata()[i,40:230,60:230], (128, 120),mode='constant', anti_aliasing=True)))\n",
    "\n",
    "    image_array_train.append(ds_3d)\n",
    "\n",
    "for filenameDCM in lstFilesDCM_train:\n",
    "    ds = nib.load(filenameDCM)\n",
    "    ds_3d = resize(ds.get_fdata()[147,40:230,60:230], (128, 120), mode='constant', anti_aliasing=True)\n",
    "    for i in range(144,26,-3):\n",
    "        ds_3d = np.dstack((ds_3d,resize(ds.get_fdata()[i,40:230,60:230], (128, 120),mode='constant', anti_aliasing=True)))\n",
    "\n",
    "    image_array_train.append(ds_3d)'''\n",
    "    \n",
    "image_array_train = np.asarray(image_array_train,dtype='int64')\n",
    "#image_array_train = image_array_train.transpose(image_array_train, (0,2,3,1))\n",
    "#image_array_train = image_array_train/1278.008826530314\n",
    "\n",
    "#image_array_train.shape"
   ]
  },
  {
   "cell_type": "code",
   "execution_count": null,
   "metadata": {},
   "outputs": [],
   "source": [
    "img = nib.load(filenameDCM)\n",
    "    ds = img.get_fdata()[20]\n",
    "    for i in range(21,155):\n",
    "        ds = np.dstack((ds,img.get_fdata()[i]))\n",
    "    ds = ds.transpose(1,0,2)\n",
    "    \n",
    "    #Select cut\n",
    "    ds_3d_a = ds[100,40:220,:]\n",
    "    for i in range(103,231,3):\n",
    "        ds_3d_a = np.dstack((ds_3d_a,ds[i,40:220,:]))"
   ]
  },
  {
   "cell_type": "markdown",
   "metadata": {},
   "source": [
    "## Load Training Set"
   ]
  },
  {
   "cell_type": "code",
   "execution_count": 12,
   "metadata": {
    "scrolled": true
   },
   "outputs": [],
   "source": [
    "image_array_train = []\n",
    "image_array_train_a = []\n",
    "image_array_train_ai = []\n",
    "image_array_train_b = []\n",
    "image_array_train_bi = []\n",
    "image_array_train_c = []\n",
    "image_array_train_ci = []\n",
    "\n",
    "for filenameDCM in lstFilesDCM_train:\n",
    "    img = nib.load(filenameDCM)\n",
    "    ds = img.get_fdata()[20]\n",
    "    for i in range(21,155):\n",
    "        ds = np.dstack((ds,img.get_fdata()[i]))\n",
    "    ds = ds.transpose(1,0,2)\n",
    "    \n",
    "    #Select cut\n",
    "    ds_3d_a = ds[80,40:220,:]\n",
    "    for i in range(83,241,3):\n",
    "        ds_3d_a = np.dstack((ds_3d_a,ds[i,40:220,:]))        \n",
    "    ds_3d_a = ds_3d_a.transpose(2,0,1)\n",
    "    ds_3d_a = ds_3d_a / 2350\n",
    "    image_array_train_a.append(ds_3d_a)\n",
    "    gc.collect()\n",
    "    \n",
    "    \n",
    "    ds_3d_ai = ds[80,40:220,::-1]\n",
    "    for i in range(83,241,3):\n",
    "        ds_3d_ai = np.dstack((ds_3d_ai,ds[i,40:220,::-1]))\n",
    "    ds_3d_ai = ds_3d_ai.transpose(2,0,1)\n",
    "    ds_3d_ai = ds_3d_ai / 2350\n",
    "    image_array_train_ai.append(ds_3d_ai)\n",
    "    gc.collect()\n",
    "    \n",
    "    ds_3d_b = ds[81,40:220,:]\n",
    "    for i in range(84,242,3):\n",
    "        ds_3d_b = np.dstack((ds_3d_b,ds[i,40:220,:]))\n",
    "    ds_3d_b = ds_3d_b.transpose(2,0,1)\n",
    "    ds_3d_b = ds_3d_b / 2350\n",
    "    image_array_train_b.append(ds_3d_b)\n",
    "    gc.collect()\n",
    "    \n",
    "    ds_3d_bi = ds[81,40:220,::-1]\n",
    "    for i in range(84,242,3):\n",
    "        ds_3d_bi = np.dstack((ds_3d_bi,ds[i,40:220,::-1]))\n",
    "    ds_3d_bi = ds_3d_bi.transpose(2,0,1)\n",
    "    ds_3d_bi = ds_3d_bi / 2350\n",
    "    image_array_train_bi.append(ds_3d_bi)\n",
    "    gc.collect()\n",
    "    \n",
    "    ds_3d_c = ds[82,40:220,:]\n",
    "    for i in range(85,243,3):\n",
    "        ds_3d_c = np.dstack((ds_3d_c,ds[i,40:220,:]))\n",
    "    ds_3d_c = ds_3d_c.transpose(2,0,1)  \n",
    "    ds_3d_c = ds_3d_c / 2350\n",
    "    image_array_train_c.append(ds_3d_c)\n",
    "    gc.collect()\n",
    "    \n",
    "    ds_3d_ci = ds[82,40:220,::-1]\n",
    "    for i in range(85,243,3):\n",
    "        ds_3d_ci = np.dstack((ds_3d_ci,ds[i,40:220,::-1]))\n",
    "    ds_3d_ci = ds_3d_ci.transpose(2,0,1)\n",
    "    ds_3d_ci = ds_3d_ci / 2350\n",
    "    image_array_train_ci.append(ds_3d_ci)\n",
    "    gc.collect()\n",
    "\n"
   ]
  },
  {
   "cell_type": "code",
   "execution_count": 13,
   "metadata": {},
   "outputs": [
    {
     "data": {
      "text/plain": [
       "(1536, 54, 180, 135)"
      ]
     },
     "execution_count": 13,
     "metadata": {},
     "output_type": "execute_result"
    }
   ],
   "source": [
    "image_array_train1 = np.vstack((image_array_train_a,image_array_train_ai))\n",
    "image_array_train2 = np.vstack((image_array_train_b,image_array_train_bi))\n",
    "image_array_train3 = np.vstack((image_array_train_c,image_array_train_ci))\n",
    "image_array_train = np.vstack((image_array_train1,image_array_train2,image_array_train3))\n",
    "\n",
    "image_array_train.shape"
   ]
  },
  {
   "cell_type": "code",
   "execution_count": 14,
   "metadata": {},
   "outputs": [],
   "source": [
    "numpy.save('mri_train_array', image_array_train)"
   ]
  },
  {
   "cell_type": "code",
   "execution_count": 9,
   "metadata": {},
   "outputs": [],
   "source": [
    "image_array_train = np.load('mri_train_array.npy')"
   ]
  },
  {
   "cell_type": "code",
   "execution_count": 17,
   "metadata": {},
   "outputs": [
    {
     "data": {
      "text/plain": [
       "<matplotlib.image.AxesImage at 0x7f0670250dd8>"
      ]
     },
     "execution_count": 17,
     "metadata": {},
     "output_type": "execute_result"
    },
    {
     "data": {
      "image/png": "[encoded data removed]",
      "text/plain": [
       "<Figure size 432x288 with 1 Axes>"
      ]
     },
     "metadata": {},
     "output_type": "display_data"
    }
   ],
   "source": [
    "plt.imshow(image_array_train[400,0,:,:])"
   ]
  },
  {
   "cell_type": "code",
   "execution_count": 18,
   "metadata": {},
   "outputs": [],
   "source": [
    "#Validation set"
   ]
  },
  {
   "cell_type": "code",
   "execution_count": 19,
   "metadata": {
    "scrolled": true
   },
   "outputs": [
    {
     "data": {
      "text/plain": [
       "(111, 54, 180, 135)"
      ]
     },
     "execution_count": 19,
     "metadata": {},
     "output_type": "execute_result"
    }
   ],
   "source": [
    "image_array_val =[]\n",
    "\n",
    "    \n",
    "for filenameDCM in lstFilesDCM_val:\n",
    "    img = nib.load(filenameDCM)\n",
    "    ds = img.get_fdata()[20]\n",
    "    for i in range(21,155):\n",
    "        ds = np.dstack((ds,img.get_fdata()[i]))\n",
    "    ds = ds.transpose(1,0,2)\n",
    "    \n",
    "    #Select cut\n",
    "    ds_3d = ds[80,40:220,:]\n",
    "    for i in range(83,241,3):\n",
    "        ds_3d = np.dstack((ds_3d,ds[i,40:220,:]))        \n",
    "    ds_3d = ds_3d.transpose(2,0,1)\n",
    "    ds_3d = ds_3d / 2350\n",
    "    image_array_val.append(ds_3d)\n",
    "    gc.collect()\n",
    "    \n",
    "\n",
    "image_array_val = np.asarray(image_array_val, dtype='float64')\n",
    "image_array_val.shape"
   ]
  },
  {
   "cell_type": "code",
   "execution_count": 20,
   "metadata": {},
   "outputs": [
    {
     "data": {
      "text/plain": [
       "(111, 54, 180, 135)"
      ]
     },
     "execution_count": 20,
     "metadata": {},
     "output_type": "execute_result"
    }
   ],
   "source": [
    "image_array_val.shape"
   ]
  },
  {
   "cell_type": "code",
   "execution_count": 21,
   "metadata": {},
   "outputs": [],
   "source": [
    "numpy.save('mri_val_array', image_array_val)"
   ]
  },
  {
   "cell_type": "code",
   "execution_count": 10,
   "metadata": {},
   "outputs": [],
   "source": [
    "image_array_val = np.load('mri_val_array.npy')"
   ]
  },
  {
   "cell_type": "code",
   "execution_count": 14,
   "metadata": {},
   "outputs": [],
   "source": [
    "image_array_train = np.asarray(image_array_train,dtype='float64')\n",
    "image_array_val = np.asarray(image_array_val,dtype='float64')"
   ]
  },
  {
   "cell_type": "code",
   "execution_count": 37,
   "metadata": {},
   "outputs": [],
   "source": [
    "#Test set"
   ]
  },
  {
   "cell_type": "code",
   "execution_count": null,
   "metadata": {},
   "outputs": [],
   "source": [
    "image_array_test =[]\n",
    "\n",
    "    \n",
    "for filenameDCM in lstFilesDCM_test:\n",
    "    img = nib.load(filenameDCM)\n",
    "    ds = img.get_fdata()[20]\n",
    "    for i in range(21,155):\n",
    "        ds = np.dstack((ds,img.get_fdata()[i]))\n",
    "    ds = ds.transpose(1,0,2)\n",
    "    \n",
    "    #Select cut\n",
    "    ds_3d = ds[80,40:220,:]\n",
    "    for i in range(83,241,3):\n",
    "        ds_3d = np.dstack((ds_3d,ds[i,40:220,:]))        \n",
    "    ds_3d = ds_3d.transpose(2,0,1)\n",
    "    ds_3d = ds_3d / 2350\n",
    "    image_array_test.append(ds_3d)\n",
    "    gc.collect()\n",
    "    \n",
    "\n",
    "image_array_test = np.asarray(image_array_test, dtype='float64')\n",
    "image_array_test.shape"
   ]
  },
  {
   "cell_type": "code",
   "execution_count": null,
   "metadata": {},
   "outputs": [],
   "source": [
    "numpy.save('mri_test_array', image_array_test)"
   ]
  },
  {
   "cell_type": "markdown",
   "metadata": {},
   "source": [
    "### Data Augmented Image_array_train"
   ]
  },
  {
   "cell_type": "code",
   "execution_count": 43,
   "metadata": {},
   "outputs": [],
   "source": [
    "from scipy.ndimage import interpolation"
   ]
  },
  {
   "cell_type": "code",
   "execution_count": null,
   "metadata": {},
   "outputs": [],
   "source": [
    "rotR = interpolation.rotate(image_array_train,-5,axes=(3,2),mode='constant',reshape=False)\n",
    "numpy.save('image_array_train_aug', rotR)"
   ]
  },
  {
   "cell_type": "code",
   "execution_count": 44,
   "metadata": {},
   "outputs": [],
   "source": [
    "rotR8 = interpolation.rotate(image_array_train,-8,axes=(3,2),mode='constant',reshape=False)\n",
    "np.save('image_array_train_aug3', rotR8)"
   ]
  },
  {
   "cell_type": "code",
   "execution_count": null,
   "metadata": {},
   "outputs": [],
   "source": [
    "rotL = interpolation.rotate(image_array_train,5,axes=(3,2),mode='constant',reshape=False)\n",
    "numpy.save('image_array_train_aug2', rotL)"
   ]
  },
  {
   "cell_type": "code",
   "execution_count": null,
   "metadata": {},
   "outputs": [],
   "source": [
    "rotL8 = interpolation.rotate(image_array_train,8,axes=(3,2),mode='constant',reshape=False)\n",
    "np.save('image_array_train_aug4', rotL8)"
   ]
  },
  {
   "cell_type": "markdown",
   "metadata": {},
   "source": [
    "### Load Image Array"
   ]
  },
  {
   "cell_type": "code",
   "execution_count": 5,
   "metadata": {},
   "outputs": [],
   "source": [
    "image_array_train = np.load('mri_train_array.npy')\n",
    "#image_array_train = np.load('image_array_train_aug.npy')\n",
    "#image_array_train = np.load('image_array_train_aug2.npy')\n",
    "#image_array_train = np.load('image_array_train_aug3.npy')\n",
    "#image_array_train = np.load('image_array_train_aug4.npy')\n",
    "\n",
    "image_array_val = np.load('mri_val_array.npy')\n",
    "#image_array_test = np.load('mri_test_array.npy')"
   ]
  },
  {
   "cell_type": "markdown",
   "metadata": {},
   "source": [
    "### Y , Param"
   ]
  },
  {
   "cell_type": "code",
   "execution_count": 6,
   "metadata": {
    "scrolled": true
   },
   "outputs": [
    {
     "ename": "NameError",
     "evalue": "name 'y_train_tmp' is not defined",
     "output_type": "error",
     "traceback": [
      "\u001b[0;31m---------------------------------------------------------------------------\u001b[0m",
      "\u001b[0;31mNameError\u001b[0m                                 Traceback (most recent call last)",
      "\u001b[0;32m<ipython-input-6-3fb0c9b90794>\u001b[0m in \u001b[0;36m<module>\u001b[0;34m()\u001b[0m\n\u001b[0;32m----> 1\u001b[0;31m \u001b[0my_train\u001b[0m \u001b[0;34m=\u001b[0m \u001b[0my_train_tmp\u001b[0m\u001b[0;34m.\u001b[0m\u001b[0mvalues\u001b[0m\u001b[0;34m\u001b[0m\u001b[0m\n\u001b[0m\u001b[1;32m      2\u001b[0m \u001b[0my_train\u001b[0m \u001b[0;34m=\u001b[0m \u001b[0my_train\u001b[0m\u001b[0;34m.\u001b[0m\u001b[0mastype\u001b[0m\u001b[0;34m(\u001b[0m\u001b[0;34m'int64'\u001b[0m\u001b[0;34m)\u001b[0m\u001b[0;34m\u001b[0m\u001b[0m\n\u001b[1;32m      3\u001b[0m \u001b[0my_train\u001b[0m \u001b[0;34m=\u001b[0m \u001b[0mnp\u001b[0m\u001b[0;34m.\u001b[0m\u001b[0mhstack\u001b[0m\u001b[0;34m(\u001b[0m\u001b[0;34m(\u001b[0m\u001b[0my_train\u001b[0m\u001b[0;34m,\u001b[0m\u001b[0my_train\u001b[0m\u001b[0;34m,\u001b[0m\u001b[0my_train\u001b[0m\u001b[0;34m)\u001b[0m\u001b[0;34m)\u001b[0m\u001b[0;34m\u001b[0m\u001b[0m\n\u001b[1;32m      4\u001b[0m \u001b[0my_train\u001b[0m \u001b[0;34m=\u001b[0m \u001b[0mnp\u001b[0m\u001b[0;34m.\u001b[0m\u001b[0mhstack\u001b[0m\u001b[0;34m(\u001b[0m\u001b[0;34m(\u001b[0m\u001b[0my_train\u001b[0m\u001b[0;34m,\u001b[0m\u001b[0my_train\u001b[0m\u001b[0;34m)\u001b[0m\u001b[0;34m)\u001b[0m\u001b[0;34m\u001b[0m\u001b[0m\n\u001b[1;32m      5\u001b[0m \u001b[0my_val\u001b[0m \u001b[0;34m=\u001b[0m \u001b[0my_val_tmp\u001b[0m\u001b[0;34m.\u001b[0m\u001b[0mvalues\u001b[0m\u001b[0;34m\u001b[0m\u001b[0m\n",
      "\u001b[0;31mNameError\u001b[0m: name 'y_train_tmp' is not defined"
     ]
    }
   ],
   "source": [
    "y_train = y_train_tmp.values\n",
    "y_train = y_train.astype('int64')\n",
    "y_train = np.hstack((y_train,y_train,y_train))\n",
    "y_train = np.hstack((y_train,y_train))\n",
    "y_val = y_val_tmp.values\n",
    "y_val = y_val.astype('int64')\n",
    "#y_val= np.hstack((y_val,y_val,y_val))\n",
    "y_test = y_test_tmp.values\n",
    "y_test = y_test.astype('int64')\n",
    "#y_val= np.hstack((y_val,y_val,y_val))"
   ]
  },
  {
   "cell_type": "code",
   "execution_count": 23,
   "metadata": {},
   "outputs": [
    {
     "data": {
      "text/plain": [
       "((1536,), (111,), (92,))"
      ]
     },
     "execution_count": 23,
     "metadata": {},
     "output_type": "execute_result"
    }
   ],
   "source": [
    "y_train.shape,y_val.shape,y_test.shape"
   ]
  },
  {
   "cell_type": "code",
   "execution_count": 24,
   "metadata": {},
   "outputs": [],
   "source": [
    "numpy.save('mri_ytrain_array', y_train)\n",
    "numpy.save('mri_yval_array', y_val)\n",
    "numpy.save('mri_ytest_array', y_test)"
   ]
  },
  {
   "cell_type": "code",
   "execution_count": 25,
   "metadata": {},
   "outputs": [],
   "source": [
    "param_train = param_train_tmp.values\n",
    "params = []\n",
    "for i in param_train:\n",
    "    stack = []\n",
    "    stack.append(i)\n",
    "    stack = stack*10\n",
    "    params.append(stack)\n",
    "param_train = np.asarray(params)\n",
    "del(params)"
   ]
  },
  {
   "cell_type": "code",
   "execution_count": 26,
   "metadata": {},
   "outputs": [],
   "source": [
    "param_val = param_val_tmp.values\n",
    "params = []\n",
    "for i in param_val:\n",
    "    stack = []\n",
    "    stack.append(i)\n",
    "    stack = stack*10\n",
    "    params.append(stack)\n",
    "param_val = np.asarray(params)\n",
    "del(params)\n",
    "\n",
    "param_test = param_test_tmp.values\n",
    "params = []\n",
    "for i in param_test:\n",
    "    stack = []\n",
    "    stack.append(i)\n",
    "    stack = stack*10\n",
    "    params.append(stack)\n",
    "param_test = np.asarray(params)\n",
    "del(params)"
   ]
  },
  {
   "cell_type": "code",
   "execution_count": 27,
   "metadata": {},
   "outputs": [],
   "source": [
    "param_train = param_train.astype('float64')\n",
    "param_val = param_val.astype('float64')\n",
    "param_test = param_test.astype('float64')"
   ]
  },
  {
   "cell_type": "code",
   "execution_count": 28,
   "metadata": {},
   "outputs": [],
   "source": [
    "#x6 Param match training Image\n",
    "param_train = np.vstack((param_train,param_train,param_train))\n",
    "param_train = np.vstack((param_train,param_train))"
   ]
  },
  {
   "cell_type": "code",
   "execution_count": 29,
   "metadata": {},
   "outputs": [
    {
     "data": {
      "text/plain": [
       "(1536, 10, 3)"
      ]
     },
     "execution_count": 29,
     "metadata": {},
     "output_type": "execute_result"
    }
   ],
   "source": [
    "param_train.shape"
   ]
  },
  {
   "cell_type": "code",
   "execution_count": 30,
   "metadata": {},
   "outputs": [],
   "source": [
    "numpy.save('mri_paramtrain_array', param_train)\n",
    "numpy.save('mri_paramval_array', param_val)\n",
    "numpy.save('mri_paramtest_array', param_test)"
   ]
  },
  {
   "cell_type": "markdown",
   "metadata": {},
   "source": [
    "### Load y,param"
   ]
  },
  {
   "cell_type": "code",
   "execution_count": 6,
   "metadata": {},
   "outputs": [],
   "source": [
    "y_val = np.load('mri_yval_array.npy')\n",
    "y_train = np.load('mri_ytrain_array.npy')\n",
    "#y_test = np.load('mri_ytest_array.npy')\n",
    "param_val = np.load('mri_paramval_array.npy')\n",
    "param_train = np.load('mri_paramtrain_array.npy')\n",
    "#param_test = np.load('mri_paramtest_array.npy')"
   ]
  },
  {
   "cell_type": "code",
   "execution_count": 7,
   "metadata": {},
   "outputs": [],
   "source": [
    "y_train = y_train.astype('float64')\n",
    "y_val = y_val.astype('float64')"
   ]
  },
  {
   "cell_type": "code",
   "execution_count": null,
   "metadata": {},
   "outputs": [],
   "source": []
  },
  {
   "cell_type": "markdown",
   "metadata": {},
   "source": [
    "### Fastai library"
   ]
  },
  {
   "cell_type": "markdown",
   "metadata": {},
   "source": [
    "#### Pretrained Resnet"
   ]
  },
  {
   "cell_type": "code",
   "execution_count": 77,
   "metadata": {},
   "outputs": [],
   "source": [
    "class  ConvWithMeta(nn.Module):\n",
    "    def __init__(self):\n",
    "        super(ConvWithMeta, self).__init__()\n",
    "        head_layer = [nn.Conv2d(1, 3, kernel_size=1, bias=False, stride=1, padding=0)]\n",
    "        self.head_layer = nn.Sequential(*head_layer)\n",
    "        resnet_layers = list(resnet34(True).children())[:8]\n",
    "        self.features = nn.Sequential(*resnet_layers,nn.Dropout2d(0.5))\n",
    "        for param in self.features.parameters():\n",
    "            param.requires_grad = False\n",
    "        self.bns = nn.ModuleList([nn.BatchNorm1d(27660), nn.BatchNorm1d(1024)])\n",
    "        self.lins = nn.ModuleList([nn.Linear(27660,1024), nn.Linear(1024, 1)])\n",
    "        for o in self.lins: kaiming_normal(o.weight.data)\n",
    "        self.fc_model = nn.Sequential(*self.fc_layers()).cuda()\n",
    "        \n",
    "    def fc_layers(self):\n",
    "        return [self.bns[0], nn.Dropout(0.5), self.lins[0], nn.LeakyReLU(), \n",
    "                self.bns[1], nn.Dropout(0.5), self.lins[1]] \n",
    "        \n",
    "    def forward(self, x1, x2):\n",
    "        for i in range(54):\n",
    "            x_clone = x1[:,i,:,:].clone()\n",
    "            x_clone = x_clone.unsqueeze(1)\n",
    "            x_clone = self.head_layer(x_clone)           \n",
    "            x_clone = self.features(x_clone)\n",
    "            x_clone = nn.AdaptiveMaxPool2d((1,1))(x_clone)\n",
    "            if i == 0:\n",
    "                out = x_clone\n",
    "            else:\n",
    "                out = torch.cat((out,x_clone),1)\n",
    "        out=out.squeeze()\n",
    "        out = torch.cat((out,x2[:,0],x2[:,1],x2[:,2],x2[:,3]),1)\n",
    "        out = self.fc_model(out)\n",
    "        return out.squeeze()\n",
    "        '''\n",
    "        x1 = x1.unsqueeze(1)\n",
    "        x1 = self.head_layer(x1)\n",
    "        x1 = self.features(x1)\n",
    "        x1 = nn.AdaptiveMaxPool2d((1,1))(x1)\n",
    "        x1 = x1.view(x1.size(0), -1)\n",
    "        x = torch.cat([x1, x2], 1)\n",
    "        x = self.fc_model(x)\n",
    "        x = x.squeeze()\n",
    "        return x'''"
   ]
  },
  {
   "cell_type": "code",
   "execution_count": 78,
   "metadata": {},
   "outputs": [],
   "source": [
    "class MetaModel(BasicModel):\n",
    "    def get_layer_groups(self):\n",
    "        m=self.model\n",
    "        return m"
   ]
  },
  {
   "cell_type": "code",
   "execution_count": 79,
   "metadata": {},
   "outputs": [],
   "source": [
    "class  MetaLearner(Learner):\n",
    "    def __init__(self, data, models, **kwargs):\n",
    "        super().__init__(data, models, **kwargs)\n",
    "        self.crit = F.binary_cross_entropy_with_logits"
   ]
  },
  {
   "cell_type": "code",
   "execution_count": 80,
   "metadata": {},
   "outputs": [],
   "source": [
    "class MetaDataset(BaseDataset):\n",
    "    \"\"\" Dataset where x=(x1,x2) where x1 is an image.\n",
    "    \"\"\"\n",
    "    def __init__(self, fnames, x2, y, transform, path):\n",
    "        self.path,self.fnames,self.y,self.x2 = path,fnames,y,x2\n",
    "        assert(len(fnames)==len(y))\n",
    "        super().__init__(transform)\n",
    "\n",
    "    def __getitem__(self, idx):\n",
    "        \"\"\" This function should return a list.\n",
    "        \"\"\"\n",
    "        x1, x2 = self.get_x(idx)\n",
    "        y = self.get_y(idx)\n",
    "        return self.get(self.transform, (x1, x2), y)\n",
    "    \n",
    "    def __len__(self): return len(self.y)\n",
    "    \n",
    "    def get_x(self, i):\n",
    "        im = x1\n",
    "        x2 = np.expand_dims(self.x2[i], axis=1)\n",
    "        return np.array(im, dtype=np.float32)/255., x2\n",
    "    \n",
    "    def get_n(self): return len(self.y)\n",
    "    def get_y(self, i): return self.y[i]\n",
    "    \n",
    "    def get(self, tfm, x, y):\n",
    "        x1, x2 = x\n",
    "        if tfm is None:\n",
    "            return [x1, x2, y] \n",
    "        x1,y = tfm(x1,y)\n",
    "        return [x1, x2, y]\n",
    "    \n",
    "    def get_c(self): return 1\n",
    "    \n",
    "    def get_sz(self): return self.transform.sz"
   ]
  },
  {
   "cell_type": "code",
   "execution_count": 81,
   "metadata": {},
   "outputs": [],
   "source": [
    "class MetaArraysDataset(BaseDataset):\n",
    "    def __init__(self, x, param, y, transform, path):\n",
    "        self.path = path\n",
    "        self.x,self.y, self.param = x, y , param\n",
    "        assert(len(x)==len(y))\n",
    "        super().__init__(transform)\n",
    "        \n",
    "    def __getitem__(self, idx):\n",
    "        \"\"\" This function should return a list.\n",
    "        \"\"\"\n",
    "        x = self.get_x(idx)\n",
    "        param = self.get_param(idx)\n",
    "        y = self.get_y(idx)\n",
    "        return self.get(self.transform, (x, param), y)\n",
    "   \n",
    "    def get(self, tfm, x, y):\n",
    "        x1, x2 = x\n",
    "        if tfm is None:\n",
    "            return [x1, x2, y] \n",
    "        x1,y = tfm(x1,y)\n",
    "        return [x1, x2, y]\n",
    "    def get_c(self): return int(self.y.max())+1\n",
    "    def get_x(self, i): return self.x[i]\n",
    "    def get_param(self,i): return self.param[i]\n",
    "    def get_y(self, i): return self.y[i]\n",
    "    def get_n(self): return len(self.y)\n",
    "    def get_sz(self): return self.x.shape[1]"
   ]
  },
  {
   "cell_type": "code",
   "execution_count": 82,
   "metadata": {},
   "outputs": [],
   "source": [
    "bs=4; sz=128\n",
    "#f_model = resnet34"
   ]
  },
  {
   "cell_type": "code",
   "execution_count": 83,
   "metadata": {},
   "outputs": [],
   "source": [
    "USE_GPU=True"
   ]
  },
  {
   "cell_type": "code",
   "execution_count": 84,
   "metadata": {},
   "outputs": [],
   "source": [
    "class ModelMetaData(ImageClassifierData):\n",
    "    \n",
    "    @classmethod\n",
    "    def get_ds(self, fn, trn, val, tfms, path, test=None):\n",
    "        res = [\n",
    "            fn(trn[0], trn[1], trn[2], tfms[0], path), # train\n",
    "            fn(val[0], val[1], val[2], tfms[1], path), # val\n",
    "            fn(trn[0], trn[1], trn[2], tfms[1], path), # fix\n",
    "            fn(val[0], val[1], val[2], tfms[0], path)  # aug\n",
    "        ]\n",
    "        if test:\n",
    "            test_lbls = np.zeros((len(test),1))\n",
    "            res += [\n",
    "                fn(test, test_lbls, tfms[1], path), # test\n",
    "                fn(test, test_lbls, tfms[0], path)  # test_aug\n",
    "            ]\n",
    "        else: res += [None,None]\n",
    "        return res\n",
    "    \n",
    "    @classmethod\n",
    "    def from_csv(self, path, folder, csv_fname, bs=bs, tfms=(None,None),val_idxs=None, \n",
    "                 suffix='', test_name=None, skip_header=True, num_workers=4):\n",
    "        fnames,x2,y = csv_source2(folder, csv_fname, skip_header, suffix)\n",
    "        ((val_fnames, trn_fnames), (val_x2, trn_x2), (val_y,trn_y)) = split_by_idx(val_idxs, np.array(fnames), x2, y)\n",
    "\n",
    "        test_fnames = read_dir(path, test_name) if test_name else None\n",
    "        datasets = self.get_ds(MetaDataset, (trn_fnames,trn_x2,trn_y), (val_fnames,val_x2,val_y),tfms=tfms, path=path)\n",
    "        return self(path, datasets, bs, num_workers, classes=1)\n",
    "    \n",
    "    @classmethod\n",
    "    def from_arrays(self, path, trn, val, bs=bs, tfms=(None,None), classes=None, num_workers=4, test=None):\n",
    "        trn_x1 , val_x1 = trn[0],val[0]\n",
    "        trn_x2 , val_x2 = trn[1],val[1]\n",
    "        trn_y , val_y = trn[2],val[2]\n",
    "        #test_x1, test_x2, test_y = test[0],test[1],test[2]\n",
    "        datasets = self.get_ds(MetaArraysDataset, (trn_x1,trn_x2,trn_y), (val_x1,val_x2,val_y) ,tfms=tfms,path=path)\n",
    "        return self(path, datasets, bs, num_workers, classes=classes)\n",
    "    \n",
    "        \n",
    "    def get_learner(self):\n",
    "        model = ConvWithMeta()\n",
    "        #model = Darknet([1,2,4,6,3], num_classes=1, nf=32)\n",
    "        device = torch.device(\"cuda:0\" if torch.cuda.is_available() else \"cpu\")\n",
    "        #m = nn.DataParallel(m, [1,2,3])\n",
    "        return MetaLearner(self, MetaModel(model.to(device)), opt_fn=optim.Adam)"
   ]
  },
  {
   "cell_type": "code",
   "execution_count": 85,
   "metadata": {},
   "outputs": [],
   "source": [
    "data = ModelMetaData.from_arrays('.', trn=(image_array_train,param_train,y_train),val=(image_array_val,param_val,y_val))"
   ]
  },
  {
   "cell_type": "code",
   "execution_count": 86,
   "metadata": {
    "scrolled": true
   },
   "outputs": [],
   "source": [
    "learner = data.get_learner()\n"
   ]
  },
  {
   "cell_type": "code",
   "execution_count": null,
   "metadata": {},
   "outputs": [],
   "source": []
  },
  {
   "cell_type": "code",
   "execution_count": 18,
   "metadata": {
    "scrolled": true
   },
   "outputs": [
    {
     "data": {
      "application/vnd.jupyter.widget-view+json": {
       "model_id": "e1686c96226847cc9d418f795e1980cf",
       "version_major": 2,
       "version_minor": 0
      },
      "text/plain": [
       "HBox(children=(IntProgress(value=0, description='Epoch', max=1), HTML(value='')))"
      ]
     },
     "metadata": {},
     "output_type": "display_data"
    },
    {
     "name": "stdout",
     "output_type": "stream",
     "text": [
      " 62%|██████▎   | 240/384 [08:47<05:16,  2.20s/it, loss=2.07]"
     ]
    }
   ],
   "source": [
    "learner.lr_find()"
   ]
  },
  {
   "cell_type": "code",
   "execution_count": 20,
   "metadata": {},
   "outputs": [
    {
     "data": {
      "image/png": "[encoded data removed]",
      "text/plain": [
       "<Figure size 432x288 with 1 Axes>"
      ]
     },
     "metadata": {},
     "output_type": "display_data"
    }
   ],
   "source": [
    "learner.sched.plot()"
   ]
  },
  {
   "cell_type": "code",
   "execution_count": 88,
   "metadata": {},
   "outputs": [
    {
     "data": {
      "application/vnd.jupyter.widget-view+json": {
       "model_id": "4314e12272ea47d7bb47b9568b5f0793",
       "version_major": 2,
       "version_minor": 0
      },
      "text/plain": [
       "HBox(children=(IntProgress(value=0, description='Epoch', max=2), HTML(value='')))"
      ]
     },
     "metadata": {},
     "output_type": "display_data"
    },
    {
     "name": "stdout",
     "output_type": "stream",
     "text": [
      "epoch      trn_loss   val_loss                               \n",
      "    0      0.419343   0.90033   \n",
      " 12%|█▏        | 46/384 [01:37<11:55,  2.12s/it, loss=0.489]"
     ]
    },
    {
     "ename": "KeyboardInterrupt",
     "evalue": "",
     "output_type": "error",
     "traceback": [
      "\u001b[0;31m---------------------------------------------------------------------------\u001b[0m",
      "\u001b[0;31mKeyboardInterrupt\u001b[0m                         Traceback (most recent call last)",
      "\u001b[0;32m<ipython-input-88-82151ec93c5c>\u001b[0m in \u001b[0;36m<module>\u001b[0;34m()\u001b[0m\n\u001b[0;32m----> 1\u001b[0;31m \u001b[0mlearner\u001b[0m\u001b[0;34m.\u001b[0m\u001b[0mfit\u001b[0m\u001b[0;34m(\u001b[0m\u001b[0;36m1e-4\u001b[0m\u001b[0;34m,\u001b[0m\u001b[0;36m2\u001b[0m\u001b[0;34m)\u001b[0m\u001b[0;34m\u001b[0m\u001b[0m\n\u001b[0m",
      "\u001b[0;32m~/PPMI/fastai/learner.py\u001b[0m in \u001b[0;36mfit\u001b[0;34m(self, lrs, n_cycle, wds, **kwargs)\u001b[0m\n\u001b[1;32m    285\u001b[0m         \u001b[0mself\u001b[0m\u001b[0;34m.\u001b[0m\u001b[0msched\u001b[0m \u001b[0;34m=\u001b[0m \u001b[0;32mNone\u001b[0m\u001b[0;34m\u001b[0m\u001b[0m\n\u001b[1;32m    286\u001b[0m         \u001b[0mlayer_opt\u001b[0m \u001b[0;34m=\u001b[0m \u001b[0mself\u001b[0m\u001b[0;34m.\u001b[0m\u001b[0mget_layer_opt\u001b[0m\u001b[0;34m(\u001b[0m\u001b[0mlrs\u001b[0m\u001b[0;34m,\u001b[0m \u001b[0mwds\u001b[0m\u001b[0;34m)\u001b[0m\u001b[0;34m\u001b[0m\u001b[0m\n\u001b[0;32m--> 287\u001b[0;31m         \u001b[0;32mreturn\u001b[0m \u001b[0mself\u001b[0m\u001b[0;34m.\u001b[0m\u001b[0mfit_gen\u001b[0m\u001b[0;34m(\u001b[0m\u001b[0mself\u001b[0m\u001b[0;34m.\u001b[0m\u001b[0mmodel\u001b[0m\u001b[0;34m,\u001b[0m \u001b[0mself\u001b[0m\u001b[0;34m.\u001b[0m\u001b[0mdata\u001b[0m\u001b[0;34m,\u001b[0m \u001b[0mlayer_opt\u001b[0m\u001b[0;34m,\u001b[0m \u001b[0mn_cycle\u001b[0m\u001b[0;34m,\u001b[0m \u001b[0;34m**\u001b[0m\u001b[0mkwargs\u001b[0m\u001b[0;34m)\u001b[0m\u001b[0;34m\u001b[0m\u001b[0m\n\u001b[0m\u001b[1;32m    288\u001b[0m \u001b[0;34m\u001b[0m\u001b[0m\n\u001b[1;32m    289\u001b[0m     \u001b[0;32mdef\u001b[0m \u001b[0mwarm_up\u001b[0m\u001b[0;34m(\u001b[0m\u001b[0mself\u001b[0m\u001b[0;34m,\u001b[0m \u001b[0mlr\u001b[0m\u001b[0;34m,\u001b[0m \u001b[0mwds\u001b[0m\u001b[0;34m=\u001b[0m\u001b[0;32mNone\u001b[0m\u001b[0;34m)\u001b[0m\u001b[0;34m:\u001b[0m\u001b[0;34m\u001b[0m\u001b[0m\n",
      "\u001b[0;32m~/PPMI/fastai/learner.py\u001b[0m in \u001b[0;36mfit_gen\u001b[0;34m(self, model, data, layer_opt, n_cycle, cycle_len, cycle_mult, cycle_save_name, best_save_name, use_clr, use_clr_beta, metrics, callbacks, use_wd_sched, norm_wds, wds_sched_mult, use_swa, swa_start, swa_eval_freq, **kwargs)\u001b[0m\n\u001b[1;32m    232\u001b[0m             \u001b[0mmetrics\u001b[0m\u001b[0;34m=\u001b[0m\u001b[0mmetrics\u001b[0m\u001b[0;34m,\u001b[0m \u001b[0mcallbacks\u001b[0m\u001b[0;34m=\u001b[0m\u001b[0mcallbacks\u001b[0m\u001b[0;34m,\u001b[0m \u001b[0mreg_fn\u001b[0m\u001b[0;34m=\u001b[0m\u001b[0mself\u001b[0m\u001b[0;34m.\u001b[0m\u001b[0mreg_fn\u001b[0m\u001b[0;34m,\u001b[0m \u001b[0mclip\u001b[0m\u001b[0;34m=\u001b[0m\u001b[0mself\u001b[0m\u001b[0;34m.\u001b[0m\u001b[0mclip\u001b[0m\u001b[0;34m,\u001b[0m \u001b[0mfp16\u001b[0m\u001b[0;34m=\u001b[0m\u001b[0mself\u001b[0m\u001b[0;34m.\u001b[0m\u001b[0mfp16\u001b[0m\u001b[0;34m,\u001b[0m\u001b[0;34m\u001b[0m\u001b[0m\n\u001b[1;32m    233\u001b[0m             \u001b[0mswa_model\u001b[0m\u001b[0;34m=\u001b[0m\u001b[0mself\u001b[0m\u001b[0;34m.\u001b[0m\u001b[0mswa_model\u001b[0m \u001b[0;32mif\u001b[0m \u001b[0muse_swa\u001b[0m \u001b[0;32melse\u001b[0m \u001b[0;32mNone\u001b[0m\u001b[0;34m,\u001b[0m \u001b[0mswa_start\u001b[0m\u001b[0;34m=\u001b[0m\u001b[0mswa_start\u001b[0m\u001b[0;34m,\u001b[0m\u001b[0;34m\u001b[0m\u001b[0m\n\u001b[0;32m--> 234\u001b[0;31m             swa_eval_freq=swa_eval_freq, **kwargs)\n\u001b[0m\u001b[1;32m    235\u001b[0m \u001b[0;34m\u001b[0m\u001b[0m\n\u001b[1;32m    236\u001b[0m     \u001b[0;32mdef\u001b[0m \u001b[0mget_layer_groups\u001b[0m\u001b[0;34m(\u001b[0m\u001b[0mself\u001b[0m\u001b[0;34m)\u001b[0m\u001b[0;34m:\u001b[0m \u001b[0;32mreturn\u001b[0m \u001b[0mself\u001b[0m\u001b[0;34m.\u001b[0m\u001b[0mmodels\u001b[0m\u001b[0;34m.\u001b[0m\u001b[0mget_layer_groups\u001b[0m\u001b[0;34m(\u001b[0m\u001b[0;34m)\u001b[0m\u001b[0;34m\u001b[0m\u001b[0m\n",
      "\u001b[0;32m~/PPMI/fastai/model.py\u001b[0m in \u001b[0;36mfit\u001b[0;34m(model, data, n_epochs, opt, crit, metrics, callbacks, stepper, swa_model, swa_start, swa_eval_freq, **kwargs)\u001b[0m\n\u001b[1;32m    138\u001b[0m             \u001b[0mbatch_num\u001b[0m \u001b[0;34m+=\u001b[0m \u001b[0;36m1\u001b[0m\u001b[0;34m\u001b[0m\u001b[0m\n\u001b[1;32m    139\u001b[0m             \u001b[0;32mfor\u001b[0m \u001b[0mcb\u001b[0m \u001b[0;32min\u001b[0m \u001b[0mcallbacks\u001b[0m\u001b[0;34m:\u001b[0m \u001b[0mcb\u001b[0m\u001b[0;34m.\u001b[0m\u001b[0mon_batch_begin\u001b[0m\u001b[0;34m(\u001b[0m\u001b[0;34m)\u001b[0m\u001b[0;34m\u001b[0m\u001b[0m\n\u001b[0;32m--> 140\u001b[0;31m             \u001b[0mloss\u001b[0m \u001b[0;34m=\u001b[0m \u001b[0mmodel_stepper\u001b[0m\u001b[0;34m.\u001b[0m\u001b[0mstep\u001b[0m\u001b[0;34m(\u001b[0m\u001b[0mV\u001b[0m\u001b[0;34m(\u001b[0m\u001b[0mx\u001b[0m\u001b[0;34m)\u001b[0m\u001b[0;34m,\u001b[0m\u001b[0mV\u001b[0m\u001b[0;34m(\u001b[0m\u001b[0my\u001b[0m\u001b[0;34m)\u001b[0m\u001b[0;34m,\u001b[0m \u001b[0mepoch\u001b[0m\u001b[0;34m)\u001b[0m\u001b[0;34m\u001b[0m\u001b[0m\n\u001b[0m\u001b[1;32m    141\u001b[0m             \u001b[0mavg_loss\u001b[0m \u001b[0;34m=\u001b[0m \u001b[0mavg_loss\u001b[0m \u001b[0;34m*\u001b[0m \u001b[0mavg_mom\u001b[0m \u001b[0;34m+\u001b[0m \u001b[0mloss\u001b[0m \u001b[0;34m*\u001b[0m \u001b[0;34m(\u001b[0m\u001b[0;36m1\u001b[0m\u001b[0;34m-\u001b[0m\u001b[0mavg_mom\u001b[0m\u001b[0;34m)\u001b[0m\u001b[0;34m\u001b[0m\u001b[0m\n\u001b[1;32m    142\u001b[0m             \u001b[0mdebias_loss\u001b[0m \u001b[0;34m=\u001b[0m \u001b[0mavg_loss\u001b[0m \u001b[0;34m/\u001b[0m \u001b[0;34m(\u001b[0m\u001b[0;36m1\u001b[0m \u001b[0;34m-\u001b[0m \u001b[0mavg_mom\u001b[0m\u001b[0;34m**\u001b[0m\u001b[0mbatch_num\u001b[0m\u001b[0;34m)\u001b[0m\u001b[0;34m\u001b[0m\u001b[0m\n",
      "\u001b[0;32m~/PPMI/fastai/model.py\u001b[0m in \u001b[0;36mstep\u001b[0;34m(self, xs, y, epoch)\u001b[0m\n\u001b[1;32m     55\u001b[0m         \u001b[0;32mif\u001b[0m \u001b[0mself\u001b[0m\u001b[0;34m.\u001b[0m\u001b[0mloss_scale\u001b[0m \u001b[0;34m!=\u001b[0m \u001b[0;36m1\u001b[0m\u001b[0;34m:\u001b[0m \u001b[0;32massert\u001b[0m\u001b[0;34m(\u001b[0m\u001b[0mself\u001b[0m\u001b[0;34m.\u001b[0m\u001b[0mfp16\u001b[0m\u001b[0;34m)\u001b[0m\u001b[0;34m;\u001b[0m \u001b[0mloss\u001b[0m \u001b[0;34m=\u001b[0m \u001b[0mloss\u001b[0m\u001b[0;34m*\u001b[0m\u001b[0mself\u001b[0m\u001b[0;34m.\u001b[0m\u001b[0mloss_scale\u001b[0m\u001b[0;34m\u001b[0m\u001b[0m\n\u001b[1;32m     56\u001b[0m         \u001b[0;32mif\u001b[0m \u001b[0mself\u001b[0m\u001b[0;34m.\u001b[0m\u001b[0mreg_fn\u001b[0m\u001b[0;34m:\u001b[0m \u001b[0mloss\u001b[0m \u001b[0;34m=\u001b[0m \u001b[0mself\u001b[0m\u001b[0;34m.\u001b[0m\u001b[0mreg_fn\u001b[0m\u001b[0;34m(\u001b[0m\u001b[0moutput\u001b[0m\u001b[0;34m,\u001b[0m \u001b[0mxtra\u001b[0m\u001b[0;34m,\u001b[0m \u001b[0mraw_loss\u001b[0m\u001b[0;34m)\u001b[0m\u001b[0;34m\u001b[0m\u001b[0m\n\u001b[0;32m---> 57\u001b[0;31m         \u001b[0mloss\u001b[0m\u001b[0;34m.\u001b[0m\u001b[0mbackward\u001b[0m\u001b[0;34m(\u001b[0m\u001b[0;34m)\u001b[0m\u001b[0;34m\u001b[0m\u001b[0m\n\u001b[0m\u001b[1;32m     58\u001b[0m         \u001b[0;32mif\u001b[0m \u001b[0mself\u001b[0m\u001b[0;34m.\u001b[0m\u001b[0mfp16\u001b[0m\u001b[0;34m:\u001b[0m \u001b[0mupdate_fp32_grads\u001b[0m\u001b[0;34m(\u001b[0m\u001b[0mself\u001b[0m\u001b[0;34m.\u001b[0m\u001b[0mfp32_params\u001b[0m\u001b[0;34m,\u001b[0m \u001b[0mself\u001b[0m\u001b[0;34m.\u001b[0m\u001b[0mm\u001b[0m\u001b[0;34m)\u001b[0m\u001b[0;34m\u001b[0m\u001b[0m\n\u001b[1;32m     59\u001b[0m         \u001b[0;32mif\u001b[0m \u001b[0mself\u001b[0m\u001b[0;34m.\u001b[0m\u001b[0mloss_scale\u001b[0m \u001b[0;34m!=\u001b[0m \u001b[0;36m1\u001b[0m\u001b[0;34m:\u001b[0m\u001b[0;34m\u001b[0m\u001b[0m\n",
      "\u001b[0;32m~/miniconda3/envs/fastai/lib/python3.6/site-packages/torch/tensor.py\u001b[0m in \u001b[0;36mbackward\u001b[0;34m(self, gradient, retain_graph, create_graph)\u001b[0m\n\u001b[1;32m     91\u001b[0m                 \u001b[0mproducts\u001b[0m\u001b[0;34m.\u001b[0m \u001b[0mDefaults\u001b[0m \u001b[0mto\u001b[0m\u001b[0;31m \u001b[0m\u001b[0;31m`\u001b[0m\u001b[0;31m`\u001b[0m\u001b[0;32mFalse\u001b[0m\u001b[0;31m`\u001b[0m\u001b[0;31m`\u001b[0m\u001b[0;34m.\u001b[0m\u001b[0;34m\u001b[0m\u001b[0m\n\u001b[1;32m     92\u001b[0m         \"\"\"\n\u001b[0;32m---> 93\u001b[0;31m         \u001b[0mtorch\u001b[0m\u001b[0;34m.\u001b[0m\u001b[0mautograd\u001b[0m\u001b[0;34m.\u001b[0m\u001b[0mbackward\u001b[0m\u001b[0;34m(\u001b[0m\u001b[0mself\u001b[0m\u001b[0;34m,\u001b[0m \u001b[0mgradient\u001b[0m\u001b[0;34m,\u001b[0m \u001b[0mretain_graph\u001b[0m\u001b[0;34m,\u001b[0m \u001b[0mcreate_graph\u001b[0m\u001b[0;34m)\u001b[0m\u001b[0;34m\u001b[0m\u001b[0m\n\u001b[0m\u001b[1;32m     94\u001b[0m \u001b[0;34m\u001b[0m\u001b[0m\n\u001b[1;32m     95\u001b[0m     \u001b[0;32mdef\u001b[0m \u001b[0mregister_hook\u001b[0m\u001b[0;34m(\u001b[0m\u001b[0mself\u001b[0m\u001b[0;34m,\u001b[0m \u001b[0mhook\u001b[0m\u001b[0;34m)\u001b[0m\u001b[0;34m:\u001b[0m\u001b[0;34m\u001b[0m\u001b[0m\n",
      "\u001b[0;32m~/miniconda3/envs/fastai/lib/python3.6/site-packages/torch/autograd/__init__.py\u001b[0m in \u001b[0;36mbackward\u001b[0;34m(tensors, grad_tensors, retain_graph, create_graph, grad_variables)\u001b[0m\n\u001b[1;32m     87\u001b[0m     Variable._execution_engine.run_backward(\n\u001b[1;32m     88\u001b[0m         \u001b[0mtensors\u001b[0m\u001b[0;34m,\u001b[0m \u001b[0mgrad_tensors\u001b[0m\u001b[0;34m,\u001b[0m \u001b[0mretain_graph\u001b[0m\u001b[0;34m,\u001b[0m \u001b[0mcreate_graph\u001b[0m\u001b[0;34m,\u001b[0m\u001b[0;34m\u001b[0m\u001b[0m\n\u001b[0;32m---> 89\u001b[0;31m         allow_unreachable=True)  # allow_unreachable flag\n\u001b[0m\u001b[1;32m     90\u001b[0m \u001b[0;34m\u001b[0m\u001b[0m\n\u001b[1;32m     91\u001b[0m \u001b[0;34m\u001b[0m\u001b[0m\n",
      "\u001b[0;31mKeyboardInterrupt\u001b[0m: "
     ]
    }
   ],
   "source": [
    "learner.fit(1e-4,2)"
   ]
  },
  {
   "cell_type": "code",
   "execution_count": 89,
   "metadata": {},
   "outputs": [
    {
     "data": {
      "text/plain": [
       "array([0.98131, 0.98352, 0.88849, 0.99101, 0.98836, 0.99982, 0.94574, 0.80097, 0.89086, 0.9931 , 0.81136,\n",
       "       0.98023, 0.98714, 0.99649, 0.95826, 0.84595, 0.99708, 0.92609, 0.99952, 0.94614, 0.94075, 0.87874,\n",
       "       0.97801, 0.99228, 0.98609, 0.93586, 0.95878, 0.29151, 0.98643, 0.98963, 0.98258, 0.79172, 0.84671,\n",
       "       0.99149, 0.9826 , 0.98758, 0.986  , 0.98032, 0.9946 , 0.92846, 0.9951 , 0.86302, 0.53077, 0.69919,\n",
       "       0.99925, 0.99777, 0.95551, 0.96029, 0.90396, 0.97007, 0.98139, 0.99862, 0.99899, 0.71701, 0.99094,\n",
       "       0.99123, 0.96666, 0.99358, 0.97375, 0.99657, 0.99441, 0.99375, 0.9952 , 0.83555, 0.92499, 0.95271,\n",
       "       0.86417, 0.95752, 0.99551, 0.99873, 0.99867, 0.9856 , 0.99273, 0.98916, 0.72795, 0.90337, 0.80713,\n",
       "       0.99334, 0.99902, 0.98052, 0.21823, 0.99586, 0.99576, 0.99953, 0.99961, 0.99594, 0.98331, 0.92618,\n",
       "       0.99301, 0.66916, 0.9958 , 0.45879, 0.98861, 0.55469, 0.99082, 0.99689, 0.64341, 0.99745, 0.87676,\n",
       "       0.98962, 0.98702, 0.98046, 0.96546, 0.99429, 0.98872, 0.9861 , 0.97843, 0.91424, 0.97889, 0.87883,\n",
       "       0.89751], dtype=float32)"
      ]
     },
     "execution_count": 89,
     "metadata": {},
     "output_type": "execute_result"
    }
   ],
   "source": [
    "from scipy.special import expit\n",
    "pred = expit(learner.predict())\n",
    "pred"
   ]
  },
  {
   "cell_type": "code",
   "execution_count": null,
   "metadata": {},
   "outputs": [],
   "source": []
  },
  {
   "cell_type": "code",
   "execution_count": 283,
   "metadata": {},
   "outputs": [],
   "source": [
    "predict=[]\n",
    "for i in pred:\n",
    "    if i >= 0.3:\n",
    "        predict.append(1)\n",
    "    else:\n",
    "        predict.append(0)"
   ]
  },
  {
   "cell_type": "code",
   "execution_count": 284,
   "metadata": {},
   "outputs": [],
   "source": [
    "fin = ((y_val)==np.array(predict))"
   ]
  },
  {
   "cell_type": "code",
   "execution_count": 285,
   "metadata": {},
   "outputs": [
    {
     "name": "stdout",
     "output_type": "stream",
     "text": [
      "Accuracy\n"
     ]
    },
    {
     "data": {
      "text/plain": [
       "0.7567567567567568"
      ]
     },
     "execution_count": 285,
     "metadata": {},
     "output_type": "execute_result"
    }
   ],
   "source": [
    "print('Accuracy')\n",
    "np.count_nonzero(fin == True) / len(fin)"
   ]
  },
  {
   "cell_type": "code",
   "execution_count": 286,
   "metadata": {
    "scrolled": true
   },
   "outputs": [
    {
     "name": "stdout",
     "output_type": "stream",
     "text": [
      "False negative\n"
     ]
    },
    {
     "data": {
      "text/plain": [
       "0.018018018018018018"
      ]
     },
     "execution_count": 286,
     "metadata": {},
     "output_type": "execute_result"
    }
   ],
   "source": [
    "print('False negative')\n",
    "np.sum((y_val)>np.array(predict))/len(fin)"
   ]
  },
  {
   "cell_type": "code",
   "execution_count": 287,
   "metadata": {},
   "outputs": [
    {
     "name": "stdout",
     "output_type": "stream",
     "text": [
      "False positive\n"
     ]
    },
    {
     "data": {
      "text/plain": [
       "0.22522522522522523"
      ]
     },
     "execution_count": 287,
     "metadata": {},
     "output_type": "execute_result"
    }
   ],
   "source": [
    "print('False positive')\n",
    "np.sum((y_val)<np.array(predict))/len(fin)"
   ]
  },
  {
   "cell_type": "code",
   "execution_count": 288,
   "metadata": {},
   "outputs": [
    {
     "data": {
      "text/plain": [
       "(array([0.     , 0.77064]),\n",
       " array([0.     , 0.97674]),\n",
       " array([0.     , 0.86154]),\n",
       " array([25, 86]))"
      ]
     },
     "execution_count": 288,
     "metadata": {},
     "output_type": "execute_result"
    }
   ],
   "source": [
    "sklearn.metrics.precision_recall_fscore_support(y_val, np.array(predict))"
   ]
  },
  {
   "cell_type": "code",
   "execution_count": null,
   "metadata": {},
   "outputs": [],
   "source": []
  },
  {
   "cell_type": "code",
   "execution_count": 76,
   "metadata": {},
   "outputs": [],
   "source": [
    "learner.save('3D_MRI_resnet34_classify_PD')"
   ]
  },
  {
   "cell_type": "code",
   "execution_count": 87,
   "metadata": {},
   "outputs": [],
   "source": [
    "learner.load('3D_MRI_resnet34_classify_PD')"
   ]
  },
  {
   "cell_type": "code",
   "execution_count": 29,
   "metadata": {},
   "outputs": [],
   "source": [
    "lr=[3e-5,6e-5,1e-4]"
   ]
  },
  {
   "cell_type": "code",
   "execution_count": 30,
   "metadata": {
    "scrolled": true
   },
   "outputs": [
    {
     "name": "stdout",
     "output_type": "stream",
     "text": [
      "3e-05\n"
     ]
    },
    {
     "data": {
      "application/vnd.jupyter.widget-view+json": {
       "model_id": "2351e6830a984414b8e98fe2bb6160dd",
       "version_major": 2,
       "version_minor": 0
      },
      "text/plain": [
       "HBox(children=(IntProgress(value=0, description='Epoch', max=1), HTML(value='')))"
      ]
     },
     "metadata": {},
     "output_type": "display_data"
    },
    {
     "name": "stdout",
     "output_type": "stream",
     "text": [
      "epoch      trn_loss   val_loss                               \n",
      "    0      0.380577   0.818091  \n",
      "\n",
      "6e-05\n"
     ]
    },
    {
     "data": {
      "application/vnd.jupyter.widget-view+json": {
       "model_id": "48b17ff048e34a29aa3ae90e546ff3d8",
       "version_major": 2,
       "version_minor": 0
      },
      "text/plain": [
       "HBox(children=(IntProgress(value=0, description='Epoch', max=1), HTML(value='')))"
      ]
     },
     "metadata": {},
     "output_type": "display_data"
    },
    {
     "name": "stdout",
     "output_type": "stream",
     "text": [
      "epoch      trn_loss   val_loss                               \n",
      "    0      0.384501   0.932408  \n",
      "\n",
      "0.0001\n"
     ]
    },
    {
     "data": {
      "application/vnd.jupyter.widget-view+json": {
       "model_id": "09211ca82ab543c394951e587002e48c",
       "version_major": 2,
       "version_minor": 0
      },
      "text/plain": [
       "HBox(children=(IntProgress(value=0, description='Epoch', max=1), HTML(value='')))"
      ]
     },
     "metadata": {},
     "output_type": "display_data"
    },
    {
     "name": "stdout",
     "output_type": "stream",
     "text": [
      "epoch      trn_loss   val_loss                               \n",
      "    0      0.54069    1.057876  \n",
      "\n",
      "3e-05\n"
     ]
    },
    {
     "data": {
      "application/vnd.jupyter.widget-view+json": {
       "model_id": "0cede206e9cc4f42b0e5cb2b72a58716",
       "version_major": 2,
       "version_minor": 0
      },
      "text/plain": [
       "HBox(children=(IntProgress(value=0, description='Epoch', max=1), HTML(value='')))"
      ]
     },
     "metadata": {},
     "output_type": "display_data"
    },
    {
     "name": "stdout",
     "output_type": "stream",
     "text": [
      "epoch      trn_loss   val_loss                               \n",
      "    0      0.348768   1.057993  \n",
      "\n",
      "6e-05\n"
     ]
    },
    {
     "data": {
      "application/vnd.jupyter.widget-view+json": {
       "model_id": "864546aaf8e444999ac3059b40b4063e",
       "version_major": 2,
       "version_minor": 0
      },
      "text/plain": [
       "HBox(children=(IntProgress(value=0, description='Epoch', max=1), HTML(value='')))"
      ]
     },
     "metadata": {},
     "output_type": "display_data"
    },
    {
     "name": "stdout",
     "output_type": "stream",
     "text": [
      "epoch      trn_loss   val_loss                               \n",
      "    0      0.451195   1.031317  \n",
      "\n",
      "0.0001\n"
     ]
    },
    {
     "data": {
      "application/vnd.jupyter.widget-view+json": {
       "model_id": "dc877d9633f6442aa2b22c51b84f9d43",
       "version_major": 2,
       "version_minor": 0
      },
      "text/plain": [
       "HBox(children=(IntProgress(value=0, description='Epoch', max=1), HTML(value='')))"
      ]
     },
     "metadata": {},
     "output_type": "display_data"
    },
    {
     "name": "stdout",
     "output_type": "stream",
     "text": [
      "epoch      trn_loss   val_loss                               \n",
      "    0      0.428745   1.181388  \n",
      "\n"
     ]
    }
   ],
   "source": [
    "for j in range(2):\n",
    "    for i in lr:\n",
    "        print(i)\n",
    "        learner.fit(i,1)"
   ]
  },
  {
   "cell_type": "code",
   "execution_count": 34,
   "metadata": {},
   "outputs": [
    {
     "data": {
      "text/plain": [
       "0.7747747747747747"
      ]
     },
     "execution_count": 34,
     "metadata": {},
     "output_type": "execute_result"
    }
   ],
   "source": [
    "np.count_nonzero(y_val == 1) / len(y_val)"
   ]
  },
  {
   "cell_type": "markdown",
   "metadata": {},
   "source": [
    "### Load dataset"
   ]
  },
  {
   "cell_type": "code",
   "execution_count": null,
   "metadata": {},
   "outputs": [],
   "source": [
    "X_train = torch.utils.data.DataLoader(image_array_train, batch_size=4)\n",
    "param_train = torch.utils.data.DataLoader(param_train, batch_size=4)\n",
    "y_train = torch.utils.data.DataLoader(y_train, batch_size=4)\n",
    "X_val = torch.utils.data.DataLoader(image_array_val, batch_size=4)\n",
    "param_val = torch.utils.data.DataLoader(param_val, batch_size=4)\n",
    "y_val = torch.utils.data.DataLoader(y_val, batch_size=4)\n",
    "#X_test = torch.utils.data.DataLoader(image_array_test, batch_size=1)\n",
    "#param_test = torch.utils.data.DataLoader(param_test, batch_size=1)\n",
    "#y_test = torch.utils.data.DataLoader(y_test, batch_size=1)\n",
    "\n",
    "#del(image_array_train,image_array_val)\n",
    "#del(image_array_train,image_array_val,image_array_test)\n",
    "#del(X_train_tmp,X_val_tmp,X_test_tmp,y_train_tmp,y_val_tmp,y_test_tmp,param_train_tmp,param_val_tmp,param_test_tmp)"
   ]
  },
  {
   "cell_type": "markdown",
   "metadata": {},
   "source": [
    "### Darknet"
   ]
  },
  {
   "cell_type": "code",
   "execution_count": 1,
   "metadata": {},
   "outputs": [
    {
     "ename": "NameError",
     "evalue": "name 'nn' is not defined",
     "output_type": "error",
     "traceback": [
      "\u001b[0;31m---------------------------------------------------------------------------\u001b[0m",
      "\u001b[0;31mNameError\u001b[0m                                 Traceback (most recent call last)",
      "\u001b[0;32m<ipython-input-1-adb24e694914>\u001b[0m in \u001b[0;36m<module>\u001b[0;34m()\u001b[0m\n\u001b[1;32m      5\u001b[0m         nn.LeakyReLU(negative_slope=0.1, inplace=False))\n\u001b[1;32m      6\u001b[0m \u001b[0;34m\u001b[0m\u001b[0m\n\u001b[0;32m----> 7\u001b[0;31m \u001b[0;32mclass\u001b[0m \u001b[0mResLayer\u001b[0m\u001b[0;34m(\u001b[0m\u001b[0mnn\u001b[0m\u001b[0;34m.\u001b[0m\u001b[0mModule\u001b[0m\u001b[0;34m)\u001b[0m\u001b[0;34m:\u001b[0m\u001b[0;34m\u001b[0m\u001b[0m\n\u001b[0m\u001b[1;32m      8\u001b[0m     \u001b[0;32mdef\u001b[0m \u001b[0m__init__\u001b[0m\u001b[0;34m(\u001b[0m\u001b[0mself\u001b[0m\u001b[0;34m,\u001b[0m \u001b[0mni\u001b[0m\u001b[0;34m)\u001b[0m\u001b[0;34m:\u001b[0m\u001b[0;34m\u001b[0m\u001b[0m\n\u001b[1;32m      9\u001b[0m         \u001b[0msuper\u001b[0m\u001b[0;34m(\u001b[0m\u001b[0;34m)\u001b[0m\u001b[0;34m.\u001b[0m\u001b[0m__init__\u001b[0m\u001b[0;34m(\u001b[0m\u001b[0;34m)\u001b[0m\u001b[0;34m\u001b[0m\u001b[0m\n",
      "\u001b[0;31mNameError\u001b[0m: name 'nn' is not defined"
     ]
    }
   ],
   "source": [
    "def conv_layer(ni, nf, ks=3, stride=1):\n",
    "    return nn.Sequential(\n",
    "        nn.Conv3d(ni, nf, kernel_size=ks, bias=False, stride=stride, padding=ks//2),\n",
    "        nn.BatchNorm3d(nf, momentum=0.01),\n",
    "        nn.LeakyReLU(negative_slope=0.1, inplace=False))\n",
    "\n",
    "class ResLayer(nn.Module):\n",
    "    def __init__(self, ni):\n",
    "        super().__init__()\n",
    "        self.conv1=conv_layer(ni, ni//2, ks=1)\n",
    "        self.conv2=conv_layer(ni//2, ni, ks=3)\n",
    "        \n",
    "    def forward(self, x): return x.add_(self.conv2(self.conv1(x.clone())))\n",
    "\n",
    "class Darknet(nn.Module):\n",
    "    def make_group_layer(self, ch_in, num_blocks, stride=1):\n",
    "        return [conv_layer(ch_in, ch_in*2,stride=stride)\n",
    "               ] + [(ResLayer(ch_in*2)) for i in range(num_blocks)]\n",
    "\n",
    "    def __init__(self, num_blocks, num_classes, nf=32):\n",
    "        super().__init__()\n",
    "        #Weight init Kaiming's\n",
    "        for m in self.modules():\n",
    "            if isinstance(m, nn.Conv3d):\n",
    "                m.weight = nn.init.kaiming_normal(m.weight, mode='fan_out')\n",
    "            elif isinstance(m, nn.BatchNorm3d):\n",
    "                m.weight.data.fill_(1)\n",
    "                m.bias.data.zero_()\n",
    "                \n",
    "        features = [conv_layer(1, nf, ks=3, stride=1)]\n",
    "        for i,nb in enumerate(num_blocks):\n",
    "            features += self.make_group_layer(nf, nb, stride=2-(i==1))\n",
    "            nf *= 2                        \n",
    "        features += [nn.AdaptiveMaxPool3d((7,7,7)),nn.Dropout(p=0.1), Flatten()]        \n",
    "        self.features = nn.Sequential(*features)\n",
    "        fc1 = [nn.Linear(87838, 512),nn.BatchNorm1d(512), nn.LeakyReLU(negative_slope=0.1, inplace=False)]\n",
    "        self.fc1 = nn.Sequential(*fc1)\n",
    "        self.layers = nn.Sequential(nn.Linear(512,1))\n",
    "        \n",
    "    def forward(self, x, y):\n",
    "        x = x.unsqueeze(1)\n",
    "        x1 = self.features(x)\n",
    "        x = torch.cat((x1,y[:,:,0],y[:,:,1],y[:,:,2]),1)\n",
    "        x = self.fc1(x)\n",
    "        x = F.dropout(x, p=0.1, training=self.training)        \n",
    "        return self.layers(x)\n"
   ]
  },
  {
   "cell_type": "code",
   "execution_count": null,
   "metadata": {},
   "outputs": [],
   "source": [
    "model_save_path = './weights/'"
   ]
  },
  {
   "cell_type": "code",
   "execution_count": null,
   "metadata": {},
   "outputs": [],
   "source": [
    "m = nn.DataParallel(Darknet([1,2,4], num_classes=1, nf=32))\n",
    "m.double()\n",
    "\n",
    "#m = nn.DataParallel(m, [1,2,3])\n",
    "#m.load_state_dict(torch.load(f'{model_save_path}MRI_binary.pth'))"
   ]
  },
  {
   "cell_type": "code",
   "execution_count": null,
   "metadata": {},
   "outputs": [],
   "source": [
    "optimizer = optim.Adam(m.parameters(), lr = 1e-3)\n",
    "criterion = nn.BCEWithLogitsLoss().cuda()\n",
    "scheduler = optim.lr_scheduler.ExponentialLR(optimizer, gamma = 0.3)"
   ]
  },
  {
   "cell_type": "code",
   "execution_count": null,
   "metadata": {
    "scrolled": false
   },
   "outputs": [],
   "source": [
    "device = torch.device(\"cuda:0\" if torch.cuda.is_available() else \"cpu\")\n",
    "#device = \"cpu\"\n",
    "if torch.cuda.device_count() > 1:\n",
    "    print(\"Let's use\", torch.cuda.device_count(), \"GPUs!\")\n",
    "    # dim = 0 [30, xxx] -> [10, ...], [10, ...], [10, ...] on 3 GPUs\n",
    "    #m = nn.DataParallel(m)\n",
    "m.to(device)\n",
    "print(device)"
   ]
  },
  {
   "cell_type": "markdown",
   "metadata": {},
   "source": [
    "### Train"
   ]
  },
  {
   "cell_type": "code",
   "execution_count": 23,
   "metadata": {},
   "outputs": [],
   "source": [
    "losslog=[]\n",
    "vallog=[]"
   ]
  },
  {
   "cell_type": "code",
   "execution_count": 24,
   "metadata": {},
   "outputs": [],
   "source": [
    "writer = SummaryWriter()\n",
    "total_iter=0"
   ]
  },
  {
   "cell_type": "code",
   "execution_count": 25,
   "metadata": {},
   "outputs": [],
   "source": [
    "def train(niter):\n",
    "    for epoch in trange(niter):  # loop over the dataset multiple times\n",
    "        running_loss = 0.0        \n",
    "        global total_iter\n",
    "        m.train(True)\n",
    "        scheduler.step()\n",
    "        with tqdm(total=len(X_train)) as pbar:\n",
    "            iterloss=[]\n",
    "            for i, (x, p, y) in enumerate(zip(X_train,param_train,y_train)):\n",
    "                x,p,y = x.to(device), p.to(device),y.to(device)\n",
    "\n",
    "                #i += 1\n",
    "                # zero the parameter gradients\n",
    "                optimizer.zero_grad()\n",
    "\n",
    "                # forward + backward + optimize\n",
    "                outputs = m(x.double(),p.double())\n",
    "                loss = criterion(outputs,y.double().unsqueeze(1))\n",
    "                \n",
    "                loss.backward()\n",
    "                for param in optimizer.param_groups[0]['params']:\n",
    "                    param.data = param.data.add(-0.0001 * optimizer.param_groups[0]['lr'], param.data)\n",
    "                optimizer.step()\n",
    "\n",
    "                pbar.update()\n",
    "\n",
    "                \n",
    "\n",
    "                running_loss += loss.item()\n",
    "                if i % 20 == 19:    # print every 20 mini-batches\n",
    "                    print('[%d, %5d]  Train BCElogits loss: %.3f' %\n",
    "                          (epoch + 1, i + 1, running_loss / 20))\n",
    "                    losslog.append(running_loss/20)\n",
    "                    iterloss.append(running_loss/20)\n",
    "                    running_loss = 0.0\n",
    "            total_iter +=1\n",
    "            print(iterloss)\n",
    "            writer.add_scalar(\"Trainloss\", sum(iterloss)/len(X_train) , total_iter)   \n",
    "            #Eval\n",
    "        m.eval()\n",
    "        with tqdm(total=len(X_val)) as pbar:\n",
    "            with torch.no_grad():\n",
    "                truth = []\n",
    "                predicted =[]\n",
    "                \n",
    "                correct = 0\n",
    "                total = 0\n",
    "                for i, ( x, p, y) in enumerate(zip(X_val,param_val,y_val)):\n",
    "                    x,p,y = x.to(device), p.to(device),y.to(device)\n",
    "\n",
    "                    # forward + backward + optimize\n",
    "                    corr = []\n",
    "                    outputs = m(x,p)\n",
    "                    loss = criterion(outputs,y.double().unsqueeze(1))\n",
    "                    pred = (F.sigmoid(outputs))\n",
    "                    for i in pred:\n",
    "                        if i >= 0.74: corr.append(1)\n",
    "                        else: corr.append(0)\n",
    "                    total += y.size(0)\n",
    "                    correct += (corr == y.cpu().numpy()).sum()\n",
    "                    predicted.append(pred)\n",
    "                    truth.append(y)\n",
    "                    pbar.update()\n",
    "                    \n",
    "                    \n",
    "                \n",
    "                valloss = loss.item()\n",
    "                vallog.append(valloss)\n",
    "                print(f'BCELogitsLoss: {valloss}')\n",
    "                print('Accuracy of the network on the val images: %d %%' % (100 * correct / total))\n",
    "                #cmat = confusion_matrix(truth, predicted)'''\n",
    "            \n",
    "    print('Finished Training')\n",
    "    return vallog, truth, predicted"
   ]
  },
  {
   "cell_type": "code",
   "execution_count": 26,
   "metadata": {},
   "outputs": [],
   "source": [
    "torch.backends.cudnn.benchmark=True"
   ]
  },
  {
   "cell_type": "code",
   "execution_count": 22,
   "metadata": {
    "scrolled": false
   },
   "outputs": [
    {
     "name": "stdout",
     "output_type": "stream",
     "text": [
      "  5%|▌         | 20/384 [02:13<42:07,  6.94s/it][1,    20]  Train BCElogits loss: 0.497\n",
      " 10%|█         | 40/384 [04:32<39:48,  6.94s/it][1,    40]  Train BCElogits loss: 0.484\n",
      " 16%|█▌        | 60/384 [06:50<37:29,  6.94s/it][1,    60]  Train BCElogits loss: 0.626\n",
      " 21%|██        | 80/384 [09:09<35:04,  6.92s/it][1,    80]  Train BCElogits loss: 0.499\n",
      " 26%|██▌       | 100/384 [11:28<32:50,  6.94s/it][1,   100]  Train BCElogits loss: 0.449\n",
      " 31%|███▏      | 120/384 [13:47<30:27,  6.92s/it][1,   120]  Train BCElogits loss: 0.564\n",
      " 36%|███▋      | 140/384 [16:05<28:13,  6.94s/it][1,   140]  Train BCElogits loss: 0.589\n",
      " 42%|████▏     | 160/384 [18:24<25:50,  6.92s/it][1,   160]  Train BCElogits loss: 0.388\n",
      " 47%|████▋     | 180/384 [20:43<23:35,  6.94s/it][1,   180]  Train BCElogits loss: 0.572\n",
      " 52%|█████▏    | 200/384 [23:02<21:19,  6.95s/it][1,   200]  Train BCElogits loss: 0.552\n",
      " 57%|█████▋    | 220/384 [25:21<19:03,  6.97s/it][1,   220]  Train BCElogits loss: 0.473\n",
      " 62%|██████▎   | 240/384 [27:40<16:39,  6.94s/it][1,   240]  Train BCElogits loss: 0.535\n",
      " 68%|██████▊   | 260/384 [29:59<14:22,  6.95s/it][1,   260]  Train BCElogits loss: 0.600\n",
      " 73%|███████▎  | 280/384 [32:18<12:00,  6.93s/it][1,   280]  Train BCElogits loss: 0.470\n",
      " 78%|███████▊  | 300/384 [34:37<09:42,  6.94s/it][1,   300]  Train BCElogits loss: 0.515\n",
      " 83%|████████▎ | 320/384 [36:56<07:25,  6.97s/it][1,   320]  Train BCElogits loss: 0.584\n",
      " 89%|████████▊ | 340/384 [39:14<05:05,  6.94s/it][1,   340]  Train BCElogits loss: 0.493\n",
      " 94%|█████████▍| 360/384 [41:33<02:46,  6.94s/it][1,   360]  Train BCElogits loss: 0.493\n",
      " 99%|█████████▉| 380/384 [43:52<00:27,  6.95s/it][1,   380]  Train BCElogits loss: 0.625\n",
      "100%|██████████| 384/384 [44:20<00:00,  6.95s/it][0.49718189670130153, 0.48366593091733573, 0.6264471387920707, 0.4988120059301838, 0.448585070760536, 0.5641861059598912, 0.5887009699250932, 0.3880591867141738, 0.5718695460528352, 0.552412808656906, 0.47322727727390496, 0.5350727830679585, 0.5995307235399701, 0.4696958215225129, 0.5153413978090788, 0.584214057644106, 0.4925360596361209, 0.49287178012075117, 0.6248142248611364]\n",
      "\n",
      "100%|██████████| 28/28 [00:47<00:00,  1.67s/it]BCELogitsLoss: 0.8443207271283745\n",
      "Accuracy of the network on the val images: 47 %\n",
      "\n",
      "  5%|▌         | 20/384 [02:14<42:08,  6.95s/it][2,    20]  Train BCElogits loss: 0.492\n",
      " 10%|█         | 40/384 [04:32<39:51,  6.95s/it][2,    40]  Train BCElogits loss: 0.494\n",
      " 16%|█▌        | 60/384 [06:51<37:25,  6.93s/it][2,    60]  Train BCElogits loss: 0.626\n",
      " 21%|██        | 80/384 [09:10<35:14,  6.95s/it][2,    80]  Train BCElogits loss: 0.493\n",
      " 26%|██▌       | 100/384 [11:29<32:55,  6.96s/it][2,   100]  Train BCElogits loss: 0.449\n",
      " 31%|███▏      | 120/384 [13:48<30:36,  6.95s/it][2,   120]  Train BCElogits loss: 0.559\n",
      " 36%|███▋      | 140/384 [16:07<28:15,  6.95s/it][2,   140]  Train BCElogits loss: 0.582\n",
      " 42%|████▏     | 160/384 [18:26<25:53,  6.94s/it][2,   160]  Train BCElogits loss: 0.387\n",
      " 47%|████▋     | 180/384 [20:45<23:32,  6.93s/it][2,   180]  Train BCElogits loss: 0.578\n",
      " 52%|█████▏    | 200/384 [23:04<21:15,  6.93s/it][2,   200]  Train BCElogits loss: 0.556\n",
      " 57%|█████▋    | 220/384 [25:22<18:59,  6.95s/it][2,   220]  Train BCElogits loss: 0.474\n",
      " 62%|██████▎   | 240/384 [27:41<16:39,  6.94s/it][2,   240]  Train BCElogits loss: 0.534\n",
      " 68%|██████▊   | 260/384 [30:00<14:20,  6.94s/it][2,   260]  Train BCElogits loss: 0.601\n",
      " 73%|███████▎  | 280/384 [32:19<12:00,  6.93s/it][2,   280]  Train BCElogits loss: 0.472\n",
      " 78%|███████▊  | 300/384 [34:38<09:43,  6.95s/it][2,   300]  Train BCElogits loss: 0.512\n",
      " 83%|████████▎ | 320/384 [36:57<07:25,  6.96s/it][2,   320]  Train BCElogits loss: 0.589\n",
      " 89%|████████▊ | 340/384 [39:16<05:05,  6.93s/it][2,   340]  Train BCElogits loss: 0.491\n",
      " 94%|█████████▍| 360/384 [41:35<02:47,  6.97s/it][2,   360]  Train BCElogits loss: 0.484\n",
      " 99%|█████████▉| 380/384 [43:54<00:27,  6.94s/it][2,   380]  Train BCElogits loss: 0.620\n",
      "100%|██████████| 384/384 [44:21<00:00,  6.95s/it][0.4921967083728065, 0.4942458138095006, 0.6255007383400388, 0.49279012521565024, 0.4490506237427109, 0.5594249486513282, 0.5823832632292556, 0.3867052107429553, 0.5777262065762134, 0.5564656903124138, 0.47361629628223384, 0.5344977343284819, 0.6013530620904792, 0.472095478537548, 0.511849738848366, 0.5887739124154819, 0.49136816064161903, 0.48351002999209625, 0.6196501031972905]\n",
      "\n",
      "100%|██████████| 28/28 [00:47<00:00,  1.67s/it]BCELogitsLoss: 0.8424007859376849\n",
      "Accuracy of the network on the val images: 47 %\n",
      "\n",
      "100%|██████████| 2/2 [1:30:26<00:00, 2713.42s/it]Finished Training\n",
      "  5%|▌         | 20/384 [02:13<42:08,  6.95s/it][1,    20]  Train BCElogits loss: 0.496\n",
      " 10%|█         | 40/384 [04:32<39:50,  6.95s/it][1,    40]  Train BCElogits loss: 0.484\n",
      " 16%|█▌        | 60/384 [06:51<37:31,  6.95s/it][1,    60]  Train BCElogits loss: 0.619\n",
      " 21%|██        | 80/384 [09:10<35:14,  6.96s/it][1,    80]  Train BCElogits loss: 0.495\n",
      " 26%|██▌       | 100/384 [11:29<32:52,  6.95s/it][1,   100]  Train BCElogits loss: 0.444\n",
      " 31%|███▏      | 120/384 [13:48<30:28,  6.93s/it][1,   120]  Train BCElogits loss: 0.561\n",
      " 36%|███▋      | 140/384 [16:06<28:08,  6.92s/it][1,   140]  Train BCElogits loss: 0.584\n",
      " 42%|████▏     | 160/384 [18:25<25:53,  6.94s/it][1,   160]  Train BCElogits loss: 0.384\n",
      " 47%|████▋     | 180/384 [20:44<23:40,  6.96s/it][1,   180]  Train BCElogits loss: 0.576\n",
      " 52%|█████▏    | 200/384 [23:03<21:17,  6.94s/it][1,   200]  Train BCElogits loss: 0.561\n",
      " 57%|█████▋    | 220/384 [25:22<18:59,  6.95s/it][1,   220]  Train BCElogits loss: 0.472\n",
      " 62%|██████▎   | 240/384 [27:41<16:39,  6.94s/it][1,   240]  Train BCElogits loss: 0.532\n",
      " 68%|██████▊   | 260/384 [30:00<14:22,  6.96s/it][1,   260]  Train BCElogits loss: 0.596\n",
      " 73%|███████▎  | 280/384 [32:19<12:02,  6.94s/it][1,   280]  Train BCElogits loss: 0.468\n",
      " 78%|███████▊  | 300/384 [34:38<09:44,  6.96s/it][1,   300]  Train BCElogits loss: 0.509\n",
      " 83%|████████▎ | 320/384 [36:57<07:24,  6.95s/it][1,   320]  Train BCElogits loss: 0.584\n",
      " 89%|████████▊ | 340/384 [39:16<05:05,  6.95s/it][1,   340]  Train BCElogits loss: 0.490\n",
      " 94%|█████████▍| 360/384 [41:35<02:47,  6.96s/it][1,   360]  Train BCElogits loss: 0.493\n",
      " 99%|█████████▉| 380/384 [43:54<00:27,  6.93s/it][1,   380]  Train BCElogits loss: 0.615\n",
      "100%|██████████| 384/384 [44:21<00:00,  6.92s/it][0.49577139577801493, 0.48386925505557443, 0.619182866310581, 0.4946518481825851, 0.4437627096924411, 0.5606508455646922, 0.5838198561672885, 0.38371506892001694, 0.5760301104429402, 0.5608665503457783, 0.47164487124492, 0.5322345046098891, 0.5957532026184903, 0.4680789941944307, 0.5089749949747233, 0.5838802401746942, 0.4903192471587728, 0.49279753574738344, 0.6146613229946168]\n",
      "\n",
      "100%|██████████| 28/28 [00:47<00:00,  1.68s/it]BCELogitsLoss: 0.8433444497709922\n",
      "Accuracy of the network on the val images: 47 %\n",
      "\n",
      "  5%|▌         | 20/384 [02:13<42:06,  6.94s/it][2,    20]  Train BCElogits loss: 0.494\n",
      " 10%|█         | 40/384 [04:32<39:46,  6.94s/it][2,    40]  Train BCElogits loss: 0.485\n",
      " 16%|█▌        | 60/384 [06:51<37:29,  6.94s/it][2,    60]  Train BCElogits loss: 0.622\n",
      " 21%|██        | 80/384 [09:10<35:09,  6.94s/it][2,    80]  Train BCElogits loss: 0.491\n",
      " 26%|██▌       | 100/384 [11:28<32:53,  6.95s/it][2,   100]  Train BCElogits loss: 0.447\n",
      " 31%|███▏      | 120/384 [13:47<30:31,  6.94s/it][2,   120]  Train BCElogits loss: 0.560\n",
      " 36%|███▋      | 140/384 [16:06<28:11,  6.93s/it][2,   140]  Train BCElogits loss: 0.583\n",
      " 42%|████▏     | 160/384 [18:25<25:53,  6.94s/it][2,   160]  Train BCElogits loss: 0.379\n",
      " 47%|████▋     | 180/384 [20:44<23:37,  6.95s/it][2,   180]  Train BCElogits loss: 0.576\n",
      " 52%|█████▏    | 200/384 [23:03<21:18,  6.95s/it][2,   200]  Train BCElogits loss: 0.553\n",
      " 57%|█████▋    | 220/384 [25:22<18:59,  6.95s/it][2,   220]  Train BCElogits loss: 0.472\n",
      " 62%|██████▎   | 240/384 [27:40<16:39,  6.94s/it][2,   240]  Train BCElogits loss: 0.533\n",
      " 68%|██████▊   | 260/384 [29:59<14:20,  6.94s/it][2,   260]  Train BCElogits loss: 0.600\n",
      " 73%|███████▎  | 280/384 [32:18<12:03,  6.95s/it][2,   280]  Train BCElogits loss: 0.470\n",
      " 78%|███████▊  | 300/384 [34:37<09:44,  6.96s/it][2,   300]  Train BCElogits loss: 0.509\n",
      " 83%|████████▎ | 320/384 [36:57<07:25,  6.96s/it][2,   320]  Train BCElogits loss: 0.588\n",
      " 89%|████████▊ | 340/384 [39:16<05:05,  6.95s/it][2,   340]  Train BCElogits loss: 0.487\n",
      " 94%|█████████▍| 360/384 [41:34<02:47,  6.96s/it][2,   360]  Train BCElogits loss: 0.486\n",
      " 99%|█████████▉| 380/384 [43:53<00:27,  6.96s/it][2,   380]  Train BCElogits loss: 0.625\n",
      "100%|██████████| 384/384 [44:21<00:00,  6.95s/it][0.4936590148011352, 0.48458047496594664, 0.6221301769917009, 0.4914001682212702, 0.447273419587768, 0.560247533561635, 0.5831187584991724, 0.37916042529259697, 0.5762959419927237, 0.5528346862390996, 0.47162673750726913, 0.533492822400088, 0.6003506464517697, 0.4704355048181096, 0.5092776151873349, 0.5877484375521174, 0.48671994944924946, 0.48636626852532994, 0.6254877071007847]\n",
      "\n",
      "100%|██████████| 28/28 [00:47<00:00,  1.67s/it]BCELogitsLoss: 0.8419637401239773\n",
      "Accuracy of the network on the val images: 47 %\n",
      "\n",
      "100%|██████████| 2/2 [1:30:28<00:00, 2714.00s/it]Finished Training\n",
      "  5%|▌         | 20/384 [02:13<42:06,  6.94s/it][1,    20]  Train BCElogits loss: 0.494\n",
      " 10%|█         | 40/384 [04:32<39:42,  6.93s/it][1,    40]  Train BCElogits loss: 0.483\n",
      " 16%|█▌        | 60/384 [06:51<37:23,  6.92s/it][1,    60]  Train BCElogits loss: 0.620\n",
      " 21%|██        | 80/384 [09:10<35:04,  6.92s/it][1,    80]  Train BCElogits loss: 0.494\n",
      " 26%|██▌       | 100/384 [11:29<32:56,  6.96s/it][1,   100]  Train BCElogits loss: 0.447\n",
      " 31%|███▏      | 120/384 [13:48<30:38,  6.96s/it][1,   120]  Train BCElogits loss: 0.562\n",
      " 36%|███▋      | 140/384 [16:07<28:14,  6.95s/it][1,   140]  Train BCElogits loss: 0.589\n",
      " 42%|████▏     | 160/384 [18:25<25:53,  6.93s/it][1,   160]  Train BCElogits loss: 0.389\n",
      " 47%|████▋     | 180/384 [20:44<23:38,  6.95s/it][1,   180]  Train BCElogits loss: 0.575\n",
      " 52%|█████▏    | 200/384 [23:03<21:15,  6.93s/it][1,   200]  Train BCElogits loss: 0.557\n",
      " 57%|█████▋    | 220/384 [25:22<19:03,  6.97s/it][1,   220]  Train BCElogits loss: 0.472\n",
      " 62%|██████▎   | 240/384 [27:42<16:40,  6.95s/it][1,   240]  Train BCElogits loss: 0.536\n",
      " 68%|██████▊   | 260/384 [30:01<14:23,  6.97s/it][1,   260]  Train BCElogits loss: 0.598\n",
      " 73%|███████▎  | 280/384 [32:20<12:05,  6.97s/it][1,   280]  Train BCElogits loss: 0.469\n",
      " 78%|███████▊  | 300/384 [34:39<09:42,  6.94s/it][1,   300]  Train BCElogits loss: 0.503\n",
      " 83%|████████▎ | 320/384 [36:57<07:25,  6.96s/it][1,   320]  Train BCElogits loss: 0.586\n",
      " 89%|████████▊ | 340/384 [39:16<05:06,  6.96s/it][1,   340]  Train BCElogits loss: 0.486\n",
      " 94%|█████████▍| 360/384 [41:35<02:46,  6.94s/it][1,   360]  Train BCElogits loss: 0.485\n",
      " 99%|█████████▉| 380/384 [43:54<00:27,  6.95s/it][1,   380]  Train BCElogits loss: 0.617\n",
      "100%|██████████| 384/384 [44:22<00:00,  6.96s/it][0.4936273745927018, 0.48320527027772453, 0.6196329831208397, 0.49379324128720403, 0.44674169449991075, 0.5618409799387784, 0.5885248111770618, 0.38892354309333976, 0.5752696739333818, 0.5570379166867931, 0.47245281158067776, 0.536481947556031, 0.5979778909675677, 0.46931601376352106, 0.5031139556342706, 0.5858887915456944, 0.48594073135330457, 0.4853270795393609, 0.6174658523608895]\n",
      "\n",
      "100%|██████████| 28/28 [00:47<00:00,  1.68s/it]BCELogitsLoss: 0.842986963825279\n",
      "Accuracy of the network on the val images: 47 %\n",
      "\n",
      "  5%|▌         | 20/384 [02:14<42:08,  6.95s/it][2,    20]  Train BCElogits loss: 0.489\n",
      " 10%|█         | 40/384 [04:32<39:41,  6.92s/it][2,    40]  Train BCElogits loss: 0.486\n",
      " 16%|█▌        | 60/384 [06:51<37:22,  6.92s/it][2,    60]  Train BCElogits loss: 0.622\n",
      " 21%|██        | 80/384 [09:10<35:05,  6.93s/it][2,    80]  Train BCElogits loss: 0.490\n",
      " 26%|██▌       | 100/384 [11:29<32:54,  6.95s/it][2,   100]  Train BCElogits loss: 0.448\n",
      " 31%|███▏      | 120/384 [13:48<30:30,  6.93s/it][2,   120]  Train BCElogits loss: 0.573\n",
      " 36%|███▋      | 140/384 [16:07<28:18,  6.96s/it][2,   140]  Train BCElogits loss: 0.592\n",
      " 42%|████▏     | 160/384 [18:26<25:54,  6.94s/it][2,   160]  Train BCElogits loss: 0.388\n",
      " 47%|████▋     | 180/384 [20:45<23:38,  6.95s/it][2,   180]  Train BCElogits loss: 0.578\n",
      " 52%|█████▏    | 200/384 [23:04<21:14,  6.93s/it][2,   200]  Train BCElogits loss: 0.559\n",
      " 57%|█████▋    | 220/384 [25:23<18:59,  6.95s/it][2,   220]  Train BCElogits loss: 0.478\n",
      " 62%|██████▎   | 240/384 [27:41<16:39,  6.94s/it][2,   240]  Train BCElogits loss: 0.525\n",
      " 68%|██████▊   | 260/384 [30:00<14:21,  6.95s/it][2,   260]  Train BCElogits loss: 0.599\n",
      " 73%|███████▎  | 280/384 [32:19<12:00,  6.93s/it][2,   280]  Train BCElogits loss: 0.474\n",
      " 78%|███████▊  | 300/384 [34:38<09:43,  6.95s/it][2,   300]  Train BCElogits loss: 0.506\n",
      " 83%|████████▎ | 320/384 [36:57<07:23,  6.93s/it][2,   320]  Train BCElogits loss: 0.580\n",
      " 89%|████████▊ | 340/384 [39:16<05:05,  6.95s/it][2,   340]  Train BCElogits loss: 0.492\n",
      " 94%|█████████▍| 360/384 [41:34<02:46,  6.95s/it][2,   360]  Train BCElogits loss: 0.486\n",
      " 99%|█████████▉| 380/384 [43:53<00:27,  6.94s/it][2,   380]  Train BCElogits loss: 0.628\n",
      "100%|██████████| 384/384 [44:21<00:00,  6.94s/it][0.488583285846508, 0.4858158590560827, 0.6217669110517547, 0.4895346928948333, 0.4478246253055003, 0.5726411549960299, 0.5922308899196819, 0.38800766102815976, 0.578455861226148, 0.5589743438137316, 0.47828775936881546, 0.5250679598151642, 0.5990405784104109, 0.4736101686609566, 0.505878235611773, 0.5804152461112084, 0.49191244131412687, 0.48560288556069287, 0.6279567944804446]\n",
      "\n",
      "100%|██████████| 28/28 [00:47<00:00,  1.68s/it]BCELogitsLoss: 0.8412237296990884\n",
      "Accuracy of the network on the val images: 47 %\n",
      "\n",
      "100%|██████████| 2/2 [1:30:28<00:00, 2714.44s/it]Finished Training\n"
     ]
    }
   ],
   "source": [
    "TT = train(2)\n",
    "TT = train(2)\n",
    "TT = train(2) "
   ]
  },
  {
   "cell_type": "code",
   "execution_count": 24,
   "metadata": {
    "scrolled": false
   },
   "outputs": [
    {
     "data": {
      "text/plain": [
       "([1.496224524555359,\n",
       "  1.3873954066554994,\n",
       "  0.8464490112671553,\n",
       "  0.803148738325154,\n",
       "  0.8388930043456891,\n",
       "  0.8443207271283745,\n",
       "  0.8424007859376849,\n",
       "  0.8433444497709922,\n",
       "  0.8419637401239773,\n",
       "  0.842986963825279,\n",
       "  0.8412237296990884],\n",
       " [tensor([ 1,  1,  1,  1], device='cuda:0'),\n",
       "  tensor([ 1,  1,  1,  1], device='cuda:0'),\n",
       "  tensor([ 1,  0,  1,  1], device='cuda:0'),\n",
       "  tensor([ 1,  1,  1,  0], device='cuda:0'),\n",
       "  tensor([ 0,  1,  0,  1], device='cuda:0'),\n",
       "  tensor([ 0,  1,  1,  1], device='cuda:0'),\n",
       "  tensor([ 1,  1,  1,  1], device='cuda:0'),\n",
       "  tensor([ 1,  1,  1,  1], device='cuda:0'),\n",
       "  tensor([ 1,  1,  1,  1], device='cuda:0'),\n",
       "  tensor([ 1,  1,  0,  1], device='cuda:0'),\n",
       "  tensor([ 1,  1,  1,  0], device='cuda:0'),\n",
       "  tensor([ 1,  1,  1,  1], device='cuda:0'),\n",
       "  tensor([ 1,  1,  0,  1], device='cuda:0'),\n",
       "  tensor([ 1,  1,  0,  0], device='cuda:0'),\n",
       "  tensor([ 1,  1,  1,  0], device='cuda:0'),\n",
       "  tensor([ 0,  0,  1,  0], device='cuda:0'),\n",
       "  tensor([ 0,  1,  1,  0], device='cuda:0'),\n",
       "  tensor([ 1,  1,  0,  0], device='cuda:0'),\n",
       "  tensor([ 1,  1,  1,  1], device='cuda:0'),\n",
       "  tensor([ 1,  1,  1,  1], device='cuda:0'),\n",
       "  tensor([ 1,  1,  1,  1], device='cuda:0'),\n",
       "  tensor([ 1,  1,  1,  0], device='cuda:0'),\n",
       "  tensor([ 1,  1,  1,  1], device='cuda:0'),\n",
       "  tensor([ 1,  1,  1,  1], device='cuda:0'),\n",
       "  tensor([ 1,  1,  0,  0], device='cuda:0'),\n",
       "  tensor([ 0,  1,  0,  1], device='cuda:0'),\n",
       "  tensor([ 1,  1,  1,  1], device='cuda:0'),\n",
       "  tensor([ 1,  0,  0], device='cuda:0')],\n",
       " [tensor([[ 0.7507],\n",
       "          [ 0.9882],\n",
       "          [ 0.7400],\n",
       "          [ 0.7435]], dtype=torch.float64, device='cuda:0'), tensor([[ 0.5806],\n",
       "          [ 0.7419],\n",
       "          [ 0.9391],\n",
       "          [ 0.7007]], dtype=torch.float64, device='cuda:0'), tensor([[ 0.7373],\n",
       "          [ 0.6223],\n",
       "          [ 0.6048],\n",
       "          [ 0.7828]], dtype=torch.float64, device='cuda:0'), tensor([[ 0.7580],\n",
       "          [ 0.8374],\n",
       "          [ 0.5738],\n",
       "          [ 0.9456]], dtype=torch.float64, device='cuda:0'), tensor([[ 0.7470],\n",
       "          [ 0.8045],\n",
       "          [ 0.9852],\n",
       "          [ 0.6609]], dtype=torch.float64, device='cuda:0'), tensor([[ 0.5829],\n",
       "          [ 0.8254],\n",
       "          [ 0.6236],\n",
       "          [ 0.8878]], dtype=torch.float64, device='cuda:0'), tensor([[ 0.7044],\n",
       "          [ 0.5884],\n",
       "          [ 0.7485],\n",
       "          [ 0.5578]], dtype=torch.float64, device='cuda:0'), tensor([[ 0.7188],\n",
       "          [ 0.7056],\n",
       "          [ 0.7494],\n",
       "          [ 0.8468]], dtype=torch.float64, device='cuda:0'), tensor([[ 0.8770],\n",
       "          [ 0.6137],\n",
       "          [ 0.9242],\n",
       "          [ 0.8479]], dtype=torch.float64, device='cuda:0'), tensor([[ 0.6135],\n",
       "          [ 0.5997],\n",
       "          [ 0.6626],\n",
       "          [ 0.6015]], dtype=torch.float64, device='cuda:0'), tensor([[ 0.7097],\n",
       "          [ 0.9264],\n",
       "          [ 0.5052],\n",
       "          [ 0.5930]], dtype=torch.float64, device='cuda:0'), tensor([[ 0.8981],\n",
       "          [ 0.6434],\n",
       "          [ 0.9971],\n",
       "          [ 0.6932]], dtype=torch.float64, device='cuda:0'), tensor([[ 0.6150],\n",
       "          [ 0.7707],\n",
       "          [ 0.5349],\n",
       "          [ 0.6608]], dtype=torch.float64, device='cuda:0'), tensor([[ 0.9297],\n",
       "          [ 0.5564],\n",
       "          [ 0.8801],\n",
       "          [ 0.4968]], dtype=torch.float64, device='cuda:0'), tensor([[ 0.7897],\n",
       "          [ 0.8053],\n",
       "          [ 0.6976],\n",
       "          [ 0.7890]], dtype=torch.float64, device='cuda:0'), tensor([[ 0.8056],\n",
       "          [ 0.7052],\n",
       "          [ 0.9843],\n",
       "          [ 0.6818]], dtype=torch.float64, device='cuda:0'), tensor([[ 0.6889],\n",
       "          [ 0.7570],\n",
       "          [ 0.9571],\n",
       "          [ 0.5982]], dtype=torch.float64, device='cuda:0'), tensor([[ 0.7109],\n",
       "          [ 0.7080],\n",
       "          [ 0.7422],\n",
       "          [ 0.5147]], dtype=torch.float64, device='cuda:0'), tensor([[ 0.7757],\n",
       "          [ 0.7443],\n",
       "          [ 0.5428],\n",
       "          [ 0.6927]], dtype=torch.float64, device='cuda:0'), tensor([[ 0.6556],\n",
       "          [ 0.5592],\n",
       "          [ 0.7831],\n",
       "          [ 0.7252]], dtype=torch.float64, device='cuda:0'), tensor([[ 0.5117],\n",
       "          [ 0.7870],\n",
       "          [ 0.6674],\n",
       "          [ 0.7331]], dtype=torch.float64, device='cuda:0'), tensor([[ 0.9439],\n",
       "          [ 0.8282],\n",
       "          [ 0.5262],\n",
       "          [ 0.6658]], dtype=torch.float64, device='cuda:0'), tensor([[ 0.8556],\n",
       "          [ 0.4998],\n",
       "          [ 0.7124],\n",
       "          [ 0.6760]], dtype=torch.float64, device='cuda:0'), tensor([[ 0.7222],\n",
       "          [ 0.5359],\n",
       "          [ 0.5664],\n",
       "          [ 0.9692]], dtype=torch.float64, device='cuda:0'), tensor([[ 0.6957],\n",
       "          [ 0.7037],\n",
       "          [ 0.5453],\n",
       "          [ 0.8050]], dtype=torch.float64, device='cuda:0'), tensor([[ 0.9715],\n",
       "          [ 0.7602],\n",
       "          [ 0.7993],\n",
       "          [ 0.6548]], dtype=torch.float64, device='cuda:0'), tensor([[ 0.6912],\n",
       "          [ 0.5769],\n",
       "          [ 0.9460],\n",
       "          [ 0.7375]], dtype=torch.float64, device='cuda:0'), tensor([[ 0.6273],\n",
       "          [ 0.6877],\n",
       "          [ 0.5908]], dtype=torch.float64, device='cuda:0')])"
      ]
     },
     "execution_count": 24,
     "metadata": {},
     "output_type": "execute_result"
    }
   ],
   "source": [
    "TT"
   ]
  },
  {
   "cell_type": "code",
   "execution_count": 22,
   "metadata": {},
   "outputs": [
    {
     "data": {
      "text/plain": [
       "[0.8216930839556836,\n",
       " 0.7273889307189505,\n",
       " 0.7050484770270664,\n",
       " 0.6603270692128373,\n",
       " 0.6084697376567579,\n",
       " 0.6401739110063083,\n",
       " 0.677973989800549,\n",
       " 0.6151184156194662,\n",
       " 0.6011729956276718,\n",
       " 0.6121044903256943,\n",
       " 0.5942070306609757,\n",
       " 0.5712814314721877,\n",
       " 0.5955747608970173,\n",
       " 0.630971558808566,\n",
       " 0.49292381938283975,\n",
       " 0.6123989864729247,\n",
       " 0.5873489647016091,\n",
       " 0.5275764086899876,\n",
       " 0.5742456873814241,\n",
       " 0.6100052082474657,\n",
       " 0.5313389779186077,\n",
       " 0.55498831696233,\n",
       " 0.5831751010099638,\n",
       " 0.5393484325491027,\n",
       " 0.5518956694775604,\n",
       " 0.5925983874374758,\n",
       " 0.5414074261666363,\n",
       " 0.5374308159530965,\n",
       " 0.590408754907889,\n",
       " 0.5317504567528731,\n",
       " 0.4906229524739594,\n",
       " 0.5801321416269973,\n",
       " 0.6087667286294643,\n",
       " 0.430552243547638,\n",
       " 0.5741049616673435,\n",
       " 0.5887188617658076,\n",
       " 0.4976971064264869,\n",
       " 0.5494343338752765,\n",
       " 0.6169701390507465,\n",
       " 0.5110835758836094,\n",
       " 0.5231164061305629,\n",
       " 0.5829158560821573,\n",
       " 0.5219906645187964,\n",
       " 0.521885130560952,\n",
       " 0.5968872736659666,\n",
       " 0.5247032483661205,\n",
       " 0.5267340879482504,\n",
       " 0.5934375669897545,\n",
       " 0.5327004714355752,\n",
       " 0.4845189365782459,\n",
       " 0.5692943059429096,\n",
       " 0.6022071665979082,\n",
       " 0.4326533249087935,\n",
       " 0.583387902411858,\n",
       " 0.5724322991589365,\n",
       " 0.5095139161122565,\n",
       " 0.5470988298813387,\n",
       " 0.6001806268405069,\n",
       " 0.5063528566107418,\n",
       " 0.5266987514751402,\n",
       " 0.5928707444013177,\n",
       " 0.523660517271788,\n",
       " 0.5231233927410408,\n",
       " 0.6026993498482146,\n",
       " 0.529862063829828,\n",
       " 0.5180975225004743,\n",
       " 0.6020210932286828,\n",
       " 0.5230335665636426,\n",
       " 0.47934738496840046,\n",
       " 0.5628677569539879,\n",
       " 0.6063587641557103,\n",
       " 0.42289224959057925,\n",
       " 0.5792268687791017,\n",
       " 0.583641173255564,\n",
       " 0.5035095438184417,\n",
       " 0.5404259213928561,\n",
       " 0.6039968061384661,\n",
       " 0.5032431942866913,\n",
       " 0.516990146258234,\n",
       " 0.5768444325638548,\n",
       " 0.5163019062002817,\n",
       " 0.5187607465835412,\n",
       " 0.5990702878403905,\n",
       " 0.5188585865298835,\n",
       " 0.5199968097115343,\n",
       " 0.5896619872838383,\n",
       " 0.5121303786948295,\n",
       " 0.47678789295659973,\n",
       " 0.5631873403433227,\n",
       " 0.6064323740955028,\n",
       " 0.4160774702112313,\n",
       " 0.5654943414335786,\n",
       " 0.568769528492263,\n",
       " 0.498534137747668,\n",
       " 0.5326096611135508,\n",
       " 0.6023446149998005,\n",
       " 0.5032601225506299,\n",
       " 0.5095964801176474,\n",
       " 0.5890375968172994,\n",
       " 0.5137705580949636,\n",
       " 0.5133759161394345,\n",
       " 0.5984560984159784,\n",
       " 0.5116410121190441,\n",
       " 0.5122420760222213,\n",
       " 0.5840551391667799,\n",
       " 0.5143147822749106,\n",
       " 0.4654206482011592,\n",
       " 0.5677925530504327,\n",
       " 0.6023932778195136,\n",
       " 0.41513452311058846,\n",
       " 0.572658502480223,\n",
       " 0.5695596774640695,\n",
       " 0.49788550119464636,\n",
       " 0.5283849643161082,\n",
       " 0.6009590709586508,\n",
       " 0.5041714110866383,\n",
       " 0.5057528763214951,\n",
       " 0.5849218304159123,\n",
       " 0.5179666604960522,\n",
       " 0.5161785827978291,\n",
       " 0.5989264369289656,\n",
       " 0.5179654121531072,\n",
       " 0.5075662988007126,\n",
       " 0.5917259662141461,\n",
       " 0.5088784127561511,\n",
       " 0.47077715160224304,\n",
       " 0.5683084795854045,\n",
       " 0.6131452163738536,\n",
       " 0.4058990959763123,\n",
       " 0.5730279252135835,\n",
       " 0.5724119392712599,\n",
       " 0.49615988750875395,\n",
       " 0.5319588545591838,\n",
       " 0.6075594276817882,\n",
       " 0.5036316316619147,\n",
       " 0.5032300191770522,\n",
       " 0.5730398732133187,\n",
       " 0.5124569214147973,\n",
       " 0.5070520362259199,\n",
       " 0.593306535978907,\n",
       " 0.5216135602397171,\n",
       " 0.5178050630821149,\n",
       " 0.590888696686153]"
      ]
     },
     "execution_count": 22,
     "metadata": {},
     "output_type": "execute_result"
    }
   ],
   "source": [
    "losslog"
   ]
  },
  {
   "cell_type": "code",
   "execution_count": 19,
   "metadata": {},
   "outputs": [],
   "source": [
    "def eval():\n",
    "    m.eval()\n",
    "    with tqdm(total=len(X_val)) as pbar:\n",
    "        with torch.no_grad():\n",
    "            truth = []\n",
    "            predicted =[]\n",
    "            correct = 0\n",
    "            total = 0\n",
    "            for i, ( x, p, y) in enumerate(zip(X_val,param_val,y_val)):\n",
    "                x,p,y = x.to(device), p.to(device),y.to(device)\n",
    "\n",
    "                # forward + backward + optimize\n",
    "                outputs = m(x,p)\n",
    "                loss = criterion(outputs,y.double().unsqueeze(1))\n",
    "                pred = (F.sigmoid(outputs))\n",
    "                corr=[]\n",
    "                for i in pred:\n",
    "                    if i >= 0.48: corr.append(1)\n",
    "                    else: corr.append(0)\n",
    "                total += y.size(0)\n",
    "                correct += (corr == y.cpu().numpy()).sum()\n",
    "                predicted.append(pred)\n",
    "                truth.append(y)\n",
    "                pbar.update()\n",
    "\n",
    "            valloss = loss.item()\n",
    "            vallog.append(valloss)\n",
    "            print(f'BCELogitsLoss: {valloss}')\n",
    "            print('Accuracy of the network on the val images: %d %%' % (100 * correct / total))\n",
    "            #cmat = confusion_matrix(truth, predicted)\n",
    "    return truth,predicted"
   ]
  },
  {
   "cell_type": "code",
   "execution_count": 20,
   "metadata": {},
   "outputs": [
    {
     "name": "stdout",
     "output_type": "stream",
     "text": [
      "100%|██████████| 28/28 [00:46<00:00,  1.65s/it]BCELogitsLoss: 1.1701710839226958\n",
      "Accuracy of the network on the val images: 77 %\n",
      "\n"
     ]
    }
   ],
   "source": [
    "E = eval()"
   ]
  },
  {
   "cell_type": "code",
   "execution_count": 21,
   "metadata": {},
   "outputs": [
    {
     "data": {
      "text/plain": [
       "([tensor([ 1,  1,  1,  1], device='cuda:0'),\n",
       "  tensor([ 1,  1,  1,  1], device='cuda:0'),\n",
       "  tensor([ 1,  0,  1,  1], device='cuda:0'),\n",
       "  tensor([ 1,  1,  1,  0], device='cuda:0'),\n",
       "  tensor([ 0,  1,  0,  1], device='cuda:0'),\n",
       "  tensor([ 0,  1,  1,  1], device='cuda:0'),\n",
       "  tensor([ 1,  1,  1,  1], device='cuda:0'),\n",
       "  tensor([ 1,  1,  1,  1], device='cuda:0'),\n",
       "  tensor([ 1,  1,  1,  1], device='cuda:0'),\n",
       "  tensor([ 1,  1,  0,  1], device='cuda:0'),\n",
       "  tensor([ 1,  1,  1,  0], device='cuda:0'),\n",
       "  tensor([ 1,  1,  1,  1], device='cuda:0'),\n",
       "  tensor([ 1,  1,  0,  1], device='cuda:0'),\n",
       "  tensor([ 1,  1,  0,  0], device='cuda:0'),\n",
       "  tensor([ 1,  1,  1,  0], device='cuda:0'),\n",
       "  tensor([ 0,  0,  1,  0], device='cuda:0'),\n",
       "  tensor([ 0,  1,  1,  0], device='cuda:0'),\n",
       "  tensor([ 1,  1,  0,  0], device='cuda:0'),\n",
       "  tensor([ 1,  1,  1,  1], device='cuda:0'),\n",
       "  tensor([ 1,  1,  1,  1], device='cuda:0'),\n",
       "  tensor([ 1,  1,  1,  1], device='cuda:0'),\n",
       "  tensor([ 1,  1,  1,  0], device='cuda:0'),\n",
       "  tensor([ 1,  1,  1,  1], device='cuda:0'),\n",
       "  tensor([ 1,  1,  1,  1], device='cuda:0'),\n",
       "  tensor([ 1,  1,  0,  0], device='cuda:0'),\n",
       "  tensor([ 0,  1,  0,  1], device='cuda:0'),\n",
       "  tensor([ 1,  1,  1,  1], device='cuda:0'),\n",
       "  tensor([ 1,  0,  0], device='cuda:0')],\n",
       " [tensor([[ 0.6473],\n",
       "          [ 0.7417],\n",
       "          [ 0.6800],\n",
       "          [ 0.6967]], dtype=torch.float64, device='cuda:0'), tensor([[ 0.6298],\n",
       "          [ 0.7349],\n",
       "          [ 0.7429],\n",
       "          [ 0.7974]], dtype=torch.float64, device='cuda:0'), tensor([[ 0.6794],\n",
       "          [ 0.8473],\n",
       "          [ 0.6884],\n",
       "          [ 0.8399]], dtype=torch.float64, device='cuda:0'), tensor([[ 0.6475],\n",
       "          [ 0.7664],\n",
       "          [ 0.7860],\n",
       "          [ 0.7748]], dtype=torch.float64, device='cuda:0'), tensor([[ 0.7261],\n",
       "          [ 0.7826],\n",
       "          [ 0.7304],\n",
       "          [ 0.8053]], dtype=torch.float64, device='cuda:0'), tensor([[ 0.6999],\n",
       "          [ 0.7834],\n",
       "          [ 0.7505],\n",
       "          [ 0.7354]], dtype=torch.float64, device='cuda:0'), tensor([[ 0.7455],\n",
       "          [ 0.7532],\n",
       "          [ 0.6757],\n",
       "          [ 0.7218]], dtype=torch.float64, device='cuda:0'), tensor([[ 0.6977],\n",
       "          [ 0.6613],\n",
       "          [ 0.6945],\n",
       "          [ 0.8229]], dtype=torch.float64, device='cuda:0'), tensor([[ 0.7176],\n",
       "          [ 0.6675],\n",
       "          [ 0.7255],\n",
       "          [ 0.8456]], dtype=torch.float64, device='cuda:0'), tensor([[ 0.6323],\n",
       "          [ 0.7295],\n",
       "          [ 0.7073],\n",
       "          [ 0.6992]], dtype=torch.float64, device='cuda:0'), tensor([[ 0.7042],\n",
       "          [ 0.7036],\n",
       "          [ 0.6691],\n",
       "          [ 0.7766]], dtype=torch.float64, device='cuda:0'), tensor([[ 0.6679],\n",
       "          [ 0.6585],\n",
       "          [ 0.7565],\n",
       "          [ 0.6725]], dtype=torch.float64, device='cuda:0'), tensor([[ 0.6806],\n",
       "          [ 0.6958],\n",
       "          [ 0.7018],\n",
       "          [ 0.6961]], dtype=torch.float64, device='cuda:0'), tensor([[ 0.7704],\n",
       "          [ 0.6599],\n",
       "          [ 0.7020],\n",
       "          [ 0.8213]], dtype=torch.float64, device='cuda:0'), tensor([[ 0.6208],\n",
       "          [ 0.6854],\n",
       "          [ 0.6842],\n",
       "          [ 0.7445]], dtype=torch.float64, device='cuda:0'), tensor([[ 0.6739],\n",
       "          [ 0.6759],\n",
       "          [ 0.8733],\n",
       "          [ 0.6872]], dtype=torch.float64, device='cuda:0'), tensor([[ 0.5925],\n",
       "          [ 0.7541],\n",
       "          [ 0.8450],\n",
       "          [ 0.8369]], dtype=torch.float64, device='cuda:0'), tensor([[ 0.7118],\n",
       "          [ 0.7333],\n",
       "          [ 0.7304],\n",
       "          [ 0.6867]], dtype=torch.float64, device='cuda:0'), tensor([[ 0.6847],\n",
       "          [ 0.7259],\n",
       "          [ 0.8507],\n",
       "          [ 0.6808]], dtype=torch.float64, device='cuda:0'), tensor([[ 0.6709],\n",
       "          [ 0.8841],\n",
       "          [ 0.7319],\n",
       "          [ 0.6269]], dtype=torch.float64, device='cuda:0'), tensor([[ 0.8621],\n",
       "          [ 0.7192],\n",
       "          [ 0.7113],\n",
       "          [ 0.7500]], dtype=torch.float64, device='cuda:0'), tensor([[ 0.7067],\n",
       "          [ 0.6722],\n",
       "          [ 0.9219],\n",
       "          [ 0.6470]], dtype=torch.float64, device='cuda:0'), tensor([[ 0.7502],\n",
       "          [ 0.6096],\n",
       "          [ 0.7093],\n",
       "          [ 0.6713]], dtype=torch.float64, device='cuda:0'), tensor([[ 0.7076],\n",
       "          [ 0.7442],\n",
       "          [ 0.6682],\n",
       "          [ 0.8529]], dtype=torch.float64, device='cuda:0'), tensor([[ 0.6196],\n",
       "          [ 0.6904],\n",
       "          [ 0.6579],\n",
       "          [ 0.8447]], dtype=torch.float64, device='cuda:0'), tensor([[ 0.7538],\n",
       "          [ 0.6565],\n",
       "          [ 0.7838],\n",
       "          [ 0.6497]], dtype=torch.float64, device='cuda:0'), tensor([[ 0.7424],\n",
       "          [ 0.7217],\n",
       "          [ 0.7685],\n",
       "          [ 0.9231]], dtype=torch.float64, device='cuda:0'), tensor([[ 0.6961],\n",
       "          [ 0.8501],\n",
       "          [ 0.7136]], dtype=torch.float64, device='cuda:0')])"
      ]
     },
     "execution_count": 21,
     "metadata": {},
     "output_type": "execute_result"
    }
   ],
   "source": [
    "E"
   ]
  },
  {
   "cell_type": "code",
   "execution_count": null,
   "metadata": {},
   "outputs": [],
   "source": [
    "TT"
   ]
  },
  {
   "cell_type": "code",
   "execution_count": 34,
   "metadata": {},
   "outputs": [
    {
     "data": {
      "text/plain": [
       "[0.14161952221883126,\n",
       " 0.21242244258728019,\n",
       " 0.2270260793053405,\n",
       " 0.12160173200127454,\n",
       " 0.25563727439289263,\n",
       " 0.27877713734014437,\n",
       " 0.23156528441690682,\n",
       " 0.21562931521745313,\n",
       " 0.1469511973247502,\n",
       " 0.1469511973247502]"
      ]
     },
     "execution_count": 34,
     "metadata": {},
     "output_type": "execute_result"
    }
   ],
   "source": [
    "vallog"
   ]
  },
  {
   "cell_type": "markdown",
   "metadata": {},
   "source": [
    "### 128x120"
   ]
  },
  {
   "cell_type": "code",
   "execution_count": 9,
   "metadata": {},
   "outputs": [
    {
     "data": {
      "text/plain": [
       "(256, 121, 128, 120)"
      ]
     },
     "execution_count": 9,
     "metadata": {},
     "output_type": "execute_result"
    }
   ],
   "source": [
    "# loop through all the DICOM files\n",
    "image_array_train =[]\n",
    "\n",
    "for filenameDCM in lstFilesDCM_train:\n",
    "    ds = nib.load(filenameDCM)\n",
    "    mri = ds.get_fdata().swapaxes(-2,-1)[25,::-1,::-1]\n",
    "    ds_3d = resize(mri, (128, 120), mode='constant', anti_aliasing=True)\n",
    "    for i in range(26,146):\n",
    "        mri = ds.get_fdata().swapaxes(-2,-1)[i,::-1,::-1]\n",
    "        ds_3d = np.dstack((ds_3d,resize(mri, (128, 120),mode='constant', anti_aliasing=True)))\n",
    "\n",
    "    image_array_train.append(ds_3d)\n",
    "\n",
    "image_array_train = np.asarray(image_array_train, dtype='float64')\n",
    "image_array_train = image_array_train.reshape(len(lstFilesDCM_train),121,128,120)\n",
    "image_array_train.shape"
   ]
  },
  {
   "cell_type": "code",
   "execution_count": 10,
   "metadata": {},
   "outputs": [
    {
     "data": {
      "text/plain": [
       "(111, 121, 128, 120)"
      ]
     },
     "execution_count": 10,
     "metadata": {},
     "output_type": "execute_result"
    }
   ],
   "source": [
    "image_array_val =[]\n",
    "\n",
    "for filenameDCM in lstFilesDCM_val:\n",
    "    ds = nib.load(filenameDCM)\n",
    "    mri = ds.get_fdata().swapaxes(-2,-1)[25,::-1,::-1]\n",
    "    ds_3d = resize(mri, (128, 120), mode='constant', anti_aliasing=True)\n",
    "    for i in range(26,146):\n",
    "        mri = ds.get_fdata().swapaxes(-2,-1)[i,::-1,::-1]\n",
    "        ds_3d = np.dstack((ds_3d,resize(mri, (128, 120),mode='constant', anti_aliasing=True)))\n",
    "\n",
    "    image_array_val.append(ds_3d)\n",
    "\n",
    "image_array_val = np.asarray(image_array_val, dtype='float64')\n",
    "image_array_val = image_array_val.reshape(len(lstFilesDCM_val),121,128,120)\n",
    "image_array_val.shape\n",
    "\n"
   ]
  },
  {
   "cell_type": "code",
   "execution_count": 64,
   "metadata": {},
   "outputs": [],
   "source": [
    "X_train = torch.utils.data.DataLoader(image_array_train, batch_size=4)\n",
    "X_val = torch.utils.data.DataLoader(image_array_val, batch_size=4)\n"
   ]
  },
  {
   "cell_type": "code",
   "execution_count": 65,
   "metadata": {},
   "outputs": [
    {
     "name": "stdout",
     "output_type": "stream",
     "text": [
      "  0%|          | 0/64 [00:00<?, ?it/s]\n"
     ]
    },
    {
     "ename": "RuntimeError",
     "evalue": "cuda runtime error (2) : out of memory at /opt/conda/conda-bld/pytorch_1524586445097/work/aten/src/THC/generic/THCStorage.cu:58",
     "output_type": "error",
     "traceback": [
      "\u001b[0;31m---------------------------------------------------\u001b[0m",
      "\u001b[0;31mRuntimeError\u001b[0m      Traceback (most recent call last)",
      "\u001b[0;32m<ipython-input-65-4186a19dbb24>\u001b[0m in \u001b[0;36m<module>\u001b[0;34m()\u001b[0m\n\u001b[0;32m----> 1\u001b[0;31m \u001b[0mTT\u001b[0m \u001b[0;34m=\u001b[0m \u001b[0mtrain\u001b[0m\u001b[0;34m(\u001b[0m\u001b[0;36m1\u001b[0m\u001b[0;34m)\u001b[0m\u001b[0;34m\u001b[0m\u001b[0m\n\u001b[0m",
      "\u001b[0;32m<ipython-input-51-ecf8055ec0cd>\u001b[0m in \u001b[0;36mtrain\u001b[0;34m(niter)\u001b[0m\n\u001b[1;32m     14\u001b[0m \u001b[0;34m\u001b[0m\u001b[0m\n\u001b[1;32m     15\u001b[0m                 \u001b[0;31m# forward + backward + optimize\u001b[0m\u001b[0;34m\u001b[0m\u001b[0;34m\u001b[0m\u001b[0m\n\u001b[0;32m---> 16\u001b[0;31m                 \u001b[0moutputs\u001b[0m \u001b[0;34m=\u001b[0m \u001b[0mm\u001b[0m\u001b[0;34m(\u001b[0m\u001b[0mx\u001b[0m\u001b[0;34m.\u001b[0m\u001b[0mdouble\u001b[0m\u001b[0;34m(\u001b[0m\u001b[0;34m)\u001b[0m\u001b[0;34m,\u001b[0m\u001b[0mp\u001b[0m\u001b[0;34m.\u001b[0m\u001b[0mdouble\u001b[0m\u001b[0;34m(\u001b[0m\u001b[0;34m)\u001b[0m\u001b[0;34m)\u001b[0m\u001b[0;34m\u001b[0m\u001b[0m\n\u001b[0m\u001b[1;32m     17\u001b[0m                 \u001b[0mloss\u001b[0m \u001b[0;34m=\u001b[0m \u001b[0mcriterion\u001b[0m\u001b[0;34m(\u001b[0m\u001b[0moutputs\u001b[0m\u001b[0;34m,\u001b[0m\u001b[0my\u001b[0m\u001b[0;34m.\u001b[0m\u001b[0mdouble\u001b[0m\u001b[0;34m(\u001b[0m\u001b[0;34m)\u001b[0m\u001b[0;34m.\u001b[0m\u001b[0munsqueeze\u001b[0m\u001b[0;34m(\u001b[0m\u001b[0;36m1\u001b[0m\u001b[0;34m)\u001b[0m\u001b[0;34m)\u001b[0m\u001b[0;34m\u001b[0m\u001b[0m\n\u001b[1;32m     18\u001b[0m \u001b[0;34m\u001b[0m\u001b[0m\n",
      "\u001b[0;32m~/miniconda3/envs/fastai/lib/python3.6/site-packages/torch/nn/modules/module.py\u001b[0m in \u001b[0;36m__call__\u001b[0;34m(self, *input, **kwargs)\u001b[0m\n\u001b[1;32m    489\u001b[0m             \u001b[0mresult\u001b[0m \u001b[0;34m=\u001b[0m \u001b[0mself\u001b[0m\u001b[0;34m.\u001b[0m\u001b[0m_slow_forward\u001b[0m\u001b[0;34m(\u001b[0m\u001b[0;34m*\u001b[0m\u001b[0minput\u001b[0m\u001b[0;34m,\u001b[0m \u001b[0;34m**\u001b[0m\u001b[0mkwargs\u001b[0m\u001b[0;34m)\u001b[0m\u001b[0;34m\u001b[0m\u001b[0m\n\u001b[1;32m    490\u001b[0m         \u001b[0;32melse\u001b[0m\u001b[0;34m:\u001b[0m\u001b[0;34m\u001b[0m\u001b[0m\n\u001b[0;32m--> 491\u001b[0;31m             \u001b[0mresult\u001b[0m \u001b[0;34m=\u001b[0m \u001b[0mself\u001b[0m\u001b[0;34m.\u001b[0m\u001b[0mforward\u001b[0m\u001b[0;34m(\u001b[0m\u001b[0;34m*\u001b[0m\u001b[0minput\u001b[0m\u001b[0;34m,\u001b[0m \u001b[0;34m**\u001b[0m\u001b[0mkwargs\u001b[0m\u001b[0;34m)\u001b[0m\u001b[0;34m\u001b[0m\u001b[0m\n\u001b[0m\u001b[1;32m    492\u001b[0m         \u001b[0;32mfor\u001b[0m \u001b[0mhook\u001b[0m \u001b[0;32min\u001b[0m \u001b[0mself\u001b[0m\u001b[0;34m.\u001b[0m\u001b[0m_forward_hooks\u001b[0m\u001b[0;34m.\u001b[0m\u001b[0mvalues\u001b[0m\u001b[0;34m(\u001b[0m\u001b[0;34m)\u001b[0m\u001b[0;34m:\u001b[0m\u001b[0;34m\u001b[0m\u001b[0m\n\u001b[1;32m    493\u001b[0m             \u001b[0mhook_result\u001b[0m \u001b[0;34m=\u001b[0m \u001b[0mhook\u001b[0m\u001b[0;34m(\u001b[0m\u001b[0mself\u001b[0m\u001b[0;34m,\u001b[0m \u001b[0minput\u001b[0m\u001b[0;34m,\u001b[0m \u001b[0mresult\u001b[0m\u001b[0;34m)\u001b[0m\u001b[0;34m\u001b[0m\u001b[0m\n",
      "\u001b[0;32m<ipython-input-17-9e376d4fe528>\u001b[0m in \u001b[0;36mforward\u001b[0;34m(self, x, y)\u001b[0m\n\u001b[1;32m     32\u001b[0m     \u001b[0;32mdef\u001b[0m \u001b[0mforward\u001b[0m\u001b[0;34m(\u001b[0m\u001b[0mself\u001b[0m\u001b[0;34m,\u001b[0m \u001b[0mx\u001b[0m\u001b[0;34m,\u001b[0m \u001b[0my\u001b[0m\u001b[0;34m)\u001b[0m\u001b[0;34m:\u001b[0m\u001b[0;34m\u001b[0m\u001b[0m\n\u001b[1;32m     33\u001b[0m         \u001b[0mx\u001b[0m \u001b[0;34m=\u001b[0m \u001b[0mx\u001b[0m\u001b[0;34m.\u001b[0m\u001b[0munsqueeze\u001b[0m\u001b[0;34m(\u001b[0m\u001b[0;36m1\u001b[0m\u001b[0;34m)\u001b[0m\u001b[0;34m\u001b[0m\u001b[0m\n\u001b[0;32m---> 34\u001b[0;31m         \u001b[0mx1\u001b[0m \u001b[0;34m=\u001b[0m \u001b[0mself\u001b[0m\u001b[0;34m.\u001b[0m\u001b[0mfeatures\u001b[0m\u001b[0;34m(\u001b[0m\u001b[0mx\u001b[0m\u001b[0;34m)\u001b[0m\u001b[0;34m\u001b[0m\u001b[0m\n\u001b[0m\u001b[1;32m     35\u001b[0m         \u001b[0mx\u001b[0m \u001b[0;34m=\u001b[0m \u001b[0mtorch\u001b[0m\u001b[0;34m.\u001b[0m\u001b[0mcat\u001b[0m\u001b[0;34m(\u001b[0m\u001b[0;34m(\u001b[0m\u001b[0mx1\u001b[0m\u001b[0;34m,\u001b[0m\u001b[0my\u001b[0m\u001b[0;34m[\u001b[0m\u001b[0;34m:\u001b[0m\u001b[0;34m,\u001b[0m\u001b[0;34m:\u001b[0m\u001b[0;34m,\u001b[0m\u001b[0;36m0\u001b[0m\u001b[0;34m]\u001b[0m\u001b[0;34m,\u001b[0m\u001b[0my\u001b[0m\u001b[0;34m[\u001b[0m\u001b[0;34m:\u001b[0m\u001b[0;34m,\u001b[0m\u001b[0;34m:\u001b[0m\u001b[0;34m,\u001b[0m\u001b[0;36m1\u001b[0m\u001b[0;34m]\u001b[0m\u001b[0;34m)\u001b[0m\u001b[0;34m,\u001b[0m\u001b[0;36m1\u001b[0m\u001b[0;34m)\u001b[0m\u001b[0;34m\u001b[0m\u001b[0m\n\u001b[1;32m     36\u001b[0m         \u001b[0mx\u001b[0m \u001b[0;34m=\u001b[0m \u001b[0mself\u001b[0m\u001b[0;34m.\u001b[0m\u001b[0mfc1\u001b[0m\u001b[0;34m(\u001b[0m\u001b[0mx\u001b[0m\u001b[0;34m)\u001b[0m\u001b[0;34m\u001b[0m\u001b[0m\n",
      "\u001b[0;32m~/miniconda3/envs/fastai/lib/python3.6/site-packages/torch/nn/modules/module.py\u001b[0m in \u001b[0;36m__call__\u001b[0;34m(self, *input, **kwargs)\u001b[0m\n\u001b[1;32m    489\u001b[0m             \u001b[0mresult\u001b[0m \u001b[0;34m=\u001b[0m \u001b[0mself\u001b[0m\u001b[0;34m.\u001b[0m\u001b[0m_slow_forward\u001b[0m\u001b[0;34m(\u001b[0m\u001b[0;34m*\u001b[0m\u001b[0minput\u001b[0m\u001b[0;34m,\u001b[0m \u001b[0;34m**\u001b[0m\u001b[0mkwargs\u001b[0m\u001b[0;34m)\u001b[0m\u001b[0;34m\u001b[0m\u001b[0m\n\u001b[1;32m    490\u001b[0m         \u001b[0;32melse\u001b[0m\u001b[0;34m:\u001b[0m\u001b[0;34m\u001b[0m\u001b[0m\n\u001b[0;32m--> 491\u001b[0;31m             \u001b[0mresult\u001b[0m \u001b[0;34m=\u001b[0m \u001b[0mself\u001b[0m\u001b[0;34m.\u001b[0m\u001b[0mforward\u001b[0m\u001b[0;34m(\u001b[0m\u001b[0;34m*\u001b[0m\u001b[0minput\u001b[0m\u001b[0;34m,\u001b[0m \u001b[0;34m**\u001b[0m\u001b[0mkwargs\u001b[0m\u001b[0;34m)\u001b[0m\u001b[0;34m\u001b[0m\u001b[0m\n\u001b[0m\u001b[1;32m    492\u001b[0m         \u001b[0;32mfor\u001b[0m \u001b[0mhook\u001b[0m \u001b[0;32min\u001b[0m \u001b[0mself\u001b[0m\u001b[0;34m.\u001b[0m\u001b[0m_forward_hooks\u001b[0m\u001b[0;34m.\u001b[0m\u001b[0mvalues\u001b[0m\u001b[0;34m(\u001b[0m\u001b[0;34m)\u001b[0m\u001b[0;34m:\u001b[0m\u001b[0;34m\u001b[0m\u001b[0m\n\u001b[1;32m    493\u001b[0m             \u001b[0mhook_result\u001b[0m \u001b[0;34m=\u001b[0m \u001b[0mhook\u001b[0m\u001b[0;34m(\u001b[0m\u001b[0mself\u001b[0m\u001b[0;34m,\u001b[0m \u001b[0minput\u001b[0m\u001b[0;34m,\u001b[0m \u001b[0mresult\u001b[0m\u001b[0;34m)\u001b[0m\u001b[0;34m\u001b[0m\u001b[0m\n",
      "\u001b[0;32m~/miniconda3/envs/fastai/lib/python3.6/site-packages/torch/nn/modules/container.py\u001b[0m in \u001b[0;36mforward\u001b[0;34m(self, input)\u001b[0m\n\u001b[1;32m     89\u001b[0m     \u001b[0;32mdef\u001b[0m \u001b[0mforward\u001b[0m\u001b[0;34m(\u001b[0m\u001b[0mself\u001b[0m\u001b[0;34m,\u001b[0m \u001b[0minput\u001b[0m\u001b[0;34m)\u001b[0m\u001b[0;34m:\u001b[0m\u001b[0;34m\u001b[0m\u001b[0m\n\u001b[1;32m     90\u001b[0m         \u001b[0;32mfor\u001b[0m \u001b[0mmodule\u001b[0m \u001b[0;32min\u001b[0m \u001b[0mself\u001b[0m\u001b[0;34m.\u001b[0m\u001b[0m_modules\u001b[0m\u001b[0;34m.\u001b[0m\u001b[0mvalues\u001b[0m\u001b[0;34m(\u001b[0m\u001b[0;34m)\u001b[0m\u001b[0;34m:\u001b[0m\u001b[0;34m\u001b[0m\u001b[0m\n\u001b[0;32m---> 91\u001b[0;31m             \u001b[0minput\u001b[0m \u001b[0;34m=\u001b[0m \u001b[0mmodule\u001b[0m\u001b[0;34m(\u001b[0m\u001b[0minput\u001b[0m\u001b[0;34m)\u001b[0m\u001b[0;34m\u001b[0m\u001b[0m\n\u001b[0m\u001b[1;32m     92\u001b[0m         \u001b[0;32mreturn\u001b[0m \u001b[0minput\u001b[0m\u001b[0;34m\u001b[0m\u001b[0m\n\u001b[1;32m     93\u001b[0m \u001b[0;34m\u001b[0m\u001b[0m\n",
      "\u001b[0;32m~/miniconda3/envs/fastai/lib/python3.6/site-packages/torch/nn/modules/module.py\u001b[0m in \u001b[0;36m__call__\u001b[0;34m(self, *input, **kwargs)\u001b[0m\n\u001b[1;32m    489\u001b[0m             \u001b[0mresult\u001b[0m \u001b[0;34m=\u001b[0m \u001b[0mself\u001b[0m\u001b[0;34m.\u001b[0m\u001b[0m_slow_forward\u001b[0m\u001b[0;34m(\u001b[0m\u001b[0;34m*\u001b[0m\u001b[0minput\u001b[0m\u001b[0;34m,\u001b[0m \u001b[0;34m**\u001b[0m\u001b[0mkwargs\u001b[0m\u001b[0;34m)\u001b[0m\u001b[0;34m\u001b[0m\u001b[0m\n\u001b[1;32m    490\u001b[0m         \u001b[0;32melse\u001b[0m\u001b[0;34m:\u001b[0m\u001b[0;34m\u001b[0m\u001b[0m\n\u001b[0;32m--> 491\u001b[0;31m             \u001b[0mresult\u001b[0m \u001b[0;34m=\u001b[0m \u001b[0mself\u001b[0m\u001b[0;34m.\u001b[0m\u001b[0mforward\u001b[0m\u001b[0;34m(\u001b[0m\u001b[0;34m*\u001b[0m\u001b[0minput\u001b[0m\u001b[0;34m,\u001b[0m \u001b[0;34m**\u001b[0m\u001b[0mkwargs\u001b[0m\u001b[0;34m)\u001b[0m\u001b[0;34m\u001b[0m\u001b[0m\n\u001b[0m\u001b[1;32m    492\u001b[0m         \u001b[0;32mfor\u001b[0m \u001b[0mhook\u001b[0m \u001b[0;32min\u001b[0m \u001b[0mself\u001b[0m\u001b[0;34m.\u001b[0m\u001b[0m_forward_hooks\u001b[0m\u001b[0;34m.\u001b[0m\u001b[0mvalues\u001b[0m\u001b[0;34m(\u001b[0m\u001b[0;34m)\u001b[0m\u001b[0;34m:\u001b[0m\u001b[0;34m\u001b[0m\u001b[0m\n\u001b[1;32m    493\u001b[0m             \u001b[0mhook_result\u001b[0m \u001b[0;34m=\u001b[0m \u001b[0mhook\u001b[0m\u001b[0;34m(\u001b[0m\u001b[0mself\u001b[0m\u001b[0;34m,\u001b[0m \u001b[0minput\u001b[0m\u001b[0;34m,\u001b[0m \u001b[0mresult\u001b[0m\u001b[0;34m)\u001b[0m\u001b[0;34m\u001b[0m\u001b[0m\n",
      "\u001b[0;32m~/miniconda3/envs/fastai/lib/python3.6/site-packages/torch/nn/modules/container.py\u001b[0m in \u001b[0;36mforward\u001b[0;34m(self, input)\u001b[0m\n\u001b[1;32m     89\u001b[0m     \u001b[0;32mdef\u001b[0m \u001b[0mforward\u001b[0m\u001b[0;34m(\u001b[0m\u001b[0mself\u001b[0m\u001b[0;34m,\u001b[0m \u001b[0minput\u001b[0m\u001b[0;34m)\u001b[0m\u001b[0;34m:\u001b[0m\u001b[0;34m\u001b[0m\u001b[0m\n\u001b[1;32m     90\u001b[0m         \u001b[0;32mfor\u001b[0m \u001b[0mmodule\u001b[0m \u001b[0;32min\u001b[0m \u001b[0mself\u001b[0m\u001b[0;34m.\u001b[0m\u001b[0m_modules\u001b[0m\u001b[0;34m.\u001b[0m\u001b[0mvalues\u001b[0m\u001b[0;34m(\u001b[0m\u001b[0;34m)\u001b[0m\u001b[0;34m:\u001b[0m\u001b[0;34m\u001b[0m\u001b[0m\n\u001b[0;32m---> 91\u001b[0;31m             \u001b[0minput\u001b[0m \u001b[0;34m=\u001b[0m \u001b[0mmodule\u001b[0m\u001b[0;34m(\u001b[0m\u001b[0minput\u001b[0m\u001b[0;34m)\u001b[0m\u001b[0;34m\u001b[0m\u001b[0m\n\u001b[0m\u001b[1;32m     92\u001b[0m         \u001b[0;32mreturn\u001b[0m \u001b[0minput\u001b[0m\u001b[0;34m\u001b[0m\u001b[0m\n\u001b[1;32m     93\u001b[0m \u001b[0;34m\u001b[0m\u001b[0m\n",
      "\u001b[0;32m~/miniconda3/envs/fastai/lib/python3.6/site-packages/torch/nn/modules/module.py\u001b[0m in \u001b[0;36m__call__\u001b[0;34m(self, *input, **kwargs)\u001b[0m\n\u001b[1;32m    489\u001b[0m             \u001b[0mresult\u001b[0m \u001b[0;34m=\u001b[0m \u001b[0mself\u001b[0m\u001b[0;34m.\u001b[0m\u001b[0m_slow_forward\u001b[0m\u001b[0;34m(\u001b[0m\u001b[0;34m*\u001b[0m\u001b[0minput\u001b[0m\u001b[0;34m,\u001b[0m \u001b[0;34m**\u001b[0m\u001b[0mkwargs\u001b[0m\u001b[0;34m)\u001b[0m\u001b[0;34m\u001b[0m\u001b[0m\n\u001b[1;32m    490\u001b[0m         \u001b[0;32melse\u001b[0m\u001b[0;34m:\u001b[0m\u001b[0;34m\u001b[0m\u001b[0m\n\u001b[0;32m--> 491\u001b[0;31m             \u001b[0mresult\u001b[0m \u001b[0;34m=\u001b[0m \u001b[0mself\u001b[0m\u001b[0;34m.\u001b[0m\u001b[0mforward\u001b[0m\u001b[0;34m(\u001b[0m\u001b[0;34m*\u001b[0m\u001b[0minput\u001b[0m\u001b[0;34m,\u001b[0m \u001b[0;34m**\u001b[0m\u001b[0mkwargs\u001b[0m\u001b[0;34m)\u001b[0m\u001b[0;34m\u001b[0m\u001b[0m\n\u001b[0m\u001b[1;32m    492\u001b[0m         \u001b[0;32mfor\u001b[0m \u001b[0mhook\u001b[0m \u001b[0;32min\u001b[0m \u001b[0mself\u001b[0m\u001b[0;34m.\u001b[0m\u001b[0m_forward_hooks\u001b[0m\u001b[0;34m.\u001b[0m\u001b[0mvalues\u001b[0m\u001b[0;34m(\u001b[0m\u001b[0;34m)\u001b[0m\u001b[0;34m:\u001b[0m\u001b[0;34m\u001b[0m\u001b[0m\n\u001b[1;32m    493\u001b[0m             \u001b[0mhook_result\u001b[0m \u001b[0;34m=\u001b[0m \u001b[0mhook\u001b[0m\u001b[0;34m(\u001b[0m\u001b[0mself\u001b[0m\u001b[0;34m,\u001b[0m \u001b[0minput\u001b[0m\u001b[0;34m,\u001b[0m \u001b[0mresult\u001b[0m\u001b[0;34m)\u001b[0m\u001b[0;34m\u001b[0m\u001b[0m\n",
      "\u001b[0;32m~/miniconda3/envs/fastai/lib/python3.6/site-packages/torch/nn/modules/batchnorm.py\u001b[0m in \u001b[0;36mforward\u001b[0;34m(self, input)\u001b[0m\n\u001b[1;32m     47\u001b[0m         return F.batch_norm(\n\u001b[1;32m     48\u001b[0m             \u001b[0minput\u001b[0m\u001b[0;34m,\u001b[0m \u001b[0mself\u001b[0m\u001b[0;34m.\u001b[0m\u001b[0mrunning_mean\u001b[0m\u001b[0;34m,\u001b[0m \u001b[0mself\u001b[0m\u001b[0;34m.\u001b[0m\u001b[0mrunning_var\u001b[0m\u001b[0;34m,\u001b[0m \u001b[0mself\u001b[0m\u001b[0;34m.\u001b[0m\u001b[0mweight\u001b[0m\u001b[0;34m,\u001b[0m \u001b[0mself\u001b[0m\u001b[0;34m.\u001b[0m\u001b[0mbias\u001b[0m\u001b[0;34m,\u001b[0m\u001b[0;34m\u001b[0m\u001b[0m\n\u001b[0;32m---> 49\u001b[0;31m             self.training or not self.track_running_stats, self.momentum, self.eps)\n\u001b[0m\u001b[1;32m     50\u001b[0m \u001b[0;34m\u001b[0m\u001b[0m\n\u001b[1;32m     51\u001b[0m     \u001b[0;32mdef\u001b[0m \u001b[0mextra_repr\u001b[0m\u001b[0;34m(\u001b[0m\u001b[0mself\u001b[0m\u001b[0;34m)\u001b[0m\u001b[0;34m:\u001b[0m\u001b[0;34m\u001b[0m\u001b[0m\n",
      "\u001b[0;32m~/miniconda3/envs/fastai/lib/python3.6/site-packages/torch/nn/functional.py\u001b[0m in \u001b[0;36mbatch_norm\u001b[0;34m(input, running_mean, running_var, weight, bias, training, momentum, eps)\u001b[0m\n\u001b[1;32m   1192\u001b[0m     return torch.batch_norm(\n\u001b[1;32m   1193\u001b[0m         \u001b[0minput\u001b[0m\u001b[0;34m,\u001b[0m \u001b[0mweight\u001b[0m\u001b[0;34m,\u001b[0m \u001b[0mbias\u001b[0m\u001b[0;34m,\u001b[0m \u001b[0mrunning_mean\u001b[0m\u001b[0;34m,\u001b[0m \u001b[0mrunning_var\u001b[0m\u001b[0;34m,\u001b[0m\u001b[0;34m\u001b[0m\u001b[0m\n\u001b[0;32m-> 1194\u001b[0;31m         \u001b[0mtraining\u001b[0m\u001b[0;34m,\u001b[0m \u001b[0mmomentum\u001b[0m\u001b[0;34m,\u001b[0m \u001b[0meps\u001b[0m\u001b[0;34m,\u001b[0m \u001b[0mtorch\u001b[0m\u001b[0;34m.\u001b[0m\u001b[0mbackends\u001b[0m\u001b[0;34m.\u001b[0m\u001b[0mcudnn\u001b[0m\u001b[0;34m.\u001b[0m\u001b[0menabled\u001b[0m\u001b[0;34m\u001b[0m\u001b[0m\n\u001b[0m\u001b[1;32m   1195\u001b[0m     )\n\u001b[1;32m   1196\u001b[0m \u001b[0;34m\u001b[0m\u001b[0m\n",
      "\u001b[0;31mRuntimeError\u001b[0m: cuda runtime error (2) : out of memory at /opt/conda/conda-bld/pytorch_1524586445097/work/aten/src/THC/generic/THCStorage.cu:58"
     ]
    }
   ],
   "source": [
    "TT = train(1)"
   ]
  },
  {
   "cell_type": "code",
   "execution_count": 79,
   "metadata": {},
   "outputs": [],
   "source": [
    "writer.export_scalars_to_json(\"./log1.json\")\n",
    "writer.close()"
   ]
  },
  {
   "cell_type": "code",
   "execution_count": null,
   "metadata": {},
   "outputs": [],
   "source": []
  },
  {
   "cell_type": "markdown",
   "metadata": {},
   "source": [
    "## Validate"
   ]
  },
  {
   "cell_type": "code",
   "execution_count": null,
   "metadata": {},
   "outputs": [],
   "source": []
  },
  {
   "cell_type": "code",
   "execution_count": 67,
   "metadata": {},
   "outputs": [],
   "source": [
    "def test():\n",
    "    with torch.no_grad():\n",
    "        n = len(X_test)\n",
    "        m.eval()\n",
    "        predicted = []\n",
    "        correct = 0\n",
    "        total = 0\n",
    "        with tqdm(total=len(X_test)) as pbar:\n",
    "            with torch.no_grad():\n",
    "                truth = []\n",
    "                predicted =[]\n",
    "                correct = 0\n",
    "                total = 0\n",
    "                for i, ( x, p, y) in enumerate(zip(X_test,param_test,y_test)):\n",
    "                    x,p,y = x.to(device), p.to(device),y.to(device)\n",
    "\n",
    "                    # forward + backward + optimize\n",
    "                    outputs = m(x,p)\n",
    "                    pred = (outputs>=0).long().view(-1)\n",
    "                    total += y.size(0)\n",
    "                    correct += (pred == y).sum()\n",
    "                    predicted.append(pred)\n",
    "                    truth.append(y)\n",
    "                    pbar.update()\n",
    "    \n",
    "    print('Accuracy of the network on the test images: %d %%' % (\n",
    "    100 * correct / total))\n",
    "    return predicted, truth"
   ]
  },
  {
   "cell_type": "code",
   "execution_count": 68,
   "metadata": {},
   "outputs": [
    {
     "name": "stdout",
     "output_type": "stream",
     "text": [
      "  0%|          | 0/92 [00:00<?, ?it/s]\n",
      "Accuracy of the network on the test images: 28 %\n"
     ]
    }
   ],
   "source": [
    "TEST = test()"
   ]
  },
  {
   "cell_type": "code",
   "execution_count": 20,
   "metadata": {},
   "outputs": [],
   "source": [
    "model_save_path = './weights/'"
   ]
  },
  {
   "cell_type": "code",
   "execution_count": null,
   "metadata": {},
   "outputs": [],
   "source": []
  },
  {
   "cell_type": "code",
   "execution_count": 23,
   "metadata": {},
   "outputs": [],
   "source": [
    "torch.save(m.state_dict(),f'{model_save_path}MRI_binary_maxpool.pth')"
   ]
  },
  {
   "cell_type": "code",
   "execution_count": 23,
   "metadata": {},
   "outputs": [],
   "source": [
    "#m = Darknet([1,2,4,6,3], num_classes=1, nf=32)\n",
    "#m.double()\n",
    "m.load_state_dict(torch.load(f'{model_save_path}MRI_binary.pth'))"
   ]
  },
  {
   "cell_type": "code",
   "execution_count": 96,
   "metadata": {},
   "outputs": [
    {
     "name": "stdout",
     "output_type": "stream",
     "text": [
      "cuda:0\n"
     ]
    }
   ],
   "source": [
    "device = torch.device(\"cuda:0\" if torch.cuda.is_available() else \"cpu\")\n",
    "m.to(device)\n",
    "print(device)"
   ]
  },
  {
   "cell_type": "code",
   "execution_count": 81,
   "metadata": {},
   "outputs": [
    {
     "data": {
      "text/plain": [
       "<function seaborn.axisgrid.pairplot(data, hue=None, hue_order=None, palette=None, vars=None, x_vars=None, y_vars=None, kind='scatter', diag_kind='hist', markers=None, size=2.5, aspect=1, dropna=True, plot_kws=None, diag_kws=None, grid_kws=None)>"
      ]
     },
     "execution_count": 81,
     "metadata": {},
     "output_type": "execute_result"
    }
   ],
   "source": [
    "sns.pairplot"
   ]
  },
  {
   "cell_type": "code",
   "execution_count": null,
   "metadata": {},
   "outputs": [],
   "source": []
  },
  {
   "cell_type": "code",
   "execution_count": null,
   "metadata": {},
   "outputs": [],
   "source": []
  },
  {
   "cell_type": "code",
   "execution_count": 117,
   "metadata": {},
   "outputs": [
    {
     "data": {
      "text/plain": [
       "<matplotlib.axes._subplots.AxesSubplot at 0x7fa8c73f8828>"
      ]
     },
     "execution_count": 117,
     "metadata": {},
     "output_type": "execute_result"
    },
    {
     "data": {
      "image/png": "[encoded data removed]",
      "text/plain": [
       "<matplotlib.figure.Figure at 0x7fa8c6ba44a8>"
      ]
     },
     "metadata": {},
     "output_type": "display_data"
    }
   ],
   "source": [
    "sns.distplot(y_pred)"
   ]
  },
  {
   "cell_type": "code",
   "execution_count": 118,
   "metadata": {
    "scrolled": true
   },
   "outputs": [
    {
     "data": {
      "text/plain": [
       "<matplotlib.axes._subplots.AxesSubplot at 0x7fa8c73284a8>"
      ]
     },
     "execution_count": 118,
     "metadata": {},
     "output_type": "execute_result"
    },
    {
     "data": {
      "image/png": "[encoded data removed]",
      "text/plain": [
       "<matplotlib.figure.Figure at 0x7fa8c7375978>"
      ]
     },
     "metadata": {},
     "output_type": "display_data"
    }
   ],
   "source": [
    "sns.distplot(y_test)"
   ]
  },
  {
   "cell_type": "markdown",
   "metadata": {},
   "source": [
    "## MultiLabel"
   ]
  },
  {
   "cell_type": "code",
   "execution_count": 56,
   "metadata": {},
   "outputs": [],
   "source": [
    "def conv_layer(ni, nf, ks=3, stride=1):\n",
    "    return nn.Sequential(\n",
    "        nn.Conv2d(ni, nf, kernel_size=ks, bias=False, stride=stride, padding=ks//2),\n",
    "        nn.BatchNorm2d(nf, momentum=0.01),\n",
    "        nn.LeakyReLU(negative_slope=0.1, inplace=False))\n",
    "\n",
    "class ResLayer(nn.Module):\n",
    "    def __init__(self, ni):\n",
    "        super().__init__()\n",
    "        self.conv1=conv_layer(ni, ni//2, ks=1)\n",
    "        self.conv2=conv_layer(ni//2, ni, ks=3)\n",
    "        \n",
    "    def forward(self, x): return x.add_(self.conv2(self.conv1(x.clone())))\n",
    "\n",
    "class Darknet(nn.Module):\n",
    "    def make_group_layer(self, ch_in, num_blocks, stride=1):\n",
    "        return [conv_layer(ch_in, ch_in*2,stride=stride)\n",
    "               ] + [(ResLayer(ch_in*2)) for i in range(num_blocks)]\n",
    "\n",
    "    def __init__(self, num_blocks, num_classes, nf=32):\n",
    "        super().__init__()\n",
    "        features = [conv_layer(1, nf, ks=3, stride=1)]\n",
    "        for i,nb in enumerate(num_blocks):\n",
    "            features += self.make_group_layer(nf, nb, stride=2-(i==1))\n",
    "            nf *= 2                        \n",
    "        features += [nn.AdaptiveAvgPool2d(1), Flatten()]        \n",
    "        self.features = nn.Sequential(*features)\n",
    "        fc1 = [nn.Linear(1054, 120), nn.BatchNorm1d(120, momentum=0.01), nn.LeakyReLU(negative_slope=0.1, inplace=False)]\n",
    "        self.fc1 = nn.Sequential(*fc1)\n",
    "        self.layers = nn.Sequential(nn.Linear(120,num_classes))\n",
    "        \n",
    "    def forward(self, x, y):\n",
    "        x = x.unsqueeze(1)\n",
    "        x1 = self.features(x)\n",
    "        x = torch.cat((x1,y[:,:,0],y[:,:,1],y[:,:,2]),1)\n",
    "        x = self.fc1(x)\n",
    "        x = F.relu(x)\n",
    "        #x = F.dropout(x, p=0.2, training=self.training)\n",
    "        return F.log_softmax(self.layers(x), dim=-1)"
   ]
  },
  {
   "cell_type": "code",
   "execution_count": 57,
   "metadata": {},
   "outputs": [
    {
     "data": {
      "text/plain": [
       "Darknet(\n",
       "  (features): Sequential(\n",
       "    (0): Sequential(\n",
       "      (0): Conv2d(1, 32, kernel_size=(3, 3), stride=(1, 1), padding=(1, 1), bias=False)\n",
       "      (1): BatchNorm2d(32, eps=1e-05, momentum=0.01, affine=True, track_running_stats=True)\n",
       "      (2): LeakyReLU(negative_slope=0.1)\n",
       "    )\n",
       "    (1): Sequential(\n",
       "      (0): Conv2d(32, 64, kernel_size=(3, 3), stride=(2, 2), padding=(1, 1), bias=False)\n",
       "      (1): BatchNorm2d(64, eps=1e-05, momentum=0.01, affine=True, track_running_stats=True)\n",
       "      (2): LeakyReLU(negative_slope=0.1)\n",
       "    )\n",
       "    (2): ResLayer(\n",
       "      (conv1): Sequential(\n",
       "        (0): Conv2d(64, 32, kernel_size=(1, 1), stride=(1, 1), bias=False)\n",
       "        (1): BatchNorm2d(32, eps=1e-05, momentum=0.01, affine=True, track_running_stats=True)\n",
       "        (2): LeakyReLU(negative_slope=0.1)\n",
       "      )\n",
       "      (conv2): Sequential(\n",
       "        (0): Conv2d(32, 64, kernel_size=(3, 3), stride=(1, 1), padding=(1, 1), bias=False)\n",
       "        (1): BatchNorm2d(64, eps=1e-05, momentum=0.01, affine=True, track_running_stats=True)\n",
       "        (2): LeakyReLU(negative_slope=0.1)\n",
       "      )\n",
       "    )\n",
       "    (3): Sequential(\n",
       "      (0): Conv2d(64, 128, kernel_size=(3, 3), stride=(1, 1), padding=(1, 1), bias=False)\n",
       "      (1): BatchNorm2d(128, eps=1e-05, momentum=0.01, affine=True, track_running_stats=True)\n",
       "      (2): LeakyReLU(negative_slope=0.1)\n",
       "    )\n",
       "    (4): ResLayer(\n",
       "      (conv1): Sequential(\n",
       "        (0): Conv2d(128, 64, kernel_size=(1, 1), stride=(1, 1), bias=False)\n",
       "        (1): BatchNorm2d(64, eps=1e-05, momentum=0.01, affine=True, track_running_stats=True)\n",
       "        (2): LeakyReLU(negative_slope=0.1)\n",
       "      )\n",
       "      (conv2): Sequential(\n",
       "        (0): Conv2d(64, 128, kernel_size=(3, 3), stride=(1, 1), padding=(1, 1), bias=False)\n",
       "        (1): BatchNorm2d(128, eps=1e-05, momentum=0.01, affine=True, track_running_stats=True)\n",
       "        (2): LeakyReLU(negative_slope=0.1)\n",
       "      )\n",
       "    )\n",
       "    (5): ResLayer(\n",
       "      (conv1): Sequential(\n",
       "        (0): Conv2d(128, 64, kernel_size=(1, 1), stride=(1, 1), bias=False)\n",
       "        (1): BatchNorm2d(64, eps=1e-05, momentum=0.01, affine=True, track_running_stats=True)\n",
       "        (2): LeakyReLU(negative_slope=0.1)\n",
       "      )\n",
       "      (conv2): Sequential(\n",
       "        (0): Conv2d(64, 128, kernel_size=(3, 3), stride=(1, 1), padding=(1, 1), bias=False)\n",
       "        (1): BatchNorm2d(128, eps=1e-05, momentum=0.01, affine=True, track_running_stats=True)\n",
       "        (2): LeakyReLU(negative_slope=0.1)\n",
       "      )\n",
       "    )\n",
       "    (6): Sequential(\n",
       "      (0): Conv2d(128, 256, kernel_size=(3, 3), stride=(2, 2), padding=(1, 1), bias=False)\n",
       "      (1): BatchNorm2d(256, eps=1e-05, momentum=0.01, affine=True, track_running_stats=True)\n",
       "      (2): LeakyReLU(negative_slope=0.1)\n",
       "    )\n",
       "    (7): ResLayer(\n",
       "      (conv1): Sequential(\n",
       "        (0): Conv2d(256, 128, kernel_size=(1, 1), stride=(1, 1), bias=False)\n",
       "        (1): BatchNorm2d(128, eps=1e-05, momentum=0.01, affine=True, track_running_stats=True)\n",
       "        (2): LeakyReLU(negative_slope=0.1)\n",
       "      )\n",
       "      (conv2): Sequential(\n",
       "        (0): Conv2d(128, 256, kernel_size=(3, 3), stride=(1, 1), padding=(1, 1), bias=False)\n",
       "        (1): BatchNorm2d(256, eps=1e-05, momentum=0.01, affine=True, track_running_stats=True)\n",
       "        (2): LeakyReLU(negative_slope=0.1)\n",
       "      )\n",
       "    )\n",
       "    (8): ResLayer(\n",
       "      (conv1): Sequential(\n",
       "        (0): Conv2d(256, 128, kernel_size=(1, 1), stride=(1, 1), bias=False)\n",
       "        (1): BatchNorm2d(128, eps=1e-05, momentum=0.01, affine=True, track_running_stats=True)\n",
       "        (2): LeakyReLU(negative_slope=0.1)\n",
       "      )\n",
       "      (conv2): Sequential(\n",
       "        (0): Conv2d(128, 256, kernel_size=(3, 3), stride=(1, 1), padding=(1, 1), bias=False)\n",
       "        (1): BatchNorm2d(256, eps=1e-05, momentum=0.01, affine=True, track_running_stats=True)\n",
       "        (2): LeakyReLU(negative_slope=0.1)\n",
       "      )\n",
       "    )\n",
       "    (9): ResLayer(\n",
       "      (conv1): Sequential(\n",
       "        (0): Conv2d(256, 128, kernel_size=(1, 1), stride=(1, 1), bias=False)\n",
       "        (1): BatchNorm2d(128, eps=1e-05, momentum=0.01, affine=True, track_running_stats=True)\n",
       "        (2): LeakyReLU(negative_slope=0.1)\n",
       "      )\n",
       "      (conv2): Sequential(\n",
       "        (0): Conv2d(128, 256, kernel_size=(3, 3), stride=(1, 1), padding=(1, 1), bias=False)\n",
       "        (1): BatchNorm2d(256, eps=1e-05, momentum=0.01, affine=True, track_running_stats=True)\n",
       "        (2): LeakyReLU(negative_slope=0.1)\n",
       "      )\n",
       "    )\n",
       "    (10): ResLayer(\n",
       "      (conv1): Sequential(\n",
       "        (0): Conv2d(256, 128, kernel_size=(1, 1), stride=(1, 1), bias=False)\n",
       "        (1): BatchNorm2d(128, eps=1e-05, momentum=0.01, affine=True, track_running_stats=True)\n",
       "        (2): LeakyReLU(negative_slope=0.1)\n",
       "      )\n",
       "      (conv2): Sequential(\n",
       "        (0): Conv2d(128, 256, kernel_size=(3, 3), stride=(1, 1), padding=(1, 1), bias=False)\n",
       "        (1): BatchNorm2d(256, eps=1e-05, momentum=0.01, affine=True, track_running_stats=True)\n",
       "        (2): LeakyReLU(negative_slope=0.1)\n",
       "      )\n",
       "    )\n",
       "    (11): Sequential(\n",
       "      (0): Conv2d(256, 512, kernel_size=(3, 3), stride=(2, 2), padding=(1, 1), bias=False)\n",
       "      (1): BatchNorm2d(512, eps=1e-05, momentum=0.01, affine=True, track_running_stats=True)\n",
       "      (2): LeakyReLU(negative_slope=0.1)\n",
       "    )\n",
       "    (12): ResLayer(\n",
       "      (conv1): Sequential(\n",
       "        (0): Conv2d(512, 256, kernel_size=(1, 1), stride=(1, 1), bias=False)\n",
       "        (1): BatchNorm2d(256, eps=1e-05, momentum=0.01, affine=True, track_running_stats=True)\n",
       "        (2): LeakyReLU(negative_slope=0.1)\n",
       "      )\n",
       "      (conv2): Sequential(\n",
       "        (0): Conv2d(256, 512, kernel_size=(3, 3), stride=(1, 1), padding=(1, 1), bias=False)\n",
       "        (1): BatchNorm2d(512, eps=1e-05, momentum=0.01, affine=True, track_running_stats=True)\n",
       "        (2): LeakyReLU(negative_slope=0.1)\n",
       "      )\n",
       "    )\n",
       "    (13): ResLayer(\n",
       "      (conv1): Sequential(\n",
       "        (0): Conv2d(512, 256, kernel_size=(1, 1), stride=(1, 1), bias=False)\n",
       "        (1): BatchNorm2d(256, eps=1e-05, momentum=0.01, affine=True, track_running_stats=True)\n",
       "        (2): LeakyReLU(negative_slope=0.1)\n",
       "      )\n",
       "      (conv2): Sequential(\n",
       "        (0): Conv2d(256, 512, kernel_size=(3, 3), stride=(1, 1), padding=(1, 1), bias=False)\n",
       "        (1): BatchNorm2d(512, eps=1e-05, momentum=0.01, affine=True, track_running_stats=True)\n",
       "        (2): LeakyReLU(negative_slope=0.1)\n",
       "      )\n",
       "    )\n",
       "    (14): ResLayer(\n",
       "      (conv1): Sequential(\n",
       "        (0): Conv2d(512, 256, kernel_size=(1, 1), stride=(1, 1), bias=False)\n",
       "        (1): BatchNorm2d(256, eps=1e-05, momentum=0.01, affine=True, track_running_stats=True)\n",
       "        (2): LeakyReLU(negative_slope=0.1)\n",
       "      )\n",
       "      (conv2): Sequential(\n",
       "        (0): Conv2d(256, 512, kernel_size=(3, 3), stride=(1, 1), padding=(1, 1), bias=False)\n",
       "        (1): BatchNorm2d(512, eps=1e-05, momentum=0.01, affine=True, track_running_stats=True)\n",
       "        (2): LeakyReLU(negative_slope=0.1)\n",
       "      )\n",
       "    )\n",
       "    (15): ResLayer(\n",
       "      (conv1): Sequential(\n",
       "        (0): Conv2d(512, 256, kernel_size=(1, 1), stride=(1, 1), bias=False)\n",
       "        (1): BatchNorm2d(256, eps=1e-05, momentum=0.01, affine=True, track_running_stats=True)\n",
       "        (2): LeakyReLU(negative_slope=0.1)\n",
       "      )\n",
       "      (conv2): Sequential(\n",
       "        (0): Conv2d(256, 512, kernel_size=(3, 3), stride=(1, 1), padding=(1, 1), bias=False)\n",
       "        (1): BatchNorm2d(512, eps=1e-05, momentum=0.01, affine=True, track_running_stats=True)\n",
       "        (2): LeakyReLU(negative_slope=0.1)\n",
       "      )\n",
       "    )\n",
       "    (16): ResLayer(\n",
       "      (conv1): Sequential(\n",
       "        (0): Conv2d(512, 256, kernel_size=(1, 1), stride=(1, 1), bias=False)\n",
       "        (1): BatchNorm2d(256, eps=1e-05, momentum=0.01, affine=True, track_running_stats=True)\n",
       "        (2): LeakyReLU(negative_slope=0.1)\n",
       "      )\n",
       "      (conv2): Sequential(\n",
       "        (0): Conv2d(256, 512, kernel_size=(3, 3), stride=(1, 1), padding=(1, 1), bias=False)\n",
       "        (1): BatchNorm2d(512, eps=1e-05, momentum=0.01, affine=True, track_running_stats=True)\n",
       "        (2): LeakyReLU(negative_slope=0.1)\n",
       "      )\n",
       "    )\n",
       "    (17): ResLayer(\n",
       "      (conv1): Sequential(\n",
       "        (0): Conv2d(512, 256, kernel_size=(1, 1), stride=(1, 1), bias=False)\n",
       "        (1): BatchNorm2d(256, eps=1e-05, momentum=0.01, affine=True, track_running_stats=True)\n",
       "        (2): LeakyReLU(negative_slope=0.1)\n",
       "      )\n",
       "      (conv2): Sequential(\n",
       "        (0): Conv2d(256, 512, kernel_size=(3, 3), stride=(1, 1), padding=(1, 1), bias=False)\n",
       "        (1): BatchNorm2d(512, eps=1e-05, momentum=0.01, affine=True, track_running_stats=True)\n",
       "        (2): LeakyReLU(negative_slope=0.1)\n",
       "      )\n",
       "    )\n",
       "    (18): Sequential(\n",
       "      (0): Conv2d(512, 1024, kernel_size=(3, 3), stride=(2, 2), padding=(1, 1), bias=False)\n",
       "      (1): BatchNorm2d(1024, eps=1e-05, momentum=0.01, affine=True, track_running_stats=True)\n",
       "      (2): LeakyReLU(negative_slope=0.1)\n",
       "    )\n",
       "    (19): ResLayer(\n",
       "      (conv1): Sequential(\n",
       "        (0): Conv2d(1024, 512, kernel_size=(1, 1), stride=(1, 1), bias=False)\n",
       "        (1): BatchNorm2d(512, eps=1e-05, momentum=0.01, affine=True, track_running_stats=True)\n",
       "        (2): LeakyReLU(negative_slope=0.1)\n",
       "      )\n",
       "      (conv2): Sequential(\n",
       "        (0): Conv2d(512, 1024, kernel_size=(3, 3), stride=(1, 1), padding=(1, 1), bias=False)\n",
       "        (1): BatchNorm2d(1024, eps=1e-05, momentum=0.01, affine=True, track_running_stats=True)\n",
       "        (2): LeakyReLU(negative_slope=0.1)\n",
       "      )\n",
       "    )\n",
       "    (20): ResLayer(\n",
       "      (conv1): Sequential(\n",
       "        (0): Conv2d(1024, 512, kernel_size=(1, 1), stride=(1, 1), bias=False)\n",
       "        (1): BatchNorm2d(512, eps=1e-05, momentum=0.01, affine=True, track_running_stats=True)\n",
       "        (2): LeakyReLU(negative_slope=0.1)\n",
       "      )\n",
       "      (conv2): Sequential(\n",
       "        (0): Conv2d(512, 1024, kernel_size=(3, 3), stride=(1, 1), padding=(1, 1), bias=False)\n",
       "        (1): BatchNorm2d(1024, eps=1e-05, momentum=0.01, affine=True, track_running_stats=True)\n",
       "        (2): LeakyReLU(negative_slope=0.1)\n",
       "      )\n",
       "    )\n",
       "    (21): ResLayer(\n",
       "      (conv1): Sequential(\n",
       "        (0): Conv2d(1024, 512, kernel_size=(1, 1), stride=(1, 1), bias=False)\n",
       "        (1): BatchNorm2d(512, eps=1e-05, momentum=0.01, affine=True, track_running_stats=True)\n",
       "        (2): LeakyReLU(negative_slope=0.1)\n",
       "      )\n",
       "      (conv2): Sequential(\n",
       "        (0): Conv2d(512, 1024, kernel_size=(3, 3), stride=(1, 1), padding=(1, 1), bias=False)\n",
       "        (1): BatchNorm2d(1024, eps=1e-05, momentum=0.01, affine=True, track_running_stats=True)\n",
       "        (2): LeakyReLU(negative_slope=0.1)\n",
       "      )\n",
       "    )\n",
       "    (22): AdaptiveAvgPool2d(output_size=1)\n",
       "    (23): Flatten()\n",
       "  )\n",
       "  (fc1): Sequential(\n",
       "    (0): Linear(in_features=1054, out_features=120, bias=True)\n",
       "    (1): BatchNorm1d(120, eps=1e-05, momentum=0.01, affine=True, track_running_stats=True)\n",
       "    (2): LeakyReLU(negative_slope=0.1)\n",
       "  )\n",
       "  (layers): Sequential(\n",
       "    (0): Linear(in_features=120, out_features=3, bias=True)\n",
       "  )\n",
       ")"
      ]
     },
     "execution_count": 57,
     "metadata": {},
     "output_type": "execute_result"
    }
   ],
   "source": [
    "ml = Darknet([1,2,4,6,3], num_classes=3, nf=32)\n",
    "ml.double()\n",
    "#m = nn.DataParallel(m, [1,2,3])"
   ]
  },
  {
   "cell_type": "code",
   "execution_count": 60,
   "metadata": {},
   "outputs": [
    {
     "name": "stdout",
     "output_type": "stream",
     "text": [
      "cuda:0\n"
     ]
    }
   ],
   "source": [
    "optimizer = optim.RMSprop(ml.parameters(), lr = 1e-3)\n",
    "criterion = nn.CrossEntropyLoss()\n",
    "scheduler = optim.lr_scheduler.ExponentialLR(optimizer, gamma = 0.5)\n",
    "\n",
    "device = torch.device(\"cuda:0\" if torch.cuda.is_available() else \"cpu\")\n",
    "#device = \"cpu\"\n",
    "ml.to(device)\n",
    "print(device)\n",
    "\n",
    "### Train\n",
    "\n",
    "losslog=[]\n",
    "vallog=[]\n",
    "\n",
    "def train(niter):\n",
    "    for epoch in trange(niter):  # loop over the dataset multiple times\n",
    "        running_loss = 0.0        \n",
    "\n",
    "        ml.train(True)\n",
    "        scheduler.step()\n",
    "        with tqdm(total=len(X_train)) as pbar:\n",
    "            for i, (x, p, y) in enumerate(zip(X_train,param_train,y_train)):\n",
    "                x,p,y = x.to(device), p.to(device),y.to(device)\n",
    "\n",
    "                i += 1\n",
    "                # zero the parameter gradients\n",
    "                optimizer.zero_grad()\n",
    "\n",
    "                # forward + backward + optimize\n",
    "                outputs = m(Variable(x),Variable(p))\n",
    "                loss = criterion(outputs,Variable(y.long()).unsqueeze(1))\n",
    "                loss.backward()\n",
    "                optimizer.step()\n",
    "\n",
    "                pbar.update()\n",
    "\n",
    "                # print statistics\n",
    "                running_loss += loss.item()\n",
    "                if i % 20 == 19:    # print every 20 mini-batches\n",
    "                    print('[%d, %5d]  Train MSE loss: %.3f' %\n",
    "                          (epoch + 1, i + 1, running_loss / 20))\n",
    "                    losslog.append(running_loss/20)\n",
    "                    running_loss = 0.0\n",
    "                    \n",
    "            #Eval\n",
    "        with tqdm(total=len(X_val)) as pbar:\n",
    "            with torch.no_grad():\n",
    "                predicted =[]\n",
    "                for i, ( x, p, y) in enumerate(zip(X_val,param_val,y_val)):\n",
    "                    x,p,y = x.to(device), p.to(device),y.to(device)\n",
    "\n",
    "                    # forward + backward + optimize\n",
    "                    outputs = m(x,p)\n",
    "                    pred = outputs.squeeze(1).cpu().numpy().tolist()\n",
    "                    predicted.append(pred)\n",
    "                    pbar.update()\n",
    "\n",
    "                predicted = list(chain.from_iterable(predicted))\n",
    "                valloss = ((predicted-y_val.dataset) **2).mean()\n",
    "                #valloss = abs(predicted-y_val.dataset).sum()/len(y_val.dataset)\n",
    "                vallog.append(valloss)\n",
    "                print(f'Val MSE loss: {valloss}')\n",
    "            \n",
    "    print('Finished Training')\n",
    "    return losslog,vallog"
   ]
  },
  {
   "cell_type": "code",
   "execution_count": 61,
   "metadata": {},
   "outputs": [
    {
     "name": "stdout",
     "output_type": "stream",
     "text": [
      "  0%|          | 0/65 [00:00<?, ?it/s]\n"
     ]
    },
    {
     "ename": "RuntimeError",
     "evalue": "cuda runtime error (2) : out of memory at /opt/conda/conda-bld/pytorch_1524586445097/work/aten/src/THC/generic/THCStorage.cu:58",
     "output_type": "error",
     "traceback": [
      "\u001b[0;31m---------------------------------------------------------------------------\u001b[0m",
      "\u001b[0;31mRuntimeError\u001b[0m                              Traceback (most recent call last)",
      "\u001b[0;32m<ipython-input-61-a640e40ac557>\u001b[0m in \u001b[0;36m<module>\u001b[0;34m()\u001b[0m\n\u001b[0;32m----> 1\u001b[0;31m \u001b[0mMUL\u001b[0m \u001b[0;34m=\u001b[0m \u001b[0mtrain\u001b[0m\u001b[0;34m(\u001b[0m\u001b[0;36m1\u001b[0m\u001b[0;34m)\u001b[0m\u001b[0;34m\u001b[0m\u001b[0m\n\u001b[0m",
      "\u001b[0;32m<ipython-input-60-0dde1cf210f0>\u001b[0m in \u001b[0;36mtrain\u001b[0;34m(niter)\u001b[0m\n\u001b[1;32m     28\u001b[0m \u001b[0;34m\u001b[0m\u001b[0m\n\u001b[1;32m     29\u001b[0m                 \u001b[0;31m# forward + backward + optimize\u001b[0m\u001b[0;34m\u001b[0m\u001b[0;34m\u001b[0m\u001b[0m\n\u001b[0;32m---> 30\u001b[0;31m                 \u001b[0moutputs\u001b[0m \u001b[0;34m=\u001b[0m \u001b[0mm\u001b[0m\u001b[0;34m(\u001b[0m\u001b[0mVariable\u001b[0m\u001b[0;34m(\u001b[0m\u001b[0mx\u001b[0m\u001b[0;34m)\u001b[0m\u001b[0;34m,\u001b[0m\u001b[0mVariable\u001b[0m\u001b[0;34m(\u001b[0m\u001b[0mp\u001b[0m\u001b[0;34m)\u001b[0m\u001b[0;34m)\u001b[0m\u001b[0;34m\u001b[0m\u001b[0m\n\u001b[0m\u001b[1;32m     31\u001b[0m                 \u001b[0mloss\u001b[0m \u001b[0;34m=\u001b[0m \u001b[0mcriterion\u001b[0m\u001b[0;34m(\u001b[0m\u001b[0moutputs\u001b[0m\u001b[0;34m,\u001b[0m\u001b[0mVariable\u001b[0m\u001b[0;34m(\u001b[0m\u001b[0my\u001b[0m\u001b[0;34m.\u001b[0m\u001b[0mlong\u001b[0m\u001b[0;34m(\u001b[0m\u001b[0;34m)\u001b[0m\u001b[0;34m)\u001b[0m\u001b[0;34m.\u001b[0m\u001b[0munsqueeze\u001b[0m\u001b[0;34m(\u001b[0m\u001b[0;36m1\u001b[0m\u001b[0;34m)\u001b[0m\u001b[0;34m)\u001b[0m\u001b[0;34m\u001b[0m\u001b[0m\n\u001b[1;32m     32\u001b[0m                 \u001b[0mloss\u001b[0m\u001b[0;34m.\u001b[0m\u001b[0mbackward\u001b[0m\u001b[0;34m(\u001b[0m\u001b[0;34m)\u001b[0m\u001b[0;34m\u001b[0m\u001b[0m\n",
      "\u001b[0;32m~/anaconda3/envs/fastai/lib/python3.6/site-packages/torch/nn/modules/module.py\u001b[0m in \u001b[0;36m__call__\u001b[0;34m(self, *input, **kwargs)\u001b[0m\n\u001b[1;32m    489\u001b[0m             \u001b[0mresult\u001b[0m \u001b[0;34m=\u001b[0m \u001b[0mself\u001b[0m\u001b[0;34m.\u001b[0m\u001b[0m_slow_forward\u001b[0m\u001b[0;34m(\u001b[0m\u001b[0;34m*\u001b[0m\u001b[0minput\u001b[0m\u001b[0;34m,\u001b[0m \u001b[0;34m**\u001b[0m\u001b[0mkwargs\u001b[0m\u001b[0;34m)\u001b[0m\u001b[0;34m\u001b[0m\u001b[0m\n\u001b[1;32m    490\u001b[0m         \u001b[0;32melse\u001b[0m\u001b[0;34m:\u001b[0m\u001b[0;34m\u001b[0m\u001b[0m\n\u001b[0;32m--> 491\u001b[0;31m             \u001b[0mresult\u001b[0m \u001b[0;34m=\u001b[0m \u001b[0mself\u001b[0m\u001b[0;34m.\u001b[0m\u001b[0mforward\u001b[0m\u001b[0;34m(\u001b[0m\u001b[0;34m*\u001b[0m\u001b[0minput\u001b[0m\u001b[0;34m,\u001b[0m \u001b[0;34m**\u001b[0m\u001b[0mkwargs\u001b[0m\u001b[0;34m)\u001b[0m\u001b[0;34m\u001b[0m\u001b[0m\n\u001b[0m\u001b[1;32m    492\u001b[0m         \u001b[0;32mfor\u001b[0m \u001b[0mhook\u001b[0m \u001b[0;32min\u001b[0m \u001b[0mself\u001b[0m\u001b[0;34m.\u001b[0m\u001b[0m_forward_hooks\u001b[0m\u001b[0;34m.\u001b[0m\u001b[0mvalues\u001b[0m\u001b[0;34m(\u001b[0m\u001b[0;34m)\u001b[0m\u001b[0;34m:\u001b[0m\u001b[0;34m\u001b[0m\u001b[0m\n\u001b[1;32m    493\u001b[0m             \u001b[0mhook_result\u001b[0m \u001b[0;34m=\u001b[0m \u001b[0mhook\u001b[0m\u001b[0;34m(\u001b[0m\u001b[0mself\u001b[0m\u001b[0;34m,\u001b[0m \u001b[0minput\u001b[0m\u001b[0;34m,\u001b[0m \u001b[0mresult\u001b[0m\u001b[0;34m)\u001b[0m\u001b[0;34m\u001b[0m\u001b[0m\n",
      "\u001b[0;32m<ipython-input-42-69f5ea9f4a24>\u001b[0m in \u001b[0;36mforward\u001b[0;34m(self, x, y)\u001b[0m\n\u001b[1;32m     32\u001b[0m     \u001b[0;32mdef\u001b[0m \u001b[0mforward\u001b[0m\u001b[0;34m(\u001b[0m\u001b[0mself\u001b[0m\u001b[0;34m,\u001b[0m \u001b[0mx\u001b[0m\u001b[0;34m,\u001b[0m \u001b[0my\u001b[0m\u001b[0;34m)\u001b[0m\u001b[0;34m:\u001b[0m\u001b[0;34m\u001b[0m\u001b[0m\n\u001b[1;32m     33\u001b[0m         \u001b[0mx\u001b[0m \u001b[0;34m=\u001b[0m \u001b[0mx\u001b[0m\u001b[0;34m.\u001b[0m\u001b[0munsqueeze\u001b[0m\u001b[0;34m(\u001b[0m\u001b[0;36m1\u001b[0m\u001b[0;34m)\u001b[0m\u001b[0;34m\u001b[0m\u001b[0m\n\u001b[0;32m---> 34\u001b[0;31m         \u001b[0mx1\u001b[0m \u001b[0;34m=\u001b[0m \u001b[0mself\u001b[0m\u001b[0;34m.\u001b[0m\u001b[0mfeatures\u001b[0m\u001b[0;34m(\u001b[0m\u001b[0mx\u001b[0m\u001b[0;34m)\u001b[0m\u001b[0;34m\u001b[0m\u001b[0m\n\u001b[0m\u001b[1;32m     35\u001b[0m         \u001b[0mx\u001b[0m \u001b[0;34m=\u001b[0m \u001b[0mtorch\u001b[0m\u001b[0;34m.\u001b[0m\u001b[0mcat\u001b[0m\u001b[0;34m(\u001b[0m\u001b[0;34m(\u001b[0m\u001b[0mx1\u001b[0m\u001b[0;34m,\u001b[0m\u001b[0my\u001b[0m\u001b[0;34m[\u001b[0m\u001b[0;34m:\u001b[0m\u001b[0;34m,\u001b[0m\u001b[0;34m:\u001b[0m\u001b[0;34m,\u001b[0m\u001b[0;36m0\u001b[0m\u001b[0;34m]\u001b[0m\u001b[0;34m,\u001b[0m\u001b[0my\u001b[0m\u001b[0;34m[\u001b[0m\u001b[0;34m:\u001b[0m\u001b[0;34m,\u001b[0m\u001b[0;34m:\u001b[0m\u001b[0;34m,\u001b[0m\u001b[0;36m1\u001b[0m\u001b[0;34m]\u001b[0m\u001b[0;34m,\u001b[0m\u001b[0my\u001b[0m\u001b[0;34m[\u001b[0m\u001b[0;34m:\u001b[0m\u001b[0;34m,\u001b[0m\u001b[0;34m:\u001b[0m\u001b[0;34m,\u001b[0m\u001b[0;36m2\u001b[0m\u001b[0;34m]\u001b[0m\u001b[0;34m)\u001b[0m\u001b[0;34m,\u001b[0m\u001b[0;36m1\u001b[0m\u001b[0;34m)\u001b[0m\u001b[0;34m\u001b[0m\u001b[0m\n\u001b[1;32m     36\u001b[0m         \u001b[0mx\u001b[0m \u001b[0;34m=\u001b[0m \u001b[0mself\u001b[0m\u001b[0;34m.\u001b[0m\u001b[0mfc1\u001b[0m\u001b[0;34m(\u001b[0m\u001b[0mx\u001b[0m\u001b[0;34m)\u001b[0m\u001b[0;34m\u001b[0m\u001b[0m\n",
      "\u001b[0;32m~/anaconda3/envs/fastai/lib/python3.6/site-packages/torch/nn/modules/module.py\u001b[0m in \u001b[0;36m__call__\u001b[0;34m(self, *input, **kwargs)\u001b[0m\n\u001b[1;32m    489\u001b[0m             \u001b[0mresult\u001b[0m \u001b[0;34m=\u001b[0m \u001b[0mself\u001b[0m\u001b[0;34m.\u001b[0m\u001b[0m_slow_forward\u001b[0m\u001b[0;34m(\u001b[0m\u001b[0;34m*\u001b[0m\u001b[0minput\u001b[0m\u001b[0;34m,\u001b[0m \u001b[0;34m**\u001b[0m\u001b[0mkwargs\u001b[0m\u001b[0;34m)\u001b[0m\u001b[0;34m\u001b[0m\u001b[0m\n\u001b[1;32m    490\u001b[0m         \u001b[0;32melse\u001b[0m\u001b[0;34m:\u001b[0m\u001b[0;34m\u001b[0m\u001b[0m\n\u001b[0;32m--> 491\u001b[0;31m             \u001b[0mresult\u001b[0m \u001b[0;34m=\u001b[0m \u001b[0mself\u001b[0m\u001b[0;34m.\u001b[0m\u001b[0mforward\u001b[0m\u001b[0;34m(\u001b[0m\u001b[0;34m*\u001b[0m\u001b[0minput\u001b[0m\u001b[0;34m,\u001b[0m \u001b[0;34m**\u001b[0m\u001b[0mkwargs\u001b[0m\u001b[0;34m)\u001b[0m\u001b[0;34m\u001b[0m\u001b[0m\n\u001b[0m\u001b[1;32m    492\u001b[0m         \u001b[0;32mfor\u001b[0m \u001b[0mhook\u001b[0m \u001b[0;32min\u001b[0m \u001b[0mself\u001b[0m\u001b[0;34m.\u001b[0m\u001b[0m_forward_hooks\u001b[0m\u001b[0;34m.\u001b[0m\u001b[0mvalues\u001b[0m\u001b[0;34m(\u001b[0m\u001b[0;34m)\u001b[0m\u001b[0;34m:\u001b[0m\u001b[0;34m\u001b[0m\u001b[0m\n\u001b[1;32m    493\u001b[0m             \u001b[0mhook_result\u001b[0m \u001b[0;34m=\u001b[0m \u001b[0mhook\u001b[0m\u001b[0;34m(\u001b[0m\u001b[0mself\u001b[0m\u001b[0;34m,\u001b[0m \u001b[0minput\u001b[0m\u001b[0;34m,\u001b[0m \u001b[0mresult\u001b[0m\u001b[0;34m)\u001b[0m\u001b[0;34m\u001b[0m\u001b[0m\n",
      "\u001b[0;32m~/anaconda3/envs/fastai/lib/python3.6/site-packages/torch/nn/modules/container.py\u001b[0m in \u001b[0;36mforward\u001b[0;34m(self, input)\u001b[0m\n\u001b[1;32m     89\u001b[0m     \u001b[0;32mdef\u001b[0m \u001b[0mforward\u001b[0m\u001b[0;34m(\u001b[0m\u001b[0mself\u001b[0m\u001b[0;34m,\u001b[0m \u001b[0minput\u001b[0m\u001b[0;34m)\u001b[0m\u001b[0;34m:\u001b[0m\u001b[0;34m\u001b[0m\u001b[0m\n\u001b[1;32m     90\u001b[0m         \u001b[0;32mfor\u001b[0m \u001b[0mmodule\u001b[0m \u001b[0;32min\u001b[0m \u001b[0mself\u001b[0m\u001b[0;34m.\u001b[0m\u001b[0m_modules\u001b[0m\u001b[0;34m.\u001b[0m\u001b[0mvalues\u001b[0m\u001b[0;34m(\u001b[0m\u001b[0;34m)\u001b[0m\u001b[0;34m:\u001b[0m\u001b[0;34m\u001b[0m\u001b[0m\n\u001b[0;32m---> 91\u001b[0;31m             \u001b[0minput\u001b[0m \u001b[0;34m=\u001b[0m \u001b[0mmodule\u001b[0m\u001b[0;34m(\u001b[0m\u001b[0minput\u001b[0m\u001b[0;34m)\u001b[0m\u001b[0;34m\u001b[0m\u001b[0m\n\u001b[0m\u001b[1;32m     92\u001b[0m         \u001b[0;32mreturn\u001b[0m \u001b[0minput\u001b[0m\u001b[0;34m\u001b[0m\u001b[0m\n\u001b[1;32m     93\u001b[0m \u001b[0;34m\u001b[0m\u001b[0m\n",
      "\u001b[0;32m~/anaconda3/envs/fastai/lib/python3.6/site-packages/torch/nn/modules/module.py\u001b[0m in \u001b[0;36m__call__\u001b[0;34m(self, *input, **kwargs)\u001b[0m\n\u001b[1;32m    489\u001b[0m             \u001b[0mresult\u001b[0m \u001b[0;34m=\u001b[0m \u001b[0mself\u001b[0m\u001b[0;34m.\u001b[0m\u001b[0m_slow_forward\u001b[0m\u001b[0;34m(\u001b[0m\u001b[0;34m*\u001b[0m\u001b[0minput\u001b[0m\u001b[0;34m,\u001b[0m \u001b[0;34m**\u001b[0m\u001b[0mkwargs\u001b[0m\u001b[0;34m)\u001b[0m\u001b[0;34m\u001b[0m\u001b[0m\n\u001b[1;32m    490\u001b[0m         \u001b[0;32melse\u001b[0m\u001b[0;34m:\u001b[0m\u001b[0;34m\u001b[0m\u001b[0m\n\u001b[0;32m--> 491\u001b[0;31m             \u001b[0mresult\u001b[0m \u001b[0;34m=\u001b[0m \u001b[0mself\u001b[0m\u001b[0;34m.\u001b[0m\u001b[0mforward\u001b[0m\u001b[0;34m(\u001b[0m\u001b[0;34m*\u001b[0m\u001b[0minput\u001b[0m\u001b[0;34m,\u001b[0m \u001b[0;34m**\u001b[0m\u001b[0mkwargs\u001b[0m\u001b[0;34m)\u001b[0m\u001b[0;34m\u001b[0m\u001b[0m\n\u001b[0m\u001b[1;32m    492\u001b[0m         \u001b[0;32mfor\u001b[0m \u001b[0mhook\u001b[0m \u001b[0;32min\u001b[0m \u001b[0mself\u001b[0m\u001b[0;34m.\u001b[0m\u001b[0m_forward_hooks\u001b[0m\u001b[0;34m.\u001b[0m\u001b[0mvalues\u001b[0m\u001b[0;34m(\u001b[0m\u001b[0;34m)\u001b[0m\u001b[0;34m:\u001b[0m\u001b[0;34m\u001b[0m\u001b[0m\n\u001b[1;32m    493\u001b[0m             \u001b[0mhook_result\u001b[0m \u001b[0;34m=\u001b[0m \u001b[0mhook\u001b[0m\u001b[0;34m(\u001b[0m\u001b[0mself\u001b[0m\u001b[0;34m,\u001b[0m \u001b[0minput\u001b[0m\u001b[0;34m,\u001b[0m \u001b[0mresult\u001b[0m\u001b[0;34m)\u001b[0m\u001b[0;34m\u001b[0m\u001b[0m\n",
      "\u001b[0;32m~/anaconda3/envs/fastai/lib/python3.6/site-packages/torch/nn/modules/container.py\u001b[0m in \u001b[0;36mforward\u001b[0;34m(self, input)\u001b[0m\n\u001b[1;32m     89\u001b[0m     \u001b[0;32mdef\u001b[0m \u001b[0mforward\u001b[0m\u001b[0;34m(\u001b[0m\u001b[0mself\u001b[0m\u001b[0;34m,\u001b[0m \u001b[0minput\u001b[0m\u001b[0;34m)\u001b[0m\u001b[0;34m:\u001b[0m\u001b[0;34m\u001b[0m\u001b[0m\n\u001b[1;32m     90\u001b[0m         \u001b[0;32mfor\u001b[0m \u001b[0mmodule\u001b[0m \u001b[0;32min\u001b[0m \u001b[0mself\u001b[0m\u001b[0;34m.\u001b[0m\u001b[0m_modules\u001b[0m\u001b[0;34m.\u001b[0m\u001b[0mvalues\u001b[0m\u001b[0;34m(\u001b[0m\u001b[0;34m)\u001b[0m\u001b[0;34m:\u001b[0m\u001b[0;34m\u001b[0m\u001b[0m\n\u001b[0;32m---> 91\u001b[0;31m             \u001b[0minput\u001b[0m \u001b[0;34m=\u001b[0m \u001b[0mmodule\u001b[0m\u001b[0;34m(\u001b[0m\u001b[0minput\u001b[0m\u001b[0;34m)\u001b[0m\u001b[0;34m\u001b[0m\u001b[0m\n\u001b[0m\u001b[1;32m     92\u001b[0m         \u001b[0;32mreturn\u001b[0m \u001b[0minput\u001b[0m\u001b[0;34m\u001b[0m\u001b[0m\n\u001b[1;32m     93\u001b[0m \u001b[0;34m\u001b[0m\u001b[0m\n",
      "\u001b[0;32m~/anaconda3/envs/fastai/lib/python3.6/site-packages/torch/nn/modules/module.py\u001b[0m in \u001b[0;36m__call__\u001b[0;34m(self, *input, **kwargs)\u001b[0m\n\u001b[1;32m    489\u001b[0m             \u001b[0mresult\u001b[0m \u001b[0;34m=\u001b[0m \u001b[0mself\u001b[0m\u001b[0;34m.\u001b[0m\u001b[0m_slow_forward\u001b[0m\u001b[0;34m(\u001b[0m\u001b[0;34m*\u001b[0m\u001b[0minput\u001b[0m\u001b[0;34m,\u001b[0m \u001b[0;34m**\u001b[0m\u001b[0mkwargs\u001b[0m\u001b[0;34m)\u001b[0m\u001b[0;34m\u001b[0m\u001b[0m\n\u001b[1;32m    490\u001b[0m         \u001b[0;32melse\u001b[0m\u001b[0;34m:\u001b[0m\u001b[0;34m\u001b[0m\u001b[0m\n\u001b[0;32m--> 491\u001b[0;31m             \u001b[0mresult\u001b[0m \u001b[0;34m=\u001b[0m \u001b[0mself\u001b[0m\u001b[0;34m.\u001b[0m\u001b[0mforward\u001b[0m\u001b[0;34m(\u001b[0m\u001b[0;34m*\u001b[0m\u001b[0minput\u001b[0m\u001b[0;34m,\u001b[0m \u001b[0;34m**\u001b[0m\u001b[0mkwargs\u001b[0m\u001b[0;34m)\u001b[0m\u001b[0;34m\u001b[0m\u001b[0m\n\u001b[0m\u001b[1;32m    492\u001b[0m         \u001b[0;32mfor\u001b[0m \u001b[0mhook\u001b[0m \u001b[0;32min\u001b[0m \u001b[0mself\u001b[0m\u001b[0;34m.\u001b[0m\u001b[0m_forward_hooks\u001b[0m\u001b[0;34m.\u001b[0m\u001b[0mvalues\u001b[0m\u001b[0;34m(\u001b[0m\u001b[0;34m)\u001b[0m\u001b[0;34m:\u001b[0m\u001b[0;34m\u001b[0m\u001b[0m\n\u001b[1;32m    493\u001b[0m             \u001b[0mhook_result\u001b[0m \u001b[0;34m=\u001b[0m \u001b[0mhook\u001b[0m\u001b[0;34m(\u001b[0m\u001b[0mself\u001b[0m\u001b[0;34m,\u001b[0m \u001b[0minput\u001b[0m\u001b[0;34m,\u001b[0m \u001b[0mresult\u001b[0m\u001b[0;34m)\u001b[0m\u001b[0;34m\u001b[0m\u001b[0m\n",
      "\u001b[0;32m~/anaconda3/envs/fastai/lib/python3.6/site-packages/torch/nn/modules/batchnorm.py\u001b[0m in \u001b[0;36mforward\u001b[0;34m(self, input)\u001b[0m\n\u001b[1;32m     47\u001b[0m         return F.batch_norm(\n\u001b[1;32m     48\u001b[0m             \u001b[0minput\u001b[0m\u001b[0;34m,\u001b[0m \u001b[0mself\u001b[0m\u001b[0;34m.\u001b[0m\u001b[0mrunning_mean\u001b[0m\u001b[0;34m,\u001b[0m \u001b[0mself\u001b[0m\u001b[0;34m.\u001b[0m\u001b[0mrunning_var\u001b[0m\u001b[0;34m,\u001b[0m \u001b[0mself\u001b[0m\u001b[0;34m.\u001b[0m\u001b[0mweight\u001b[0m\u001b[0;34m,\u001b[0m \u001b[0mself\u001b[0m\u001b[0;34m.\u001b[0m\u001b[0mbias\u001b[0m\u001b[0;34m,\u001b[0m\u001b[0;34m\u001b[0m\u001b[0m\n\u001b[0;32m---> 49\u001b[0;31m             self.training or not self.track_running_stats, self.momentum, self.eps)\n\u001b[0m\u001b[1;32m     50\u001b[0m \u001b[0;34m\u001b[0m\u001b[0m\n\u001b[1;32m     51\u001b[0m     \u001b[0;32mdef\u001b[0m \u001b[0mextra_repr\u001b[0m\u001b[0;34m(\u001b[0m\u001b[0mself\u001b[0m\u001b[0;34m)\u001b[0m\u001b[0;34m:\u001b[0m\u001b[0;34m\u001b[0m\u001b[0m\n",
      "\u001b[0;32m~/anaconda3/envs/fastai/lib/python3.6/site-packages/torch/nn/functional.py\u001b[0m in \u001b[0;36mbatch_norm\u001b[0;34m(input, running_mean, running_var, weight, bias, training, momentum, eps)\u001b[0m\n\u001b[1;32m   1192\u001b[0m     return torch.batch_norm(\n\u001b[1;32m   1193\u001b[0m         \u001b[0minput\u001b[0m\u001b[0;34m,\u001b[0m \u001b[0mweight\u001b[0m\u001b[0;34m,\u001b[0m \u001b[0mbias\u001b[0m\u001b[0;34m,\u001b[0m \u001b[0mrunning_mean\u001b[0m\u001b[0;34m,\u001b[0m \u001b[0mrunning_var\u001b[0m\u001b[0;34m,\u001b[0m\u001b[0;34m\u001b[0m\u001b[0m\n\u001b[0;32m-> 1194\u001b[0;31m         \u001b[0mtraining\u001b[0m\u001b[0;34m,\u001b[0m \u001b[0mmomentum\u001b[0m\u001b[0;34m,\u001b[0m \u001b[0meps\u001b[0m\u001b[0;34m,\u001b[0m \u001b[0mtorch\u001b[0m\u001b[0;34m.\u001b[0m\u001b[0mbackends\u001b[0m\u001b[0;34m.\u001b[0m\u001b[0mcudnn\u001b[0m\u001b[0;34m.\u001b[0m\u001b[0menabled\u001b[0m\u001b[0;34m\u001b[0m\u001b[0m\n\u001b[0m\u001b[1;32m   1195\u001b[0m     )\n\u001b[1;32m   1196\u001b[0m \u001b[0;34m\u001b[0m\u001b[0m\n",
      "\u001b[0;31mRuntimeError\u001b[0m: cuda runtime error (2) : out of memory at /opt/conda/conda-bld/pytorch_1524586445097/work/aten/src/THC/generic/THCStorage.cu:58"
     ]
    }
   ],
   "source": [
    "MUL = train(1)"
   ]
  },
  {
   "cell_type": "code",
   "execution_count": null,
   "metadata": {},
   "outputs": [],
   "source": []
  }
 ],
 "metadata": {
  "kernelspec": {
   "display_name": "Python 3",
   "language": "python",
   "name": "python3"
  },
  "language_info": {
   "codemirror_mode": {
    "name": "ipython",
    "version": 3
   },
   "file_extension": ".py",
   "mimetype": "text/x-python",
   "name": "python",
   "nbconvert_exporter": "python",
   "pygments_lexer": "ipython3",
   "version": "3.6.5"
  }
 },
 "nbformat": 4,
 "nbformat_minor": 2
}
